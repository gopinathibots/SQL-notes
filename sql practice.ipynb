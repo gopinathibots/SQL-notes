{
    "metadata": {
        "kernelspec": {
            "name": "SQL",
            "display_name": "SQL",
            "language": "sql"
        },
        "language_info": {
            "name": "sql",
            "version": ""
        }
    },
    "nbformat_minor": 2,
    "nbformat": 4,
    "cells": [
        {
            "cell_type": "markdown",
            "source": [
                "1.Database Creation;"
            ],
            "metadata": {
                "azdata_cell_guid": "65fbaac4-d588-4f9e-863a-73326264d90c"
            },
            "attachments": {}
        },
        {
            "cell_type": "code",
            "source": [
                "CREATE DATABASE EmployeDB;"
            ],
            "metadata": {
                "azdata_cell_guid": "04752ee6-392c-45cc-b2d0-1cc7b8a006f7",
                "language": "sql"
            },
            "outputs": [
                {
                    "output_type": "display_data",
                    "data": {
                        "text/html": "Commands completed successfully."
                    },
                    "metadata": {}
                },
                {
                    "output_type": "display_data",
                    "data": {
                        "text/html": "Total execution time: 00:00:00.190"
                    },
                    "metadata": {}
                }
            ],
            "execution_count": 1
        },
        {
            "cell_type": "markdown",
            "source": [
                "2.BACKUP DATABASE;"
            ],
            "metadata": {
                "azdata_cell_guid": "a8a50af4-a72d-42ce-a65a-5670ced108c9"
            },
            "attachments": {}
        },
        {
            "cell_type": "code",
            "source": [
                "BACKUP DATABASE EmployeDB\r\n",
                "TO DISK ='D:\\sql\\DATABASE';"
            ],
            "metadata": {
                "azdata_cell_guid": "15bd92dc-6080-41a1-84dd-af532600527e",
                "language": "sql",
                "tags": []
            },
            "outputs": [
                {
                    "output_type": "display_data",
                    "data": {
                        "text/html": "Processed 520 pages for database 'EmployeDB', file 'EmployeDB' on file 1."
                    },
                    "metadata": {}
                },
                {
                    "output_type": "display_data",
                    "data": {
                        "text/html": "Processed 1 pages for database 'EmployeDB', file 'EmployeDB_log' on file 1."
                    },
                    "metadata": {}
                },
                {
                    "output_type": "display_data",
                    "data": {
                        "text/html": "BACKUP DATABASE successfully processed 521 pages in 0.252 seconds (16.126 MB/sec)."
                    },
                    "metadata": {}
                },
                {
                    "output_type": "display_data",
                    "data": {
                        "text/html": "Total execution time: 00:00:00.630"
                    },
                    "metadata": {}
                }
            ],
            "execution_count": 11
        },
        {
            "cell_type": "code",
            "source": [
                "USE  EmployeDB;"
            ],
            "metadata": {
                "azdata_cell_guid": "2097d443-3dfb-47fa-8a9e-a391e29dd360",
                "language": "sql"
            },
            "outputs": [
                {
                    "output_type": "display_data",
                    "data": {
                        "text/html": "Commands completed successfully."
                    },
                    "metadata": {}
                },
                {
                    "output_type": "display_data",
                    "data": {
                        "text/html": "Total execution time: 00:00:00"
                    },
                    "metadata": {}
                }
            ],
            "execution_count": 47
        },
        {
            "cell_type": "markdown",
            "source": [
                "3.TABLE CREATION;"
            ],
            "metadata": {
                "azdata_cell_guid": "0175c7fe-c2c7-4dda-990a-d5fd75b3a5b1"
            },
            "attachments": {}
        },
        {
            "cell_type": "code",
            "source": [
                "CREATE TABLE EMPLOYE_DETAILS\r\n",
                "(\r\n",
                "    EID NUMERIC(4) PRIMARY KEY,\r\n",
                "    ENAME VARCHAR(15) NOT NULL,\r\n",
                "    JOB VARCHAR(15) NOT NULL,\r\n",
                "    PHONE_NO NUMERIC(10) UNIQUE,\r\n",
                "    AGE NUMERIC(2) NOT NULL CHECK(AGE>0),\r\n",
                "    SAL NUMERIC(5) CHECK(SAL>0),\r\n",
                "    MGR NUMERIC(4)\r\n",
                ");"
            ],
            "metadata": {
                "azdata_cell_guid": "4d7a5fbc-61ff-42fe-ab5a-20471d047348",
                "language": "sql",
                "tags": []
            },
            "outputs": [
                {
                    "output_type": "error",
                    "ename": "",
                    "evalue": "Msg 2714, Level 16, State 6, Line 1\r\nThere is already an object named 'EMPLOYE_DETAILS' in the database.",
                    "traceback": []
                },
                {
                    "output_type": "display_data",
                    "data": {
                        "text/html": "Total execution time: 00:00:00.006"
                    },
                    "metadata": {}
                }
            ],
            "execution_count": 48
        },
        {
            "cell_type": "markdown",
            "source": [
                "4.DROP COLUMN;"
            ],
            "metadata": {
                "azdata_cell_guid": "f3f6d59b-a38a-4ace-8ab6-9f73b444b167"
            },
            "attachments": {}
        },
        {
            "cell_type": "code",
            "source": [
                "ALTER TABLE EMPLOYE_DETAILS\r\n",
                "DROP COLUMN MGR ;"
            ],
            "metadata": {
                "azdata_cell_guid": "fe88f179-1905-4413-987f-75d7a1ce8d71",
                "language": "sql"
            },
            "outputs": [
                {
                    "output_type": "display_data",
                    "data": {
                        "text/html": "Commands completed successfully."
                    },
                    "metadata": {}
                },
                {
                    "output_type": "display_data",
                    "data": {
                        "text/html": "Total execution time: 00:00:00.009"
                    },
                    "metadata": {}
                }
            ],
            "execution_count": 49
        },
        {
            "cell_type": "markdown",
            "source": [
                "INSERT THE VALUES;"
            ],
            "metadata": {
                "azdata_cell_guid": "c4b29932-e7b6-48a2-bd6f-9065d39af799"
            },
            "attachments": {}
        },
        {
            "cell_type": "code",
            "source": [
                "INSERT INTO  EMPLOYE_DETAILS VALUES(1721,'ARUN','WEB DEVELOPER',9876543210,25,35000);\r\n",
                "INSERT INTO  EMPLOYE_DETAILS VALUES (1212,'VICKY','DATA ANALYST',9786534201,27,40000);\r\n",
                "INSERT INTO  EMPLOYE_DETAILS VALUES(1762,'AJAY','DATA SCIENTIET',8789321456,30,45000);\r\n",
                "INSERT INTO  EMPLOYE_DETAILS VALUES(1832,'SURYA','CLERK',6372456764,28,20000);\r\n",
                "INSERT INTO  EMPLOYE_DETAILS VALUES(1245,'VIJAY','WEB DEVELOPER',7367894567,27,25000);\r\n",
                "INSERT INTO  EMPLOYE_DETAILS VALUES(2121,'SANTHOSH','WEB DEVELOPER',9823543210,29,25000);\r\n",
                "INSERT INTO  EMPLOYE_DETAILS  VALUES (2212,'JEEVA','DATA ANALYST',9781534201,25,30000);\r\n",
                "INSERT INTO  EMPLOYE_DETAILS VALUES(3762,'TAMIL','DATA SCIENTIET',8780321456,34,25000);\r\n",
                "INSERT INTO  EMPLOYE_DETAILS VALUES(3832,'SANJAY','CLERK',6372556764,22,12000);\r\n",
                "INSERT INTO  EMPLOYE_DETAILS VALUES(3245,'MUTHU','WEB DEVELOPER',7361894567,36,25000);\r\n",
                "INSERT INTO  EMPLOYE_DETAILS  VALUES (4212,'PREM KUMAR','DATA ANALYST',9086534201,27,40000);\r\n",
                "INSERT INTO  EMPLOYE_DETAILS VALUES(4762,'CHANDRAN','DATA SCIENTIET',8789321406,30,45000);\r\n",
                "INSERT INTO  EMPLOYE_DETAILS VALUES(4832,'SHANKAR','CLERK',6372456064,28,20000);\r\n",
                "INSERT INTO  EMPLOYE_DETAILS VALUES( 5245,'DEEPAK','WEB DEVELOPER',7367894167,28,25000);"
            ],
            "metadata": {
                "azdata_cell_guid": "5a4e228f-b2b6-4b5e-922a-847d604bcccd",
                "language": "sql"
            },
            "outputs": [
                {
                    "output_type": "error",
                    "ename": "",
                    "evalue": "Msg 213, Level 16, State 1, Line 1\r\nColumn name or number of supplied values does not match table definition.",
                    "traceback": []
                },
                {
                    "output_type": "display_data",
                    "data": {
                        "text/html": "Total execution time: 00:00:00.002"
                    },
                    "metadata": {}
                }
            ],
            "execution_count": 50
        },
        {
            "cell_type": "code",
            "source": [
                "SELECT *\r\n",
                "FROM  EMPLOYE_DETAILS;"
            ],
            "metadata": {
                "azdata_cell_guid": "9195a45d-fcbc-441d-9358-5e47b562f247",
                "language": "sql"
            },
            "outputs": [
                {
                    "output_type": "display_data",
                    "data": {
                        "text/html": "(14 rows affected)"
                    },
                    "metadata": {}
                },
                {
                    "output_type": "display_data",
                    "data": {
                        "text/html": "Total execution time: 00:00:00.023"
                    },
                    "metadata": {}
                },
                {
                    "output_type": "execute_result",
                    "execution_count": 23,
                    "data": {
                        "application/vnd.dataresource+json": {
                            "schema": {
                                "fields": [
                                    {
                                        "name": "EID"
                                    },
                                    {
                                        "name": "ENAME"
                                    },
                                    {
                                        "name": "JOB"
                                    },
                                    {
                                        "name": "PHONE_NO"
                                    },
                                    {
                                        "name": "AGE"
                                    },
                                    {
                                        "name": "SAL"
                                    }
                                ]
                            },
                            "data": [
                                {
                                    "EID": "1212",
                                    "ENAME": "VICKY",
                                    "JOB": "DATA ANALYST",
                                    "PHONE_NO": "9786534201",
                                    "AGE": "27",
                                    "SAL": "40000"
                                },
                                {
                                    "EID": "1245",
                                    "ENAME": "VIJAY",
                                    "JOB": "WEB DEVELOPER",
                                    "PHONE_NO": "7367894567",
                                    "AGE": "27",
                                    "SAL": "25000"
                                },
                                {
                                    "EID": "1721",
                                    "ENAME": "ARUN",
                                    "JOB": "WEB DEVELOPER",
                                    "PHONE_NO": "9876543210",
                                    "AGE": "25",
                                    "SAL": "35000"
                                },
                                {
                                    "EID": "1762",
                                    "ENAME": "AJAY",
                                    "JOB": "DATA SCIENTIET",
                                    "PHONE_NO": "8789321456",
                                    "AGE": "30",
                                    "SAL": "45000"
                                },
                                {
                                    "EID": "1832",
                                    "ENAME": "SURYA",
                                    "JOB": "CLERK",
                                    "PHONE_NO": "6372456764",
                                    "AGE": "28",
                                    "SAL": "20000"
                                },
                                {
                                    "EID": "2121",
                                    "ENAME": "SANTHOSH",
                                    "JOB": "WEB DEVELOPER",
                                    "PHONE_NO": "9823543210",
                                    "AGE": "29",
                                    "SAL": "25000"
                                },
                                {
                                    "EID": "2212",
                                    "ENAME": "JEEVA",
                                    "JOB": "DATA ANALYST",
                                    "PHONE_NO": "9781534201",
                                    "AGE": "25",
                                    "SAL": "30000"
                                },
                                {
                                    "EID": "3245",
                                    "ENAME": "MUTHU",
                                    "JOB": "WEB DEVELOPER",
                                    "PHONE_NO": "7361894567",
                                    "AGE": "36",
                                    "SAL": "25000"
                                },
                                {
                                    "EID": "3762",
                                    "ENAME": "TAMIL",
                                    "JOB": "DATA SCIENTIET",
                                    "PHONE_NO": "8780321456",
                                    "AGE": "34",
                                    "SAL": "25000"
                                },
                                {
                                    "EID": "3832",
                                    "ENAME": "SANJAY",
                                    "JOB": "CLERK",
                                    "PHONE_NO": "6372556764",
                                    "AGE": "22",
                                    "SAL": "12000"
                                },
                                {
                                    "EID": "4212",
                                    "ENAME": "PREM KUMAR",
                                    "JOB": "DATA ANALYST",
                                    "PHONE_NO": "9086534201",
                                    "AGE": "27",
                                    "SAL": "40000"
                                },
                                {
                                    "EID": "4762",
                                    "ENAME": "CHANDRAN",
                                    "JOB": "DATA SCIENTIET",
                                    "PHONE_NO": "8789321406",
                                    "AGE": "30",
                                    "SAL": "45000"
                                },
                                {
                                    "EID": "4832",
                                    "ENAME": "SHANKAR",
                                    "JOB": "CLERK",
                                    "PHONE_NO": "6372456064",
                                    "AGE": "28",
                                    "SAL": "20000"
                                },
                                {
                                    "EID": "5245",
                                    "ENAME": "DEEPAK",
                                    "JOB": "WEB DEVELOPER",
                                    "PHONE_NO": "7367894167",
                                    "AGE": "28",
                                    "SAL": "25000"
                                }
                            ]
                        },
                        "text/html": "<table><tr><th>EID</th><th>ENAME</th><th>JOB</th><th>PHONE_NO</th><th>AGE</th><th>SAL</th></tr><tr><td>1212</td><td>VICKY</td><td>DATA ANALYST</td><td>9786534201</td><td>27</td><td>40000</td></tr><tr><td>1245</td><td>VIJAY</td><td>WEB DEVELOPER</td><td>7367894567</td><td>27</td><td>25000</td></tr><tr><td>1721</td><td>ARUN</td><td>WEB DEVELOPER</td><td>9876543210</td><td>25</td><td>35000</td></tr><tr><td>1762</td><td>AJAY</td><td>DATA SCIENTIET</td><td>8789321456</td><td>30</td><td>45000</td></tr><tr><td>1832</td><td>SURYA</td><td>CLERK</td><td>6372456764</td><td>28</td><td>20000</td></tr><tr><td>2121</td><td>SANTHOSH</td><td>WEB DEVELOPER</td><td>9823543210</td><td>29</td><td>25000</td></tr><tr><td>2212</td><td>JEEVA</td><td>DATA ANALYST</td><td>9781534201</td><td>25</td><td>30000</td></tr><tr><td>3245</td><td>MUTHU</td><td>WEB DEVELOPER</td><td>7361894567</td><td>36</td><td>25000</td></tr><tr><td>3762</td><td>TAMIL</td><td>DATA SCIENTIET</td><td>8780321456</td><td>34</td><td>25000</td></tr><tr><td>3832</td><td>SANJAY</td><td>CLERK</td><td>6372556764</td><td>22</td><td>12000</td></tr><tr><td>4212</td><td>PREM KUMAR</td><td>DATA ANALYST</td><td>9086534201</td><td>27</td><td>40000</td></tr><tr><td>4762</td><td>CHANDRAN</td><td>DATA SCIENTIET</td><td>8789321406</td><td>30</td><td>45000</td></tr><tr><td>4832</td><td>SHANKAR</td><td>CLERK</td><td>6372456064</td><td>28</td><td>20000</td></tr><tr><td>5245</td><td>DEEPAK</td><td>WEB DEVELOPER</td><td>7367894167</td><td>28</td><td>25000</td></tr></table>"
                    },
                    "metadata": {}
                }
            ],
            "execution_count": 23
        },
        {
            "cell_type": "markdown",
            "source": [
                "ADD COLUMN;"
            ],
            "metadata": {
                "azdata_cell_guid": "8028cae8-0f1e-41c2-a8dc-4ae3b7635255"
            },
            "attachments": {}
        },
        {
            "cell_type": "code",
            "source": [
                "ALTER TABLE  EMPLOYE_DETAILS\r\n",
                "ADD  HIREDATE DATE;"
            ],
            "metadata": {
                "azdata_cell_guid": "9336f855-96c0-4fdd-8cca-4455a1b3e9c1",
                "language": "sql"
            },
            "outputs": [
                {
                    "output_type": "display_data",
                    "data": {
                        "text/html": "Commands completed successfully."
                    },
                    "metadata": {}
                },
                {
                    "output_type": "display_data",
                    "data": {
                        "text/html": "Total execution time: 00:00:00.006"
                    },
                    "metadata": {}
                }
            ],
            "execution_count": 28
        },
        {
            "cell_type": "markdown",
            "source": [
                "UPDATE THE VALUES;"
            ],
            "metadata": {
                "azdata_cell_guid": "9ab42b1d-41f0-4a64-b1ec-c098da1f4d51"
            },
            "attachments": {}
        },
        {
            "cell_type": "code",
            "source": [
                "UPDATE  EMPLOYE_DETAILS\r\n",
                "SET HIREDATE='2019-08-20'\r\n",
                "WHERE ENAME='SURYA';"
            ],
            "metadata": {
                "azdata_cell_guid": "c0047954-a3ea-4877-9e56-2a5aeaf59b39",
                "language": "sql"
            },
            "outputs": [
                {
                    "output_type": "display_data",
                    "data": {
                        "text/html": "(1 row affected)"
                    },
                    "metadata": {}
                },
                {
                    "output_type": "display_data",
                    "data": {
                        "text/html": "Total execution time: 00:00:00.011"
                    },
                    "metadata": {}
                }
            ],
            "execution_count": 30
        },
        {
            "cell_type": "code",
            "source": [
                "UPDATE  EMPLOYE_DETAILS\r\n",
                "SET HIREDATE='2020-04-01'\r\n",
                "WHERE ENAME='VICKY';"
            ],
            "metadata": {
                "azdata_cell_guid": "b9109155-0205-4599-959a-e6bb82bcabb3",
                "language": "sql"
            },
            "outputs": [
                {
                    "output_type": "display_data",
                    "data": {
                        "text/html": "(1 row affected)"
                    },
                    "metadata": {}
                },
                {
                    "output_type": "display_data",
                    "data": {
                        "text/html": "Total execution time: 00:00:00.010"
                    },
                    "metadata": {}
                }
            ],
            "execution_count": 1
        },
        {
            "cell_type": "code",
            "source": [
                "UPDATE  EMPLOYE_DETAILS\r\n",
                "SET HIREDATE='2018-01-27'\r\n",
                "WHERE ENAME='VIJAY';"
            ],
            "metadata": {
                "azdata_cell_guid": "1f538575-a9d4-4c52-9ea5-5db52fba6a51",
                "language": "sql"
            },
            "outputs": [
                {
                    "output_type": "display_data",
                    "data": {
                        "text/html": "(1 row affected)"
                    },
                    "metadata": {}
                },
                {
                    "output_type": "display_data",
                    "data": {
                        "text/html": "Total execution time: 00:00:00.017"
                    },
                    "metadata": {}
                }
            ],
            "execution_count": 2
        },
        {
            "cell_type": "code",
            "source": [
                "UPDATE  EMPLOYE_DETAILS\r\n",
                "SET HIREDATE='2021-03-30'\r\n",
                "WHERE ENAME='ARUN';"
            ],
            "metadata": {
                "azdata_cell_guid": "5fa888ec-67b7-4eaf-be56-3fc7e695187d",
                "language": "sql"
            },
            "outputs": [
                {
                    "output_type": "display_data",
                    "data": {
                        "text/html": "(1 row affected)"
                    },
                    "metadata": {}
                },
                {
                    "output_type": "display_data",
                    "data": {
                        "text/html": "Total execution time: 00:00:00.021"
                    },
                    "metadata": {}
                }
            ],
            "execution_count": 3
        },
        {
            "cell_type": "code",
            "source": [
                "UPDATE  EMPLOYE_DETAILS\r\n",
                "SET HIREDATE='2019-08-20'\r\n",
                "WHERE ENAME='AJAY';"
            ],
            "metadata": {
                "azdata_cell_guid": "ca844a5c-348f-429f-933c-aa960548ceec",
                "language": "sql"
            },
            "outputs": [
                {
                    "output_type": "display_data",
                    "data": {
                        "text/html": "(1 row affected)"
                    },
                    "metadata": {}
                },
                {
                    "output_type": "display_data",
                    "data": {
                        "text/html": "Total execution time: 00:00:00.003"
                    },
                    "metadata": {}
                }
            ],
            "execution_count": 4
        },
        {
            "cell_type": "code",
            "source": [
                "UPDATE  EMPLOYE_DETAILS\r\n",
                "SET HIREDATE='2022-02-14'\r\n",
                "WHERE ENAME='SANTHOSH';"
            ],
            "metadata": {
                "azdata_cell_guid": "17b58fd2-b685-4c55-98b3-51db54024577",
                "language": "sql"
            },
            "outputs": [
                {
                    "output_type": "display_data",
                    "data": {
                        "text/html": "(1 row affected)"
                    },
                    "metadata": {}
                },
                {
                    "output_type": "display_data",
                    "data": {
                        "text/html": "Total execution time: 00:00:00.014"
                    },
                    "metadata": {}
                }
            ],
            "execution_count": 5
        },
        {
            "cell_type": "code",
            "source": [
                "UPDATE  EMPLOYE_DETAILS\r\n",
                "SET HIREDATE='2015-08-24'\r\n",
                "WHERE ENAME='JEEVA';"
            ],
            "metadata": {
                "azdata_cell_guid": "4732ac5f-e914-4efb-90b2-8858719cc8f9",
                "language": "sql"
            },
            "outputs": [
                {
                    "output_type": "display_data",
                    "data": {
                        "text/html": "(1 row affected)"
                    },
                    "metadata": {}
                },
                {
                    "output_type": "display_data",
                    "data": {
                        "text/html": "Total execution time: 00:00:00.006"
                    },
                    "metadata": {}
                }
            ],
            "execution_count": 6
        },
        {
            "cell_type": "code",
            "source": [
                "UPDATE  EMPLOYE_DETAILS\r\n",
                "SET HIREDATE='2016-06-20'\r\n",
                "WHERE ENAME='MUTHU';"
            ],
            "metadata": {
                "azdata_cell_guid": "8b2c4b9b-ad5e-43f6-b290-612f13d82373",
                "language": "sql"
            },
            "outputs": [
                {
                    "output_type": "display_data",
                    "data": {
                        "text/html": "(1 row affected)"
                    },
                    "metadata": {}
                },
                {
                    "output_type": "display_data",
                    "data": {
                        "text/html": "Total execution time: 00:00:00.004"
                    },
                    "metadata": {}
                }
            ],
            "execution_count": 7
        },
        {
            "cell_type": "code",
            "source": [
                "UPDATE  EMPLOYE_DETAILS\r\n",
                "SET HIREDATE='2015-08-24'\r\n",
                "WHERE ENAME='TAMIL';"
            ],
            "metadata": {
                "azdata_cell_guid": "06f33b16-3ba2-4d9a-bace-3aae97aeea51",
                "language": "sql"
            },
            "outputs": [
                {
                    "output_type": "display_data",
                    "data": {
                        "text/html": "(1 row affected)"
                    },
                    "metadata": {}
                },
                {
                    "output_type": "display_data",
                    "data": {
                        "text/html": "Total execution time: 00:00:00.008"
                    },
                    "metadata": {}
                }
            ],
            "execution_count": 8
        },
        {
            "cell_type": "code",
            "source": [
                "UPDATE  EMPLOYE_DETAILS\r\n",
                "SET HIREDATE='2019-06-11'\r\n",
                "WHERE ENAME='SANJAY';"
            ],
            "metadata": {
                "azdata_cell_guid": "f7308bb3-1ec5-401d-ab84-1432d2b2a708",
                "language": "sql"
            },
            "outputs": [
                {
                    "output_type": "display_data",
                    "data": {
                        "text/html": "(1 row affected)"
                    },
                    "metadata": {}
                },
                {
                    "output_type": "display_data",
                    "data": {
                        "text/html": "Total execution time: 00:00:00.016"
                    },
                    "metadata": {}
                }
            ],
            "execution_count": 9
        },
        {
            "cell_type": "code",
            "source": [
                "UPDATE  EMPLOYE_DETAILS\r\n",
                "SET HIREDATE='2023-04-20'\r\n",
                "WHERE ENAME='PREM KUMAR';"
            ],
            "metadata": {
                "azdata_cell_guid": "8d12c1c3-79fd-4886-8e24-724d486c1d03",
                "language": "sql"
            },
            "outputs": [
                {
                    "output_type": "display_data",
                    "data": {
                        "text/html": "(1 row affected)"
                    },
                    "metadata": {}
                },
                {
                    "output_type": "display_data",
                    "data": {
                        "text/html": "Total execution time: 00:00:00.015"
                    },
                    "metadata": {}
                }
            ],
            "execution_count": 10
        },
        {
            "cell_type": "code",
            "source": [
                "UPDATE  EMPLOYE_DETAILS\r\n",
                "SET HIREDATE='2017-11-27'\r\n",
                "WHERE ENAME='CHANDRAN';"
            ],
            "metadata": {
                "azdata_cell_guid": "87903a46-e9ec-4182-8b79-796b5c8aaaaf",
                "language": "sql"
            },
            "outputs": [
                {
                    "output_type": "display_data",
                    "data": {
                        "text/html": "(1 row affected)"
                    },
                    "metadata": {}
                },
                {
                    "output_type": "display_data",
                    "data": {
                        "text/html": "Total execution time: 00:00:00.011"
                    },
                    "metadata": {}
                }
            ],
            "execution_count": 11
        },
        {
            "cell_type": "code",
            "source": [
                "UPDATE  EMPLOYE_DETAILS\r\n",
                "SET HIREDATE='2013-10-15'\r\n",
                "WHERE ENAME='SHANKAR';"
            ],
            "metadata": {
                "azdata_cell_guid": "bd0e5c44-a07a-4d31-be45-17bb1645b8b5",
                "language": "sql"
            },
            "outputs": [
                {
                    "output_type": "display_data",
                    "data": {
                        "text/html": "(1 row affected)"
                    },
                    "metadata": {}
                },
                {
                    "output_type": "display_data",
                    "data": {
                        "text/html": "Total execution time: 00:00:00.011"
                    },
                    "metadata": {}
                }
            ],
            "execution_count": 12
        },
        {
            "cell_type": "code",
            "source": [
                "UPDATE  EMPLOYE_DETAILS\r\n",
                "SET HIREDATE='2014-11-08'\r\n",
                "WHERE ENAME='DEEPAK';"
            ],
            "metadata": {
                "azdata_cell_guid": "5abf297a-b7ad-4b6d-9bd2-7278350146e2",
                "language": "sql"
            },
            "outputs": [
                {
                    "output_type": "display_data",
                    "data": {
                        "text/html": "(1 row affected)"
                    },
                    "metadata": {}
                },
                {
                    "output_type": "display_data",
                    "data": {
                        "text/html": "Total execution time: 00:00:00.020"
                    },
                    "metadata": {}
                }
            ],
            "execution_count": 13
        },
        {
            "cell_type": "code",
            "source": [
                "SELECT *\r\n",
                "FROM EMPLOYE_DETAILS;"
            ],
            "metadata": {
                "azdata_cell_guid": "31eeef66-a1c1-417b-8f50-74ee51236007",
                "language": "sql"
            },
            "outputs": [
                {
                    "output_type": "display_data",
                    "data": {
                        "text/html": "(14 rows affected)"
                    },
                    "metadata": {}
                },
                {
                    "output_type": "display_data",
                    "data": {
                        "text/html": "Total execution time: 00:00:00.056"
                    },
                    "metadata": {}
                },
                {
                    "output_type": "execute_result",
                    "execution_count": 14,
                    "data": {
                        "application/vnd.dataresource+json": {
                            "schema": {
                                "fields": [
                                    {
                                        "name": "EID"
                                    },
                                    {
                                        "name": "ENAME"
                                    },
                                    {
                                        "name": "JOB"
                                    },
                                    {
                                        "name": "PHONE_NO"
                                    },
                                    {
                                        "name": "AGE"
                                    },
                                    {
                                        "name": "SAL"
                                    },
                                    {
                                        "name": "HIREDATE"
                                    }
                                ]
                            },
                            "data": [
                                {
                                    "EID": "1212",
                                    "ENAME": "VICKY",
                                    "JOB": "DATA ANALYST",
                                    "PHONE_NO": "9786534201",
                                    "AGE": "27",
                                    "SAL": "40000",
                                    "HIREDATE": "2020-04-01"
                                },
                                {
                                    "EID": "1245",
                                    "ENAME": "VIJAY",
                                    "JOB": "WEB DEVELOPER",
                                    "PHONE_NO": "7367894567",
                                    "AGE": "27",
                                    "SAL": "25000",
                                    "HIREDATE": "2018-01-27"
                                },
                                {
                                    "EID": "1721",
                                    "ENAME": "ARUN",
                                    "JOB": "WEB DEVELOPER",
                                    "PHONE_NO": "9876543210",
                                    "AGE": "25",
                                    "SAL": "35000",
                                    "HIREDATE": "2021-03-30"
                                },
                                {
                                    "EID": "1762",
                                    "ENAME": "AJAY",
                                    "JOB": "DATA SCIENTIET",
                                    "PHONE_NO": "8789321456",
                                    "AGE": "30",
                                    "SAL": "45000",
                                    "HIREDATE": "2019-08-20"
                                },
                                {
                                    "EID": "1832",
                                    "ENAME": "SURYA",
                                    "JOB": "CLERK",
                                    "PHONE_NO": "6372456764",
                                    "AGE": "28",
                                    "SAL": "20000",
                                    "HIREDATE": "2019-08-20"
                                },
                                {
                                    "EID": "2121",
                                    "ENAME": "SANTHOSH",
                                    "JOB": "WEB DEVELOPER",
                                    "PHONE_NO": "9823543210",
                                    "AGE": "29",
                                    "SAL": "25000",
                                    "HIREDATE": "2022-02-14"
                                },
                                {
                                    "EID": "2212",
                                    "ENAME": "JEEVA",
                                    "JOB": "DATA ANALYST",
                                    "PHONE_NO": "9781534201",
                                    "AGE": "25",
                                    "SAL": "30000",
                                    "HIREDATE": "2015-08-24"
                                },
                                {
                                    "EID": "3245",
                                    "ENAME": "MUTHU",
                                    "JOB": "WEB DEVELOPER",
                                    "PHONE_NO": "7361894567",
                                    "AGE": "36",
                                    "SAL": "25000",
                                    "HIREDATE": "2016-06-20"
                                },
                                {
                                    "EID": "3762",
                                    "ENAME": "TAMIL",
                                    "JOB": "DATA SCIENTIET",
                                    "PHONE_NO": "8780321456",
                                    "AGE": "34",
                                    "SAL": "25000",
                                    "HIREDATE": "2015-08-24"
                                },
                                {
                                    "EID": "3832",
                                    "ENAME": "SANJAY",
                                    "JOB": "CLERK",
                                    "PHONE_NO": "6372556764",
                                    "AGE": "22",
                                    "SAL": "12000",
                                    "HIREDATE": "2019-06-11"
                                },
                                {
                                    "EID": "4212",
                                    "ENAME": "PREM KUMAR",
                                    "JOB": "DATA ANALYST",
                                    "PHONE_NO": "9086534201",
                                    "AGE": "27",
                                    "SAL": "40000",
                                    "HIREDATE": "2023-04-20"
                                },
                                {
                                    "EID": "4762",
                                    "ENAME": "CHANDRAN",
                                    "JOB": "DATA SCIENTIET",
                                    "PHONE_NO": "8789321406",
                                    "AGE": "30",
                                    "SAL": "45000",
                                    "HIREDATE": "2017-11-27"
                                },
                                {
                                    "EID": "4832",
                                    "ENAME": "SHANKAR",
                                    "JOB": "CLERK",
                                    "PHONE_NO": "6372456064",
                                    "AGE": "28",
                                    "SAL": "20000",
                                    "HIREDATE": "2013-10-15"
                                },
                                {
                                    "EID": "5245",
                                    "ENAME": "DEEPAK",
                                    "JOB": "WEB DEVELOPER",
                                    "PHONE_NO": "7367894167",
                                    "AGE": "28",
                                    "SAL": "25000",
                                    "HIREDATE": "2014-11-08"
                                }
                            ]
                        },
                        "text/html": "<table><tr><th>EID</th><th>ENAME</th><th>JOB</th><th>PHONE_NO</th><th>AGE</th><th>SAL</th><th>HIREDATE</th></tr><tr><td>1212</td><td>VICKY</td><td>DATA ANALYST</td><td>9786534201</td><td>27</td><td>40000</td><td>2020-04-01</td></tr><tr><td>1245</td><td>VIJAY</td><td>WEB DEVELOPER</td><td>7367894567</td><td>27</td><td>25000</td><td>2018-01-27</td></tr><tr><td>1721</td><td>ARUN</td><td>WEB DEVELOPER</td><td>9876543210</td><td>25</td><td>35000</td><td>2021-03-30</td></tr><tr><td>1762</td><td>AJAY</td><td>DATA SCIENTIET</td><td>8789321456</td><td>30</td><td>45000</td><td>2019-08-20</td></tr><tr><td>1832</td><td>SURYA</td><td>CLERK</td><td>6372456764</td><td>28</td><td>20000</td><td>2019-08-20</td></tr><tr><td>2121</td><td>SANTHOSH</td><td>WEB DEVELOPER</td><td>9823543210</td><td>29</td><td>25000</td><td>2022-02-14</td></tr><tr><td>2212</td><td>JEEVA</td><td>DATA ANALYST</td><td>9781534201</td><td>25</td><td>30000</td><td>2015-08-24</td></tr><tr><td>3245</td><td>MUTHU</td><td>WEB DEVELOPER</td><td>7361894567</td><td>36</td><td>25000</td><td>2016-06-20</td></tr><tr><td>3762</td><td>TAMIL</td><td>DATA SCIENTIET</td><td>8780321456</td><td>34</td><td>25000</td><td>2015-08-24</td></tr><tr><td>3832</td><td>SANJAY</td><td>CLERK</td><td>6372556764</td><td>22</td><td>12000</td><td>2019-06-11</td></tr><tr><td>4212</td><td>PREM KUMAR</td><td>DATA ANALYST</td><td>9086534201</td><td>27</td><td>40000</td><td>2023-04-20</td></tr><tr><td>4762</td><td>CHANDRAN</td><td>DATA SCIENTIET</td><td>8789321406</td><td>30</td><td>45000</td><td>2017-11-27</td></tr><tr><td>4832</td><td>SHANKAR</td><td>CLERK</td><td>6372456064</td><td>28</td><td>20000</td><td>2013-10-15</td></tr><tr><td>5245</td><td>DEEPAK</td><td>WEB DEVELOPER</td><td>7367894167</td><td>28</td><td>25000</td><td>2014-11-08</td></tr></table>"
                    },
                    "metadata": {}
                }
            ],
            "execution_count": 14
        },
        {
            "cell_type": "markdown",
            "source": [
                "CREATE VIEWS\n",
                "\n",
                "NOTE;IF ANY CHANGES DONE IN VIEW IT AFFECT ORGINAL TABLE ALSO"
            ],
            "metadata": {
                "azdata_cell_guid": "449dce34-6b71-4ed0-bb0b-daf9243147f6"
            },
            "attachments": {}
        },
        {
            "cell_type": "code",
            "source": [
                "CREATE VIEW DATA_ANALYST AS\r\n",
                "SELECT *\r\n",
                "FROM EMPLOYE_DETAILS\r\n",
                "WHERE JOB='DATA ANALYST';"
            ],
            "metadata": {
                "azdata_cell_guid": "eb9afa79-c3f9-424c-bbb6-e473d5a776d8",
                "language": "sql"
            },
            "outputs": [
                {
                    "output_type": "display_data",
                    "data": {
                        "text/html": "Commands completed successfully."
                    },
                    "metadata": {}
                },
                {
                    "output_type": "display_data",
                    "data": {
                        "text/html": "Total execution time: 00:00:00.044"
                    },
                    "metadata": {}
                }
            ],
            "execution_count": 15
        },
        {
            "cell_type": "code",
            "source": [
                "SELECT *\r\n",
                "FROM DATA_ANALYST;"
            ],
            "metadata": {
                "azdata_cell_guid": "bdacac54-139f-4247-84d1-bd87541f2631",
                "language": "sql"
            },
            "outputs": [
                {
                    "output_type": "display_data",
                    "data": {
                        "text/html": "(3 rows affected)"
                    },
                    "metadata": {}
                },
                {
                    "output_type": "display_data",
                    "data": {
                        "text/html": "Total execution time: 00:00:00.022"
                    },
                    "metadata": {}
                },
                {
                    "output_type": "execute_result",
                    "execution_count": 17,
                    "data": {
                        "application/vnd.dataresource+json": {
                            "schema": {
                                "fields": [
                                    {
                                        "name": "EID"
                                    },
                                    {
                                        "name": "ENAME"
                                    },
                                    {
                                        "name": "JOB"
                                    },
                                    {
                                        "name": "PHONE_NO"
                                    },
                                    {
                                        "name": "AGE"
                                    },
                                    {
                                        "name": "SAL"
                                    },
                                    {
                                        "name": "HIREDATE"
                                    }
                                ]
                            },
                            "data": [
                                {
                                    "EID": "1212",
                                    "ENAME": "VICKY",
                                    "JOB": "DATA ANALYST",
                                    "PHONE_NO": "9786534201",
                                    "AGE": "27",
                                    "SAL": "40000",
                                    "HIREDATE": "2020-04-01"
                                },
                                {
                                    "EID": "2212",
                                    "ENAME": "JEEVA",
                                    "JOB": "DATA ANALYST",
                                    "PHONE_NO": "9781534201",
                                    "AGE": "25",
                                    "SAL": "30000",
                                    "HIREDATE": "2015-08-24"
                                },
                                {
                                    "EID": "4212",
                                    "ENAME": "PREM KUMAR",
                                    "JOB": "DATA ANALYST",
                                    "PHONE_NO": "9086534201",
                                    "AGE": "27",
                                    "SAL": "40000",
                                    "HIREDATE": "2023-04-20"
                                }
                            ]
                        },
                        "text/html": "<table><tr><th>EID</th><th>ENAME</th><th>JOB</th><th>PHONE_NO</th><th>AGE</th><th>SAL</th><th>HIREDATE</th></tr><tr><td>1212</td><td>VICKY</td><td>DATA ANALYST</td><td>9786534201</td><td>27</td><td>40000</td><td>2020-04-01</td></tr><tr><td>2212</td><td>JEEVA</td><td>DATA ANALYST</td><td>9781534201</td><td>25</td><td>30000</td><td>2015-08-24</td></tr><tr><td>4212</td><td>PREM KUMAR</td><td>DATA ANALYST</td><td>9086534201</td><td>27</td><td>40000</td><td>2023-04-20</td></tr></table>"
                    },
                    "metadata": {}
                }
            ],
            "execution_count": 17
        },
        {
            "cell_type": "code",
            "source": [
                "UPDATE DATA_ANALYST\r\n",
                "SET SAL=45000\r\n",
                "WHERE ENAME='VICKY';"
            ],
            "metadata": {
                "language": "sql",
                "azdata_cell_guid": "96ed6fc8-3fdc-46de-814b-9d099c9b133e"
            },
            "outputs": [
                {
                    "output_type": "display_data",
                    "data": {
                        "text/html": "(1 row affected)"
                    },
                    "metadata": {}
                },
                {
                    "output_type": "display_data",
                    "data": {
                        "text/html": "Total execution time: 00:00:00.005"
                    },
                    "metadata": {}
                }
            ],
            "execution_count": 17
        },
        {
            "cell_type": "code",
            "source": [
                "SELECT *\r\n",
                "FROM DATA_ANALYST;"
            ],
            "metadata": {
                "language": "sql",
                "azdata_cell_guid": "96859b22-3fd7-4b8b-9380-511ba142108c"
            },
            "outputs": [
                {
                    "output_type": "display_data",
                    "data": {
                        "text/html": "(3 rows affected)"
                    },
                    "metadata": {}
                },
                {
                    "output_type": "display_data",
                    "data": {
                        "text/html": "Total execution time: 00:00:00.008"
                    },
                    "metadata": {}
                },
                {
                    "output_type": "execute_result",
                    "execution_count": 19,
                    "data": {
                        "application/vnd.dataresource+json": {
                            "schema": {
                                "fields": [
                                    {
                                        "name": "EID"
                                    },
                                    {
                                        "name": "ENAME"
                                    },
                                    {
                                        "name": "JOB"
                                    },
                                    {
                                        "name": "PHONE_NO"
                                    },
                                    {
                                        "name": "AGE"
                                    },
                                    {
                                        "name": "SAL"
                                    },
                                    {
                                        "name": "HIREDATE"
                                    }
                                ]
                            },
                            "data": [
                                {
                                    "EID": "1212",
                                    "ENAME": "VICKY",
                                    "JOB": "DATA ANALYST",
                                    "PHONE_NO": "9786534201",
                                    "AGE": "27",
                                    "SAL": "45000",
                                    "HIREDATE": "2020-04-01"
                                },
                                {
                                    "EID": "2212",
                                    "ENAME": "JEEVA",
                                    "JOB": "DATA ANALYST",
                                    "PHONE_NO": "9781534201",
                                    "AGE": "25",
                                    "SAL": "30000",
                                    "HIREDATE": "2015-08-24"
                                },
                                {
                                    "EID": "4212",
                                    "ENAME": "PREM KUMAR",
                                    "JOB": "DATA ANALYST",
                                    "PHONE_NO": "9086534201",
                                    "AGE": "27",
                                    "SAL": "40000",
                                    "HIREDATE": "2023-04-20"
                                }
                            ]
                        },
                        "text/html": "<table><tr><th>EID</th><th>ENAME</th><th>JOB</th><th>PHONE_NO</th><th>AGE</th><th>SAL</th><th>HIREDATE</th></tr><tr><td>1212</td><td>VICKY</td><td>DATA ANALYST</td><td>9786534201</td><td>27</td><td>45000</td><td>2020-04-01</td></tr><tr><td>2212</td><td>JEEVA</td><td>DATA ANALYST</td><td>9781534201</td><td>25</td><td>30000</td><td>2015-08-24</td></tr><tr><td>4212</td><td>PREM KUMAR</td><td>DATA ANALYST</td><td>9086534201</td><td>27</td><td>40000</td><td>2023-04-20</td></tr></table>"
                    },
                    "metadata": {}
                }
            ],
            "execution_count": 19
        },
        {
            "cell_type": "code",
            "source": [
                "SELECT *\r\n",
                "FROM EMPLOYE_DETAILS;"
            ],
            "metadata": {
                "language": "sql",
                "azdata_cell_guid": "a8058610-9cac-4ff4-bbcc-f26fe95454de"
            },
            "outputs": [
                {
                    "output_type": "display_data",
                    "data": {
                        "text/html": "(14 rows affected)"
                    },
                    "metadata": {}
                },
                {
                    "output_type": "display_data",
                    "data": {
                        "text/html": "Total execution time: 00:00:00.008"
                    },
                    "metadata": {}
                },
                {
                    "output_type": "execute_result",
                    "execution_count": 20,
                    "data": {
                        "application/vnd.dataresource+json": {
                            "schema": {
                                "fields": [
                                    {
                                        "name": "EID"
                                    },
                                    {
                                        "name": "ENAME"
                                    },
                                    {
                                        "name": "JOB"
                                    },
                                    {
                                        "name": "PHONE_NO"
                                    },
                                    {
                                        "name": "AGE"
                                    },
                                    {
                                        "name": "SAL"
                                    },
                                    {
                                        "name": "HIREDATE"
                                    },
                                    {
                                        "name": "MID"
                                    }
                                ]
                            },
                            "data": [
                                {
                                    "EID": "1212",
                                    "ENAME": "VICKY",
                                    "JOB": "DATA ANALYST",
                                    "PHONE_NO": "9786534201",
                                    "AGE": "27",
                                    "SAL": "45000",
                                    "HIREDATE": "2020-04-01",
                                    "MID": "1122"
                                },
                                {
                                    "EID": "1245",
                                    "ENAME": "VIJAY",
                                    "JOB": "WEB DEVELOPER",
                                    "PHONE_NO": "7367894567",
                                    "AGE": "27",
                                    "SAL": "25000",
                                    "HIREDATE": "2018-01-27",
                                    "MID": "1123"
                                },
                                {
                                    "EID": "1721",
                                    "ENAME": "ARUN",
                                    "JOB": "WEB DEVELOPER",
                                    "PHONE_NO": "9876543210",
                                    "AGE": "25",
                                    "SAL": "35000",
                                    "HIREDATE": "2021-03-30",
                                    "MID": "1123"
                                },
                                {
                                    "EID": "1762",
                                    "ENAME": "AJAY",
                                    "JOB": "DATA SCIENTIET",
                                    "PHONE_NO": "8789321456",
                                    "AGE": "30",
                                    "SAL": "45000",
                                    "HIREDATE": "2019-08-20",
                                    "MID": "1124"
                                },
                                {
                                    "EID": "1832",
                                    "ENAME": "SURYA",
                                    "JOB": "CLERK",
                                    "PHONE_NO": "6372456764",
                                    "AGE": "28",
                                    "SAL": "20000",
                                    "HIREDATE": "2019-08-20",
                                    "MID": "NULL"
                                },
                                {
                                    "EID": "2121",
                                    "ENAME": "SANTHOSH",
                                    "JOB": "WEB DEVELOPER",
                                    "PHONE_NO": "9823543210",
                                    "AGE": "29",
                                    "SAL": "25000",
                                    "HIREDATE": "2022-02-14",
                                    "MID": "1123"
                                },
                                {
                                    "EID": "2212",
                                    "ENAME": "JEEVA",
                                    "JOB": "DATA ANALYST",
                                    "PHONE_NO": "9781534201",
                                    "AGE": "25",
                                    "SAL": "30000",
                                    "HIREDATE": "2015-08-24",
                                    "MID": "1122"
                                },
                                {
                                    "EID": "3245",
                                    "ENAME": "MUTHU",
                                    "JOB": "WEB DEVELOPER",
                                    "PHONE_NO": "7361894567",
                                    "AGE": "36",
                                    "SAL": "25000",
                                    "HIREDATE": "2016-06-20",
                                    "MID": "1123"
                                },
                                {
                                    "EID": "3762",
                                    "ENAME": "TAMIL",
                                    "JOB": "DATA SCIENTIET",
                                    "PHONE_NO": "8780321456",
                                    "AGE": "34",
                                    "SAL": "25000",
                                    "HIREDATE": "2015-08-24",
                                    "MID": "1124"
                                },
                                {
                                    "EID": "3832",
                                    "ENAME": "SANJAY",
                                    "JOB": "CLERK",
                                    "PHONE_NO": "6372556764",
                                    "AGE": "22",
                                    "SAL": "12000",
                                    "HIREDATE": "2019-06-11",
                                    "MID": "NULL"
                                },
                                {
                                    "EID": "4212",
                                    "ENAME": "PREM KUMAR",
                                    "JOB": "DATA ANALYST",
                                    "PHONE_NO": "9086534201",
                                    "AGE": "27",
                                    "SAL": "40000",
                                    "HIREDATE": "2023-04-20",
                                    "MID": "1122"
                                },
                                {
                                    "EID": "4762",
                                    "ENAME": "CHANDRAN",
                                    "JOB": "DATA SCIENTIET",
                                    "PHONE_NO": "8789321406",
                                    "AGE": "30",
                                    "SAL": "45000",
                                    "HIREDATE": "2017-11-27",
                                    "MID": "1124"
                                },
                                {
                                    "EID": "4832",
                                    "ENAME": "SHANKAR",
                                    "JOB": "CLERK",
                                    "PHONE_NO": "6372456064",
                                    "AGE": "28",
                                    "SAL": "20000",
                                    "HIREDATE": "2013-10-15",
                                    "MID": "NULL"
                                },
                                {
                                    "EID": "5245",
                                    "ENAME": "DEEPAK",
                                    "JOB": "WEB DEVELOPER",
                                    "PHONE_NO": "7367894167",
                                    "AGE": "28",
                                    "SAL": "25000",
                                    "HIREDATE": "2014-11-08",
                                    "MID": "1123"
                                }
                            ]
                        },
                        "text/html": "<table><tr><th>EID</th><th>ENAME</th><th>JOB</th><th>PHONE_NO</th><th>AGE</th><th>SAL</th><th>HIREDATE</th><th>MID</th></tr><tr><td>1212</td><td>VICKY</td><td>DATA ANALYST</td><td>9786534201</td><td>27</td><td>45000</td><td>2020-04-01</td><td>1122</td></tr><tr><td>1245</td><td>VIJAY</td><td>WEB DEVELOPER</td><td>7367894567</td><td>27</td><td>25000</td><td>2018-01-27</td><td>1123</td></tr><tr><td>1721</td><td>ARUN</td><td>WEB DEVELOPER</td><td>9876543210</td><td>25</td><td>35000</td><td>2021-03-30</td><td>1123</td></tr><tr><td>1762</td><td>AJAY</td><td>DATA SCIENTIET</td><td>8789321456</td><td>30</td><td>45000</td><td>2019-08-20</td><td>1124</td></tr><tr><td>1832</td><td>SURYA</td><td>CLERK</td><td>6372456764</td><td>28</td><td>20000</td><td>2019-08-20</td><td>NULL</td></tr><tr><td>2121</td><td>SANTHOSH</td><td>WEB DEVELOPER</td><td>9823543210</td><td>29</td><td>25000</td><td>2022-02-14</td><td>1123</td></tr><tr><td>2212</td><td>JEEVA</td><td>DATA ANALYST</td><td>9781534201</td><td>25</td><td>30000</td><td>2015-08-24</td><td>1122</td></tr><tr><td>3245</td><td>MUTHU</td><td>WEB DEVELOPER</td><td>7361894567</td><td>36</td><td>25000</td><td>2016-06-20</td><td>1123</td></tr><tr><td>3762</td><td>TAMIL</td><td>DATA SCIENTIET</td><td>8780321456</td><td>34</td><td>25000</td><td>2015-08-24</td><td>1124</td></tr><tr><td>3832</td><td>SANJAY</td><td>CLERK</td><td>6372556764</td><td>22</td><td>12000</td><td>2019-06-11</td><td>NULL</td></tr><tr><td>4212</td><td>PREM KUMAR</td><td>DATA ANALYST</td><td>9086534201</td><td>27</td><td>40000</td><td>2023-04-20</td><td>1122</td></tr><tr><td>4762</td><td>CHANDRAN</td><td>DATA SCIENTIET</td><td>8789321406</td><td>30</td><td>45000</td><td>2017-11-27</td><td>1124</td></tr><tr><td>4832</td><td>SHANKAR</td><td>CLERK</td><td>6372456064</td><td>28</td><td>20000</td><td>2013-10-15</td><td>NULL</td></tr><tr><td>5245</td><td>DEEPAK</td><td>WEB DEVELOPER</td><td>7367894167</td><td>28</td><td>25000</td><td>2014-11-08</td><td>1123</td></tr></table>"
                    },
                    "metadata": {}
                }
            ],
            "execution_count": 20
        },
        {
            "cell_type": "markdown",
            "source": [
                "MODIFY DATA TYPE;"
            ],
            "metadata": {
                "azdata_cell_guid": "ea3c02ba-ee3f-4463-97b6-b352ed7f2d5e"
            },
            "attachments": {}
        },
        {
            "cell_type": "code",
            "source": [
                "ALTER TABLE EMPLOYE_DETAILS\r\n",
                "ALTER COLUMN ENAME VARCHAR(20);"
            ],
            "metadata": {
                "azdata_cell_guid": "9d0184b7-b0b8-4264-9775-f06c31444085",
                "language": "sql"
            },
            "outputs": [
                {
                    "output_type": "display_data",
                    "data": {
                        "text/html": "Commands completed successfully."
                    },
                    "metadata": {}
                },
                {
                    "output_type": "display_data",
                    "data": {
                        "text/html": "Total execution time: 00:00:00.010"
                    },
                    "metadata": {}
                }
            ],
            "execution_count": 5
        },
        {
            "cell_type": "markdown",
            "source": [
                "SELECT DISTINCT;"
            ],
            "metadata": {
                "azdata_cell_guid": "c3dd9f83-de2c-4c9b-b1d9-54cb0e301f3b"
            },
            "attachments": {}
        },
        {
            "cell_type": "code",
            "source": [
                "SELECT DISTINCT SAL, \r\n",
                "FROM EMPLOYE_DETAILS;"
            ],
            "metadata": {
                "azdata_cell_guid": "b279b08c-b910-450a-8ddf-797f095ec7c8",
                "language": "sql"
            },
            "outputs": [
                {
                    "output_type": "display_data",
                    "data": {
                        "text/html": "(7 rows affected)"
                    },
                    "metadata": {}
                },
                {
                    "output_type": "display_data",
                    "data": {
                        "text/html": "Total execution time: 00:00:00.070"
                    },
                    "metadata": {}
                },
                {
                    "output_type": "execute_result",
                    "execution_count": 1,
                    "data": {
                        "application/vnd.dataresource+json": {
                            "schema": {
                                "fields": [
                                    {
                                        "name": "SAL"
                                    }
                                ]
                            },
                            "data": [
                                {
                                    "SAL": "12000"
                                },
                                {
                                    "SAL": "20000"
                                },
                                {
                                    "SAL": "25000"
                                },
                                {
                                    "SAL": "30000"
                                },
                                {
                                    "SAL": "35000"
                                },
                                {
                                    "SAL": "40000"
                                },
                                {
                                    "SAL": "45000"
                                }
                            ]
                        },
                        "text/html": "<table><tr><th>SAL</th></tr><tr><td>12000</td></tr><tr><td>20000</td></tr><tr><td>25000</td></tr><tr><td>30000</td></tr><tr><td>35000</td></tr><tr><td>40000</td></tr><tr><td>45000</td></tr></table>"
                    },
                    "metadata": {}
                }
            ],
            "execution_count": 1
        },
        {
            "cell_type": "markdown",
            "source": [
                "WHERE=\\>USED TO FILTER THE RECORDS;"
            ],
            "metadata": {
                "azdata_cell_guid": "e1262614-a14c-4a0c-8a05-e0646bb0298a"
            },
            "attachments": {}
        },
        {
            "cell_type": "markdown",
            "source": [
                "TO GET EMPLOYE NAMES WHO EARNING MORE THAN 25000;"
            ],
            "metadata": {
                "azdata_cell_guid": "3208686f-a6f2-4ff7-9a0c-9532efb46901"
            },
            "attachments": {}
        },
        {
            "cell_type": "code",
            "source": [
                "SELECT ENAME \r\n",
                "FROM EMPLOYE_DETAILS\r\n",
                "WHERE SAL>25000;"
            ],
            "metadata": {
                "azdata_cell_guid": "6113c51a-64a0-44e3-829c-048bbce99828",
                "language": "sql"
            },
            "outputs": [
                {
                    "output_type": "display_data",
                    "data": {
                        "text/html": "(6 rows affected)"
                    },
                    "metadata": {}
                },
                {
                    "output_type": "display_data",
                    "data": {
                        "text/html": "Total execution time: 00:00:00.032"
                    },
                    "metadata": {}
                },
                {
                    "output_type": "execute_result",
                    "execution_count": 2,
                    "data": {
                        "application/vnd.dataresource+json": {
                            "schema": {
                                "fields": [
                                    {
                                        "name": "ENAME"
                                    }
                                ]
                            },
                            "data": [
                                {
                                    "ENAME": "VICKY"
                                },
                                {
                                    "ENAME": "ARUN"
                                },
                                {
                                    "ENAME": "AJAY"
                                },
                                {
                                    "ENAME": "JEEVA"
                                },
                                {
                                    "ENAME": "PREM KUMAR"
                                },
                                {
                                    "ENAME": "CHANDRAN"
                                }
                            ]
                        },
                        "text/html": "<table><tr><th>ENAME</th></tr><tr><td>VICKY</td></tr><tr><td>ARUN</td></tr><tr><td>AJAY</td></tr><tr><td>JEEVA</td></tr><tr><td>PREM KUMAR</td></tr><tr><td>CHANDRAN</td></tr></table>"
                    },
                    "metadata": {}
                }
            ],
            "execution_count": 2
        },
        {
            "cell_type": "code",
            "source": [
                "TO GET EMPLOYE DETAILS WHO HIRED AFTER 2016;"
            ],
            "metadata": {
                "language": "sql",
                "azdata_cell_guid": "39a832fe-35c4-4696-95e0-aea47cceda12"
            },
            "outputs": [],
            "execution_count": null
        },
        {
            "cell_type": "code",
            "source": [
                "SELECT *\r\n",
                "FROM EMPLOYE_DETAILS\r\n",
                "WHERE HIREDATE>'2016-12-31';"
            ],
            "metadata": {
                "azdata_cell_guid": "69de8e67-84a2-4961-9eaa-9f871bccb287",
                "language": "sql"
            },
            "outputs": [
                {
                    "output_type": "display_data",
                    "data": {
                        "text/html": "(9 rows affected)"
                    },
                    "metadata": {}
                },
                {
                    "output_type": "display_data",
                    "data": {
                        "text/html": "Total execution time: 00:00:00.025"
                    },
                    "metadata": {}
                },
                {
                    "output_type": "execute_result",
                    "execution_count": 3,
                    "data": {
                        "application/vnd.dataresource+json": {
                            "schema": {
                                "fields": [
                                    {
                                        "name": "EID"
                                    },
                                    {
                                        "name": "ENAME"
                                    },
                                    {
                                        "name": "JOB"
                                    },
                                    {
                                        "name": "PHONE_NO"
                                    },
                                    {
                                        "name": "AGE"
                                    },
                                    {
                                        "name": "SAL"
                                    },
                                    {
                                        "name": "HIREDATE"
                                    }
                                ]
                            },
                            "data": [
                                {
                                    "EID": "1212",
                                    "ENAME": "VICKY",
                                    "JOB": "DATA ANALYST",
                                    "PHONE_NO": "9786534201",
                                    "AGE": "27",
                                    "SAL": "40000",
                                    "HIREDATE": "2020-04-01"
                                },
                                {
                                    "EID": "1245",
                                    "ENAME": "VIJAY",
                                    "JOB": "WEB DEVELOPER",
                                    "PHONE_NO": "7367894567",
                                    "AGE": "27",
                                    "SAL": "25000",
                                    "HIREDATE": "2018-01-27"
                                },
                                {
                                    "EID": "1721",
                                    "ENAME": "ARUN",
                                    "JOB": "WEB DEVELOPER",
                                    "PHONE_NO": "9876543210",
                                    "AGE": "25",
                                    "SAL": "35000",
                                    "HIREDATE": "2021-03-30"
                                },
                                {
                                    "EID": "1762",
                                    "ENAME": "AJAY",
                                    "JOB": "DATA SCIENTIET",
                                    "PHONE_NO": "8789321456",
                                    "AGE": "30",
                                    "SAL": "45000",
                                    "HIREDATE": "2019-08-20"
                                },
                                {
                                    "EID": "1832",
                                    "ENAME": "SURYA",
                                    "JOB": "CLERK",
                                    "PHONE_NO": "6372456764",
                                    "AGE": "28",
                                    "SAL": "20000",
                                    "HIREDATE": "2019-08-20"
                                },
                                {
                                    "EID": "2121",
                                    "ENAME": "SANTHOSH",
                                    "JOB": "WEB DEVELOPER",
                                    "PHONE_NO": "9823543210",
                                    "AGE": "29",
                                    "SAL": "25000",
                                    "HIREDATE": "2022-02-14"
                                },
                                {
                                    "EID": "3832",
                                    "ENAME": "SANJAY",
                                    "JOB": "CLERK",
                                    "PHONE_NO": "6372556764",
                                    "AGE": "22",
                                    "SAL": "12000",
                                    "HIREDATE": "2019-06-11"
                                },
                                {
                                    "EID": "4212",
                                    "ENAME": "PREM KUMAR",
                                    "JOB": "DATA ANALYST",
                                    "PHONE_NO": "9086534201",
                                    "AGE": "27",
                                    "SAL": "40000",
                                    "HIREDATE": "2023-04-20"
                                },
                                {
                                    "EID": "4762",
                                    "ENAME": "CHANDRAN",
                                    "JOB": "DATA SCIENTIET",
                                    "PHONE_NO": "8789321406",
                                    "AGE": "30",
                                    "SAL": "45000",
                                    "HIREDATE": "2017-11-27"
                                }
                            ]
                        },
                        "text/html": "<table><tr><th>EID</th><th>ENAME</th><th>JOB</th><th>PHONE_NO</th><th>AGE</th><th>SAL</th><th>HIREDATE</th></tr><tr><td>1212</td><td>VICKY</td><td>DATA ANALYST</td><td>9786534201</td><td>27</td><td>40000</td><td>2020-04-01</td></tr><tr><td>1245</td><td>VIJAY</td><td>WEB DEVELOPER</td><td>7367894567</td><td>27</td><td>25000</td><td>2018-01-27</td></tr><tr><td>1721</td><td>ARUN</td><td>WEB DEVELOPER</td><td>9876543210</td><td>25</td><td>35000</td><td>2021-03-30</td></tr><tr><td>1762</td><td>AJAY</td><td>DATA SCIENTIET</td><td>8789321456</td><td>30</td><td>45000</td><td>2019-08-20</td></tr><tr><td>1832</td><td>SURYA</td><td>CLERK</td><td>6372456764</td><td>28</td><td>20000</td><td>2019-08-20</td></tr><tr><td>2121</td><td>SANTHOSH</td><td>WEB DEVELOPER</td><td>9823543210</td><td>29</td><td>25000</td><td>2022-02-14</td></tr><tr><td>3832</td><td>SANJAY</td><td>CLERK</td><td>6372556764</td><td>22</td><td>12000</td><td>2019-06-11</td></tr><tr><td>4212</td><td>PREM KUMAR</td><td>DATA ANALYST</td><td>9086534201</td><td>27</td><td>40000</td><td>2023-04-20</td></tr><tr><td>4762</td><td>CHANDRAN</td><td>DATA SCIENTIET</td><td>8789321406</td><td>30</td><td>45000</td><td>2017-11-27</td></tr></table>"
                    },
                    "metadata": {}
                }
            ],
            "execution_count": 3
        },
        {
            "cell_type": "markdown",
            "source": [
                "AND;"
            ],
            "metadata": {
                "azdata_cell_guid": "a046b447-adfb-497e-a595-4eb91bf34fdd"
            },
            "attachments": {}
        },
        {
            "cell_type": "code",
            "source": [
                "SELECT *\r\n",
                "FROM EMPLOYE_DETAILS\r\n",
                "WHERE JOB='WEB DEVELOPER' AND SAL=35000;"
            ],
            "metadata": {
                "azdata_cell_guid": "7ad37974-5fe7-41b8-ac4e-f97cf3ef84ad",
                "language": "sql"
            },
            "outputs": [
                {
                    "output_type": "display_data",
                    "data": {
                        "text/html": "(1 row affected)"
                    },
                    "metadata": {}
                },
                {
                    "output_type": "display_data",
                    "data": {
                        "text/html": "Total execution time: 00:00:00.069"
                    },
                    "metadata": {}
                },
                {
                    "output_type": "execute_result",
                    "execution_count": 1,
                    "data": {
                        "application/vnd.dataresource+json": {
                            "schema": {
                                "fields": [
                                    {
                                        "name": "EID"
                                    },
                                    {
                                        "name": "ENAME"
                                    },
                                    {
                                        "name": "JOB"
                                    },
                                    {
                                        "name": "PHONE_NO"
                                    },
                                    {
                                        "name": "AGE"
                                    },
                                    {
                                        "name": "SAL"
                                    },
                                    {
                                        "name": "HIREDATE"
                                    }
                                ]
                            },
                            "data": [
                                {
                                    "EID": "1721",
                                    "ENAME": "ARUN",
                                    "JOB": "WEB DEVELOPER",
                                    "PHONE_NO": "9876543210",
                                    "AGE": "25",
                                    "SAL": "35000",
                                    "HIREDATE": "2021-03-30"
                                }
                            ]
                        },
                        "text/html": "<table><tr><th>EID</th><th>ENAME</th><th>JOB</th><th>PHONE_NO</th><th>AGE</th><th>SAL</th><th>HIREDATE</th></tr><tr><td>1721</td><td>ARUN</td><td>WEB DEVELOPER</td><td>9876543210</td><td>25</td><td>35000</td><td>2021-03-30</td></tr></table>"
                    },
                    "metadata": {}
                }
            ],
            "execution_count": 1
        },
        {
            "cell_type": "markdown",
            "source": [
                "OR;"
            ],
            "metadata": {
                "azdata_cell_guid": "0b21548d-6c8c-456f-a523-1d4443d87d83"
            },
            "attachments": {}
        },
        {
            "cell_type": "code",
            "source": [
                "SELECT *\r\n",
                "FROM EMPLOYE_DETAILS\r\n",
                "WHERE AGE=27 OR JOB='CLERK';"
            ],
            "metadata": {
                "azdata_cell_guid": "2893c668-4ba8-40af-a360-8cf26e15fafe",
                "language": "sql"
            },
            "outputs": [
                {
                    "output_type": "display_data",
                    "data": {
                        "text/html": "(6 rows affected)"
                    },
                    "metadata": {}
                },
                {
                    "output_type": "display_data",
                    "data": {
                        "text/html": "Total execution time: 00:00:00.015"
                    },
                    "metadata": {}
                },
                {
                    "output_type": "execute_result",
                    "execution_count": 3,
                    "data": {
                        "application/vnd.dataresource+json": {
                            "schema": {
                                "fields": [
                                    {
                                        "name": "EID"
                                    },
                                    {
                                        "name": "ENAME"
                                    },
                                    {
                                        "name": "JOB"
                                    },
                                    {
                                        "name": "PHONE_NO"
                                    },
                                    {
                                        "name": "AGE"
                                    },
                                    {
                                        "name": "SAL"
                                    },
                                    {
                                        "name": "HIREDATE"
                                    }
                                ]
                            },
                            "data": [
                                {
                                    "EID": "1212",
                                    "ENAME": "VICKY",
                                    "JOB": "DATA ANALYST",
                                    "PHONE_NO": "9786534201",
                                    "AGE": "27",
                                    "SAL": "40000",
                                    "HIREDATE": "2020-04-01"
                                },
                                {
                                    "EID": "1245",
                                    "ENAME": "VIJAY",
                                    "JOB": "WEB DEVELOPER",
                                    "PHONE_NO": "7367894567",
                                    "AGE": "27",
                                    "SAL": "25000",
                                    "HIREDATE": "2018-01-27"
                                },
                                {
                                    "EID": "1832",
                                    "ENAME": "SURYA",
                                    "JOB": "CLERK",
                                    "PHONE_NO": "6372456764",
                                    "AGE": "28",
                                    "SAL": "20000",
                                    "HIREDATE": "2019-08-20"
                                },
                                {
                                    "EID": "3832",
                                    "ENAME": "SANJAY",
                                    "JOB": "CLERK",
                                    "PHONE_NO": "6372556764",
                                    "AGE": "22",
                                    "SAL": "12000",
                                    "HIREDATE": "2019-06-11"
                                },
                                {
                                    "EID": "4212",
                                    "ENAME": "PREM KUMAR",
                                    "JOB": "DATA ANALYST",
                                    "PHONE_NO": "9086534201",
                                    "AGE": "27",
                                    "SAL": "40000",
                                    "HIREDATE": "2023-04-20"
                                },
                                {
                                    "EID": "4832",
                                    "ENAME": "SHANKAR",
                                    "JOB": "CLERK",
                                    "PHONE_NO": "6372456064",
                                    "AGE": "28",
                                    "SAL": "20000",
                                    "HIREDATE": "2013-10-15"
                                }
                            ]
                        },
                        "text/html": "<table><tr><th>EID</th><th>ENAME</th><th>JOB</th><th>PHONE_NO</th><th>AGE</th><th>SAL</th><th>HIREDATE</th></tr><tr><td>1212</td><td>VICKY</td><td>DATA ANALYST</td><td>9786534201</td><td>27</td><td>40000</td><td>2020-04-01</td></tr><tr><td>1245</td><td>VIJAY</td><td>WEB DEVELOPER</td><td>7367894567</td><td>27</td><td>25000</td><td>2018-01-27</td></tr><tr><td>1832</td><td>SURYA</td><td>CLERK</td><td>6372456764</td><td>28</td><td>20000</td><td>2019-08-20</td></tr><tr><td>3832</td><td>SANJAY</td><td>CLERK</td><td>6372556764</td><td>22</td><td>12000</td><td>2019-06-11</td></tr><tr><td>4212</td><td>PREM KUMAR</td><td>DATA ANALYST</td><td>9086534201</td><td>27</td><td>40000</td><td>2023-04-20</td></tr><tr><td>4832</td><td>SHANKAR</td><td>CLERK</td><td>6372456064</td><td>28</td><td>20000</td><td>2013-10-15</td></tr></table>"
                    },
                    "metadata": {}
                }
            ],
            "execution_count": 3
        },
        {
            "cell_type": "markdown",
            "source": [
                "NOT;"
            ],
            "metadata": {
                "azdata_cell_guid": "752759b3-69fe-40c4-b9f9-8c596052564f"
            },
            "attachments": {}
        },
        {
            "cell_type": "code",
            "source": [
                "SELECT *\r\n",
                "FROM EMPLOYE_DETAILS\r\n",
                "WHERE NOT JOB='DATA ANALYST';"
            ],
            "metadata": {
                "azdata_cell_guid": "1c925cc1-0c1a-49b7-98f3-8d78b0ec415e",
                "language": "sql"
            },
            "outputs": [
                {
                    "output_type": "display_data",
                    "data": {
                        "text/html": "(11 rows affected)"
                    },
                    "metadata": {}
                },
                {
                    "output_type": "display_data",
                    "data": {
                        "text/html": "Total execution time: 00:00:00.025"
                    },
                    "metadata": {}
                },
                {
                    "output_type": "execute_result",
                    "execution_count": 4,
                    "data": {
                        "application/vnd.dataresource+json": {
                            "schema": {
                                "fields": [
                                    {
                                        "name": "EID"
                                    },
                                    {
                                        "name": "ENAME"
                                    },
                                    {
                                        "name": "JOB"
                                    },
                                    {
                                        "name": "PHONE_NO"
                                    },
                                    {
                                        "name": "AGE"
                                    },
                                    {
                                        "name": "SAL"
                                    },
                                    {
                                        "name": "HIREDATE"
                                    }
                                ]
                            },
                            "data": [
                                {
                                    "EID": "1245",
                                    "ENAME": "VIJAY",
                                    "JOB": "WEB DEVELOPER",
                                    "PHONE_NO": "7367894567",
                                    "AGE": "27",
                                    "SAL": "25000",
                                    "HIREDATE": "2018-01-27"
                                },
                                {
                                    "EID": "1721",
                                    "ENAME": "ARUN",
                                    "JOB": "WEB DEVELOPER",
                                    "PHONE_NO": "9876543210",
                                    "AGE": "25",
                                    "SAL": "35000",
                                    "HIREDATE": "2021-03-30"
                                },
                                {
                                    "EID": "1762",
                                    "ENAME": "AJAY",
                                    "JOB": "DATA SCIENTIET",
                                    "PHONE_NO": "8789321456",
                                    "AGE": "30",
                                    "SAL": "45000",
                                    "HIREDATE": "2019-08-20"
                                },
                                {
                                    "EID": "1832",
                                    "ENAME": "SURYA",
                                    "JOB": "CLERK",
                                    "PHONE_NO": "6372456764",
                                    "AGE": "28",
                                    "SAL": "20000",
                                    "HIREDATE": "2019-08-20"
                                },
                                {
                                    "EID": "2121",
                                    "ENAME": "SANTHOSH",
                                    "JOB": "WEB DEVELOPER",
                                    "PHONE_NO": "9823543210",
                                    "AGE": "29",
                                    "SAL": "25000",
                                    "HIREDATE": "2022-02-14"
                                },
                                {
                                    "EID": "3245",
                                    "ENAME": "MUTHU",
                                    "JOB": "WEB DEVELOPER",
                                    "PHONE_NO": "7361894567",
                                    "AGE": "36",
                                    "SAL": "25000",
                                    "HIREDATE": "2016-06-20"
                                },
                                {
                                    "EID": "3762",
                                    "ENAME": "TAMIL",
                                    "JOB": "DATA SCIENTIET",
                                    "PHONE_NO": "8780321456",
                                    "AGE": "34",
                                    "SAL": "25000",
                                    "HIREDATE": "2015-08-24"
                                },
                                {
                                    "EID": "3832",
                                    "ENAME": "SANJAY",
                                    "JOB": "CLERK",
                                    "PHONE_NO": "6372556764",
                                    "AGE": "22",
                                    "SAL": "12000",
                                    "HIREDATE": "2019-06-11"
                                },
                                {
                                    "EID": "4762",
                                    "ENAME": "CHANDRAN",
                                    "JOB": "DATA SCIENTIET",
                                    "PHONE_NO": "8789321406",
                                    "AGE": "30",
                                    "SAL": "45000",
                                    "HIREDATE": "2017-11-27"
                                },
                                {
                                    "EID": "4832",
                                    "ENAME": "SHANKAR",
                                    "JOB": "CLERK",
                                    "PHONE_NO": "6372456064",
                                    "AGE": "28",
                                    "SAL": "20000",
                                    "HIREDATE": "2013-10-15"
                                },
                                {
                                    "EID": "5245",
                                    "ENAME": "DEEPAK",
                                    "JOB": "WEB DEVELOPER",
                                    "PHONE_NO": "7367894167",
                                    "AGE": "28",
                                    "SAL": "25000",
                                    "HIREDATE": "2014-11-08"
                                }
                            ]
                        },
                        "text/html": "<table><tr><th>EID</th><th>ENAME</th><th>JOB</th><th>PHONE_NO</th><th>AGE</th><th>SAL</th><th>HIREDATE</th></tr><tr><td>1245</td><td>VIJAY</td><td>WEB DEVELOPER</td><td>7367894567</td><td>27</td><td>25000</td><td>2018-01-27</td></tr><tr><td>1721</td><td>ARUN</td><td>WEB DEVELOPER</td><td>9876543210</td><td>25</td><td>35000</td><td>2021-03-30</td></tr><tr><td>1762</td><td>AJAY</td><td>DATA SCIENTIET</td><td>8789321456</td><td>30</td><td>45000</td><td>2019-08-20</td></tr><tr><td>1832</td><td>SURYA</td><td>CLERK</td><td>6372456764</td><td>28</td><td>20000</td><td>2019-08-20</td></tr><tr><td>2121</td><td>SANTHOSH</td><td>WEB DEVELOPER</td><td>9823543210</td><td>29</td><td>25000</td><td>2022-02-14</td></tr><tr><td>3245</td><td>MUTHU</td><td>WEB DEVELOPER</td><td>7361894567</td><td>36</td><td>25000</td><td>2016-06-20</td></tr><tr><td>3762</td><td>TAMIL</td><td>DATA SCIENTIET</td><td>8780321456</td><td>34</td><td>25000</td><td>2015-08-24</td></tr><tr><td>3832</td><td>SANJAY</td><td>CLERK</td><td>6372556764</td><td>22</td><td>12000</td><td>2019-06-11</td></tr><tr><td>4762</td><td>CHANDRAN</td><td>DATA SCIENTIET</td><td>8789321406</td><td>30</td><td>45000</td><td>2017-11-27</td></tr><tr><td>4832</td><td>SHANKAR</td><td>CLERK</td><td>6372456064</td><td>28</td><td>20000</td><td>2013-10-15</td></tr><tr><td>5245</td><td>DEEPAK</td><td>WEB DEVELOPER</td><td>7367894167</td><td>28</td><td>25000</td><td>2014-11-08</td></tr></table>"
                    },
                    "metadata": {}
                }
            ],
            "execution_count": 4
        },
        {
            "cell_type": "markdown",
            "source": [
                "ORDER BY;"
            ],
            "metadata": {
                "azdata_cell_guid": "f815e387-4f9b-47b2-9e37-265da99a75a5"
            },
            "attachments": {}
        },
        {
            "cell_type": "markdown",
            "source": [
                "ASCENDING ORDER;\n",
                "\n",
                "NOTE;WE CAN USE ORDER BY CLAUSE WITHOUT ASC WORD,BY DEFAULT IT WILL ARRANGE IN ASCENDING ORDER."
            ],
            "metadata": {
                "azdata_cell_guid": "dd0cb158-50eb-46d4-bf50-e1d7847b2f31"
            },
            "attachments": {}
        },
        {
            "cell_type": "code",
            "source": [
                "SELECT *\r\n",
                "FROM EMPLOYE_DETAILS\r\n",
                "ORDER BY ENAME ;\r\n",
                ""
            ],
            "metadata": {
                "azdata_cell_guid": "e1446af8-9749-48a4-83c6-43ddfc3f97f6",
                "language": "sql"
            },
            "outputs": [
                {
                    "output_type": "display_data",
                    "data": {
                        "text/html": "(14 rows affected)"
                    },
                    "metadata": {}
                },
                {
                    "output_type": "display_data",
                    "data": {
                        "text/html": "Total execution time: 00:00:00.016"
                    },
                    "metadata": {}
                },
                {
                    "output_type": "execute_result",
                    "execution_count": 10,
                    "data": {
                        "application/vnd.dataresource+json": {
                            "schema": {
                                "fields": [
                                    {
                                        "name": "EID"
                                    },
                                    {
                                        "name": "ENAME"
                                    },
                                    {
                                        "name": "JOB"
                                    },
                                    {
                                        "name": "PHONE_NO"
                                    },
                                    {
                                        "name": "AGE"
                                    },
                                    {
                                        "name": "SAL"
                                    },
                                    {
                                        "name": "HIREDATE"
                                    }
                                ]
                            },
                            "data": [
                                {
                                    "EID": "1762",
                                    "ENAME": "AJAY",
                                    "JOB": "DATA SCIENTIET",
                                    "PHONE_NO": "8789321456",
                                    "AGE": "30",
                                    "SAL": "45000",
                                    "HIREDATE": "2019-08-20"
                                },
                                {
                                    "EID": "1721",
                                    "ENAME": "ARUN",
                                    "JOB": "WEB DEVELOPER",
                                    "PHONE_NO": "9876543210",
                                    "AGE": "25",
                                    "SAL": "35000",
                                    "HIREDATE": "2021-03-30"
                                },
                                {
                                    "EID": "4762",
                                    "ENAME": "CHANDRAN",
                                    "JOB": "DATA SCIENTIET",
                                    "PHONE_NO": "8789321406",
                                    "AGE": "30",
                                    "SAL": "45000",
                                    "HIREDATE": "2017-11-27"
                                },
                                {
                                    "EID": "5245",
                                    "ENAME": "DEEPAK",
                                    "JOB": "WEB DEVELOPER",
                                    "PHONE_NO": "7367894167",
                                    "AGE": "28",
                                    "SAL": "25000",
                                    "HIREDATE": "2014-11-08"
                                },
                                {
                                    "EID": "2212",
                                    "ENAME": "JEEVA",
                                    "JOB": "DATA ANALYST",
                                    "PHONE_NO": "9781534201",
                                    "AGE": "25",
                                    "SAL": "30000",
                                    "HIREDATE": "2015-08-24"
                                },
                                {
                                    "EID": "3245",
                                    "ENAME": "MUTHU",
                                    "JOB": "WEB DEVELOPER",
                                    "PHONE_NO": "7361894567",
                                    "AGE": "36",
                                    "SAL": "25000",
                                    "HIREDATE": "2016-06-20"
                                },
                                {
                                    "EID": "4212",
                                    "ENAME": "PREM KUMAR",
                                    "JOB": "DATA ANALYST",
                                    "PHONE_NO": "9086534201",
                                    "AGE": "27",
                                    "SAL": "40000",
                                    "HIREDATE": "2023-04-20"
                                },
                                {
                                    "EID": "3832",
                                    "ENAME": "SANJAY",
                                    "JOB": "CLERK",
                                    "PHONE_NO": "6372556764",
                                    "AGE": "22",
                                    "SAL": "12000",
                                    "HIREDATE": "2019-06-11"
                                },
                                {
                                    "EID": "2121",
                                    "ENAME": "SANTHOSH",
                                    "JOB": "WEB DEVELOPER",
                                    "PHONE_NO": "9823543210",
                                    "AGE": "29",
                                    "SAL": "25000",
                                    "HIREDATE": "2022-02-14"
                                },
                                {
                                    "EID": "4832",
                                    "ENAME": "SHANKAR",
                                    "JOB": "CLERK",
                                    "PHONE_NO": "6372456064",
                                    "AGE": "28",
                                    "SAL": "20000",
                                    "HIREDATE": "2013-10-15"
                                },
                                {
                                    "EID": "1832",
                                    "ENAME": "SURYA",
                                    "JOB": "CLERK",
                                    "PHONE_NO": "6372456764",
                                    "AGE": "28",
                                    "SAL": "20000",
                                    "HIREDATE": "2019-08-20"
                                },
                                {
                                    "EID": "3762",
                                    "ENAME": "TAMIL",
                                    "JOB": "DATA SCIENTIET",
                                    "PHONE_NO": "8780321456",
                                    "AGE": "34",
                                    "SAL": "25000",
                                    "HIREDATE": "2015-08-24"
                                },
                                {
                                    "EID": "1212",
                                    "ENAME": "VICKY",
                                    "JOB": "DATA ANALYST",
                                    "PHONE_NO": "9786534201",
                                    "AGE": "27",
                                    "SAL": "40000",
                                    "HIREDATE": "2020-04-01"
                                },
                                {
                                    "EID": "1245",
                                    "ENAME": "VIJAY",
                                    "JOB": "WEB DEVELOPER",
                                    "PHONE_NO": "7367894567",
                                    "AGE": "27",
                                    "SAL": "25000",
                                    "HIREDATE": "2018-01-27"
                                }
                            ]
                        },
                        "text/html": "<table><tr><th>EID</th><th>ENAME</th><th>JOB</th><th>PHONE_NO</th><th>AGE</th><th>SAL</th><th>HIREDATE</th></tr><tr><td>1762</td><td>AJAY</td><td>DATA SCIENTIET</td><td>8789321456</td><td>30</td><td>45000</td><td>2019-08-20</td></tr><tr><td>1721</td><td>ARUN</td><td>WEB DEVELOPER</td><td>9876543210</td><td>25</td><td>35000</td><td>2021-03-30</td></tr><tr><td>4762</td><td>CHANDRAN</td><td>DATA SCIENTIET</td><td>8789321406</td><td>30</td><td>45000</td><td>2017-11-27</td></tr><tr><td>5245</td><td>DEEPAK</td><td>WEB DEVELOPER</td><td>7367894167</td><td>28</td><td>25000</td><td>2014-11-08</td></tr><tr><td>2212</td><td>JEEVA</td><td>DATA ANALYST</td><td>9781534201</td><td>25</td><td>30000</td><td>2015-08-24</td></tr><tr><td>3245</td><td>MUTHU</td><td>WEB DEVELOPER</td><td>7361894567</td><td>36</td><td>25000</td><td>2016-06-20</td></tr><tr><td>4212</td><td>PREM KUMAR</td><td>DATA ANALYST</td><td>9086534201</td><td>27</td><td>40000</td><td>2023-04-20</td></tr><tr><td>3832</td><td>SANJAY</td><td>CLERK</td><td>6372556764</td><td>22</td><td>12000</td><td>2019-06-11</td></tr><tr><td>2121</td><td>SANTHOSH</td><td>WEB DEVELOPER</td><td>9823543210</td><td>29</td><td>25000</td><td>2022-02-14</td></tr><tr><td>4832</td><td>SHANKAR</td><td>CLERK</td><td>6372456064</td><td>28</td><td>20000</td><td>2013-10-15</td></tr><tr><td>1832</td><td>SURYA</td><td>CLERK</td><td>6372456764</td><td>28</td><td>20000</td><td>2019-08-20</td></tr><tr><td>3762</td><td>TAMIL</td><td>DATA SCIENTIET</td><td>8780321456</td><td>34</td><td>25000</td><td>2015-08-24</td></tr><tr><td>1212</td><td>VICKY</td><td>DATA ANALYST</td><td>9786534201</td><td>27</td><td>40000</td><td>2020-04-01</td></tr><tr><td>1245</td><td>VIJAY</td><td>WEB DEVELOPER</td><td>7367894567</td><td>27</td><td>25000</td><td>2018-01-27</td></tr></table>"
                    },
                    "metadata": {}
                }
            ],
            "execution_count": 10
        },
        {
            "cell_type": "markdown",
            "source": [
                "DESCENDING ORDER;"
            ],
            "metadata": {
                "azdata_cell_guid": "0130194b-237d-43cb-866f-973471b39db0"
            },
            "attachments": {}
        },
        {
            "cell_type": "code",
            "source": [
                "SELECT *\r\n",
                "FROM EMPLOYE_DETAILS\r\n",
                "ORDER BY HIREDATE DESC;"
            ],
            "metadata": {
                "azdata_cell_guid": "914bd5a4-8292-4fbb-939f-31503467e253",
                "language": "sql"
            },
            "outputs": [
                {
                    "output_type": "display_data",
                    "data": {
                        "text/html": "(14 rows affected)"
                    },
                    "metadata": {}
                },
                {
                    "output_type": "display_data",
                    "data": {
                        "text/html": "Total execution time: 00:00:00.047"
                    },
                    "metadata": {}
                },
                {
                    "output_type": "execute_result",
                    "execution_count": 6,
                    "data": {
                        "application/vnd.dataresource+json": {
                            "schema": {
                                "fields": [
                                    {
                                        "name": "EID"
                                    },
                                    {
                                        "name": "ENAME"
                                    },
                                    {
                                        "name": "JOB"
                                    },
                                    {
                                        "name": "PHONE_NO"
                                    },
                                    {
                                        "name": "AGE"
                                    },
                                    {
                                        "name": "SAL"
                                    },
                                    {
                                        "name": "HIREDATE"
                                    }
                                ]
                            },
                            "data": [
                                {
                                    "EID": "4212",
                                    "ENAME": "PREM KUMAR",
                                    "JOB": "DATA ANALYST",
                                    "PHONE_NO": "9086534201",
                                    "AGE": "27",
                                    "SAL": "40000",
                                    "HIREDATE": "2023-04-20"
                                },
                                {
                                    "EID": "2121",
                                    "ENAME": "SANTHOSH",
                                    "JOB": "WEB DEVELOPER",
                                    "PHONE_NO": "9823543210",
                                    "AGE": "29",
                                    "SAL": "25000",
                                    "HIREDATE": "2022-02-14"
                                },
                                {
                                    "EID": "1721",
                                    "ENAME": "ARUN",
                                    "JOB": "WEB DEVELOPER",
                                    "PHONE_NO": "9876543210",
                                    "AGE": "25",
                                    "SAL": "35000",
                                    "HIREDATE": "2021-03-30"
                                },
                                {
                                    "EID": "1212",
                                    "ENAME": "VICKY",
                                    "JOB": "DATA ANALYST",
                                    "PHONE_NO": "9786534201",
                                    "AGE": "27",
                                    "SAL": "40000",
                                    "HIREDATE": "2020-04-01"
                                },
                                {
                                    "EID": "1762",
                                    "ENAME": "AJAY",
                                    "JOB": "DATA SCIENTIET",
                                    "PHONE_NO": "8789321456",
                                    "AGE": "30",
                                    "SAL": "45000",
                                    "HIREDATE": "2019-08-20"
                                },
                                {
                                    "EID": "1832",
                                    "ENAME": "SURYA",
                                    "JOB": "CLERK",
                                    "PHONE_NO": "6372456764",
                                    "AGE": "28",
                                    "SAL": "20000",
                                    "HIREDATE": "2019-08-20"
                                },
                                {
                                    "EID": "3832",
                                    "ENAME": "SANJAY",
                                    "JOB": "CLERK",
                                    "PHONE_NO": "6372556764",
                                    "AGE": "22",
                                    "SAL": "12000",
                                    "HIREDATE": "2019-06-11"
                                },
                                {
                                    "EID": "1245",
                                    "ENAME": "VIJAY",
                                    "JOB": "WEB DEVELOPER",
                                    "PHONE_NO": "7367894567",
                                    "AGE": "27",
                                    "SAL": "25000",
                                    "HIREDATE": "2018-01-27"
                                },
                                {
                                    "EID": "4762",
                                    "ENAME": "CHANDRAN",
                                    "JOB": "DATA SCIENTIET",
                                    "PHONE_NO": "8789321406",
                                    "AGE": "30",
                                    "SAL": "45000",
                                    "HIREDATE": "2017-11-27"
                                },
                                {
                                    "EID": "3245",
                                    "ENAME": "MUTHU",
                                    "JOB": "WEB DEVELOPER",
                                    "PHONE_NO": "7361894567",
                                    "AGE": "36",
                                    "SAL": "25000",
                                    "HIREDATE": "2016-06-20"
                                },
                                {
                                    "EID": "3762",
                                    "ENAME": "TAMIL",
                                    "JOB": "DATA SCIENTIET",
                                    "PHONE_NO": "8780321456",
                                    "AGE": "34",
                                    "SAL": "25000",
                                    "HIREDATE": "2015-08-24"
                                },
                                {
                                    "EID": "2212",
                                    "ENAME": "JEEVA",
                                    "JOB": "DATA ANALYST",
                                    "PHONE_NO": "9781534201",
                                    "AGE": "25",
                                    "SAL": "30000",
                                    "HIREDATE": "2015-08-24"
                                },
                                {
                                    "EID": "5245",
                                    "ENAME": "DEEPAK",
                                    "JOB": "WEB DEVELOPER",
                                    "PHONE_NO": "7367894167",
                                    "AGE": "28",
                                    "SAL": "25000",
                                    "HIREDATE": "2014-11-08"
                                },
                                {
                                    "EID": "4832",
                                    "ENAME": "SHANKAR",
                                    "JOB": "CLERK",
                                    "PHONE_NO": "6372456064",
                                    "AGE": "28",
                                    "SAL": "20000",
                                    "HIREDATE": "2013-10-15"
                                }
                            ]
                        },
                        "text/html": "<table><tr><th>EID</th><th>ENAME</th><th>JOB</th><th>PHONE_NO</th><th>AGE</th><th>SAL</th><th>HIREDATE</th></tr><tr><td>4212</td><td>PREM KUMAR</td><td>DATA ANALYST</td><td>9086534201</td><td>27</td><td>40000</td><td>2023-04-20</td></tr><tr><td>2121</td><td>SANTHOSH</td><td>WEB DEVELOPER</td><td>9823543210</td><td>29</td><td>25000</td><td>2022-02-14</td></tr><tr><td>1721</td><td>ARUN</td><td>WEB DEVELOPER</td><td>9876543210</td><td>25</td><td>35000</td><td>2021-03-30</td></tr><tr><td>1212</td><td>VICKY</td><td>DATA ANALYST</td><td>9786534201</td><td>27</td><td>40000</td><td>2020-04-01</td></tr><tr><td>1762</td><td>AJAY</td><td>DATA SCIENTIET</td><td>8789321456</td><td>30</td><td>45000</td><td>2019-08-20</td></tr><tr><td>1832</td><td>SURYA</td><td>CLERK</td><td>6372456764</td><td>28</td><td>20000</td><td>2019-08-20</td></tr><tr><td>3832</td><td>SANJAY</td><td>CLERK</td><td>6372556764</td><td>22</td><td>12000</td><td>2019-06-11</td></tr><tr><td>1245</td><td>VIJAY</td><td>WEB DEVELOPER</td><td>7367894567</td><td>27</td><td>25000</td><td>2018-01-27</td></tr><tr><td>4762</td><td>CHANDRAN</td><td>DATA SCIENTIET</td><td>8789321406</td><td>30</td><td>45000</td><td>2017-11-27</td></tr><tr><td>3245</td><td>MUTHU</td><td>WEB DEVELOPER</td><td>7361894567</td><td>36</td><td>25000</td><td>2016-06-20</td></tr><tr><td>3762</td><td>TAMIL</td><td>DATA SCIENTIET</td><td>8780321456</td><td>34</td><td>25000</td><td>2015-08-24</td></tr><tr><td>2212</td><td>JEEVA</td><td>DATA ANALYST</td><td>9781534201</td><td>25</td><td>30000</td><td>2015-08-24</td></tr><tr><td>5245</td><td>DEEPAK</td><td>WEB DEVELOPER</td><td>7367894167</td><td>28</td><td>25000</td><td>2014-11-08</td></tr><tr><td>4832</td><td>SHANKAR</td><td>CLERK</td><td>6372456064</td><td>28</td><td>20000</td><td>2013-10-15</td></tr></table>"
                    },
                    "metadata": {}
                }
            ],
            "execution_count": 6
        },
        {
            "cell_type": "markdown",
            "source": [
                "MIN;"
            ],
            "metadata": {
                "azdata_cell_guid": "bbde7394-b5c1-40a9-b14d-578f8e127a61"
            },
            "attachments": {}
        },
        {
            "cell_type": "code",
            "source": [
                "SELECT MIN(SAL)\r\n",
                "FROM EMPLOYE_DETAILS;"
            ],
            "metadata": {
                "azdata_cell_guid": "a3a17920-2479-4adc-9626-e76d89d8a5eb",
                "language": "sql"
            },
            "outputs": [
                {
                    "output_type": "display_data",
                    "data": {
                        "text/html": "(1 row affected)"
                    },
                    "metadata": {}
                },
                {
                    "output_type": "display_data",
                    "data": {
                        "text/html": "Total execution time: 00:00:00.006"
                    },
                    "metadata": {}
                },
                {
                    "output_type": "execute_result",
                    "execution_count": 5,
                    "data": {
                        "application/vnd.dataresource+json": {
                            "schema": {
                                "fields": [
                                    {
                                        "name": "(No column name)"
                                    }
                                ]
                            },
                            "data": [
                                {
                                    "(No column name)": "12000"
                                }
                            ]
                        },
                        "text/html": "<table><tr><th>(No column name)</th></tr><tr><td>12000</td></tr></table>"
                    },
                    "metadata": {}
                }
            ],
            "execution_count": 5
        },
        {
            "cell_type": "markdown",
            "source": [
                "MAX;"
            ],
            "metadata": {
                "azdata_cell_guid": "444a3d23-9df9-4c29-8663-b0febbc7dc6e"
            },
            "attachments": {}
        },
        {
            "cell_type": "code",
            "source": [
                "SELECT MAX(SAL)\r\n",
                "FROM EMPLOYE_DETAILS;"
            ],
            "metadata": {
                "azdata_cell_guid": "0328830a-09f9-4d96-bb37-169f8f33188a",
                "language": "sql"
            },
            "outputs": [
                {
                    "output_type": "display_data",
                    "data": {
                        "text/html": "(1 row affected)"
                    },
                    "metadata": {}
                },
                {
                    "output_type": "display_data",
                    "data": {
                        "text/html": "Total execution time: 00:00:00.015"
                    },
                    "metadata": {}
                },
                {
                    "output_type": "execute_result",
                    "execution_count": 7,
                    "data": {
                        "application/vnd.dataresource+json": {
                            "schema": {
                                "fields": [
                                    {
                                        "name": "(No column name)"
                                    }
                                ]
                            },
                            "data": [
                                {
                                    "(No column name)": "45000"
                                }
                            ]
                        },
                        "text/html": "<table><tr><th>(No column name)</th></tr><tr><td>45000</td></tr></table>"
                    },
                    "metadata": {}
                }
            ],
            "execution_count": 7
        },
        {
            "cell_type": "markdown",
            "source": [
                "10/07/2023\n",
                "\n",
                "COUNT();"
            ],
            "metadata": {
                "azdata_cell_guid": "fb31fb7a-b668-4d1e-b6ed-815a6f68c165"
            },
            "attachments": {}
        },
        {
            "cell_type": "code",
            "source": [
                "SELECT COUNT(EID)\r\n",
                "FROM EMPLOYE_DETAILS;"
            ],
            "metadata": {
                "azdata_cell_guid": "6706c287-3617-4bdc-b009-84614850bb48",
                "language": "sql"
            },
            "outputs": [
                {
                    "output_type": "display_data",
                    "data": {
                        "text/html": "(1 row affected)"
                    },
                    "metadata": {}
                },
                {
                    "output_type": "display_data",
                    "data": {
                        "text/html": "Total execution time: 00:00:00.054"
                    },
                    "metadata": {}
                },
                {
                    "output_type": "execute_result",
                    "execution_count": 1,
                    "data": {
                        "application/vnd.dataresource+json": {
                            "schema": {
                                "fields": [
                                    {
                                        "name": "(No column name)"
                                    }
                                ]
                            },
                            "data": [
                                {
                                    "(No column name)": "14"
                                }
                            ]
                        },
                        "text/html": "<table><tr><th>(No column name)</th></tr><tr><td>14</td></tr></table>"
                    },
                    "metadata": {}
                }
            ],
            "execution_count": 1
        },
        {
            "cell_type": "markdown",
            "source": [
                "SUM();"
            ],
            "metadata": {
                "language": "sql",
                "azdata_cell_guid": "a158f8c7-a4b1-45d6-babd-eb91c6c61d9a"
            },
            "attachments": {}
        },
        {
            "cell_type": "code",
            "source": [
                "SELECT SUM(SAL)\r\n",
                "FROM EMPLOYE_DETAILS;"
            ],
            "metadata": {
                "language": "sql",
                "azdata_cell_guid": "edf91cb0-97d2-4b79-81a8-4b567a400848"
            },
            "outputs": [
                {
                    "output_type": "display_data",
                    "data": {
                        "text/html": "(1 row affected)"
                    },
                    "metadata": {}
                },
                {
                    "output_type": "display_data",
                    "data": {
                        "text/html": "Total execution time: 00:00:00.023"
                    },
                    "metadata": {}
                },
                {
                    "output_type": "execute_result",
                    "execution_count": 2,
                    "data": {
                        "application/vnd.dataresource+json": {
                            "schema": {
                                "fields": [
                                    {
                                        "name": "(No column name)"
                                    }
                                ]
                            },
                            "data": [
                                {
                                    "(No column name)": "412000"
                                }
                            ]
                        },
                        "text/html": "<table><tr><th>(No column name)</th></tr><tr><td>412000</td></tr></table>"
                    },
                    "metadata": {}
                }
            ],
            "execution_count": 2
        },
        {
            "cell_type": "markdown",
            "source": [
                "AVG();"
            ],
            "metadata": {
                "language": "sql",
                "azdata_cell_guid": "f20fa73d-e270-44bc-9ff6-4f62172927d6"
            },
            "attachments": {}
        },
        {
            "cell_type": "code",
            "source": [
                "SELECT AVG(SAL)\r\n",
                "FROM EMPLOYE_DETAILS;"
            ],
            "metadata": {
                "language": "sql",
                "azdata_cell_guid": "2515ea69-87fe-4a7a-98bf-ac2565c14d9a"
            },
            "outputs": [
                {
                    "output_type": "display_data",
                    "data": {
                        "text/html": "(1 row affected)"
                    },
                    "metadata": {}
                },
                {
                    "output_type": "display_data",
                    "data": {
                        "text/html": "Total execution time: 00:00:00.019"
                    },
                    "metadata": {}
                },
                {
                    "output_type": "execute_result",
                    "execution_count": 3,
                    "data": {
                        "application/vnd.dataresource+json": {
                            "schema": {
                                "fields": [
                                    {
                                        "name": "(No column name)"
                                    }
                                ]
                            },
                            "data": [
                                {
                                    "(No column name)": "29428.571428"
                                }
                            ]
                        },
                        "text/html": "<table><tr><th>(No column name)</th></tr><tr><td>29428.571428</td></tr></table>"
                    },
                    "metadata": {}
                }
            ],
            "execution_count": 3
        },
        {
            "cell_type": "markdown",
            "source": [
                "IN;"
            ],
            "metadata": {
                "language": "sql",
                "azdata_cell_guid": "69b77ffa-2f53-4a79-8dc3-c0802e171acd"
            },
            "attachments": {}
        },
        {
            "cell_type": "code",
            "source": [
                "SELECT *\r\n",
                "FROM EMPLOYE_DETAILS\r\n",
                "WHERE JOB IN ('CLERK','WEB DEVELOPER');"
            ],
            "metadata": {
                "language": "sql",
                "azdata_cell_guid": "631daf1e-b580-427a-bb7e-088afe19d44e"
            },
            "outputs": [
                {
                    "output_type": "display_data",
                    "data": {
                        "text/html": "(8 rows affected)"
                    },
                    "metadata": {}
                },
                {
                    "output_type": "display_data",
                    "data": {
                        "text/html": "Total execution time: 00:00:00.023"
                    },
                    "metadata": {}
                },
                {
                    "output_type": "execute_result",
                    "execution_count": 7,
                    "data": {
                        "application/vnd.dataresource+json": {
                            "schema": {
                                "fields": [
                                    {
                                        "name": "EID"
                                    },
                                    {
                                        "name": "ENAME"
                                    },
                                    {
                                        "name": "JOB"
                                    },
                                    {
                                        "name": "PHONE_NO"
                                    },
                                    {
                                        "name": "AGE"
                                    },
                                    {
                                        "name": "SAL"
                                    },
                                    {
                                        "name": "HIREDATE"
                                    }
                                ]
                            },
                            "data": [
                                {
                                    "EID": "1245",
                                    "ENAME": "VIJAY",
                                    "JOB": "WEB DEVELOPER",
                                    "PHONE_NO": "7367894567",
                                    "AGE": "27",
                                    "SAL": "25000",
                                    "HIREDATE": "2018-01-27"
                                },
                                {
                                    "EID": "1721",
                                    "ENAME": "ARUN",
                                    "JOB": "WEB DEVELOPER",
                                    "PHONE_NO": "9876543210",
                                    "AGE": "25",
                                    "SAL": "35000",
                                    "HIREDATE": "2021-03-30"
                                },
                                {
                                    "EID": "1832",
                                    "ENAME": "SURYA",
                                    "JOB": "CLERK",
                                    "PHONE_NO": "6372456764",
                                    "AGE": "28",
                                    "SAL": "20000",
                                    "HIREDATE": "2019-08-20"
                                },
                                {
                                    "EID": "2121",
                                    "ENAME": "SANTHOSH",
                                    "JOB": "WEB DEVELOPER",
                                    "PHONE_NO": "9823543210",
                                    "AGE": "29",
                                    "SAL": "25000",
                                    "HIREDATE": "2022-02-14"
                                },
                                {
                                    "EID": "3245",
                                    "ENAME": "MUTHU",
                                    "JOB": "WEB DEVELOPER",
                                    "PHONE_NO": "7361894567",
                                    "AGE": "36",
                                    "SAL": "25000",
                                    "HIREDATE": "2016-06-20"
                                },
                                {
                                    "EID": "3832",
                                    "ENAME": "SANJAY",
                                    "JOB": "CLERK",
                                    "PHONE_NO": "6372556764",
                                    "AGE": "22",
                                    "SAL": "12000",
                                    "HIREDATE": "2019-06-11"
                                },
                                {
                                    "EID": "4832",
                                    "ENAME": "SHANKAR",
                                    "JOB": "CLERK",
                                    "PHONE_NO": "6372456064",
                                    "AGE": "28",
                                    "SAL": "20000",
                                    "HIREDATE": "2013-10-15"
                                },
                                {
                                    "EID": "5245",
                                    "ENAME": "DEEPAK",
                                    "JOB": "WEB DEVELOPER",
                                    "PHONE_NO": "7367894167",
                                    "AGE": "28",
                                    "SAL": "25000",
                                    "HIREDATE": "2014-11-08"
                                }
                            ]
                        },
                        "text/html": "<table><tr><th>EID</th><th>ENAME</th><th>JOB</th><th>PHONE_NO</th><th>AGE</th><th>SAL</th><th>HIREDATE</th></tr><tr><td>1245</td><td>VIJAY</td><td>WEB DEVELOPER</td><td>7367894567</td><td>27</td><td>25000</td><td>2018-01-27</td></tr><tr><td>1721</td><td>ARUN</td><td>WEB DEVELOPER</td><td>9876543210</td><td>25</td><td>35000</td><td>2021-03-30</td></tr><tr><td>1832</td><td>SURYA</td><td>CLERK</td><td>6372456764</td><td>28</td><td>20000</td><td>2019-08-20</td></tr><tr><td>2121</td><td>SANTHOSH</td><td>WEB DEVELOPER</td><td>9823543210</td><td>29</td><td>25000</td><td>2022-02-14</td></tr><tr><td>3245</td><td>MUTHU</td><td>WEB DEVELOPER</td><td>7361894567</td><td>36</td><td>25000</td><td>2016-06-20</td></tr><tr><td>3832</td><td>SANJAY</td><td>CLERK</td><td>6372556764</td><td>22</td><td>12000</td><td>2019-06-11</td></tr><tr><td>4832</td><td>SHANKAR</td><td>CLERK</td><td>6372456064</td><td>28</td><td>20000</td><td>2013-10-15</td></tr><tr><td>5245</td><td>DEEPAK</td><td>WEB DEVELOPER</td><td>7367894167</td><td>28</td><td>25000</td><td>2014-11-08</td></tr></table>"
                    },
                    "metadata": {}
                }
            ],
            "execution_count": 7
        },
        {
            "cell_type": "code",
            "source": [
                "SELECT *\r\n",
                "FROM MGR;"
            ],
            "metadata": {
                "azdata_cell_guid": "a5a1943f-e73e-4b94-9814-953cbc189113",
                "language": "sql"
            },
            "outputs": [
                {
                    "output_type": "error",
                    "ename": "",
                    "evalue": "Msg 208, Level 16, State 1, Line 1\r\nInvalid object name 'MGR'.",
                    "traceback": []
                },
                {
                    "output_type": "display_data",
                    "data": {
                        "text/html": "Total execution time: 00:00:00.004"
                    },
                    "metadata": {}
                }
            ],
            "execution_count": 8
        },
        {
            "cell_type": "markdown",
            "source": [
                "NOT IN;"
            ],
            "metadata": {
                "language": "sql",
                "azdata_cell_guid": "f36f39b1-b589-4254-bb49-cccd23b794b9"
            },
            "attachments": {}
        },
        {
            "cell_type": "code",
            "source": [
                "SELECT *\r\n",
                "FROM EMPLOYE_DETAILS\r\n",
                "WHERE JOB NOT IN ('CLERK');"
            ],
            "metadata": {
                "language": "sql",
                "azdata_cell_guid": "279e9f39-6dab-4e98-806f-aa22530205dd"
            },
            "outputs": [
                {
                    "output_type": "display_data",
                    "data": {
                        "text/html": "(11 rows affected)"
                    },
                    "metadata": {}
                },
                {
                    "output_type": "display_data",
                    "data": {
                        "text/html": "Total execution time: 00:00:00.022"
                    },
                    "metadata": {}
                },
                {
                    "output_type": "execute_result",
                    "execution_count": 8,
                    "data": {
                        "application/vnd.dataresource+json": {
                            "schema": {
                                "fields": [
                                    {
                                        "name": "EID"
                                    },
                                    {
                                        "name": "ENAME"
                                    },
                                    {
                                        "name": "JOB"
                                    },
                                    {
                                        "name": "PHONE_NO"
                                    },
                                    {
                                        "name": "AGE"
                                    },
                                    {
                                        "name": "SAL"
                                    },
                                    {
                                        "name": "HIREDATE"
                                    }
                                ]
                            },
                            "data": [
                                {
                                    "EID": "1212",
                                    "ENAME": "VICKY",
                                    "JOB": "DATA ANALYST",
                                    "PHONE_NO": "9786534201",
                                    "AGE": "27",
                                    "SAL": "40000",
                                    "HIREDATE": "2020-04-01"
                                },
                                {
                                    "EID": "1245",
                                    "ENAME": "VIJAY",
                                    "JOB": "WEB DEVELOPER",
                                    "PHONE_NO": "7367894567",
                                    "AGE": "27",
                                    "SAL": "25000",
                                    "HIREDATE": "2018-01-27"
                                },
                                {
                                    "EID": "1721",
                                    "ENAME": "ARUN",
                                    "JOB": "WEB DEVELOPER",
                                    "PHONE_NO": "9876543210",
                                    "AGE": "25",
                                    "SAL": "35000",
                                    "HIREDATE": "2021-03-30"
                                },
                                {
                                    "EID": "1762",
                                    "ENAME": "AJAY",
                                    "JOB": "DATA SCIENTIET",
                                    "PHONE_NO": "8789321456",
                                    "AGE": "30",
                                    "SAL": "45000",
                                    "HIREDATE": "2019-08-20"
                                },
                                {
                                    "EID": "2121",
                                    "ENAME": "SANTHOSH",
                                    "JOB": "WEB DEVELOPER",
                                    "PHONE_NO": "9823543210",
                                    "AGE": "29",
                                    "SAL": "25000",
                                    "HIREDATE": "2022-02-14"
                                },
                                {
                                    "EID": "2212",
                                    "ENAME": "JEEVA",
                                    "JOB": "DATA ANALYST",
                                    "PHONE_NO": "9781534201",
                                    "AGE": "25",
                                    "SAL": "30000",
                                    "HIREDATE": "2015-08-24"
                                },
                                {
                                    "EID": "3245",
                                    "ENAME": "MUTHU",
                                    "JOB": "WEB DEVELOPER",
                                    "PHONE_NO": "7361894567",
                                    "AGE": "36",
                                    "SAL": "25000",
                                    "HIREDATE": "2016-06-20"
                                },
                                {
                                    "EID": "3762",
                                    "ENAME": "TAMIL",
                                    "JOB": "DATA SCIENTIET",
                                    "PHONE_NO": "8780321456",
                                    "AGE": "34",
                                    "SAL": "25000",
                                    "HIREDATE": "2015-08-24"
                                },
                                {
                                    "EID": "4212",
                                    "ENAME": "PREM KUMAR",
                                    "JOB": "DATA ANALYST",
                                    "PHONE_NO": "9086534201",
                                    "AGE": "27",
                                    "SAL": "40000",
                                    "HIREDATE": "2023-04-20"
                                },
                                {
                                    "EID": "4762",
                                    "ENAME": "CHANDRAN",
                                    "JOB": "DATA SCIENTIET",
                                    "PHONE_NO": "8789321406",
                                    "AGE": "30",
                                    "SAL": "45000",
                                    "HIREDATE": "2017-11-27"
                                },
                                {
                                    "EID": "5245",
                                    "ENAME": "DEEPAK",
                                    "JOB": "WEB DEVELOPER",
                                    "PHONE_NO": "7367894167",
                                    "AGE": "28",
                                    "SAL": "25000",
                                    "HIREDATE": "2014-11-08"
                                }
                            ]
                        },
                        "text/html": "<table><tr><th>EID</th><th>ENAME</th><th>JOB</th><th>PHONE_NO</th><th>AGE</th><th>SAL</th><th>HIREDATE</th></tr><tr><td>1212</td><td>VICKY</td><td>DATA ANALYST</td><td>9786534201</td><td>27</td><td>40000</td><td>2020-04-01</td></tr><tr><td>1245</td><td>VIJAY</td><td>WEB DEVELOPER</td><td>7367894567</td><td>27</td><td>25000</td><td>2018-01-27</td></tr><tr><td>1721</td><td>ARUN</td><td>WEB DEVELOPER</td><td>9876543210</td><td>25</td><td>35000</td><td>2021-03-30</td></tr><tr><td>1762</td><td>AJAY</td><td>DATA SCIENTIET</td><td>8789321456</td><td>30</td><td>45000</td><td>2019-08-20</td></tr><tr><td>2121</td><td>SANTHOSH</td><td>WEB DEVELOPER</td><td>9823543210</td><td>29</td><td>25000</td><td>2022-02-14</td></tr><tr><td>2212</td><td>JEEVA</td><td>DATA ANALYST</td><td>9781534201</td><td>25</td><td>30000</td><td>2015-08-24</td></tr><tr><td>3245</td><td>MUTHU</td><td>WEB DEVELOPER</td><td>7361894567</td><td>36</td><td>25000</td><td>2016-06-20</td></tr><tr><td>3762</td><td>TAMIL</td><td>DATA SCIENTIET</td><td>8780321456</td><td>34</td><td>25000</td><td>2015-08-24</td></tr><tr><td>4212</td><td>PREM KUMAR</td><td>DATA ANALYST</td><td>9086534201</td><td>27</td><td>40000</td><td>2023-04-20</td></tr><tr><td>4762</td><td>CHANDRAN</td><td>DATA SCIENTIET</td><td>8789321406</td><td>30</td><td>45000</td><td>2017-11-27</td></tr><tr><td>5245</td><td>DEEPAK</td><td>WEB DEVELOPER</td><td>7367894167</td><td>28</td><td>25000</td><td>2014-11-08</td></tr></table>"
                    },
                    "metadata": {}
                }
            ],
            "execution_count": 8
        },
        {
            "cell_type": "markdown",
            "source": [
                "ALIAS NAME;TEMPORARY NAME GIVEN TO COLUMN;"
            ],
            "metadata": {
                "language": "sql",
                "azdata_cell_guid": "4da5fea7-77a9-4d0a-be50-f1a6620bef49"
            },
            "attachments": {}
        },
        {
            "cell_type": "code",
            "source": [
                "SELECT ENAME, SAL*12 AS ANNUAL_SALARY\r\n",
                "FROM EMPLOYE_DETAILS;"
            ],
            "metadata": {
                "language": "sql",
                "azdata_cell_guid": "9d7b245b-3d6b-4988-bd33-5639b106e81f"
            },
            "outputs": [
                {
                    "output_type": "display_data",
                    "data": {
                        "text/html": "(14 rows affected)"
                    },
                    "metadata": {}
                },
                {
                    "output_type": "display_data",
                    "data": {
                        "text/html": "Total execution time: 00:00:00.019"
                    },
                    "metadata": {}
                },
                {
                    "output_type": "execute_result",
                    "execution_count": 9,
                    "data": {
                        "application/vnd.dataresource+json": {
                            "schema": {
                                "fields": [
                                    {
                                        "name": "ENAME"
                                    },
                                    {
                                        "name": "ANNUAL_SALARY"
                                    }
                                ]
                            },
                            "data": [
                                {
                                    "ENAME": "VICKY",
                                    "ANNUAL_SALARY": "480000"
                                },
                                {
                                    "ENAME": "VIJAY",
                                    "ANNUAL_SALARY": "300000"
                                },
                                {
                                    "ENAME": "ARUN",
                                    "ANNUAL_SALARY": "420000"
                                },
                                {
                                    "ENAME": "AJAY",
                                    "ANNUAL_SALARY": "540000"
                                },
                                {
                                    "ENAME": "SURYA",
                                    "ANNUAL_SALARY": "240000"
                                },
                                {
                                    "ENAME": "SANTHOSH",
                                    "ANNUAL_SALARY": "300000"
                                },
                                {
                                    "ENAME": "JEEVA",
                                    "ANNUAL_SALARY": "360000"
                                },
                                {
                                    "ENAME": "MUTHU",
                                    "ANNUAL_SALARY": "300000"
                                },
                                {
                                    "ENAME": "TAMIL",
                                    "ANNUAL_SALARY": "300000"
                                },
                                {
                                    "ENAME": "SANJAY",
                                    "ANNUAL_SALARY": "144000"
                                },
                                {
                                    "ENAME": "PREM KUMAR",
                                    "ANNUAL_SALARY": "480000"
                                },
                                {
                                    "ENAME": "CHANDRAN",
                                    "ANNUAL_SALARY": "540000"
                                },
                                {
                                    "ENAME": "SHANKAR",
                                    "ANNUAL_SALARY": "240000"
                                },
                                {
                                    "ENAME": "DEEPAK",
                                    "ANNUAL_SALARY": "300000"
                                }
                            ]
                        },
                        "text/html": "<table><tr><th>ENAME</th><th>ANNUAL_SALARY</th></tr><tr><td>VICKY</td><td>480000</td></tr><tr><td>VIJAY</td><td>300000</td></tr><tr><td>ARUN</td><td>420000</td></tr><tr><td>AJAY</td><td>540000</td></tr><tr><td>SURYA</td><td>240000</td></tr><tr><td>SANTHOSH</td><td>300000</td></tr><tr><td>JEEVA</td><td>360000</td></tr><tr><td>MUTHU</td><td>300000</td></tr><tr><td>TAMIL</td><td>300000</td></tr><tr><td>SANJAY</td><td>144000</td></tr><tr><td>PREM KUMAR</td><td>480000</td></tr><tr><td>CHANDRAN</td><td>540000</td></tr><tr><td>SHANKAR</td><td>240000</td></tr><tr><td>DEEPAK</td><td>300000</td></tr></table>"
                    },
                    "metadata": {}
                }
            ],
            "execution_count": 9
        },
        {
            "cell_type": "markdown",
            "source": [
                "GROUP BY;"
            ],
            "metadata": {
                "language": "sql",
                "azdata_cell_guid": "df1075e9-4a80-469c-99b3-f82f885a3f0f"
            },
            "attachments": {}
        },
        {
            "cell_type": "code",
            "source": [
                "SELECT COUNT(*),JOB\r\n",
                "FROM EMPLOYE_DETAILS\r\n",
                "GROUP BY JOB;"
            ],
            "metadata": {
                "language": "sql",
                "azdata_cell_guid": "7616e2e2-66de-4d3c-8c9a-5d9bf823ab0f"
            },
            "outputs": [
                {
                    "output_type": "display_data",
                    "data": {
                        "text/html": "(4 rows affected)"
                    },
                    "metadata": {}
                },
                {
                    "output_type": "display_data",
                    "data": {
                        "text/html": "Total execution time: 00:00:00.021"
                    },
                    "metadata": {}
                },
                {
                    "output_type": "execute_result",
                    "execution_count": 14,
                    "data": {
                        "application/vnd.dataresource+json": {
                            "schema": {
                                "fields": [
                                    {
                                        "name": "(No column name)"
                                    },
                                    {
                                        "name": "JOB"
                                    }
                                ]
                            },
                            "data": [
                                {
                                    "(No column name)": "3",
                                    "JOB": "CLERK"
                                },
                                {
                                    "(No column name)": "3",
                                    "JOB": "DATA ANALYST"
                                },
                                {
                                    "(No column name)": "3",
                                    "JOB": "DATA SCIENTIET"
                                },
                                {
                                    "(No column name)": "5",
                                    "JOB": "WEB DEVELOPER"
                                }
                            ]
                        },
                        "text/html": "<table><tr><th>(No column name)</th><th>JOB</th></tr><tr><td>3</td><td>CLERK</td></tr><tr><td>3</td><td>DATA ANALYST</td></tr><tr><td>3</td><td>DATA SCIENTIET</td></tr><tr><td>5</td><td>WEB DEVELOPER</td></tr></table>"
                    },
                    "metadata": {}
                }
            ],
            "execution_count": 14
        },
        {
            "cell_type": "markdown",
            "source": [
                "HAVING;"
            ],
            "metadata": {
                "language": "sql",
                "azdata_cell_guid": "83e30512-02b9-4d38-baf0-40bc360fc2c1"
            },
            "attachments": {}
        },
        {
            "cell_type": "code",
            "source": [
                "SELECT COUNT(*),JOB \r\n",
                "FROM EMPLOYE_DETAILS\r\n",
                "GROUP BY JOB\r\n",
                "HAVING COUNT(*) <4;"
            ],
            "metadata": {
                "language": "sql",
                "azdata_cell_guid": "d004eacc-da8a-45cd-a5d8-2db29d78821d"
            },
            "outputs": [
                {
                    "output_type": "display_data",
                    "data": {
                        "text/html": "(3 rows affected)"
                    },
                    "metadata": {}
                },
                {
                    "output_type": "display_data",
                    "data": {
                        "text/html": "Total execution time: 00:00:00.011"
                    },
                    "metadata": {}
                },
                {
                    "output_type": "execute_result",
                    "execution_count": 16,
                    "data": {
                        "application/vnd.dataresource+json": {
                            "schema": {
                                "fields": [
                                    {
                                        "name": "(No column name)"
                                    },
                                    {
                                        "name": "JOB"
                                    }
                                ]
                            },
                            "data": [
                                {
                                    "(No column name)": "3",
                                    "JOB": "CLERK"
                                },
                                {
                                    "(No column name)": "3",
                                    "JOB": "DATA ANALYST"
                                },
                                {
                                    "(No column name)": "3",
                                    "JOB": "DATA SCIENTIET"
                                }
                            ]
                        },
                        "text/html": "<table><tr><th>(No column name)</th><th>JOB</th></tr><tr><td>3</td><td>CLERK</td></tr><tr><td>3</td><td>DATA ANALYST</td></tr><tr><td>3</td><td>DATA SCIENTIET</td></tr></table>"
                    },
                    "metadata": {}
                }
            ],
            "execution_count": 16
        },
        {
            "cell_type": "markdown",
            "source": [
                "LIKE=\\>PATTERN  MATCH;"
            ],
            "metadata": {
                "azdata_cell_guid": "82c4d3c6-67d3-4dcd-b4d1-1c94505b558c"
            },
            "attachments": {}
        },
        {
            "cell_type": "code",
            "source": [
                "SELECT ENAME \r\n",
                "FROM EMPLOYE_DETAILS\r\n",
                "WHERE ENAME LIKE 'A%';"
            ],
            "metadata": {
                "azdata_cell_guid": "23624441-26e1-4160-9139-33d10d3b26b9",
                "language": "sql"
            },
            "outputs": [
                {
                    "output_type": "display_data",
                    "data": {
                        "text/html": "(2 rows affected)"
                    },
                    "metadata": {}
                },
                {
                    "output_type": "display_data",
                    "data": {
                        "text/html": "Total execution time: 00:00:00.015"
                    },
                    "metadata": {}
                },
                {
                    "output_type": "execute_result",
                    "execution_count": 8,
                    "data": {
                        "application/vnd.dataresource+json": {
                            "schema": {
                                "fields": [
                                    {
                                        "name": "ENAME"
                                    }
                                ]
                            },
                            "data": [
                                {
                                    "ENAME": "ARUN"
                                },
                                {
                                    "ENAME": "AJAY"
                                }
                            ]
                        },
                        "text/html": "<table><tr><th>ENAME</th></tr><tr><td>ARUN</td></tr><tr><td>AJAY</td></tr></table>"
                    },
                    "metadata": {}
                }
            ],
            "execution_count": 8
        },
        {
            "cell_type": "code",
            "source": [
                "SELECT ENAME\r\n",
                "FROM EMPLOYE_DETAILS\r\n",
                "WHERE ENAME LIKE 'C%A_';"
            ],
            "metadata": {
                "language": "sql",
                "azdata_cell_guid": "603f24d6-693b-4573-b02f-caa900d2843e"
            },
            "outputs": [
                {
                    "output_type": "display_data",
                    "data": {
                        "text/html": "(1 row affected)"
                    },
                    "metadata": {}
                },
                {
                    "output_type": "display_data",
                    "data": {
                        "text/html": "Total execution time: 00:00:00.011"
                    },
                    "metadata": {}
                },
                {
                    "output_type": "execute_result",
                    "execution_count": 9,
                    "data": {
                        "application/vnd.dataresource+json": {
                            "schema": {
                                "fields": [
                                    {
                                        "name": "ENAME"
                                    }
                                ]
                            },
                            "data": [
                                {
                                    "ENAME": "CHANDRAN"
                                }
                            ]
                        },
                        "text/html": "<table><tr><th>ENAME</th></tr><tr><td>CHANDRAN</td></tr></table>"
                    },
                    "metadata": {}
                }
            ],
            "execution_count": 9
        },
        {
            "cell_type": "markdown",
            "source": [
                "SELECT TOP;"
            ],
            "metadata": {
                "language": "sql",
                "azdata_cell_guid": "9a30df1d-5e7d-4b06-a3a5-0bf8758f20be"
            },
            "attachments": {}
        },
        {
            "cell_type": "code",
            "source": [
                "SELECT TOP 2 *\r\n",
                "FROM EMPLOYE_DETAILS;"
            ],
            "metadata": {
                "azdata_cell_guid": "6f1a3f05-1b64-4039-941d-28cfd2682f4a",
                "language": "sql",
                "tags": [
                    "hide_input"
                ]
            },
            "outputs": [
                {
                    "output_type": "display_data",
                    "data": {
                        "text/html": "(2 rows affected)"
                    },
                    "metadata": {}
                },
                {
                    "output_type": "display_data",
                    "data": {
                        "text/html": "Total execution time: 00:00:00.014"
                    },
                    "metadata": {}
                },
                {
                    "output_type": "execute_result",
                    "execution_count": 12,
                    "data": {
                        "application/vnd.dataresource+json": {
                            "schema": {
                                "fields": [
                                    {
                                        "name": "EID"
                                    },
                                    {
                                        "name": "ENAME"
                                    },
                                    {
                                        "name": "JOB"
                                    },
                                    {
                                        "name": "PHONE_NO"
                                    },
                                    {
                                        "name": "AGE"
                                    },
                                    {
                                        "name": "SAL"
                                    },
                                    {
                                        "name": "HIREDATE"
                                    }
                                ]
                            },
                            "data": [
                                {
                                    "EID": "1212",
                                    "ENAME": "VICKY",
                                    "JOB": "DATA ANALYST",
                                    "PHONE_NO": "9786534201",
                                    "AGE": "27",
                                    "SAL": "40000",
                                    "HIREDATE": "2020-04-01"
                                },
                                {
                                    "EID": "1245",
                                    "ENAME": "VIJAY",
                                    "JOB": "WEB DEVELOPER",
                                    "PHONE_NO": "7367894567",
                                    "AGE": "27",
                                    "SAL": "25000",
                                    "HIREDATE": "2018-01-27"
                                }
                            ]
                        },
                        "text/html": "<table><tr><th>EID</th><th>ENAME</th><th>JOB</th><th>PHONE_NO</th><th>AGE</th><th>SAL</th><th>HIREDATE</th></tr><tr><td>1212</td><td>VICKY</td><td>DATA ANALYST</td><td>9786534201</td><td>27</td><td>40000</td><td>2020-04-01</td></tr><tr><td>1245</td><td>VIJAY</td><td>WEB DEVELOPER</td><td>7367894567</td><td>27</td><td>25000</td><td>2018-01-27</td></tr></table>"
                    },
                    "metadata": {}
                }
            ],
            "execution_count": 12
        },
        {
            "cell_type": "code",
            "source": [
                "ALTER TABLE EMPLOYE_DETAILS\r\n",
                "ADD MID NUMERIC(4);"
            ],
            "metadata": {
                "language": "sql",
                "azdata_cell_guid": "656b38f6-4a8b-4a2d-86dd-0b61342deb69"
            },
            "outputs": [
                {
                    "output_type": "display_data",
                    "data": {
                        "text/html": "Commands completed successfully."
                    },
                    "metadata": {}
                },
                {
                    "output_type": "display_data",
                    "data": {
                        "text/html": "Total execution time: 00:00:00.056"
                    },
                    "metadata": {}
                }
            ],
            "execution_count": 2
        },
        {
            "cell_type": "code",
            "source": [
                "UPDATE EMPLOYE_DETAILS\r\n",
                "SET MID=1122\r\n",
                "WHERE JOB='DATA ANALYST';"
            ],
            "metadata": {
                "language": "sql",
                "azdata_cell_guid": "e0889f36-85cb-4263-a8a8-ed4e6df86304"
            },
            "outputs": [
                {
                    "output_type": "display_data",
                    "data": {
                        "text/html": "(3 rows affected)"
                    },
                    "metadata": {}
                },
                {
                    "output_type": "display_data",
                    "data": {
                        "text/html": "Total execution time: 00:00:00.011"
                    },
                    "metadata": {}
                }
            ],
            "execution_count": 4
        },
        {
            "cell_type": "code",
            "source": [
                "UPDATE EMPLOYE_DETAILS\r\n",
                "SET MID=1123\r\n",
                "WHERE JOB='WEB DEVELOPER';"
            ],
            "metadata": {
                "language": "sql",
                "azdata_cell_guid": "8efa2d17-614d-4a35-a00e-0a3e13099b0e"
            },
            "outputs": [
                {
                    "output_type": "display_data",
                    "data": {
                        "text/html": "(5 rows affected)"
                    },
                    "metadata": {}
                },
                {
                    "output_type": "display_data",
                    "data": {
                        "text/html": "Total execution time: 00:00:00.014"
                    },
                    "metadata": {}
                }
            ],
            "execution_count": 5
        },
        {
            "cell_type": "code",
            "source": [
                "UPDATE EMPLOYE_DETAILS\r\n",
                "SET MID=1124\r\n",
                "WHERE JOB='DATA SCIENTIET';"
            ],
            "metadata": {
                "language": "sql",
                "azdata_cell_guid": "b814bbac-ebdb-492e-a08a-35c4738d9fbf"
            },
            "outputs": [
                {
                    "output_type": "display_data",
                    "data": {
                        "text/html": "(3 rows affected)"
                    },
                    "metadata": {}
                },
                {
                    "output_type": "display_data",
                    "data": {
                        "text/html": "Total execution time: 00:00:00.006"
                    },
                    "metadata": {}
                }
            ],
            "execution_count": 6
        },
        {
            "cell_type": "code",
            "source": [
                "SELECT *\r\n",
                "FROM EMPLOYE_DETAILS;"
            ],
            "metadata": {
                "language": "sql",
                "azdata_cell_guid": "db116de4-5910-4486-9044-10a8aeefb203"
            },
            "outputs": [
                {
                    "output_type": "display_data",
                    "data": {
                        "text/html": "(14 rows affected)"
                    },
                    "metadata": {}
                },
                {
                    "output_type": "display_data",
                    "data": {
                        "text/html": "Total execution time: 00:00:00.021"
                    },
                    "metadata": {}
                },
                {
                    "output_type": "execute_result",
                    "execution_count": 7,
                    "data": {
                        "application/vnd.dataresource+json": {
                            "schema": {
                                "fields": [
                                    {
                                        "name": "EID"
                                    },
                                    {
                                        "name": "ENAME"
                                    },
                                    {
                                        "name": "JOB"
                                    },
                                    {
                                        "name": "PHONE_NO"
                                    },
                                    {
                                        "name": "AGE"
                                    },
                                    {
                                        "name": "SAL"
                                    },
                                    {
                                        "name": "HIREDATE"
                                    },
                                    {
                                        "name": "MID"
                                    }
                                ]
                            },
                            "data": [
                                {
                                    "EID": "1212",
                                    "ENAME": "VICKY",
                                    "JOB": "DATA ANALYST",
                                    "PHONE_NO": "9786534201",
                                    "AGE": "27",
                                    "SAL": "40000",
                                    "HIREDATE": "2020-04-01",
                                    "MID": "1122"
                                },
                                {
                                    "EID": "1245",
                                    "ENAME": "VIJAY",
                                    "JOB": "WEB DEVELOPER",
                                    "PHONE_NO": "7367894567",
                                    "AGE": "27",
                                    "SAL": "25000",
                                    "HIREDATE": "2018-01-27",
                                    "MID": "1123"
                                },
                                {
                                    "EID": "1721",
                                    "ENAME": "ARUN",
                                    "JOB": "WEB DEVELOPER",
                                    "PHONE_NO": "9876543210",
                                    "AGE": "25",
                                    "SAL": "35000",
                                    "HIREDATE": "2021-03-30",
                                    "MID": "1123"
                                },
                                {
                                    "EID": "1762",
                                    "ENAME": "AJAY",
                                    "JOB": "DATA SCIENTIET",
                                    "PHONE_NO": "8789321456",
                                    "AGE": "30",
                                    "SAL": "45000",
                                    "HIREDATE": "2019-08-20",
                                    "MID": "1124"
                                },
                                {
                                    "EID": "1832",
                                    "ENAME": "SURYA",
                                    "JOB": "CLERK",
                                    "PHONE_NO": "6372456764",
                                    "AGE": "28",
                                    "SAL": "20000",
                                    "HIREDATE": "2019-08-20",
                                    "MID": "NULL"
                                },
                                {
                                    "EID": "2121",
                                    "ENAME": "SANTHOSH",
                                    "JOB": "WEB DEVELOPER",
                                    "PHONE_NO": "9823543210",
                                    "AGE": "29",
                                    "SAL": "25000",
                                    "HIREDATE": "2022-02-14",
                                    "MID": "1123"
                                },
                                {
                                    "EID": "2212",
                                    "ENAME": "JEEVA",
                                    "JOB": "DATA ANALYST",
                                    "PHONE_NO": "9781534201",
                                    "AGE": "25",
                                    "SAL": "30000",
                                    "HIREDATE": "2015-08-24",
                                    "MID": "1122"
                                },
                                {
                                    "EID": "3245",
                                    "ENAME": "MUTHU",
                                    "JOB": "WEB DEVELOPER",
                                    "PHONE_NO": "7361894567",
                                    "AGE": "36",
                                    "SAL": "25000",
                                    "HIREDATE": "2016-06-20",
                                    "MID": "1123"
                                },
                                {
                                    "EID": "3762",
                                    "ENAME": "TAMIL",
                                    "JOB": "DATA SCIENTIET",
                                    "PHONE_NO": "8780321456",
                                    "AGE": "34",
                                    "SAL": "25000",
                                    "HIREDATE": "2015-08-24",
                                    "MID": "1124"
                                },
                                {
                                    "EID": "3832",
                                    "ENAME": "SANJAY",
                                    "JOB": "CLERK",
                                    "PHONE_NO": "6372556764",
                                    "AGE": "22",
                                    "SAL": "12000",
                                    "HIREDATE": "2019-06-11",
                                    "MID": "NULL"
                                },
                                {
                                    "EID": "4212",
                                    "ENAME": "PREM KUMAR",
                                    "JOB": "DATA ANALYST",
                                    "PHONE_NO": "9086534201",
                                    "AGE": "27",
                                    "SAL": "40000",
                                    "HIREDATE": "2023-04-20",
                                    "MID": "1122"
                                },
                                {
                                    "EID": "4762",
                                    "ENAME": "CHANDRAN",
                                    "JOB": "DATA SCIENTIET",
                                    "PHONE_NO": "8789321406",
                                    "AGE": "30",
                                    "SAL": "45000",
                                    "HIREDATE": "2017-11-27",
                                    "MID": "1124"
                                },
                                {
                                    "EID": "4832",
                                    "ENAME": "SHANKAR",
                                    "JOB": "CLERK",
                                    "PHONE_NO": "6372456064",
                                    "AGE": "28",
                                    "SAL": "20000",
                                    "HIREDATE": "2013-10-15",
                                    "MID": "NULL"
                                },
                                {
                                    "EID": "5245",
                                    "ENAME": "DEEPAK",
                                    "JOB": "WEB DEVELOPER",
                                    "PHONE_NO": "7367894167",
                                    "AGE": "28",
                                    "SAL": "25000",
                                    "HIREDATE": "2014-11-08",
                                    "MID": "1123"
                                }
                            ]
                        },
                        "text/html": "<table><tr><th>EID</th><th>ENAME</th><th>JOB</th><th>PHONE_NO</th><th>AGE</th><th>SAL</th><th>HIREDATE</th><th>MID</th></tr><tr><td>1212</td><td>VICKY</td><td>DATA ANALYST</td><td>9786534201</td><td>27</td><td>40000</td><td>2020-04-01</td><td>1122</td></tr><tr><td>1245</td><td>VIJAY</td><td>WEB DEVELOPER</td><td>7367894567</td><td>27</td><td>25000</td><td>2018-01-27</td><td>1123</td></tr><tr><td>1721</td><td>ARUN</td><td>WEB DEVELOPER</td><td>9876543210</td><td>25</td><td>35000</td><td>2021-03-30</td><td>1123</td></tr><tr><td>1762</td><td>AJAY</td><td>DATA SCIENTIET</td><td>8789321456</td><td>30</td><td>45000</td><td>2019-08-20</td><td>1124</td></tr><tr><td>1832</td><td>SURYA</td><td>CLERK</td><td>6372456764</td><td>28</td><td>20000</td><td>2019-08-20</td><td>NULL</td></tr><tr><td>2121</td><td>SANTHOSH</td><td>WEB DEVELOPER</td><td>9823543210</td><td>29</td><td>25000</td><td>2022-02-14</td><td>1123</td></tr><tr><td>2212</td><td>JEEVA</td><td>DATA ANALYST</td><td>9781534201</td><td>25</td><td>30000</td><td>2015-08-24</td><td>1122</td></tr><tr><td>3245</td><td>MUTHU</td><td>WEB DEVELOPER</td><td>7361894567</td><td>36</td><td>25000</td><td>2016-06-20</td><td>1123</td></tr><tr><td>3762</td><td>TAMIL</td><td>DATA SCIENTIET</td><td>8780321456</td><td>34</td><td>25000</td><td>2015-08-24</td><td>1124</td></tr><tr><td>3832</td><td>SANJAY</td><td>CLERK</td><td>6372556764</td><td>22</td><td>12000</td><td>2019-06-11</td><td>NULL</td></tr><tr><td>4212</td><td>PREM KUMAR</td><td>DATA ANALYST</td><td>9086534201</td><td>27</td><td>40000</td><td>2023-04-20</td><td>1122</td></tr><tr><td>4762</td><td>CHANDRAN</td><td>DATA SCIENTIET</td><td>8789321406</td><td>30</td><td>45000</td><td>2017-11-27</td><td>1124</td></tr><tr><td>4832</td><td>SHANKAR</td><td>CLERK</td><td>6372456064</td><td>28</td><td>20000</td><td>2013-10-15</td><td>NULL</td></tr><tr><td>5245</td><td>DEEPAK</td><td>WEB DEVELOPER</td><td>7367894167</td><td>28</td><td>25000</td><td>2014-11-08</td><td>1123</td></tr></table>"
                    },
                    "metadata": {}
                }
            ],
            "execution_count": 7
        },
        {
            "cell_type": "markdown",
            "source": [
                "11/07/2023;\n",
                "\n",
                "TABLE CREATION;"
            ],
            "metadata": {
                "language": "sql",
                "azdata_cell_guid": "37d75b41-b56d-4aa8-ba59-05a2203116e0"
            },
            "attachments": {}
        },
        {
            "cell_type": "code",
            "source": [
                "USE EmployeDB;"
            ],
            "metadata": {
                "language": "sql",
                "azdata_cell_guid": "1f3eec63-451a-4997-93a5-8790d85f77eb"
            },
            "outputs": [
                {
                    "output_type": "display_data",
                    "data": {
                        "text/html": "Commands completed successfully."
                    },
                    "metadata": {}
                },
                {
                    "output_type": "display_data",
                    "data": {
                        "text/html": "Total execution time: 00:00:00"
                    },
                    "metadata": {}
                }
            ],
            "execution_count": 16
        },
        {
            "cell_type": "code",
            "source": [
                "CREATE TABLE MANAGER\r\n",
                "(\r\n",
                "    MID NUMERIC(4) PRIMARY KEY, \r\n",
                "    MNAME VARCHAR(15) NOT NULL,\r\n",
                "    LOCATION VARCHAR(20),\r\n",
                "    SAL NUMERIC(5) NOT NULL,\r\n",
                ");"
            ],
            "metadata": {
                "language": "sql",
                "azdata_cell_guid": "4bd5a5c4-9a55-406f-8914-6b0de5ba5583"
            },
            "outputs": [
                {
                    "output_type": "error",
                    "ename": "",
                    "evalue": "Msg 2714, Level 16, State 6, Line 1\r\nThere is already an object named 'MANAGER' in the database.",
                    "traceback": []
                },
                {
                    "output_type": "display_data",
                    "data": {
                        "text/html": "Total execution time: 00:00:00.003"
                    },
                    "metadata": {}
                }
            ],
            "execution_count": 18
        },
        {
            "cell_type": "code",
            "source": [
                "INSERT INTO MANAGER VALUES(1122,'KUMAR','CHENNAI',50000);\r\n",
                "INSERT INTO MANAGER VALUES(1123,'BARATH','BANGALORE',60000);\r\n",
                "INSERT INTO MANAGER VALUES(1124,'ARIVU','MUMBAI',75000);"
            ],
            "metadata": {
                "language": "sql",
                "azdata_cell_guid": "6bd55c02-a674-4bf9-adf3-2ff7fb2d60d4"
            },
            "outputs": [
                {
                    "output_type": "error",
                    "ename": "",
                    "evalue": "Msg 2627, Level 14, State 1, Line 1\r\nViolation of PRIMARY KEY constraint 'PK__MANAGER__C797348AB5DEEC76'. Cannot insert duplicate key in object 'dbo.MANAGER'. The duplicate key value is (1122).",
                    "traceback": []
                },
                {
                    "output_type": "display_data",
                    "data": {
                        "text/html": "The statement has been terminated."
                    },
                    "metadata": {}
                },
                {
                    "output_type": "error",
                    "ename": "",
                    "evalue": "Msg 2627, Level 14, State 1, Line 2\r\nViolation of PRIMARY KEY constraint 'PK__MANAGER__C797348AB5DEEC76'. Cannot insert duplicate key in object 'dbo.MANAGER'. The duplicate key value is (1123).",
                    "traceback": []
                },
                {
                    "output_type": "display_data",
                    "data": {
                        "text/html": "The statement has been terminated."
                    },
                    "metadata": {}
                },
                {
                    "output_type": "error",
                    "ename": "",
                    "evalue": "Msg 2627, Level 14, State 1, Line 3\r\nViolation of PRIMARY KEY constraint 'PK__MANAGER__C797348AB5DEEC76'. Cannot insert duplicate key in object 'dbo.MANAGER'. The duplicate key value is (1124).",
                    "traceback": []
                },
                {
                    "output_type": "display_data",
                    "data": {
                        "text/html": "The statement has been terminated."
                    },
                    "metadata": {}
                },
                {
                    "output_type": "display_data",
                    "data": {
                        "text/html": "Total execution time: 00:00:00.003"
                    },
                    "metadata": {}
                }
            ],
            "execution_count": 6
        },
        {
            "cell_type": "code",
            "source": [
                "ALTER TABLE EMPLOYE_DETAILS\r\n",
                "ALTER COLUMN MID NUMERIC(4);"
            ],
            "metadata": {
                "language": "sql",
                "azdata_cell_guid": "a72b7339-dd02-4256-939e-80637699bc33"
            },
            "outputs": [
                {
                    "output_type": "display_data",
                    "data": {
                        "text/html": "Commands completed successfully."
                    },
                    "metadata": {}
                },
                {
                    "output_type": "display_data",
                    "data": {
                        "text/html": "Total execution time: 00:00:00.015"
                    },
                    "metadata": {}
                }
            ],
            "execution_count": 22
        },
        {
            "cell_type": "markdown",
            "source": [
                "ADD FORIEGN KEY;"
            ],
            "metadata": {
                "language": "sql",
                "azdata_cell_guid": "5fbc9daf-1a27-41e6-848a-5ba3aea72d98"
            },
            "attachments": {}
        },
        {
            "cell_type": "code",
            "source": [
                "ALTER TABLE EMPLOYE_DETAILS\r\n",
                "ADD FOREIGN KEY (MID) REFERENCES MANAGER(MID);"
            ],
            "metadata": {
                "language": "sql",
                "azdata_cell_guid": "d15acd03-c4d7-44ed-85db-4adebdb67513"
            },
            "outputs": [
                {
                    "output_type": "display_data",
                    "data": {
                        "text/html": "Commands completed successfully."
                    },
                    "metadata": {}
                },
                {
                    "output_type": "display_data",
                    "data": {
                        "text/html": "Total execution time: 00:00:00.009"
                    },
                    "metadata": {}
                }
            ],
            "execution_count": 23
        },
        {
            "cell_type": "markdown",
            "source": [
                "JOINS;\n",
                "\n",
                "CROSS JOIN;"
            ],
            "metadata": {
                "language": "sql",
                "azdata_cell_guid": "465bdb6f-792f-4c35-92cd-2fd5de821e65"
            },
            "attachments": {}
        },
        {
            "cell_type": "code",
            "source": [
                "SELECT *\r\n",
                "FROM EMPLOYE_DETAILS CROSS JOIN MANAGER;"
            ],
            "metadata": {
                "language": "sql",
                "azdata_cell_guid": "068e0d57-08d7-40b6-adb9-69584ea3f0fc"
            },
            "outputs": [
                {
                    "output_type": "display_data",
                    "data": {
                        "text/html": "(42 rows affected)"
                    },
                    "metadata": {}
                },
                {
                    "output_type": "display_data",
                    "data": {
                        "text/html": "Total execution time: 00:00:00.014"
                    },
                    "metadata": {}
                },
                {
                    "output_type": "execute_result",
                    "execution_count": 10,
                    "data": {
                        "application/vnd.dataresource+json": {
                            "schema": {
                                "fields": [
                                    {
                                        "name": "EID"
                                    },
                                    {
                                        "name": "ENAME"
                                    },
                                    {
                                        "name": "JOB"
                                    },
                                    {
                                        "name": "PHONE_NO"
                                    },
                                    {
                                        "name": "AGE"
                                    },
                                    {
                                        "name": "SAL"
                                    },
                                    {
                                        "name": "HIREDATE"
                                    },
                                    {
                                        "name": "MID"
                                    },
                                    {
                                        "name": "MID"
                                    },
                                    {
                                        "name": "MNAME"
                                    },
                                    {
                                        "name": "LOCATION"
                                    },
                                    {
                                        "name": "SAL"
                                    }
                                ]
                            },
                            "data": [
                                {
                                    "EID": "1212",
                                    "ENAME": "VICKY",
                                    "JOB": "DATA ANALYST",
                                    "PHONE_NO": "9786534201",
                                    "AGE": "27",
                                    "SAL": "50000",
                                    "HIREDATE": "2020-04-01",
                                    "MID": "1122",
                                    "MNAME": "KUMAR",
                                    "LOCATION": "CHENNAI"
                                },
                                {
                                    "EID": "1245",
                                    "ENAME": "VIJAY",
                                    "JOB": "WEB DEVELOPER",
                                    "PHONE_NO": "7367894567",
                                    "AGE": "27",
                                    "SAL": "50000",
                                    "HIREDATE": "2018-01-27",
                                    "MID": "1122",
                                    "MNAME": "KUMAR",
                                    "LOCATION": "CHENNAI"
                                },
                                {
                                    "EID": "1721",
                                    "ENAME": "ARUN",
                                    "JOB": "WEB DEVELOPER",
                                    "PHONE_NO": "9876543210",
                                    "AGE": "25",
                                    "SAL": "50000",
                                    "HIREDATE": "2021-03-30",
                                    "MID": "1122",
                                    "MNAME": "KUMAR",
                                    "LOCATION": "CHENNAI"
                                },
                                {
                                    "EID": "1762",
                                    "ENAME": "AJAY",
                                    "JOB": "DATA SCIENTIET",
                                    "PHONE_NO": "8789321456",
                                    "AGE": "30",
                                    "SAL": "50000",
                                    "HIREDATE": "2019-08-20",
                                    "MID": "1122",
                                    "MNAME": "KUMAR",
                                    "LOCATION": "CHENNAI"
                                },
                                {
                                    "EID": "1832",
                                    "ENAME": "SURYA",
                                    "JOB": "CLERK",
                                    "PHONE_NO": "6372456764",
                                    "AGE": "28",
                                    "SAL": "50000",
                                    "HIREDATE": "2019-08-20",
                                    "MID": "1122",
                                    "MNAME": "KUMAR",
                                    "LOCATION": "CHENNAI"
                                },
                                {
                                    "EID": "2121",
                                    "ENAME": "SANTHOSH",
                                    "JOB": "WEB DEVELOPER",
                                    "PHONE_NO": "9823543210",
                                    "AGE": "29",
                                    "SAL": "50000",
                                    "HIREDATE": "2022-02-14",
                                    "MID": "1122",
                                    "MNAME": "KUMAR",
                                    "LOCATION": "CHENNAI"
                                },
                                {
                                    "EID": "2212",
                                    "ENAME": "JEEVA",
                                    "JOB": "DATA ANALYST",
                                    "PHONE_NO": "9781534201",
                                    "AGE": "25",
                                    "SAL": "50000",
                                    "HIREDATE": "2015-08-24",
                                    "MID": "1122",
                                    "MNAME": "KUMAR",
                                    "LOCATION": "CHENNAI"
                                },
                                {
                                    "EID": "3245",
                                    "ENAME": "MUTHU",
                                    "JOB": "WEB DEVELOPER",
                                    "PHONE_NO": "7361894567",
                                    "AGE": "36",
                                    "SAL": "50000",
                                    "HIREDATE": "2016-06-20",
                                    "MID": "1122",
                                    "MNAME": "KUMAR",
                                    "LOCATION": "CHENNAI"
                                },
                                {
                                    "EID": "3762",
                                    "ENAME": "TAMIL",
                                    "JOB": "DATA SCIENTIET",
                                    "PHONE_NO": "8780321456",
                                    "AGE": "34",
                                    "SAL": "50000",
                                    "HIREDATE": "2015-08-24",
                                    "MID": "1122",
                                    "MNAME": "KUMAR",
                                    "LOCATION": "CHENNAI"
                                },
                                {
                                    "EID": "3832",
                                    "ENAME": "SANJAY",
                                    "JOB": "CLERK",
                                    "PHONE_NO": "6372556764",
                                    "AGE": "22",
                                    "SAL": "50000",
                                    "HIREDATE": "2019-06-11",
                                    "MID": "1122",
                                    "MNAME": "KUMAR",
                                    "LOCATION": "CHENNAI"
                                },
                                {
                                    "EID": "4212",
                                    "ENAME": "PREM KUMAR",
                                    "JOB": "DATA ANALYST",
                                    "PHONE_NO": "9086534201",
                                    "AGE": "27",
                                    "SAL": "50000",
                                    "HIREDATE": "2023-04-20",
                                    "MID": "1122",
                                    "MNAME": "KUMAR",
                                    "LOCATION": "CHENNAI"
                                },
                                {
                                    "EID": "4762",
                                    "ENAME": "CHANDRAN",
                                    "JOB": "DATA SCIENTIET",
                                    "PHONE_NO": "8789321406",
                                    "AGE": "30",
                                    "SAL": "50000",
                                    "HIREDATE": "2017-11-27",
                                    "MID": "1122",
                                    "MNAME": "KUMAR",
                                    "LOCATION": "CHENNAI"
                                },
                                {
                                    "EID": "4832",
                                    "ENAME": "SHANKAR",
                                    "JOB": "CLERK",
                                    "PHONE_NO": "6372456064",
                                    "AGE": "28",
                                    "SAL": "50000",
                                    "HIREDATE": "2013-10-15",
                                    "MID": "1122",
                                    "MNAME": "KUMAR",
                                    "LOCATION": "CHENNAI"
                                },
                                {
                                    "EID": "5245",
                                    "ENAME": "DEEPAK",
                                    "JOB": "WEB DEVELOPER",
                                    "PHONE_NO": "7367894167",
                                    "AGE": "28",
                                    "SAL": "50000",
                                    "HIREDATE": "2014-11-08",
                                    "MID": "1122",
                                    "MNAME": "KUMAR",
                                    "LOCATION": "CHENNAI"
                                },
                                {
                                    "EID": "1212",
                                    "ENAME": "VICKY",
                                    "JOB": "DATA ANALYST",
                                    "PHONE_NO": "9786534201",
                                    "AGE": "27",
                                    "SAL": "60000",
                                    "HIREDATE": "2020-04-01",
                                    "MID": "1123",
                                    "MNAME": "BARATH",
                                    "LOCATION": "BANGALORE"
                                },
                                {
                                    "EID": "1245",
                                    "ENAME": "VIJAY",
                                    "JOB": "WEB DEVELOPER",
                                    "PHONE_NO": "7367894567",
                                    "AGE": "27",
                                    "SAL": "60000",
                                    "HIREDATE": "2018-01-27",
                                    "MID": "1123",
                                    "MNAME": "BARATH",
                                    "LOCATION": "BANGALORE"
                                },
                                {
                                    "EID": "1721",
                                    "ENAME": "ARUN",
                                    "JOB": "WEB DEVELOPER",
                                    "PHONE_NO": "9876543210",
                                    "AGE": "25",
                                    "SAL": "60000",
                                    "HIREDATE": "2021-03-30",
                                    "MID": "1123",
                                    "MNAME": "BARATH",
                                    "LOCATION": "BANGALORE"
                                },
                                {
                                    "EID": "1762",
                                    "ENAME": "AJAY",
                                    "JOB": "DATA SCIENTIET",
                                    "PHONE_NO": "8789321456",
                                    "AGE": "30",
                                    "SAL": "60000",
                                    "HIREDATE": "2019-08-20",
                                    "MID": "1123",
                                    "MNAME": "BARATH",
                                    "LOCATION": "BANGALORE"
                                },
                                {
                                    "EID": "1832",
                                    "ENAME": "SURYA",
                                    "JOB": "CLERK",
                                    "PHONE_NO": "6372456764",
                                    "AGE": "28",
                                    "SAL": "60000",
                                    "HIREDATE": "2019-08-20",
                                    "MID": "1123",
                                    "MNAME": "BARATH",
                                    "LOCATION": "BANGALORE"
                                },
                                {
                                    "EID": "2121",
                                    "ENAME": "SANTHOSH",
                                    "JOB": "WEB DEVELOPER",
                                    "PHONE_NO": "9823543210",
                                    "AGE": "29",
                                    "SAL": "60000",
                                    "HIREDATE": "2022-02-14",
                                    "MID": "1123",
                                    "MNAME": "BARATH",
                                    "LOCATION": "BANGALORE"
                                },
                                {
                                    "EID": "2212",
                                    "ENAME": "JEEVA",
                                    "JOB": "DATA ANALYST",
                                    "PHONE_NO": "9781534201",
                                    "AGE": "25",
                                    "SAL": "60000",
                                    "HIREDATE": "2015-08-24",
                                    "MID": "1123",
                                    "MNAME": "BARATH",
                                    "LOCATION": "BANGALORE"
                                },
                                {
                                    "EID": "3245",
                                    "ENAME": "MUTHU",
                                    "JOB": "WEB DEVELOPER",
                                    "PHONE_NO": "7361894567",
                                    "AGE": "36",
                                    "SAL": "60000",
                                    "HIREDATE": "2016-06-20",
                                    "MID": "1123",
                                    "MNAME": "BARATH",
                                    "LOCATION": "BANGALORE"
                                },
                                {
                                    "EID": "3762",
                                    "ENAME": "TAMIL",
                                    "JOB": "DATA SCIENTIET",
                                    "PHONE_NO": "8780321456",
                                    "AGE": "34",
                                    "SAL": "60000",
                                    "HIREDATE": "2015-08-24",
                                    "MID": "1123",
                                    "MNAME": "BARATH",
                                    "LOCATION": "BANGALORE"
                                },
                                {
                                    "EID": "3832",
                                    "ENAME": "SANJAY",
                                    "JOB": "CLERK",
                                    "PHONE_NO": "6372556764",
                                    "AGE": "22",
                                    "SAL": "60000",
                                    "HIREDATE": "2019-06-11",
                                    "MID": "1123",
                                    "MNAME": "BARATH",
                                    "LOCATION": "BANGALORE"
                                },
                                {
                                    "EID": "4212",
                                    "ENAME": "PREM KUMAR",
                                    "JOB": "DATA ANALYST",
                                    "PHONE_NO": "9086534201",
                                    "AGE": "27",
                                    "SAL": "60000",
                                    "HIREDATE": "2023-04-20",
                                    "MID": "1123",
                                    "MNAME": "BARATH",
                                    "LOCATION": "BANGALORE"
                                },
                                {
                                    "EID": "4762",
                                    "ENAME": "CHANDRAN",
                                    "JOB": "DATA SCIENTIET",
                                    "PHONE_NO": "8789321406",
                                    "AGE": "30",
                                    "SAL": "60000",
                                    "HIREDATE": "2017-11-27",
                                    "MID": "1123",
                                    "MNAME": "BARATH",
                                    "LOCATION": "BANGALORE"
                                },
                                {
                                    "EID": "4832",
                                    "ENAME": "SHANKAR",
                                    "JOB": "CLERK",
                                    "PHONE_NO": "6372456064",
                                    "AGE": "28",
                                    "SAL": "60000",
                                    "HIREDATE": "2013-10-15",
                                    "MID": "1123",
                                    "MNAME": "BARATH",
                                    "LOCATION": "BANGALORE"
                                },
                                {
                                    "EID": "5245",
                                    "ENAME": "DEEPAK",
                                    "JOB": "WEB DEVELOPER",
                                    "PHONE_NO": "7367894167",
                                    "AGE": "28",
                                    "SAL": "60000",
                                    "HIREDATE": "2014-11-08",
                                    "MID": "1123",
                                    "MNAME": "BARATH",
                                    "LOCATION": "BANGALORE"
                                },
                                {
                                    "EID": "1212",
                                    "ENAME": "VICKY",
                                    "JOB": "DATA ANALYST",
                                    "PHONE_NO": "9786534201",
                                    "AGE": "27",
                                    "SAL": "75000",
                                    "HIREDATE": "2020-04-01",
                                    "MID": "1124",
                                    "MNAME": "ARIVU",
                                    "LOCATION": "MUMBAI"
                                },
                                {
                                    "EID": "1245",
                                    "ENAME": "VIJAY",
                                    "JOB": "WEB DEVELOPER",
                                    "PHONE_NO": "7367894567",
                                    "AGE": "27",
                                    "SAL": "75000",
                                    "HIREDATE": "2018-01-27",
                                    "MID": "1124",
                                    "MNAME": "ARIVU",
                                    "LOCATION": "MUMBAI"
                                },
                                {
                                    "EID": "1721",
                                    "ENAME": "ARUN",
                                    "JOB": "WEB DEVELOPER",
                                    "PHONE_NO": "9876543210",
                                    "AGE": "25",
                                    "SAL": "75000",
                                    "HIREDATE": "2021-03-30",
                                    "MID": "1124",
                                    "MNAME": "ARIVU",
                                    "LOCATION": "MUMBAI"
                                },
                                {
                                    "EID": "1762",
                                    "ENAME": "AJAY",
                                    "JOB": "DATA SCIENTIET",
                                    "PHONE_NO": "8789321456",
                                    "AGE": "30",
                                    "SAL": "75000",
                                    "HIREDATE": "2019-08-20",
                                    "MID": "1124",
                                    "MNAME": "ARIVU",
                                    "LOCATION": "MUMBAI"
                                },
                                {
                                    "EID": "1832",
                                    "ENAME": "SURYA",
                                    "JOB": "CLERK",
                                    "PHONE_NO": "6372456764",
                                    "AGE": "28",
                                    "SAL": "75000",
                                    "HIREDATE": "2019-08-20",
                                    "MID": "1124",
                                    "MNAME": "ARIVU",
                                    "LOCATION": "MUMBAI"
                                },
                                {
                                    "EID": "2121",
                                    "ENAME": "SANTHOSH",
                                    "JOB": "WEB DEVELOPER",
                                    "PHONE_NO": "9823543210",
                                    "AGE": "29",
                                    "SAL": "75000",
                                    "HIREDATE": "2022-02-14",
                                    "MID": "1124",
                                    "MNAME": "ARIVU",
                                    "LOCATION": "MUMBAI"
                                },
                                {
                                    "EID": "2212",
                                    "ENAME": "JEEVA",
                                    "JOB": "DATA ANALYST",
                                    "PHONE_NO": "9781534201",
                                    "AGE": "25",
                                    "SAL": "75000",
                                    "HIREDATE": "2015-08-24",
                                    "MID": "1124",
                                    "MNAME": "ARIVU",
                                    "LOCATION": "MUMBAI"
                                },
                                {
                                    "EID": "3245",
                                    "ENAME": "MUTHU",
                                    "JOB": "WEB DEVELOPER",
                                    "PHONE_NO": "7361894567",
                                    "AGE": "36",
                                    "SAL": "75000",
                                    "HIREDATE": "2016-06-20",
                                    "MID": "1124",
                                    "MNAME": "ARIVU",
                                    "LOCATION": "MUMBAI"
                                },
                                {
                                    "EID": "3762",
                                    "ENAME": "TAMIL",
                                    "JOB": "DATA SCIENTIET",
                                    "PHONE_NO": "8780321456",
                                    "AGE": "34",
                                    "SAL": "75000",
                                    "HIREDATE": "2015-08-24",
                                    "MID": "1124",
                                    "MNAME": "ARIVU",
                                    "LOCATION": "MUMBAI"
                                },
                                {
                                    "EID": "3832",
                                    "ENAME": "SANJAY",
                                    "JOB": "CLERK",
                                    "PHONE_NO": "6372556764",
                                    "AGE": "22",
                                    "SAL": "75000",
                                    "HIREDATE": "2019-06-11",
                                    "MID": "1124",
                                    "MNAME": "ARIVU",
                                    "LOCATION": "MUMBAI"
                                },
                                {
                                    "EID": "4212",
                                    "ENAME": "PREM KUMAR",
                                    "JOB": "DATA ANALYST",
                                    "PHONE_NO": "9086534201",
                                    "AGE": "27",
                                    "SAL": "75000",
                                    "HIREDATE": "2023-04-20",
                                    "MID": "1124",
                                    "MNAME": "ARIVU",
                                    "LOCATION": "MUMBAI"
                                },
                                {
                                    "EID": "4762",
                                    "ENAME": "CHANDRAN",
                                    "JOB": "DATA SCIENTIET",
                                    "PHONE_NO": "8789321406",
                                    "AGE": "30",
                                    "SAL": "75000",
                                    "HIREDATE": "2017-11-27",
                                    "MID": "1124",
                                    "MNAME": "ARIVU",
                                    "LOCATION": "MUMBAI"
                                },
                                {
                                    "EID": "4832",
                                    "ENAME": "SHANKAR",
                                    "JOB": "CLERK",
                                    "PHONE_NO": "6372456064",
                                    "AGE": "28",
                                    "SAL": "75000",
                                    "HIREDATE": "2013-10-15",
                                    "MID": "1124",
                                    "MNAME": "ARIVU",
                                    "LOCATION": "MUMBAI"
                                },
                                {
                                    "EID": "5245",
                                    "ENAME": "DEEPAK",
                                    "JOB": "WEB DEVELOPER",
                                    "PHONE_NO": "7367894167",
                                    "AGE": "28",
                                    "SAL": "75000",
                                    "HIREDATE": "2014-11-08",
                                    "MID": "1124",
                                    "MNAME": "ARIVU",
                                    "LOCATION": "MUMBAI"
                                }
                            ]
                        },
                        "text/html": "<table><tr><th>EID</th><th>ENAME</th><th>JOB</th><th>PHONE_NO</th><th>AGE</th><th>SAL</th><th>HIREDATE</th><th>MID</th><th>MID</th><th>MNAME</th><th>LOCATION</th><th>SAL</th></tr><tr><td>1212</td><td>VICKY</td><td>DATA ANALYST</td><td>9786534201</td><td>27</td><td>45000</td><td>2020-04-01</td><td>1122</td><td>1122</td><td>KUMAR</td><td>CHENNAI</td><td>50000</td></tr><tr><td>1245</td><td>VIJAY</td><td>WEB DEVELOPER</td><td>7367894567</td><td>27</td><td>25000</td><td>2018-01-27</td><td>1123</td><td>1122</td><td>KUMAR</td><td>CHENNAI</td><td>50000</td></tr><tr><td>1721</td><td>ARUN</td><td>WEB DEVELOPER</td><td>9876543210</td><td>25</td><td>35000</td><td>2021-03-30</td><td>1123</td><td>1122</td><td>KUMAR</td><td>CHENNAI</td><td>50000</td></tr><tr><td>1762</td><td>AJAY</td><td>DATA SCIENTIET</td><td>8789321456</td><td>30</td><td>45000</td><td>2019-08-20</td><td>1124</td><td>1122</td><td>KUMAR</td><td>CHENNAI</td><td>50000</td></tr><tr><td>1832</td><td>SURYA</td><td>CLERK</td><td>6372456764</td><td>28</td><td>20000</td><td>2019-08-20</td><td>NULL</td><td>1122</td><td>KUMAR</td><td>CHENNAI</td><td>50000</td></tr><tr><td>2121</td><td>SANTHOSH</td><td>WEB DEVELOPER</td><td>9823543210</td><td>29</td><td>25000</td><td>2022-02-14</td><td>1123</td><td>1122</td><td>KUMAR</td><td>CHENNAI</td><td>50000</td></tr><tr><td>2212</td><td>JEEVA</td><td>DATA ANALYST</td><td>9781534201</td><td>25</td><td>30000</td><td>2015-08-24</td><td>1122</td><td>1122</td><td>KUMAR</td><td>CHENNAI</td><td>50000</td></tr><tr><td>3245</td><td>MUTHU</td><td>WEB DEVELOPER</td><td>7361894567</td><td>36</td><td>25000</td><td>2016-06-20</td><td>1123</td><td>1122</td><td>KUMAR</td><td>CHENNAI</td><td>50000</td></tr><tr><td>3762</td><td>TAMIL</td><td>DATA SCIENTIET</td><td>8780321456</td><td>34</td><td>25000</td><td>2015-08-24</td><td>1124</td><td>1122</td><td>KUMAR</td><td>CHENNAI</td><td>50000</td></tr><tr><td>3832</td><td>SANJAY</td><td>CLERK</td><td>6372556764</td><td>22</td><td>12000</td><td>2019-06-11</td><td>NULL</td><td>1122</td><td>KUMAR</td><td>CHENNAI</td><td>50000</td></tr><tr><td>4212</td><td>PREM KUMAR</td><td>DATA ANALYST</td><td>9086534201</td><td>27</td><td>40000</td><td>2023-04-20</td><td>1122</td><td>1122</td><td>KUMAR</td><td>CHENNAI</td><td>50000</td></tr><tr><td>4762</td><td>CHANDRAN</td><td>DATA SCIENTIET</td><td>8789321406</td><td>30</td><td>45000</td><td>2017-11-27</td><td>1124</td><td>1122</td><td>KUMAR</td><td>CHENNAI</td><td>50000</td></tr><tr><td>4832</td><td>SHANKAR</td><td>CLERK</td><td>6372456064</td><td>28</td><td>20000</td><td>2013-10-15</td><td>NULL</td><td>1122</td><td>KUMAR</td><td>CHENNAI</td><td>50000</td></tr><tr><td>5245</td><td>DEEPAK</td><td>WEB DEVELOPER</td><td>7367894167</td><td>28</td><td>25000</td><td>2014-11-08</td><td>1123</td><td>1122</td><td>KUMAR</td><td>CHENNAI</td><td>50000</td></tr><tr><td>1212</td><td>VICKY</td><td>DATA ANALYST</td><td>9786534201</td><td>27</td><td>45000</td><td>2020-04-01</td><td>1122</td><td>1123</td><td>BARATH</td><td>BANGALORE</td><td>60000</td></tr><tr><td>1245</td><td>VIJAY</td><td>WEB DEVELOPER</td><td>7367894567</td><td>27</td><td>25000</td><td>2018-01-27</td><td>1123</td><td>1123</td><td>BARATH</td><td>BANGALORE</td><td>60000</td></tr><tr><td>1721</td><td>ARUN</td><td>WEB DEVELOPER</td><td>9876543210</td><td>25</td><td>35000</td><td>2021-03-30</td><td>1123</td><td>1123</td><td>BARATH</td><td>BANGALORE</td><td>60000</td></tr><tr><td>1762</td><td>AJAY</td><td>DATA SCIENTIET</td><td>8789321456</td><td>30</td><td>45000</td><td>2019-08-20</td><td>1124</td><td>1123</td><td>BARATH</td><td>BANGALORE</td><td>60000</td></tr><tr><td>1832</td><td>SURYA</td><td>CLERK</td><td>6372456764</td><td>28</td><td>20000</td><td>2019-08-20</td><td>NULL</td><td>1123</td><td>BARATH</td><td>BANGALORE</td><td>60000</td></tr><tr><td>2121</td><td>SANTHOSH</td><td>WEB DEVELOPER</td><td>9823543210</td><td>29</td><td>25000</td><td>2022-02-14</td><td>1123</td><td>1123</td><td>BARATH</td><td>BANGALORE</td><td>60000</td></tr><tr><td>2212</td><td>JEEVA</td><td>DATA ANALYST</td><td>9781534201</td><td>25</td><td>30000</td><td>2015-08-24</td><td>1122</td><td>1123</td><td>BARATH</td><td>BANGALORE</td><td>60000</td></tr><tr><td>3245</td><td>MUTHU</td><td>WEB DEVELOPER</td><td>7361894567</td><td>36</td><td>25000</td><td>2016-06-20</td><td>1123</td><td>1123</td><td>BARATH</td><td>BANGALORE</td><td>60000</td></tr><tr><td>3762</td><td>TAMIL</td><td>DATA SCIENTIET</td><td>8780321456</td><td>34</td><td>25000</td><td>2015-08-24</td><td>1124</td><td>1123</td><td>BARATH</td><td>BANGALORE</td><td>60000</td></tr><tr><td>3832</td><td>SANJAY</td><td>CLERK</td><td>6372556764</td><td>22</td><td>12000</td><td>2019-06-11</td><td>NULL</td><td>1123</td><td>BARATH</td><td>BANGALORE</td><td>60000</td></tr><tr><td>4212</td><td>PREM KUMAR</td><td>DATA ANALYST</td><td>9086534201</td><td>27</td><td>40000</td><td>2023-04-20</td><td>1122</td><td>1123</td><td>BARATH</td><td>BANGALORE</td><td>60000</td></tr><tr><td>4762</td><td>CHANDRAN</td><td>DATA SCIENTIET</td><td>8789321406</td><td>30</td><td>45000</td><td>2017-11-27</td><td>1124</td><td>1123</td><td>BARATH</td><td>BANGALORE</td><td>60000</td></tr><tr><td>4832</td><td>SHANKAR</td><td>CLERK</td><td>6372456064</td><td>28</td><td>20000</td><td>2013-10-15</td><td>NULL</td><td>1123</td><td>BARATH</td><td>BANGALORE</td><td>60000</td></tr><tr><td>5245</td><td>DEEPAK</td><td>WEB DEVELOPER</td><td>7367894167</td><td>28</td><td>25000</td><td>2014-11-08</td><td>1123</td><td>1123</td><td>BARATH</td><td>BANGALORE</td><td>60000</td></tr><tr><td>1212</td><td>VICKY</td><td>DATA ANALYST</td><td>9786534201</td><td>27</td><td>45000</td><td>2020-04-01</td><td>1122</td><td>1124</td><td>ARIVU</td><td>MUMBAI</td><td>75000</td></tr><tr><td>1245</td><td>VIJAY</td><td>WEB DEVELOPER</td><td>7367894567</td><td>27</td><td>25000</td><td>2018-01-27</td><td>1123</td><td>1124</td><td>ARIVU</td><td>MUMBAI</td><td>75000</td></tr><tr><td>1721</td><td>ARUN</td><td>WEB DEVELOPER</td><td>9876543210</td><td>25</td><td>35000</td><td>2021-03-30</td><td>1123</td><td>1124</td><td>ARIVU</td><td>MUMBAI</td><td>75000</td></tr><tr><td>1762</td><td>AJAY</td><td>DATA SCIENTIET</td><td>8789321456</td><td>30</td><td>45000</td><td>2019-08-20</td><td>1124</td><td>1124</td><td>ARIVU</td><td>MUMBAI</td><td>75000</td></tr><tr><td>1832</td><td>SURYA</td><td>CLERK</td><td>6372456764</td><td>28</td><td>20000</td><td>2019-08-20</td><td>NULL</td><td>1124</td><td>ARIVU</td><td>MUMBAI</td><td>75000</td></tr><tr><td>2121</td><td>SANTHOSH</td><td>WEB DEVELOPER</td><td>9823543210</td><td>29</td><td>25000</td><td>2022-02-14</td><td>1123</td><td>1124</td><td>ARIVU</td><td>MUMBAI</td><td>75000</td></tr><tr><td>2212</td><td>JEEVA</td><td>DATA ANALYST</td><td>9781534201</td><td>25</td><td>30000</td><td>2015-08-24</td><td>1122</td><td>1124</td><td>ARIVU</td><td>MUMBAI</td><td>75000</td></tr><tr><td>3245</td><td>MUTHU</td><td>WEB DEVELOPER</td><td>7361894567</td><td>36</td><td>25000</td><td>2016-06-20</td><td>1123</td><td>1124</td><td>ARIVU</td><td>MUMBAI</td><td>75000</td></tr><tr><td>3762</td><td>TAMIL</td><td>DATA SCIENTIET</td><td>8780321456</td><td>34</td><td>25000</td><td>2015-08-24</td><td>1124</td><td>1124</td><td>ARIVU</td><td>MUMBAI</td><td>75000</td></tr><tr><td>3832</td><td>SANJAY</td><td>CLERK</td><td>6372556764</td><td>22</td><td>12000</td><td>2019-06-11</td><td>NULL</td><td>1124</td><td>ARIVU</td><td>MUMBAI</td><td>75000</td></tr><tr><td>4212</td><td>PREM KUMAR</td><td>DATA ANALYST</td><td>9086534201</td><td>27</td><td>40000</td><td>2023-04-20</td><td>1122</td><td>1124</td><td>ARIVU</td><td>MUMBAI</td><td>75000</td></tr><tr><td>4762</td><td>CHANDRAN</td><td>DATA SCIENTIET</td><td>8789321406</td><td>30</td><td>45000</td><td>2017-11-27</td><td>1124</td><td>1124</td><td>ARIVU</td><td>MUMBAI</td><td>75000</td></tr><tr><td>4832</td><td>SHANKAR</td><td>CLERK</td><td>6372456064</td><td>28</td><td>20000</td><td>2013-10-15</td><td>NULL</td><td>1124</td><td>ARIVU</td><td>MUMBAI</td><td>75000</td></tr><tr><td>5245</td><td>DEEPAK</td><td>WEB DEVELOPER</td><td>7367894167</td><td>28</td><td>25000</td><td>2014-11-08</td><td>1123</td><td>1124</td><td>ARIVU</td><td>MUMBAI</td><td>75000</td></tr></table>"
                    },
                    "metadata": {}
                }
            ],
            "execution_count": 10
        },
        {
            "cell_type": "markdown",
            "source": [
                "INNER JOIN;"
            ],
            "metadata": {
                "language": "sql",
                "azdata_cell_guid": "3e56c9c4-233a-49fc-8e27-3c445cca0dde"
            },
            "attachments": {}
        },
        {
            "cell_type": "code",
            "source": [
                "SELECT *\r\n",
                "FROM EMPLOYE_DETAILS,MANAGER\r\n",
                "WHERE EMPLOYE_DETAILS.MID=MANAGER.MID;"
            ],
            "metadata": {
                "azdata_cell_guid": "74e3cace-923c-4850-9b52-22e6d4d77c22",
                "language": "sql"
            },
            "outputs": [
                {
                    "output_type": "display_data",
                    "data": {
                        "text/html": "(11 rows affected)"
                    },
                    "metadata": {}
                },
                {
                    "output_type": "display_data",
                    "data": {
                        "text/html": "Total execution time: 00:00:00.014"
                    },
                    "metadata": {}
                },
                {
                    "output_type": "execute_result",
                    "execution_count": 9,
                    "data": {
                        "application/vnd.dataresource+json": {
                            "schema": {
                                "fields": [
                                    {
                                        "name": "EID"
                                    },
                                    {
                                        "name": "ENAME"
                                    },
                                    {
                                        "name": "JOB"
                                    },
                                    {
                                        "name": "PHONE_NO"
                                    },
                                    {
                                        "name": "AGE"
                                    },
                                    {
                                        "name": "SAL"
                                    },
                                    {
                                        "name": "HIREDATE"
                                    },
                                    {
                                        "name": "MID"
                                    },
                                    {
                                        "name": "MID"
                                    },
                                    {
                                        "name": "MNAME"
                                    },
                                    {
                                        "name": "LOCATION"
                                    },
                                    {
                                        "name": "SAL"
                                    }
                                ]
                            },
                            "data": [
                                {
                                    "EID": "1212",
                                    "ENAME": "VICKY",
                                    "JOB": "DATA ANALYST",
                                    "PHONE_NO": "9786534201",
                                    "AGE": "27",
                                    "SAL": "50000",
                                    "HIREDATE": "2020-04-01",
                                    "MID": "1122",
                                    "MNAME": "KUMAR",
                                    "LOCATION": "CHENNAI"
                                },
                                {
                                    "EID": "1245",
                                    "ENAME": "VIJAY",
                                    "JOB": "WEB DEVELOPER",
                                    "PHONE_NO": "7367894567",
                                    "AGE": "27",
                                    "SAL": "60000",
                                    "HIREDATE": "2018-01-27",
                                    "MID": "1123",
                                    "MNAME": "BARATH",
                                    "LOCATION": "BANGALORE"
                                },
                                {
                                    "EID": "1721",
                                    "ENAME": "ARUN",
                                    "JOB": "WEB DEVELOPER",
                                    "PHONE_NO": "9876543210",
                                    "AGE": "25",
                                    "SAL": "60000",
                                    "HIREDATE": "2021-03-30",
                                    "MID": "1123",
                                    "MNAME": "BARATH",
                                    "LOCATION": "BANGALORE"
                                },
                                {
                                    "EID": "1762",
                                    "ENAME": "AJAY",
                                    "JOB": "DATA SCIENTIET",
                                    "PHONE_NO": "8789321456",
                                    "AGE": "30",
                                    "SAL": "75000",
                                    "HIREDATE": "2019-08-20",
                                    "MID": "1124",
                                    "MNAME": "ARIVU",
                                    "LOCATION": "MUMBAI"
                                },
                                {
                                    "EID": "2121",
                                    "ENAME": "SANTHOSH",
                                    "JOB": "WEB DEVELOPER",
                                    "PHONE_NO": "9823543210",
                                    "AGE": "29",
                                    "SAL": "60000",
                                    "HIREDATE": "2022-02-14",
                                    "MID": "1123",
                                    "MNAME": "BARATH",
                                    "LOCATION": "BANGALORE"
                                },
                                {
                                    "EID": "2212",
                                    "ENAME": "JEEVA",
                                    "JOB": "DATA ANALYST",
                                    "PHONE_NO": "9781534201",
                                    "AGE": "25",
                                    "SAL": "50000",
                                    "HIREDATE": "2015-08-24",
                                    "MID": "1122",
                                    "MNAME": "KUMAR",
                                    "LOCATION": "CHENNAI"
                                },
                                {
                                    "EID": "3245",
                                    "ENAME": "MUTHU",
                                    "JOB": "WEB DEVELOPER",
                                    "PHONE_NO": "7361894567",
                                    "AGE": "36",
                                    "SAL": "60000",
                                    "HIREDATE": "2016-06-20",
                                    "MID": "1123",
                                    "MNAME": "BARATH",
                                    "LOCATION": "BANGALORE"
                                },
                                {
                                    "EID": "3762",
                                    "ENAME": "TAMIL",
                                    "JOB": "DATA SCIENTIET",
                                    "PHONE_NO": "8780321456",
                                    "AGE": "34",
                                    "SAL": "75000",
                                    "HIREDATE": "2015-08-24",
                                    "MID": "1124",
                                    "MNAME": "ARIVU",
                                    "LOCATION": "MUMBAI"
                                },
                                {
                                    "EID": "4212",
                                    "ENAME": "PREM KUMAR",
                                    "JOB": "DATA ANALYST",
                                    "PHONE_NO": "9086534201",
                                    "AGE": "27",
                                    "SAL": "50000",
                                    "HIREDATE": "2023-04-20",
                                    "MID": "1122",
                                    "MNAME": "KUMAR",
                                    "LOCATION": "CHENNAI"
                                },
                                {
                                    "EID": "4762",
                                    "ENAME": "CHANDRAN",
                                    "JOB": "DATA SCIENTIET",
                                    "PHONE_NO": "8789321406",
                                    "AGE": "30",
                                    "SAL": "75000",
                                    "HIREDATE": "2017-11-27",
                                    "MID": "1124",
                                    "MNAME": "ARIVU",
                                    "LOCATION": "MUMBAI"
                                },
                                {
                                    "EID": "5245",
                                    "ENAME": "DEEPAK",
                                    "JOB": "WEB DEVELOPER",
                                    "PHONE_NO": "7367894167",
                                    "AGE": "28",
                                    "SAL": "60000",
                                    "HIREDATE": "2014-11-08",
                                    "MID": "1123",
                                    "MNAME": "BARATH",
                                    "LOCATION": "BANGALORE"
                                }
                            ]
                        },
                        "text/html": "<table><tr><th>EID</th><th>ENAME</th><th>JOB</th><th>PHONE_NO</th><th>AGE</th><th>SAL</th><th>HIREDATE</th><th>MID</th><th>MID</th><th>MNAME</th><th>LOCATION</th><th>SAL</th></tr><tr><td>1212</td><td>VICKY</td><td>DATA ANALYST</td><td>9786534201</td><td>27</td><td>45000</td><td>2020-04-01</td><td>1122</td><td>1122</td><td>KUMAR</td><td>CHENNAI</td><td>50000</td></tr><tr><td>1245</td><td>VIJAY</td><td>WEB DEVELOPER</td><td>7367894567</td><td>27</td><td>25000</td><td>2018-01-27</td><td>1123</td><td>1123</td><td>BARATH</td><td>BANGALORE</td><td>60000</td></tr><tr><td>1721</td><td>ARUN</td><td>WEB DEVELOPER</td><td>9876543210</td><td>25</td><td>35000</td><td>2021-03-30</td><td>1123</td><td>1123</td><td>BARATH</td><td>BANGALORE</td><td>60000</td></tr><tr><td>1762</td><td>AJAY</td><td>DATA SCIENTIET</td><td>8789321456</td><td>30</td><td>45000</td><td>2019-08-20</td><td>1124</td><td>1124</td><td>ARIVU</td><td>MUMBAI</td><td>75000</td></tr><tr><td>2121</td><td>SANTHOSH</td><td>WEB DEVELOPER</td><td>9823543210</td><td>29</td><td>25000</td><td>2022-02-14</td><td>1123</td><td>1123</td><td>BARATH</td><td>BANGALORE</td><td>60000</td></tr><tr><td>2212</td><td>JEEVA</td><td>DATA ANALYST</td><td>9781534201</td><td>25</td><td>30000</td><td>2015-08-24</td><td>1122</td><td>1122</td><td>KUMAR</td><td>CHENNAI</td><td>50000</td></tr><tr><td>3245</td><td>MUTHU</td><td>WEB DEVELOPER</td><td>7361894567</td><td>36</td><td>25000</td><td>2016-06-20</td><td>1123</td><td>1123</td><td>BARATH</td><td>BANGALORE</td><td>60000</td></tr><tr><td>3762</td><td>TAMIL</td><td>DATA SCIENTIET</td><td>8780321456</td><td>34</td><td>25000</td><td>2015-08-24</td><td>1124</td><td>1124</td><td>ARIVU</td><td>MUMBAI</td><td>75000</td></tr><tr><td>4212</td><td>PREM KUMAR</td><td>DATA ANALYST</td><td>9086534201</td><td>27</td><td>40000</td><td>2023-04-20</td><td>1122</td><td>1122</td><td>KUMAR</td><td>CHENNAI</td><td>50000</td></tr><tr><td>4762</td><td>CHANDRAN</td><td>DATA SCIENTIET</td><td>8789321406</td><td>30</td><td>45000</td><td>2017-11-27</td><td>1124</td><td>1124</td><td>ARIVU</td><td>MUMBAI</td><td>75000</td></tr><tr><td>5245</td><td>DEEPAK</td><td>WEB DEVELOPER</td><td>7367894167</td><td>28</td><td>25000</td><td>2014-11-08</td><td>1123</td><td>1123</td><td>BARATH</td><td>BANGALORE</td><td>60000</td></tr></table>"
                    },
                    "metadata": {}
                }
            ],
            "execution_count": 9
        },
        {
            "cell_type": "markdown",
            "source": [
                "OUTER JOIN;"
            ],
            "metadata": {
                "language": "sql",
                "azdata_cell_guid": "b77d028d-c8e5-4cde-8fb3-2af0c53f97b7"
            },
            "attachments": {}
        },
        {
            "cell_type": "code",
            "source": [
                "SELECT *\r\n",
                "FROM EMPLOYE_DETAILS LEFT JOIN MANAGER\r\n",
                "ON EMPLOYE_DETAILS.MID=MANAGER.MID;"
            ],
            "metadata": {
                "language": "sql",
                "azdata_cell_guid": "47faa674-a50a-4b41-a6da-fa6e4193ffaa",
                "tags": []
            },
            "outputs": [
                {
                    "output_type": "display_data",
                    "data": {
                        "text/html": "(14 rows affected)"
                    },
                    "metadata": {}
                },
                {
                    "output_type": "display_data",
                    "data": {
                        "text/html": "Total execution time: 00:00:00.011"
                    },
                    "metadata": {}
                },
                {
                    "output_type": "execute_result",
                    "execution_count": 8,
                    "data": {
                        "application/vnd.dataresource+json": {
                            "schema": {
                                "fields": [
                                    {
                                        "name": "EID"
                                    },
                                    {
                                        "name": "ENAME"
                                    },
                                    {
                                        "name": "JOB"
                                    },
                                    {
                                        "name": "PHONE_NO"
                                    },
                                    {
                                        "name": "AGE"
                                    },
                                    {
                                        "name": "SAL"
                                    },
                                    {
                                        "name": "HIREDATE"
                                    },
                                    {
                                        "name": "MID"
                                    },
                                    {
                                        "name": "MID"
                                    },
                                    {
                                        "name": "MNAME"
                                    },
                                    {
                                        "name": "LOCATION"
                                    },
                                    {
                                        "name": "SAL"
                                    }
                                ]
                            },
                            "data": [
                                {
                                    "EID": "1212",
                                    "ENAME": "VICKY",
                                    "JOB": "DATA ANALYST",
                                    "PHONE_NO": "9786534201",
                                    "AGE": "27",
                                    "SAL": "50000",
                                    "HIREDATE": "2020-04-01",
                                    "MID": "1122",
                                    "MNAME": "KUMAR",
                                    "LOCATION": "CHENNAI"
                                },
                                {
                                    "EID": "1245",
                                    "ENAME": "VIJAY",
                                    "JOB": "WEB DEVELOPER",
                                    "PHONE_NO": "7367894567",
                                    "AGE": "27",
                                    "SAL": "60000",
                                    "HIREDATE": "2018-01-27",
                                    "MID": "1123",
                                    "MNAME": "BARATH",
                                    "LOCATION": "BANGALORE"
                                },
                                {
                                    "EID": "1721",
                                    "ENAME": "ARUN",
                                    "JOB": "WEB DEVELOPER",
                                    "PHONE_NO": "9876543210",
                                    "AGE": "25",
                                    "SAL": "60000",
                                    "HIREDATE": "2021-03-30",
                                    "MID": "1123",
                                    "MNAME": "BARATH",
                                    "LOCATION": "BANGALORE"
                                },
                                {
                                    "EID": "1762",
                                    "ENAME": "AJAY",
                                    "JOB": "DATA SCIENTIET",
                                    "PHONE_NO": "8789321456",
                                    "AGE": "30",
                                    "SAL": "75000",
                                    "HIREDATE": "2019-08-20",
                                    "MID": "1124",
                                    "MNAME": "ARIVU",
                                    "LOCATION": "MUMBAI"
                                },
                                {
                                    "EID": "1832",
                                    "ENAME": "SURYA",
                                    "JOB": "CLERK",
                                    "PHONE_NO": "6372456764",
                                    "AGE": "28",
                                    "SAL": "NULL",
                                    "HIREDATE": "2019-08-20",
                                    "MID": "NULL",
                                    "MNAME": "NULL",
                                    "LOCATION": "NULL"
                                },
                                {
                                    "EID": "2121",
                                    "ENAME": "SANTHOSH",
                                    "JOB": "WEB DEVELOPER",
                                    "PHONE_NO": "9823543210",
                                    "AGE": "29",
                                    "SAL": "60000",
                                    "HIREDATE": "2022-02-14",
                                    "MID": "1123",
                                    "MNAME": "BARATH",
                                    "LOCATION": "BANGALORE"
                                },
                                {
                                    "EID": "2212",
                                    "ENAME": "JEEVA",
                                    "JOB": "DATA ANALYST",
                                    "PHONE_NO": "9781534201",
                                    "AGE": "25",
                                    "SAL": "50000",
                                    "HIREDATE": "2015-08-24",
                                    "MID": "1122",
                                    "MNAME": "KUMAR",
                                    "LOCATION": "CHENNAI"
                                },
                                {
                                    "EID": "3245",
                                    "ENAME": "MUTHU",
                                    "JOB": "WEB DEVELOPER",
                                    "PHONE_NO": "7361894567",
                                    "AGE": "36",
                                    "SAL": "60000",
                                    "HIREDATE": "2016-06-20",
                                    "MID": "1123",
                                    "MNAME": "BARATH",
                                    "LOCATION": "BANGALORE"
                                },
                                {
                                    "EID": "3762",
                                    "ENAME": "TAMIL",
                                    "JOB": "DATA SCIENTIET",
                                    "PHONE_NO": "8780321456",
                                    "AGE": "34",
                                    "SAL": "75000",
                                    "HIREDATE": "2015-08-24",
                                    "MID": "1124",
                                    "MNAME": "ARIVU",
                                    "LOCATION": "MUMBAI"
                                },
                                {
                                    "EID": "3832",
                                    "ENAME": "SANJAY",
                                    "JOB": "CLERK",
                                    "PHONE_NO": "6372556764",
                                    "AGE": "22",
                                    "SAL": "NULL",
                                    "HIREDATE": "2019-06-11",
                                    "MID": "NULL",
                                    "MNAME": "NULL",
                                    "LOCATION": "NULL"
                                },
                                {
                                    "EID": "4212",
                                    "ENAME": "PREM KUMAR",
                                    "JOB": "DATA ANALYST",
                                    "PHONE_NO": "9086534201",
                                    "AGE": "27",
                                    "SAL": "50000",
                                    "HIREDATE": "2023-04-20",
                                    "MID": "1122",
                                    "MNAME": "KUMAR",
                                    "LOCATION": "CHENNAI"
                                },
                                {
                                    "EID": "4762",
                                    "ENAME": "CHANDRAN",
                                    "JOB": "DATA SCIENTIET",
                                    "PHONE_NO": "8789321406",
                                    "AGE": "30",
                                    "SAL": "75000",
                                    "HIREDATE": "2017-11-27",
                                    "MID": "1124",
                                    "MNAME": "ARIVU",
                                    "LOCATION": "MUMBAI"
                                },
                                {
                                    "EID": "4832",
                                    "ENAME": "SHANKAR",
                                    "JOB": "CLERK",
                                    "PHONE_NO": "6372456064",
                                    "AGE": "28",
                                    "SAL": "NULL",
                                    "HIREDATE": "2013-10-15",
                                    "MID": "NULL",
                                    "MNAME": "NULL",
                                    "LOCATION": "NULL"
                                },
                                {
                                    "EID": "5245",
                                    "ENAME": "DEEPAK",
                                    "JOB": "WEB DEVELOPER",
                                    "PHONE_NO": "7367894167",
                                    "AGE": "28",
                                    "SAL": "60000",
                                    "HIREDATE": "2014-11-08",
                                    "MID": "1123",
                                    "MNAME": "BARATH",
                                    "LOCATION": "BANGALORE"
                                }
                            ]
                        },
                        "text/html": "<table><tr><th>EID</th><th>ENAME</th><th>JOB</th><th>PHONE_NO</th><th>AGE</th><th>SAL</th><th>HIREDATE</th><th>MID</th><th>MID</th><th>MNAME</th><th>LOCATION</th><th>SAL</th></tr><tr><td>1212</td><td>VICKY</td><td>DATA ANALYST</td><td>9786534201</td><td>27</td><td>45000</td><td>2020-04-01</td><td>1122</td><td>1122</td><td>KUMAR</td><td>CHENNAI</td><td>50000</td></tr><tr><td>1245</td><td>VIJAY</td><td>WEB DEVELOPER</td><td>7367894567</td><td>27</td><td>25000</td><td>2018-01-27</td><td>1123</td><td>1123</td><td>BARATH</td><td>BANGALORE</td><td>60000</td></tr><tr><td>1721</td><td>ARUN</td><td>WEB DEVELOPER</td><td>9876543210</td><td>25</td><td>35000</td><td>2021-03-30</td><td>1123</td><td>1123</td><td>BARATH</td><td>BANGALORE</td><td>60000</td></tr><tr><td>1762</td><td>AJAY</td><td>DATA SCIENTIET</td><td>8789321456</td><td>30</td><td>45000</td><td>2019-08-20</td><td>1124</td><td>1124</td><td>ARIVU</td><td>MUMBAI</td><td>75000</td></tr><tr><td>1832</td><td>SURYA</td><td>CLERK</td><td>6372456764</td><td>28</td><td>20000</td><td>2019-08-20</td><td>NULL</td><td>NULL</td><td>NULL</td><td>NULL</td><td>NULL</td></tr><tr><td>2121</td><td>SANTHOSH</td><td>WEB DEVELOPER</td><td>9823543210</td><td>29</td><td>25000</td><td>2022-02-14</td><td>1123</td><td>1123</td><td>BARATH</td><td>BANGALORE</td><td>60000</td></tr><tr><td>2212</td><td>JEEVA</td><td>DATA ANALYST</td><td>9781534201</td><td>25</td><td>30000</td><td>2015-08-24</td><td>1122</td><td>1122</td><td>KUMAR</td><td>CHENNAI</td><td>50000</td></tr><tr><td>3245</td><td>MUTHU</td><td>WEB DEVELOPER</td><td>7361894567</td><td>36</td><td>25000</td><td>2016-06-20</td><td>1123</td><td>1123</td><td>BARATH</td><td>BANGALORE</td><td>60000</td></tr><tr><td>3762</td><td>TAMIL</td><td>DATA SCIENTIET</td><td>8780321456</td><td>34</td><td>25000</td><td>2015-08-24</td><td>1124</td><td>1124</td><td>ARIVU</td><td>MUMBAI</td><td>75000</td></tr><tr><td>3832</td><td>SANJAY</td><td>CLERK</td><td>6372556764</td><td>22</td><td>12000</td><td>2019-06-11</td><td>NULL</td><td>NULL</td><td>NULL</td><td>NULL</td><td>NULL</td></tr><tr><td>4212</td><td>PREM KUMAR</td><td>DATA ANALYST</td><td>9086534201</td><td>27</td><td>40000</td><td>2023-04-20</td><td>1122</td><td>1122</td><td>KUMAR</td><td>CHENNAI</td><td>50000</td></tr><tr><td>4762</td><td>CHANDRAN</td><td>DATA SCIENTIET</td><td>8789321406</td><td>30</td><td>45000</td><td>2017-11-27</td><td>1124</td><td>1124</td><td>ARIVU</td><td>MUMBAI</td><td>75000</td></tr><tr><td>4832</td><td>SHANKAR</td><td>CLERK</td><td>6372456064</td><td>28</td><td>20000</td><td>2013-10-15</td><td>NULL</td><td>NULL</td><td>NULL</td><td>NULL</td><td>NULL</td></tr><tr><td>5245</td><td>DEEPAK</td><td>WEB DEVELOPER</td><td>7367894167</td><td>28</td><td>25000</td><td>2014-11-08</td><td>1123</td><td>1123</td><td>BARATH</td><td>BANGALORE</td><td>60000</td></tr></table>"
                    },
                    "metadata": {}
                }
            ],
            "execution_count": 8
        },
        {
            "cell_type": "markdown",
            "source": [
                "RIGHT OUTER JOIN;"
            ],
            "metadata": {
                "language": "sql",
                "azdata_cell_guid": "278d0a13-c4af-4acc-b850-fb29ebf9aa0d"
            },
            "attachments": {}
        },
        {
            "cell_type": "code",
            "source": [
                "SELECT *\r\n",
                "FROM EMPLOYE_DETAILS RIGHT JOIN MANAGER\r\n",
                "ON EMPLOYE_DETAILS.MID=MANAGER.MID;"
            ],
            "metadata": {
                "language": "sql",
                "azdata_cell_guid": "36d01c09-c92c-4b06-b5d3-502565ff7542"
            },
            "outputs": [
                {
                    "output_type": "display_data",
                    "data": {
                        "text/html": "(11 rows affected)"
                    },
                    "metadata": {}
                },
                {
                    "output_type": "display_data",
                    "data": {
                        "text/html": "Total execution time: 00:00:00.018"
                    },
                    "metadata": {}
                },
                {
                    "output_type": "execute_result",
                    "execution_count": 7,
                    "data": {
                        "application/vnd.dataresource+json": {
                            "schema": {
                                "fields": [
                                    {
                                        "name": "EID"
                                    },
                                    {
                                        "name": "ENAME"
                                    },
                                    {
                                        "name": "JOB"
                                    },
                                    {
                                        "name": "PHONE_NO"
                                    },
                                    {
                                        "name": "AGE"
                                    },
                                    {
                                        "name": "SAL"
                                    },
                                    {
                                        "name": "HIREDATE"
                                    },
                                    {
                                        "name": "MID"
                                    },
                                    {
                                        "name": "MID"
                                    },
                                    {
                                        "name": "MNAME"
                                    },
                                    {
                                        "name": "LOCATION"
                                    },
                                    {
                                        "name": "SAL"
                                    }
                                ]
                            },
                            "data": [
                                {
                                    "EID": "1212",
                                    "ENAME": "VICKY",
                                    "JOB": "DATA ANALYST",
                                    "PHONE_NO": "9786534201",
                                    "AGE": "27",
                                    "SAL": "50000",
                                    "HIREDATE": "2020-04-01",
                                    "MID": "1122",
                                    "MNAME": "KUMAR",
                                    "LOCATION": "CHENNAI"
                                },
                                {
                                    "EID": "2212",
                                    "ENAME": "JEEVA",
                                    "JOB": "DATA ANALYST",
                                    "PHONE_NO": "9781534201",
                                    "AGE": "25",
                                    "SAL": "50000",
                                    "HIREDATE": "2015-08-24",
                                    "MID": "1122",
                                    "MNAME": "KUMAR",
                                    "LOCATION": "CHENNAI"
                                },
                                {
                                    "EID": "4212",
                                    "ENAME": "PREM KUMAR",
                                    "JOB": "DATA ANALYST",
                                    "PHONE_NO": "9086534201",
                                    "AGE": "27",
                                    "SAL": "50000",
                                    "HIREDATE": "2023-04-20",
                                    "MID": "1122",
                                    "MNAME": "KUMAR",
                                    "LOCATION": "CHENNAI"
                                },
                                {
                                    "EID": "1245",
                                    "ENAME": "VIJAY",
                                    "JOB": "WEB DEVELOPER",
                                    "PHONE_NO": "7367894567",
                                    "AGE": "27",
                                    "SAL": "60000",
                                    "HIREDATE": "2018-01-27",
                                    "MID": "1123",
                                    "MNAME": "BARATH",
                                    "LOCATION": "BANGALORE"
                                },
                                {
                                    "EID": "1721",
                                    "ENAME": "ARUN",
                                    "JOB": "WEB DEVELOPER",
                                    "PHONE_NO": "9876543210",
                                    "AGE": "25",
                                    "SAL": "60000",
                                    "HIREDATE": "2021-03-30",
                                    "MID": "1123",
                                    "MNAME": "BARATH",
                                    "LOCATION": "BANGALORE"
                                },
                                {
                                    "EID": "2121",
                                    "ENAME": "SANTHOSH",
                                    "JOB": "WEB DEVELOPER",
                                    "PHONE_NO": "9823543210",
                                    "AGE": "29",
                                    "SAL": "60000",
                                    "HIREDATE": "2022-02-14",
                                    "MID": "1123",
                                    "MNAME": "BARATH",
                                    "LOCATION": "BANGALORE"
                                },
                                {
                                    "EID": "3245",
                                    "ENAME": "MUTHU",
                                    "JOB": "WEB DEVELOPER",
                                    "PHONE_NO": "7361894567",
                                    "AGE": "36",
                                    "SAL": "60000",
                                    "HIREDATE": "2016-06-20",
                                    "MID": "1123",
                                    "MNAME": "BARATH",
                                    "LOCATION": "BANGALORE"
                                },
                                {
                                    "EID": "5245",
                                    "ENAME": "DEEPAK",
                                    "JOB": "WEB DEVELOPER",
                                    "PHONE_NO": "7367894167",
                                    "AGE": "28",
                                    "SAL": "60000",
                                    "HIREDATE": "2014-11-08",
                                    "MID": "1123",
                                    "MNAME": "BARATH",
                                    "LOCATION": "BANGALORE"
                                },
                                {
                                    "EID": "1762",
                                    "ENAME": "AJAY",
                                    "JOB": "DATA SCIENTIET",
                                    "PHONE_NO": "8789321456",
                                    "AGE": "30",
                                    "SAL": "75000",
                                    "HIREDATE": "2019-08-20",
                                    "MID": "1124",
                                    "MNAME": "ARIVU",
                                    "LOCATION": "MUMBAI"
                                },
                                {
                                    "EID": "3762",
                                    "ENAME": "TAMIL",
                                    "JOB": "DATA SCIENTIET",
                                    "PHONE_NO": "8780321456",
                                    "AGE": "34",
                                    "SAL": "75000",
                                    "HIREDATE": "2015-08-24",
                                    "MID": "1124",
                                    "MNAME": "ARIVU",
                                    "LOCATION": "MUMBAI"
                                },
                                {
                                    "EID": "4762",
                                    "ENAME": "CHANDRAN",
                                    "JOB": "DATA SCIENTIET",
                                    "PHONE_NO": "8789321406",
                                    "AGE": "30",
                                    "SAL": "75000",
                                    "HIREDATE": "2017-11-27",
                                    "MID": "1124",
                                    "MNAME": "ARIVU",
                                    "LOCATION": "MUMBAI"
                                }
                            ]
                        },
                        "text/html": "<table><tr><th>EID</th><th>ENAME</th><th>JOB</th><th>PHONE_NO</th><th>AGE</th><th>SAL</th><th>HIREDATE</th><th>MID</th><th>MID</th><th>MNAME</th><th>LOCATION</th><th>SAL</th></tr><tr><td>1212</td><td>VICKY</td><td>DATA ANALYST</td><td>9786534201</td><td>27</td><td>45000</td><td>2020-04-01</td><td>1122</td><td>1122</td><td>KUMAR</td><td>CHENNAI</td><td>50000</td></tr><tr><td>2212</td><td>JEEVA</td><td>DATA ANALYST</td><td>9781534201</td><td>25</td><td>30000</td><td>2015-08-24</td><td>1122</td><td>1122</td><td>KUMAR</td><td>CHENNAI</td><td>50000</td></tr><tr><td>4212</td><td>PREM KUMAR</td><td>DATA ANALYST</td><td>9086534201</td><td>27</td><td>40000</td><td>2023-04-20</td><td>1122</td><td>1122</td><td>KUMAR</td><td>CHENNAI</td><td>50000</td></tr><tr><td>1245</td><td>VIJAY</td><td>WEB DEVELOPER</td><td>7367894567</td><td>27</td><td>25000</td><td>2018-01-27</td><td>1123</td><td>1123</td><td>BARATH</td><td>BANGALORE</td><td>60000</td></tr><tr><td>1721</td><td>ARUN</td><td>WEB DEVELOPER</td><td>9876543210</td><td>25</td><td>35000</td><td>2021-03-30</td><td>1123</td><td>1123</td><td>BARATH</td><td>BANGALORE</td><td>60000</td></tr><tr><td>2121</td><td>SANTHOSH</td><td>WEB DEVELOPER</td><td>9823543210</td><td>29</td><td>25000</td><td>2022-02-14</td><td>1123</td><td>1123</td><td>BARATH</td><td>BANGALORE</td><td>60000</td></tr><tr><td>3245</td><td>MUTHU</td><td>WEB DEVELOPER</td><td>7361894567</td><td>36</td><td>25000</td><td>2016-06-20</td><td>1123</td><td>1123</td><td>BARATH</td><td>BANGALORE</td><td>60000</td></tr><tr><td>5245</td><td>DEEPAK</td><td>WEB DEVELOPER</td><td>7367894167</td><td>28</td><td>25000</td><td>2014-11-08</td><td>1123</td><td>1123</td><td>BARATH</td><td>BANGALORE</td><td>60000</td></tr><tr><td>1762</td><td>AJAY</td><td>DATA SCIENTIET</td><td>8789321456</td><td>30</td><td>45000</td><td>2019-08-20</td><td>1124</td><td>1124</td><td>ARIVU</td><td>MUMBAI</td><td>75000</td></tr><tr><td>3762</td><td>TAMIL</td><td>DATA SCIENTIET</td><td>8780321456</td><td>34</td><td>25000</td><td>2015-08-24</td><td>1124</td><td>1124</td><td>ARIVU</td><td>MUMBAI</td><td>75000</td></tr><tr><td>4762</td><td>CHANDRAN</td><td>DATA SCIENTIET</td><td>8789321406</td><td>30</td><td>45000</td><td>2017-11-27</td><td>1124</td><td>1124</td><td>ARIVU</td><td>MUMBAI</td><td>75000</td></tr></table>"
                    },
                    "metadata": {}
                }
            ],
            "execution_count": 7
        },
        {
            "cell_type": "markdown",
            "source": [
                "FULL OUTER JOIN;"
            ],
            "metadata": {
                "language": "sql",
                "azdata_cell_guid": "dbbe89d4-c81b-483d-90b6-9b6e9dbdb99e"
            },
            "attachments": {}
        },
        {
            "cell_type": "code",
            "source": [
                "SELECT *\n",
                "FROM EMPLOYE_DETAILS FULL JOIN MANAGER\n",
                "ON EMPLOYE_DETAILS.MID=MANAGER.MID;"
            ],
            "metadata": {
                "language": "sql",
                "azdata_cell_guid": "607f7726-0d19-436d-9c85-dbfbf11268bf",
                "tags": []
            },
            "outputs": [
                {
                    "output_type": "display_data",
                    "data": {
                        "text/html": "(14 rows affected)"
                    },
                    "metadata": {}
                },
                {
                    "output_type": "display_data",
                    "data": {
                        "text/html": "Total execution time: 00:00:00.022"
                    },
                    "metadata": {}
                },
                {
                    "output_type": "execute_result",
                    "execution_count": 6,
                    "data": {
                        "application/vnd.dataresource+json": {
                            "schema": {
                                "fields": [
                                    {
                                        "name": "EID"
                                    },
                                    {
                                        "name": "ENAME"
                                    },
                                    {
                                        "name": "JOB"
                                    },
                                    {
                                        "name": "PHONE_NO"
                                    },
                                    {
                                        "name": "AGE"
                                    },
                                    {
                                        "name": "SAL"
                                    },
                                    {
                                        "name": "HIREDATE"
                                    },
                                    {
                                        "name": "MID"
                                    },
                                    {
                                        "name": "MID"
                                    },
                                    {
                                        "name": "MNAME"
                                    },
                                    {
                                        "name": "LOCATION"
                                    },
                                    {
                                        "name": "SAL"
                                    }
                                ]
                            },
                            "data": [
                                {
                                    "EID": "1212",
                                    "ENAME": "VICKY",
                                    "JOB": "DATA ANALYST",
                                    "PHONE_NO": "9786534201",
                                    "AGE": "27",
                                    "SAL": "50000",
                                    "HIREDATE": "2020-04-01",
                                    "MID": "1122",
                                    "MNAME": "KUMAR",
                                    "LOCATION": "CHENNAI"
                                },
                                {
                                    "EID": "1245",
                                    "ENAME": "VIJAY",
                                    "JOB": "WEB DEVELOPER",
                                    "PHONE_NO": "7367894567",
                                    "AGE": "27",
                                    "SAL": "60000",
                                    "HIREDATE": "2018-01-27",
                                    "MID": "1123",
                                    "MNAME": "BARATH",
                                    "LOCATION": "BANGALORE"
                                },
                                {
                                    "EID": "1721",
                                    "ENAME": "ARUN",
                                    "JOB": "WEB DEVELOPER",
                                    "PHONE_NO": "9876543210",
                                    "AGE": "25",
                                    "SAL": "60000",
                                    "HIREDATE": "2021-03-30",
                                    "MID": "1123",
                                    "MNAME": "BARATH",
                                    "LOCATION": "BANGALORE"
                                },
                                {
                                    "EID": "1762",
                                    "ENAME": "AJAY",
                                    "JOB": "DATA SCIENTIET",
                                    "PHONE_NO": "8789321456",
                                    "AGE": "30",
                                    "SAL": "75000",
                                    "HIREDATE": "2019-08-20",
                                    "MID": "1124",
                                    "MNAME": "ARIVU",
                                    "LOCATION": "MUMBAI"
                                },
                                {
                                    "EID": "1832",
                                    "ENAME": "SURYA",
                                    "JOB": "CLERK",
                                    "PHONE_NO": "6372456764",
                                    "AGE": "28",
                                    "SAL": "NULL",
                                    "HIREDATE": "2019-08-20",
                                    "MID": "NULL",
                                    "MNAME": "NULL",
                                    "LOCATION": "NULL"
                                },
                                {
                                    "EID": "2121",
                                    "ENAME": "SANTHOSH",
                                    "JOB": "WEB DEVELOPER",
                                    "PHONE_NO": "9823543210",
                                    "AGE": "29",
                                    "SAL": "60000",
                                    "HIREDATE": "2022-02-14",
                                    "MID": "1123",
                                    "MNAME": "BARATH",
                                    "LOCATION": "BANGALORE"
                                },
                                {
                                    "EID": "2212",
                                    "ENAME": "JEEVA",
                                    "JOB": "DATA ANALYST",
                                    "PHONE_NO": "9781534201",
                                    "AGE": "25",
                                    "SAL": "50000",
                                    "HIREDATE": "2015-08-24",
                                    "MID": "1122",
                                    "MNAME": "KUMAR",
                                    "LOCATION": "CHENNAI"
                                },
                                {
                                    "EID": "3245",
                                    "ENAME": "MUTHU",
                                    "JOB": "WEB DEVELOPER",
                                    "PHONE_NO": "7361894567",
                                    "AGE": "36",
                                    "SAL": "60000",
                                    "HIREDATE": "2016-06-20",
                                    "MID": "1123",
                                    "MNAME": "BARATH",
                                    "LOCATION": "BANGALORE"
                                },
                                {
                                    "EID": "3762",
                                    "ENAME": "TAMIL",
                                    "JOB": "DATA SCIENTIET",
                                    "PHONE_NO": "8780321456",
                                    "AGE": "34",
                                    "SAL": "75000",
                                    "HIREDATE": "2015-08-24",
                                    "MID": "1124",
                                    "MNAME": "ARIVU",
                                    "LOCATION": "MUMBAI"
                                },
                                {
                                    "EID": "3832",
                                    "ENAME": "SANJAY",
                                    "JOB": "CLERK",
                                    "PHONE_NO": "6372556764",
                                    "AGE": "22",
                                    "SAL": "NULL",
                                    "HIREDATE": "2019-06-11",
                                    "MID": "NULL",
                                    "MNAME": "NULL",
                                    "LOCATION": "NULL"
                                },
                                {
                                    "EID": "4212",
                                    "ENAME": "PREM KUMAR",
                                    "JOB": "DATA ANALYST",
                                    "PHONE_NO": "9086534201",
                                    "AGE": "27",
                                    "SAL": "50000",
                                    "HIREDATE": "2023-04-20",
                                    "MID": "1122",
                                    "MNAME": "KUMAR",
                                    "LOCATION": "CHENNAI"
                                },
                                {
                                    "EID": "4762",
                                    "ENAME": "CHANDRAN",
                                    "JOB": "DATA SCIENTIET",
                                    "PHONE_NO": "8789321406",
                                    "AGE": "30",
                                    "SAL": "75000",
                                    "HIREDATE": "2017-11-27",
                                    "MID": "1124",
                                    "MNAME": "ARIVU",
                                    "LOCATION": "MUMBAI"
                                },
                                {
                                    "EID": "4832",
                                    "ENAME": "SHANKAR",
                                    "JOB": "CLERK",
                                    "PHONE_NO": "6372456064",
                                    "AGE": "28",
                                    "SAL": "NULL",
                                    "HIREDATE": "2013-10-15",
                                    "MID": "NULL",
                                    "MNAME": "NULL",
                                    "LOCATION": "NULL"
                                },
                                {
                                    "EID": "5245",
                                    "ENAME": "DEEPAK",
                                    "JOB": "WEB DEVELOPER",
                                    "PHONE_NO": "7367894167",
                                    "AGE": "28",
                                    "SAL": "60000",
                                    "HIREDATE": "2014-11-08",
                                    "MID": "1123",
                                    "MNAME": "BARATH",
                                    "LOCATION": "BANGALORE"
                                }
                            ]
                        },
                        "text/html": "<table><tr><th>EID</th><th>ENAME</th><th>JOB</th><th>PHONE_NO</th><th>AGE</th><th>SAL</th><th>HIREDATE</th><th>MID</th><th>MID</th><th>MNAME</th><th>LOCATION</th><th>SAL</th></tr><tr><td>1212</td><td>VICKY</td><td>DATA ANALYST</td><td>9786534201</td><td>27</td><td>45000</td><td>2020-04-01</td><td>1122</td><td>1122</td><td>KUMAR</td><td>CHENNAI</td><td>50000</td></tr><tr><td>1245</td><td>VIJAY</td><td>WEB DEVELOPER</td><td>7367894567</td><td>27</td><td>25000</td><td>2018-01-27</td><td>1123</td><td>1123</td><td>BARATH</td><td>BANGALORE</td><td>60000</td></tr><tr><td>1721</td><td>ARUN</td><td>WEB DEVELOPER</td><td>9876543210</td><td>25</td><td>35000</td><td>2021-03-30</td><td>1123</td><td>1123</td><td>BARATH</td><td>BANGALORE</td><td>60000</td></tr><tr><td>1762</td><td>AJAY</td><td>DATA SCIENTIET</td><td>8789321456</td><td>30</td><td>45000</td><td>2019-08-20</td><td>1124</td><td>1124</td><td>ARIVU</td><td>MUMBAI</td><td>75000</td></tr><tr><td>1832</td><td>SURYA</td><td>CLERK</td><td>6372456764</td><td>28</td><td>20000</td><td>2019-08-20</td><td>NULL</td><td>NULL</td><td>NULL</td><td>NULL</td><td>NULL</td></tr><tr><td>2121</td><td>SANTHOSH</td><td>WEB DEVELOPER</td><td>9823543210</td><td>29</td><td>25000</td><td>2022-02-14</td><td>1123</td><td>1123</td><td>BARATH</td><td>BANGALORE</td><td>60000</td></tr><tr><td>2212</td><td>JEEVA</td><td>DATA ANALYST</td><td>9781534201</td><td>25</td><td>30000</td><td>2015-08-24</td><td>1122</td><td>1122</td><td>KUMAR</td><td>CHENNAI</td><td>50000</td></tr><tr><td>3245</td><td>MUTHU</td><td>WEB DEVELOPER</td><td>7361894567</td><td>36</td><td>25000</td><td>2016-06-20</td><td>1123</td><td>1123</td><td>BARATH</td><td>BANGALORE</td><td>60000</td></tr><tr><td>3762</td><td>TAMIL</td><td>DATA SCIENTIET</td><td>8780321456</td><td>34</td><td>25000</td><td>2015-08-24</td><td>1124</td><td>1124</td><td>ARIVU</td><td>MUMBAI</td><td>75000</td></tr><tr><td>3832</td><td>SANJAY</td><td>CLERK</td><td>6372556764</td><td>22</td><td>12000</td><td>2019-06-11</td><td>NULL</td><td>NULL</td><td>NULL</td><td>NULL</td><td>NULL</td></tr><tr><td>4212</td><td>PREM KUMAR</td><td>DATA ANALYST</td><td>9086534201</td><td>27</td><td>40000</td><td>2023-04-20</td><td>1122</td><td>1122</td><td>KUMAR</td><td>CHENNAI</td><td>50000</td></tr><tr><td>4762</td><td>CHANDRAN</td><td>DATA SCIENTIET</td><td>8789321406</td><td>30</td><td>45000</td><td>2017-11-27</td><td>1124</td><td>1124</td><td>ARIVU</td><td>MUMBAI</td><td>75000</td></tr><tr><td>4832</td><td>SHANKAR</td><td>CLERK</td><td>6372456064</td><td>28</td><td>20000</td><td>2013-10-15</td><td>NULL</td><td>NULL</td><td>NULL</td><td>NULL</td><td>NULL</td></tr><tr><td>5245</td><td>DEEPAK</td><td>WEB DEVELOPER</td><td>7367894167</td><td>28</td><td>25000</td><td>2014-11-08</td><td>1123</td><td>1123</td><td>BARATH</td><td>BANGALORE</td><td>60000</td></tr></table>"
                    },
                    "metadata": {}
                }
            ],
            "execution_count": 6
        },
        {
            "cell_type": "markdown",
            "source": [
                "12/07/2023\n",
                "\n",
                "SELECT INTO=\\>TO COPY ONE DATA INTO ANOTHER NEW TABLE;"
            ],
            "metadata": {
                "language": "sql",
                "azdata_cell_guid": "c93a045b-271a-40f6-ae82-e9a095fb9af2"
            },
            "attachments": {}
        },
        {
            "cell_type": "code",
            "source": [
                "SELECT *\r\n",
                "INTO WEB_DEVELOPER\r\n",
                "FROM EMPLOYE_DETAILS\r\n",
                "WHERE JOB='WEB DEVELOPER';"
            ],
            "metadata": {
                "language": "sql",
                "azdata_cell_guid": "49231746-39d6-486f-972b-bea72584b18f"
            },
            "outputs": [
                {
                    "output_type": "display_data",
                    "data": {
                        "text/html": "(5 rows affected)"
                    },
                    "metadata": {}
                },
                {
                    "output_type": "display_data",
                    "data": {
                        "text/html": "Total execution time: 00:00:00.016"
                    },
                    "metadata": {}
                }
            ],
            "execution_count": 8
        },
        {
            "cell_type": "code",
            "source": [
                "SELECT *\r\n",
                "FROM WEB_DEVELOPER;"
            ],
            "metadata": {
                "language": "sql",
                "azdata_cell_guid": "5d11cd33-9092-42ec-bb4c-623ff59a10c8"
            },
            "outputs": [
                {
                    "output_type": "display_data",
                    "data": {
                        "text/html": "(5 rows affected)"
                    },
                    "metadata": {}
                },
                {
                    "output_type": "display_data",
                    "data": {
                        "text/html": "Total execution time: 00:00:00.007"
                    },
                    "metadata": {}
                },
                {
                    "output_type": "execute_result",
                    "execution_count": 9,
                    "data": {
                        "application/vnd.dataresource+json": {
                            "schema": {
                                "fields": [
                                    {
                                        "name": "EID"
                                    },
                                    {
                                        "name": "ENAME"
                                    },
                                    {
                                        "name": "JOB"
                                    },
                                    {
                                        "name": "PHONE_NO"
                                    },
                                    {
                                        "name": "AGE"
                                    },
                                    {
                                        "name": "SAL"
                                    },
                                    {
                                        "name": "HIREDATE"
                                    },
                                    {
                                        "name": "MID"
                                    }
                                ]
                            },
                            "data": [
                                {
                                    "EID": "1245",
                                    "ENAME": "VIJAY",
                                    "JOB": "WEB DEVELOPER",
                                    "PHONE_NO": "7367894567",
                                    "AGE": "27",
                                    "SAL": "25000",
                                    "HIREDATE": "2018-01-27",
                                    "MID": "1123"
                                },
                                {
                                    "EID": "1721",
                                    "ENAME": "ARUN",
                                    "JOB": "WEB DEVELOPER",
                                    "PHONE_NO": "9876543210",
                                    "AGE": "25",
                                    "SAL": "35000",
                                    "HIREDATE": "2021-03-30",
                                    "MID": "1123"
                                },
                                {
                                    "EID": "2121",
                                    "ENAME": "SANTHOSH",
                                    "JOB": "WEB DEVELOPER",
                                    "PHONE_NO": "9823543210",
                                    "AGE": "29",
                                    "SAL": "25000",
                                    "HIREDATE": "2022-02-14",
                                    "MID": "1123"
                                },
                                {
                                    "EID": "3245",
                                    "ENAME": "MUTHU",
                                    "JOB": "WEB DEVELOPER",
                                    "PHONE_NO": "7361894567",
                                    "AGE": "36",
                                    "SAL": "25000",
                                    "HIREDATE": "2016-06-20",
                                    "MID": "1123"
                                },
                                {
                                    "EID": "5245",
                                    "ENAME": "DEEPAK",
                                    "JOB": "WEB DEVELOPER",
                                    "PHONE_NO": "7367894167",
                                    "AGE": "28",
                                    "SAL": "25000",
                                    "HIREDATE": "2014-11-08",
                                    "MID": "1123"
                                }
                            ]
                        },
                        "text/html": "<table><tr><th>EID</th><th>ENAME</th><th>JOB</th><th>PHONE_NO</th><th>AGE</th><th>SAL</th><th>HIREDATE</th><th>MID</th></tr><tr><td>1245</td><td>VIJAY</td><td>WEB DEVELOPER</td><td>7367894567</td><td>27</td><td>25000</td><td>2018-01-27</td><td>1123</td></tr><tr><td>1721</td><td>ARUN</td><td>WEB DEVELOPER</td><td>9876543210</td><td>25</td><td>35000</td><td>2021-03-30</td><td>1123</td></tr><tr><td>2121</td><td>SANTHOSH</td><td>WEB DEVELOPER</td><td>9823543210</td><td>29</td><td>25000</td><td>2022-02-14</td><td>1123</td></tr><tr><td>3245</td><td>MUTHU</td><td>WEB DEVELOPER</td><td>7361894567</td><td>36</td><td>25000</td><td>2016-06-20</td><td>1123</td></tr><tr><td>5245</td><td>DEEPAK</td><td>WEB DEVELOPER</td><td>7367894167</td><td>28</td><td>25000</td><td>2014-11-08</td><td>1123</td></tr></table>"
                    },
                    "metadata": {}
                }
            ],
            "execution_count": 9
        },
        {
            "cell_type": "code",
            "source": [
                "USE EmployeDB;"
            ],
            "metadata": {
                "language": "sql",
                "azdata_cell_guid": "34ddfaba-1683-4c05-a5e6-6fe54d46c2e0"
            },
            "outputs": [
                {
                    "output_type": "display_data",
                    "data": {
                        "text/html": "Commands completed successfully."
                    },
                    "metadata": {}
                },
                {
                    "output_type": "display_data",
                    "data": {
                        "text/html": "Total execution time: 00:00:00"
                    },
                    "metadata": {}
                }
            ],
            "execution_count": 51
        },
        {
            "cell_type": "code",
            "source": [
                "CREATE TABLE EMPLOYE1\r\n",
                "(\r\n",
                "    EID NUMERIC(4) PRIMARY KEY,\r\n",
                "    ENAME VARCHAR(15) NOT NULL,\r\n",
                "    JOB VARCHAR(15) NOT NULL,\r\n",
                "    PHONE_NO NUMERIC(10) UNIQUE,\r\n",
                "    AGE NUMERIC(2) NOT NULL CHECK(AGE>0),\r\n",
                "    SAL NUMERIC(5) CHECK(SAL>0),\r\n",
                "    MID NUMERIC(4) \r\n",
                ");"
            ],
            "metadata": {
                "language": "sql",
                "azdata_cell_guid": "9d533b0f-2a9f-4a76-98c7-2555006d85c3"
            },
            "outputs": [
                {
                    "output_type": "display_data",
                    "data": {
                        "text/html": "Commands completed successfully."
                    },
                    "metadata": {}
                },
                {
                    "output_type": "display_data",
                    "data": {
                        "text/html": "Total execution time: 00:00:00.004"
                    },
                    "metadata": {}
                }
            ],
            "execution_count": 54
        },
        {
            "cell_type": "code",
            "source": [
                "INSERT INTO EMPLOYE1  VALUES(9992,'NAREN','QA',8876543210,25,35000,6645);\r\n",
                "INSERT INTO   EMPLOYE1 VALUES (9932,'JAI','QA',7786534201,27,40000,6646);\r\n",
                "INSERT INTO EMPLOYE1  VALUES(9994,'VENKAT','QA',6789321456,30,40000,6647);"
            ],
            "metadata": {
                "language": "sql",
                "azdata_cell_guid": "d40e7ae1-8ed1-46e3-b6a5-169a0f44c185"
            },
            "outputs": [
                {
                    "output_type": "error",
                    "ename": "",
                    "evalue": "Msg 2627, Level 14, State 1, Line 1\r\nViolation of PRIMARY KEY constraint 'PK__EMPLOYE1__C190170BBED36F6D'. Cannot insert duplicate key in object 'dbo.EMPLOYE1'. The duplicate key value is (9992).",
                    "traceback": []
                },
                {
                    "output_type": "display_data",
                    "data": {
                        "text/html": "The statement has been terminated."
                    },
                    "metadata": {}
                },
                {
                    "output_type": "error",
                    "ename": "",
                    "evalue": "Msg 2627, Level 14, State 1, Line 2\r\nViolation of PRIMARY KEY constraint 'PK__EMPLOYE1__C190170BBED36F6D'. Cannot insert duplicate key in object 'dbo.EMPLOYE1'. The duplicate key value is (9932).",
                    "traceback": []
                },
                {
                    "output_type": "display_data",
                    "data": {
                        "text/html": "The statement has been terminated."
                    },
                    "metadata": {}
                },
                {
                    "output_type": "error",
                    "ename": "",
                    "evalue": "Msg 2627, Level 14, State 1, Line 3\r\nViolation of PRIMARY KEY constraint 'PK__EMPLOYE1__C190170BBED36F6D'. Cannot insert duplicate key in object 'dbo.EMPLOYE1'. The duplicate key value is (9994).",
                    "traceback": []
                },
                {
                    "output_type": "display_data",
                    "data": {
                        "text/html": "The statement has been terminated."
                    },
                    "metadata": {}
                },
                {
                    "output_type": "display_data",
                    "data": {
                        "text/html": "Total execution time: 00:00:00.005"
                    },
                    "metadata": {}
                }
            ],
            "execution_count": 56
        },
        {
            "cell_type": "code",
            "source": [
                "SELECT *\r\n",
                "FROM EMPLOYE1;"
            ],
            "metadata": {
                "language": "sql",
                "azdata_cell_guid": "8f398fbb-e971-45e3-86d2-13e31056ac98"
            },
            "outputs": [
                {
                    "output_type": "display_data",
                    "data": {
                        "text/html": "(3 rows affected)"
                    },
                    "metadata": {}
                },
                {
                    "output_type": "display_data",
                    "data": {
                        "text/html": "Total execution time: 00:00:00.013"
                    },
                    "metadata": {}
                },
                {
                    "output_type": "execute_result",
                    "execution_count": 58,
                    "data": {
                        "application/vnd.dataresource+json": {
                            "schema": {
                                "fields": [
                                    {
                                        "name": "EID"
                                    },
                                    {
                                        "name": "ENAME"
                                    },
                                    {
                                        "name": "JOB"
                                    },
                                    {
                                        "name": "PHONE_NO"
                                    },
                                    {
                                        "name": "AGE"
                                    },
                                    {
                                        "name": "SAL"
                                    },
                                    {
                                        "name": "MID"
                                    }
                                ]
                            },
                            "data": [
                                {
                                    "EID": "9932",
                                    "ENAME": "JAI",
                                    "JOB": "QA",
                                    "PHONE_NO": "7786534201",
                                    "AGE": "27",
                                    "SAL": "40000",
                                    "MID": "6646"
                                },
                                {
                                    "EID": "9992",
                                    "ENAME": "NAREN",
                                    "JOB": "QA",
                                    "PHONE_NO": "8876543210",
                                    "AGE": "25",
                                    "SAL": "35000",
                                    "MID": "6645"
                                },
                                {
                                    "EID": "9994",
                                    "ENAME": "VENKAT",
                                    "JOB": "QA",
                                    "PHONE_NO": "6789321456",
                                    "AGE": "30",
                                    "SAL": "40000",
                                    "MID": "6647"
                                }
                            ]
                        },
                        "text/html": "<table><tr><th>EID</th><th>ENAME</th><th>JOB</th><th>PHONE_NO</th><th>AGE</th><th>SAL</th><th>MID</th></tr><tr><td>9932</td><td>JAI</td><td>QA</td><td>7786534201</td><td>27</td><td>40000</td><td>6646</td></tr><tr><td>9992</td><td>NAREN</td><td>QA</td><td>8876543210</td><td>25</td><td>35000</td><td>6645</td></tr><tr><td>9994</td><td>VENKAT</td><td>QA</td><td>6789321456</td><td>30</td><td>40000</td><td>6647</td></tr></table>"
                    },
                    "metadata": {}
                }
            ],
            "execution_count": 58
        },
        {
            "cell_type": "markdown",
            "source": [
                "INSERT INTO SELECT=\\>COPY DATA FROM ONE TABLE AND INSERT INTO ANOTHER TABLE"
            ],
            "metadata": {
                "azdata_cell_guid": "6af10d07-c0ae-448c-8254-7cb0370eec21"
            },
            "attachments": {}
        },
        {
            "cell_type": "code",
            "source": [
                "INSERT INTO EMPLOYE_DETAILS(EID,ENAME,JOB,PHONE_NO,AGE,SAL)\r\n",
                "SELECT EID,ENAME,JOB,PHONE_NO,AGE,SAL\r\n",
                "FROM EMPLOYE1;"
            ],
            "metadata": {
                "azdata_cell_guid": "b5a628a3-487d-4d11-88d0-6e3167bd91b7",
                "language": "sql"
            },
            "outputs": [
                {
                    "output_type": "display_data",
                    "data": {
                        "text/html": "(3 rows affected)"
                    },
                    "metadata": {}
                },
                {
                    "output_type": "display_data",
                    "data": {
                        "text/html": "Total execution time: 00:00:00.002"
                    },
                    "metadata": {}
                }
            ],
            "execution_count": 63
        },
        {
            "cell_type": "markdown",
            "source": [
                "STORED PROCEDURE;"
            ],
            "metadata": {
                "language": "sql",
                "azdata_cell_guid": "353995d0-3357-4f80-a444-819b755edf1b"
            },
            "attachments": {}
        },
        {
            "cell_type": "code",
            "source": [
                "CREATE PROCEDURE SALARY_DETAILS\r\n",
                "AS\r\n",
                "SELECT ENAME,SAL \r\n",
                "FROM EMPLOYE_DETAILS\r\n",
                "GO;"
            ],
            "metadata": {
                "language": "sql",
                "azdata_cell_guid": "03c0e5fa-a261-4a5f-830e-2a63d238a9cf"
            },
            "outputs": [
                {
                    "output_type": "display_data",
                    "data": {
                        "text/html": "Commands completed successfully."
                    },
                    "metadata": {}
                },
                {
                    "output_type": "display_data",
                    "data": {
                        "text/html": "Total execution time: 00:00:00.006"
                    },
                    "metadata": {}
                }
            ],
            "execution_count": 15
        },
        {
            "cell_type": "code",
            "source": [
                "EXEC SALARY_DETAILS;"
            ],
            "metadata": {
                "language": "sql",
                "azdata_cell_guid": "53817f22-c989-4df4-b386-8ffd98d336c6"
            },
            "outputs": [
                {
                    "output_type": "display_data",
                    "data": {
                        "text/html": "(14 rows affected)"
                    },
                    "metadata": {}
                },
                {
                    "output_type": "display_data",
                    "data": {
                        "text/html": "Total execution time: 00:00:00.007"
                    },
                    "metadata": {}
                },
                {
                    "output_type": "execute_result",
                    "execution_count": 16,
                    "data": {
                        "application/vnd.dataresource+json": {
                            "schema": {
                                "fields": [
                                    {
                                        "name": "ENAME"
                                    },
                                    {
                                        "name": "SAL"
                                    }
                                ]
                            },
                            "data": [
                                {
                                    "ENAME": "VICKY",
                                    "SAL": "40000"
                                },
                                {
                                    "ENAME": "VIJAY",
                                    "SAL": "25000"
                                },
                                {
                                    "ENAME": "ARUN",
                                    "SAL": "35000"
                                },
                                {
                                    "ENAME": "AJAY",
                                    "SAL": "45000"
                                },
                                {
                                    "ENAME": "SURYA",
                                    "SAL": "20000"
                                },
                                {
                                    "ENAME": "SANTHOSH",
                                    "SAL": "25000"
                                },
                                {
                                    "ENAME": "JEEVA",
                                    "SAL": "30000"
                                },
                                {
                                    "ENAME": "MUTHU",
                                    "SAL": "25000"
                                },
                                {
                                    "ENAME": "TAMIL",
                                    "SAL": "25000"
                                },
                                {
                                    "ENAME": "SANJAY",
                                    "SAL": "12000"
                                },
                                {
                                    "ENAME": "PREM KUMAR",
                                    "SAL": "40000"
                                },
                                {
                                    "ENAME": "CHANDRAN",
                                    "SAL": "45000"
                                },
                                {
                                    "ENAME": "SHANKAR",
                                    "SAL": "20000"
                                },
                                {
                                    "ENAME": "DEEPAK",
                                    "SAL": "25000"
                                }
                            ]
                        },
                        "text/html": "<table><tr><th>ENAME</th><th>SAL</th></tr><tr><td>VICKY</td><td>40000</td></tr><tr><td>VIJAY</td><td>25000</td></tr><tr><td>ARUN</td><td>35000</td></tr><tr><td>AJAY</td><td>45000</td></tr><tr><td>SURYA</td><td>20000</td></tr><tr><td>SANTHOSH</td><td>25000</td></tr><tr><td>JEEVA</td><td>30000</td></tr><tr><td>MUTHU</td><td>25000</td></tr><tr><td>TAMIL</td><td>25000</td></tr><tr><td>SANJAY</td><td>12000</td></tr><tr><td>PREM KUMAR</td><td>40000</td></tr><tr><td>CHANDRAN</td><td>45000</td></tr><tr><td>SHANKAR</td><td>20000</td></tr><tr><td>DEEPAK</td><td>25000</td></tr></table>"
                    },
                    "metadata": {}
                }
            ],
            "execution_count": 16
        },
        {
            "cell_type": "markdown",
            "source": [
                "ALL;\n",
                "\n",
                "EMPLOYE DETAILS WHO EARNED MORE THAN ALL CLERK;"
            ],
            "metadata": {
                "language": "sql",
                "azdata_cell_guid": "c1e75be5-318d-4f54-8daa-305a7836e079"
            },
            "attachments": {}
        },
        {
            "cell_type": "code",
            "source": [
                "SELECT *\r\n",
                "FROM EMPLOYE_DETAILS\r\n",
                "WHERE SAL > ALL(SELECT SAL\r\n",
                "FROM EMPLOYE_DETAILS\r\n",
                "WHERE JOB='CLERK');"
            ],
            "metadata": {
                "language": "sql",
                "azdata_cell_guid": "d737ba1c-f80a-4300-beaf-529ad9fcc357"
            },
            "outputs": [
                {
                    "output_type": "display_data",
                    "data": {
                        "text/html": "(11 rows affected)"
                    },
                    "metadata": {}
                },
                {
                    "output_type": "display_data",
                    "data": {
                        "text/html": "Total execution time: 00:00:00.013"
                    },
                    "metadata": {}
                },
                {
                    "output_type": "execute_result",
                    "execution_count": 2,
                    "data": {
                        "application/vnd.dataresource+json": {
                            "schema": {
                                "fields": [
                                    {
                                        "name": "EID"
                                    },
                                    {
                                        "name": "ENAME"
                                    },
                                    {
                                        "name": "JOB"
                                    },
                                    {
                                        "name": "PHONE_NO"
                                    },
                                    {
                                        "name": "AGE"
                                    },
                                    {
                                        "name": "SAL"
                                    },
                                    {
                                        "name": "HIREDATE"
                                    },
                                    {
                                        "name": "MID"
                                    }
                                ]
                            },
                            "data": [
                                {
                                    "EID": "1212",
                                    "ENAME": "VICKY",
                                    "JOB": "DATA ANALYST",
                                    "PHONE_NO": "9786534201",
                                    "AGE": "27",
                                    "SAL": "45000",
                                    "HIREDATE": "2020-04-01",
                                    "MID": "1122"
                                },
                                {
                                    "EID": "1245",
                                    "ENAME": "VIJAY",
                                    "JOB": "WEB DEVELOPER",
                                    "PHONE_NO": "7367894567",
                                    "AGE": "27",
                                    "SAL": "25000",
                                    "HIREDATE": "2018-01-27",
                                    "MID": "1123"
                                },
                                {
                                    "EID": "1721",
                                    "ENAME": "ARUN",
                                    "JOB": "WEB DEVELOPER",
                                    "PHONE_NO": "9876543210",
                                    "AGE": "25",
                                    "SAL": "35000",
                                    "HIREDATE": "2021-03-30",
                                    "MID": "1123"
                                },
                                {
                                    "EID": "1762",
                                    "ENAME": "AJAY",
                                    "JOB": "DATA SCIENTIET",
                                    "PHONE_NO": "8789321456",
                                    "AGE": "30",
                                    "SAL": "45000",
                                    "HIREDATE": "2019-08-20",
                                    "MID": "1124"
                                },
                                {
                                    "EID": "2121",
                                    "ENAME": "SANTHOSH",
                                    "JOB": "WEB DEVELOPER",
                                    "PHONE_NO": "9823543210",
                                    "AGE": "29",
                                    "SAL": "25000",
                                    "HIREDATE": "2022-02-14",
                                    "MID": "1123"
                                },
                                {
                                    "EID": "2212",
                                    "ENAME": "JEEVA",
                                    "JOB": "DATA ANALYST",
                                    "PHONE_NO": "9781534201",
                                    "AGE": "25",
                                    "SAL": "30000",
                                    "HIREDATE": "2015-08-24",
                                    "MID": "1122"
                                },
                                {
                                    "EID": "3245",
                                    "ENAME": "MUTHU",
                                    "JOB": "WEB DEVELOPER",
                                    "PHONE_NO": "7361894567",
                                    "AGE": "36",
                                    "SAL": "25000",
                                    "HIREDATE": "2016-06-20",
                                    "MID": "1123"
                                },
                                {
                                    "EID": "3762",
                                    "ENAME": "TAMIL",
                                    "JOB": "DATA SCIENTIET",
                                    "PHONE_NO": "8780321456",
                                    "AGE": "34",
                                    "SAL": "25000",
                                    "HIREDATE": "2015-08-24",
                                    "MID": "1124"
                                },
                                {
                                    "EID": "4212",
                                    "ENAME": "PREM KUMAR",
                                    "JOB": "DATA ANALYST",
                                    "PHONE_NO": "9086534201",
                                    "AGE": "27",
                                    "SAL": "40000",
                                    "HIREDATE": "2023-04-20",
                                    "MID": "1122"
                                },
                                {
                                    "EID": "4762",
                                    "ENAME": "CHANDRAN",
                                    "JOB": "DATA SCIENTIET",
                                    "PHONE_NO": "8789321406",
                                    "AGE": "30",
                                    "SAL": "45000",
                                    "HIREDATE": "2017-11-27",
                                    "MID": "1124"
                                },
                                {
                                    "EID": "5245",
                                    "ENAME": "DEEPAK",
                                    "JOB": "WEB DEVELOPER",
                                    "PHONE_NO": "7367894167",
                                    "AGE": "28",
                                    "SAL": "25000",
                                    "HIREDATE": "2014-11-08",
                                    "MID": "1123"
                                }
                            ]
                        },
                        "text/html": "<table><tr><th>EID</th><th>ENAME</th><th>JOB</th><th>PHONE_NO</th><th>AGE</th><th>SAL</th><th>HIREDATE</th><th>MID</th></tr><tr><td>1212</td><td>VICKY</td><td>DATA ANALYST</td><td>9786534201</td><td>27</td><td>45000</td><td>2020-04-01</td><td>1122</td></tr><tr><td>1245</td><td>VIJAY</td><td>WEB DEVELOPER</td><td>7367894567</td><td>27</td><td>25000</td><td>2018-01-27</td><td>1123</td></tr><tr><td>1721</td><td>ARUN</td><td>WEB DEVELOPER</td><td>9876543210</td><td>25</td><td>35000</td><td>2021-03-30</td><td>1123</td></tr><tr><td>1762</td><td>AJAY</td><td>DATA SCIENTIET</td><td>8789321456</td><td>30</td><td>45000</td><td>2019-08-20</td><td>1124</td></tr><tr><td>2121</td><td>SANTHOSH</td><td>WEB DEVELOPER</td><td>9823543210</td><td>29</td><td>25000</td><td>2022-02-14</td><td>1123</td></tr><tr><td>2212</td><td>JEEVA</td><td>DATA ANALYST</td><td>9781534201</td><td>25</td><td>30000</td><td>2015-08-24</td><td>1122</td></tr><tr><td>3245</td><td>MUTHU</td><td>WEB DEVELOPER</td><td>7361894567</td><td>36</td><td>25000</td><td>2016-06-20</td><td>1123</td></tr><tr><td>3762</td><td>TAMIL</td><td>DATA SCIENTIET</td><td>8780321456</td><td>34</td><td>25000</td><td>2015-08-24</td><td>1124</td></tr><tr><td>4212</td><td>PREM KUMAR</td><td>DATA ANALYST</td><td>9086534201</td><td>27</td><td>40000</td><td>2023-04-20</td><td>1122</td></tr><tr><td>4762</td><td>CHANDRAN</td><td>DATA SCIENTIET</td><td>8789321406</td><td>30</td><td>45000</td><td>2017-11-27</td><td>1124</td></tr><tr><td>5245</td><td>DEEPAK</td><td>WEB DEVELOPER</td><td>7367894167</td><td>28</td><td>25000</td><td>2014-11-08</td><td>1123</td></tr></table>"
                    },
                    "metadata": {}
                }
            ],
            "execution_count": 2
        },
        {
            "cell_type": "markdown",
            "source": [
                "ANY;"
            ],
            "metadata": {
                "language": "sql",
                "azdata_cell_guid": "36d3bfc1-e1a8-4557-b375-df27e17d1fe7"
            },
            "attachments": {}
        },
        {
            "cell_type": "code",
            "source": [
                "SELECT *\r\n",
                "FROM EMPLOYE_DETAILS\r\n",
                "WHERE  SAL > ANY(SELECT SAL\r\n",
                "FROM EMPLOYE_DETAILS\r\n",
                "WHERE JOB='WEB DEVELOPER');"
            ],
            "metadata": {
                "language": "sql",
                "azdata_cell_guid": "cf669c60-fb2f-4dd8-9298-1d66f0e0a2e4"
            },
            "outputs": [
                {
                    "output_type": "display_data",
                    "data": {
                        "text/html": "(6 rows affected)"
                    },
                    "metadata": {}
                },
                {
                    "output_type": "display_data",
                    "data": {
                        "text/html": "Total execution time: 00:00:00.014"
                    },
                    "metadata": {}
                },
                {
                    "output_type": "execute_result",
                    "execution_count": 3,
                    "data": {
                        "application/vnd.dataresource+json": {
                            "schema": {
                                "fields": [
                                    {
                                        "name": "EID"
                                    },
                                    {
                                        "name": "ENAME"
                                    },
                                    {
                                        "name": "JOB"
                                    },
                                    {
                                        "name": "PHONE_NO"
                                    },
                                    {
                                        "name": "AGE"
                                    },
                                    {
                                        "name": "SAL"
                                    },
                                    {
                                        "name": "HIREDATE"
                                    },
                                    {
                                        "name": "MID"
                                    }
                                ]
                            },
                            "data": [
                                {
                                    "EID": "1212",
                                    "ENAME": "VICKY",
                                    "JOB": "DATA ANALYST",
                                    "PHONE_NO": "9786534201",
                                    "AGE": "27",
                                    "SAL": "45000",
                                    "HIREDATE": "2020-04-01",
                                    "MID": "1122"
                                },
                                {
                                    "EID": "1721",
                                    "ENAME": "ARUN",
                                    "JOB": "WEB DEVELOPER",
                                    "PHONE_NO": "9876543210",
                                    "AGE": "25",
                                    "SAL": "35000",
                                    "HIREDATE": "2021-03-30",
                                    "MID": "1123"
                                },
                                {
                                    "EID": "1762",
                                    "ENAME": "AJAY",
                                    "JOB": "DATA SCIENTIET",
                                    "PHONE_NO": "8789321456",
                                    "AGE": "30",
                                    "SAL": "45000",
                                    "HIREDATE": "2019-08-20",
                                    "MID": "1124"
                                },
                                {
                                    "EID": "2212",
                                    "ENAME": "JEEVA",
                                    "JOB": "DATA ANALYST",
                                    "PHONE_NO": "9781534201",
                                    "AGE": "25",
                                    "SAL": "30000",
                                    "HIREDATE": "2015-08-24",
                                    "MID": "1122"
                                },
                                {
                                    "EID": "4212",
                                    "ENAME": "PREM KUMAR",
                                    "JOB": "DATA ANALYST",
                                    "PHONE_NO": "9086534201",
                                    "AGE": "27",
                                    "SAL": "40000",
                                    "HIREDATE": "2023-04-20",
                                    "MID": "1122"
                                },
                                {
                                    "EID": "4762",
                                    "ENAME": "CHANDRAN",
                                    "JOB": "DATA SCIENTIET",
                                    "PHONE_NO": "8789321406",
                                    "AGE": "30",
                                    "SAL": "45000",
                                    "HIREDATE": "2017-11-27",
                                    "MID": "1124"
                                }
                            ]
                        },
                        "text/html": "<table><tr><th>EID</th><th>ENAME</th><th>JOB</th><th>PHONE_NO</th><th>AGE</th><th>SAL</th><th>HIREDATE</th><th>MID</th></tr><tr><td>1212</td><td>VICKY</td><td>DATA ANALYST</td><td>9786534201</td><td>27</td><td>45000</td><td>2020-04-01</td><td>1122</td></tr><tr><td>1721</td><td>ARUN</td><td>WEB DEVELOPER</td><td>9876543210</td><td>25</td><td>35000</td><td>2021-03-30</td><td>1123</td></tr><tr><td>1762</td><td>AJAY</td><td>DATA SCIENTIET</td><td>8789321456</td><td>30</td><td>45000</td><td>2019-08-20</td><td>1124</td></tr><tr><td>2212</td><td>JEEVA</td><td>DATA ANALYST</td><td>9781534201</td><td>25</td><td>30000</td><td>2015-08-24</td><td>1122</td></tr><tr><td>4212</td><td>PREM KUMAR</td><td>DATA ANALYST</td><td>9086534201</td><td>27</td><td>40000</td><td>2023-04-20</td><td>1122</td></tr><tr><td>4762</td><td>CHANDRAN</td><td>DATA SCIENTIET</td><td>8789321406</td><td>30</td><td>45000</td><td>2017-11-27</td><td>1124</td></tr></table>"
                    },
                    "metadata": {}
                }
            ],
            "execution_count": 3
        },
        {
            "cell_type": "markdown",
            "source": [
                "CASE;"
            ],
            "metadata": {
                "language": "sql",
                "azdata_cell_guid": "c4002d2b-dc4f-434d-a8ee-8fcacdcf10fe"
            },
            "attachments": {}
        },
        {
            "cell_type": "code",
            "source": [
                "SELECT ENAME,SAL,\r\n",
                "CASE WHEN SAL >30000 THEN 'SALARY IS GREATER THAN 30000'\r\n",
                "WHEN SAL =30000 THEN 'SAL IS EQUAL TO 30000'\r\n",
                "ELSE 'SAL IS LESS THAN 30000'\r\n",
                "END AS SALARYTEXT\r\n",
                "FROM EMPLOYE_DETAILS;"
            ],
            "metadata": {
                "language": "sql",
                "azdata_cell_guid": "3c073d6f-48f7-4252-a06a-8299ccc9f48c"
            },
            "outputs": [
                {
                    "output_type": "display_data",
                    "data": {
                        "text/html": "(14 rows affected)"
                    },
                    "metadata": {}
                },
                {
                    "output_type": "display_data",
                    "data": {
                        "text/html": "Total execution time: 00:00:00.012"
                    },
                    "metadata": {}
                },
                {
                    "output_type": "execute_result",
                    "execution_count": 6,
                    "data": {
                        "application/vnd.dataresource+json": {
                            "schema": {
                                "fields": [
                                    {
                                        "name": "ENAME"
                                    },
                                    {
                                        "name": "SAL"
                                    },
                                    {
                                        "name": "SALARYTEXT"
                                    }
                                ]
                            },
                            "data": [
                                {
                                    "ENAME": "VICKY",
                                    "SAL": "45000",
                                    "SALARYTEXT": "SALARY IS GREATER THAN 30000"
                                },
                                {
                                    "ENAME": "VIJAY",
                                    "SAL": "25000",
                                    "SALARYTEXT": "SAL IS LESS THAN 30000"
                                },
                                {
                                    "ENAME": "ARUN",
                                    "SAL": "35000",
                                    "SALARYTEXT": "SALARY IS GREATER THAN 30000"
                                },
                                {
                                    "ENAME": "AJAY",
                                    "SAL": "45000",
                                    "SALARYTEXT": "SALARY IS GREATER THAN 30000"
                                },
                                {
                                    "ENAME": "SURYA",
                                    "SAL": "20000",
                                    "SALARYTEXT": "SAL IS LESS THAN 30000"
                                },
                                {
                                    "ENAME": "SANTHOSH",
                                    "SAL": "25000",
                                    "SALARYTEXT": "SAL IS LESS THAN 30000"
                                },
                                {
                                    "ENAME": "JEEVA",
                                    "SAL": "30000",
                                    "SALARYTEXT": "SAL IS EQUAL TO 30000"
                                },
                                {
                                    "ENAME": "MUTHU",
                                    "SAL": "25000",
                                    "SALARYTEXT": "SAL IS LESS THAN 30000"
                                },
                                {
                                    "ENAME": "TAMIL",
                                    "SAL": "25000",
                                    "SALARYTEXT": "SAL IS LESS THAN 30000"
                                },
                                {
                                    "ENAME": "SANJAY",
                                    "SAL": "12000",
                                    "SALARYTEXT": "SAL IS LESS THAN 30000"
                                },
                                {
                                    "ENAME": "PREM KUMAR",
                                    "SAL": "40000",
                                    "SALARYTEXT": "SALARY IS GREATER THAN 30000"
                                },
                                {
                                    "ENAME": "CHANDRAN",
                                    "SAL": "45000",
                                    "SALARYTEXT": "SALARY IS GREATER THAN 30000"
                                },
                                {
                                    "ENAME": "SHANKAR",
                                    "SAL": "20000",
                                    "SALARYTEXT": "SAL IS LESS THAN 30000"
                                },
                                {
                                    "ENAME": "DEEPAK",
                                    "SAL": "25000",
                                    "SALARYTEXT": "SAL IS LESS THAN 30000"
                                }
                            ]
                        },
                        "text/html": "<table><tr><th>ENAME</th><th>SAL</th><th>SALARYTEXT</th></tr><tr><td>VICKY</td><td>45000</td><td>SALARY IS GREATER THAN 30000</td></tr><tr><td>VIJAY</td><td>25000</td><td>SAL IS LESS THAN 30000</td></tr><tr><td>ARUN</td><td>35000</td><td>SALARY IS GREATER THAN 30000</td></tr><tr><td>AJAY</td><td>45000</td><td>SALARY IS GREATER THAN 30000</td></tr><tr><td>SURYA</td><td>20000</td><td>SAL IS LESS THAN 30000</td></tr><tr><td>SANTHOSH</td><td>25000</td><td>SAL IS LESS THAN 30000</td></tr><tr><td>JEEVA</td><td>30000</td><td>SAL IS EQUAL TO 30000</td></tr><tr><td>MUTHU</td><td>25000</td><td>SAL IS LESS THAN 30000</td></tr><tr><td>TAMIL</td><td>25000</td><td>SAL IS LESS THAN 30000</td></tr><tr><td>SANJAY</td><td>12000</td><td>SAL IS LESS THAN 30000</td></tr><tr><td>PREM KUMAR</td><td>40000</td><td>SALARY IS GREATER THAN 30000</td></tr><tr><td>CHANDRAN</td><td>45000</td><td>SALARY IS GREATER THAN 30000</td></tr><tr><td>SHANKAR</td><td>20000</td><td>SAL IS LESS THAN 30000</td></tr><tr><td>DEEPAK</td><td>25000</td><td>SAL IS LESS THAN 30000</td></tr></table>"
                    },
                    "metadata": {}
                }
            ],
            "execution_count": 6
        },
        {
            "cell_type": "markdown",
            "source": [
                "COMMON TABLE EXPRESSION;"
            ],
            "metadata": {
                "language": "sql",
                "azdata_cell_guid": "c38baa21-b50a-4b02-aad1-e7eb5a38e96c"
            },
            "attachments": {}
        },
        {
            "cell_type": "code",
            "source": [
                "WITH CTE1 AS (SELECT ENAME,JOB \r\n",
                "FROM EMPLOYE_DETAILS)\r\n",
                "SELECT *\r\n",
                "FROM CTE1;"
            ],
            "metadata": {
                "language": "sql",
                "azdata_cell_guid": "2dcae8b2-a259-492a-b4dc-075d164babb2"
            },
            "outputs": [
                {
                    "output_type": "display_data",
                    "data": {
                        "text/html": "(14 rows affected)"
                    },
                    "metadata": {}
                },
                {
                    "output_type": "display_data",
                    "data": {
                        "text/html": "Total execution time: 00:00:00.008"
                    },
                    "metadata": {}
                },
                {
                    "output_type": "execute_result",
                    "execution_count": 11,
                    "data": {
                        "application/vnd.dataresource+json": {
                            "schema": {
                                "fields": [
                                    {
                                        "name": "ENAME"
                                    },
                                    {
                                        "name": "JOB"
                                    }
                                ]
                            },
                            "data": [
                                {
                                    "ENAME": "VICKY",
                                    "JOB": "DATA ANALYST"
                                },
                                {
                                    "ENAME": "VIJAY",
                                    "JOB": "WEB DEVELOPER"
                                },
                                {
                                    "ENAME": "ARUN",
                                    "JOB": "WEB DEVELOPER"
                                },
                                {
                                    "ENAME": "AJAY",
                                    "JOB": "DATA SCIENTIET"
                                },
                                {
                                    "ENAME": "SURYA",
                                    "JOB": "CLERK"
                                },
                                {
                                    "ENAME": "SANTHOSH",
                                    "JOB": "WEB DEVELOPER"
                                },
                                {
                                    "ENAME": "JEEVA",
                                    "JOB": "DATA ANALYST"
                                },
                                {
                                    "ENAME": "MUTHU",
                                    "JOB": "WEB DEVELOPER"
                                },
                                {
                                    "ENAME": "TAMIL",
                                    "JOB": "DATA SCIENTIET"
                                },
                                {
                                    "ENAME": "SANJAY",
                                    "JOB": "CLERK"
                                },
                                {
                                    "ENAME": "PREM KUMAR",
                                    "JOB": "DATA ANALYST"
                                },
                                {
                                    "ENAME": "CHANDRAN",
                                    "JOB": "DATA SCIENTIET"
                                },
                                {
                                    "ENAME": "SHANKAR",
                                    "JOB": "CLERK"
                                },
                                {
                                    "ENAME": "DEEPAK",
                                    "JOB": "WEB DEVELOPER"
                                }
                            ]
                        },
                        "text/html": "<table><tr><th>ENAME</th><th>JOB</th></tr><tr><td>VICKY</td><td>DATA ANALYST</td></tr><tr><td>VIJAY</td><td>WEB DEVELOPER</td></tr><tr><td>ARUN</td><td>WEB DEVELOPER</td></tr><tr><td>AJAY</td><td>DATA SCIENTIET</td></tr><tr><td>SURYA</td><td>CLERK</td></tr><tr><td>SANTHOSH</td><td>WEB DEVELOPER</td></tr><tr><td>JEEVA</td><td>DATA ANALYST</td></tr><tr><td>MUTHU</td><td>WEB DEVELOPER</td></tr><tr><td>TAMIL</td><td>DATA SCIENTIET</td></tr><tr><td>SANJAY</td><td>CLERK</td></tr><tr><td>PREM KUMAR</td><td>DATA ANALYST</td></tr><tr><td>CHANDRAN</td><td>DATA SCIENTIET</td></tr><tr><td>SHANKAR</td><td>CLERK</td></tr><tr><td>DEEPAK</td><td>WEB DEVELOPER</td></tr></table>"
                    },
                    "metadata": {}
                }
            ],
            "execution_count": 11
        },
        {
            "cell_type": "code",
            "source": [
                "WITH AVG_SALARY AS (SELECT JOB,MAX(SAL) AS AVERAGE_SALARY\r\n",
                "FROM EMPLOYE_DETAILS\r\n",
                "GROUP BY JOB )\r\n",
                "SELECT *\r\n",
                "FROM AVG_SALARY;"
            ],
            "metadata": {
                "azdata_cell_guid": "50daf323-c31e-4cd7-8c33-2992e757ec9a",
                "language": "sql"
            },
            "outputs": [
                {
                    "output_type": "display_data",
                    "data": {
                        "text/html": "(4 rows affected)"
                    },
                    "metadata": {}
                },
                {
                    "output_type": "display_data",
                    "data": {
                        "text/html": "Total execution time: 00:00:00.009"
                    },
                    "metadata": {}
                },
                {
                    "output_type": "execute_result",
                    "execution_count": 18,
                    "data": {
                        "application/vnd.dataresource+json": {
                            "schema": {
                                "fields": [
                                    {
                                        "name": "JOB"
                                    },
                                    {
                                        "name": "AVERAGE_SALARY"
                                    }
                                ]
                            },
                            "data": [
                                {
                                    "JOB": "CLERK",
                                    "AVERAGE_SALARY": "20000"
                                },
                                {
                                    "JOB": "DATA ANALYST",
                                    "AVERAGE_SALARY": "45000"
                                },
                                {
                                    "JOB": "DATA SCIENTIET",
                                    "AVERAGE_SALARY": "45000"
                                },
                                {
                                    "JOB": "WEB DEVELOPER",
                                    "AVERAGE_SALARY": "35000"
                                }
                            ]
                        },
                        "text/html": "<table><tr><th>JOB</th><th>AVERAGE_SALARY</th></tr><tr><td>CLERK</td><td>20000</td></tr><tr><td>DATA ANALYST</td><td>45000</td></tr><tr><td>DATA SCIENTIET</td><td>45000</td></tr><tr><td>WEB DEVELOPER</td><td>35000</td></tr></table>"
                    },
                    "metadata": {}
                }
            ],
            "execution_count": 18
        },
        {
            "cell_type": "markdown",
            "source": [
                "WINDOW FUNCTION;"
            ],
            "metadata": {
                "language": "sql",
                "azdata_cell_guid": "4e0bfc8b-d382-4afc-ad81-a33189566fc7"
            },
            "attachments": {}
        },
        {
            "cell_type": "code",
            "source": [
                "SELECT *,MAX(SAL) OVER() AS MAX_SALARY\r\n",
                "FROM EMPLOYE_DETAILS;"
            ],
            "metadata": {
                "language": "sql",
                "azdata_cell_guid": "048c188a-73b0-470e-b896-6127ef89a7b3"
            },
            "outputs": [
                {
                    "output_type": "display_data",
                    "data": {
                        "text/html": "(14 rows affected)"
                    },
                    "metadata": {}
                },
                {
                    "output_type": "display_data",
                    "data": {
                        "text/html": "Total execution time: 00:00:00.011"
                    },
                    "metadata": {}
                },
                {
                    "output_type": "execute_result",
                    "execution_count": 19,
                    "data": {
                        "application/vnd.dataresource+json": {
                            "schema": {
                                "fields": [
                                    {
                                        "name": "EID"
                                    },
                                    {
                                        "name": "ENAME"
                                    },
                                    {
                                        "name": "JOB"
                                    },
                                    {
                                        "name": "PHONE_NO"
                                    },
                                    {
                                        "name": "AGE"
                                    },
                                    {
                                        "name": "SAL"
                                    },
                                    {
                                        "name": "HIREDATE"
                                    },
                                    {
                                        "name": "MID"
                                    },
                                    {
                                        "name": "MAX_SALARY"
                                    }
                                ]
                            },
                            "data": [
                                {
                                    "EID": "1212",
                                    "ENAME": "VICKY",
                                    "JOB": "DATA ANALYST",
                                    "PHONE_NO": "9786534201",
                                    "AGE": "27",
                                    "SAL": "45000",
                                    "HIREDATE": "2020-04-01",
                                    "MID": "1122",
                                    "MAX_SALARY": "45000"
                                },
                                {
                                    "EID": "1245",
                                    "ENAME": "VIJAY",
                                    "JOB": "WEB DEVELOPER",
                                    "PHONE_NO": "7367894567",
                                    "AGE": "27",
                                    "SAL": "25000",
                                    "HIREDATE": "2018-01-27",
                                    "MID": "1123",
                                    "MAX_SALARY": "45000"
                                },
                                {
                                    "EID": "1721",
                                    "ENAME": "ARUN",
                                    "JOB": "WEB DEVELOPER",
                                    "PHONE_NO": "9876543210",
                                    "AGE": "25",
                                    "SAL": "35000",
                                    "HIREDATE": "2021-03-30",
                                    "MID": "1123",
                                    "MAX_SALARY": "45000"
                                },
                                {
                                    "EID": "1762",
                                    "ENAME": "AJAY",
                                    "JOB": "DATA SCIENTIET",
                                    "PHONE_NO": "8789321456",
                                    "AGE": "30",
                                    "SAL": "45000",
                                    "HIREDATE": "2019-08-20",
                                    "MID": "1124",
                                    "MAX_SALARY": "45000"
                                },
                                {
                                    "EID": "1832",
                                    "ENAME": "SURYA",
                                    "JOB": "CLERK",
                                    "PHONE_NO": "6372456764",
                                    "AGE": "28",
                                    "SAL": "20000",
                                    "HIREDATE": "2019-08-20",
                                    "MID": "NULL",
                                    "MAX_SALARY": "45000"
                                },
                                {
                                    "EID": "2121",
                                    "ENAME": "SANTHOSH",
                                    "JOB": "WEB DEVELOPER",
                                    "PHONE_NO": "9823543210",
                                    "AGE": "29",
                                    "SAL": "25000",
                                    "HIREDATE": "2022-02-14",
                                    "MID": "1123",
                                    "MAX_SALARY": "45000"
                                },
                                {
                                    "EID": "2212",
                                    "ENAME": "JEEVA",
                                    "JOB": "DATA ANALYST",
                                    "PHONE_NO": "9781534201",
                                    "AGE": "25",
                                    "SAL": "30000",
                                    "HIREDATE": "2015-08-24",
                                    "MID": "1122",
                                    "MAX_SALARY": "45000"
                                },
                                {
                                    "EID": "3245",
                                    "ENAME": "MUTHU",
                                    "JOB": "WEB DEVELOPER",
                                    "PHONE_NO": "7361894567",
                                    "AGE": "36",
                                    "SAL": "25000",
                                    "HIREDATE": "2016-06-20",
                                    "MID": "1123",
                                    "MAX_SALARY": "45000"
                                },
                                {
                                    "EID": "3762",
                                    "ENAME": "TAMIL",
                                    "JOB": "DATA SCIENTIET",
                                    "PHONE_NO": "8780321456",
                                    "AGE": "34",
                                    "SAL": "25000",
                                    "HIREDATE": "2015-08-24",
                                    "MID": "1124",
                                    "MAX_SALARY": "45000"
                                },
                                {
                                    "EID": "3832",
                                    "ENAME": "SANJAY",
                                    "JOB": "CLERK",
                                    "PHONE_NO": "6372556764",
                                    "AGE": "22",
                                    "SAL": "12000",
                                    "HIREDATE": "2019-06-11",
                                    "MID": "NULL",
                                    "MAX_SALARY": "45000"
                                },
                                {
                                    "EID": "4212",
                                    "ENAME": "PREM KUMAR",
                                    "JOB": "DATA ANALYST",
                                    "PHONE_NO": "9086534201",
                                    "AGE": "27",
                                    "SAL": "40000",
                                    "HIREDATE": "2023-04-20",
                                    "MID": "1122",
                                    "MAX_SALARY": "45000"
                                },
                                {
                                    "EID": "4762",
                                    "ENAME": "CHANDRAN",
                                    "JOB": "DATA SCIENTIET",
                                    "PHONE_NO": "8789321406",
                                    "AGE": "30",
                                    "SAL": "45000",
                                    "HIREDATE": "2017-11-27",
                                    "MID": "1124",
                                    "MAX_SALARY": "45000"
                                },
                                {
                                    "EID": "4832",
                                    "ENAME": "SHANKAR",
                                    "JOB": "CLERK",
                                    "PHONE_NO": "6372456064",
                                    "AGE": "28",
                                    "SAL": "20000",
                                    "HIREDATE": "2013-10-15",
                                    "MID": "NULL",
                                    "MAX_SALARY": "45000"
                                },
                                {
                                    "EID": "5245",
                                    "ENAME": "DEEPAK",
                                    "JOB": "WEB DEVELOPER",
                                    "PHONE_NO": "7367894167",
                                    "AGE": "28",
                                    "SAL": "25000",
                                    "HIREDATE": "2014-11-08",
                                    "MID": "1123",
                                    "MAX_SALARY": "45000"
                                }
                            ]
                        },
                        "text/html": "<table><tr><th>EID</th><th>ENAME</th><th>JOB</th><th>PHONE_NO</th><th>AGE</th><th>SAL</th><th>HIREDATE</th><th>MID</th><th>MAX_SALARY</th></tr><tr><td>1212</td><td>VICKY</td><td>DATA ANALYST</td><td>9786534201</td><td>27</td><td>45000</td><td>2020-04-01</td><td>1122</td><td>45000</td></tr><tr><td>1245</td><td>VIJAY</td><td>WEB DEVELOPER</td><td>7367894567</td><td>27</td><td>25000</td><td>2018-01-27</td><td>1123</td><td>45000</td></tr><tr><td>1721</td><td>ARUN</td><td>WEB DEVELOPER</td><td>9876543210</td><td>25</td><td>35000</td><td>2021-03-30</td><td>1123</td><td>45000</td></tr><tr><td>1762</td><td>AJAY</td><td>DATA SCIENTIET</td><td>8789321456</td><td>30</td><td>45000</td><td>2019-08-20</td><td>1124</td><td>45000</td></tr><tr><td>1832</td><td>SURYA</td><td>CLERK</td><td>6372456764</td><td>28</td><td>20000</td><td>2019-08-20</td><td>NULL</td><td>45000</td></tr><tr><td>2121</td><td>SANTHOSH</td><td>WEB DEVELOPER</td><td>9823543210</td><td>29</td><td>25000</td><td>2022-02-14</td><td>1123</td><td>45000</td></tr><tr><td>2212</td><td>JEEVA</td><td>DATA ANALYST</td><td>9781534201</td><td>25</td><td>30000</td><td>2015-08-24</td><td>1122</td><td>45000</td></tr><tr><td>3245</td><td>MUTHU</td><td>WEB DEVELOPER</td><td>7361894567</td><td>36</td><td>25000</td><td>2016-06-20</td><td>1123</td><td>45000</td></tr><tr><td>3762</td><td>TAMIL</td><td>DATA SCIENTIET</td><td>8780321456</td><td>34</td><td>25000</td><td>2015-08-24</td><td>1124</td><td>45000</td></tr><tr><td>3832</td><td>SANJAY</td><td>CLERK</td><td>6372556764</td><td>22</td><td>12000</td><td>2019-06-11</td><td>NULL</td><td>45000</td></tr><tr><td>4212</td><td>PREM KUMAR</td><td>DATA ANALYST</td><td>9086534201</td><td>27</td><td>40000</td><td>2023-04-20</td><td>1122</td><td>45000</td></tr><tr><td>4762</td><td>CHANDRAN</td><td>DATA SCIENTIET</td><td>8789321406</td><td>30</td><td>45000</td><td>2017-11-27</td><td>1124</td><td>45000</td></tr><tr><td>4832</td><td>SHANKAR</td><td>CLERK</td><td>6372456064</td><td>28</td><td>20000</td><td>2013-10-15</td><td>NULL</td><td>45000</td></tr><tr><td>5245</td><td>DEEPAK</td><td>WEB DEVELOPER</td><td>7367894167</td><td>28</td><td>25000</td><td>2014-11-08</td><td>1123</td><td>45000</td></tr></table>"
                    },
                    "metadata": {}
                }
            ],
            "execution_count": 19
        },
        {
            "cell_type": "code",
            "source": [
                "SELECT *\r\n",
                "FROM EMPLOYE_DETAILS;"
            ],
            "metadata": {
                "azdata_cell_guid": "9e487e02-3f37-46fb-8b91-2c0662b69504",
                "language": "sql"
            },
            "outputs": [
                {
                    "output_type": "display_data",
                    "data": {
                        "text/html": "(14 rows affected)"
                    },
                    "metadata": {}
                },
                {
                    "output_type": "display_data",
                    "data": {
                        "text/html": "Total execution time: 00:00:00.008"
                    },
                    "metadata": {}
                },
                {
                    "output_type": "execute_result",
                    "execution_count": 31,
                    "data": {
                        "application/vnd.dataresource+json": {
                            "schema": {
                                "fields": [
                                    {
                                        "name": "EID"
                                    },
                                    {
                                        "name": "ENAME"
                                    },
                                    {
                                        "name": "JOB"
                                    },
                                    {
                                        "name": "PHONE_NO"
                                    },
                                    {
                                        "name": "AGE"
                                    },
                                    {
                                        "name": "SAL"
                                    },
                                    {
                                        "name": "HIREDATE"
                                    },
                                    {
                                        "name": "MID"
                                    }
                                ]
                            },
                            "data": [
                                {
                                    "EID": "1212",
                                    "ENAME": "VICKY",
                                    "JOB": "DATA ANALYST",
                                    "PHONE_NO": "9786534201",
                                    "AGE": "27",
                                    "SAL": "45000",
                                    "HIREDATE": "2020-04-01",
                                    "MID": "1122"
                                },
                                {
                                    "EID": "1245",
                                    "ENAME": "VIJAY",
                                    "JOB": "WEB DEVELOPER",
                                    "PHONE_NO": "7367894567",
                                    "AGE": "27",
                                    "SAL": "25000",
                                    "HIREDATE": "2018-01-27",
                                    "MID": "1123"
                                },
                                {
                                    "EID": "1721",
                                    "ENAME": "ARUN",
                                    "JOB": "WEB DEVELOPER",
                                    "PHONE_NO": "9876543210",
                                    "AGE": "25",
                                    "SAL": "35000",
                                    "HIREDATE": "2021-03-30",
                                    "MID": "1123"
                                },
                                {
                                    "EID": "1762",
                                    "ENAME": "AJAY",
                                    "JOB": "DATA SCIENTIET",
                                    "PHONE_NO": "8789321456",
                                    "AGE": "30",
                                    "SAL": "45000",
                                    "HIREDATE": "2019-08-20",
                                    "MID": "1124"
                                },
                                {
                                    "EID": "1832",
                                    "ENAME": "SURYA",
                                    "JOB": "CLERK",
                                    "PHONE_NO": "6372456764",
                                    "AGE": "28",
                                    "SAL": "20000",
                                    "HIREDATE": "2019-08-20",
                                    "MID": "NULL"
                                },
                                {
                                    "EID": "2121",
                                    "ENAME": "SANTHOSH",
                                    "JOB": "WEB DEVELOPER",
                                    "PHONE_NO": "9823543210",
                                    "AGE": "29",
                                    "SAL": "25000",
                                    "HIREDATE": "2022-02-14",
                                    "MID": "1123"
                                },
                                {
                                    "EID": "2212",
                                    "ENAME": "JEEVA",
                                    "JOB": "DATA ANALYST",
                                    "PHONE_NO": "9781534201",
                                    "AGE": "25",
                                    "SAL": "30000",
                                    "HIREDATE": "2015-08-24",
                                    "MID": "1122"
                                },
                                {
                                    "EID": "3245",
                                    "ENAME": "MUTHU",
                                    "JOB": "WEB DEVELOPER",
                                    "PHONE_NO": "7361894567",
                                    "AGE": "36",
                                    "SAL": "25000",
                                    "HIREDATE": "2016-06-20",
                                    "MID": "1123"
                                },
                                {
                                    "EID": "3762",
                                    "ENAME": "TAMIL",
                                    "JOB": "DATA SCIENTIET",
                                    "PHONE_NO": "8780321456",
                                    "AGE": "34",
                                    "SAL": "25000",
                                    "HIREDATE": "2015-08-24",
                                    "MID": "1124"
                                },
                                {
                                    "EID": "3832",
                                    "ENAME": "SANJAY",
                                    "JOB": "CLERK",
                                    "PHONE_NO": "6372556764",
                                    "AGE": "22",
                                    "SAL": "12000",
                                    "HIREDATE": "2019-06-11",
                                    "MID": "NULL"
                                },
                                {
                                    "EID": "4212",
                                    "ENAME": "PREM KUMAR",
                                    "JOB": "DATA ANALYST",
                                    "PHONE_NO": "9086534201",
                                    "AGE": "27",
                                    "SAL": "40000",
                                    "HIREDATE": "2023-04-20",
                                    "MID": "1122"
                                },
                                {
                                    "EID": "4762",
                                    "ENAME": "CHANDRAN",
                                    "JOB": "DATA SCIENTIET",
                                    "PHONE_NO": "8789321406",
                                    "AGE": "30",
                                    "SAL": "45000",
                                    "HIREDATE": "2017-11-27",
                                    "MID": "1124"
                                },
                                {
                                    "EID": "4832",
                                    "ENAME": "SHANKAR",
                                    "JOB": "CLERK",
                                    "PHONE_NO": "6372456064",
                                    "AGE": "28",
                                    "SAL": "20000",
                                    "HIREDATE": "2013-10-15",
                                    "MID": "NULL"
                                },
                                {
                                    "EID": "5245",
                                    "ENAME": "DEEPAK",
                                    "JOB": "WEB DEVELOPER",
                                    "PHONE_NO": "7367894167",
                                    "AGE": "28",
                                    "SAL": "25000",
                                    "HIREDATE": "2014-11-08",
                                    "MID": "1123"
                                }
                            ]
                        },
                        "text/html": "<table><tr><th>EID</th><th>ENAME</th><th>JOB</th><th>PHONE_NO</th><th>AGE</th><th>SAL</th><th>HIREDATE</th><th>MID</th></tr><tr><td>1212</td><td>VICKY</td><td>DATA ANALYST</td><td>9786534201</td><td>27</td><td>45000</td><td>2020-04-01</td><td>1122</td></tr><tr><td>1245</td><td>VIJAY</td><td>WEB DEVELOPER</td><td>7367894567</td><td>27</td><td>25000</td><td>2018-01-27</td><td>1123</td></tr><tr><td>1721</td><td>ARUN</td><td>WEB DEVELOPER</td><td>9876543210</td><td>25</td><td>35000</td><td>2021-03-30</td><td>1123</td></tr><tr><td>1762</td><td>AJAY</td><td>DATA SCIENTIET</td><td>8789321456</td><td>30</td><td>45000</td><td>2019-08-20</td><td>1124</td></tr><tr><td>1832</td><td>SURYA</td><td>CLERK</td><td>6372456764</td><td>28</td><td>20000</td><td>2019-08-20</td><td>NULL</td></tr><tr><td>2121</td><td>SANTHOSH</td><td>WEB DEVELOPER</td><td>9823543210</td><td>29</td><td>25000</td><td>2022-02-14</td><td>1123</td></tr><tr><td>2212</td><td>JEEVA</td><td>DATA ANALYST</td><td>9781534201</td><td>25</td><td>30000</td><td>2015-08-24</td><td>1122</td></tr><tr><td>3245</td><td>MUTHU</td><td>WEB DEVELOPER</td><td>7361894567</td><td>36</td><td>25000</td><td>2016-06-20</td><td>1123</td></tr><tr><td>3762</td><td>TAMIL</td><td>DATA SCIENTIET</td><td>8780321456</td><td>34</td><td>25000</td><td>2015-08-24</td><td>1124</td></tr><tr><td>3832</td><td>SANJAY</td><td>CLERK</td><td>6372556764</td><td>22</td><td>12000</td><td>2019-06-11</td><td>NULL</td></tr><tr><td>4212</td><td>PREM KUMAR</td><td>DATA ANALYST</td><td>9086534201</td><td>27</td><td>40000</td><td>2023-04-20</td><td>1122</td></tr><tr><td>4762</td><td>CHANDRAN</td><td>DATA SCIENTIET</td><td>8789321406</td><td>30</td><td>45000</td><td>2017-11-27</td><td>1124</td></tr><tr><td>4832</td><td>SHANKAR</td><td>CLERK</td><td>6372456064</td><td>28</td><td>20000</td><td>2013-10-15</td><td>NULL</td></tr><tr><td>5245</td><td>DEEPAK</td><td>WEB DEVELOPER</td><td>7367894167</td><td>28</td><td>25000</td><td>2014-11-08</td><td>1123</td></tr></table>"
                    },
                    "metadata": {}
                }
            ],
            "execution_count": 31
        },
        {
            "cell_type": "code",
            "source": [
                "SELECT *\r\n",
                "FROM MANAGER;"
            ],
            "metadata": {
                "language": "sql",
                "azdata_cell_guid": "efc3d61c-cabe-47e7-9aa6-c3883d68bae5"
            },
            "outputs": [
                {
                    "output_type": "display_data",
                    "data": {
                        "text/html": "(3 rows affected)"
                    },
                    "metadata": {}
                },
                {
                    "output_type": "display_data",
                    "data": {
                        "text/html": "Total execution time: 00:00:00.010"
                    },
                    "metadata": {}
                },
                {
                    "output_type": "execute_result",
                    "execution_count": 32,
                    "data": {
                        "application/vnd.dataresource+json": {
                            "schema": {
                                "fields": [
                                    {
                                        "name": "MID"
                                    },
                                    {
                                        "name": "MNAME"
                                    },
                                    {
                                        "name": "LOCATION"
                                    },
                                    {
                                        "name": "SAL"
                                    }
                                ]
                            },
                            "data": [
                                {
                                    "MID": "1122",
                                    "MNAME": "KUMAR",
                                    "LOCATION": "CHENNAI",
                                    "SAL": "50000"
                                },
                                {
                                    "MID": "1123",
                                    "MNAME": "BARATH",
                                    "LOCATION": "BANGALORE",
                                    "SAL": "60000"
                                },
                                {
                                    "MID": "1124",
                                    "MNAME": "ARIVU",
                                    "LOCATION": "MUMBAI",
                                    "SAL": "75000"
                                }
                            ]
                        },
                        "text/html": "<table><tr><th>MID</th><th>MNAME</th><th>LOCATION</th><th>SAL</th></tr><tr><td>1122</td><td>KUMAR</td><td>CHENNAI</td><td>50000</td></tr><tr><td>1123</td><td>BARATH</td><td>BANGALORE</td><td>60000</td></tr><tr><td>1124</td><td>ARIVU</td><td>MUMBAI</td><td>75000</td></tr></table>"
                    },
                    "metadata": {}
                }
            ],
            "execution_count": 32
        },
        {
            "cell_type": "code",
            "source": [
                "SELECT *,MAX(SAL) OVER(PARTITION BY JOB) AS MAX_SALARY\r\n",
                "FROM EMPLOYE_DETAILS;"
            ],
            "metadata": {
                "language": "sql",
                "azdata_cell_guid": "df1ad885-d115-4520-a1c3-2cf183e2ef4d"
            },
            "outputs": [
                {
                    "output_type": "display_data",
                    "data": {
                        "text/html": "(14 rows affected)"
                    },
                    "metadata": {}
                },
                {
                    "output_type": "display_data",
                    "data": {
                        "text/html": "Total execution time: 00:00:00.013"
                    },
                    "metadata": {}
                },
                {
                    "output_type": "execute_result",
                    "execution_count": 20,
                    "data": {
                        "application/vnd.dataresource+json": {
                            "schema": {
                                "fields": [
                                    {
                                        "name": "EID"
                                    },
                                    {
                                        "name": "ENAME"
                                    },
                                    {
                                        "name": "JOB"
                                    },
                                    {
                                        "name": "PHONE_NO"
                                    },
                                    {
                                        "name": "AGE"
                                    },
                                    {
                                        "name": "SAL"
                                    },
                                    {
                                        "name": "HIREDATE"
                                    },
                                    {
                                        "name": "MID"
                                    },
                                    {
                                        "name": "MAX_SALARY"
                                    }
                                ]
                            },
                            "data": [
                                {
                                    "EID": "1832",
                                    "ENAME": "SURYA",
                                    "JOB": "CLERK",
                                    "PHONE_NO": "6372456764",
                                    "AGE": "28",
                                    "SAL": "20000",
                                    "HIREDATE": "2019-08-20",
                                    "MID": "NULL",
                                    "MAX_SALARY": "20000"
                                },
                                {
                                    "EID": "3832",
                                    "ENAME": "SANJAY",
                                    "JOB": "CLERK",
                                    "PHONE_NO": "6372556764",
                                    "AGE": "22",
                                    "SAL": "12000",
                                    "HIREDATE": "2019-06-11",
                                    "MID": "NULL",
                                    "MAX_SALARY": "20000"
                                },
                                {
                                    "EID": "4832",
                                    "ENAME": "SHANKAR",
                                    "JOB": "CLERK",
                                    "PHONE_NO": "6372456064",
                                    "AGE": "28",
                                    "SAL": "20000",
                                    "HIREDATE": "2013-10-15",
                                    "MID": "NULL",
                                    "MAX_SALARY": "20000"
                                },
                                {
                                    "EID": "4212",
                                    "ENAME": "PREM KUMAR",
                                    "JOB": "DATA ANALYST",
                                    "PHONE_NO": "9086534201",
                                    "AGE": "27",
                                    "SAL": "40000",
                                    "HIREDATE": "2023-04-20",
                                    "MID": "1122",
                                    "MAX_SALARY": "45000"
                                },
                                {
                                    "EID": "1212",
                                    "ENAME": "VICKY",
                                    "JOB": "DATA ANALYST",
                                    "PHONE_NO": "9786534201",
                                    "AGE": "27",
                                    "SAL": "45000",
                                    "HIREDATE": "2020-04-01",
                                    "MID": "1122",
                                    "MAX_SALARY": "45000"
                                },
                                {
                                    "EID": "2212",
                                    "ENAME": "JEEVA",
                                    "JOB": "DATA ANALYST",
                                    "PHONE_NO": "9781534201",
                                    "AGE": "25",
                                    "SAL": "30000",
                                    "HIREDATE": "2015-08-24",
                                    "MID": "1122",
                                    "MAX_SALARY": "45000"
                                },
                                {
                                    "EID": "1762",
                                    "ENAME": "AJAY",
                                    "JOB": "DATA SCIENTIET",
                                    "PHONE_NO": "8789321456",
                                    "AGE": "30",
                                    "SAL": "45000",
                                    "HIREDATE": "2019-08-20",
                                    "MID": "1124",
                                    "MAX_SALARY": "45000"
                                },
                                {
                                    "EID": "3762",
                                    "ENAME": "TAMIL",
                                    "JOB": "DATA SCIENTIET",
                                    "PHONE_NO": "8780321456",
                                    "AGE": "34",
                                    "SAL": "25000",
                                    "HIREDATE": "2015-08-24",
                                    "MID": "1124",
                                    "MAX_SALARY": "45000"
                                },
                                {
                                    "EID": "4762",
                                    "ENAME": "CHANDRAN",
                                    "JOB": "DATA SCIENTIET",
                                    "PHONE_NO": "8789321406",
                                    "AGE": "30",
                                    "SAL": "45000",
                                    "HIREDATE": "2017-11-27",
                                    "MID": "1124",
                                    "MAX_SALARY": "45000"
                                },
                                {
                                    "EID": "5245",
                                    "ENAME": "DEEPAK",
                                    "JOB": "WEB DEVELOPER",
                                    "PHONE_NO": "7367894167",
                                    "AGE": "28",
                                    "SAL": "25000",
                                    "HIREDATE": "2014-11-08",
                                    "MID": "1123",
                                    "MAX_SALARY": "35000"
                                },
                                {
                                    "EID": "3245",
                                    "ENAME": "MUTHU",
                                    "JOB": "WEB DEVELOPER",
                                    "PHONE_NO": "7361894567",
                                    "AGE": "36",
                                    "SAL": "25000",
                                    "HIREDATE": "2016-06-20",
                                    "MID": "1123",
                                    "MAX_SALARY": "35000"
                                },
                                {
                                    "EID": "1245",
                                    "ENAME": "VIJAY",
                                    "JOB": "WEB DEVELOPER",
                                    "PHONE_NO": "7367894567",
                                    "AGE": "27",
                                    "SAL": "25000",
                                    "HIREDATE": "2018-01-27",
                                    "MID": "1123",
                                    "MAX_SALARY": "35000"
                                },
                                {
                                    "EID": "1721",
                                    "ENAME": "ARUN",
                                    "JOB": "WEB DEVELOPER",
                                    "PHONE_NO": "9876543210",
                                    "AGE": "25",
                                    "SAL": "35000",
                                    "HIREDATE": "2021-03-30",
                                    "MID": "1123",
                                    "MAX_SALARY": "35000"
                                },
                                {
                                    "EID": "2121",
                                    "ENAME": "SANTHOSH",
                                    "JOB": "WEB DEVELOPER",
                                    "PHONE_NO": "9823543210",
                                    "AGE": "29",
                                    "SAL": "25000",
                                    "HIREDATE": "2022-02-14",
                                    "MID": "1123",
                                    "MAX_SALARY": "35000"
                                }
                            ]
                        },
                        "text/html": "<table><tr><th>EID</th><th>ENAME</th><th>JOB</th><th>PHONE_NO</th><th>AGE</th><th>SAL</th><th>HIREDATE</th><th>MID</th><th>MAX_SALARY</th></tr><tr><td>1832</td><td>SURYA</td><td>CLERK</td><td>6372456764</td><td>28</td><td>20000</td><td>2019-08-20</td><td>NULL</td><td>20000</td></tr><tr><td>3832</td><td>SANJAY</td><td>CLERK</td><td>6372556764</td><td>22</td><td>12000</td><td>2019-06-11</td><td>NULL</td><td>20000</td></tr><tr><td>4832</td><td>SHANKAR</td><td>CLERK</td><td>6372456064</td><td>28</td><td>20000</td><td>2013-10-15</td><td>NULL</td><td>20000</td></tr><tr><td>4212</td><td>PREM KUMAR</td><td>DATA ANALYST</td><td>9086534201</td><td>27</td><td>40000</td><td>2023-04-20</td><td>1122</td><td>45000</td></tr><tr><td>1212</td><td>VICKY</td><td>DATA ANALYST</td><td>9786534201</td><td>27</td><td>45000</td><td>2020-04-01</td><td>1122</td><td>45000</td></tr><tr><td>2212</td><td>JEEVA</td><td>DATA ANALYST</td><td>9781534201</td><td>25</td><td>30000</td><td>2015-08-24</td><td>1122</td><td>45000</td></tr><tr><td>1762</td><td>AJAY</td><td>DATA SCIENTIET</td><td>8789321456</td><td>30</td><td>45000</td><td>2019-08-20</td><td>1124</td><td>45000</td></tr><tr><td>3762</td><td>TAMIL</td><td>DATA SCIENTIET</td><td>8780321456</td><td>34</td><td>25000</td><td>2015-08-24</td><td>1124</td><td>45000</td></tr><tr><td>4762</td><td>CHANDRAN</td><td>DATA SCIENTIET</td><td>8789321406</td><td>30</td><td>45000</td><td>2017-11-27</td><td>1124</td><td>45000</td></tr><tr><td>5245</td><td>DEEPAK</td><td>WEB DEVELOPER</td><td>7367894167</td><td>28</td><td>25000</td><td>2014-11-08</td><td>1123</td><td>35000</td></tr><tr><td>3245</td><td>MUTHU</td><td>WEB DEVELOPER</td><td>7361894567</td><td>36</td><td>25000</td><td>2016-06-20</td><td>1123</td><td>35000</td></tr><tr><td>1245</td><td>VIJAY</td><td>WEB DEVELOPER</td><td>7367894567</td><td>27</td><td>25000</td><td>2018-01-27</td><td>1123</td><td>35000</td></tr><tr><td>1721</td><td>ARUN</td><td>WEB DEVELOPER</td><td>9876543210</td><td>25</td><td>35000</td><td>2021-03-30</td><td>1123</td><td>35000</td></tr><tr><td>2121</td><td>SANTHOSH</td><td>WEB DEVELOPER</td><td>9823543210</td><td>29</td><td>25000</td><td>2022-02-14</td><td>1123</td><td>35000</td></tr></table>"
                    },
                    "metadata": {}
                }
            ],
            "execution_count": 20
        },
        {
            "cell_type": "markdown",
            "source": [
                "ROW NUMBER( );"
            ],
            "metadata": {
                "language": "sql",
                "azdata_cell_guid": "4b282e06-b79e-4255-815c-ae8fb75a34cd"
            },
            "attachments": {}
        },
        {
            "cell_type": "code",
            "source": [
                "SELECT *, row_number()  OVER(PARTITION BY JOB ORDER BY EID) AS ROW_NUMBER\r\n",
                "FROM EMPLOYE_DETAILS;"
            ],
            "metadata": {
                "language": "sql",
                "azdata_cell_guid": "d10fbdfe-9efc-456b-a470-5159c6f8bcea"
            },
            "outputs": [
                {
                    "output_type": "display_data",
                    "data": {
                        "text/html": "(14 rows affected)"
                    },
                    "metadata": {}
                },
                {
                    "output_type": "display_data",
                    "data": {
                        "text/html": "Total execution time: 00:00:00.015"
                    },
                    "metadata": {}
                },
                {
                    "output_type": "execute_result",
                    "execution_count": 26,
                    "data": {
                        "application/vnd.dataresource+json": {
                            "schema": {
                                "fields": [
                                    {
                                        "name": "EID"
                                    },
                                    {
                                        "name": "ENAME"
                                    },
                                    {
                                        "name": "JOB"
                                    },
                                    {
                                        "name": "PHONE_NO"
                                    },
                                    {
                                        "name": "AGE"
                                    },
                                    {
                                        "name": "SAL"
                                    },
                                    {
                                        "name": "HIREDATE"
                                    },
                                    {
                                        "name": "MID"
                                    },
                                    {
                                        "name": "ROW_NUMBER"
                                    }
                                ]
                            },
                            "data": [
                                {
                                    "EID": "1832",
                                    "ENAME": "SURYA",
                                    "JOB": "CLERK",
                                    "PHONE_NO": "6372456764",
                                    "AGE": "28",
                                    "SAL": "20000",
                                    "HIREDATE": "2019-08-20",
                                    "MID": "NULL",
                                    "ROW_NUMBER": "1"
                                },
                                {
                                    "EID": "3832",
                                    "ENAME": "SANJAY",
                                    "JOB": "CLERK",
                                    "PHONE_NO": "6372556764",
                                    "AGE": "22",
                                    "SAL": "12000",
                                    "HIREDATE": "2019-06-11",
                                    "MID": "NULL",
                                    "ROW_NUMBER": "2"
                                },
                                {
                                    "EID": "4832",
                                    "ENAME": "SHANKAR",
                                    "JOB": "CLERK",
                                    "PHONE_NO": "6372456064",
                                    "AGE": "28",
                                    "SAL": "20000",
                                    "HIREDATE": "2013-10-15",
                                    "MID": "NULL",
                                    "ROW_NUMBER": "3"
                                },
                                {
                                    "EID": "1212",
                                    "ENAME": "VICKY",
                                    "JOB": "DATA ANALYST",
                                    "PHONE_NO": "9786534201",
                                    "AGE": "27",
                                    "SAL": "45000",
                                    "HIREDATE": "2020-04-01",
                                    "MID": "1122",
                                    "ROW_NUMBER": "1"
                                },
                                {
                                    "EID": "2212",
                                    "ENAME": "JEEVA",
                                    "JOB": "DATA ANALYST",
                                    "PHONE_NO": "9781534201",
                                    "AGE": "25",
                                    "SAL": "30000",
                                    "HIREDATE": "2015-08-24",
                                    "MID": "1122",
                                    "ROW_NUMBER": "2"
                                },
                                {
                                    "EID": "4212",
                                    "ENAME": "PREM KUMAR",
                                    "JOB": "DATA ANALYST",
                                    "PHONE_NO": "9086534201",
                                    "AGE": "27",
                                    "SAL": "40000",
                                    "HIREDATE": "2023-04-20",
                                    "MID": "1122",
                                    "ROW_NUMBER": "3"
                                },
                                {
                                    "EID": "1762",
                                    "ENAME": "AJAY",
                                    "JOB": "DATA SCIENTIET",
                                    "PHONE_NO": "8789321456",
                                    "AGE": "30",
                                    "SAL": "45000",
                                    "HIREDATE": "2019-08-20",
                                    "MID": "1124",
                                    "ROW_NUMBER": "1"
                                },
                                {
                                    "EID": "3762",
                                    "ENAME": "TAMIL",
                                    "JOB": "DATA SCIENTIET",
                                    "PHONE_NO": "8780321456",
                                    "AGE": "34",
                                    "SAL": "25000",
                                    "HIREDATE": "2015-08-24",
                                    "MID": "1124",
                                    "ROW_NUMBER": "2"
                                },
                                {
                                    "EID": "4762",
                                    "ENAME": "CHANDRAN",
                                    "JOB": "DATA SCIENTIET",
                                    "PHONE_NO": "8789321406",
                                    "AGE": "30",
                                    "SAL": "45000",
                                    "HIREDATE": "2017-11-27",
                                    "MID": "1124",
                                    "ROW_NUMBER": "3"
                                },
                                {
                                    "EID": "1245",
                                    "ENAME": "VIJAY",
                                    "JOB": "WEB DEVELOPER",
                                    "PHONE_NO": "7367894567",
                                    "AGE": "27",
                                    "SAL": "25000",
                                    "HIREDATE": "2018-01-27",
                                    "MID": "1123",
                                    "ROW_NUMBER": "1"
                                },
                                {
                                    "EID": "1721",
                                    "ENAME": "ARUN",
                                    "JOB": "WEB DEVELOPER",
                                    "PHONE_NO": "9876543210",
                                    "AGE": "25",
                                    "SAL": "35000",
                                    "HIREDATE": "2021-03-30",
                                    "MID": "1123",
                                    "ROW_NUMBER": "2"
                                },
                                {
                                    "EID": "2121",
                                    "ENAME": "SANTHOSH",
                                    "JOB": "WEB DEVELOPER",
                                    "PHONE_NO": "9823543210",
                                    "AGE": "29",
                                    "SAL": "25000",
                                    "HIREDATE": "2022-02-14",
                                    "MID": "1123",
                                    "ROW_NUMBER": "3"
                                },
                                {
                                    "EID": "3245",
                                    "ENAME": "MUTHU",
                                    "JOB": "WEB DEVELOPER",
                                    "PHONE_NO": "7361894567",
                                    "AGE": "36",
                                    "SAL": "25000",
                                    "HIREDATE": "2016-06-20",
                                    "MID": "1123",
                                    "ROW_NUMBER": "4"
                                },
                                {
                                    "EID": "5245",
                                    "ENAME": "DEEPAK",
                                    "JOB": "WEB DEVELOPER",
                                    "PHONE_NO": "7367894167",
                                    "AGE": "28",
                                    "SAL": "25000",
                                    "HIREDATE": "2014-11-08",
                                    "MID": "1123",
                                    "ROW_NUMBER": "5"
                                }
                            ]
                        },
                        "text/html": "<table><tr><th>EID</th><th>ENAME</th><th>JOB</th><th>PHONE_NO</th><th>AGE</th><th>SAL</th><th>HIREDATE</th><th>MID</th><th>ROW_NUMBER</th></tr><tr><td>1832</td><td>SURYA</td><td>CLERK</td><td>6372456764</td><td>28</td><td>20000</td><td>2019-08-20</td><td>NULL</td><td>1</td></tr><tr><td>3832</td><td>SANJAY</td><td>CLERK</td><td>6372556764</td><td>22</td><td>12000</td><td>2019-06-11</td><td>NULL</td><td>2</td></tr><tr><td>4832</td><td>SHANKAR</td><td>CLERK</td><td>6372456064</td><td>28</td><td>20000</td><td>2013-10-15</td><td>NULL</td><td>3</td></tr><tr><td>1212</td><td>VICKY</td><td>DATA ANALYST</td><td>9786534201</td><td>27</td><td>45000</td><td>2020-04-01</td><td>1122</td><td>1</td></tr><tr><td>2212</td><td>JEEVA</td><td>DATA ANALYST</td><td>9781534201</td><td>25</td><td>30000</td><td>2015-08-24</td><td>1122</td><td>2</td></tr><tr><td>4212</td><td>PREM KUMAR</td><td>DATA ANALYST</td><td>9086534201</td><td>27</td><td>40000</td><td>2023-04-20</td><td>1122</td><td>3</td></tr><tr><td>1762</td><td>AJAY</td><td>DATA SCIENTIET</td><td>8789321456</td><td>30</td><td>45000</td><td>2019-08-20</td><td>1124</td><td>1</td></tr><tr><td>3762</td><td>TAMIL</td><td>DATA SCIENTIET</td><td>8780321456</td><td>34</td><td>25000</td><td>2015-08-24</td><td>1124</td><td>2</td></tr><tr><td>4762</td><td>CHANDRAN</td><td>DATA SCIENTIET</td><td>8789321406</td><td>30</td><td>45000</td><td>2017-11-27</td><td>1124</td><td>3</td></tr><tr><td>1245</td><td>VIJAY</td><td>WEB DEVELOPER</td><td>7367894567</td><td>27</td><td>25000</td><td>2018-01-27</td><td>1123</td><td>1</td></tr><tr><td>1721</td><td>ARUN</td><td>WEB DEVELOPER</td><td>9876543210</td><td>25</td><td>35000</td><td>2021-03-30</td><td>1123</td><td>2</td></tr><tr><td>2121</td><td>SANTHOSH</td><td>WEB DEVELOPER</td><td>9823543210</td><td>29</td><td>25000</td><td>2022-02-14</td><td>1123</td><td>3</td></tr><tr><td>3245</td><td>MUTHU</td><td>WEB DEVELOPER</td><td>7361894567</td><td>36</td><td>25000</td><td>2016-06-20</td><td>1123</td><td>4</td></tr><tr><td>5245</td><td>DEEPAK</td><td>WEB DEVELOPER</td><td>7367894167</td><td>28</td><td>25000</td><td>2014-11-08</td><td>1123</td><td>5</td></tr></table>"
                    },
                    "metadata": {}
                }
            ],
            "execution_count": 26
        },
        {
            "cell_type": "markdown",
            "source": [
                "RANK( );"
            ],
            "metadata": {
                "language": "sql",
                "azdata_cell_guid": "6a3b841b-ff88-4047-9bbd-ae10d9c0411b"
            },
            "attachments": {}
        },
        {
            "cell_type": "code",
            "source": [
                "SELECT *,RANK() OVER(PARTITION BY JOB ORDER BY SAL DESC) AS RANK\r\n",
                "FROM EMPLOYE_DETAILS;"
            ],
            "metadata": {
                "language": "sql",
                "azdata_cell_guid": "75abe7d7-c0a5-4811-82e5-11ff6fe8ed52"
            },
            "outputs": [
                {
                    "output_type": "display_data",
                    "data": {
                        "text/html": "(14 rows affected)"
                    },
                    "metadata": {}
                },
                {
                    "output_type": "display_data",
                    "data": {
                        "text/html": "Total execution time: 00:00:00.018"
                    },
                    "metadata": {}
                },
                {
                    "output_type": "execute_result",
                    "execution_count": 5,
                    "data": {
                        "application/vnd.dataresource+json": {
                            "schema": {
                                "fields": [
                                    {
                                        "name": "EID"
                                    },
                                    {
                                        "name": "ENAME"
                                    },
                                    {
                                        "name": "JOB"
                                    },
                                    {
                                        "name": "PHONE_NO"
                                    },
                                    {
                                        "name": "AGE"
                                    },
                                    {
                                        "name": "SAL"
                                    },
                                    {
                                        "name": "HIREDATE"
                                    },
                                    {
                                        "name": "MID"
                                    },
                                    {
                                        "name": "RANK"
                                    }
                                ]
                            },
                            "data": [
                                {
                                    "EID": "1832",
                                    "ENAME": "SURYA",
                                    "JOB": "CLERK",
                                    "PHONE_NO": "6372456764",
                                    "AGE": "28",
                                    "SAL": "20000",
                                    "HIREDATE": "2019-08-20",
                                    "MID": "NULL",
                                    "RANK": "1"
                                },
                                {
                                    "EID": "4832",
                                    "ENAME": "SHANKAR",
                                    "JOB": "CLERK",
                                    "PHONE_NO": "6372456064",
                                    "AGE": "28",
                                    "SAL": "20000",
                                    "HIREDATE": "2013-10-15",
                                    "MID": "NULL",
                                    "RANK": "1"
                                },
                                {
                                    "EID": "3832",
                                    "ENAME": "SANJAY",
                                    "JOB": "CLERK",
                                    "PHONE_NO": "6372556764",
                                    "AGE": "22",
                                    "SAL": "12000",
                                    "HIREDATE": "2019-06-11",
                                    "MID": "NULL",
                                    "RANK": "3"
                                },
                                {
                                    "EID": "1212",
                                    "ENAME": "VICKY",
                                    "JOB": "DATA ANALYST",
                                    "PHONE_NO": "9786534201",
                                    "AGE": "27",
                                    "SAL": "45000",
                                    "HIREDATE": "2020-04-01",
                                    "MID": "1122",
                                    "RANK": "1"
                                },
                                {
                                    "EID": "4212",
                                    "ENAME": "PREM KUMAR",
                                    "JOB": "DATA ANALYST",
                                    "PHONE_NO": "9086534201",
                                    "AGE": "27",
                                    "SAL": "40000",
                                    "HIREDATE": "2023-04-20",
                                    "MID": "1122",
                                    "RANK": "2"
                                },
                                {
                                    "EID": "2212",
                                    "ENAME": "JEEVA",
                                    "JOB": "DATA ANALYST",
                                    "PHONE_NO": "9781534201",
                                    "AGE": "25",
                                    "SAL": "30000",
                                    "HIREDATE": "2015-08-24",
                                    "MID": "1122",
                                    "RANK": "3"
                                },
                                {
                                    "EID": "1762",
                                    "ENAME": "AJAY",
                                    "JOB": "DATA SCIENTIET",
                                    "PHONE_NO": "8789321456",
                                    "AGE": "30",
                                    "SAL": "45000",
                                    "HIREDATE": "2019-08-20",
                                    "MID": "1124",
                                    "RANK": "1"
                                },
                                {
                                    "EID": "4762",
                                    "ENAME": "CHANDRAN",
                                    "JOB": "DATA SCIENTIET",
                                    "PHONE_NO": "8789321406",
                                    "AGE": "30",
                                    "SAL": "45000",
                                    "HIREDATE": "2017-11-27",
                                    "MID": "1124",
                                    "RANK": "1"
                                },
                                {
                                    "EID": "3762",
                                    "ENAME": "TAMIL",
                                    "JOB": "DATA SCIENTIET",
                                    "PHONE_NO": "8780321456",
                                    "AGE": "34",
                                    "SAL": "25000",
                                    "HIREDATE": "2015-08-24",
                                    "MID": "1124",
                                    "RANK": "3"
                                },
                                {
                                    "EID": "1721",
                                    "ENAME": "ARUN",
                                    "JOB": "WEB DEVELOPER",
                                    "PHONE_NO": "9876543210",
                                    "AGE": "25",
                                    "SAL": "35000",
                                    "HIREDATE": "2021-03-30",
                                    "MID": "1123",
                                    "RANK": "1"
                                },
                                {
                                    "EID": "1245",
                                    "ENAME": "VIJAY",
                                    "JOB": "WEB DEVELOPER",
                                    "PHONE_NO": "7367894567",
                                    "AGE": "27",
                                    "SAL": "25000",
                                    "HIREDATE": "2018-01-27",
                                    "MID": "1123",
                                    "RANK": "2"
                                },
                                {
                                    "EID": "3245",
                                    "ENAME": "MUTHU",
                                    "JOB": "WEB DEVELOPER",
                                    "PHONE_NO": "7361894567",
                                    "AGE": "36",
                                    "SAL": "25000",
                                    "HIREDATE": "2016-06-20",
                                    "MID": "1123",
                                    "RANK": "2"
                                },
                                {
                                    "EID": "2121",
                                    "ENAME": "SANTHOSH",
                                    "JOB": "WEB DEVELOPER",
                                    "PHONE_NO": "9823543210",
                                    "AGE": "29",
                                    "SAL": "25000",
                                    "HIREDATE": "2022-02-14",
                                    "MID": "1123",
                                    "RANK": "2"
                                },
                                {
                                    "EID": "5245",
                                    "ENAME": "DEEPAK",
                                    "JOB": "WEB DEVELOPER",
                                    "PHONE_NO": "7367894167",
                                    "AGE": "28",
                                    "SAL": "25000",
                                    "HIREDATE": "2014-11-08",
                                    "MID": "1123",
                                    "RANK": "2"
                                }
                            ]
                        },
                        "text/html": "<table><tr><th>EID</th><th>ENAME</th><th>JOB</th><th>PHONE_NO</th><th>AGE</th><th>SAL</th><th>HIREDATE</th><th>MID</th><th>RANK</th></tr><tr><td>1832</td><td>SURYA</td><td>CLERK</td><td>6372456764</td><td>28</td><td>20000</td><td>2019-08-20</td><td>NULL</td><td>1</td></tr><tr><td>4832</td><td>SHANKAR</td><td>CLERK</td><td>6372456064</td><td>28</td><td>20000</td><td>2013-10-15</td><td>NULL</td><td>1</td></tr><tr><td>3832</td><td>SANJAY</td><td>CLERK</td><td>6372556764</td><td>22</td><td>12000</td><td>2019-06-11</td><td>NULL</td><td>3</td></tr><tr><td>1212</td><td>VICKY</td><td>DATA ANALYST</td><td>9786534201</td><td>27</td><td>45000</td><td>2020-04-01</td><td>1122</td><td>1</td></tr><tr><td>4212</td><td>PREM KUMAR</td><td>DATA ANALYST</td><td>9086534201</td><td>27</td><td>40000</td><td>2023-04-20</td><td>1122</td><td>2</td></tr><tr><td>2212</td><td>JEEVA</td><td>DATA ANALYST</td><td>9781534201</td><td>25</td><td>30000</td><td>2015-08-24</td><td>1122</td><td>3</td></tr><tr><td>1762</td><td>AJAY</td><td>DATA SCIENTIET</td><td>8789321456</td><td>30</td><td>45000</td><td>2019-08-20</td><td>1124</td><td>1</td></tr><tr><td>4762</td><td>CHANDRAN</td><td>DATA SCIENTIET</td><td>8789321406</td><td>30</td><td>45000</td><td>2017-11-27</td><td>1124</td><td>1</td></tr><tr><td>3762</td><td>TAMIL</td><td>DATA SCIENTIET</td><td>8780321456</td><td>34</td><td>25000</td><td>2015-08-24</td><td>1124</td><td>3</td></tr><tr><td>1721</td><td>ARUN</td><td>WEB DEVELOPER</td><td>9876543210</td><td>25</td><td>35000</td><td>2021-03-30</td><td>1123</td><td>1</td></tr><tr><td>1245</td><td>VIJAY</td><td>WEB DEVELOPER</td><td>7367894567</td><td>27</td><td>25000</td><td>2018-01-27</td><td>1123</td><td>2</td></tr><tr><td>3245</td><td>MUTHU</td><td>WEB DEVELOPER</td><td>7361894567</td><td>36</td><td>25000</td><td>2016-06-20</td><td>1123</td><td>2</td></tr><tr><td>2121</td><td>SANTHOSH</td><td>WEB DEVELOPER</td><td>9823543210</td><td>29</td><td>25000</td><td>2022-02-14</td><td>1123</td><td>2</td></tr><tr><td>5245</td><td>DEEPAK</td><td>WEB DEVELOPER</td><td>7367894167</td><td>28</td><td>25000</td><td>2014-11-08</td><td>1123</td><td>2</td></tr></table>"
                    },
                    "metadata": {}
                }
            ],
            "execution_count": 5
        },
        {
            "cell_type": "markdown",
            "source": [
                "LAG( );"
            ],
            "metadata": {
                "language": "sql",
                "azdata_cell_guid": "08a9f597-2900-4c05-ae46-8623bcb2d653"
            },
            "attachments": {}
        },
        {
            "cell_type": "code",
            "source": [
                "SELECT *,LAG(SAL) OVER(PARTITION BY JOB ORDER BY EID) AS PREV_SAL\r\n",
                "FROM EMPLOYE_DETAILS;"
            ],
            "metadata": {
                "language": "sql",
                "azdata_cell_guid": "2cba2ffc-bc6c-45b8-b99c-2d7473f7bd4e"
            },
            "outputs": [
                {
                    "output_type": "display_data",
                    "data": {
                        "text/html": "(14 rows affected)"
                    },
                    "metadata": {}
                },
                {
                    "output_type": "display_data",
                    "data": {
                        "text/html": "Total execution time: 00:00:00.005"
                    },
                    "metadata": {}
                },
                {
                    "output_type": "execute_result",
                    "execution_count": 29,
                    "data": {
                        "application/vnd.dataresource+json": {
                            "schema": {
                                "fields": [
                                    {
                                        "name": "EID"
                                    },
                                    {
                                        "name": "ENAME"
                                    },
                                    {
                                        "name": "JOB"
                                    },
                                    {
                                        "name": "PHONE_NO"
                                    },
                                    {
                                        "name": "AGE"
                                    },
                                    {
                                        "name": "SAL"
                                    },
                                    {
                                        "name": "HIREDATE"
                                    },
                                    {
                                        "name": "MID"
                                    },
                                    {
                                        "name": "PREV_SAL"
                                    }
                                ]
                            },
                            "data": [
                                {
                                    "EID": "1832",
                                    "ENAME": "SURYA",
                                    "JOB": "CLERK",
                                    "PHONE_NO": "6372456764",
                                    "AGE": "28",
                                    "SAL": "20000",
                                    "HIREDATE": "2019-08-20",
                                    "MID": "NULL",
                                    "PREV_SAL": "NULL"
                                },
                                {
                                    "EID": "3832",
                                    "ENAME": "SANJAY",
                                    "JOB": "CLERK",
                                    "PHONE_NO": "6372556764",
                                    "AGE": "22",
                                    "SAL": "12000",
                                    "HIREDATE": "2019-06-11",
                                    "MID": "NULL",
                                    "PREV_SAL": "20000"
                                },
                                {
                                    "EID": "4832",
                                    "ENAME": "SHANKAR",
                                    "JOB": "CLERK",
                                    "PHONE_NO": "6372456064",
                                    "AGE": "28",
                                    "SAL": "20000",
                                    "HIREDATE": "2013-10-15",
                                    "MID": "NULL",
                                    "PREV_SAL": "12000"
                                },
                                {
                                    "EID": "1212",
                                    "ENAME": "VICKY",
                                    "JOB": "DATA ANALYST",
                                    "PHONE_NO": "9786534201",
                                    "AGE": "27",
                                    "SAL": "45000",
                                    "HIREDATE": "2020-04-01",
                                    "MID": "1122",
                                    "PREV_SAL": "NULL"
                                },
                                {
                                    "EID": "2212",
                                    "ENAME": "JEEVA",
                                    "JOB": "DATA ANALYST",
                                    "PHONE_NO": "9781534201",
                                    "AGE": "25",
                                    "SAL": "30000",
                                    "HIREDATE": "2015-08-24",
                                    "MID": "1122",
                                    "PREV_SAL": "45000"
                                },
                                {
                                    "EID": "4212",
                                    "ENAME": "PREM KUMAR",
                                    "JOB": "DATA ANALYST",
                                    "PHONE_NO": "9086534201",
                                    "AGE": "27",
                                    "SAL": "40000",
                                    "HIREDATE": "2023-04-20",
                                    "MID": "1122",
                                    "PREV_SAL": "30000"
                                },
                                {
                                    "EID": "1762",
                                    "ENAME": "AJAY",
                                    "JOB": "DATA SCIENTIET",
                                    "PHONE_NO": "8789321456",
                                    "AGE": "30",
                                    "SAL": "45000",
                                    "HIREDATE": "2019-08-20",
                                    "MID": "1124",
                                    "PREV_SAL": "NULL"
                                },
                                {
                                    "EID": "3762",
                                    "ENAME": "TAMIL",
                                    "JOB": "DATA SCIENTIET",
                                    "PHONE_NO": "8780321456",
                                    "AGE": "34",
                                    "SAL": "25000",
                                    "HIREDATE": "2015-08-24",
                                    "MID": "1124",
                                    "PREV_SAL": "45000"
                                },
                                {
                                    "EID": "4762",
                                    "ENAME": "CHANDRAN",
                                    "JOB": "DATA SCIENTIET",
                                    "PHONE_NO": "8789321406",
                                    "AGE": "30",
                                    "SAL": "45000",
                                    "HIREDATE": "2017-11-27",
                                    "MID": "1124",
                                    "PREV_SAL": "25000"
                                },
                                {
                                    "EID": "1245",
                                    "ENAME": "VIJAY",
                                    "JOB": "WEB DEVELOPER",
                                    "PHONE_NO": "7367894567",
                                    "AGE": "27",
                                    "SAL": "25000",
                                    "HIREDATE": "2018-01-27",
                                    "MID": "1123",
                                    "PREV_SAL": "NULL"
                                },
                                {
                                    "EID": "1721",
                                    "ENAME": "ARUN",
                                    "JOB": "WEB DEVELOPER",
                                    "PHONE_NO": "9876543210",
                                    "AGE": "25",
                                    "SAL": "35000",
                                    "HIREDATE": "2021-03-30",
                                    "MID": "1123",
                                    "PREV_SAL": "25000"
                                },
                                {
                                    "EID": "2121",
                                    "ENAME": "SANTHOSH",
                                    "JOB": "WEB DEVELOPER",
                                    "PHONE_NO": "9823543210",
                                    "AGE": "29",
                                    "SAL": "25000",
                                    "HIREDATE": "2022-02-14",
                                    "MID": "1123",
                                    "PREV_SAL": "35000"
                                },
                                {
                                    "EID": "3245",
                                    "ENAME": "MUTHU",
                                    "JOB": "WEB DEVELOPER",
                                    "PHONE_NO": "7361894567",
                                    "AGE": "36",
                                    "SAL": "25000",
                                    "HIREDATE": "2016-06-20",
                                    "MID": "1123",
                                    "PREV_SAL": "25000"
                                },
                                {
                                    "EID": "5245",
                                    "ENAME": "DEEPAK",
                                    "JOB": "WEB DEVELOPER",
                                    "PHONE_NO": "7367894167",
                                    "AGE": "28",
                                    "SAL": "25000",
                                    "HIREDATE": "2014-11-08",
                                    "MID": "1123",
                                    "PREV_SAL": "25000"
                                }
                            ]
                        },
                        "text/html": "<table><tr><th>EID</th><th>ENAME</th><th>JOB</th><th>PHONE_NO</th><th>AGE</th><th>SAL</th><th>HIREDATE</th><th>MID</th><th>PREV_SAL</th></tr><tr><td>1832</td><td>SURYA</td><td>CLERK</td><td>6372456764</td><td>28</td><td>20000</td><td>2019-08-20</td><td>NULL</td><td>NULL</td></tr><tr><td>3832</td><td>SANJAY</td><td>CLERK</td><td>6372556764</td><td>22</td><td>12000</td><td>2019-06-11</td><td>NULL</td><td>20000</td></tr><tr><td>4832</td><td>SHANKAR</td><td>CLERK</td><td>6372456064</td><td>28</td><td>20000</td><td>2013-10-15</td><td>NULL</td><td>12000</td></tr><tr><td>1212</td><td>VICKY</td><td>DATA ANALYST</td><td>9786534201</td><td>27</td><td>45000</td><td>2020-04-01</td><td>1122</td><td>NULL</td></tr><tr><td>2212</td><td>JEEVA</td><td>DATA ANALYST</td><td>9781534201</td><td>25</td><td>30000</td><td>2015-08-24</td><td>1122</td><td>45000</td></tr><tr><td>4212</td><td>PREM KUMAR</td><td>DATA ANALYST</td><td>9086534201</td><td>27</td><td>40000</td><td>2023-04-20</td><td>1122</td><td>30000</td></tr><tr><td>1762</td><td>AJAY</td><td>DATA SCIENTIET</td><td>8789321456</td><td>30</td><td>45000</td><td>2019-08-20</td><td>1124</td><td>NULL</td></tr><tr><td>3762</td><td>TAMIL</td><td>DATA SCIENTIET</td><td>8780321456</td><td>34</td><td>25000</td><td>2015-08-24</td><td>1124</td><td>45000</td></tr><tr><td>4762</td><td>CHANDRAN</td><td>DATA SCIENTIET</td><td>8789321406</td><td>30</td><td>45000</td><td>2017-11-27</td><td>1124</td><td>25000</td></tr><tr><td>1245</td><td>VIJAY</td><td>WEB DEVELOPER</td><td>7367894567</td><td>27</td><td>25000</td><td>2018-01-27</td><td>1123</td><td>NULL</td></tr><tr><td>1721</td><td>ARUN</td><td>WEB DEVELOPER</td><td>9876543210</td><td>25</td><td>35000</td><td>2021-03-30</td><td>1123</td><td>25000</td></tr><tr><td>2121</td><td>SANTHOSH</td><td>WEB DEVELOPER</td><td>9823543210</td><td>29</td><td>25000</td><td>2022-02-14</td><td>1123</td><td>35000</td></tr><tr><td>3245</td><td>MUTHU</td><td>WEB DEVELOPER</td><td>7361894567</td><td>36</td><td>25000</td><td>2016-06-20</td><td>1123</td><td>25000</td></tr><tr><td>5245</td><td>DEEPAK</td><td>WEB DEVELOPER</td><td>7367894167</td><td>28</td><td>25000</td><td>2014-11-08</td><td>1123</td><td>25000</td></tr></table>"
                    },
                    "metadata": {}
                }
            ],
            "execution_count": 29
        },
        {
            "cell_type": "markdown",
            "source": [
                "LEAD( );"
            ],
            "metadata": {
                "language": "sql",
                "azdata_cell_guid": "97c25700-ae10-40b1-9065-26ddf759eeac"
            },
            "attachments": {}
        },
        {
            "cell_type": "code",
            "source": [
                "SELECT *,LAG(SAL) OVER(PARTITION BY JOB ORDER BY EID) AS PREV_SAL,\r\n",
                "LEAD(SAL) OVER(PARTITION BY JOB ORDER BY EID) AS NEXT_SAL\r\n",
                "FROM EMPLOYE_DETAILS;"
            ],
            "metadata": {
                "language": "sql",
                "azdata_cell_guid": "5440e7cd-fb0b-456b-9ad1-d86d4b5ed3d1"
            },
            "outputs": [
                {
                    "output_type": "display_data",
                    "data": {
                        "text/html": "(14 rows affected)"
                    },
                    "metadata": {}
                },
                {
                    "output_type": "display_data",
                    "data": {
                        "text/html": "Total execution time: 00:00:00.017"
                    },
                    "metadata": {}
                },
                {
                    "output_type": "execute_result",
                    "execution_count": 30,
                    "data": {
                        "application/vnd.dataresource+json": {
                            "schema": {
                                "fields": [
                                    {
                                        "name": "EID"
                                    },
                                    {
                                        "name": "ENAME"
                                    },
                                    {
                                        "name": "JOB"
                                    },
                                    {
                                        "name": "PHONE_NO"
                                    },
                                    {
                                        "name": "AGE"
                                    },
                                    {
                                        "name": "SAL"
                                    },
                                    {
                                        "name": "HIREDATE"
                                    },
                                    {
                                        "name": "MID"
                                    },
                                    {
                                        "name": "PREV_SAL"
                                    },
                                    {
                                        "name": "NEXT_SAL"
                                    }
                                ]
                            },
                            "data": [
                                {
                                    "EID": "1832",
                                    "ENAME": "SURYA",
                                    "JOB": "CLERK",
                                    "PHONE_NO": "6372456764",
                                    "AGE": "28",
                                    "SAL": "20000",
                                    "HIREDATE": "2019-08-20",
                                    "MID": "NULL",
                                    "PREV_SAL": "NULL",
                                    "NEXT_SAL": "12000"
                                },
                                {
                                    "EID": "3832",
                                    "ENAME": "SANJAY",
                                    "JOB": "CLERK",
                                    "PHONE_NO": "6372556764",
                                    "AGE": "22",
                                    "SAL": "12000",
                                    "HIREDATE": "2019-06-11",
                                    "MID": "NULL",
                                    "PREV_SAL": "20000",
                                    "NEXT_SAL": "20000"
                                },
                                {
                                    "EID": "4832",
                                    "ENAME": "SHANKAR",
                                    "JOB": "CLERK",
                                    "PHONE_NO": "6372456064",
                                    "AGE": "28",
                                    "SAL": "20000",
                                    "HIREDATE": "2013-10-15",
                                    "MID": "NULL",
                                    "PREV_SAL": "12000",
                                    "NEXT_SAL": "NULL"
                                },
                                {
                                    "EID": "1212",
                                    "ENAME": "VICKY",
                                    "JOB": "DATA ANALYST",
                                    "PHONE_NO": "9786534201",
                                    "AGE": "27",
                                    "SAL": "45000",
                                    "HIREDATE": "2020-04-01",
                                    "MID": "1122",
                                    "PREV_SAL": "NULL",
                                    "NEXT_SAL": "30000"
                                },
                                {
                                    "EID": "2212",
                                    "ENAME": "JEEVA",
                                    "JOB": "DATA ANALYST",
                                    "PHONE_NO": "9781534201",
                                    "AGE": "25",
                                    "SAL": "30000",
                                    "HIREDATE": "2015-08-24",
                                    "MID": "1122",
                                    "PREV_SAL": "45000",
                                    "NEXT_SAL": "40000"
                                },
                                {
                                    "EID": "4212",
                                    "ENAME": "PREM KUMAR",
                                    "JOB": "DATA ANALYST",
                                    "PHONE_NO": "9086534201",
                                    "AGE": "27",
                                    "SAL": "40000",
                                    "HIREDATE": "2023-04-20",
                                    "MID": "1122",
                                    "PREV_SAL": "30000",
                                    "NEXT_SAL": "NULL"
                                },
                                {
                                    "EID": "1762",
                                    "ENAME": "AJAY",
                                    "JOB": "DATA SCIENTIET",
                                    "PHONE_NO": "8789321456",
                                    "AGE": "30",
                                    "SAL": "45000",
                                    "HIREDATE": "2019-08-20",
                                    "MID": "1124",
                                    "PREV_SAL": "NULL",
                                    "NEXT_SAL": "25000"
                                },
                                {
                                    "EID": "3762",
                                    "ENAME": "TAMIL",
                                    "JOB": "DATA SCIENTIET",
                                    "PHONE_NO": "8780321456",
                                    "AGE": "34",
                                    "SAL": "25000",
                                    "HIREDATE": "2015-08-24",
                                    "MID": "1124",
                                    "PREV_SAL": "45000",
                                    "NEXT_SAL": "45000"
                                },
                                {
                                    "EID": "4762",
                                    "ENAME": "CHANDRAN",
                                    "JOB": "DATA SCIENTIET",
                                    "PHONE_NO": "8789321406",
                                    "AGE": "30",
                                    "SAL": "45000",
                                    "HIREDATE": "2017-11-27",
                                    "MID": "1124",
                                    "PREV_SAL": "25000",
                                    "NEXT_SAL": "NULL"
                                },
                                {
                                    "EID": "1245",
                                    "ENAME": "VIJAY",
                                    "JOB": "WEB DEVELOPER",
                                    "PHONE_NO": "7367894567",
                                    "AGE": "27",
                                    "SAL": "25000",
                                    "HIREDATE": "2018-01-27",
                                    "MID": "1123",
                                    "PREV_SAL": "NULL",
                                    "NEXT_SAL": "35000"
                                },
                                {
                                    "EID": "1721",
                                    "ENAME": "ARUN",
                                    "JOB": "WEB DEVELOPER",
                                    "PHONE_NO": "9876543210",
                                    "AGE": "25",
                                    "SAL": "35000",
                                    "HIREDATE": "2021-03-30",
                                    "MID": "1123",
                                    "PREV_SAL": "25000",
                                    "NEXT_SAL": "25000"
                                },
                                {
                                    "EID": "2121",
                                    "ENAME": "SANTHOSH",
                                    "JOB": "WEB DEVELOPER",
                                    "PHONE_NO": "9823543210",
                                    "AGE": "29",
                                    "SAL": "25000",
                                    "HIREDATE": "2022-02-14",
                                    "MID": "1123",
                                    "PREV_SAL": "35000",
                                    "NEXT_SAL": "25000"
                                },
                                {
                                    "EID": "3245",
                                    "ENAME": "MUTHU",
                                    "JOB": "WEB DEVELOPER",
                                    "PHONE_NO": "7361894567",
                                    "AGE": "36",
                                    "SAL": "25000",
                                    "HIREDATE": "2016-06-20",
                                    "MID": "1123",
                                    "PREV_SAL": "25000",
                                    "NEXT_SAL": "25000"
                                },
                                {
                                    "EID": "5245",
                                    "ENAME": "DEEPAK",
                                    "JOB": "WEB DEVELOPER",
                                    "PHONE_NO": "7367894167",
                                    "AGE": "28",
                                    "SAL": "25000",
                                    "HIREDATE": "2014-11-08",
                                    "MID": "1123",
                                    "PREV_SAL": "25000",
                                    "NEXT_SAL": "NULL"
                                }
                            ]
                        },
                        "text/html": "<table><tr><th>EID</th><th>ENAME</th><th>JOB</th><th>PHONE_NO</th><th>AGE</th><th>SAL</th><th>HIREDATE</th><th>MID</th><th>PREV_SAL</th><th>NEXT_SAL</th></tr><tr><td>1832</td><td>SURYA</td><td>CLERK</td><td>6372456764</td><td>28</td><td>20000</td><td>2019-08-20</td><td>NULL</td><td>NULL</td><td>12000</td></tr><tr><td>3832</td><td>SANJAY</td><td>CLERK</td><td>6372556764</td><td>22</td><td>12000</td><td>2019-06-11</td><td>NULL</td><td>20000</td><td>20000</td></tr><tr><td>4832</td><td>SHANKAR</td><td>CLERK</td><td>6372456064</td><td>28</td><td>20000</td><td>2013-10-15</td><td>NULL</td><td>12000</td><td>NULL</td></tr><tr><td>1212</td><td>VICKY</td><td>DATA ANALYST</td><td>9786534201</td><td>27</td><td>45000</td><td>2020-04-01</td><td>1122</td><td>NULL</td><td>30000</td></tr><tr><td>2212</td><td>JEEVA</td><td>DATA ANALYST</td><td>9781534201</td><td>25</td><td>30000</td><td>2015-08-24</td><td>1122</td><td>45000</td><td>40000</td></tr><tr><td>4212</td><td>PREM KUMAR</td><td>DATA ANALYST</td><td>9086534201</td><td>27</td><td>40000</td><td>2023-04-20</td><td>1122</td><td>30000</td><td>NULL</td></tr><tr><td>1762</td><td>AJAY</td><td>DATA SCIENTIET</td><td>8789321456</td><td>30</td><td>45000</td><td>2019-08-20</td><td>1124</td><td>NULL</td><td>25000</td></tr><tr><td>3762</td><td>TAMIL</td><td>DATA SCIENTIET</td><td>8780321456</td><td>34</td><td>25000</td><td>2015-08-24</td><td>1124</td><td>45000</td><td>45000</td></tr><tr><td>4762</td><td>CHANDRAN</td><td>DATA SCIENTIET</td><td>8789321406</td><td>30</td><td>45000</td><td>2017-11-27</td><td>1124</td><td>25000</td><td>NULL</td></tr><tr><td>1245</td><td>VIJAY</td><td>WEB DEVELOPER</td><td>7367894567</td><td>27</td><td>25000</td><td>2018-01-27</td><td>1123</td><td>NULL</td><td>35000</td></tr><tr><td>1721</td><td>ARUN</td><td>WEB DEVELOPER</td><td>9876543210</td><td>25</td><td>35000</td><td>2021-03-30</td><td>1123</td><td>25000</td><td>25000</td></tr><tr><td>2121</td><td>SANTHOSH</td><td>WEB DEVELOPER</td><td>9823543210</td><td>29</td><td>25000</td><td>2022-02-14</td><td>1123</td><td>35000</td><td>25000</td></tr><tr><td>3245</td><td>MUTHU</td><td>WEB DEVELOPER</td><td>7361894567</td><td>36</td><td>25000</td><td>2016-06-20</td><td>1123</td><td>25000</td><td>25000</td></tr><tr><td>5245</td><td>DEEPAK</td><td>WEB DEVELOPER</td><td>7367894167</td><td>28</td><td>25000</td><td>2014-11-08</td><td>1123</td><td>25000</td><td>NULL</td></tr></table>"
                    },
                    "metadata": {}
                }
            ],
            "execution_count": 30
        },
        {
            "cell_type": "markdown",
            "source": [
                "14/07/2023\n",
                "DENSE RANK;"
            ],
            "metadata": {
                "azdata_cell_guid": "44490a15-b0ae-4b53-b72e-e2b60d4a777e"
            },
            "attachments": {}
        },
        {
            "cell_type": "code",
            "source": [
                "SELECT *,RANK() OVER(PARTITION BY JOB ORDER BY SAL) AS RANK,\r\n",
                "DENSE_RANK() OVER(PARTITION BY JOB ORDER BY SAL) AS DENSE_RANK\r\n",
                "FROM EMPLOYE_DETAILS;"
            ],
            "metadata": {
                "azdata_cell_guid": "4fd64245-1d6e-43d3-a800-526e1c469c8a",
                "language": "sql"
            },
            "outputs": [
                {
                    "output_type": "display_data",
                    "data": {
                        "text/html": "(14 rows affected)"
                    },
                    "metadata": {}
                },
                {
                    "output_type": "display_data",
                    "data": {
                        "text/html": "Total execution time: 00:00:00.064"
                    },
                    "metadata": {}
                },
                {
                    "output_type": "execute_result",
                    "execution_count": 3,
                    "data": {
                        "application/vnd.dataresource+json": {
                            "schema": {
                                "fields": [
                                    {
                                        "name": "EID"
                                    },
                                    {
                                        "name": "ENAME"
                                    },
                                    {
                                        "name": "JOB"
                                    },
                                    {
                                        "name": "PHONE_NO"
                                    },
                                    {
                                        "name": "AGE"
                                    },
                                    {
                                        "name": "SAL"
                                    },
                                    {
                                        "name": "HIREDATE"
                                    },
                                    {
                                        "name": "MID"
                                    },
                                    {
                                        "name": "RANK"
                                    },
                                    {
                                        "name": "DENSE_RANK"
                                    }
                                ]
                            },
                            "data": [
                                {
                                    "EID": "3832",
                                    "ENAME": "SANJAY",
                                    "JOB": "CLERK",
                                    "PHONE_NO": "6372556764",
                                    "AGE": "22",
                                    "SAL": "12000",
                                    "HIREDATE": "2019-06-11",
                                    "MID": "NULL",
                                    "RANK": "1",
                                    "DENSE_RANK": "1"
                                },
                                {
                                    "EID": "4832",
                                    "ENAME": "SHANKAR",
                                    "JOB": "CLERK",
                                    "PHONE_NO": "6372456064",
                                    "AGE": "28",
                                    "SAL": "20000",
                                    "HIREDATE": "2013-10-15",
                                    "MID": "NULL",
                                    "RANK": "2",
                                    "DENSE_RANK": "2"
                                },
                                {
                                    "EID": "1832",
                                    "ENAME": "SURYA",
                                    "JOB": "CLERK",
                                    "PHONE_NO": "6372456764",
                                    "AGE": "28",
                                    "SAL": "20000",
                                    "HIREDATE": "2019-08-20",
                                    "MID": "NULL",
                                    "RANK": "2",
                                    "DENSE_RANK": "2"
                                },
                                {
                                    "EID": "2212",
                                    "ENAME": "JEEVA",
                                    "JOB": "DATA ANALYST",
                                    "PHONE_NO": "9781534201",
                                    "AGE": "25",
                                    "SAL": "30000",
                                    "HIREDATE": "2015-08-24",
                                    "MID": "1122",
                                    "RANK": "1",
                                    "DENSE_RANK": "1"
                                },
                                {
                                    "EID": "4212",
                                    "ENAME": "PREM KUMAR",
                                    "JOB": "DATA ANALYST",
                                    "PHONE_NO": "9086534201",
                                    "AGE": "27",
                                    "SAL": "40000",
                                    "HIREDATE": "2023-04-20",
                                    "MID": "1122",
                                    "RANK": "2",
                                    "DENSE_RANK": "2"
                                },
                                {
                                    "EID": "1212",
                                    "ENAME": "VICKY",
                                    "JOB": "DATA ANALYST",
                                    "PHONE_NO": "9786534201",
                                    "AGE": "27",
                                    "SAL": "45000",
                                    "HIREDATE": "2020-04-01",
                                    "MID": "1122",
                                    "RANK": "3",
                                    "DENSE_RANK": "3"
                                },
                                {
                                    "EID": "3762",
                                    "ENAME": "TAMIL",
                                    "JOB": "DATA SCIENTIET",
                                    "PHONE_NO": "8780321456",
                                    "AGE": "34",
                                    "SAL": "25000",
                                    "HIREDATE": "2015-08-24",
                                    "MID": "1124",
                                    "RANK": "1",
                                    "DENSE_RANK": "1"
                                },
                                {
                                    "EID": "1762",
                                    "ENAME": "AJAY",
                                    "JOB": "DATA SCIENTIET",
                                    "PHONE_NO": "8789321456",
                                    "AGE": "30",
                                    "SAL": "45000",
                                    "HIREDATE": "2019-08-20",
                                    "MID": "1124",
                                    "RANK": "2",
                                    "DENSE_RANK": "2"
                                },
                                {
                                    "EID": "4762",
                                    "ENAME": "CHANDRAN",
                                    "JOB": "DATA SCIENTIET",
                                    "PHONE_NO": "8789321406",
                                    "AGE": "30",
                                    "SAL": "45000",
                                    "HIREDATE": "2017-11-27",
                                    "MID": "1124",
                                    "RANK": "2",
                                    "DENSE_RANK": "2"
                                },
                                {
                                    "EID": "5245",
                                    "ENAME": "DEEPAK",
                                    "JOB": "WEB DEVELOPER",
                                    "PHONE_NO": "7367894167",
                                    "AGE": "28",
                                    "SAL": "25000",
                                    "HIREDATE": "2014-11-08",
                                    "MID": "1123",
                                    "RANK": "1",
                                    "DENSE_RANK": "1"
                                },
                                {
                                    "EID": "3245",
                                    "ENAME": "MUTHU",
                                    "JOB": "WEB DEVELOPER",
                                    "PHONE_NO": "7361894567",
                                    "AGE": "36",
                                    "SAL": "25000",
                                    "HIREDATE": "2016-06-20",
                                    "MID": "1123",
                                    "RANK": "1",
                                    "DENSE_RANK": "1"
                                },
                                {
                                    "EID": "1245",
                                    "ENAME": "VIJAY",
                                    "JOB": "WEB DEVELOPER",
                                    "PHONE_NO": "7367894567",
                                    "AGE": "27",
                                    "SAL": "25000",
                                    "HIREDATE": "2018-01-27",
                                    "MID": "1123",
                                    "RANK": "1",
                                    "DENSE_RANK": "1"
                                },
                                {
                                    "EID": "2121",
                                    "ENAME": "SANTHOSH",
                                    "JOB": "WEB DEVELOPER",
                                    "PHONE_NO": "9823543210",
                                    "AGE": "29",
                                    "SAL": "25000",
                                    "HIREDATE": "2022-02-14",
                                    "MID": "1123",
                                    "RANK": "1",
                                    "DENSE_RANK": "1"
                                },
                                {
                                    "EID": "1721",
                                    "ENAME": "ARUN",
                                    "JOB": "WEB DEVELOPER",
                                    "PHONE_NO": "9876543210",
                                    "AGE": "25",
                                    "SAL": "35000",
                                    "HIREDATE": "2021-03-30",
                                    "MID": "1123",
                                    "RANK": "5",
                                    "DENSE_RANK": "2"
                                }
                            ]
                        },
                        "text/html": "<table><tr><th>EID</th><th>ENAME</th><th>JOB</th><th>PHONE_NO</th><th>AGE</th><th>SAL</th><th>HIREDATE</th><th>MID</th><th>RANK</th><th>DENSE_RANK</th></tr><tr><td>3832</td><td>SANJAY</td><td>CLERK</td><td>6372556764</td><td>22</td><td>12000</td><td>2019-06-11</td><td>NULL</td><td>1</td><td>1</td></tr><tr><td>4832</td><td>SHANKAR</td><td>CLERK</td><td>6372456064</td><td>28</td><td>20000</td><td>2013-10-15</td><td>NULL</td><td>2</td><td>2</td></tr><tr><td>1832</td><td>SURYA</td><td>CLERK</td><td>6372456764</td><td>28</td><td>20000</td><td>2019-08-20</td><td>NULL</td><td>2</td><td>2</td></tr><tr><td>2212</td><td>JEEVA</td><td>DATA ANALYST</td><td>9781534201</td><td>25</td><td>30000</td><td>2015-08-24</td><td>1122</td><td>1</td><td>1</td></tr><tr><td>4212</td><td>PREM KUMAR</td><td>DATA ANALYST</td><td>9086534201</td><td>27</td><td>40000</td><td>2023-04-20</td><td>1122</td><td>2</td><td>2</td></tr><tr><td>1212</td><td>VICKY</td><td>DATA ANALYST</td><td>9786534201</td><td>27</td><td>45000</td><td>2020-04-01</td><td>1122</td><td>3</td><td>3</td></tr><tr><td>3762</td><td>TAMIL</td><td>DATA SCIENTIET</td><td>8780321456</td><td>34</td><td>25000</td><td>2015-08-24</td><td>1124</td><td>1</td><td>1</td></tr><tr><td>1762</td><td>AJAY</td><td>DATA SCIENTIET</td><td>8789321456</td><td>30</td><td>45000</td><td>2019-08-20</td><td>1124</td><td>2</td><td>2</td></tr><tr><td>4762</td><td>CHANDRAN</td><td>DATA SCIENTIET</td><td>8789321406</td><td>30</td><td>45000</td><td>2017-11-27</td><td>1124</td><td>2</td><td>2</td></tr><tr><td>5245</td><td>DEEPAK</td><td>WEB DEVELOPER</td><td>7367894167</td><td>28</td><td>25000</td><td>2014-11-08</td><td>1123</td><td>1</td><td>1</td></tr><tr><td>3245</td><td>MUTHU</td><td>WEB DEVELOPER</td><td>7361894567</td><td>36</td><td>25000</td><td>2016-06-20</td><td>1123</td><td>1</td><td>1</td></tr><tr><td>1245</td><td>VIJAY</td><td>WEB DEVELOPER</td><td>7367894567</td><td>27</td><td>25000</td><td>2018-01-27</td><td>1123</td><td>1</td><td>1</td></tr><tr><td>2121</td><td>SANTHOSH</td><td>WEB DEVELOPER</td><td>9823543210</td><td>29</td><td>25000</td><td>2022-02-14</td><td>1123</td><td>1</td><td>1</td></tr><tr><td>1721</td><td>ARUN</td><td>WEB DEVELOPER</td><td>9876543210</td><td>25</td><td>35000</td><td>2021-03-30</td><td>1123</td><td>5</td><td>2</td></tr></table>"
                    },
                    "metadata": {}
                }
            ],
            "execution_count": 3
        },
        {
            "cell_type": "markdown",
            "source": [
                "FIRST VALUE;"
            ],
            "metadata": {
                "language": "sql",
                "azdata_cell_guid": "a4c140e5-3841-4a3c-b25e-e424d4d1620a"
            },
            "attachments": {}
        },
        {
            "cell_type": "code",
            "source": [
                "SELECT *,FIRST_VALUE(ENAME) OVER(PARTITION BY JOB ORDER BY SAL DESC ) AS HIGHEST_PAID_EMPLOYE\r\n",
                "FROM EMPLOYE_DETAILS;"
            ],
            "metadata": {
                "language": "sql",
                "azdata_cell_guid": "b62dc097-ceba-4362-bee3-40cc914babf6"
            },
            "outputs": [
                {
                    "output_type": "display_data",
                    "data": {
                        "text/html": "(14 rows affected)"
                    },
                    "metadata": {}
                },
                {
                    "output_type": "display_data",
                    "data": {
                        "text/html": "Total execution time: 00:00:00.012"
                    },
                    "metadata": {}
                },
                {
                    "output_type": "execute_result",
                    "execution_count": 10,
                    "data": {
                        "application/vnd.dataresource+json": {
                            "schema": {
                                "fields": [
                                    {
                                        "name": "EID"
                                    },
                                    {
                                        "name": "ENAME"
                                    },
                                    {
                                        "name": "JOB"
                                    },
                                    {
                                        "name": "PHONE_NO"
                                    },
                                    {
                                        "name": "AGE"
                                    },
                                    {
                                        "name": "SAL"
                                    },
                                    {
                                        "name": "HIREDATE"
                                    },
                                    {
                                        "name": "MID"
                                    },
                                    {
                                        "name": "HIGHEST_PAID_EMPLOYE"
                                    }
                                ]
                            },
                            "data": [
                                {
                                    "EID": "1832",
                                    "ENAME": "SURYA",
                                    "JOB": "CLERK",
                                    "PHONE_NO": "6372456764",
                                    "AGE": "28",
                                    "SAL": "20000",
                                    "HIREDATE": "2019-08-20",
                                    "MID": "NULL",
                                    "HIGHEST_PAID_EMPLOYE": "SURYA"
                                },
                                {
                                    "EID": "4832",
                                    "ENAME": "SHANKAR",
                                    "JOB": "CLERK",
                                    "PHONE_NO": "6372456064",
                                    "AGE": "28",
                                    "SAL": "20000",
                                    "HIREDATE": "2013-10-15",
                                    "MID": "NULL",
                                    "HIGHEST_PAID_EMPLOYE": "SURYA"
                                },
                                {
                                    "EID": "3832",
                                    "ENAME": "SANJAY",
                                    "JOB": "CLERK",
                                    "PHONE_NO": "6372556764",
                                    "AGE": "22",
                                    "SAL": "12000",
                                    "HIREDATE": "2019-06-11",
                                    "MID": "NULL",
                                    "HIGHEST_PAID_EMPLOYE": "SURYA"
                                },
                                {
                                    "EID": "1212",
                                    "ENAME": "VICKY",
                                    "JOB": "DATA ANALYST",
                                    "PHONE_NO": "9786534201",
                                    "AGE": "27",
                                    "SAL": "45000",
                                    "HIREDATE": "2020-04-01",
                                    "MID": "1122",
                                    "HIGHEST_PAID_EMPLOYE": "VICKY"
                                },
                                {
                                    "EID": "4212",
                                    "ENAME": "PREM KUMAR",
                                    "JOB": "DATA ANALYST",
                                    "PHONE_NO": "9086534201",
                                    "AGE": "27",
                                    "SAL": "40000",
                                    "HIREDATE": "2023-04-20",
                                    "MID": "1122",
                                    "HIGHEST_PAID_EMPLOYE": "VICKY"
                                },
                                {
                                    "EID": "2212",
                                    "ENAME": "JEEVA",
                                    "JOB": "DATA ANALYST",
                                    "PHONE_NO": "9781534201",
                                    "AGE": "25",
                                    "SAL": "30000",
                                    "HIREDATE": "2015-08-24",
                                    "MID": "1122",
                                    "HIGHEST_PAID_EMPLOYE": "VICKY"
                                },
                                {
                                    "EID": "1762",
                                    "ENAME": "AJAY",
                                    "JOB": "DATA SCIENTIET",
                                    "PHONE_NO": "8789321456",
                                    "AGE": "30",
                                    "SAL": "45000",
                                    "HIREDATE": "2019-08-20",
                                    "MID": "1124",
                                    "HIGHEST_PAID_EMPLOYE": "AJAY"
                                },
                                {
                                    "EID": "4762",
                                    "ENAME": "CHANDRAN",
                                    "JOB": "DATA SCIENTIET",
                                    "PHONE_NO": "8789321406",
                                    "AGE": "30",
                                    "SAL": "45000",
                                    "HIREDATE": "2017-11-27",
                                    "MID": "1124",
                                    "HIGHEST_PAID_EMPLOYE": "AJAY"
                                },
                                {
                                    "EID": "3762",
                                    "ENAME": "TAMIL",
                                    "JOB": "DATA SCIENTIET",
                                    "PHONE_NO": "8780321456",
                                    "AGE": "34",
                                    "SAL": "25000",
                                    "HIREDATE": "2015-08-24",
                                    "MID": "1124",
                                    "HIGHEST_PAID_EMPLOYE": "AJAY"
                                },
                                {
                                    "EID": "1721",
                                    "ENAME": "ARUN",
                                    "JOB": "WEB DEVELOPER",
                                    "PHONE_NO": "9876543210",
                                    "AGE": "25",
                                    "SAL": "35000",
                                    "HIREDATE": "2021-03-30",
                                    "MID": "1123",
                                    "HIGHEST_PAID_EMPLOYE": "ARUN"
                                },
                                {
                                    "EID": "1245",
                                    "ENAME": "VIJAY",
                                    "JOB": "WEB DEVELOPER",
                                    "PHONE_NO": "7367894567",
                                    "AGE": "27",
                                    "SAL": "25000",
                                    "HIREDATE": "2018-01-27",
                                    "MID": "1123",
                                    "HIGHEST_PAID_EMPLOYE": "ARUN"
                                },
                                {
                                    "EID": "3245",
                                    "ENAME": "MUTHU",
                                    "JOB": "WEB DEVELOPER",
                                    "PHONE_NO": "7361894567",
                                    "AGE": "36",
                                    "SAL": "25000",
                                    "HIREDATE": "2016-06-20",
                                    "MID": "1123",
                                    "HIGHEST_PAID_EMPLOYE": "ARUN"
                                },
                                {
                                    "EID": "2121",
                                    "ENAME": "SANTHOSH",
                                    "JOB": "WEB DEVELOPER",
                                    "PHONE_NO": "9823543210",
                                    "AGE": "29",
                                    "SAL": "25000",
                                    "HIREDATE": "2022-02-14",
                                    "MID": "1123",
                                    "HIGHEST_PAID_EMPLOYE": "ARUN"
                                },
                                {
                                    "EID": "5245",
                                    "ENAME": "DEEPAK",
                                    "JOB": "WEB DEVELOPER",
                                    "PHONE_NO": "7367894167",
                                    "AGE": "28",
                                    "SAL": "25000",
                                    "HIREDATE": "2014-11-08",
                                    "MID": "1123",
                                    "HIGHEST_PAID_EMPLOYE": "ARUN"
                                }
                            ]
                        },
                        "text/html": "<table><tr><th>EID</th><th>ENAME</th><th>JOB</th><th>PHONE_NO</th><th>AGE</th><th>SAL</th><th>HIREDATE</th><th>MID</th><th>HIGHEST_PAID_EMPLOYE</th></tr><tr><td>1832</td><td>SURYA</td><td>CLERK</td><td>6372456764</td><td>28</td><td>20000</td><td>2019-08-20</td><td>NULL</td><td>SURYA</td></tr><tr><td>4832</td><td>SHANKAR</td><td>CLERK</td><td>6372456064</td><td>28</td><td>20000</td><td>2013-10-15</td><td>NULL</td><td>SURYA</td></tr><tr><td>3832</td><td>SANJAY</td><td>CLERK</td><td>6372556764</td><td>22</td><td>12000</td><td>2019-06-11</td><td>NULL</td><td>SURYA</td></tr><tr><td>1212</td><td>VICKY</td><td>DATA ANALYST</td><td>9786534201</td><td>27</td><td>45000</td><td>2020-04-01</td><td>1122</td><td>VICKY</td></tr><tr><td>4212</td><td>PREM KUMAR</td><td>DATA ANALYST</td><td>9086534201</td><td>27</td><td>40000</td><td>2023-04-20</td><td>1122</td><td>VICKY</td></tr><tr><td>2212</td><td>JEEVA</td><td>DATA ANALYST</td><td>9781534201</td><td>25</td><td>30000</td><td>2015-08-24</td><td>1122</td><td>VICKY</td></tr><tr><td>1762</td><td>AJAY</td><td>DATA SCIENTIET</td><td>8789321456</td><td>30</td><td>45000</td><td>2019-08-20</td><td>1124</td><td>AJAY</td></tr><tr><td>4762</td><td>CHANDRAN</td><td>DATA SCIENTIET</td><td>8789321406</td><td>30</td><td>45000</td><td>2017-11-27</td><td>1124</td><td>AJAY</td></tr><tr><td>3762</td><td>TAMIL</td><td>DATA SCIENTIET</td><td>8780321456</td><td>34</td><td>25000</td><td>2015-08-24</td><td>1124</td><td>AJAY</td></tr><tr><td>1721</td><td>ARUN</td><td>WEB DEVELOPER</td><td>9876543210</td><td>25</td><td>35000</td><td>2021-03-30</td><td>1123</td><td>ARUN</td></tr><tr><td>1245</td><td>VIJAY</td><td>WEB DEVELOPER</td><td>7367894567</td><td>27</td><td>25000</td><td>2018-01-27</td><td>1123</td><td>ARUN</td></tr><tr><td>3245</td><td>MUTHU</td><td>WEB DEVELOPER</td><td>7361894567</td><td>36</td><td>25000</td><td>2016-06-20</td><td>1123</td><td>ARUN</td></tr><tr><td>2121</td><td>SANTHOSH</td><td>WEB DEVELOPER</td><td>9823543210</td><td>29</td><td>25000</td><td>2022-02-14</td><td>1123</td><td>ARUN</td></tr><tr><td>5245</td><td>DEEPAK</td><td>WEB DEVELOPER</td><td>7367894167</td><td>28</td><td>25000</td><td>2014-11-08</td><td>1123</td><td>ARUN</td></tr></table>"
                    },
                    "metadata": {}
                }
            ],
            "execution_count": 10
        },
        {
            "cell_type": "markdown",
            "source": [
                "LAST VALUE;"
            ],
            "metadata": {
                "azdata_cell_guid": "d80ac322-f154-4605-b826-56053a18df59"
            },
            "attachments": {}
        },
        {
            "cell_type": "code",
            "source": [
                "SELECT *,\r\n",
                "FIRST_VALUE(ENAME) OVER(PARTITION BY JOB ORDER BY SAL DESC) AS HIGHEST_PAID_EMPLOYE,\r\n",
                "LAST_VALUE(ENAME) OVER(PARTITION BY JOB ORDER BY SAL DESC) AS LEAST_PAID_EMPLOYE\r\n",
                "FROM EMPLOYE_DETAILS;"
            ],
            "metadata": {
                "azdata_cell_guid": "2c69d473-47b5-4e3f-90a2-9cdc97f165ae",
                "language": "sql"
            },
            "outputs": [
                {
                    "output_type": "display_data",
                    "data": {
                        "text/html": "(14 rows affected)"
                    },
                    "metadata": {}
                },
                {
                    "output_type": "display_data",
                    "data": {
                        "text/html": "Total execution time: 00:00:00.012"
                    },
                    "metadata": {}
                },
                {
                    "output_type": "execute_result",
                    "execution_count": 11,
                    "data": {
                        "application/vnd.dataresource+json": {
                            "schema": {
                                "fields": [
                                    {
                                        "name": "EID"
                                    },
                                    {
                                        "name": "ENAME"
                                    },
                                    {
                                        "name": "JOB"
                                    },
                                    {
                                        "name": "PHONE_NO"
                                    },
                                    {
                                        "name": "AGE"
                                    },
                                    {
                                        "name": "SAL"
                                    },
                                    {
                                        "name": "HIREDATE"
                                    },
                                    {
                                        "name": "MID"
                                    },
                                    {
                                        "name": "HIGHEST_PAID_EMPLOYE"
                                    },
                                    {
                                        "name": "LEAST_PAID_EMPLOYE"
                                    }
                                ]
                            },
                            "data": [
                                {
                                    "EID": "1832",
                                    "ENAME": "SURYA",
                                    "JOB": "CLERK",
                                    "PHONE_NO": "6372456764",
                                    "AGE": "28",
                                    "SAL": "20000",
                                    "HIREDATE": "2019-08-20",
                                    "MID": "NULL",
                                    "HIGHEST_PAID_EMPLOYE": "SURYA",
                                    "LEAST_PAID_EMPLOYE": "SHANKAR"
                                },
                                {
                                    "EID": "4832",
                                    "ENAME": "SHANKAR",
                                    "JOB": "CLERK",
                                    "PHONE_NO": "6372456064",
                                    "AGE": "28",
                                    "SAL": "20000",
                                    "HIREDATE": "2013-10-15",
                                    "MID": "NULL",
                                    "HIGHEST_PAID_EMPLOYE": "SURYA",
                                    "LEAST_PAID_EMPLOYE": "SHANKAR"
                                },
                                {
                                    "EID": "3832",
                                    "ENAME": "SANJAY",
                                    "JOB": "CLERK",
                                    "PHONE_NO": "6372556764",
                                    "AGE": "22",
                                    "SAL": "12000",
                                    "HIREDATE": "2019-06-11",
                                    "MID": "NULL",
                                    "HIGHEST_PAID_EMPLOYE": "SURYA",
                                    "LEAST_PAID_EMPLOYE": "SANJAY"
                                },
                                {
                                    "EID": "1212",
                                    "ENAME": "VICKY",
                                    "JOB": "DATA ANALYST",
                                    "PHONE_NO": "9786534201",
                                    "AGE": "27",
                                    "SAL": "45000",
                                    "HIREDATE": "2020-04-01",
                                    "MID": "1122",
                                    "HIGHEST_PAID_EMPLOYE": "VICKY",
                                    "LEAST_PAID_EMPLOYE": "VICKY"
                                },
                                {
                                    "EID": "4212",
                                    "ENAME": "PREM KUMAR",
                                    "JOB": "DATA ANALYST",
                                    "PHONE_NO": "9086534201",
                                    "AGE": "27",
                                    "SAL": "40000",
                                    "HIREDATE": "2023-04-20",
                                    "MID": "1122",
                                    "HIGHEST_PAID_EMPLOYE": "VICKY",
                                    "LEAST_PAID_EMPLOYE": "PREM KUMAR"
                                },
                                {
                                    "EID": "2212",
                                    "ENAME": "JEEVA",
                                    "JOB": "DATA ANALYST",
                                    "PHONE_NO": "9781534201",
                                    "AGE": "25",
                                    "SAL": "30000",
                                    "HIREDATE": "2015-08-24",
                                    "MID": "1122",
                                    "HIGHEST_PAID_EMPLOYE": "VICKY",
                                    "LEAST_PAID_EMPLOYE": "JEEVA"
                                },
                                {
                                    "EID": "1762",
                                    "ENAME": "AJAY",
                                    "JOB": "DATA SCIENTIET",
                                    "PHONE_NO": "8789321456",
                                    "AGE": "30",
                                    "SAL": "45000",
                                    "HIREDATE": "2019-08-20",
                                    "MID": "1124",
                                    "HIGHEST_PAID_EMPLOYE": "AJAY",
                                    "LEAST_PAID_EMPLOYE": "CHANDRAN"
                                },
                                {
                                    "EID": "4762",
                                    "ENAME": "CHANDRAN",
                                    "JOB": "DATA SCIENTIET",
                                    "PHONE_NO": "8789321406",
                                    "AGE": "30",
                                    "SAL": "45000",
                                    "HIREDATE": "2017-11-27",
                                    "MID": "1124",
                                    "HIGHEST_PAID_EMPLOYE": "AJAY",
                                    "LEAST_PAID_EMPLOYE": "CHANDRAN"
                                },
                                {
                                    "EID": "3762",
                                    "ENAME": "TAMIL",
                                    "JOB": "DATA SCIENTIET",
                                    "PHONE_NO": "8780321456",
                                    "AGE": "34",
                                    "SAL": "25000",
                                    "HIREDATE": "2015-08-24",
                                    "MID": "1124",
                                    "HIGHEST_PAID_EMPLOYE": "AJAY",
                                    "LEAST_PAID_EMPLOYE": "TAMIL"
                                },
                                {
                                    "EID": "1721",
                                    "ENAME": "ARUN",
                                    "JOB": "WEB DEVELOPER",
                                    "PHONE_NO": "9876543210",
                                    "AGE": "25",
                                    "SAL": "35000",
                                    "HIREDATE": "2021-03-30",
                                    "MID": "1123",
                                    "HIGHEST_PAID_EMPLOYE": "ARUN",
                                    "LEAST_PAID_EMPLOYE": "ARUN"
                                },
                                {
                                    "EID": "1245",
                                    "ENAME": "VIJAY",
                                    "JOB": "WEB DEVELOPER",
                                    "PHONE_NO": "7367894567",
                                    "AGE": "27",
                                    "SAL": "25000",
                                    "HIREDATE": "2018-01-27",
                                    "MID": "1123",
                                    "HIGHEST_PAID_EMPLOYE": "ARUN",
                                    "LEAST_PAID_EMPLOYE": "DEEPAK"
                                },
                                {
                                    "EID": "3245",
                                    "ENAME": "MUTHU",
                                    "JOB": "WEB DEVELOPER",
                                    "PHONE_NO": "7361894567",
                                    "AGE": "36",
                                    "SAL": "25000",
                                    "HIREDATE": "2016-06-20",
                                    "MID": "1123",
                                    "HIGHEST_PAID_EMPLOYE": "ARUN",
                                    "LEAST_PAID_EMPLOYE": "DEEPAK"
                                },
                                {
                                    "EID": "2121",
                                    "ENAME": "SANTHOSH",
                                    "JOB": "WEB DEVELOPER",
                                    "PHONE_NO": "9823543210",
                                    "AGE": "29",
                                    "SAL": "25000",
                                    "HIREDATE": "2022-02-14",
                                    "MID": "1123",
                                    "HIGHEST_PAID_EMPLOYE": "ARUN",
                                    "LEAST_PAID_EMPLOYE": "DEEPAK"
                                },
                                {
                                    "EID": "5245",
                                    "ENAME": "DEEPAK",
                                    "JOB": "WEB DEVELOPER",
                                    "PHONE_NO": "7367894167",
                                    "AGE": "28",
                                    "SAL": "25000",
                                    "HIREDATE": "2014-11-08",
                                    "MID": "1123",
                                    "HIGHEST_PAID_EMPLOYE": "ARUN",
                                    "LEAST_PAID_EMPLOYE": "DEEPAK"
                                }
                            ]
                        },
                        "text/html": "<table><tr><th>EID</th><th>ENAME</th><th>JOB</th><th>PHONE_NO</th><th>AGE</th><th>SAL</th><th>HIREDATE</th><th>MID</th><th>HIGHEST_PAID_EMPLOYE</th><th>LEAST_PAID_EMPLOYE</th></tr><tr><td>1832</td><td>SURYA</td><td>CLERK</td><td>6372456764</td><td>28</td><td>20000</td><td>2019-08-20</td><td>NULL</td><td>SURYA</td><td>SHANKAR</td></tr><tr><td>4832</td><td>SHANKAR</td><td>CLERK</td><td>6372456064</td><td>28</td><td>20000</td><td>2013-10-15</td><td>NULL</td><td>SURYA</td><td>SHANKAR</td></tr><tr><td>3832</td><td>SANJAY</td><td>CLERK</td><td>6372556764</td><td>22</td><td>12000</td><td>2019-06-11</td><td>NULL</td><td>SURYA</td><td>SANJAY</td></tr><tr><td>1212</td><td>VICKY</td><td>DATA ANALYST</td><td>9786534201</td><td>27</td><td>45000</td><td>2020-04-01</td><td>1122</td><td>VICKY</td><td>VICKY</td></tr><tr><td>4212</td><td>PREM KUMAR</td><td>DATA ANALYST</td><td>9086534201</td><td>27</td><td>40000</td><td>2023-04-20</td><td>1122</td><td>VICKY</td><td>PREM KUMAR</td></tr><tr><td>2212</td><td>JEEVA</td><td>DATA ANALYST</td><td>9781534201</td><td>25</td><td>30000</td><td>2015-08-24</td><td>1122</td><td>VICKY</td><td>JEEVA</td></tr><tr><td>1762</td><td>AJAY</td><td>DATA SCIENTIET</td><td>8789321456</td><td>30</td><td>45000</td><td>2019-08-20</td><td>1124</td><td>AJAY</td><td>CHANDRAN</td></tr><tr><td>4762</td><td>CHANDRAN</td><td>DATA SCIENTIET</td><td>8789321406</td><td>30</td><td>45000</td><td>2017-11-27</td><td>1124</td><td>AJAY</td><td>CHANDRAN</td></tr><tr><td>3762</td><td>TAMIL</td><td>DATA SCIENTIET</td><td>8780321456</td><td>34</td><td>25000</td><td>2015-08-24</td><td>1124</td><td>AJAY</td><td>TAMIL</td></tr><tr><td>1721</td><td>ARUN</td><td>WEB DEVELOPER</td><td>9876543210</td><td>25</td><td>35000</td><td>2021-03-30</td><td>1123</td><td>ARUN</td><td>ARUN</td></tr><tr><td>1245</td><td>VIJAY</td><td>WEB DEVELOPER</td><td>7367894567</td><td>27</td><td>25000</td><td>2018-01-27</td><td>1123</td><td>ARUN</td><td>DEEPAK</td></tr><tr><td>3245</td><td>MUTHU</td><td>WEB DEVELOPER</td><td>7361894567</td><td>36</td><td>25000</td><td>2016-06-20</td><td>1123</td><td>ARUN</td><td>DEEPAK</td></tr><tr><td>2121</td><td>SANTHOSH</td><td>WEB DEVELOPER</td><td>9823543210</td><td>29</td><td>25000</td><td>2022-02-14</td><td>1123</td><td>ARUN</td><td>DEEPAK</td></tr><tr><td>5245</td><td>DEEPAK</td><td>WEB DEVELOPER</td><td>7367894167</td><td>28</td><td>25000</td><td>2014-11-08</td><td>1123</td><td>ARUN</td><td>DEEPAK</td></tr></table>"
                    },
                    "metadata": {}
                }
            ],
            "execution_count": 11
        },
        {
            "cell_type": "markdown",
            "source": [
                "Nth VALUE;"
            ],
            "metadata": {
                "language": "sql",
                "azdata_cell_guid": "a0351d1b-89cd-4d81-8e14-3a6218ec8dff"
            },
            "attachments": {}
        },
        {
            "cell_type": "code",
            "source": [
                "SELECT \r\n",
                "-- FIRST_VALUE(ENAME) OVER(PARTITION BY JOB ORDER BY SAL DESC) AS HIGHEST_PAID_EMPLOYE,\r\n",
                "-- LAST_VALUE(ENAME) OVER(PARTITION BY JOB ORDER BY SAL DESC) AS LEAST_PAID_EMPLOYE,\r\n",
                "NTH_VALUE(ENAME,2) OVER( ORDER BY SAL DESC) AS 2ND_MOST_PAID_EMPLOYE\r\n",
                "FROM EMPLOYE_DETAILS;"
            ],
            "metadata": {
                "language": "sql",
                "azdata_cell_guid": "d75dcc67-f146-425f-9460-15b51f147920"
            },
            "outputs": [
                {
                    "output_type": "error",
                    "ename": "",
                    "evalue": "Msg 195, Level 15, State 10, Line 4\r\n'NTH_VALUE' is not a recognized built-in function name.",
                    "traceback": []
                },
                {
                    "output_type": "display_data",
                    "data": {
                        "text/html": "Total execution time: 00:00:00.001"
                    },
                    "metadata": {}
                }
            ],
            "execution_count": 8
        },
        {
            "cell_type": "markdown",
            "source": [
                "PERCENT\\_RANK;"
            ],
            "metadata": {
                "language": "sql",
                "azdata_cell_guid": "867997d3-828d-4ac2-8cf0-cc3553f0f447"
            },
            "attachments": {}
        },
        {
            "cell_type": "code",
            "source": [
                "SELECT *,PERCENT_RANK() OVER(ORDER BY SAL) AS PERCENTAGE_RANK\r\n",
                "FROM EMPLOYE_DETAILS;"
            ],
            "metadata": {
                "language": "sql",
                "azdata_cell_guid": "d80b9f55-bff4-4007-9338-46435510e457"
            },
            "outputs": [
                {
                    "output_type": "display_data",
                    "data": {
                        "text/html": "(14 rows affected)"
                    },
                    "metadata": {}
                },
                {
                    "output_type": "display_data",
                    "data": {
                        "text/html": "Total execution time: 00:00:00.016"
                    },
                    "metadata": {}
                },
                {
                    "output_type": "execute_result",
                    "execution_count": 14,
                    "data": {
                        "application/vnd.dataresource+json": {
                            "schema": {
                                "fields": [
                                    {
                                        "name": "EID"
                                    },
                                    {
                                        "name": "ENAME"
                                    },
                                    {
                                        "name": "JOB"
                                    },
                                    {
                                        "name": "PHONE_NO"
                                    },
                                    {
                                        "name": "AGE"
                                    },
                                    {
                                        "name": "SAL"
                                    },
                                    {
                                        "name": "HIREDATE"
                                    },
                                    {
                                        "name": "MID"
                                    },
                                    {
                                        "name": "PERCENTAGE_RANK"
                                    }
                                ]
                            },
                            "data": [
                                {
                                    "EID": "3832",
                                    "ENAME": "SANJAY",
                                    "JOB": "CLERK",
                                    "PHONE_NO": "6372556764",
                                    "AGE": "22",
                                    "SAL": "12000",
                                    "HIREDATE": "2019-06-11",
                                    "MID": "NULL",
                                    "PERCENTAGE_RANK": "0"
                                },
                                {
                                    "EID": "1832",
                                    "ENAME": "SURYA",
                                    "JOB": "CLERK",
                                    "PHONE_NO": "6372456764",
                                    "AGE": "28",
                                    "SAL": "20000",
                                    "HIREDATE": "2019-08-20",
                                    "MID": "NULL",
                                    "PERCENTAGE_RANK": "0.07692307692307693"
                                },
                                {
                                    "EID": "4832",
                                    "ENAME": "SHANKAR",
                                    "JOB": "CLERK",
                                    "PHONE_NO": "6372456064",
                                    "AGE": "28",
                                    "SAL": "20000",
                                    "HIREDATE": "2013-10-15",
                                    "MID": "NULL",
                                    "PERCENTAGE_RANK": "0.07692307692307693"
                                },
                                {
                                    "EID": "5245",
                                    "ENAME": "DEEPAK",
                                    "JOB": "WEB DEVELOPER",
                                    "PHONE_NO": "7367894167",
                                    "AGE": "28",
                                    "SAL": "25000",
                                    "HIREDATE": "2014-11-08",
                                    "MID": "1123",
                                    "PERCENTAGE_RANK": "0.23076923076923078"
                                },
                                {
                                    "EID": "2121",
                                    "ENAME": "SANTHOSH",
                                    "JOB": "WEB DEVELOPER",
                                    "PHONE_NO": "9823543210",
                                    "AGE": "29",
                                    "SAL": "25000",
                                    "HIREDATE": "2022-02-14",
                                    "MID": "1123",
                                    "PERCENTAGE_RANK": "0.23076923076923078"
                                },
                                {
                                    "EID": "1245",
                                    "ENAME": "VIJAY",
                                    "JOB": "WEB DEVELOPER",
                                    "PHONE_NO": "7367894567",
                                    "AGE": "27",
                                    "SAL": "25000",
                                    "HIREDATE": "2018-01-27",
                                    "MID": "1123",
                                    "PERCENTAGE_RANK": "0.23076923076923078"
                                },
                                {
                                    "EID": "3245",
                                    "ENAME": "MUTHU",
                                    "JOB": "WEB DEVELOPER",
                                    "PHONE_NO": "7361894567",
                                    "AGE": "36",
                                    "SAL": "25000",
                                    "HIREDATE": "2016-06-20",
                                    "MID": "1123",
                                    "PERCENTAGE_RANK": "0.23076923076923078"
                                },
                                {
                                    "EID": "3762",
                                    "ENAME": "TAMIL",
                                    "JOB": "DATA SCIENTIET",
                                    "PHONE_NO": "8780321456",
                                    "AGE": "34",
                                    "SAL": "25000",
                                    "HIREDATE": "2015-08-24",
                                    "MID": "1124",
                                    "PERCENTAGE_RANK": "0.23076923076923078"
                                },
                                {
                                    "EID": "2212",
                                    "ENAME": "JEEVA",
                                    "JOB": "DATA ANALYST",
                                    "PHONE_NO": "9781534201",
                                    "AGE": "25",
                                    "SAL": "30000",
                                    "HIREDATE": "2015-08-24",
                                    "MID": "1122",
                                    "PERCENTAGE_RANK": "0.6153846153846154"
                                },
                                {
                                    "EID": "1721",
                                    "ENAME": "ARUN",
                                    "JOB": "WEB DEVELOPER",
                                    "PHONE_NO": "9876543210",
                                    "AGE": "25",
                                    "SAL": "35000",
                                    "HIREDATE": "2021-03-30",
                                    "MID": "1123",
                                    "PERCENTAGE_RANK": "0.6923076923076923"
                                },
                                {
                                    "EID": "4212",
                                    "ENAME": "PREM KUMAR",
                                    "JOB": "DATA ANALYST",
                                    "PHONE_NO": "9086534201",
                                    "AGE": "27",
                                    "SAL": "40000",
                                    "HIREDATE": "2023-04-20",
                                    "MID": "1122",
                                    "PERCENTAGE_RANK": "0.7692307692307693"
                                },
                                {
                                    "EID": "4762",
                                    "ENAME": "CHANDRAN",
                                    "JOB": "DATA SCIENTIET",
                                    "PHONE_NO": "8789321406",
                                    "AGE": "30",
                                    "SAL": "45000",
                                    "HIREDATE": "2017-11-27",
                                    "MID": "1124",
                                    "PERCENTAGE_RANK": "0.8461538461538461"
                                },
                                {
                                    "EID": "1762",
                                    "ENAME": "AJAY",
                                    "JOB": "DATA SCIENTIET",
                                    "PHONE_NO": "8789321456",
                                    "AGE": "30",
                                    "SAL": "45000",
                                    "HIREDATE": "2019-08-20",
                                    "MID": "1124",
                                    "PERCENTAGE_RANK": "0.8461538461538461"
                                },
                                {
                                    "EID": "1212",
                                    "ENAME": "VICKY",
                                    "JOB": "DATA ANALYST",
                                    "PHONE_NO": "9786534201",
                                    "AGE": "27",
                                    "SAL": "45000",
                                    "HIREDATE": "2020-04-01",
                                    "MID": "1122",
                                    "PERCENTAGE_RANK": "0.8461538461538461"
                                }
                            ]
                        },
                        "text/html": "<table><tr><th>EID</th><th>ENAME</th><th>JOB</th><th>PHONE_NO</th><th>AGE</th><th>SAL</th><th>HIREDATE</th><th>MID</th><th>PERCENTAGE_RANK</th></tr><tr><td>3832</td><td>SANJAY</td><td>CLERK</td><td>6372556764</td><td>22</td><td>12000</td><td>2019-06-11</td><td>NULL</td><td>0</td></tr><tr><td>1832</td><td>SURYA</td><td>CLERK</td><td>6372456764</td><td>28</td><td>20000</td><td>2019-08-20</td><td>NULL</td><td>0.07692307692307693</td></tr><tr><td>4832</td><td>SHANKAR</td><td>CLERK</td><td>6372456064</td><td>28</td><td>20000</td><td>2013-10-15</td><td>NULL</td><td>0.07692307692307693</td></tr><tr><td>5245</td><td>DEEPAK</td><td>WEB DEVELOPER</td><td>7367894167</td><td>28</td><td>25000</td><td>2014-11-08</td><td>1123</td><td>0.23076923076923078</td></tr><tr><td>2121</td><td>SANTHOSH</td><td>WEB DEVELOPER</td><td>9823543210</td><td>29</td><td>25000</td><td>2022-02-14</td><td>1123</td><td>0.23076923076923078</td></tr><tr><td>1245</td><td>VIJAY</td><td>WEB DEVELOPER</td><td>7367894567</td><td>27</td><td>25000</td><td>2018-01-27</td><td>1123</td><td>0.23076923076923078</td></tr><tr><td>3245</td><td>MUTHU</td><td>WEB DEVELOPER</td><td>7361894567</td><td>36</td><td>25000</td><td>2016-06-20</td><td>1123</td><td>0.23076923076923078</td></tr><tr><td>3762</td><td>TAMIL</td><td>DATA SCIENTIET</td><td>8780321456</td><td>34</td><td>25000</td><td>2015-08-24</td><td>1124</td><td>0.23076923076923078</td></tr><tr><td>2212</td><td>JEEVA</td><td>DATA ANALYST</td><td>9781534201</td><td>25</td><td>30000</td><td>2015-08-24</td><td>1122</td><td>0.6153846153846154</td></tr><tr><td>1721</td><td>ARUN</td><td>WEB DEVELOPER</td><td>9876543210</td><td>25</td><td>35000</td><td>2021-03-30</td><td>1123</td><td>0.6923076923076923</td></tr><tr><td>4212</td><td>PREM KUMAR</td><td>DATA ANALYST</td><td>9086534201</td><td>27</td><td>40000</td><td>2023-04-20</td><td>1122</td><td>0.7692307692307693</td></tr><tr><td>4762</td><td>CHANDRAN</td><td>DATA SCIENTIET</td><td>8789321406</td><td>30</td><td>45000</td><td>2017-11-27</td><td>1124</td><td>0.8461538461538461</td></tr><tr><td>1762</td><td>AJAY</td><td>DATA SCIENTIET</td><td>8789321456</td><td>30</td><td>45000</td><td>2019-08-20</td><td>1124</td><td>0.8461538461538461</td></tr><tr><td>1212</td><td>VICKY</td><td>DATA ANALYST</td><td>9786534201</td><td>27</td><td>45000</td><td>2020-04-01</td><td>1122</td><td>0.8461538461538461</td></tr></table>"
                    },
                    "metadata": {}
                }
            ],
            "execution_count": 14
        },
        {
            "cell_type": "markdown",
            "source": [
                "TEMPORARY TABLE;\n",
                "\n",
                "Temporary tables  are created in a database to store data temporarily. They can perform operations that are similar to operations of permanent database tables like Create, Update, Delete, Insert and also other operations like Join. But these tables will be automatically deleted once the current client session is terminated. In addition to that, they can also be explicitly deleted if the users decide to drop them manually."
            ],
            "metadata": {
                "language": "sql",
                "azdata_cell_guid": "4dde4b4a-2c72-4313-8fba-93cf84697c4e"
            },
            "attachments": {}
        },
        {
            "cell_type": "markdown",
            "source": [
                "TYPES OF TEMPORARY TABLE;\n",
                "\n",
                "            \\*LOCAL TEMPORARY TABLE\n",
                "\n",
                "            \\*GLOBAL TEMPORARY TABLE\n",
                "\n",
                "LOCAL TEMPORAY TABLE;\n",
                "\n",
                "   <span style=\"background-color: rgb(255, 255, 255); color: rgb(0, 0, 0); font-family: Nunito, sans-serif; font-size: 16px; text-align: justify;\">A Local Temporary Table is accessible only in the session that has created it. It is automatically deleted when the connection that has created it gets closed. To create Local Temporary Table, a single “#” is used as the prefix of a table name</span>\n",
                "\n",
                "<span style=\"font-size: 16px; background-color: rgb(255, 255, 255);\">GLOBAL TEMPORARY TABLE;</span>\n",
                "\n",
                "     <span style=\"background-color: rgb(255, 255, 255); color: rgb(0, 0, 0); font-family: Nunito, sans-serif; font-size: 16px;\">Global Temporary Tables are visible to all connections and Dropped when the last connection referencing the table is closed. Global Table Name must have an Unique Table Name.</span>\n",
                "\n",
                "      <span style=\"background-color: rgb(255, 255, 255); color: rgb(0, 0, 0); font-family: Nunito, sans-serif; font-size: 16px;\">To create a Global Temporary Table, add the “##” symbol before the table name.</span>"
            ],
            "metadata": {
                "language": "sql",
                "azdata_cell_guid": "b3ef1be6-3da9-45d1-a2b6-a657ede8bb02"
            },
            "attachments": {}
        },
        {
            "cell_type": "markdown",
            "source": [
                "STORED PROCEDURE WITH PARAMETER;"
            ],
            "metadata": {
                "azdata_cell_guid": "9333b07d-2e87-4c91-9426-49ef72299216"
            },
            "attachments": {}
        },
        {
            "cell_type": "code",
            "source": [
                "CREATE PROCEDURE EMP_DETAILS @JOB VARCHAR(15)\r\n",
                "AS \r\n",
                "SELECT *\r\n",
                "FROM EMPLOYE_DETAILS\r\n",
                "WHERE JOB=@JOB\r\n",
                ";"
            ],
            "metadata": {
                "azdata_cell_guid": "0c6dcd8d-08fd-4b46-843b-02d32cec0f77",
                "language": "sql"
            },
            "outputs": [
                {
                    "output_type": "display_data",
                    "data": {
                        "text/html": "Commands completed successfully."
                    },
                    "metadata": {}
                },
                {
                    "output_type": "display_data",
                    "data": {
                        "text/html": "Total execution time: 00:00:00.089"
                    },
                    "metadata": {}
                }
            ],
            "execution_count": 2
        },
        {
            "cell_type": "code",
            "source": [
                "EXEC EMP_DETAILS @JOB='CLERK';"
            ],
            "metadata": {
                "language": "sql",
                "azdata_cell_guid": "cc59b5fd-ff55-4973-803e-686e1f869b81"
            },
            "outputs": [
                {
                    "output_type": "display_data",
                    "data": {
                        "text/html": "(3 rows affected)"
                    },
                    "metadata": {}
                },
                {
                    "output_type": "display_data",
                    "data": {
                        "text/html": "Total execution time: 00:00:00.074"
                    },
                    "metadata": {}
                },
                {
                    "output_type": "execute_result",
                    "execution_count": 4,
                    "data": {
                        "application/vnd.dataresource+json": {
                            "schema": {
                                "fields": [
                                    {
                                        "name": "EID"
                                    },
                                    {
                                        "name": "ENAME"
                                    },
                                    {
                                        "name": "JOB"
                                    },
                                    {
                                        "name": "PHONE_NO"
                                    },
                                    {
                                        "name": "AGE"
                                    },
                                    {
                                        "name": "SAL"
                                    },
                                    {
                                        "name": "HIREDATE"
                                    },
                                    {
                                        "name": "MID"
                                    }
                                ]
                            },
                            "data": [
                                {
                                    "EID": "1832",
                                    "ENAME": "SURYA",
                                    "JOB": "CLERK",
                                    "PHONE_NO": "6372456764",
                                    "AGE": "28",
                                    "SAL": "20000",
                                    "HIREDATE": "2019-08-20",
                                    "MID": "NULL"
                                },
                                {
                                    "EID": "3832",
                                    "ENAME": "SANJAY",
                                    "JOB": "CLERK",
                                    "PHONE_NO": "6372556764",
                                    "AGE": "22",
                                    "SAL": "12000",
                                    "HIREDATE": "2019-06-11",
                                    "MID": "NULL"
                                },
                                {
                                    "EID": "4832",
                                    "ENAME": "SHANKAR",
                                    "JOB": "CLERK",
                                    "PHONE_NO": "6372456064",
                                    "AGE": "28",
                                    "SAL": "20000",
                                    "HIREDATE": "2013-10-15",
                                    "MID": "NULL"
                                }
                            ]
                        },
                        "text/html": "<table><tr><th>EID</th><th>ENAME</th><th>JOB</th><th>PHONE_NO</th><th>AGE</th><th>SAL</th><th>HIREDATE</th><th>MID</th></tr><tr><td>1832</td><td>SURYA</td><td>CLERK</td><td>6372456764</td><td>28</td><td>20000</td><td>2019-08-20</td><td>NULL</td></tr><tr><td>3832</td><td>SANJAY</td><td>CLERK</td><td>6372556764</td><td>22</td><td>12000</td><td>2019-06-11</td><td>NULL</td></tr><tr><td>4832</td><td>SHANKAR</td><td>CLERK</td><td>6372456064</td><td>28</td><td>20000</td><td>2013-10-15</td><td>NULL</td></tr></table>"
                    },
                    "metadata": {}
                }
            ],
            "execution_count": 4
        },
        {
            "cell_type": "code",
            "source": [
                "CREATE OR ALTER  PROCEDURE EMPLOY @ENAME VARCHAR(15),@SAL NUMERIC(5)\r\n",
                "AS\r\n",
                "UPDATE EMPLOYE_DETAILS\r\n",
                "SET SAL=@SAL\r\n",
                "WHERE ENAME=@ENAME;"
            ],
            "metadata": {
                "language": "sql",
                "azdata_cell_guid": "5e612c3d-22dc-4846-ba01-7b142834e637"
            },
            "outputs": [
                {
                    "output_type": "display_data",
                    "data": {
                        "text/html": "Commands completed successfully."
                    },
                    "metadata": {}
                },
                {
                    "output_type": "display_data",
                    "data": {
                        "text/html": "Total execution time: 00:00:00.012"
                    },
                    "metadata": {}
                }
            ],
            "execution_count": 14
        },
        {
            "cell_type": "code",
            "source": [
                "EXEC EMPLOY @ENAME='SURYA', @SAL=25000;"
            ],
            "metadata": {
                "language": "sql",
                "azdata_cell_guid": "07bd667c-d9b7-4268-8033-e3bcf5ad339e"
            },
            "outputs": [
                {
                    "output_type": "display_data",
                    "data": {
                        "text/html": "(1 row affected)"
                    },
                    "metadata": {}
                },
                {
                    "output_type": "display_data",
                    "data": {
                        "text/html": "Total execution time: 00:00:00.011"
                    },
                    "metadata": {}
                }
            ],
            "execution_count": 15
        },
        {
            "cell_type": "code",
            "source": [
                "SELECT *\r\n",
                "FROM EMPLOYE_DETAILS;"
            ],
            "metadata": {
                "language": "sql",
                "azdata_cell_guid": "27fc495a-64de-4284-8ed9-dc7e755f7017"
            },
            "outputs": [
                {
                    "output_type": "display_data",
                    "data": {
                        "text/html": "(14 rows affected)"
                    },
                    "metadata": {}
                },
                {
                    "output_type": "display_data",
                    "data": {
                        "text/html": "Total execution time: 00:00:00.024"
                    },
                    "metadata": {}
                },
                {
                    "output_type": "execute_result",
                    "execution_count": 16,
                    "data": {
                        "application/vnd.dataresource+json": {
                            "schema": {
                                "fields": [
                                    {
                                        "name": "EID"
                                    },
                                    {
                                        "name": "ENAME"
                                    },
                                    {
                                        "name": "JOB"
                                    },
                                    {
                                        "name": "PHONE_NO"
                                    },
                                    {
                                        "name": "AGE"
                                    },
                                    {
                                        "name": "SAL"
                                    },
                                    {
                                        "name": "HIREDATE"
                                    },
                                    {
                                        "name": "MID"
                                    }
                                ]
                            },
                            "data": [
                                {
                                    "EID": "1212",
                                    "ENAME": "VICKY",
                                    "JOB": "DATA ANALYST",
                                    "PHONE_NO": "9786534201",
                                    "AGE": "27",
                                    "SAL": "45000",
                                    "HIREDATE": "2020-04-01",
                                    "MID": "1122"
                                },
                                {
                                    "EID": "1245",
                                    "ENAME": "VIJAY",
                                    "JOB": "WEB DEVELOPER",
                                    "PHONE_NO": "7367894567",
                                    "AGE": "27",
                                    "SAL": "25000",
                                    "HIREDATE": "2018-01-27",
                                    "MID": "1123"
                                },
                                {
                                    "EID": "1721",
                                    "ENAME": "ARUN",
                                    "JOB": "WEB DEVELOPER",
                                    "PHONE_NO": "9876543210",
                                    "AGE": "25",
                                    "SAL": "35000",
                                    "HIREDATE": "2021-03-30",
                                    "MID": "1123"
                                },
                                {
                                    "EID": "1762",
                                    "ENAME": "AJAY",
                                    "JOB": "DATA SCIENTIET",
                                    "PHONE_NO": "8789321456",
                                    "AGE": "30",
                                    "SAL": "45000",
                                    "HIREDATE": "2019-08-20",
                                    "MID": "1124"
                                },
                                {
                                    "EID": "1832",
                                    "ENAME": "SURYA",
                                    "JOB": "CLERK",
                                    "PHONE_NO": "6372456764",
                                    "AGE": "28",
                                    "SAL": "25000",
                                    "HIREDATE": "2019-08-20",
                                    "MID": "NULL"
                                },
                                {
                                    "EID": "2121",
                                    "ENAME": "SANTHOSH",
                                    "JOB": "WEB DEVELOPER",
                                    "PHONE_NO": "9823543210",
                                    "AGE": "29",
                                    "SAL": "25000",
                                    "HIREDATE": "2022-02-14",
                                    "MID": "1123"
                                },
                                {
                                    "EID": "2212",
                                    "ENAME": "JEEVA",
                                    "JOB": "DATA ANALYST",
                                    "PHONE_NO": "9781534201",
                                    "AGE": "25",
                                    "SAL": "30000",
                                    "HIREDATE": "2015-08-24",
                                    "MID": "1122"
                                },
                                {
                                    "EID": "3245",
                                    "ENAME": "MUTHU",
                                    "JOB": "WEB DEVELOPER",
                                    "PHONE_NO": "7361894567",
                                    "AGE": "36",
                                    "SAL": "25000",
                                    "HIREDATE": "2016-06-20",
                                    "MID": "1123"
                                },
                                {
                                    "EID": "3762",
                                    "ENAME": "TAMIL",
                                    "JOB": "DATA SCIENTIET",
                                    "PHONE_NO": "8780321456",
                                    "AGE": "34",
                                    "SAL": "25000",
                                    "HIREDATE": "2015-08-24",
                                    "MID": "1124"
                                },
                                {
                                    "EID": "3832",
                                    "ENAME": "SANJAY",
                                    "JOB": "CLERK",
                                    "PHONE_NO": "6372556764",
                                    "AGE": "22",
                                    "SAL": "12000",
                                    "HIREDATE": "2019-06-11",
                                    "MID": "NULL"
                                },
                                {
                                    "EID": "4212",
                                    "ENAME": "PREM KUMAR",
                                    "JOB": "DATA ANALYST",
                                    "PHONE_NO": "9086534201",
                                    "AGE": "27",
                                    "SAL": "40000",
                                    "HIREDATE": "2023-04-20",
                                    "MID": "1122"
                                },
                                {
                                    "EID": "4762",
                                    "ENAME": "CHANDRAN",
                                    "JOB": "DATA SCIENTIET",
                                    "PHONE_NO": "8789321406",
                                    "AGE": "30",
                                    "SAL": "45000",
                                    "HIREDATE": "2017-11-27",
                                    "MID": "1124"
                                },
                                {
                                    "EID": "4832",
                                    "ENAME": "SHANKAR",
                                    "JOB": "CLERK",
                                    "PHONE_NO": "6372456064",
                                    "AGE": "28",
                                    "SAL": "20000",
                                    "HIREDATE": "2013-10-15",
                                    "MID": "NULL"
                                },
                                {
                                    "EID": "5245",
                                    "ENAME": "DEEPAK",
                                    "JOB": "WEB DEVELOPER",
                                    "PHONE_NO": "7367894167",
                                    "AGE": "28",
                                    "SAL": "25000",
                                    "HIREDATE": "2014-11-08",
                                    "MID": "1123"
                                }
                            ]
                        },
                        "text/html": "<table><tr><th>EID</th><th>ENAME</th><th>JOB</th><th>PHONE_NO</th><th>AGE</th><th>SAL</th><th>HIREDATE</th><th>MID</th></tr><tr><td>1212</td><td>VICKY</td><td>DATA ANALYST</td><td>9786534201</td><td>27</td><td>45000</td><td>2020-04-01</td><td>1122</td></tr><tr><td>1245</td><td>VIJAY</td><td>WEB DEVELOPER</td><td>7367894567</td><td>27</td><td>25000</td><td>2018-01-27</td><td>1123</td></tr><tr><td>1721</td><td>ARUN</td><td>WEB DEVELOPER</td><td>9876543210</td><td>25</td><td>35000</td><td>2021-03-30</td><td>1123</td></tr><tr><td>1762</td><td>AJAY</td><td>DATA SCIENTIET</td><td>8789321456</td><td>30</td><td>45000</td><td>2019-08-20</td><td>1124</td></tr><tr><td>1832</td><td>SURYA</td><td>CLERK</td><td>6372456764</td><td>28</td><td>25000</td><td>2019-08-20</td><td>NULL</td></tr><tr><td>2121</td><td>SANTHOSH</td><td>WEB DEVELOPER</td><td>9823543210</td><td>29</td><td>25000</td><td>2022-02-14</td><td>1123</td></tr><tr><td>2212</td><td>JEEVA</td><td>DATA ANALYST</td><td>9781534201</td><td>25</td><td>30000</td><td>2015-08-24</td><td>1122</td></tr><tr><td>3245</td><td>MUTHU</td><td>WEB DEVELOPER</td><td>7361894567</td><td>36</td><td>25000</td><td>2016-06-20</td><td>1123</td></tr><tr><td>3762</td><td>TAMIL</td><td>DATA SCIENTIET</td><td>8780321456</td><td>34</td><td>25000</td><td>2015-08-24</td><td>1124</td></tr><tr><td>3832</td><td>SANJAY</td><td>CLERK</td><td>6372556764</td><td>22</td><td>12000</td><td>2019-06-11</td><td>NULL</td></tr><tr><td>4212</td><td>PREM KUMAR</td><td>DATA ANALYST</td><td>9086534201</td><td>27</td><td>40000</td><td>2023-04-20</td><td>1122</td></tr><tr><td>4762</td><td>CHANDRAN</td><td>DATA SCIENTIET</td><td>8789321406</td><td>30</td><td>45000</td><td>2017-11-27</td><td>1124</td></tr><tr><td>4832</td><td>SHANKAR</td><td>CLERK</td><td>6372456064</td><td>28</td><td>20000</td><td>2013-10-15</td><td>NULL</td></tr><tr><td>5245</td><td>DEEPAK</td><td>WEB DEVELOPER</td><td>7367894167</td><td>28</td><td>25000</td><td>2014-11-08</td><td>1123</td></tr></table>"
                    },
                    "metadata": {}
                }
            ],
            "execution_count": 16
        },
        {
            "cell_type": "markdown",
            "source": [
                "INDEX;"
            ],
            "metadata": {
                "azdata_cell_guid": "d0580f4a-0147-4c12-98a2-9b29e2753ba4"
            },
            "attachments": {}
        },
        {
            "cell_type": "code",
            "source": [
                "CREATE INDEX INDEX_1\r\n",
                "ON  EMPLOYE_DETAILS(EID,ENAME);"
            ],
            "metadata": {
                "azdata_cell_guid": "946225bd-4e26-49d4-88ce-77f2206cb82f",
                "language": "sql"
            },
            "outputs": [
                {
                    "output_type": "display_data",
                    "data": {
                        "text/html": "Commands completed successfully."
                    },
                    "metadata": {}
                },
                {
                    "output_type": "display_data",
                    "data": {
                        "text/html": "Total execution time: 00:00:00.029"
                    },
                    "metadata": {}
                }
            ],
            "execution_count": 2
        },
        {
            "cell_type": "markdown",
            "source": [
                "SEQUENCE;"
            ],
            "metadata": {
                "language": "sql",
                "azdata_cell_guid": "a149e3e5-ad41-45c6-9f2d-565dbb731e8a"
            },
            "attachments": {}
        },
        {
            "cell_type": "code",
            "source": [
                "CREATE SEQUENCE SQ_1\r\n",
                "START WITH 1\r\n",
                "INCREMENT BY 1\r\n",
                "MINVALUE 1\r\n",
                "MAXVALUE 10\r\n",
                "CYCLE;"
            ],
            "metadata": {
                "language": "sql",
                "azdata_cell_guid": "02b5d304-db02-46b9-99e2-6a1d129d2ba5"
            },
            "outputs": [
                {
                    "output_type": "display_data",
                    "data": {
                        "text/html": "Commands completed successfully."
                    },
                    "metadata": {}
                },
                {
                    "output_type": "display_data",
                    "data": {
                        "text/html": "Total execution time: 00:00:00.009"
                    },
                    "metadata": {}
                }
            ],
            "execution_count": 7
        },
        {
            "cell_type": "code",
            "source": [
                "CREATE TABLE STUDENT_DETAILS \r\n",
                "(\r\n",
                " SID  NUMERIC(1) PRIMARY KEY,\r\n",
                " NAME VARCHAR(20)\r\n",
                ");"
            ],
            "metadata": {
                "language": "sql",
                "azdata_cell_guid": "3cd054ca-3adc-4d67-80ad-cc4ff775f879"
            },
            "outputs": [
                {
                    "output_type": "display_data",
                    "data": {
                        "text/html": "Commands completed successfully."
                    },
                    "metadata": {}
                },
                {
                    "output_type": "display_data",
                    "data": {
                        "text/html": "Total execution time: 00:00:00.014"
                    },
                    "metadata": {}
                }
            ],
            "execution_count": 9
        },
        {
            "cell_type": "code",
            "source": [
                "INSERT INTO STUDENT_DETAILS VALUES(SQ_1.NEXTVAL,'AJAY');\r\n",
                "INSERT INTO STUDENT_DETAILS VALUES (SQ_1.NEXTVAL,'VIGNESH');\r\n",
                "INSERT INTO STUDENT_DETAILS VALUES(SQ_1.NEXTVAL,'VASANTH');\r\n",
                "INSERT INTO STUDENT_DETAILS VALUES(SQ_1.NEXTVAL,'TAMIL');\r\n",
                "INSERT INTO STUDENT_DETAILS VALUES (SQ_1.NEXTVAL,'CHANDRU');\r\n",
                "INSERT INTO STUDENT_DETAILS VALUES(SQ_1.NEXTVAL,'ARIVU');\r\n",
                ""
            ],
            "metadata": {
                "language": "sql",
                "azdata_cell_guid": "367ce65b-18d9-4743-8a25-864ee84cd559"
            },
            "outputs": [
                {
                    "output_type": "error",
                    "ename": "",
                    "evalue": "Msg 4104, Level 16, State 1, Line 1\r\nThe multi-part identifier \"SQ_1.NEXTVAL\" could not be bound.",
                    "traceback": []
                },
                {
                    "output_type": "display_data",
                    "data": {
                        "text/html": "Total execution time: 00:00:00.008"
                    },
                    "metadata": {}
                }
            ],
            "execution_count": 14
        },
        {
            "cell_type": "markdown",
            "source": [
                "CO  RELATED SUB QUERY;\n",
                "\n",
                "TO FIND NTH SALARY;"
            ],
            "metadata": {
                "language": "sql",
                "azdata_cell_guid": "7b6b84f8-d7f5-475b-b782-dcbb20e0ebd0"
            },
            "attachments": {}
        },
        {
            "cell_type": "markdown",
            "source": [
                "SELECT \\*\n",
                "\n",
                "FROM \\[TN\\] \\[ALIAS NAME 1\\]\n",
                "\n",
                "WHERE (N-1)=(SELECT  COUNT(SAL)\n",
                "\n",
                "FROM \\[TN\\] \\[ALIAS NAME 2\\]\n",
                "\n",
                "WHERE CONDITION;"
            ],
            "metadata": {
                "language": "sql",
                "azdata_cell_guid": "315a606a-824d-4b64-a73b-d6c95e84b842"
            },
            "attachments": {}
        },
        {
            "cell_type": "markdown",
            "source": [
                "TO FIND FIRST MAXIMUM SALARY;"
            ],
            "metadata": {
                "language": "sql",
                "azdata_cell_guid": "27c70025-a9c9-49f3-a396-1f72c4c526c9"
            },
            "attachments": {}
        },
        {
            "cell_type": "code",
            "source": [
                "SELECT *\r\n",
                "FROM EMPLOYE_DETAILS E1\r\n",
                "WHERE 0=(SELECT COUNT(SAL)\r\n",
                "FROM EMPLOYE_DETAILS E2\r\n",
                "WHERE E1.SAL<E2.SAL);"
            ],
            "metadata": {
                "azdata_cell_guid": "bb0f7031-1d8d-4839-a3ba-ecc7890518d0",
                "language": "sql"
            },
            "outputs": [
                {
                    "output_type": "display_data",
                    "data": {
                        "text/html": "(3 rows affected)"
                    },
                    "metadata": {}
                },
                {
                    "output_type": "display_data",
                    "data": {
                        "text/html": "Total execution time: 00:00:00.016"
                    },
                    "metadata": {}
                },
                {
                    "output_type": "execute_result",
                    "execution_count": 6,
                    "data": {
                        "application/vnd.dataresource+json": {
                            "schema": {
                                "fields": [
                                    {
                                        "name": "EID"
                                    },
                                    {
                                        "name": "ENAME"
                                    },
                                    {
                                        "name": "JOB"
                                    },
                                    {
                                        "name": "PHONE_NO"
                                    },
                                    {
                                        "name": "AGE"
                                    },
                                    {
                                        "name": "SAL"
                                    },
                                    {
                                        "name": "HIREDATE"
                                    },
                                    {
                                        "name": "MID"
                                    }
                                ]
                            },
                            "data": [
                                {
                                    "EID": "1212",
                                    "ENAME": "VICKY",
                                    "JOB": "DATA ANALYST",
                                    "PHONE_NO": "9786534201",
                                    "AGE": "27",
                                    "SAL": "45000",
                                    "HIREDATE": "2020-04-01",
                                    "MID": "1122"
                                },
                                {
                                    "EID": "1762",
                                    "ENAME": "AJAY",
                                    "JOB": "DATA SCIENTIET",
                                    "PHONE_NO": "8789321456",
                                    "AGE": "30",
                                    "SAL": "45000",
                                    "HIREDATE": "2019-08-20",
                                    "MID": "1124"
                                },
                                {
                                    "EID": "4762",
                                    "ENAME": "CHANDRAN",
                                    "JOB": "DATA SCIENTIET",
                                    "PHONE_NO": "8789321406",
                                    "AGE": "30",
                                    "SAL": "45000",
                                    "HIREDATE": "2017-11-27",
                                    "MID": "1124"
                                }
                            ]
                        },
                        "text/html": "<table><tr><th>EID</th><th>ENAME</th><th>JOB</th><th>PHONE_NO</th><th>AGE</th><th>SAL</th><th>HIREDATE</th><th>MID</th></tr><tr><td>1212</td><td>VICKY</td><td>DATA ANALYST</td><td>9786534201</td><td>27</td><td>45000</td><td>2020-04-01</td><td>1122</td></tr><tr><td>1762</td><td>AJAY</td><td>DATA SCIENTIET</td><td>8789321456</td><td>30</td><td>45000</td><td>2019-08-20</td><td>1124</td></tr><tr><td>4762</td><td>CHANDRAN</td><td>DATA SCIENTIET</td><td>8789321406</td><td>30</td><td>45000</td><td>2017-11-27</td><td>1124</td></tr></table>"
                    },
                    "metadata": {}
                }
            ],
            "execution_count": 6
        },
        {
            "cell_type": "markdown",
            "source": [
                "4TH MAXIMUM SALARY;"
            ],
            "metadata": {
                "language": "sql",
                "azdata_cell_guid": "3e5a28a6-2df7-4aa7-9302-aa88aa072d34"
            },
            "attachments": {}
        },
        {
            "cell_type": "code",
            "source": [
                "SELECT *\r\n",
                "FROM EMPLOYE_DETAILS E1\r\n",
                "WHERE 3=(SELECT COUNT(DISTINCT (SAL))\r\n",
                "FROM EMPLOYE_DETAILS E2\r\n",
                "WHERE E1.SAL<E2.SAL)"
            ],
            "metadata": {
                "language": "sql",
                "azdata_cell_guid": "e48d9f0b-33a9-4c3f-8e41-e858e56ab565"
            },
            "outputs": [
                {
                    "output_type": "display_data",
                    "data": {
                        "text/html": "(1 row affected)"
                    },
                    "metadata": {}
                },
                {
                    "output_type": "display_data",
                    "data": {
                        "text/html": "Total execution time: 00:00:00.026"
                    },
                    "metadata": {}
                },
                {
                    "output_type": "execute_result",
                    "execution_count": 10,
                    "data": {
                        "application/vnd.dataresource+json": {
                            "schema": {
                                "fields": [
                                    {
                                        "name": "EID"
                                    },
                                    {
                                        "name": "ENAME"
                                    },
                                    {
                                        "name": "JOB"
                                    },
                                    {
                                        "name": "PHONE_NO"
                                    },
                                    {
                                        "name": "AGE"
                                    },
                                    {
                                        "name": "SAL"
                                    },
                                    {
                                        "name": "HIREDATE"
                                    },
                                    {
                                        "name": "MID"
                                    }
                                ]
                            },
                            "data": [
                                {
                                    "EID": "2212",
                                    "ENAME": "JEEVA",
                                    "JOB": "DATA ANALYST",
                                    "PHONE_NO": "9781534201",
                                    "AGE": "25",
                                    "SAL": "30000",
                                    "HIREDATE": "2015-08-24",
                                    "MID": "1122"
                                }
                            ]
                        },
                        "text/html": "<table><tr><th>EID</th><th>ENAME</th><th>JOB</th><th>PHONE_NO</th><th>AGE</th><th>SAL</th><th>HIREDATE</th><th>MID</th></tr><tr><td>2212</td><td>JEEVA</td><td>DATA ANALYST</td><td>9781534201</td><td>25</td><td>30000</td><td>2015-08-24</td><td>1122</td></tr></table>"
                    },
                    "metadata": {}
                }
            ],
            "execution_count": 10
        },
        {
            "cell_type": "markdown",
            "source": [
                "2ND MINIMUM  SALARY;"
            ],
            "metadata": {
                "language": "sql",
                "azdata_cell_guid": "38d01418-8db3-4885-90db-3654438b4d75"
            },
            "attachments": {}
        },
        {
            "cell_type": "code",
            "source": [
                "SELECT *\r\n",
                "FROM EMPLOYE_DETAILS E1\r\n",
                "WHERE 1=(SELECT COUNT(DISTINCT (SAL))\r\n",
                "FROM EMPLOYE_DETAILS E2\r\n",
                "WHERE E1.SAL>E2.SAL)"
            ],
            "metadata": {
                "language": "sql",
                "azdata_cell_guid": "326a62ee-a8dd-4002-8533-079b3f4a9806",
                "tags": []
            },
            "outputs": [
                {
                    "output_type": "display_data",
                    "data": {
                        "text/html": "(1 row affected)"
                    },
                    "metadata": {}
                },
                {
                    "output_type": "display_data",
                    "data": {
                        "text/html": "Total execution time: 00:00:00.013"
                    },
                    "metadata": {}
                },
                {
                    "output_type": "execute_result",
                    "execution_count": 15,
                    "data": {
                        "application/vnd.dataresource+json": {
                            "schema": {
                                "fields": [
                                    {
                                        "name": "EID"
                                    },
                                    {
                                        "name": "ENAME"
                                    },
                                    {
                                        "name": "JOB"
                                    },
                                    {
                                        "name": "PHONE_NO"
                                    },
                                    {
                                        "name": "AGE"
                                    },
                                    {
                                        "name": "SAL"
                                    },
                                    {
                                        "name": "HIREDATE"
                                    },
                                    {
                                        "name": "MID"
                                    }
                                ]
                            },
                            "data": [
                                {
                                    "EID": "4832",
                                    "ENAME": "SHANKAR",
                                    "JOB": "CLERK",
                                    "PHONE_NO": "6372456064",
                                    "AGE": "28",
                                    "SAL": "20000",
                                    "HIREDATE": "2013-10-15",
                                    "MID": "NULL"
                                }
                            ]
                        },
                        "text/html": "<table><tr><th>EID</th><th>ENAME</th><th>JOB</th><th>PHONE_NO</th><th>AGE</th><th>SAL</th><th>HIREDATE</th><th>MID</th></tr><tr><td>4832</td><td>SHANKAR</td><td>CLERK</td><td>6372456064</td><td>28</td><td>20000</td><td>2013-10-15</td><td>NULL</td></tr></table>"
                    },
                    "metadata": {}
                }
            ],
            "execution_count": 15
        },
        {
            "cell_type": "markdown",
            "source": [
                "08/08/2023\n",
                "\n",
                "SQUARE ROOT;"
            ],
            "metadata": {
                "language": "sql",
                "azdata_cell_guid": "06debcdf-9569-4e3e-9068-37b1b098f092"
            },
            "attachments": {}
        },
        {
            "cell_type": "code",
            "source": [
                "SELECT SQRT(SAL)\r\n",
                "FROM EMPLOYE_DETAILS;"
            ],
            "metadata": {
                "language": "sql",
                "azdata_cell_guid": "2ed94af1-d5e5-4d59-abfe-92daf82b0f01"
            },
            "outputs": [
                {
                    "output_type": "display_data",
                    "data": {
                        "text/html": "(14 rows affected)"
                    },
                    "metadata": {}
                },
                {
                    "output_type": "display_data",
                    "data": {
                        "text/html": "Total execution time: 00:00:00.015"
                    },
                    "metadata": {}
                },
                {
                    "output_type": "execute_result",
                    "execution_count": 4,
                    "data": {
                        "application/vnd.dataresource+json": {
                            "schema": {
                                "fields": [
                                    {
                                        "name": "(No column name)"
                                    }
                                ]
                            },
                            "data": [
                                {
                                    "(No column name)": "212.13203435596427"
                                },
                                {
                                    "(No column name)": "158.11388300841898"
                                },
                                {
                                    "(No column name)": "187.08286933869707"
                                },
                                {
                                    "(No column name)": "212.13203435596427"
                                },
                                {
                                    "(No column name)": "158.11388300841898"
                                },
                                {
                                    "(No column name)": "158.11388300841898"
                                },
                                {
                                    "(No column name)": "173.20508075688772"
                                },
                                {
                                    "(No column name)": "158.11388300841898"
                                },
                                {
                                    "(No column name)": "158.11388300841898"
                                },
                                {
                                    "(No column name)": "109.54451150103323"
                                },
                                {
                                    "(No column name)": "200"
                                },
                                {
                                    "(No column name)": "212.13203435596427"
                                },
                                {
                                    "(No column name)": "141.4213562373095"
                                },
                                {
                                    "(No column name)": "158.11388300841898"
                                }
                            ]
                        },
                        "text/html": "<table><tr><th>(No column name)</th></tr><tr><td>212.13203435596427</td></tr><tr><td>158.11388300841898</td></tr><tr><td>187.08286933869707</td></tr><tr><td>212.13203435596427</td></tr><tr><td>158.11388300841898</td></tr><tr><td>158.11388300841898</td></tr><tr><td>173.20508075688772</td></tr><tr><td>158.11388300841898</td></tr><tr><td>158.11388300841898</td></tr><tr><td>109.54451150103323</td></tr><tr><td>200</td></tr><tr><td>212.13203435596427</td></tr><tr><td>141.4213562373095</td></tr><tr><td>158.11388300841898</td></tr></table>"
                    },
                    "metadata": {}
                }
            ],
            "execution_count": 4
        },
        {
            "cell_type": "markdown",
            "source": [
                "SQUARE"
            ],
            "metadata": {
                "language": "sql",
                "azdata_cell_guid": "69d4f581-1daa-4e21-8cd6-c7860615a452"
            },
            "attachments": {}
        },
        {
            "cell_type": "code",
            "source": [
                "SELECT SQUARE(SAL)\r\n",
                "FROM EMPLOYE_DETAILS;"
            ],
            "metadata": {
                "language": "sql",
                "azdata_cell_guid": "8b83caee-1963-458a-8ab6-e65632e8ba48"
            },
            "outputs": [
                {
                    "output_type": "display_data",
                    "data": {
                        "text/html": "(14 rows affected)"
                    },
                    "metadata": {}
                },
                {
                    "output_type": "display_data",
                    "data": {
                        "text/html": "Total execution time: 00:00:00.016"
                    },
                    "metadata": {}
                },
                {
                    "output_type": "execute_result",
                    "execution_count": 5,
                    "data": {
                        "application/vnd.dataresource+json": {
                            "schema": {
                                "fields": [
                                    {
                                        "name": "(No column name)"
                                    }
                                ]
                            },
                            "data": [
                                {
                                    "(No column name)": "2025000000"
                                },
                                {
                                    "(No column name)": "625000000"
                                },
                                {
                                    "(No column name)": "1225000000"
                                },
                                {
                                    "(No column name)": "2025000000"
                                },
                                {
                                    "(No column name)": "625000000"
                                },
                                {
                                    "(No column name)": "625000000"
                                },
                                {
                                    "(No column name)": "900000000"
                                },
                                {
                                    "(No column name)": "625000000"
                                },
                                {
                                    "(No column name)": "625000000"
                                },
                                {
                                    "(No column name)": "144000000"
                                },
                                {
                                    "(No column name)": "1600000000"
                                },
                                {
                                    "(No column name)": "2025000000"
                                },
                                {
                                    "(No column name)": "400000000"
                                },
                                {
                                    "(No column name)": "625000000"
                                }
                            ]
                        },
                        "text/html": "<table><tr><th>(No column name)</th></tr><tr><td>2025000000</td></tr><tr><td>625000000</td></tr><tr><td>1225000000</td></tr><tr><td>2025000000</td></tr><tr><td>625000000</td></tr><tr><td>625000000</td></tr><tr><td>900000000</td></tr><tr><td>625000000</td></tr><tr><td>625000000</td></tr><tr><td>144000000</td></tr><tr><td>1600000000</td></tr><tr><td>2025000000</td></tr><tr><td>400000000</td></tr><tr><td>625000000</td></tr></table>"
                    },
                    "metadata": {}
                }
            ],
            "execution_count": 5
        },
        {
            "cell_type": "markdown",
            "source": [
                "PI;"
            ],
            "metadata": {
                "language": "sql",
                "azdata_cell_guid": "5235eb66-3564-4437-b1a2-6707a76d8226"
            },
            "attachments": {}
        },
        {
            "cell_type": "code",
            "source": [
                "SELECT PI()*2\r\n",
                "-- FROM EMPLOYE_DETAILS;"
            ],
            "metadata": {
                "language": "sql",
                "azdata_cell_guid": "1f1e18c5-0987-46f0-8809-489861d3467a"
            },
            "outputs": [
                {
                    "output_type": "display_data",
                    "data": {
                        "text/html": "(1 row affected)"
                    },
                    "metadata": {}
                },
                {
                    "output_type": "display_data",
                    "data": {
                        "text/html": "Total execution time: 00:00:00.006"
                    },
                    "metadata": {}
                },
                {
                    "output_type": "execute_result",
                    "execution_count": 4,
                    "data": {
                        "application/vnd.dataresource+json": {
                            "schema": {
                                "fields": [
                                    {
                                        "name": "(No column name)"
                                    }
                                ]
                            },
                            "data": [
                                {
                                    "(No column name)": "6.283185307179586"
                                }
                            ]
                        },
                        "text/html": "<table><tr><th>(No column name)</th></tr><tr><td>6.283185307179586</td></tr></table>"
                    },
                    "metadata": {}
                }
            ],
            "execution_count": 4
        },
        {
            "cell_type": "markdown",
            "source": [
                "ROUND;"
            ],
            "metadata": {
                "language": "sql",
                "azdata_cell_guid": "00f2e04e-66cf-4d2a-8b49-f583691ece7c"
            },
            "attachments": {}
        },
        {
            "cell_type": "code",
            "source": [
                "SELECT ROUND(123.4567,0);"
            ],
            "metadata": {
                "language": "sql",
                "azdata_cell_guid": "2fe314b4-2cf2-4a49-b20b-9884e001c70f"
            },
            "outputs": [
                {
                    "output_type": "display_data",
                    "data": {
                        "text/html": "(1 row affected)"
                    },
                    "metadata": {}
                },
                {
                    "output_type": "display_data",
                    "data": {
                        "text/html": "Total execution time: 00:00:00.010"
                    },
                    "metadata": {}
                },
                {
                    "output_type": "execute_result",
                    "execution_count": 6,
                    "data": {
                        "application/vnd.dataresource+json": {
                            "schema": {
                                "fields": [
                                    {
                                        "name": "(No column name)"
                                    }
                                ]
                            },
                            "data": [
                                {
                                    "(No column name)": "123.0000"
                                }
                            ]
                        },
                        "text/html": "<table><tr><th>(No column name)</th></tr><tr><td>123.0000</td></tr></table>"
                    },
                    "metadata": {}
                }
            ],
            "execution_count": 6
        },
        {
            "cell_type": "markdown",
            "source": [
                "**CEILING() and FLOOR();**"
            ],
            "metadata": {
                "language": "sql",
                "azdata_cell_guid": "210a2e5a-744a-4b28-8716-e32b787a2305"
            },
            "attachments": {}
        },
        {
            "cell_type": "code",
            "source": [
                "SELECT CEILING(45.56);\r\n",
                "SELECT FLOOR(47.56);"
            ],
            "metadata": {
                "language": "sql",
                "azdata_cell_guid": "4a4c7be5-120f-4d1e-a59b-c598aa1cf240"
            },
            "outputs": [
                {
                    "output_type": "display_data",
                    "data": {
                        "text/html": "(1 row affected)"
                    },
                    "metadata": {}
                },
                {
                    "output_type": "display_data",
                    "data": {
                        "text/html": "(1 row affected)"
                    },
                    "metadata": {}
                },
                {
                    "output_type": "display_data",
                    "data": {
                        "text/html": "Total execution time: 00:00:00.011"
                    },
                    "metadata": {}
                },
                {
                    "output_type": "execute_result",
                    "execution_count": 7,
                    "data": {
                        "application/vnd.dataresource+json": {
                            "schema": {
                                "fields": [
                                    {
                                        "name": "(No column name)"
                                    }
                                ]
                            },
                            "data": [
                                {
                                    "(No column name)": "46"
                                }
                            ]
                        },
                        "text/html": "<table><tr><th>(No column name)</th></tr><tr><td>46</td></tr></table>"
                    },
                    "metadata": {}
                },
                {
                    "output_type": "execute_result",
                    "execution_count": 7,
                    "data": {
                        "application/vnd.dataresource+json": {
                            "schema": {
                                "fields": [
                                    {
                                        "name": "(No column name)"
                                    }
                                ]
                            },
                            "data": [
                                {
                                    "(No column name)": "47"
                                }
                            ]
                        },
                        "text/html": "<table><tr><th>(No column name)</th></tr><tr><td>47</td></tr></table>"
                    },
                    "metadata": {}
                }
            ],
            "execution_count": 7
        },
        {
            "cell_type": "code",
            "source": [
                "SELECT COS(2);"
            ],
            "metadata": {
                "language": "sql",
                "azdata_cell_guid": "fd90fce7-5434-41ae-8edd-a30c7054bebc"
            },
            "outputs": [
                {
                    "output_type": "display_data",
                    "data": {
                        "text/html": "(1 row affected)"
                    },
                    "metadata": {}
                },
                {
                    "output_type": "display_data",
                    "data": {
                        "text/html": "Total execution time: 00:00:00.008"
                    },
                    "metadata": {}
                },
                {
                    "output_type": "execute_result",
                    "execution_count": 8,
                    "data": {
                        "application/vnd.dataresource+json": {
                            "schema": {
                                "fields": [
                                    {
                                        "name": "(No column name)"
                                    }
                                ]
                            },
                            "data": [
                                {
                                    "(No column name)": "-0.4161468365471424"
                                }
                            ]
                        },
                        "text/html": "<table><tr><th>(No column name)</th></tr><tr><td>-0.4161468365471424</td></tr></table>"
                    },
                    "metadata": {}
                }
            ],
            "execution_count": 8
        },
        {
            "cell_type": "markdown",
            "source": [
                "09/08/2023\n",
                "\n",
                "NUMERICAL FUNCTIONS"
            ],
            "metadata": {
                "language": "sql",
                "azdata_cell_guid": "60316dfb-7a32-4ac9-9277-2cf8789b4d80"
            },
            "attachments": {}
        },
        {
            "cell_type": "code",
            "source": [
                "SELECT ABS(-234.4645) AS ABSOLTE_VALUE;"
            ],
            "metadata": {
                "language": "sql",
                "azdata_cell_guid": "897c826a-35b0-4248-a061-b5a674d8de2d"
            },
            "outputs": [
                {
                    "output_type": "display_data",
                    "data": {
                        "text/html": "(1 row affected)"
                    },
                    "metadata": {}
                },
                {
                    "output_type": "display_data",
                    "data": {
                        "text/html": "Total execution time: 00:00:00.003"
                    },
                    "metadata": {}
                },
                {
                    "output_type": "execute_result",
                    "metadata": {},
                    "execution_count": 4,
                    "data": {
                        "application/vnd.dataresource+json": {
                            "schema": {
                                "fields": [
                                    {
                                        "name": "ABSOLTE_VALUE"
                                    }
                                ]
                            },
                            "data": [
                                {
                                    "ABSOLTE_VALUE": "234.4645"
                                }
                            ]
                        },
                        "text/html": [
                            "<table>",
                            "<tr><th>ABSOLTE_VALUE</th></tr>",
                            "<tr><td>234.4645</td></tr>",
                            "</table>"
                        ]
                    }
                }
            ],
            "execution_count": 4
        },
        {
            "cell_type": "code",
            "source": [
                "SELECT ACOS(60) AS COSINE_NO;"
            ],
            "metadata": {
                "language": "sql",
                "azdata_cell_guid": "b34568ce-cfb1-47fc-aca9-eb84e06f350c"
            },
            "outputs": [
                {
                    "output_type": "display_data",
                    "data": {
                        "text/html": "Total execution time: 00:00:00.002"
                    },
                    "metadata": {}
                },
                {
                    "output_type": "execute_result",
                    "metadata": {},
                    "execution_count": 8,
                    "data": {
                        "application/vnd.dataresource+json": {
                            "schema": {
                                "fields": [
                                    {
                                        "name": "COSINE_NO"
                                    }
                                ]
                            },
                            "data": []
                        },
                        "text/html": [
                            "<table>",
                            "<tr><th>COSINE_NO</th></tr>",
                            "</table>"
                        ]
                    }
                },
                {
                    "output_type": "error",
                    "evalue": "Msg 3623, Level 16, State 1, Line 1\r\nAn invalid floating point operation occurred.",
                    "ename": "",
                    "traceback": []
                }
            ],
            "execution_count": 8
        },
        {
            "cell_type": "code",
            "source": [
                "SELECT ASIN(45) AS SINE_NO;"
            ],
            "metadata": {
                "language": "sql",
                "azdata_cell_guid": "21c15974-d87c-42cb-a981-89bfb0fd024f"
            },
            "outputs": [
                {
                    "output_type": "display_data",
                    "data": {
                        "text/html": "Total execution time: 00:00:00.002"
                    },
                    "metadata": {}
                },
                {
                    "output_type": "execute_result",
                    "metadata": {},
                    "execution_count": 11,
                    "data": {
                        "application/vnd.dataresource+json": {
                            "schema": {
                                "fields": [
                                    {
                                        "name": "SINE_NO"
                                    }
                                ]
                            },
                            "data": []
                        },
                        "text/html": [
                            "<table>",
                            "<tr><th>SINE_NO</th></tr>",
                            "</table>"
                        ]
                    }
                },
                {
                    "output_type": "error",
                    "evalue": "Msg 3623, Level 16, State 1, Line 1\r\nAn invalid floating point operation occurred.",
                    "ename": "",
                    "traceback": []
                }
            ],
            "execution_count": 11
        },
        {
            "cell_type": "code",
            "source": [
                "SELECT ATAN(56) AS TAN_NO;"
            ],
            "metadata": {
                "language": "sql",
                "azdata_cell_guid": "a3aa0cd6-0f61-4656-a05f-b417415ba799"
            },
            "outputs": [
                {
                    "output_type": "display_data",
                    "data": {
                        "text/html": "(1 row affected)"
                    },
                    "metadata": {}
                },
                {
                    "output_type": "display_data",
                    "data": {
                        "text/html": "Total execution time: 00:00:00.008"
                    },
                    "metadata": {}
                },
                {
                    "output_type": "execute_result",
                    "metadata": {},
                    "execution_count": 13,
                    "data": {
                        "application/vnd.dataresource+json": {
                            "schema": {
                                "fields": [
                                    {
                                        "name": "TAN_NO"
                                    }
                                ]
                            },
                            "data": [
                                {
                                    "TAN_NO": "1.5529410816553442"
                                }
                            ]
                        },
                        "text/html": [
                            "<table>",
                            "<tr><th>TAN_NO</th></tr>",
                            "<tr><td>1.5529410816553442</td></tr>",
                            "</table>"
                        ]
                    }
                }
            ],
            "execution_count": 13
        },
        {
            "cell_type": "code",
            "source": [
                "SELECT ATN2(24,56) AS TANOF_TWO;"
            ],
            "metadata": {
                "language": "sql",
                "azdata_cell_guid": "d39789f3-81ff-4af2-93bb-ba9369a6337f"
            },
            "outputs": [
                {
                    "output_type": "display_data",
                    "data": {
                        "text/html": "(1 row affected)"
                    },
                    "metadata": {}
                },
                {
                    "output_type": "display_data",
                    "data": {
                        "text/html": "Total execution time: 00:00:00.008"
                    },
                    "metadata": {}
                },
                {
                    "output_type": "execute_result",
                    "metadata": {},
                    "execution_count": 14,
                    "data": {
                        "application/vnd.dataresource+json": {
                            "schema": {
                                "fields": [
                                    {
                                        "name": "TANOF_TWO"
                                    }
                                ]
                            },
                            "data": [
                                {
                                    "TANOF_TWO": "0.40489178628508343"
                                }
                            ]
                        },
                        "text/html": [
                            "<table>",
                            "<tr><th>TANOF_TWO</th></tr>",
                            "<tr><td>0.40489178628508343</td></tr>",
                            "</table>"
                        ]
                    }
                }
            ],
            "execution_count": 14
        },
        {
            "cell_type": "code",
            "source": [
                "SELECT AVG(24.56*10) AS AVG;"
            ],
            "metadata": {
                "language": "sql",
                "azdata_cell_guid": "1cf48a37-26ea-46c9-b49d-f782dec3c035"
            },
            "outputs": [
                {
                    "output_type": "display_data",
                    "data": {
                        "text/html": "(1 row affected)"
                    },
                    "metadata": {}
                },
                {
                    "output_type": "display_data",
                    "data": {
                        "text/html": "Total execution time: 00:00:00.011"
                    },
                    "metadata": {}
                },
                {
                    "output_type": "execute_result",
                    "metadata": {},
                    "execution_count": 18,
                    "data": {
                        "application/vnd.dataresource+json": {
                            "schema": {
                                "fields": [
                                    {
                                        "name": "AVG"
                                    }
                                ]
                            },
                            "data": [
                                {
                                    "AVG": "245.600000"
                                }
                            ]
                        },
                        "text/html": [
                            "<table>",
                            "<tr><th>AVG</th></tr>",
                            "<tr><td>245.600000</td></tr>",
                            "</table>"
                        ]
                    }
                }
            ],
            "execution_count": 18
        },
        {
            "cell_type": "code",
            "source": [
                "SELECT COS(60) AS COS_VAL;"
            ],
            "metadata": {
                "language": "sql",
                "azdata_cell_guid": "b27808d1-4a37-4a78-920a-ea8945653d8f"
            },
            "outputs": [
                {
                    "output_type": "display_data",
                    "data": {
                        "text/html": "(1 row affected)"
                    },
                    "metadata": {}
                },
                {
                    "output_type": "display_data",
                    "data": {
                        "text/html": "Total execution time: 00:00:00.009"
                    },
                    "metadata": {}
                },
                {
                    "output_type": "execute_result",
                    "metadata": {},
                    "execution_count": 19,
                    "data": {
                        "application/vnd.dataresource+json": {
                            "schema": {
                                "fields": [
                                    {
                                        "name": "COS_VAL"
                                    }
                                ]
                            },
                            "data": [
                                {
                                    "COS_VAL": "-0.9524129804151563"
                                }
                            ]
                        },
                        "text/html": [
                            "<table>",
                            "<tr><th>COS_VAL</th></tr>",
                            "<tr><td>-0.9524129804151563</td></tr>",
                            "</table>"
                        ]
                    }
                }
            ],
            "execution_count": 19
        },
        {
            "cell_type": "code",
            "source": [
                "SELECT COT(45) AS COT_VAL;"
            ],
            "metadata": {
                "language": "sql",
                "azdata_cell_guid": "740b7a9b-7d10-4554-9bef-fd5d9f15ddfe"
            },
            "outputs": [
                {
                    "output_type": "display_data",
                    "data": {
                        "text/html": "(1 row affected)"
                    },
                    "metadata": {}
                },
                {
                    "output_type": "display_data",
                    "data": {
                        "text/html": "Total execution time: 00:00:00.006"
                    },
                    "metadata": {}
                },
                {
                    "output_type": "execute_result",
                    "metadata": {},
                    "execution_count": 20,
                    "data": {
                        "application/vnd.dataresource+json": {
                            "schema": {
                                "fields": [
                                    {
                                        "name": "COT_VAL"
                                    }
                                ]
                            },
                            "data": [
                                {
                                    "COT_VAL": "0.6173696237835551"
                                }
                            ]
                        },
                        "text/html": [
                            "<table>",
                            "<tr><th>COT_VAL</th></tr>",
                            "<tr><td>0.6173696237835551</td></tr>",
                            "</table>"
                        ]
                    }
                }
            ],
            "execution_count": 20
        },
        {
            "cell_type": "code",
            "source": [
                "SELECT DEGREES(3) AS DEGREE;"
            ],
            "metadata": {
                "language": "sql",
                "azdata_cell_guid": "243b4e6a-0700-463f-a266-a7bbf5bf6414"
            },
            "outputs": [
                {
                    "output_type": "display_data",
                    "data": {
                        "text/html": "(1 row affected)"
                    },
                    "metadata": {}
                },
                {
                    "output_type": "display_data",
                    "data": {
                        "text/html": "Total execution time: 00:00:00.004"
                    },
                    "metadata": {}
                },
                {
                    "output_type": "execute_result",
                    "metadata": {},
                    "execution_count": 22,
                    "data": {
                        "application/vnd.dataresource+json": {
                            "schema": {
                                "fields": [
                                    {
                                        "name": "DEGREE"
                                    }
                                ]
                            },
                            "data": [
                                {
                                    "DEGREE": "171"
                                }
                            ]
                        },
                        "text/html": [
                            "<table>",
                            "<tr><th>DEGREE</th></tr>",
                            "<tr><td>171</td></tr>",
                            "</table>"
                        ]
                    }
                }
            ],
            "execution_count": 22
        },
        {
            "cell_type": "code",
            "source": [
                "SELECT LOG(10) AS LOG_VAL;"
            ],
            "metadata": {
                "language": "sql",
                "azdata_cell_guid": "051186c0-1407-49c7-a0f9-5e94372e1925"
            },
            "outputs": [
                {
                    "output_type": "display_data",
                    "data": {
                        "text/html": "(1 row affected)"
                    },
                    "metadata": {}
                },
                {
                    "output_type": "display_data",
                    "data": {
                        "text/html": "Total execution time: 00:00:00.008"
                    },
                    "metadata": {}
                },
                {
                    "output_type": "execute_result",
                    "metadata": {},
                    "execution_count": 23,
                    "data": {
                        "application/vnd.dataresource+json": {
                            "schema": {
                                "fields": [
                                    {
                                        "name": "LOG_VAL"
                                    }
                                ]
                            },
                            "data": [
                                {
                                    "LOG_VAL": "2.302585092994046"
                                }
                            ]
                        },
                        "text/html": [
                            "<table>",
                            "<tr><th>LOG_VAL</th></tr>",
                            "<tr><td>2.302585092994046</td></tr>",
                            "</table>"
                        ]
                    }
                }
            ],
            "execution_count": 23
        },
        {
            "cell_type": "code",
            "source": [
                "SELECT LOG10(10);"
            ],
            "metadata": {
                "language": "sql",
                "azdata_cell_guid": "4cf888f6-8699-446b-897a-aca08e34b163"
            },
            "outputs": [
                {
                    "output_type": "display_data",
                    "data": {
                        "text/html": "(1 row affected)"
                    },
                    "metadata": {}
                },
                {
                    "output_type": "display_data",
                    "data": {
                        "text/html": "Total execution time: 00:00:00.002"
                    },
                    "metadata": {}
                },
                {
                    "output_type": "execute_result",
                    "metadata": {},
                    "execution_count": 24,
                    "data": {
                        "application/vnd.dataresource+json": {
                            "schema": {
                                "fields": [
                                    {
                                        "name": "(No column name)"
                                    }
                                ]
                            },
                            "data": [
                                {
                                    "(No column name)": "1"
                                }
                            ]
                        },
                        "text/html": [
                            "<table>",
                            "<tr><th>(No column name)</th></tr>",
                            "<tr><td>1</td></tr>",
                            "</table>"
                        ]
                    }
                }
            ],
            "execution_count": 24
        },
        {
            "cell_type": "code",
            "source": [
                "SELECT POWER(2,10) AS POWER;"
            ],
            "metadata": {
                "language": "sql",
                "azdata_cell_guid": "8e7b4dd9-9bfa-479c-b1d4-f921bd194cd3"
            },
            "outputs": [
                {
                    "output_type": "display_data",
                    "data": {
                        "text/html": "(1 row affected)"
                    },
                    "metadata": {}
                },
                {
                    "output_type": "display_data",
                    "data": {
                        "text/html": "Total execution time: 00:00:00.004"
                    },
                    "metadata": {}
                },
                {
                    "output_type": "execute_result",
                    "metadata": {},
                    "execution_count": 27,
                    "data": {
                        "application/vnd.dataresource+json": {
                            "schema": {
                                "fields": [
                                    {
                                        "name": "POWER"
                                    }
                                ]
                            },
                            "data": [
                                {
                                    "POWER": "1024"
                                }
                            ]
                        },
                        "text/html": [
                            "<table>",
                            "<tr><th>POWER</th></tr>",
                            "<tr><td>1024</td></tr>",
                            "</table>"
                        ]
                    }
                }
            ],
            "execution_count": 27
        },
        {
            "cell_type": "code",
            "source": [
                "SELECT RADIANS(90) AS RADIAN_VAL;"
            ],
            "metadata": {
                "language": "sql",
                "azdata_cell_guid": "a2a14679-e86e-4b79-aa1d-3189a2d9cf12"
            },
            "outputs": [
                {
                    "output_type": "display_data",
                    "data": {
                        "text/html": "(1 row affected)"
                    },
                    "metadata": {}
                },
                {
                    "output_type": "display_data",
                    "data": {
                        "text/html": "Total execution time: 00:00:00.003"
                    },
                    "metadata": {}
                },
                {
                    "output_type": "execute_result",
                    "metadata": {},
                    "execution_count": 29,
                    "data": {
                        "application/vnd.dataresource+json": {
                            "schema": {
                                "fields": [
                                    {
                                        "name": "RADIAN_VAL"
                                    }
                                ]
                            },
                            "data": [
                                {
                                    "RADIAN_VAL": "1"
                                }
                            ]
                        },
                        "text/html": [
                            "<table>",
                            "<tr><th>RADIAN_VAL</th></tr>",
                            "<tr><td>1</td></tr>",
                            "</table>"
                        ]
                    }
                }
            ],
            "execution_count": 29
        },
        {
            "cell_type": "code",
            "source": [
                "SELECT TAN(0) AS TAN_VAL;"
            ],
            "metadata": {
                "language": "sql",
                "azdata_cell_guid": "e4dfb872-156a-485b-868f-84c0485f9ccf"
            },
            "outputs": [
                {
                    "output_type": "display_data",
                    "data": {
                        "text/html": "(1 row affected)"
                    },
                    "metadata": {}
                },
                {
                    "output_type": "display_data",
                    "data": {
                        "text/html": "Total execution time: 00:00:00.003"
                    },
                    "metadata": {}
                },
                {
                    "output_type": "execute_result",
                    "metadata": {},
                    "execution_count": 30,
                    "data": {
                        "application/vnd.dataresource+json": {
                            "schema": {
                                "fields": [
                                    {
                                        "name": "TAN_VAL"
                                    }
                                ]
                            },
                            "data": [
                                {
                                    "TAN_VAL": "0"
                                }
                            ]
                        },
                        "text/html": [
                            "<table>",
                            "<tr><th>TAN_VAL</th></tr>",
                            "<tr><td>0</td></tr>",
                            "</table>"
                        ]
                    }
                }
            ],
            "execution_count": 30
        },
        {
            "cell_type": "markdown",
            "source": [
                "DATE FUNCTIONS;"
            ],
            "metadata": {
                "language": "sql",
                "azdata_cell_guid": "e1ecff5b-250d-42ad-a195-f1e954dfd6b1"
            },
            "attachments": {}
        },
        {
            "cell_type": "code",
            "source": [
                "SELECT CURRENT_TIMESTAMP AS CURRENT_TIME_STAMP;"
            ],
            "metadata": {
                "language": "sql",
                "azdata_cell_guid": "b6fc1251-7f58-4ce2-91f6-030020a33ffe"
            },
            "outputs": [
                {
                    "output_type": "display_data",
                    "data": {
                        "text/html": "(1 row affected)"
                    },
                    "metadata": {}
                },
                {
                    "output_type": "display_data",
                    "data": {
                        "text/html": "Total execution time: 00:00:00.007"
                    },
                    "metadata": {}
                },
                {
                    "output_type": "execute_result",
                    "metadata": {},
                    "execution_count": 33,
                    "data": {
                        "application/vnd.dataresource+json": {
                            "schema": {
                                "fields": [
                                    {
                                        "name": "CURRENT_TIME_STAMP"
                                    }
                                ]
                            },
                            "data": [
                                {
                                    "CURRENT_TIME_STAMP": "2023-08-09 16:31:49.380"
                                }
                            ]
                        },
                        "text/html": [
                            "<table>",
                            "<tr><th>CURRENT_TIME_STAMP</th></tr>",
                            "<tr><td>2023-08-09 16:31:49.380</td></tr>",
                            "</table>"
                        ]
                    }
                }
            ],
            "execution_count": 33
        },
        {
            "cell_type": "code",
            "source": [
                "SELECT DATEADD(year, 1, '2023/08/25') AS DateAdd;"
            ],
            "metadata": {
                "language": "sql",
                "azdata_cell_guid": "268382b4-9cc5-4b82-8721-3704f29a82cc"
            },
            "outputs": [
                {
                    "output_type": "display_data",
                    "data": {
                        "text/html": "(1 row affected)"
                    },
                    "metadata": {}
                },
                {
                    "output_type": "display_data",
                    "data": {
                        "text/html": "Total execution time: 00:00:00.006"
                    },
                    "metadata": {}
                },
                {
                    "output_type": "execute_result",
                    "metadata": {},
                    "execution_count": 61,
                    "data": {
                        "application/vnd.dataresource+json": {
                            "schema": {
                                "fields": [
                                    {
                                        "name": "DateAdd"
                                    }
                                ]
                            },
                            "data": [
                                {
                                    "DateAdd": "2024-08-25 00:00:00.000"
                                }
                            ]
                        },
                        "text/html": [
                            "<table>",
                            "<tr><th>DateAdd</th></tr>",
                            "<tr><td>2024-08-25 00:00:00.000</td></tr>",
                            "</table>"
                        ]
                    }
                }
            ],
            "execution_count": 61
        },
        {
            "cell_type": "code",
            "source": [
                "SELECT DATEDIFF(DAY,'2023-07-01','2023-08-08') AS DATE_DIFF;"
            ],
            "metadata": {
                "language": "sql",
                "azdata_cell_guid": "57e4e213-af12-4adf-aa64-227e44b85c1f"
            },
            "outputs": [
                {
                    "output_type": "display_data",
                    "data": {
                        "text/html": "(1 row affected)"
                    },
                    "metadata": {}
                },
                {
                    "output_type": "display_data",
                    "data": {
                        "text/html": "Total execution time: 00:00:00.003"
                    },
                    "metadata": {}
                },
                {
                    "output_type": "execute_result",
                    "metadata": {},
                    "execution_count": 63,
                    "data": {
                        "application/vnd.dataresource+json": {
                            "schema": {
                                "fields": [
                                    {
                                        "name": "DATE_DIFF"
                                    }
                                ]
                            },
                            "data": [
                                {
                                    "DATE_DIFF": "38"
                                }
                            ]
                        },
                        "text/html": [
                            "<table>",
                            "<tr><th>DATE_DIFF</th></tr>",
                            "<tr><td>38</td></tr>",
                            "</table>"
                        ]
                    }
                }
            ],
            "execution_count": 63
        },
        {
            "cell_type": "code",
            "source": [
                "SELECT DATEFROMPARTS(2023, 10, 31) AS DATE_FORMPARTS;"
            ],
            "metadata": {
                "language": "sql",
                "azdata_cell_guid": "18555a1e-36b8-4960-8a81-ddf1b7a03a3d"
            },
            "outputs": [
                {
                    "output_type": "display_data",
                    "data": {
                        "text/html": "(1 row affected)"
                    },
                    "metadata": {}
                },
                {
                    "output_type": "display_data",
                    "data": {
                        "text/html": "Total execution time: 00:00:00.007"
                    },
                    "metadata": {}
                },
                {
                    "output_type": "execute_result",
                    "metadata": {},
                    "execution_count": 64,
                    "data": {
                        "application/vnd.dataresource+json": {
                            "schema": {
                                "fields": [
                                    {
                                        "name": "DATE_FORMPARTS"
                                    }
                                ]
                            },
                            "data": [
                                {
                                    "DATE_FORMPARTS": "2023-10-31"
                                }
                            ]
                        },
                        "text/html": [
                            "<table>",
                            "<tr><th>DATE_FORMPARTS</th></tr>",
                            "<tr><td>2023-10-31</td></tr>",
                            "</table>"
                        ]
                    }
                }
            ],
            "execution_count": 64
        },
        {
            "cell_type": "code",
            "source": [
                "SELECT DATENAME(DAY, '2023/04/25') AS DATE_NAME;"
            ],
            "metadata": {
                "language": "sql",
                "azdata_cell_guid": "999d5fa0-8a8f-42a2-81f7-2ca0c40f58f4"
            },
            "outputs": [
                {
                    "output_type": "display_data",
                    "data": {
                        "text/html": "(1 row affected)"
                    },
                    "metadata": {}
                },
                {
                    "output_type": "display_data",
                    "data": {
                        "text/html": "Total execution time: 00:00:00.009"
                    },
                    "metadata": {}
                },
                {
                    "output_type": "execute_result",
                    "metadata": {},
                    "execution_count": 66,
                    "data": {
                        "application/vnd.dataresource+json": {
                            "schema": {
                                "fields": [
                                    {
                                        "name": "DATE_NAME"
                                    }
                                ]
                            },
                            "data": [
                                {
                                    "DATE_NAME": "25"
                                }
                            ]
                        },
                        "text/html": [
                            "<table>",
                            "<tr><th>DATE_NAME</th></tr>",
                            "<tr><td>25</td></tr>",
                            "</table>"
                        ]
                    }
                }
            ],
            "execution_count": 66
        },
        {
            "cell_type": "code",
            "source": [
                "SELECT DAY('2023-09-07') AS DAY;"
            ],
            "metadata": {
                "language": "sql",
                "azdata_cell_guid": "0628e474-d0b7-45c2-a56f-959639f45786"
            },
            "outputs": [
                {
                    "output_type": "display_data",
                    "data": {
                        "text/html": "(1 row affected)"
                    },
                    "metadata": {}
                },
                {
                    "output_type": "display_data",
                    "data": {
                        "text/html": "Total execution time: 00:00:00.002"
                    },
                    "metadata": {}
                },
                {
                    "output_type": "execute_result",
                    "metadata": {},
                    "execution_count": 68,
                    "data": {
                        "application/vnd.dataresource+json": {
                            "schema": {
                                "fields": [
                                    {
                                        "name": "DAY"
                                    }
                                ]
                            },
                            "data": [
                                {
                                    "DAY": "7"
                                }
                            ]
                        },
                        "text/html": [
                            "<table>",
                            "<tr><th>DAY</th></tr>",
                            "<tr><td>7</td></tr>",
                            "</table>"
                        ]
                    }
                }
            ],
            "execution_count": 68
        },
        {
            "cell_type": "markdown",
            "source": [
                "ADVANCED FUNCTIONS;"
            ],
            "metadata": {
                "language": "sql",
                "azdata_cell_guid": "937ce62c-6e17-4d9d-935a-d139ca5bf685"
            },
            "attachments": {}
        },
        {
            "cell_type": "code",
            "source": [
                "SELECT CAST(23.44 AS int);"
            ],
            "metadata": {
                "language": "sql",
                "azdata_cell_guid": "31ad3a10-c71d-4d64-a4d9-371feb0ef557"
            },
            "outputs": [
                {
                    "output_type": "display_data",
                    "data": {
                        "text/html": "(1 row affected)"
                    },
                    "metadata": {}
                },
                {
                    "output_type": "display_data",
                    "data": {
                        "text/html": "Total execution time: 00:00:00.003"
                    },
                    "metadata": {}
                },
                {
                    "output_type": "execute_result",
                    "metadata": {},
                    "execution_count": 51,
                    "data": {
                        "application/vnd.dataresource+json": {
                            "schema": {
                                "fields": [
                                    {
                                        "name": "(No column name)"
                                    }
                                ]
                            },
                            "data": [
                                {
                                    "(No column name)": "23"
                                }
                            ]
                        },
                        "text/html": [
                            "<table>",
                            "<tr><th>(No column name)</th></tr>",
                            "<tr><td>23</td></tr>",
                            "</table>"
                        ]
                    }
                }
            ],
            "execution_count": 51
        },
        {
            "cell_type": "code",
            "source": [
                "SELECT CONVERT(int,25.65) AS CONVERTT;"
            ],
            "metadata": {
                "language": "sql",
                "azdata_cell_guid": "db7590ea-a165-442e-83e2-169166f864c5"
            },
            "outputs": [
                {
                    "output_type": "display_data",
                    "data": {
                        "text/html": "(1 row affected)"
                    },
                    "metadata": {}
                },
                {
                    "output_type": "display_data",
                    "data": {
                        "text/html": "Total execution time: 00:00:00.002"
                    },
                    "metadata": {}
                },
                {
                    "output_type": "execute_result",
                    "metadata": {},
                    "execution_count": 54,
                    "data": {
                        "application/vnd.dataresource+json": {
                            "schema": {
                                "fields": [
                                    {
                                        "name": "CONVERTT"
                                    }
                                ]
                            },
                            "data": [
                                {
                                    "CONVERTT": "25"
                                }
                            ]
                        },
                        "text/html": [
                            "<table>",
                            "<tr><th>CONVERTT</th></tr>",
                            "<tr><td>25</td></tr>",
                            "</table>"
                        ]
                    }
                }
            ],
            "execution_count": 54
        },
        {
            "cell_type": "code",
            "source": [
                "SELECT CURRENT_USER;"
            ],
            "metadata": {
                "language": "sql",
                "azdata_cell_guid": "8577105b-2723-4a7c-a2cf-8d27ffcdc5aa"
            },
            "outputs": [
                {
                    "output_type": "display_data",
                    "data": {
                        "text/html": "(1 row affected)"
                    },
                    "metadata": {}
                },
                {
                    "output_type": "display_data",
                    "data": {
                        "text/html": "Total execution time: 00:00:00.009"
                    },
                    "metadata": {}
                },
                {
                    "output_type": "execute_result",
                    "metadata": {},
                    "execution_count": 55,
                    "data": {
                        "application/vnd.dataresource+json": {
                            "schema": {
                                "fields": [
                                    {
                                        "name": "(No column name)"
                                    }
                                ]
                            },
                            "data": [
                                {
                                    "(No column name)": "dbo"
                                }
                            ]
                        },
                        "text/html": [
                            "<table>",
                            "<tr><th>(No column name)</th></tr>",
                            "<tr><td>dbo</td></tr>",
                            "</table>"
                        ]
                    }
                }
            ],
            "execution_count": 55
        },
        {
            "cell_type": "code",
            "source": [
                "SELECT SESSION_USER;"
            ],
            "metadata": {
                "language": "sql",
                "azdata_cell_guid": "1531d718-4bfe-4ad9-b2fb-95dc575792fe"
            },
            "outputs": [
                {
                    "output_type": "display_data",
                    "data": {
                        "text/html": "(1 row affected)"
                    },
                    "metadata": {}
                },
                {
                    "output_type": "display_data",
                    "data": {
                        "text/html": "Total execution time: 00:00:00.004"
                    },
                    "metadata": {}
                },
                {
                    "output_type": "execute_result",
                    "metadata": {},
                    "execution_count": 56,
                    "data": {
                        "application/vnd.dataresource+json": {
                            "schema": {
                                "fields": [
                                    {
                                        "name": "(No column name)"
                                    }
                                ]
                            },
                            "data": [
                                {
                                    "(No column name)": "dbo"
                                }
                            ]
                        },
                        "text/html": [
                            "<table>",
                            "<tr><th>(No column name)</th></tr>",
                            "<tr><td>dbo</td></tr>",
                            "</table>"
                        ]
                    }
                }
            ],
            "execution_count": 56
        },
        {
            "cell_type": "code",
            "source": [
                "SELECT SYSTEM_USER;"
            ],
            "metadata": {
                "language": "sql",
                "azdata_cell_guid": "49755c03-0e3d-4b9a-a69d-9412bf44e6e6"
            },
            "outputs": [
                {
                    "output_type": "display_data",
                    "data": {
                        "text/html": "(1 row affected)"
                    },
                    "metadata": {}
                },
                {
                    "output_type": "display_data",
                    "data": {
                        "text/html": "Total execution time: 00:00:00.014"
                    },
                    "metadata": {}
                },
                {
                    "output_type": "execute_result",
                    "metadata": {},
                    "execution_count": 57,
                    "data": {
                        "application/vnd.dataresource+json": {
                            "schema": {
                                "fields": [
                                    {
                                        "name": "(No column name)"
                                    }
                                ]
                            },
                            "data": [
                                {
                                    "(No column name)": "ARIVARASAN\\aaras"
                                }
                            ]
                        },
                        "text/html": [
                            "<table>",
                            "<tr><th>(No column name)</th></tr>",
                            "<tr><td>ARIVARASAN\\aaras</td></tr>",
                            "</table>"
                        ]
                    }
                }
            ],
            "execution_count": 57
        },
        {
            "cell_type": "code",
            "source": [
                "SELECT USER_NAME();"
            ],
            "metadata": {
                "language": "sql",
                "azdata_cell_guid": "4fdaa3c7-3fc0-4c88-a140-fb9d03e3ef76"
            },
            "outputs": [
                {
                    "output_type": "display_data",
                    "data": {
                        "text/html": "(1 row affected)"
                    },
                    "metadata": {}
                },
                {
                    "output_type": "display_data",
                    "data": {
                        "text/html": "Total execution time: 00:00:00.004"
                    },
                    "metadata": {}
                },
                {
                    "output_type": "execute_result",
                    "metadata": {},
                    "execution_count": 59,
                    "data": {
                        "application/vnd.dataresource+json": {
                            "schema": {
                                "fields": [
                                    {
                                        "name": "(No column name)"
                                    }
                                ]
                            },
                            "data": [
                                {
                                    "(No column name)": "dbo"
                                }
                            ]
                        },
                        "text/html": [
                            "<table>",
                            "<tr><th>(No column name)</th></tr>",
                            "<tr><td>dbo</td></tr>",
                            "</table>"
                        ]
                    }
                }
            ],
            "execution_count": 59
        },
        {
            "cell_type": "markdown",
            "source": [
                "USER DEFINED FUNCTION;\n",
                "\n",
                "       \\* INLINE TABLE VALUED FUNCTION\n",
                "\n",
                "       \\*SCALAR FUNCTIONS\n",
                "\n",
                "       \\*MULTI-STATEMENT TABLE\\_VALUED FUNCTION"
            ],
            "metadata": {
                "language": "sql",
                "azdata_cell_guid": "fcd78ef9-40b0-4253-897d-c3d2494366a6"
            },
            "attachments": {}
        },
        {
            "cell_type": "markdown",
            "source": [
                "INLINE TABLE VALUED FUNCTION;"
            ],
            "metadata": {
                "language": "sql",
                "azdata_cell_guid": "61b2f408-9771-494b-921c-52cf43dc7031"
            },
            "attachments": {}
        },
        {
            "cell_type": "code",
            "source": [
                "CREATE FUNCTION FN_EMPLOYEESBYJOB (@JOB VARCHAR(15))\r\n",
                "RETURNS TABLE\r\n",
                "AS\r\n",
                "RETURN(SELECT EID,ENAME,SAL \r\n",
                "       FROM EMPLOYE_DETAILS\r\n",
                "       WHERE JOB=@JOB);"
            ],
            "metadata": {
                "language": "sql",
                "azdata_cell_guid": "821adccb-d361-47ff-b150-ae07e52ab629"
            },
            "outputs": [
                {
                    "output_type": "display_data",
                    "data": {
                        "text/html": "Commands completed successfully."
                    },
                    "metadata": {}
                },
                {
                    "output_type": "display_data",
                    "data": {
                        "text/html": "Total execution time: 00:00:00.017"
                    },
                    "metadata": {}
                }
            ],
            "execution_count": 69
        },
        {
            "cell_type": "code",
            "source": [
                "SELECT *\r\n",
                "FROM FN_EMPLOYEESBYJOB ('WEB DEVELOPER');"
            ],
            "metadata": {
                "language": "sql",
                "azdata_cell_guid": "c0c973d0-cdaa-46f0-b4f0-be18b6b5127e"
            },
            "outputs": [
                {
                    "output_type": "display_data",
                    "data": {
                        "text/html": "(5 rows affected)"
                    },
                    "metadata": {}
                },
                {
                    "output_type": "display_data",
                    "data": {
                        "text/html": "Total execution time: 00:00:00.014"
                    },
                    "metadata": {}
                },
                {
                    "output_type": "execute_result",
                    "metadata": {},
                    "execution_count": 70,
                    "data": {
                        "application/vnd.dataresource+json": {
                            "schema": {
                                "fields": [
                                    {
                                        "name": "EID"
                                    },
                                    {
                                        "name": "ENAME"
                                    },
                                    {
                                        "name": "SAL"
                                    }
                                ]
                            },
                            "data": [
                                {
                                    "EID": "1245",
                                    "ENAME": "VIJAY",
                                    "SAL": "25000"
                                },
                                {
                                    "EID": "1721",
                                    "ENAME": "ARUN",
                                    "SAL": "35000"
                                },
                                {
                                    "EID": "2121",
                                    "ENAME": "SANTHOSH",
                                    "SAL": "25000"
                                },
                                {
                                    "EID": "3245",
                                    "ENAME": "MUTHU",
                                    "SAL": "25000"
                                },
                                {
                                    "EID": "5245",
                                    "ENAME": "DEEPAK",
                                    "SAL": "25000"
                                }
                            ]
                        },
                        "text/html": [
                            "<table>",
                            "<tr><th>EID</th><th>ENAME</th><th>SAL</th></tr>",
                            "<tr><td>1245</td><td>VIJAY</td><td>25000</td></tr>",
                            "<tr><td>1721</td><td>ARUN</td><td>35000</td></tr>",
                            "<tr><td>2121</td><td>SANTHOSH</td><td>25000</td></tr>",
                            "<tr><td>3245</td><td>MUTHU</td><td>25000</td></tr>",
                            "<tr><td>5245</td><td>DEEPAK</td><td>25000</td></tr>",
                            "</table>"
                        ]
                    }
                }
            ],
            "execution_count": 70
        },
        {
            "cell_type": "markdown",
            "source": [
                "MULTI-STATEMENT TABLE-VALUED FUNCTION;"
            ],
            "metadata": {
                "language": "sql",
                "azdata_cell_guid": "18c9dbf8-69b1-405a-b8ff-4337ebed5d02"
            },
            "attachments": {}
        },
        {
            "cell_type": "code",
            "source": [
                "CREATE FUNCTION FN_MSTV()\r\n",
                "RETURNS @TABLE TABLE(EID NUMERIC(4),ENAME VARCHAR(15),SAL NUMERIC(10))\r\n",
                "AS\r\n",
                "BEGIN\r\n",
                "INSERT INTO @TABLE\r\n",
                "SELECT EID,ENAME,SAL \r\n",
                "FROM EMPLOYE_DETAILS\r\n",
                "RETURN\r\n",
                "END;"
            ],
            "metadata": {
                "language": "sql",
                "azdata_cell_guid": "ef1bf0e7-ddc7-46ea-98f5-844dc52c9549"
            },
            "outputs": [
                {
                    "output_type": "display_data",
                    "data": {
                        "text/html": "Commands completed successfully."
                    },
                    "metadata": {}
                },
                {
                    "output_type": "display_data",
                    "data": {
                        "text/html": "Total execution time: 00:00:00.023"
                    },
                    "metadata": {}
                }
            ],
            "execution_count": 72
        },
        {
            "cell_type": "code",
            "source": [
                "SELECT *\r\n",
                "FROM FN_MSTV();"
            ],
            "metadata": {
                "language": "sql",
                "azdata_cell_guid": "7ef6cb36-b5c6-4ca8-a8c1-9352999cf850"
            },
            "outputs": [
                {
                    "output_type": "display_data",
                    "data": {
                        "text/html": "(14 rows affected)"
                    },
                    "metadata": {}
                },
                {
                    "output_type": "display_data",
                    "data": {
                        "text/html": "Total execution time: 00:00:00.033"
                    },
                    "metadata": {}
                },
                {
                    "output_type": "execute_result",
                    "metadata": {},
                    "execution_count": 74,
                    "data": {
                        "application/vnd.dataresource+json": {
                            "schema": {
                                "fields": [
                                    {
                                        "name": "EID"
                                    },
                                    {
                                        "name": "ENAME"
                                    },
                                    {
                                        "name": "SAL"
                                    }
                                ]
                            },
                            "data": [
                                {
                                    "EID": "1212",
                                    "ENAME": "VICKY",
                                    "SAL": "45000"
                                },
                                {
                                    "EID": "1245",
                                    "ENAME": "VIJAY",
                                    "SAL": "25000"
                                },
                                {
                                    "EID": "1721",
                                    "ENAME": "ARUN",
                                    "SAL": "35000"
                                },
                                {
                                    "EID": "1762",
                                    "ENAME": "AJAY",
                                    "SAL": "45000"
                                },
                                {
                                    "EID": "1832",
                                    "ENAME": "SURYA",
                                    "SAL": "25000"
                                },
                                {
                                    "EID": "2121",
                                    "ENAME": "SANTHOSH",
                                    "SAL": "25000"
                                },
                                {
                                    "EID": "2212",
                                    "ENAME": "JEEVA",
                                    "SAL": "30000"
                                },
                                {
                                    "EID": "3245",
                                    "ENAME": "MUTHU",
                                    "SAL": "25000"
                                },
                                {
                                    "EID": "3762",
                                    "ENAME": "TAMIL",
                                    "SAL": "25000"
                                },
                                {
                                    "EID": "3832",
                                    "ENAME": "SANJAY",
                                    "SAL": "12000"
                                },
                                {
                                    "EID": "4212",
                                    "ENAME": "PREM KUMAR",
                                    "SAL": "40000"
                                },
                                {
                                    "EID": "4762",
                                    "ENAME": "CHANDRAN",
                                    "SAL": "45000"
                                },
                                {
                                    "EID": "4832",
                                    "ENAME": "SHANKAR",
                                    "SAL": "20000"
                                },
                                {
                                    "EID": "5245",
                                    "ENAME": "DEEPAK",
                                    "SAL": "25000"
                                }
                            ]
                        },
                        "text/html": [
                            "<table>",
                            "<tr><th>EID</th><th>ENAME</th><th>SAL</th></tr>",
                            "<tr><td>1212</td><td>VICKY</td><td>45000</td></tr>",
                            "<tr><td>1245</td><td>VIJAY</td><td>25000</td></tr>",
                            "<tr><td>1721</td><td>ARUN</td><td>35000</td></tr>",
                            "<tr><td>1762</td><td>AJAY</td><td>45000</td></tr>",
                            "<tr><td>1832</td><td>SURYA</td><td>25000</td></tr>",
                            "<tr><td>2121</td><td>SANTHOSH</td><td>25000</td></tr>",
                            "<tr><td>2212</td><td>JEEVA</td><td>30000</td></tr>",
                            "<tr><td>3245</td><td>MUTHU</td><td>25000</td></tr>",
                            "<tr><td>3762</td><td>TAMIL</td><td>25000</td></tr>",
                            "<tr><td>3832</td><td>SANJAY</td><td>12000</td></tr>",
                            "<tr><td>4212</td><td>PREM KUMAR</td><td>40000</td></tr>",
                            "<tr><td>4762</td><td>CHANDRAN</td><td>45000</td></tr>",
                            "<tr><td>4832</td><td>SHANKAR</td><td>20000</td></tr>",
                            "<tr><td>5245</td><td>DEEPAK</td><td>25000</td></tr>",
                            "</table>"
                        ]
                    }
                }
            ],
            "execution_count": 74
        }
    ]
}