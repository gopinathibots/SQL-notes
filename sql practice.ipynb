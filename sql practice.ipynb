{
    "metadata": {
        "kernelspec": {
            "name": "SQL",
            "display_name": "SQL",
            "language": "sql"
        },
        "language_info": {
            "name": "sql",
            "version": ""
        }
    },
    "nbformat_minor": 2,
    "nbformat": 4,
    "cells": [
        {
            "cell_type": "markdown",
            "source": [
                "1.Database Creation;"
            ],
            "metadata": {
                "azdata_cell_guid": "65fbaac4-d588-4f9e-863a-73326264d90c"
            },
            "attachments": {}
        },
        {
            "cell_type": "code",
            "source": [
                "CREATE DATABASE EmployeDB;"
            ],
            "metadata": {
                "azdata_cell_guid": "04752ee6-392c-45cc-b2d0-1cc7b8a006f7",
                "language": "sql"
            },
            "outputs": [
                {
                    "output_type": "display_data",
                    "data": {
                        "text/html": "Commands completed successfully."
                    },
                    "metadata": {}
                },
                {
                    "output_type": "display_data",
                    "data": {
                        "text/html": "Total execution time: 00:00:00.190"
                    },
                    "metadata": {}
                }
            ],
            "execution_count": 1
        },
        {
            "cell_type": "markdown",
            "source": [
                "2.BACKUP DATABASE;"
            ],
            "metadata": {
                "azdata_cell_guid": "a8a50af4-a72d-42ce-a65a-5670ced108c9"
            },
            "attachments": {}
        },
        {
            "cell_type": "code",
            "source": [
                "BACKUP DATABASE EmployeDB\r\n",
                "TO DISK ='D:\\sql\\DATABASE';"
            ],
            "metadata": {
                "azdata_cell_guid": "15bd92dc-6080-41a1-84dd-af532600527e",
                "language": "sql",
                "tags": []
            },
            "outputs": [
                {
                    "output_type": "display_data",
                    "data": {
                        "text/html": "Processed 520 pages for database 'EmployeDB', file 'EmployeDB' on file 1."
                    },
                    "metadata": {}
                },
                {
                    "output_type": "display_data",
                    "data": {
                        "text/html": "Processed 1 pages for database 'EmployeDB', file 'EmployeDB_log' on file 1."
                    },
                    "metadata": {}
                },
                {
                    "output_type": "display_data",
                    "data": {
                        "text/html": "BACKUP DATABASE successfully processed 521 pages in 0.252 seconds (16.126 MB/sec)."
                    },
                    "metadata": {}
                },
                {
                    "output_type": "display_data",
                    "data": {
                        "text/html": "Total execution time: 00:00:00.630"
                    },
                    "metadata": {}
                }
            ],
            "execution_count": 11
        },
        {
            "cell_type": "code",
            "source": [
                "USE  EmployeDB;"
            ],
            "metadata": {
                "azdata_cell_guid": "2097d443-3dfb-47fa-8a9e-a391e29dd360",
                "language": "sql"
            },
            "outputs": [
                {
                    "output_type": "display_data",
                    "data": {
                        "text/html": "Commands completed successfully."
                    },
                    "metadata": {}
                },
                {
                    "output_type": "display_data",
                    "data": {
                        "text/html": "Total execution time: 00:00:00"
                    },
                    "metadata": {}
                }
            ],
            "execution_count": 47
        },
        {
            "cell_type": "markdown",
            "source": [
                "3.TABLE CREATION;"
            ],
            "metadata": {
                "azdata_cell_guid": "0175c7fe-c2c7-4dda-990a-d5fd75b3a5b1"
            },
            "attachments": {}
        },
        {
            "cell_type": "code",
            "source": [
                "CREATE TABLE EMPLOYE_DETAILS\r\n",
                "(\r\n",
                "    EID NUMERIC(4) PRIMARY KEY,\r\n",
                "    ENAME VARCHAR(15) NOT NULL,\r\n",
                "    JOB VARCHAR(15) NOT NULL,\r\n",
                "    PHONE_NO NUMERIC(10) UNIQUE,\r\n",
                "    AGE NUMERIC(2) NOT NULL CHECK(AGE>0),\r\n",
                "    SAL NUMERIC(5) CHECK(SAL>0),\r\n",
                "    MGR NUMERIC(4)\r\n",
                ");"
            ],
            "metadata": {
                "azdata_cell_guid": "4d7a5fbc-61ff-42fe-ab5a-20471d047348",
                "language": "sql",
                "tags": []
            },
            "outputs": [
                {
                    "output_type": "error",
                    "ename": "",
                    "evalue": "Msg 2714, Level 16, State 6, Line 1\r\nThere is already an object named 'EMPLOYE_DETAILS' in the database.",
                    "traceback": []
                },
                {
                    "output_type": "display_data",
                    "data": {
                        "text/html": "Total execution time: 00:00:00.006"
                    },
                    "metadata": {}
                }
            ],
            "execution_count": 48
        },
        {
            "cell_type": "markdown",
            "source": [
                "4.DROP COLUMN;"
            ],
            "metadata": {
                "azdata_cell_guid": "f3f6d59b-a38a-4ace-8ab6-9f73b444b167"
            },
            "attachments": {}
        },
        {
            "cell_type": "code",
            "source": [
                "ALTER TABLE EMPLOYE_DETAILS\r\n",
                "DROP COLUMN MGR ;"
            ],
            "metadata": {
                "azdata_cell_guid": "fe88f179-1905-4413-987f-75d7a1ce8d71",
                "language": "sql"
            },
            "outputs": [
                {
                    "output_type": "display_data",
                    "data": {
                        "text/html": "Commands completed successfully."
                    },
                    "metadata": {}
                },
                {
                    "output_type": "display_data",
                    "data": {
                        "text/html": "Total execution time: 00:00:00.009"
                    },
                    "metadata": {}
                }
            ],
            "execution_count": 49
        },
        {
            "cell_type": "markdown",
            "source": [
                "INSERT THE VALUES;"
            ],
            "metadata": {
                "azdata_cell_guid": "c4b29932-e7b6-48a2-bd6f-9065d39af799"
            },
            "attachments": {}
        },
        {
            "cell_type": "code",
            "source": [
                "INSERT INTO  EMPLOYE_DETAILS VALUES(1721,'ARUN','WEB DEVELOPER',9876543210,25,35000);\r\n",
                "INSERT INTO  EMPLOYE_DETAILS VALUES (1212,'VICKY','DATA ANALYST',9786534201,27,40000);\r\n",
                "INSERT INTO  EMPLOYE_DETAILS VALUES(1762,'AJAY','DATA SCIENTIET',8789321456,30,45000);\r\n",
                "INSERT INTO  EMPLOYE_DETAILS VALUES(1832,'SURYA','CLERK',6372456764,28,20000);\r\n",
                "INSERT INTO  EMPLOYE_DETAILS VALUES(1245,'VIJAY','WEB DEVELOPER',7367894567,27,25000);\r\n",
                "INSERT INTO  EMPLOYE_DETAILS VALUES(2121,'SANTHOSH','WEB DEVELOPER',9823543210,29,25000);\r\n",
                "INSERT INTO  EMPLOYE_DETAILS  VALUES (2212,'JEEVA','DATA ANALYST',9781534201,25,30000);\r\n",
                "INSERT INTO  EMPLOYE_DETAILS VALUES(3762,'TAMIL','DATA SCIENTIET',8780321456,34,25000);\r\n",
                "INSERT INTO  EMPLOYE_DETAILS VALUES(3832,'SANJAY','CLERK',6372556764,22,12000);\r\n",
                "INSERT INTO  EMPLOYE_DETAILS VALUES(3245,'MUTHU','WEB DEVELOPER',7361894567,36,25000);\r\n",
                "INSERT INTO  EMPLOYE_DETAILS  VALUES (4212,'PREM KUMAR','DATA ANALYST',9086534201,27,40000);\r\n",
                "INSERT INTO  EMPLOYE_DETAILS VALUES(4762,'CHANDRAN','DATA SCIENTIET',8789321406,30,45000);\r\n",
                "INSERT INTO  EMPLOYE_DETAILS VALUES(4832,'SHANKAR','CLERK',6372456064,28,20000);\r\n",
                "INSERT INTO  EMPLOYE_DETAILS VALUES( 5245,'DEEPAK','WEB DEVELOPER',7367894167,28,25000);"
            ],
            "metadata": {
                "azdata_cell_guid": "5a4e228f-b2b6-4b5e-922a-847d604bcccd",
                "language": "sql"
            },
            "outputs": [
                {
                    "output_type": "error",
                    "ename": "",
                    "evalue": "Msg 213, Level 16, State 1, Line 1\r\nColumn name or number of supplied values does not match table definition.",
                    "traceback": []
                },
                {
                    "output_type": "display_data",
                    "data": {
                        "text/html": "Total execution time: 00:00:00.002"
                    },
                    "metadata": {}
                }
            ],
            "execution_count": 50
        },
        {
            "cell_type": "code",
            "source": [
                "SELECT *\r\n",
                "FROM  EMPLOYE_DETAILS;"
            ],
            "metadata": {
                "azdata_cell_guid": "9195a45d-fcbc-441d-9358-5e47b562f247",
                "language": "sql"
            },
            "outputs": [
                {
                    "output_type": "display_data",
                    "data": {
                        "text/html": "(14 rows affected)"
                    },
                    "metadata": {}
                },
                {
                    "output_type": "display_data",
                    "data": {
                        "text/html": "Total execution time: 00:00:00.023"
                    },
                    "metadata": {}
                },
                {
                    "output_type": "execute_result",
                    "execution_count": 23,
                    "data": {
                        "application/vnd.dataresource+json": {
                            "schema": {
                                "fields": [
                                    {
                                        "name": "EID"
                                    },
                                    {
                                        "name": "ENAME"
                                    },
                                    {
                                        "name": "JOB"
                                    },
                                    {
                                        "name": "PHONE_NO"
                                    },
                                    {
                                        "name": "AGE"
                                    },
                                    {
                                        "name": "SAL"
                                    }
                                ]
                            },
                            "data": [
                                {
                                    "EID": "1212",
                                    "ENAME": "VICKY",
                                    "JOB": "DATA ANALYST",
                                    "PHONE_NO": "9786534201",
                                    "AGE": "27",
                                    "SAL": "40000"
                                },
                                {
                                    "EID": "1245",
                                    "ENAME": "VIJAY",
                                    "JOB": "WEB DEVELOPER",
                                    "PHONE_NO": "7367894567",
                                    "AGE": "27",
                                    "SAL": "25000"
                                },
                                {
                                    "EID": "1721",
                                    "ENAME": "ARUN",
                                    "JOB": "WEB DEVELOPER",
                                    "PHONE_NO": "9876543210",
                                    "AGE": "25",
                                    "SAL": "35000"
                                },
                                {
                                    "EID": "1762",
                                    "ENAME": "AJAY",
                                    "JOB": "DATA SCIENTIET",
                                    "PHONE_NO": "8789321456",
                                    "AGE": "30",
                                    "SAL": "45000"
                                },
                                {
                                    "EID": "1832",
                                    "ENAME": "SURYA",
                                    "JOB": "CLERK",
                                    "PHONE_NO": "6372456764",
                                    "AGE": "28",
                                    "SAL": "20000"
                                },
                                {
                                    "EID": "2121",
                                    "ENAME": "SANTHOSH",
                                    "JOB": "WEB DEVELOPER",
                                    "PHONE_NO": "9823543210",
                                    "AGE": "29",
                                    "SAL": "25000"
                                },
                                {
                                    "EID": "2212",
                                    "ENAME": "JEEVA",
                                    "JOB": "DATA ANALYST",
                                    "PHONE_NO": "9781534201",
                                    "AGE": "25",
                                    "SAL": "30000"
                                },
                                {
                                    "EID": "3245",
                                    "ENAME": "MUTHU",
                                    "JOB": "WEB DEVELOPER",
                                    "PHONE_NO": "7361894567",
                                    "AGE": "36",
                                    "SAL": "25000"
                                },
                                {
                                    "EID": "3762",
                                    "ENAME": "TAMIL",
                                    "JOB": "DATA SCIENTIET",
                                    "PHONE_NO": "8780321456",
                                    "AGE": "34",
                                    "SAL": "25000"
                                },
                                {
                                    "EID": "3832",
                                    "ENAME": "SANJAY",
                                    "JOB": "CLERK",
                                    "PHONE_NO": "6372556764",
                                    "AGE": "22",
                                    "SAL": "12000"
                                },
                                {
                                    "EID": "4212",
                                    "ENAME": "PREM KUMAR",
                                    "JOB": "DATA ANALYST",
                                    "PHONE_NO": "9086534201",
                                    "AGE": "27",
                                    "SAL": "40000"
                                },
                                {
                                    "EID": "4762",
                                    "ENAME": "CHANDRAN",
                                    "JOB": "DATA SCIENTIET",
                                    "PHONE_NO": "8789321406",
                                    "AGE": "30",
                                    "SAL": "45000"
                                },
                                {
                                    "EID": "4832",
                                    "ENAME": "SHANKAR",
                                    "JOB": "CLERK",
                                    "PHONE_NO": "6372456064",
                                    "AGE": "28",
                                    "SAL": "20000"
                                },
                                {
                                    "EID": "5245",
                                    "ENAME": "DEEPAK",
                                    "JOB": "WEB DEVELOPER",
                                    "PHONE_NO": "7367894167",
                                    "AGE": "28",
                                    "SAL": "25000"
                                }
                            ]
                        },
                        "text/html": "<table><tr><th>EID</th><th>ENAME</th><th>JOB</th><th>PHONE_NO</th><th>AGE</th><th>SAL</th></tr><tr><td>1212</td><td>VICKY</td><td>DATA ANALYST</td><td>9786534201</td><td>27</td><td>40000</td></tr><tr><td>1245</td><td>VIJAY</td><td>WEB DEVELOPER</td><td>7367894567</td><td>27</td><td>25000</td></tr><tr><td>1721</td><td>ARUN</td><td>WEB DEVELOPER</td><td>9876543210</td><td>25</td><td>35000</td></tr><tr><td>1762</td><td>AJAY</td><td>DATA SCIENTIET</td><td>8789321456</td><td>30</td><td>45000</td></tr><tr><td>1832</td><td>SURYA</td><td>CLERK</td><td>6372456764</td><td>28</td><td>20000</td></tr><tr><td>2121</td><td>SANTHOSH</td><td>WEB DEVELOPER</td><td>9823543210</td><td>29</td><td>25000</td></tr><tr><td>2212</td><td>JEEVA</td><td>DATA ANALYST</td><td>9781534201</td><td>25</td><td>30000</td></tr><tr><td>3245</td><td>MUTHU</td><td>WEB DEVELOPER</td><td>7361894567</td><td>36</td><td>25000</td></tr><tr><td>3762</td><td>TAMIL</td><td>DATA SCIENTIET</td><td>8780321456</td><td>34</td><td>25000</td></tr><tr><td>3832</td><td>SANJAY</td><td>CLERK</td><td>6372556764</td><td>22</td><td>12000</td></tr><tr><td>4212</td><td>PREM KUMAR</td><td>DATA ANALYST</td><td>9086534201</td><td>27</td><td>40000</td></tr><tr><td>4762</td><td>CHANDRAN</td><td>DATA SCIENTIET</td><td>8789321406</td><td>30</td><td>45000</td></tr><tr><td>4832</td><td>SHANKAR</td><td>CLERK</td><td>6372456064</td><td>28</td><td>20000</td></tr><tr><td>5245</td><td>DEEPAK</td><td>WEB DEVELOPER</td><td>7367894167</td><td>28</td><td>25000</td></tr></table>"
                    },
                    "metadata": {}
                }
            ],
            "execution_count": 23
        },
        {
            "cell_type": "markdown",
            "source": [
                "ADD COLUMN;"
            ],
            "metadata": {
                "azdata_cell_guid": "8028cae8-0f1e-41c2-a8dc-4ae3b7635255"
            },
            "attachments": {}
        },
        {
            "cell_type": "code",
            "source": [
                "ALTER TABLE  EMPLOYE_DETAILS\r\n",
                "ADD  HIREDATE DATE;"
            ],
            "metadata": {
                "azdata_cell_guid": "9336f855-96c0-4fdd-8cca-4455a1b3e9c1",
                "language": "sql"
            },
            "outputs": [
                {
                    "output_type": "display_data",
                    "data": {
                        "text/html": "Commands completed successfully."
                    },
                    "metadata": {}
                },
                {
                    "output_type": "display_data",
                    "data": {
                        "text/html": "Total execution time: 00:00:00.006"
                    },
                    "metadata": {}
                }
            ],
            "execution_count": 28
        },
        {
            "cell_type": "markdown",
            "source": [
                "UPDATE THE VALUES;"
            ],
            "metadata": {
                "azdata_cell_guid": "9ab42b1d-41f0-4a64-b1ec-c098da1f4d51"
            },
            "attachments": {}
        },
        {
            "cell_type": "code",
            "source": [
                "UPDATE  EMPLOYE_DETAILS\r\n",
                "SET HIREDATE='2019-08-20'\r\n",
                "WHERE ENAME='SURYA';"
            ],
            "metadata": {
                "azdata_cell_guid": "c0047954-a3ea-4877-9e56-2a5aeaf59b39",
                "language": "sql"
            },
            "outputs": [
                {
                    "output_type": "display_data",
                    "data": {
                        "text/html": "(1 row affected)"
                    },
                    "metadata": {}
                },
                {
                    "output_type": "display_data",
                    "data": {
                        "text/html": "Total execution time: 00:00:00.011"
                    },
                    "metadata": {}
                }
            ],
            "execution_count": 30
        },
        {
            "cell_type": "code",
            "source": [
                "UPDATE  EMPLOYE_DETAILS\r\n",
                "SET HIREDATE='2020-04-01'\r\n",
                "WHERE ENAME='VICKY';"
            ],
            "metadata": {
                "azdata_cell_guid": "b9109155-0205-4599-959a-e6bb82bcabb3",
                "language": "sql"
            },
            "outputs": [
                {
                    "output_type": "display_data",
                    "data": {
                        "text/html": "(1 row affected)"
                    },
                    "metadata": {}
                },
                {
                    "output_type": "display_data",
                    "data": {
                        "text/html": "Total execution time: 00:00:00.010"
                    },
                    "metadata": {}
                }
            ],
            "execution_count": 1
        },
        {
            "cell_type": "code",
            "source": [
                "UPDATE  EMPLOYE_DETAILS\r\n",
                "SET HIREDATE='2018-01-27'\r\n",
                "WHERE ENAME='VIJAY';"
            ],
            "metadata": {
                "azdata_cell_guid": "1f538575-a9d4-4c52-9ea5-5db52fba6a51",
                "language": "sql"
            },
            "outputs": [
                {
                    "output_type": "display_data",
                    "data": {
                        "text/html": "(1 row affected)"
                    },
                    "metadata": {}
                },
                {
                    "output_type": "display_data",
                    "data": {
                        "text/html": "Total execution time: 00:00:00.017"
                    },
                    "metadata": {}
                }
            ],
            "execution_count": 2
        },
        {
            "cell_type": "code",
            "source": [
                "UPDATE  EMPLOYE_DETAILS\r\n",
                "SET HIREDATE='2021-03-30'\r\n",
                "WHERE ENAME='ARUN';"
            ],
            "metadata": {
                "azdata_cell_guid": "5fa888ec-67b7-4eaf-be56-3fc7e695187d",
                "language": "sql"
            },
            "outputs": [
                {
                    "output_type": "display_data",
                    "data": {
                        "text/html": "(1 row affected)"
                    },
                    "metadata": {}
                },
                {
                    "output_type": "display_data",
                    "data": {
                        "text/html": "Total execution time: 00:00:00.021"
                    },
                    "metadata": {}
                }
            ],
            "execution_count": 3
        },
        {
            "cell_type": "code",
            "source": [
                "UPDATE  EMPLOYE_DETAILS\r\n",
                "SET HIREDATE='2019-08-20'\r\n",
                "WHERE ENAME='AJAY';"
            ],
            "metadata": {
                "azdata_cell_guid": "ca844a5c-348f-429f-933c-aa960548ceec",
                "language": "sql"
            },
            "outputs": [
                {
                    "output_type": "display_data",
                    "data": {
                        "text/html": "(1 row affected)"
                    },
                    "metadata": {}
                },
                {
                    "output_type": "display_data",
                    "data": {
                        "text/html": "Total execution time: 00:00:00.003"
                    },
                    "metadata": {}
                }
            ],
            "execution_count": 4
        },
        {
            "cell_type": "code",
            "source": [
                "UPDATE  EMPLOYE_DETAILS\r\n",
                "SET HIREDATE='2022-02-14'\r\n",
                "WHERE ENAME='SANTHOSH';"
            ],
            "metadata": {
                "azdata_cell_guid": "17b58fd2-b685-4c55-98b3-51db54024577",
                "language": "sql"
            },
            "outputs": [
                {
                    "output_type": "display_data",
                    "data": {
                        "text/html": "(1 row affected)"
                    },
                    "metadata": {}
                },
                {
                    "output_type": "display_data",
                    "data": {
                        "text/html": "Total execution time: 00:00:00.014"
                    },
                    "metadata": {}
                }
            ],
            "execution_count": 5
        },
        {
            "cell_type": "code",
            "source": [
                "UPDATE  EMPLOYE_DETAILS\r\n",
                "SET HIREDATE='2015-08-24'\r\n",
                "WHERE ENAME='JEEVA';"
            ],
            "metadata": {
                "azdata_cell_guid": "4732ac5f-e914-4efb-90b2-8858719cc8f9",
                "language": "sql"
            },
            "outputs": [
                {
                    "output_type": "display_data",
                    "data": {
                        "text/html": "(1 row affected)"
                    },
                    "metadata": {}
                },
                {
                    "output_type": "display_data",
                    "data": {
                        "text/html": "Total execution time: 00:00:00.006"
                    },
                    "metadata": {}
                }
            ],
            "execution_count": 6
        },
        {
            "cell_type": "code",
            "source": [
                "UPDATE  EMPLOYE_DETAILS\r\n",
                "SET HIREDATE='2016-06-20'\r\n",
                "WHERE ENAME='MUTHU';"
            ],
            "metadata": {
                "azdata_cell_guid": "8b2c4b9b-ad5e-43f6-b290-612f13d82373",
                "language": "sql"
            },
            "outputs": [
                {
                    "output_type": "display_data",
                    "data": {
                        "text/html": "(1 row affected)"
                    },
                    "metadata": {}
                },
                {
                    "output_type": "display_data",
                    "data": {
                        "text/html": "Total execution time: 00:00:00.004"
                    },
                    "metadata": {}
                }
            ],
            "execution_count": 7
        },
        {
            "cell_type": "code",
            "source": [
                "UPDATE  EMPLOYE_DETAILS\r\n",
                "SET HIREDATE='2015-08-24'\r\n",
                "WHERE ENAME='TAMIL';"
            ],
            "metadata": {
                "azdata_cell_guid": "06f33b16-3ba2-4d9a-bace-3aae97aeea51",
                "language": "sql"
            },
            "outputs": [
                {
                    "output_type": "display_data",
                    "data": {
                        "text/html": "(1 row affected)"
                    },
                    "metadata": {}
                },
                {
                    "output_type": "display_data",
                    "data": {
                        "text/html": "Total execution time: 00:00:00.008"
                    },
                    "metadata": {}
                }
            ],
            "execution_count": 8
        },
        {
            "cell_type": "code",
            "source": [
                "UPDATE  EMPLOYE_DETAILS\r\n",
                "SET HIREDATE='2019-06-11'\r\n",
                "WHERE ENAME='SANJAY';"
            ],
            "metadata": {
                "azdata_cell_guid": "f7308bb3-1ec5-401d-ab84-1432d2b2a708",
                "language": "sql"
            },
            "outputs": [
                {
                    "output_type": "display_data",
                    "data": {
                        "text/html": "(1 row affected)"
                    },
                    "metadata": {}
                },
                {
                    "output_type": "display_data",
                    "data": {
                        "text/html": "Total execution time: 00:00:00.016"
                    },
                    "metadata": {}
                }
            ],
            "execution_count": 9
        },
        {
            "cell_type": "code",
            "source": [
                "UPDATE  EMPLOYE_DETAILS\r\n",
                "SET HIREDATE='2023-04-20'\r\n",
                "WHERE ENAME='PREM KUMAR';"
            ],
            "metadata": {
                "azdata_cell_guid": "8d12c1c3-79fd-4886-8e24-724d486c1d03",
                "language": "sql"
            },
            "outputs": [
                {
                    "output_type": "display_data",
                    "data": {
                        "text/html": "(1 row affected)"
                    },
                    "metadata": {}
                },
                {
                    "output_type": "display_data",
                    "data": {
                        "text/html": "Total execution time: 00:00:00.015"
                    },
                    "metadata": {}
                }
            ],
            "execution_count": 10
        },
        {
            "cell_type": "code",
            "source": [
                "UPDATE  EMPLOYE_DETAILS\r\n",
                "SET HIREDATE='2017-11-27'\r\n",
                "WHERE ENAME='CHANDRAN';"
            ],
            "metadata": {
                "azdata_cell_guid": "87903a46-e9ec-4182-8b79-796b5c8aaaaf",
                "language": "sql"
            },
            "outputs": [
                {
                    "output_type": "display_data",
                    "data": {
                        "text/html": "(1 row affected)"
                    },
                    "metadata": {}
                },
                {
                    "output_type": "display_data",
                    "data": {
                        "text/html": "Total execution time: 00:00:00.011"
                    },
                    "metadata": {}
                }
            ],
            "execution_count": 11
        },
        {
            "cell_type": "code",
            "source": [
                "UPDATE  EMPLOYE_DETAILS\r\n",
                "SET HIREDATE='2013-10-15'\r\n",
                "WHERE ENAME='SHANKAR';"
            ],
            "metadata": {
                "azdata_cell_guid": "bd0e5c44-a07a-4d31-be45-17bb1645b8b5",
                "language": "sql"
            },
            "outputs": [
                {
                    "output_type": "display_data",
                    "data": {
                        "text/html": "(1 row affected)"
                    },
                    "metadata": {}
                },
                {
                    "output_type": "display_data",
                    "data": {
                        "text/html": "Total execution time: 00:00:00.011"
                    },
                    "metadata": {}
                }
            ],
            "execution_count": 12
        },
        {
            "cell_type": "code",
            "source": [
                "UPDATE  EMPLOYE_DETAILS\r\n",
                "SET HIREDATE='2014-11-08'\r\n",
                "WHERE ENAME='DEEPAK';"
            ],
            "metadata": {
                "azdata_cell_guid": "5abf297a-b7ad-4b6d-9bd2-7278350146e2",
                "language": "sql"
            },
            "outputs": [
                {
                    "output_type": "display_data",
                    "data": {
                        "text/html": "(1 row affected)"
                    },
                    "metadata": {}
                },
                {
                    "output_type": "display_data",
                    "data": {
                        "text/html": "Total execution time: 00:00:00.020"
                    },
                    "metadata": {}
                }
            ],
            "execution_count": 13
        },
        {
            "cell_type": "code",
            "source": [
                "SELECT *\r\n",
                "FROM EMPLOYE_DETAILS;"
            ],
            "metadata": {
                "azdata_cell_guid": "31eeef66-a1c1-417b-8f50-74ee51236007",
                "language": "sql"
            },
            "outputs": [
                {
                    "output_type": "display_data",
                    "data": {
                        "text/html": "(14 rows affected)"
                    },
                    "metadata": {}
                },
                {
                    "output_type": "display_data",
                    "data": {
                        "text/html": "Total execution time: 00:00:00.056"
                    },
                    "metadata": {}
                },
                {
                    "output_type": "execute_result",
                    "execution_count": 14,
                    "data": {
                        "application/vnd.dataresource+json": {
                            "schema": {
                                "fields": [
                                    {
                                        "name": "EID"
                                    },
                                    {
                                        "name": "ENAME"
                                    },
                                    {
                                        "name": "JOB"
                                    },
                                    {
                                        "name": "PHONE_NO"
                                    },
                                    {
                                        "name": "AGE"
                                    },
                                    {
                                        "name": "SAL"
                                    },
                                    {
                                        "name": "HIREDATE"
                                    }
                                ]
                            },
                            "data": [
                                {
                                    "EID": "1212",
                                    "ENAME": "VICKY",
                                    "JOB": "DATA ANALYST",
                                    "PHONE_NO": "9786534201",
                                    "AGE": "27",
                                    "SAL": "40000",
                                    "HIREDATE": "2020-04-01"
                                },
                                {
                                    "EID": "1245",
                                    "ENAME": "VIJAY",
                                    "JOB": "WEB DEVELOPER",
                                    "PHONE_NO": "7367894567",
                                    "AGE": "27",
                                    "SAL": "25000",
                                    "HIREDATE": "2018-01-27"
                                },
                                {
                                    "EID": "1721",
                                    "ENAME": "ARUN",
                                    "JOB": "WEB DEVELOPER",
                                    "PHONE_NO": "9876543210",
                                    "AGE": "25",
                                    "SAL": "35000",
                                    "HIREDATE": "2021-03-30"
                                },
                                {
                                    "EID": "1762",
                                    "ENAME": "AJAY",
                                    "JOB": "DATA SCIENTIET",
                                    "PHONE_NO": "8789321456",
                                    "AGE": "30",
                                    "SAL": "45000",
                                    "HIREDATE": "2019-08-20"
                                },
                                {
                                    "EID": "1832",
                                    "ENAME": "SURYA",
                                    "JOB": "CLERK",
                                    "PHONE_NO": "6372456764",
                                    "AGE": "28",
                                    "SAL": "20000",
                                    "HIREDATE": "2019-08-20"
                                },
                                {
                                    "EID": "2121",
                                    "ENAME": "SANTHOSH",
                                    "JOB": "WEB DEVELOPER",
                                    "PHONE_NO": "9823543210",
                                    "AGE": "29",
                                    "SAL": "25000",
                                    "HIREDATE": "2022-02-14"
                                },
                                {
                                    "EID": "2212",
                                    "ENAME": "JEEVA",
                                    "JOB": "DATA ANALYST",
                                    "PHONE_NO": "9781534201",
                                    "AGE": "25",
                                    "SAL": "30000",
                                    "HIREDATE": "2015-08-24"
                                },
                                {
                                    "EID": "3245",
                                    "ENAME": "MUTHU",
                                    "JOB": "WEB DEVELOPER",
                                    "PHONE_NO": "7361894567",
                                    "AGE": "36",
                                    "SAL": "25000",
                                    "HIREDATE": "2016-06-20"
                                },
                                {
                                    "EID": "3762",
                                    "ENAME": "TAMIL",
                                    "JOB": "DATA SCIENTIET",
                                    "PHONE_NO": "8780321456",
                                    "AGE": "34",
                                    "SAL": "25000",
                                    "HIREDATE": "2015-08-24"
                                },
                                {
                                    "EID": "3832",
                                    "ENAME": "SANJAY",
                                    "JOB": "CLERK",
                                    "PHONE_NO": "6372556764",
                                    "AGE": "22",
                                    "SAL": "12000",
                                    "HIREDATE": "2019-06-11"
                                },
                                {
                                    "EID": "4212",
                                    "ENAME": "PREM KUMAR",
                                    "JOB": "DATA ANALYST",
                                    "PHONE_NO": "9086534201",
                                    "AGE": "27",
                                    "SAL": "40000",
                                    "HIREDATE": "2023-04-20"
                                },
                                {
                                    "EID": "4762",
                                    "ENAME": "CHANDRAN",
                                    "JOB": "DATA SCIENTIET",
                                    "PHONE_NO": "8789321406",
                                    "AGE": "30",
                                    "SAL": "45000",
                                    "HIREDATE": "2017-11-27"
                                },
                                {
                                    "EID": "4832",
                                    "ENAME": "SHANKAR",
                                    "JOB": "CLERK",
                                    "PHONE_NO": "6372456064",
                                    "AGE": "28",
                                    "SAL": "20000",
                                    "HIREDATE": "2013-10-15"
                                },
                                {
                                    "EID": "5245",
                                    "ENAME": "DEEPAK",
                                    "JOB": "WEB DEVELOPER",
                                    "PHONE_NO": "7367894167",
                                    "AGE": "28",
                                    "SAL": "25000",
                                    "HIREDATE": "2014-11-08"
                                }
                            ]
                        },
                        "text/html": "<table><tr><th>EID</th><th>ENAME</th><th>JOB</th><th>PHONE_NO</th><th>AGE</th><th>SAL</th><th>HIREDATE</th></tr><tr><td>1212</td><td>VICKY</td><td>DATA ANALYST</td><td>9786534201</td><td>27</td><td>40000</td><td>2020-04-01</td></tr><tr><td>1245</td><td>VIJAY</td><td>WEB DEVELOPER</td><td>7367894567</td><td>27</td><td>25000</td><td>2018-01-27</td></tr><tr><td>1721</td><td>ARUN</td><td>WEB DEVELOPER</td><td>9876543210</td><td>25</td><td>35000</td><td>2021-03-30</td></tr><tr><td>1762</td><td>AJAY</td><td>DATA SCIENTIET</td><td>8789321456</td><td>30</td><td>45000</td><td>2019-08-20</td></tr><tr><td>1832</td><td>SURYA</td><td>CLERK</td><td>6372456764</td><td>28</td><td>20000</td><td>2019-08-20</td></tr><tr><td>2121</td><td>SANTHOSH</td><td>WEB DEVELOPER</td><td>9823543210</td><td>29</td><td>25000</td><td>2022-02-14</td></tr><tr><td>2212</td><td>JEEVA</td><td>DATA ANALYST</td><td>9781534201</td><td>25</td><td>30000</td><td>2015-08-24</td></tr><tr><td>3245</td><td>MUTHU</td><td>WEB DEVELOPER</td><td>7361894567</td><td>36</td><td>25000</td><td>2016-06-20</td></tr><tr><td>3762</td><td>TAMIL</td><td>DATA SCIENTIET</td><td>8780321456</td><td>34</td><td>25000</td><td>2015-08-24</td></tr><tr><td>3832</td><td>SANJAY</td><td>CLERK</td><td>6372556764</td><td>22</td><td>12000</td><td>2019-06-11</td></tr><tr><td>4212</td><td>PREM KUMAR</td><td>DATA ANALYST</td><td>9086534201</td><td>27</td><td>40000</td><td>2023-04-20</td></tr><tr><td>4762</td><td>CHANDRAN</td><td>DATA SCIENTIET</td><td>8789321406</td><td>30</td><td>45000</td><td>2017-11-27</td></tr><tr><td>4832</td><td>SHANKAR</td><td>CLERK</td><td>6372456064</td><td>28</td><td>20000</td><td>2013-10-15</td></tr><tr><td>5245</td><td>DEEPAK</td><td>WEB DEVELOPER</td><td>7367894167</td><td>28</td><td>25000</td><td>2014-11-08</td></tr></table>"
                    },
                    "metadata": {}
                }
            ],
            "execution_count": 14
        },
        {
            "cell_type": "markdown",
            "source": [
                "CREATE VIEWS\n",
                "\n",
                "NOTE;IF ANY CHANGES DONE IN VIEW IT AFFECT ORGINAL TABLE ALSO"
            ],
            "metadata": {
                "azdata_cell_guid": "449dce34-6b71-4ed0-bb0b-daf9243147f6"
            },
            "attachments": {}
        },
        {
            "cell_type": "code",
            "source": [
                "CREATE VIEW DATA_ANALYST AS\r\n",
                "SELECT *\r\n",
                "FROM EMPLOYE_DETAILS\r\n",
                "WHERE JOB='DATA ANALYST';"
            ],
            "metadata": {
                "azdata_cell_guid": "eb9afa79-c3f9-424c-bbb6-e473d5a776d8",
                "language": "sql"
            },
            "outputs": [
                {
                    "output_type": "display_data",
                    "data": {
                        "text/html": "Commands completed successfully."
                    },
                    "metadata": {}
                },
                {
                    "output_type": "display_data",
                    "data": {
                        "text/html": "Total execution time: 00:00:00.044"
                    },
                    "metadata": {}
                }
            ],
            "execution_count": 15
        },
        {
            "cell_type": "code",
            "source": [
                "SELECT *\r\n",
                "FROM DATA_ANALYST;"
            ],
            "metadata": {
                "azdata_cell_guid": "bdacac54-139f-4247-84d1-bd87541f2631",
                "language": "sql"
            },
            "outputs": [
                {
                    "output_type": "display_data",
                    "data": {
                        "text/html": "(3 rows affected)"
                    },
                    "metadata": {}
                },
                {
                    "output_type": "display_data",
                    "data": {
                        "text/html": "Total execution time: 00:00:00.022"
                    },
                    "metadata": {}
                },
                {
                    "output_type": "execute_result",
                    "execution_count": 17,
                    "data": {
                        "application/vnd.dataresource+json": {
                            "schema": {
                                "fields": [
                                    {
                                        "name": "EID"
                                    },
                                    {
                                        "name": "ENAME"
                                    },
                                    {
                                        "name": "JOB"
                                    },
                                    {
                                        "name": "PHONE_NO"
                                    },
                                    {
                                        "name": "AGE"
                                    },
                                    {
                                        "name": "SAL"
                                    },
                                    {
                                        "name": "HIREDATE"
                                    }
                                ]
                            },
                            "data": [
                                {
                                    "EID": "1212",
                                    "ENAME": "VICKY",
                                    "JOB": "DATA ANALYST",
                                    "PHONE_NO": "9786534201",
                                    "AGE": "27",
                                    "SAL": "40000",
                                    "HIREDATE": "2020-04-01"
                                },
                                {
                                    "EID": "2212",
                                    "ENAME": "JEEVA",
                                    "JOB": "DATA ANALYST",
                                    "PHONE_NO": "9781534201",
                                    "AGE": "25",
                                    "SAL": "30000",
                                    "HIREDATE": "2015-08-24"
                                },
                                {
                                    "EID": "4212",
                                    "ENAME": "PREM KUMAR",
                                    "JOB": "DATA ANALYST",
                                    "PHONE_NO": "9086534201",
                                    "AGE": "27",
                                    "SAL": "40000",
                                    "HIREDATE": "2023-04-20"
                                }
                            ]
                        },
                        "text/html": "<table><tr><th>EID</th><th>ENAME</th><th>JOB</th><th>PHONE_NO</th><th>AGE</th><th>SAL</th><th>HIREDATE</th></tr><tr><td>1212</td><td>VICKY</td><td>DATA ANALYST</td><td>9786534201</td><td>27</td><td>40000</td><td>2020-04-01</td></tr><tr><td>2212</td><td>JEEVA</td><td>DATA ANALYST</td><td>9781534201</td><td>25</td><td>30000</td><td>2015-08-24</td></tr><tr><td>4212</td><td>PREM KUMAR</td><td>DATA ANALYST</td><td>9086534201</td><td>27</td><td>40000</td><td>2023-04-20</td></tr></table>"
                    },
                    "metadata": {}
                }
            ],
            "execution_count": 17
        },
        {
            "cell_type": "code",
            "source": [
                "UPDATE DATA_ANALYST\r\n",
                "SET SAL=45000\r\n",
                "WHERE ENAME='VICKY';"
            ],
            "metadata": {
                "language": "sql",
                "azdata_cell_guid": "96ed6fc8-3fdc-46de-814b-9d099c9b133e"
            },
            "outputs": [
                {
                    "output_type": "display_data",
                    "data": {
                        "text/html": "(1 row affected)"
                    },
                    "metadata": {}
                },
                {
                    "output_type": "display_data",
                    "data": {
                        "text/html": "Total execution time: 00:00:00.005"
                    },
                    "metadata": {}
                }
            ],
            "execution_count": 17
        },
        {
            "cell_type": "code",
            "source": [
                "SELECT *\r\n",
                "FROM DATA_ANALYST;"
            ],
            "metadata": {
                "language": "sql",
                "azdata_cell_guid": "96859b22-3fd7-4b8b-9380-511ba142108c"
            },
            "outputs": [
                {
                    "output_type": "display_data",
                    "data": {
                        "text/html": "(3 rows affected)"
                    },
                    "metadata": {}
                },
                {
                    "output_type": "display_data",
                    "data": {
                        "text/html": "Total execution time: 00:00:00.008"
                    },
                    "metadata": {}
                },
                {
                    "output_type": "execute_result",
                    "execution_count": 19,
                    "data": {
                        "application/vnd.dataresource+json": {
                            "schema": {
                                "fields": [
                                    {
                                        "name": "EID"
                                    },
                                    {
                                        "name": "ENAME"
                                    },
                                    {
                                        "name": "JOB"
                                    },
                                    {
                                        "name": "PHONE_NO"
                                    },
                                    {
                                        "name": "AGE"
                                    },
                                    {
                                        "name": "SAL"
                                    },
                                    {
                                        "name": "HIREDATE"
                                    }
                                ]
                            },
                            "data": [
                                {
                                    "EID": "1212",
                                    "ENAME": "VICKY",
                                    "JOB": "DATA ANALYST",
                                    "PHONE_NO": "9786534201",
                                    "AGE": "27",
                                    "SAL": "45000",
                                    "HIREDATE": "2020-04-01"
                                },
                                {
                                    "EID": "2212",
                                    "ENAME": "JEEVA",
                                    "JOB": "DATA ANALYST",
                                    "PHONE_NO": "9781534201",
                                    "AGE": "25",
                                    "SAL": "30000",
                                    "HIREDATE": "2015-08-24"
                                },
                                {
                                    "EID": "4212",
                                    "ENAME": "PREM KUMAR",
                                    "JOB": "DATA ANALYST",
                                    "PHONE_NO": "9086534201",
                                    "AGE": "27",
                                    "SAL": "40000",
                                    "HIREDATE": "2023-04-20"
                                }
                            ]
                        },
                        "text/html": "<table><tr><th>EID</th><th>ENAME</th><th>JOB</th><th>PHONE_NO</th><th>AGE</th><th>SAL</th><th>HIREDATE</th></tr><tr><td>1212</td><td>VICKY</td><td>DATA ANALYST</td><td>9786534201</td><td>27</td><td>45000</td><td>2020-04-01</td></tr><tr><td>2212</td><td>JEEVA</td><td>DATA ANALYST</td><td>9781534201</td><td>25</td><td>30000</td><td>2015-08-24</td></tr><tr><td>4212</td><td>PREM KUMAR</td><td>DATA ANALYST</td><td>9086534201</td><td>27</td><td>40000</td><td>2023-04-20</td></tr></table>"
                    },
                    "metadata": {}
                }
            ],
            "execution_count": 19
        },
        {
            "cell_type": "code",
            "source": [
                "SELECT *\r\n",
                "FROM EMPLOYE_DETAILS;"
            ],
            "metadata": {
                "language": "sql",
                "azdata_cell_guid": "a8058610-9cac-4ff4-bbcc-f26fe95454de"
            },
            "outputs": [
                {
                    "output_type": "display_data",
                    "data": {
                        "text/html": "(14 rows affected)"
                    },
                    "metadata": {}
                },
                {
                    "output_type": "display_data",
                    "data": {
                        "text/html": "Total execution time: 00:00:00.008"
                    },
                    "metadata": {}
                },
                {
                    "output_type": "execute_result",
                    "execution_count": 20,
                    "data": {
                        "application/vnd.dataresource+json": {
                            "schema": {
                                "fields": [
                                    {
                                        "name": "EID"
                                    },
                                    {
                                        "name": "ENAME"
                                    },
                                    {
                                        "name": "JOB"
                                    },
                                    {
                                        "name": "PHONE_NO"
                                    },
                                    {
                                        "name": "AGE"
                                    },
                                    {
                                        "name": "SAL"
                                    },
                                    {
                                        "name": "HIREDATE"
                                    },
                                    {
                                        "name": "MID"
                                    }
                                ]
                            },
                            "data": [
                                {
                                    "EID": "1212",
                                    "ENAME": "VICKY",
                                    "JOB": "DATA ANALYST",
                                    "PHONE_NO": "9786534201",
                                    "AGE": "27",
                                    "SAL": "45000",
                                    "HIREDATE": "2020-04-01",
                                    "MID": "1122"
                                },
                                {
                                    "EID": "1245",
                                    "ENAME": "VIJAY",
                                    "JOB": "WEB DEVELOPER",
                                    "PHONE_NO": "7367894567",
                                    "AGE": "27",
                                    "SAL": "25000",
                                    "HIREDATE": "2018-01-27",
                                    "MID": "1123"
                                },
                                {
                                    "EID": "1721",
                                    "ENAME": "ARUN",
                                    "JOB": "WEB DEVELOPER",
                                    "PHONE_NO": "9876543210",
                                    "AGE": "25",
                                    "SAL": "35000",
                                    "HIREDATE": "2021-03-30",
                                    "MID": "1123"
                                },
                                {
                                    "EID": "1762",
                                    "ENAME": "AJAY",
                                    "JOB": "DATA SCIENTIET",
                                    "PHONE_NO": "8789321456",
                                    "AGE": "30",
                                    "SAL": "45000",
                                    "HIREDATE": "2019-08-20",
                                    "MID": "1124"
                                },
                                {
                                    "EID": "1832",
                                    "ENAME": "SURYA",
                                    "JOB": "CLERK",
                                    "PHONE_NO": "6372456764",
                                    "AGE": "28",
                                    "SAL": "20000",
                                    "HIREDATE": "2019-08-20",
                                    "MID": "NULL"
                                },
                                {
                                    "EID": "2121",
                                    "ENAME": "SANTHOSH",
                                    "JOB": "WEB DEVELOPER",
                                    "PHONE_NO": "9823543210",
                                    "AGE": "29",
                                    "SAL": "25000",
                                    "HIREDATE": "2022-02-14",
                                    "MID": "1123"
                                },
                                {
                                    "EID": "2212",
                                    "ENAME": "JEEVA",
                                    "JOB": "DATA ANALYST",
                                    "PHONE_NO": "9781534201",
                                    "AGE": "25",
                                    "SAL": "30000",
                                    "HIREDATE": "2015-08-24",
                                    "MID": "1122"
                                },
                                {
                                    "EID": "3245",
                                    "ENAME": "MUTHU",
                                    "JOB": "WEB DEVELOPER",
                                    "PHONE_NO": "7361894567",
                                    "AGE": "36",
                                    "SAL": "25000",
                                    "HIREDATE": "2016-06-20",
                                    "MID": "1123"
                                },
                                {
                                    "EID": "3762",
                                    "ENAME": "TAMIL",
                                    "JOB": "DATA SCIENTIET",
                                    "PHONE_NO": "8780321456",
                                    "AGE": "34",
                                    "SAL": "25000",
                                    "HIREDATE": "2015-08-24",
                                    "MID": "1124"
                                },
                                {
                                    "EID": "3832",
                                    "ENAME": "SANJAY",
                                    "JOB": "CLERK",
                                    "PHONE_NO": "6372556764",
                                    "AGE": "22",
                                    "SAL": "12000",
                                    "HIREDATE": "2019-06-11",
                                    "MID": "NULL"
                                },
                                {
                                    "EID": "4212",
                                    "ENAME": "PREM KUMAR",
                                    "JOB": "DATA ANALYST",
                                    "PHONE_NO": "9086534201",
                                    "AGE": "27",
                                    "SAL": "40000",
                                    "HIREDATE": "2023-04-20",
                                    "MID": "1122"
                                },
                                {
                                    "EID": "4762",
                                    "ENAME": "CHANDRAN",
                                    "JOB": "DATA SCIENTIET",
                                    "PHONE_NO": "8789321406",
                                    "AGE": "30",
                                    "SAL": "45000",
                                    "HIREDATE": "2017-11-27",
                                    "MID": "1124"
                                },
                                {
                                    "EID": "4832",
                                    "ENAME": "SHANKAR",
                                    "JOB": "CLERK",
                                    "PHONE_NO": "6372456064",
                                    "AGE": "28",
                                    "SAL": "20000",
                                    "HIREDATE": "2013-10-15",
                                    "MID": "NULL"
                                },
                                {
                                    "EID": "5245",
                                    "ENAME": "DEEPAK",
                                    "JOB": "WEB DEVELOPER",
                                    "PHONE_NO": "7367894167",
                                    "AGE": "28",
                                    "SAL": "25000",
                                    "HIREDATE": "2014-11-08",
                                    "MID": "1123"
                                }
                            ]
                        },
                        "text/html": "<table><tr><th>EID</th><th>ENAME</th><th>JOB</th><th>PHONE_NO</th><th>AGE</th><th>SAL</th><th>HIREDATE</th><th>MID</th></tr><tr><td>1212</td><td>VICKY</td><td>DATA ANALYST</td><td>9786534201</td><td>27</td><td>45000</td><td>2020-04-01</td><td>1122</td></tr><tr><td>1245</td><td>VIJAY</td><td>WEB DEVELOPER</td><td>7367894567</td><td>27</td><td>25000</td><td>2018-01-27</td><td>1123</td></tr><tr><td>1721</td><td>ARUN</td><td>WEB DEVELOPER</td><td>9876543210</td><td>25</td><td>35000</td><td>2021-03-30</td><td>1123</td></tr><tr><td>1762</td><td>AJAY</td><td>DATA SCIENTIET</td><td>8789321456</td><td>30</td><td>45000</td><td>2019-08-20</td><td>1124</td></tr><tr><td>1832</td><td>SURYA</td><td>CLERK</td><td>6372456764</td><td>28</td><td>20000</td><td>2019-08-20</td><td>NULL</td></tr><tr><td>2121</td><td>SANTHOSH</td><td>WEB DEVELOPER</td><td>9823543210</td><td>29</td><td>25000</td><td>2022-02-14</td><td>1123</td></tr><tr><td>2212</td><td>JEEVA</td><td>DATA ANALYST</td><td>9781534201</td><td>25</td><td>30000</td><td>2015-08-24</td><td>1122</td></tr><tr><td>3245</td><td>MUTHU</td><td>WEB DEVELOPER</td><td>7361894567</td><td>36</td><td>25000</td><td>2016-06-20</td><td>1123</td></tr><tr><td>3762</td><td>TAMIL</td><td>DATA SCIENTIET</td><td>8780321456</td><td>34</td><td>25000</td><td>2015-08-24</td><td>1124</td></tr><tr><td>3832</td><td>SANJAY</td><td>CLERK</td><td>6372556764</td><td>22</td><td>12000</td><td>2019-06-11</td><td>NULL</td></tr><tr><td>4212</td><td>PREM KUMAR</td><td>DATA ANALYST</td><td>9086534201</td><td>27</td><td>40000</td><td>2023-04-20</td><td>1122</td></tr><tr><td>4762</td><td>CHANDRAN</td><td>DATA SCIENTIET</td><td>8789321406</td><td>30</td><td>45000</td><td>2017-11-27</td><td>1124</td></tr><tr><td>4832</td><td>SHANKAR</td><td>CLERK</td><td>6372456064</td><td>28</td><td>20000</td><td>2013-10-15</td><td>NULL</td></tr><tr><td>5245</td><td>DEEPAK</td><td>WEB DEVELOPER</td><td>7367894167</td><td>28</td><td>25000</td><td>2014-11-08</td><td>1123</td></tr></table>"
                    },
                    "metadata": {}
                }
            ],
            "execution_count": 20
        },
        {
            "cell_type": "markdown",
            "source": [
                "MODIFY DATA TYPE;"
            ],
            "metadata": {
                "azdata_cell_guid": "ea3c02ba-ee3f-4463-97b6-b352ed7f2d5e"
            },
            "attachments": {}
        },
        {
            "cell_type": "code",
            "source": [
                "ALTER TABLE EMPLOYE_DETAILS\r\n",
                "ALTER COLUMN ENAME VARCHAR(20);"
            ],
            "metadata": {
                "azdata_cell_guid": "9d0184b7-b0b8-4264-9775-f06c31444085",
                "language": "sql"
            },
            "outputs": [
                {
                    "output_type": "display_data",
                    "data": {
                        "text/html": "Commands completed successfully."
                    },
                    "metadata": {}
                },
                {
                    "output_type": "display_data",
                    "data": {
                        "text/html": "Total execution time: 00:00:00.010"
                    },
                    "metadata": {}
                }
            ],
            "execution_count": 5
        },
        {
            "cell_type": "markdown",
            "source": [
                "SELECT DISTINCT;\n",
                "\n",
                "  <span style=\"color: rgb(0, 0, 0); font-family: Verdana, sans-serif; font-size: 15px; background-color: rgb(255, 255, 255);\">The&nbsp;</span> `SELECT DISTINCT` <span style=\"color: rgb(0, 0, 0); font-family: Verdana, sans-serif; font-size: 15px; background-color: rgb(255, 255, 255);\">&nbsp;statement is used to return only distinct (different) values.</span>"
            ],
            "metadata": {
                "azdata_cell_guid": "c3dd9f83-de2c-4c9b-b1d9-54cb0e301f3b"
            },
            "attachments": {}
        },
        {
            "cell_type": "code",
            "source": [
                "SELECT DISTINCT SAL, \r\n",
                "FROM EMPLOYE_DETAILS;"
            ],
            "metadata": {
                "azdata_cell_guid": "b279b08c-b910-450a-8ddf-797f095ec7c8",
                "language": "sql"
            },
            "outputs": [
                {
                    "output_type": "display_data",
                    "data": {
                        "text/html": "(7 rows affected)"
                    },
                    "metadata": {}
                },
                {
                    "output_type": "display_data",
                    "data": {
                        "text/html": "Total execution time: 00:00:00.070"
                    },
                    "metadata": {}
                },
                {
                    "output_type": "execute_result",
                    "execution_count": 1,
                    "data": {
                        "application/vnd.dataresource+json": {
                            "schema": {
                                "fields": [
                                    {
                                        "name": "SAL"
                                    }
                                ]
                            },
                            "data": [
                                {
                                    "SAL": "12000"
                                },
                                {
                                    "SAL": "20000"
                                },
                                {
                                    "SAL": "25000"
                                },
                                {
                                    "SAL": "30000"
                                },
                                {
                                    "SAL": "35000"
                                },
                                {
                                    "SAL": "40000"
                                },
                                {
                                    "SAL": "45000"
                                }
                            ]
                        },
                        "text/html": "<table><tr><th>SAL</th></tr><tr><td>12000</td></tr><tr><td>20000</td></tr><tr><td>25000</td></tr><tr><td>30000</td></tr><tr><td>35000</td></tr><tr><td>40000</td></tr><tr><td>45000</td></tr></table>"
                    },
                    "metadata": {}
                }
            ],
            "execution_count": 1
        },
        {
            "cell_type": "markdown",
            "source": [
                "WHERE=\\>USED TO FILTER THE RECORDS;"
            ],
            "metadata": {
                "azdata_cell_guid": "e1262614-a14c-4a0c-8a05-e0646bb0298a"
            },
            "attachments": {}
        },
        {
            "cell_type": "markdown",
            "source": [
                "TO GET EMPLOYE NAMES WHO EARNING MORE THAN 25000;"
            ],
            "metadata": {
                "azdata_cell_guid": "3208686f-a6f2-4ff7-9a0c-9532efb46901"
            },
            "attachments": {}
        },
        {
            "cell_type": "code",
            "source": [
                "SELECT ENAME \r\n",
                "FROM EMPLOYE_DETAILS\r\n",
                "WHERE SAL>25000;"
            ],
            "metadata": {
                "azdata_cell_guid": "6113c51a-64a0-44e3-829c-048bbce99828",
                "language": "sql"
            },
            "outputs": [
                {
                    "output_type": "display_data",
                    "data": {
                        "text/html": "(6 rows affected)"
                    },
                    "metadata": {}
                },
                {
                    "output_type": "display_data",
                    "data": {
                        "text/html": "Total execution time: 00:00:00.032"
                    },
                    "metadata": {}
                },
                {
                    "output_type": "execute_result",
                    "execution_count": 2,
                    "data": {
                        "application/vnd.dataresource+json": {
                            "schema": {
                                "fields": [
                                    {
                                        "name": "ENAME"
                                    }
                                ]
                            },
                            "data": [
                                {
                                    "ENAME": "VICKY"
                                },
                                {
                                    "ENAME": "ARUN"
                                },
                                {
                                    "ENAME": "AJAY"
                                },
                                {
                                    "ENAME": "JEEVA"
                                },
                                {
                                    "ENAME": "PREM KUMAR"
                                },
                                {
                                    "ENAME": "CHANDRAN"
                                }
                            ]
                        },
                        "text/html": "<table><tr><th>ENAME</th></tr><tr><td>VICKY</td></tr><tr><td>ARUN</td></tr><tr><td>AJAY</td></tr><tr><td>JEEVA</td></tr><tr><td>PREM KUMAR</td></tr><tr><td>CHANDRAN</td></tr></table>"
                    },
                    "metadata": {}
                }
            ],
            "execution_count": 2
        },
        {
            "cell_type": "code",
            "source": [
                "TO GET EMPLOYE DETAILS WHO HIRED AFTER 2016;"
            ],
            "metadata": {
                "language": "sql",
                "azdata_cell_guid": "39a832fe-35c4-4696-95e0-aea47cceda12"
            },
            "outputs": [],
            "execution_count": null
        },
        {
            "cell_type": "code",
            "source": [
                "SELECT *\r\n",
                "FROM EMPLOYE_DETAILS\r\n",
                "WHERE HIREDATE>'2016-12-31';"
            ],
            "metadata": {
                "azdata_cell_guid": "69de8e67-84a2-4961-9eaa-9f871bccb287",
                "language": "sql"
            },
            "outputs": [
                {
                    "output_type": "display_data",
                    "data": {
                        "text/html": "(9 rows affected)"
                    },
                    "metadata": {}
                },
                {
                    "output_type": "display_data",
                    "data": {
                        "text/html": "Total execution time: 00:00:00.025"
                    },
                    "metadata": {}
                },
                {
                    "output_type": "execute_result",
                    "execution_count": 3,
                    "data": {
                        "application/vnd.dataresource+json": {
                            "schema": {
                                "fields": [
                                    {
                                        "name": "EID"
                                    },
                                    {
                                        "name": "ENAME"
                                    },
                                    {
                                        "name": "JOB"
                                    },
                                    {
                                        "name": "PHONE_NO"
                                    },
                                    {
                                        "name": "AGE"
                                    },
                                    {
                                        "name": "SAL"
                                    },
                                    {
                                        "name": "HIREDATE"
                                    }
                                ]
                            },
                            "data": [
                                {
                                    "EID": "1212",
                                    "ENAME": "VICKY",
                                    "JOB": "DATA ANALYST",
                                    "PHONE_NO": "9786534201",
                                    "AGE": "27",
                                    "SAL": "40000",
                                    "HIREDATE": "2020-04-01"
                                },
                                {
                                    "EID": "1245",
                                    "ENAME": "VIJAY",
                                    "JOB": "WEB DEVELOPER",
                                    "PHONE_NO": "7367894567",
                                    "AGE": "27",
                                    "SAL": "25000",
                                    "HIREDATE": "2018-01-27"
                                },
                                {
                                    "EID": "1721",
                                    "ENAME": "ARUN",
                                    "JOB": "WEB DEVELOPER",
                                    "PHONE_NO": "9876543210",
                                    "AGE": "25",
                                    "SAL": "35000",
                                    "HIREDATE": "2021-03-30"
                                },
                                {
                                    "EID": "1762",
                                    "ENAME": "AJAY",
                                    "JOB": "DATA SCIENTIET",
                                    "PHONE_NO": "8789321456",
                                    "AGE": "30",
                                    "SAL": "45000",
                                    "HIREDATE": "2019-08-20"
                                },
                                {
                                    "EID": "1832",
                                    "ENAME": "SURYA",
                                    "JOB": "CLERK",
                                    "PHONE_NO": "6372456764",
                                    "AGE": "28",
                                    "SAL": "20000",
                                    "HIREDATE": "2019-08-20"
                                },
                                {
                                    "EID": "2121",
                                    "ENAME": "SANTHOSH",
                                    "JOB": "WEB DEVELOPER",
                                    "PHONE_NO": "9823543210",
                                    "AGE": "29",
                                    "SAL": "25000",
                                    "HIREDATE": "2022-02-14"
                                },
                                {
                                    "EID": "3832",
                                    "ENAME": "SANJAY",
                                    "JOB": "CLERK",
                                    "PHONE_NO": "6372556764",
                                    "AGE": "22",
                                    "SAL": "12000",
                                    "HIREDATE": "2019-06-11"
                                },
                                {
                                    "EID": "4212",
                                    "ENAME": "PREM KUMAR",
                                    "JOB": "DATA ANALYST",
                                    "PHONE_NO": "9086534201",
                                    "AGE": "27",
                                    "SAL": "40000",
                                    "HIREDATE": "2023-04-20"
                                },
                                {
                                    "EID": "4762",
                                    "ENAME": "CHANDRAN",
                                    "JOB": "DATA SCIENTIET",
                                    "PHONE_NO": "8789321406",
                                    "AGE": "30",
                                    "SAL": "45000",
                                    "HIREDATE": "2017-11-27"
                                }
                            ]
                        },
                        "text/html": "<table><tr><th>EID</th><th>ENAME</th><th>JOB</th><th>PHONE_NO</th><th>AGE</th><th>SAL</th><th>HIREDATE</th></tr><tr><td>1212</td><td>VICKY</td><td>DATA ANALYST</td><td>9786534201</td><td>27</td><td>40000</td><td>2020-04-01</td></tr><tr><td>1245</td><td>VIJAY</td><td>WEB DEVELOPER</td><td>7367894567</td><td>27</td><td>25000</td><td>2018-01-27</td></tr><tr><td>1721</td><td>ARUN</td><td>WEB DEVELOPER</td><td>9876543210</td><td>25</td><td>35000</td><td>2021-03-30</td></tr><tr><td>1762</td><td>AJAY</td><td>DATA SCIENTIET</td><td>8789321456</td><td>30</td><td>45000</td><td>2019-08-20</td></tr><tr><td>1832</td><td>SURYA</td><td>CLERK</td><td>6372456764</td><td>28</td><td>20000</td><td>2019-08-20</td></tr><tr><td>2121</td><td>SANTHOSH</td><td>WEB DEVELOPER</td><td>9823543210</td><td>29</td><td>25000</td><td>2022-02-14</td></tr><tr><td>3832</td><td>SANJAY</td><td>CLERK</td><td>6372556764</td><td>22</td><td>12000</td><td>2019-06-11</td></tr><tr><td>4212</td><td>PREM KUMAR</td><td>DATA ANALYST</td><td>9086534201</td><td>27</td><td>40000</td><td>2023-04-20</td></tr><tr><td>4762</td><td>CHANDRAN</td><td>DATA SCIENTIET</td><td>8789321406</td><td>30</td><td>45000</td><td>2017-11-27</td></tr></table>"
                    },
                    "metadata": {}
                }
            ],
            "execution_count": 3
        },
        {
            "cell_type": "markdown",
            "source": [
                "AND;\n",
                "\n",
                "  <span style=\"background-color: rgb(255, 255, 255); color: rgb(0, 0, 0); font-family: Verdana, sans-serif; font-size: 15px;\">The</span> `AND` <span style=\"background-color: rgb(255, 255, 255); color: rgb(0, 0, 0); font-family: Verdana, sans-serif; font-size: 15px;\">operator are used to filter records based on more than one condition:</span>\n",
                "\n",
                "- The `AND` operator displays a record if all the conditions separated by `AND` are TRUE"
            ],
            "metadata": {
                "azdata_cell_guid": "a046b447-adfb-497e-a595-4eb91bf34fdd"
            },
            "attachments": {}
        },
        {
            "cell_type": "code",
            "source": [
                "-- To get employee details whose salary is greater than 35000 and working as web developer\r\n",
                "SELECT *\r\n",
                "FROM EMPLOYE_DETAILS\r\n",
                "WHERE JOB='WEB DEVELOPER' AND SAL=35000;"
            ],
            "metadata": {
                "azdata_cell_guid": "7ad37974-5fe7-41b8-ac4e-f97cf3ef84ad",
                "language": "sql"
            },
            "outputs": [
                {
                    "output_type": "display_data",
                    "data": {
                        "text/html": "(1 row affected)"
                    },
                    "metadata": {}
                },
                {
                    "output_type": "display_data",
                    "data": {
                        "text/html": "Total execution time: 00:00:00.069"
                    },
                    "metadata": {}
                },
                {
                    "output_type": "execute_result",
                    "execution_count": 1,
                    "data": {
                        "application/vnd.dataresource+json": {
                            "schema": {
                                "fields": [
                                    {
                                        "name": "EID"
                                    },
                                    {
                                        "name": "ENAME"
                                    },
                                    {
                                        "name": "JOB"
                                    },
                                    {
                                        "name": "PHONE_NO"
                                    },
                                    {
                                        "name": "AGE"
                                    },
                                    {
                                        "name": "SAL"
                                    },
                                    {
                                        "name": "HIREDATE"
                                    }
                                ]
                            },
                            "data": [
                                {
                                    "EID": "1721",
                                    "ENAME": "ARUN",
                                    "JOB": "WEB DEVELOPER",
                                    "PHONE_NO": "9876543210",
                                    "AGE": "25",
                                    "SAL": "35000",
                                    "HIREDATE": "2021-03-30"
                                }
                            ]
                        },
                        "text/html": "<table><tr><th>EID</th><th>ENAME</th><th>JOB</th><th>PHONE_NO</th><th>AGE</th><th>SAL</th><th>HIREDATE</th></tr><tr><td>1721</td><td>ARUN</td><td>WEB DEVELOPER</td><td>9876543210</td><td>25</td><td>35000</td><td>2021-03-30</td></tr></table>"
                    },
                    "metadata": {}
                }
            ],
            "execution_count": 1
        },
        {
            "cell_type": "markdown",
            "source": [
                "OR;\n",
                "\n",
                "The `OR` operators are used to filter records based on more than one condition\n",
                "\n",
                "- The `OR` operator displays a record if any of the conditions separated by `OR` is TRUE."
            ],
            "metadata": {
                "azdata_cell_guid": "0b21548d-6c8c-456f-a523-1d4443d87d83"
            },
            "attachments": {}
        },
        {
            "cell_type": "code",
            "source": [
                "-- To get employe details whose age is 27 or working as a clerk\r\n",
                "SELECT *\r\n",
                "FROM EMPLOYE_DETAILS\r\n",
                "WHERE AGE=27 OR JOB='CLERK';"
            ],
            "metadata": {
                "azdata_cell_guid": "2893c668-4ba8-40af-a360-8cf26e15fafe",
                "language": "sql"
            },
            "outputs": [
                {
                    "output_type": "display_data",
                    "data": {
                        "text/html": "(6 rows affected)"
                    },
                    "metadata": {}
                },
                {
                    "output_type": "display_data",
                    "data": {
                        "text/html": "Total execution time: 00:00:00.015"
                    },
                    "metadata": {}
                },
                {
                    "output_type": "execute_result",
                    "execution_count": 3,
                    "data": {
                        "application/vnd.dataresource+json": {
                            "schema": {
                                "fields": [
                                    {
                                        "name": "EID"
                                    },
                                    {
                                        "name": "ENAME"
                                    },
                                    {
                                        "name": "JOB"
                                    },
                                    {
                                        "name": "PHONE_NO"
                                    },
                                    {
                                        "name": "AGE"
                                    },
                                    {
                                        "name": "SAL"
                                    },
                                    {
                                        "name": "HIREDATE"
                                    }
                                ]
                            },
                            "data": [
                                {
                                    "EID": "1212",
                                    "ENAME": "VICKY",
                                    "JOB": "DATA ANALYST",
                                    "PHONE_NO": "9786534201",
                                    "AGE": "27",
                                    "SAL": "40000",
                                    "HIREDATE": "2020-04-01"
                                },
                                {
                                    "EID": "1245",
                                    "ENAME": "VIJAY",
                                    "JOB": "WEB DEVELOPER",
                                    "PHONE_NO": "7367894567",
                                    "AGE": "27",
                                    "SAL": "25000",
                                    "HIREDATE": "2018-01-27"
                                },
                                {
                                    "EID": "1832",
                                    "ENAME": "SURYA",
                                    "JOB": "CLERK",
                                    "PHONE_NO": "6372456764",
                                    "AGE": "28",
                                    "SAL": "20000",
                                    "HIREDATE": "2019-08-20"
                                },
                                {
                                    "EID": "3832",
                                    "ENAME": "SANJAY",
                                    "JOB": "CLERK",
                                    "PHONE_NO": "6372556764",
                                    "AGE": "22",
                                    "SAL": "12000",
                                    "HIREDATE": "2019-06-11"
                                },
                                {
                                    "EID": "4212",
                                    "ENAME": "PREM KUMAR",
                                    "JOB": "DATA ANALYST",
                                    "PHONE_NO": "9086534201",
                                    "AGE": "27",
                                    "SAL": "40000",
                                    "HIREDATE": "2023-04-20"
                                },
                                {
                                    "EID": "4832",
                                    "ENAME": "SHANKAR",
                                    "JOB": "CLERK",
                                    "PHONE_NO": "6372456064",
                                    "AGE": "28",
                                    "SAL": "20000",
                                    "HIREDATE": "2013-10-15"
                                }
                            ]
                        },
                        "text/html": "<table><tr><th>EID</th><th>ENAME</th><th>JOB</th><th>PHONE_NO</th><th>AGE</th><th>SAL</th><th>HIREDATE</th></tr><tr><td>1212</td><td>VICKY</td><td>DATA ANALYST</td><td>9786534201</td><td>27</td><td>40000</td><td>2020-04-01</td></tr><tr><td>1245</td><td>VIJAY</td><td>WEB DEVELOPER</td><td>7367894567</td><td>27</td><td>25000</td><td>2018-01-27</td></tr><tr><td>1832</td><td>SURYA</td><td>CLERK</td><td>6372456764</td><td>28</td><td>20000</td><td>2019-08-20</td></tr><tr><td>3832</td><td>SANJAY</td><td>CLERK</td><td>6372556764</td><td>22</td><td>12000</td><td>2019-06-11</td></tr><tr><td>4212</td><td>PREM KUMAR</td><td>DATA ANALYST</td><td>9086534201</td><td>27</td><td>40000</td><td>2023-04-20</td></tr><tr><td>4832</td><td>SHANKAR</td><td>CLERK</td><td>6372456064</td><td>28</td><td>20000</td><td>2013-10-15</td></tr></table>"
                    },
                    "metadata": {}
                }
            ],
            "execution_count": 3
        },
        {
            "cell_type": "markdown",
            "source": [
                "NOT;\n",
                "\n",
                "<span style=\"color: rgb(0, 0, 0); font-family: Verdana, sans-serif; font-size: 15px; background-color: rgb(255, 255, 255);\">The&nbsp;</span> `NOT` <span style=\"color: rgb(0, 0, 0); font-family: Verdana, sans-serif; font-size: 15px; background-color: rgb(255, 255, 255);\">&nbsp;operator displays a record if the condition(s) is NOT TRUE.</span>"
            ],
            "metadata": {
                "azdata_cell_guid": "752759b3-69fe-40c4-b9f9-8c596052564f"
            },
            "attachments": {}
        },
        {
            "cell_type": "code",
            "source": [
                "-- To get employe details who are not working as a data Analyst  \r\n",
                "SELECT *\r\n",
                "FROM EMPLOYE_DETAILS\r\n",
                "WHERE NOT JOB='DATA ANALYST';"
            ],
            "metadata": {
                "azdata_cell_guid": "1c925cc1-0c1a-49b7-98f3-8d78b0ec415e",
                "language": "sql"
            },
            "outputs": [
                {
                    "output_type": "display_data",
                    "data": {
                        "text/html": "(11 rows affected)"
                    },
                    "metadata": {}
                },
                {
                    "output_type": "display_data",
                    "data": {
                        "text/html": "Total execution time: 00:00:00.025"
                    },
                    "metadata": {}
                },
                {
                    "output_type": "execute_result",
                    "execution_count": 4,
                    "data": {
                        "application/vnd.dataresource+json": {
                            "schema": {
                                "fields": [
                                    {
                                        "name": "EID"
                                    },
                                    {
                                        "name": "ENAME"
                                    },
                                    {
                                        "name": "JOB"
                                    },
                                    {
                                        "name": "PHONE_NO"
                                    },
                                    {
                                        "name": "AGE"
                                    },
                                    {
                                        "name": "SAL"
                                    },
                                    {
                                        "name": "HIREDATE"
                                    }
                                ]
                            },
                            "data": [
                                {
                                    "EID": "1245",
                                    "ENAME": "VIJAY",
                                    "JOB": "WEB DEVELOPER",
                                    "PHONE_NO": "7367894567",
                                    "AGE": "27",
                                    "SAL": "25000",
                                    "HIREDATE": "2018-01-27"
                                },
                                {
                                    "EID": "1721",
                                    "ENAME": "ARUN",
                                    "JOB": "WEB DEVELOPER",
                                    "PHONE_NO": "9876543210",
                                    "AGE": "25",
                                    "SAL": "35000",
                                    "HIREDATE": "2021-03-30"
                                },
                                {
                                    "EID": "1762",
                                    "ENAME": "AJAY",
                                    "JOB": "DATA SCIENTIET",
                                    "PHONE_NO": "8789321456",
                                    "AGE": "30",
                                    "SAL": "45000",
                                    "HIREDATE": "2019-08-20"
                                },
                                {
                                    "EID": "1832",
                                    "ENAME": "SURYA",
                                    "JOB": "CLERK",
                                    "PHONE_NO": "6372456764",
                                    "AGE": "28",
                                    "SAL": "20000",
                                    "HIREDATE": "2019-08-20"
                                },
                                {
                                    "EID": "2121",
                                    "ENAME": "SANTHOSH",
                                    "JOB": "WEB DEVELOPER",
                                    "PHONE_NO": "9823543210",
                                    "AGE": "29",
                                    "SAL": "25000",
                                    "HIREDATE": "2022-02-14"
                                },
                                {
                                    "EID": "3245",
                                    "ENAME": "MUTHU",
                                    "JOB": "WEB DEVELOPER",
                                    "PHONE_NO": "7361894567",
                                    "AGE": "36",
                                    "SAL": "25000",
                                    "HIREDATE": "2016-06-20"
                                },
                                {
                                    "EID": "3762",
                                    "ENAME": "TAMIL",
                                    "JOB": "DATA SCIENTIET",
                                    "PHONE_NO": "8780321456",
                                    "AGE": "34",
                                    "SAL": "25000",
                                    "HIREDATE": "2015-08-24"
                                },
                                {
                                    "EID": "3832",
                                    "ENAME": "SANJAY",
                                    "JOB": "CLERK",
                                    "PHONE_NO": "6372556764",
                                    "AGE": "22",
                                    "SAL": "12000",
                                    "HIREDATE": "2019-06-11"
                                },
                                {
                                    "EID": "4762",
                                    "ENAME": "CHANDRAN",
                                    "JOB": "DATA SCIENTIET",
                                    "PHONE_NO": "8789321406",
                                    "AGE": "30",
                                    "SAL": "45000",
                                    "HIREDATE": "2017-11-27"
                                },
                                {
                                    "EID": "4832",
                                    "ENAME": "SHANKAR",
                                    "JOB": "CLERK",
                                    "PHONE_NO": "6372456064",
                                    "AGE": "28",
                                    "SAL": "20000",
                                    "HIREDATE": "2013-10-15"
                                },
                                {
                                    "EID": "5245",
                                    "ENAME": "DEEPAK",
                                    "JOB": "WEB DEVELOPER",
                                    "PHONE_NO": "7367894167",
                                    "AGE": "28",
                                    "SAL": "25000",
                                    "HIREDATE": "2014-11-08"
                                }
                            ]
                        },
                        "text/html": "<table><tr><th>EID</th><th>ENAME</th><th>JOB</th><th>PHONE_NO</th><th>AGE</th><th>SAL</th><th>HIREDATE</th></tr><tr><td>1245</td><td>VIJAY</td><td>WEB DEVELOPER</td><td>7367894567</td><td>27</td><td>25000</td><td>2018-01-27</td></tr><tr><td>1721</td><td>ARUN</td><td>WEB DEVELOPER</td><td>9876543210</td><td>25</td><td>35000</td><td>2021-03-30</td></tr><tr><td>1762</td><td>AJAY</td><td>DATA SCIENTIET</td><td>8789321456</td><td>30</td><td>45000</td><td>2019-08-20</td></tr><tr><td>1832</td><td>SURYA</td><td>CLERK</td><td>6372456764</td><td>28</td><td>20000</td><td>2019-08-20</td></tr><tr><td>2121</td><td>SANTHOSH</td><td>WEB DEVELOPER</td><td>9823543210</td><td>29</td><td>25000</td><td>2022-02-14</td></tr><tr><td>3245</td><td>MUTHU</td><td>WEB DEVELOPER</td><td>7361894567</td><td>36</td><td>25000</td><td>2016-06-20</td></tr><tr><td>3762</td><td>TAMIL</td><td>DATA SCIENTIET</td><td>8780321456</td><td>34</td><td>25000</td><td>2015-08-24</td></tr><tr><td>3832</td><td>SANJAY</td><td>CLERK</td><td>6372556764</td><td>22</td><td>12000</td><td>2019-06-11</td></tr><tr><td>4762</td><td>CHANDRAN</td><td>DATA SCIENTIET</td><td>8789321406</td><td>30</td><td>45000</td><td>2017-11-27</td></tr><tr><td>4832</td><td>SHANKAR</td><td>CLERK</td><td>6372456064</td><td>28</td><td>20000</td><td>2013-10-15</td></tr><tr><td>5245</td><td>DEEPAK</td><td>WEB DEVELOPER</td><td>7367894167</td><td>28</td><td>25000</td><td>2014-11-08</td></tr></table>"
                    },
                    "metadata": {}
                }
            ],
            "execution_count": 4
        },
        {
            "cell_type": "markdown",
            "source": [
                "ORDER BY;\n",
                "\n",
                "The `ORDER BY` keyword is used to sort the result-set in ascending or descending order.\n",
                "\n",
                "The `ORDER BY` keyword sorts the records in ascending order by default. To sort the records in descending order, use the `DESC` keyword."
            ],
            "metadata": {
                "azdata_cell_guid": "f815e387-4f9b-47b2-9e37-265da99a75a5"
            },
            "attachments": {}
        },
        {
            "cell_type": "markdown",
            "source": [
                "ASCENDING ORDER;\n",
                "\n",
                "NOTE;WE CAN USE ORDER BY CLAUSE WITHOUT ASC WORD,BY DEFAULT IT WILL ARRANGE IN ASCENDING ORDER."
            ],
            "metadata": {
                "azdata_cell_guid": "dd0cb158-50eb-46d4-bf50-e1d7847b2f31"
            },
            "attachments": {}
        },
        {
            "cell_type": "code",
            "source": [
                "SELECT *\r\n",
                "FROM EMPLOYE_DETAILS\r\n",
                "ORDER BY ENAME ;\r\n",
                ""
            ],
            "metadata": {
                "azdata_cell_guid": "e1446af8-9749-48a4-83c6-43ddfc3f97f6",
                "language": "sql"
            },
            "outputs": [
                {
                    "output_type": "display_data",
                    "data": {
                        "text/html": "(14 rows affected)"
                    },
                    "metadata": {}
                },
                {
                    "output_type": "display_data",
                    "data": {
                        "text/html": "Total execution time: 00:00:00.016"
                    },
                    "metadata": {}
                },
                {
                    "output_type": "execute_result",
                    "execution_count": 10,
                    "data": {
                        "application/vnd.dataresource+json": {
                            "schema": {
                                "fields": [
                                    {
                                        "name": "EID"
                                    },
                                    {
                                        "name": "ENAME"
                                    },
                                    {
                                        "name": "JOB"
                                    },
                                    {
                                        "name": "PHONE_NO"
                                    },
                                    {
                                        "name": "AGE"
                                    },
                                    {
                                        "name": "SAL"
                                    },
                                    {
                                        "name": "HIREDATE"
                                    }
                                ]
                            },
                            "data": [
                                {
                                    "EID": "1762",
                                    "ENAME": "AJAY",
                                    "JOB": "DATA SCIENTIET",
                                    "PHONE_NO": "8789321456",
                                    "AGE": "30",
                                    "SAL": "45000",
                                    "HIREDATE": "2019-08-20"
                                },
                                {
                                    "EID": "1721",
                                    "ENAME": "ARUN",
                                    "JOB": "WEB DEVELOPER",
                                    "PHONE_NO": "9876543210",
                                    "AGE": "25",
                                    "SAL": "35000",
                                    "HIREDATE": "2021-03-30"
                                },
                                {
                                    "EID": "4762",
                                    "ENAME": "CHANDRAN",
                                    "JOB": "DATA SCIENTIET",
                                    "PHONE_NO": "8789321406",
                                    "AGE": "30",
                                    "SAL": "45000",
                                    "HIREDATE": "2017-11-27"
                                },
                                {
                                    "EID": "5245",
                                    "ENAME": "DEEPAK",
                                    "JOB": "WEB DEVELOPER",
                                    "PHONE_NO": "7367894167",
                                    "AGE": "28",
                                    "SAL": "25000",
                                    "HIREDATE": "2014-11-08"
                                },
                                {
                                    "EID": "2212",
                                    "ENAME": "JEEVA",
                                    "JOB": "DATA ANALYST",
                                    "PHONE_NO": "9781534201",
                                    "AGE": "25",
                                    "SAL": "30000",
                                    "HIREDATE": "2015-08-24"
                                },
                                {
                                    "EID": "3245",
                                    "ENAME": "MUTHU",
                                    "JOB": "WEB DEVELOPER",
                                    "PHONE_NO": "7361894567",
                                    "AGE": "36",
                                    "SAL": "25000",
                                    "HIREDATE": "2016-06-20"
                                },
                                {
                                    "EID": "4212",
                                    "ENAME": "PREM KUMAR",
                                    "JOB": "DATA ANALYST",
                                    "PHONE_NO": "9086534201",
                                    "AGE": "27",
                                    "SAL": "40000",
                                    "HIREDATE": "2023-04-20"
                                },
                                {
                                    "EID": "3832",
                                    "ENAME": "SANJAY",
                                    "JOB": "CLERK",
                                    "PHONE_NO": "6372556764",
                                    "AGE": "22",
                                    "SAL": "12000",
                                    "HIREDATE": "2019-06-11"
                                },
                                {
                                    "EID": "2121",
                                    "ENAME": "SANTHOSH",
                                    "JOB": "WEB DEVELOPER",
                                    "PHONE_NO": "9823543210",
                                    "AGE": "29",
                                    "SAL": "25000",
                                    "HIREDATE": "2022-02-14"
                                },
                                {
                                    "EID": "4832",
                                    "ENAME": "SHANKAR",
                                    "JOB": "CLERK",
                                    "PHONE_NO": "6372456064",
                                    "AGE": "28",
                                    "SAL": "20000",
                                    "HIREDATE": "2013-10-15"
                                },
                                {
                                    "EID": "1832",
                                    "ENAME": "SURYA",
                                    "JOB": "CLERK",
                                    "PHONE_NO": "6372456764",
                                    "AGE": "28",
                                    "SAL": "20000",
                                    "HIREDATE": "2019-08-20"
                                },
                                {
                                    "EID": "3762",
                                    "ENAME": "TAMIL",
                                    "JOB": "DATA SCIENTIET",
                                    "PHONE_NO": "8780321456",
                                    "AGE": "34",
                                    "SAL": "25000",
                                    "HIREDATE": "2015-08-24"
                                },
                                {
                                    "EID": "1212",
                                    "ENAME": "VICKY",
                                    "JOB": "DATA ANALYST",
                                    "PHONE_NO": "9786534201",
                                    "AGE": "27",
                                    "SAL": "40000",
                                    "HIREDATE": "2020-04-01"
                                },
                                {
                                    "EID": "1245",
                                    "ENAME": "VIJAY",
                                    "JOB": "WEB DEVELOPER",
                                    "PHONE_NO": "7367894567",
                                    "AGE": "27",
                                    "SAL": "25000",
                                    "HIREDATE": "2018-01-27"
                                }
                            ]
                        },
                        "text/html": "<table><tr><th>EID</th><th>ENAME</th><th>JOB</th><th>PHONE_NO</th><th>AGE</th><th>SAL</th><th>HIREDATE</th></tr><tr><td>1762</td><td>AJAY</td><td>DATA SCIENTIET</td><td>8789321456</td><td>30</td><td>45000</td><td>2019-08-20</td></tr><tr><td>1721</td><td>ARUN</td><td>WEB DEVELOPER</td><td>9876543210</td><td>25</td><td>35000</td><td>2021-03-30</td></tr><tr><td>4762</td><td>CHANDRAN</td><td>DATA SCIENTIET</td><td>8789321406</td><td>30</td><td>45000</td><td>2017-11-27</td></tr><tr><td>5245</td><td>DEEPAK</td><td>WEB DEVELOPER</td><td>7367894167</td><td>28</td><td>25000</td><td>2014-11-08</td></tr><tr><td>2212</td><td>JEEVA</td><td>DATA ANALYST</td><td>9781534201</td><td>25</td><td>30000</td><td>2015-08-24</td></tr><tr><td>3245</td><td>MUTHU</td><td>WEB DEVELOPER</td><td>7361894567</td><td>36</td><td>25000</td><td>2016-06-20</td></tr><tr><td>4212</td><td>PREM KUMAR</td><td>DATA ANALYST</td><td>9086534201</td><td>27</td><td>40000</td><td>2023-04-20</td></tr><tr><td>3832</td><td>SANJAY</td><td>CLERK</td><td>6372556764</td><td>22</td><td>12000</td><td>2019-06-11</td></tr><tr><td>2121</td><td>SANTHOSH</td><td>WEB DEVELOPER</td><td>9823543210</td><td>29</td><td>25000</td><td>2022-02-14</td></tr><tr><td>4832</td><td>SHANKAR</td><td>CLERK</td><td>6372456064</td><td>28</td><td>20000</td><td>2013-10-15</td></tr><tr><td>1832</td><td>SURYA</td><td>CLERK</td><td>6372456764</td><td>28</td><td>20000</td><td>2019-08-20</td></tr><tr><td>3762</td><td>TAMIL</td><td>DATA SCIENTIET</td><td>8780321456</td><td>34</td><td>25000</td><td>2015-08-24</td></tr><tr><td>1212</td><td>VICKY</td><td>DATA ANALYST</td><td>9786534201</td><td>27</td><td>40000</td><td>2020-04-01</td></tr><tr><td>1245</td><td>VIJAY</td><td>WEB DEVELOPER</td><td>7367894567</td><td>27</td><td>25000</td><td>2018-01-27</td></tr></table>"
                    },
                    "metadata": {}
                }
            ],
            "execution_count": 10
        },
        {
            "cell_type": "markdown",
            "source": [
                "DESCENDING ORDER;"
            ],
            "metadata": {
                "azdata_cell_guid": "0130194b-237d-43cb-866f-973471b39db0"
            },
            "attachments": {}
        },
        {
            "cell_type": "code",
            "source": [
                "SELECT *\r\n",
                "FROM EMPLOYE_DETAILS\r\n",
                "ORDER BY HIREDATE DESC;"
            ],
            "metadata": {
                "azdata_cell_guid": "914bd5a4-8292-4fbb-939f-31503467e253",
                "language": "sql"
            },
            "outputs": [
                {
                    "output_type": "display_data",
                    "data": {
                        "text/html": "(14 rows affected)"
                    },
                    "metadata": {}
                },
                {
                    "output_type": "display_data",
                    "data": {
                        "text/html": "Total execution time: 00:00:00.047"
                    },
                    "metadata": {}
                },
                {
                    "output_type": "execute_result",
                    "execution_count": 6,
                    "data": {
                        "application/vnd.dataresource+json": {
                            "schema": {
                                "fields": [
                                    {
                                        "name": "EID"
                                    },
                                    {
                                        "name": "ENAME"
                                    },
                                    {
                                        "name": "JOB"
                                    },
                                    {
                                        "name": "PHONE_NO"
                                    },
                                    {
                                        "name": "AGE"
                                    },
                                    {
                                        "name": "SAL"
                                    },
                                    {
                                        "name": "HIREDATE"
                                    }
                                ]
                            },
                            "data": [
                                {
                                    "EID": "4212",
                                    "ENAME": "PREM KUMAR",
                                    "JOB": "DATA ANALYST",
                                    "PHONE_NO": "9086534201",
                                    "AGE": "27",
                                    "SAL": "40000",
                                    "HIREDATE": "2023-04-20"
                                },
                                {
                                    "EID": "2121",
                                    "ENAME": "SANTHOSH",
                                    "JOB": "WEB DEVELOPER",
                                    "PHONE_NO": "9823543210",
                                    "AGE": "29",
                                    "SAL": "25000",
                                    "HIREDATE": "2022-02-14"
                                },
                                {
                                    "EID": "1721",
                                    "ENAME": "ARUN",
                                    "JOB": "WEB DEVELOPER",
                                    "PHONE_NO": "9876543210",
                                    "AGE": "25",
                                    "SAL": "35000",
                                    "HIREDATE": "2021-03-30"
                                },
                                {
                                    "EID": "1212",
                                    "ENAME": "VICKY",
                                    "JOB": "DATA ANALYST",
                                    "PHONE_NO": "9786534201",
                                    "AGE": "27",
                                    "SAL": "40000",
                                    "HIREDATE": "2020-04-01"
                                },
                                {
                                    "EID": "1762",
                                    "ENAME": "AJAY",
                                    "JOB": "DATA SCIENTIET",
                                    "PHONE_NO": "8789321456",
                                    "AGE": "30",
                                    "SAL": "45000",
                                    "HIREDATE": "2019-08-20"
                                },
                                {
                                    "EID": "1832",
                                    "ENAME": "SURYA",
                                    "JOB": "CLERK",
                                    "PHONE_NO": "6372456764",
                                    "AGE": "28",
                                    "SAL": "20000",
                                    "HIREDATE": "2019-08-20"
                                },
                                {
                                    "EID": "3832",
                                    "ENAME": "SANJAY",
                                    "JOB": "CLERK",
                                    "PHONE_NO": "6372556764",
                                    "AGE": "22",
                                    "SAL": "12000",
                                    "HIREDATE": "2019-06-11"
                                },
                                {
                                    "EID": "1245",
                                    "ENAME": "VIJAY",
                                    "JOB": "WEB DEVELOPER",
                                    "PHONE_NO": "7367894567",
                                    "AGE": "27",
                                    "SAL": "25000",
                                    "HIREDATE": "2018-01-27"
                                },
                                {
                                    "EID": "4762",
                                    "ENAME": "CHANDRAN",
                                    "JOB": "DATA SCIENTIET",
                                    "PHONE_NO": "8789321406",
                                    "AGE": "30",
                                    "SAL": "45000",
                                    "HIREDATE": "2017-11-27"
                                },
                                {
                                    "EID": "3245",
                                    "ENAME": "MUTHU",
                                    "JOB": "WEB DEVELOPER",
                                    "PHONE_NO": "7361894567",
                                    "AGE": "36",
                                    "SAL": "25000",
                                    "HIREDATE": "2016-06-20"
                                },
                                {
                                    "EID": "3762",
                                    "ENAME": "TAMIL",
                                    "JOB": "DATA SCIENTIET",
                                    "PHONE_NO": "8780321456",
                                    "AGE": "34",
                                    "SAL": "25000",
                                    "HIREDATE": "2015-08-24"
                                },
                                {
                                    "EID": "2212",
                                    "ENAME": "JEEVA",
                                    "JOB": "DATA ANALYST",
                                    "PHONE_NO": "9781534201",
                                    "AGE": "25",
                                    "SAL": "30000",
                                    "HIREDATE": "2015-08-24"
                                },
                                {
                                    "EID": "5245",
                                    "ENAME": "DEEPAK",
                                    "JOB": "WEB DEVELOPER",
                                    "PHONE_NO": "7367894167",
                                    "AGE": "28",
                                    "SAL": "25000",
                                    "HIREDATE": "2014-11-08"
                                },
                                {
                                    "EID": "4832",
                                    "ENAME": "SHANKAR",
                                    "JOB": "CLERK",
                                    "PHONE_NO": "6372456064",
                                    "AGE": "28",
                                    "SAL": "20000",
                                    "HIREDATE": "2013-10-15"
                                }
                            ]
                        },
                        "text/html": "<table><tr><th>EID</th><th>ENAME</th><th>JOB</th><th>PHONE_NO</th><th>AGE</th><th>SAL</th><th>HIREDATE</th></tr><tr><td>4212</td><td>PREM KUMAR</td><td>DATA ANALYST</td><td>9086534201</td><td>27</td><td>40000</td><td>2023-04-20</td></tr><tr><td>2121</td><td>SANTHOSH</td><td>WEB DEVELOPER</td><td>9823543210</td><td>29</td><td>25000</td><td>2022-02-14</td></tr><tr><td>1721</td><td>ARUN</td><td>WEB DEVELOPER</td><td>9876543210</td><td>25</td><td>35000</td><td>2021-03-30</td></tr><tr><td>1212</td><td>VICKY</td><td>DATA ANALYST</td><td>9786534201</td><td>27</td><td>40000</td><td>2020-04-01</td></tr><tr><td>1762</td><td>AJAY</td><td>DATA SCIENTIET</td><td>8789321456</td><td>30</td><td>45000</td><td>2019-08-20</td></tr><tr><td>1832</td><td>SURYA</td><td>CLERK</td><td>6372456764</td><td>28</td><td>20000</td><td>2019-08-20</td></tr><tr><td>3832</td><td>SANJAY</td><td>CLERK</td><td>6372556764</td><td>22</td><td>12000</td><td>2019-06-11</td></tr><tr><td>1245</td><td>VIJAY</td><td>WEB DEVELOPER</td><td>7367894567</td><td>27</td><td>25000</td><td>2018-01-27</td></tr><tr><td>4762</td><td>CHANDRAN</td><td>DATA SCIENTIET</td><td>8789321406</td><td>30</td><td>45000</td><td>2017-11-27</td></tr><tr><td>3245</td><td>MUTHU</td><td>WEB DEVELOPER</td><td>7361894567</td><td>36</td><td>25000</td><td>2016-06-20</td></tr><tr><td>3762</td><td>TAMIL</td><td>DATA SCIENTIET</td><td>8780321456</td><td>34</td><td>25000</td><td>2015-08-24</td></tr><tr><td>2212</td><td>JEEVA</td><td>DATA ANALYST</td><td>9781534201</td><td>25</td><td>30000</td><td>2015-08-24</td></tr><tr><td>5245</td><td>DEEPAK</td><td>WEB DEVELOPER</td><td>7367894167</td><td>28</td><td>25000</td><td>2014-11-08</td></tr><tr><td>4832</td><td>SHANKAR</td><td>CLERK</td><td>6372456064</td><td>28</td><td>20000</td><td>2013-10-15</td></tr></table>"
                    },
                    "metadata": {}
                }
            ],
            "execution_count": 6
        },
        {
            "cell_type": "markdown",
            "source": [
                "MIN;\n",
                "\n",
                "<span style=\"color: rgb(0, 0, 0); font-family: Verdana, sans-serif; font-size: 15px; background-color: rgb(255, 255, 255);\">The&nbsp;</span> `MIN()` <span style=\"color: rgb(0, 0, 0); font-family: Verdana, sans-serif; font-size: 15px; background-color: rgb(255, 255, 255);\">&nbsp;function returns the smallest value of the selected column.</span>"
            ],
            "metadata": {
                "azdata_cell_guid": "bbde7394-b5c1-40a9-b14d-578f8e127a61"
            },
            "attachments": {}
        },
        {
            "cell_type": "code",
            "source": [
                "SELECT MIN(SAL)\r\n",
                "FROM EMPLOYE_DETAILS;"
            ],
            "metadata": {
                "azdata_cell_guid": "a3a17920-2479-4adc-9626-e76d89d8a5eb",
                "language": "sql"
            },
            "outputs": [
                {
                    "output_type": "display_data",
                    "data": {
                        "text/html": "(1 row affected)"
                    },
                    "metadata": {}
                },
                {
                    "output_type": "display_data",
                    "data": {
                        "text/html": "Total execution time: 00:00:00.006"
                    },
                    "metadata": {}
                },
                {
                    "output_type": "execute_result",
                    "execution_count": 5,
                    "data": {
                        "application/vnd.dataresource+json": {
                            "schema": {
                                "fields": [
                                    {
                                        "name": "(No column name)"
                                    }
                                ]
                            },
                            "data": [
                                {
                                    "(No column name)": "12000"
                                }
                            ]
                        },
                        "text/html": "<table><tr><th>(No column name)</th></tr><tr><td>12000</td></tr></table>"
                    },
                    "metadata": {}
                }
            ],
            "execution_count": 5
        },
        {
            "cell_type": "markdown",
            "source": [
                "MAX;\n",
                "\n",
                "<span style=\"color: rgb(0, 0, 0); font-family: Verdana, sans-serif; font-size: 15px; background-color: rgb(255, 255, 255);\">The&nbsp;</span> `MAX()` <span style=\"color: rgb(0, 0, 0); font-family: Verdana, sans-serif; font-size: 15px; background-color: rgb(255, 255, 255);\">&nbsp;function returns the largest value of the selected column.</span>"
            ],
            "metadata": {
                "azdata_cell_guid": "444a3d23-9df9-4c29-8663-b0febbc7dc6e"
            },
            "attachments": {}
        },
        {
            "cell_type": "code",
            "source": [
                "SELECT MAX(SAL)\r\n",
                "FROM EMPLOYE_DETAILS;"
            ],
            "metadata": {
                "azdata_cell_guid": "0328830a-09f9-4d96-bb37-169f8f33188a",
                "language": "sql"
            },
            "outputs": [
                {
                    "output_type": "display_data",
                    "data": {
                        "text/html": "(1 row affected)"
                    },
                    "metadata": {}
                },
                {
                    "output_type": "display_data",
                    "data": {
                        "text/html": "Total execution time: 00:00:00.015"
                    },
                    "metadata": {}
                },
                {
                    "output_type": "execute_result",
                    "execution_count": 7,
                    "data": {
                        "application/vnd.dataresource+json": {
                            "schema": {
                                "fields": [
                                    {
                                        "name": "(No column name)"
                                    }
                                ]
                            },
                            "data": [
                                {
                                    "(No column name)": "45000"
                                }
                            ]
                        },
                        "text/html": "<table><tr><th>(No column name)</th></tr><tr><td>45000</td></tr></table>"
                    },
                    "metadata": {}
                }
            ],
            "execution_count": 7
        },
        {
            "cell_type": "markdown",
            "source": [
                "10/07/2023\n",
                "\n",
                "COUNT();\n",
                "\n",
                "The `COUNT()` function returns the number of rows that matches a specified criterion."
            ],
            "metadata": {
                "azdata_cell_guid": "fb31fb7a-b668-4d1e-b6ed-815a6f68c165"
            },
            "attachments": {}
        },
        {
            "cell_type": "code",
            "source": [
                "SELECT COUNT(EID)\r\n",
                "FROM EMPLOYE_DETAILS;"
            ],
            "metadata": {
                "azdata_cell_guid": "6706c287-3617-4bdc-b009-84614850bb48",
                "language": "sql"
            },
            "outputs": [
                {
                    "output_type": "display_data",
                    "data": {
                        "text/html": "(1 row affected)"
                    },
                    "metadata": {}
                },
                {
                    "output_type": "display_data",
                    "data": {
                        "text/html": "Total execution time: 00:00:00.054"
                    },
                    "metadata": {}
                },
                {
                    "output_type": "execute_result",
                    "execution_count": 1,
                    "data": {
                        "application/vnd.dataresource+json": {
                            "schema": {
                                "fields": [
                                    {
                                        "name": "(No column name)"
                                    }
                                ]
                            },
                            "data": [
                                {
                                    "(No column name)": "14"
                                }
                            ]
                        },
                        "text/html": "<table><tr><th>(No column name)</th></tr><tr><td>14</td></tr></table>"
                    },
                    "metadata": {}
                }
            ],
            "execution_count": 1
        },
        {
            "cell_type": "markdown",
            "source": [
                "SUM();\n",
                "\n",
                "<span style=\"color: rgb(0, 0, 0); font-family: Verdana, sans-serif; font-size: 15px; background-color: rgb(255, 255, 255);\">The&nbsp;</span> `SUM()` <span style=\"color: rgb(0, 0, 0); font-family: Verdana, sans-serif; font-size: 15px; background-color: rgb(255, 255, 255);\">&nbsp;function returns the total sum of a numeric column.&nbsp;</span>"
            ],
            "metadata": {
                "language": "sql",
                "azdata_cell_guid": "a158f8c7-a4b1-45d6-babd-eb91c6c61d9a"
            },
            "attachments": {}
        },
        {
            "cell_type": "code",
            "source": [
                "SELECT SUM(SAL)\r\n",
                "FROM EMPLOYE_DETAILS;"
            ],
            "metadata": {
                "language": "sql",
                "azdata_cell_guid": "edf91cb0-97d2-4b79-81a8-4b567a400848"
            },
            "outputs": [
                {
                    "output_type": "display_data",
                    "data": {
                        "text/html": "(1 row affected)"
                    },
                    "metadata": {}
                },
                {
                    "output_type": "display_data",
                    "data": {
                        "text/html": "Total execution time: 00:00:00.023"
                    },
                    "metadata": {}
                },
                {
                    "output_type": "execute_result",
                    "execution_count": 2,
                    "data": {
                        "application/vnd.dataresource+json": {
                            "schema": {
                                "fields": [
                                    {
                                        "name": "(No column name)"
                                    }
                                ]
                            },
                            "data": [
                                {
                                    "(No column name)": "412000"
                                }
                            ]
                        },
                        "text/html": "<table><tr><th>(No column name)</th></tr><tr><td>412000</td></tr></table>"
                    },
                    "metadata": {}
                }
            ],
            "execution_count": 2
        },
        {
            "cell_type": "markdown",
            "source": [
                "AVG();\n",
                "\n",
                "<span style=\"color: rgb(0, 0, 0); font-family: Verdana, sans-serif; font-size: 15px; background-color: rgb(255, 255, 255);\">The&nbsp;</span> `AVG()` <span style=\"color: rgb(0, 0, 0); font-family: Verdana, sans-serif; font-size: 15px; background-color: rgb(255, 255, 255);\">&nbsp;function returns the average value of a numeric column.</span>"
            ],
            "metadata": {
                "language": "sql",
                "azdata_cell_guid": "f20fa73d-e270-44bc-9ff6-4f62172927d6"
            },
            "attachments": {}
        },
        {
            "cell_type": "code",
            "source": [
                "SELECT AVG(SAL)\r\n",
                "FROM EMPLOYE_DETAILS;"
            ],
            "metadata": {
                "language": "sql",
                "azdata_cell_guid": "2515ea69-87fe-4a7a-98bf-ac2565c14d9a"
            },
            "outputs": [
                {
                    "output_type": "display_data",
                    "data": {
                        "text/html": "(1 row affected)"
                    },
                    "metadata": {}
                },
                {
                    "output_type": "display_data",
                    "data": {
                        "text/html": "Total execution time: 00:00:00.019"
                    },
                    "metadata": {}
                },
                {
                    "output_type": "execute_result",
                    "execution_count": 3,
                    "data": {
                        "application/vnd.dataresource+json": {
                            "schema": {
                                "fields": [
                                    {
                                        "name": "(No column name)"
                                    }
                                ]
                            },
                            "data": [
                                {
                                    "(No column name)": "29428.571428"
                                }
                            ]
                        },
                        "text/html": "<table><tr><th>(No column name)</th></tr><tr><td>29428.571428</td></tr></table>"
                    },
                    "metadata": {}
                }
            ],
            "execution_count": 3
        },
        {
            "cell_type": "markdown",
            "source": [
                "IN;\n",
                "\n",
                "The `IN` operator allows you to specify multiple values in a `WHERE` clause.\n",
                "\n",
                "The `IN` operator is a shorthand for multiple `OR` conditions."
            ],
            "metadata": {
                "language": "sql",
                "azdata_cell_guid": "69b77ffa-2f53-4a79-8dc3-c0802e171acd"
            },
            "attachments": {}
        },
        {
            "cell_type": "code",
            "source": [
                "SELECT *\r\n",
                "FROM EMPLOYE_DETAILS\r\n",
                "WHERE JOB IN ('CLERK','WEB DEVELOPER');"
            ],
            "metadata": {
                "language": "sql",
                "azdata_cell_guid": "631daf1e-b580-427a-bb7e-088afe19d44e"
            },
            "outputs": [
                {
                    "output_type": "display_data",
                    "data": {
                        "text/html": "(8 rows affected)"
                    },
                    "metadata": {}
                },
                {
                    "output_type": "display_data",
                    "data": {
                        "text/html": "Total execution time: 00:00:00.023"
                    },
                    "metadata": {}
                },
                {
                    "output_type": "execute_result",
                    "execution_count": 7,
                    "data": {
                        "application/vnd.dataresource+json": {
                            "schema": {
                                "fields": [
                                    {
                                        "name": "EID"
                                    },
                                    {
                                        "name": "ENAME"
                                    },
                                    {
                                        "name": "JOB"
                                    },
                                    {
                                        "name": "PHONE_NO"
                                    },
                                    {
                                        "name": "AGE"
                                    },
                                    {
                                        "name": "SAL"
                                    },
                                    {
                                        "name": "HIREDATE"
                                    }
                                ]
                            },
                            "data": [
                                {
                                    "EID": "1245",
                                    "ENAME": "VIJAY",
                                    "JOB": "WEB DEVELOPER",
                                    "PHONE_NO": "7367894567",
                                    "AGE": "27",
                                    "SAL": "25000",
                                    "HIREDATE": "2018-01-27"
                                },
                                {
                                    "EID": "1721",
                                    "ENAME": "ARUN",
                                    "JOB": "WEB DEVELOPER",
                                    "PHONE_NO": "9876543210",
                                    "AGE": "25",
                                    "SAL": "35000",
                                    "HIREDATE": "2021-03-30"
                                },
                                {
                                    "EID": "1832",
                                    "ENAME": "SURYA",
                                    "JOB": "CLERK",
                                    "PHONE_NO": "6372456764",
                                    "AGE": "28",
                                    "SAL": "20000",
                                    "HIREDATE": "2019-08-20"
                                },
                                {
                                    "EID": "2121",
                                    "ENAME": "SANTHOSH",
                                    "JOB": "WEB DEVELOPER",
                                    "PHONE_NO": "9823543210",
                                    "AGE": "29",
                                    "SAL": "25000",
                                    "HIREDATE": "2022-02-14"
                                },
                                {
                                    "EID": "3245",
                                    "ENAME": "MUTHU",
                                    "JOB": "WEB DEVELOPER",
                                    "PHONE_NO": "7361894567",
                                    "AGE": "36",
                                    "SAL": "25000",
                                    "HIREDATE": "2016-06-20"
                                },
                                {
                                    "EID": "3832",
                                    "ENAME": "SANJAY",
                                    "JOB": "CLERK",
                                    "PHONE_NO": "6372556764",
                                    "AGE": "22",
                                    "SAL": "12000",
                                    "HIREDATE": "2019-06-11"
                                },
                                {
                                    "EID": "4832",
                                    "ENAME": "SHANKAR",
                                    "JOB": "CLERK",
                                    "PHONE_NO": "6372456064",
                                    "AGE": "28",
                                    "SAL": "20000",
                                    "HIREDATE": "2013-10-15"
                                },
                                {
                                    "EID": "5245",
                                    "ENAME": "DEEPAK",
                                    "JOB": "WEB DEVELOPER",
                                    "PHONE_NO": "7367894167",
                                    "AGE": "28",
                                    "SAL": "25000",
                                    "HIREDATE": "2014-11-08"
                                }
                            ]
                        },
                        "text/html": "<table><tr><th>EID</th><th>ENAME</th><th>JOB</th><th>PHONE_NO</th><th>AGE</th><th>SAL</th><th>HIREDATE</th></tr><tr><td>1245</td><td>VIJAY</td><td>WEB DEVELOPER</td><td>7367894567</td><td>27</td><td>25000</td><td>2018-01-27</td></tr><tr><td>1721</td><td>ARUN</td><td>WEB DEVELOPER</td><td>9876543210</td><td>25</td><td>35000</td><td>2021-03-30</td></tr><tr><td>1832</td><td>SURYA</td><td>CLERK</td><td>6372456764</td><td>28</td><td>20000</td><td>2019-08-20</td></tr><tr><td>2121</td><td>SANTHOSH</td><td>WEB DEVELOPER</td><td>9823543210</td><td>29</td><td>25000</td><td>2022-02-14</td></tr><tr><td>3245</td><td>MUTHU</td><td>WEB DEVELOPER</td><td>7361894567</td><td>36</td><td>25000</td><td>2016-06-20</td></tr><tr><td>3832</td><td>SANJAY</td><td>CLERK</td><td>6372556764</td><td>22</td><td>12000</td><td>2019-06-11</td></tr><tr><td>4832</td><td>SHANKAR</td><td>CLERK</td><td>6372456064</td><td>28</td><td>20000</td><td>2013-10-15</td></tr><tr><td>5245</td><td>DEEPAK</td><td>WEB DEVELOPER</td><td>7367894167</td><td>28</td><td>25000</td><td>2014-11-08</td></tr></table>"
                    },
                    "metadata": {}
                }
            ],
            "execution_count": 7
        },
        {
            "cell_type": "markdown",
            "source": [
                "NOT IN;"
            ],
            "metadata": {
                "language": "sql",
                "azdata_cell_guid": "f36f39b1-b589-4254-bb49-cccd23b794b9"
            },
            "attachments": {}
        },
        {
            "cell_type": "code",
            "source": [
                "SELECT *\r\n",
                "FROM EMPLOYE_DETAILS\r\n",
                "WHERE JOB NOT IN ('CLERK');"
            ],
            "metadata": {
                "language": "sql",
                "azdata_cell_guid": "279e9f39-6dab-4e98-806f-aa22530205dd"
            },
            "outputs": [
                {
                    "output_type": "display_data",
                    "data": {
                        "text/html": "(11 rows affected)"
                    },
                    "metadata": {}
                },
                {
                    "output_type": "display_data",
                    "data": {
                        "text/html": "Total execution time: 00:00:00.022"
                    },
                    "metadata": {}
                },
                {
                    "output_type": "execute_result",
                    "execution_count": 8,
                    "data": {
                        "application/vnd.dataresource+json": {
                            "schema": {
                                "fields": [
                                    {
                                        "name": "EID"
                                    },
                                    {
                                        "name": "ENAME"
                                    },
                                    {
                                        "name": "JOB"
                                    },
                                    {
                                        "name": "PHONE_NO"
                                    },
                                    {
                                        "name": "AGE"
                                    },
                                    {
                                        "name": "SAL"
                                    },
                                    {
                                        "name": "HIREDATE"
                                    }
                                ]
                            },
                            "data": [
                                {
                                    "EID": "1212",
                                    "ENAME": "VICKY",
                                    "JOB": "DATA ANALYST",
                                    "PHONE_NO": "9786534201",
                                    "AGE": "27",
                                    "SAL": "40000",
                                    "HIREDATE": "2020-04-01"
                                },
                                {
                                    "EID": "1245",
                                    "ENAME": "VIJAY",
                                    "JOB": "WEB DEVELOPER",
                                    "PHONE_NO": "7367894567",
                                    "AGE": "27",
                                    "SAL": "25000",
                                    "HIREDATE": "2018-01-27"
                                },
                                {
                                    "EID": "1721",
                                    "ENAME": "ARUN",
                                    "JOB": "WEB DEVELOPER",
                                    "PHONE_NO": "9876543210",
                                    "AGE": "25",
                                    "SAL": "35000",
                                    "HIREDATE": "2021-03-30"
                                },
                                {
                                    "EID": "1762",
                                    "ENAME": "AJAY",
                                    "JOB": "DATA SCIENTIET",
                                    "PHONE_NO": "8789321456",
                                    "AGE": "30",
                                    "SAL": "45000",
                                    "HIREDATE": "2019-08-20"
                                },
                                {
                                    "EID": "2121",
                                    "ENAME": "SANTHOSH",
                                    "JOB": "WEB DEVELOPER",
                                    "PHONE_NO": "9823543210",
                                    "AGE": "29",
                                    "SAL": "25000",
                                    "HIREDATE": "2022-02-14"
                                },
                                {
                                    "EID": "2212",
                                    "ENAME": "JEEVA",
                                    "JOB": "DATA ANALYST",
                                    "PHONE_NO": "9781534201",
                                    "AGE": "25",
                                    "SAL": "30000",
                                    "HIREDATE": "2015-08-24"
                                },
                                {
                                    "EID": "3245",
                                    "ENAME": "MUTHU",
                                    "JOB": "WEB DEVELOPER",
                                    "PHONE_NO": "7361894567",
                                    "AGE": "36",
                                    "SAL": "25000",
                                    "HIREDATE": "2016-06-20"
                                },
                                {
                                    "EID": "3762",
                                    "ENAME": "TAMIL",
                                    "JOB": "DATA SCIENTIET",
                                    "PHONE_NO": "8780321456",
                                    "AGE": "34",
                                    "SAL": "25000",
                                    "HIREDATE": "2015-08-24"
                                },
                                {
                                    "EID": "4212",
                                    "ENAME": "PREM KUMAR",
                                    "JOB": "DATA ANALYST",
                                    "PHONE_NO": "9086534201",
                                    "AGE": "27",
                                    "SAL": "40000",
                                    "HIREDATE": "2023-04-20"
                                },
                                {
                                    "EID": "4762",
                                    "ENAME": "CHANDRAN",
                                    "JOB": "DATA SCIENTIET",
                                    "PHONE_NO": "8789321406",
                                    "AGE": "30",
                                    "SAL": "45000",
                                    "HIREDATE": "2017-11-27"
                                },
                                {
                                    "EID": "5245",
                                    "ENAME": "DEEPAK",
                                    "JOB": "WEB DEVELOPER",
                                    "PHONE_NO": "7367894167",
                                    "AGE": "28",
                                    "SAL": "25000",
                                    "HIREDATE": "2014-11-08"
                                }
                            ]
                        },
                        "text/html": "<table><tr><th>EID</th><th>ENAME</th><th>JOB</th><th>PHONE_NO</th><th>AGE</th><th>SAL</th><th>HIREDATE</th></tr><tr><td>1212</td><td>VICKY</td><td>DATA ANALYST</td><td>9786534201</td><td>27</td><td>40000</td><td>2020-04-01</td></tr><tr><td>1245</td><td>VIJAY</td><td>WEB DEVELOPER</td><td>7367894567</td><td>27</td><td>25000</td><td>2018-01-27</td></tr><tr><td>1721</td><td>ARUN</td><td>WEB DEVELOPER</td><td>9876543210</td><td>25</td><td>35000</td><td>2021-03-30</td></tr><tr><td>1762</td><td>AJAY</td><td>DATA SCIENTIET</td><td>8789321456</td><td>30</td><td>45000</td><td>2019-08-20</td></tr><tr><td>2121</td><td>SANTHOSH</td><td>WEB DEVELOPER</td><td>9823543210</td><td>29</td><td>25000</td><td>2022-02-14</td></tr><tr><td>2212</td><td>JEEVA</td><td>DATA ANALYST</td><td>9781534201</td><td>25</td><td>30000</td><td>2015-08-24</td></tr><tr><td>3245</td><td>MUTHU</td><td>WEB DEVELOPER</td><td>7361894567</td><td>36</td><td>25000</td><td>2016-06-20</td></tr><tr><td>3762</td><td>TAMIL</td><td>DATA SCIENTIET</td><td>8780321456</td><td>34</td><td>25000</td><td>2015-08-24</td></tr><tr><td>4212</td><td>PREM KUMAR</td><td>DATA ANALYST</td><td>9086534201</td><td>27</td><td>40000</td><td>2023-04-20</td></tr><tr><td>4762</td><td>CHANDRAN</td><td>DATA SCIENTIET</td><td>8789321406</td><td>30</td><td>45000</td><td>2017-11-27</td></tr><tr><td>5245</td><td>DEEPAK</td><td>WEB DEVELOPER</td><td>7367894167</td><td>28</td><td>25000</td><td>2014-11-08</td></tr></table>"
                    },
                    "metadata": {}
                }
            ],
            "execution_count": 8
        },
        {
            "cell_type": "markdown",
            "source": [
                "ALIAS NAME;TEMPORARY NAME GIVEN TO COLUMN;"
            ],
            "metadata": {
                "language": "sql",
                "azdata_cell_guid": "4da5fea7-77a9-4d0a-be50-f1a6620bef49"
            },
            "attachments": {}
        },
        {
            "cell_type": "code",
            "source": [
                "SELECT ENAME, SAL*12 AS ANNUAL_SALARY\r\n",
                "FROM EMPLOYE_DETAILS;"
            ],
            "metadata": {
                "language": "sql",
                "azdata_cell_guid": "9d7b245b-3d6b-4988-bd33-5639b106e81f"
            },
            "outputs": [
                {
                    "output_type": "display_data",
                    "data": {
                        "text/html": "(14 rows affected)"
                    },
                    "metadata": {}
                },
                {
                    "output_type": "display_data",
                    "data": {
                        "text/html": "Total execution time: 00:00:00.019"
                    },
                    "metadata": {}
                },
                {
                    "output_type": "execute_result",
                    "execution_count": 9,
                    "data": {
                        "application/vnd.dataresource+json": {
                            "schema": {
                                "fields": [
                                    {
                                        "name": "ENAME"
                                    },
                                    {
                                        "name": "ANNUAL_SALARY"
                                    }
                                ]
                            },
                            "data": [
                                {
                                    "ENAME": "VICKY",
                                    "ANNUAL_SALARY": "480000"
                                },
                                {
                                    "ENAME": "VIJAY",
                                    "ANNUAL_SALARY": "300000"
                                },
                                {
                                    "ENAME": "ARUN",
                                    "ANNUAL_SALARY": "420000"
                                },
                                {
                                    "ENAME": "AJAY",
                                    "ANNUAL_SALARY": "540000"
                                },
                                {
                                    "ENAME": "SURYA",
                                    "ANNUAL_SALARY": "240000"
                                },
                                {
                                    "ENAME": "SANTHOSH",
                                    "ANNUAL_SALARY": "300000"
                                },
                                {
                                    "ENAME": "JEEVA",
                                    "ANNUAL_SALARY": "360000"
                                },
                                {
                                    "ENAME": "MUTHU",
                                    "ANNUAL_SALARY": "300000"
                                },
                                {
                                    "ENAME": "TAMIL",
                                    "ANNUAL_SALARY": "300000"
                                },
                                {
                                    "ENAME": "SANJAY",
                                    "ANNUAL_SALARY": "144000"
                                },
                                {
                                    "ENAME": "PREM KUMAR",
                                    "ANNUAL_SALARY": "480000"
                                },
                                {
                                    "ENAME": "CHANDRAN",
                                    "ANNUAL_SALARY": "540000"
                                },
                                {
                                    "ENAME": "SHANKAR",
                                    "ANNUAL_SALARY": "240000"
                                },
                                {
                                    "ENAME": "DEEPAK",
                                    "ANNUAL_SALARY": "300000"
                                }
                            ]
                        },
                        "text/html": "<table><tr><th>ENAME</th><th>ANNUAL_SALARY</th></tr><tr><td>VICKY</td><td>480000</td></tr><tr><td>VIJAY</td><td>300000</td></tr><tr><td>ARUN</td><td>420000</td></tr><tr><td>AJAY</td><td>540000</td></tr><tr><td>SURYA</td><td>240000</td></tr><tr><td>SANTHOSH</td><td>300000</td></tr><tr><td>JEEVA</td><td>360000</td></tr><tr><td>MUTHU</td><td>300000</td></tr><tr><td>TAMIL</td><td>300000</td></tr><tr><td>SANJAY</td><td>144000</td></tr><tr><td>PREM KUMAR</td><td>480000</td></tr><tr><td>CHANDRAN</td><td>540000</td></tr><tr><td>SHANKAR</td><td>240000</td></tr><tr><td>DEEPAK</td><td>300000</td></tr></table>"
                    },
                    "metadata": {}
                }
            ],
            "execution_count": 9
        },
        {
            "cell_type": "markdown",
            "source": [
                "GROUP BY;\n",
                "\n",
                "he `GROUP BY` statement groups rows that have the same values into summary rows, like \"find the number of customers in each country\".\n",
                "\n",
                "The `GROUP BY` statement is often used with aggregate functions (`COUNT()`, `MAX()`, `MIN()`, `SUM()`, `AVG()`) to group the result-set by one or more columns."
            ],
            "metadata": {
                "language": "sql",
                "azdata_cell_guid": "df1075e9-4a80-469c-99b3-f82f885a3f0f"
            },
            "attachments": {}
        },
        {
            "cell_type": "code",
            "source": [
                "SELECT COUNT(*),JOB\r\n",
                "FROM EMPLOYE_DETAILS\r\n",
                "GROUP BY JOB;"
            ],
            "metadata": {
                "language": "sql",
                "azdata_cell_guid": "7616e2e2-66de-4d3c-8c9a-5d9bf823ab0f"
            },
            "outputs": [
                {
                    "output_type": "display_data",
                    "data": {
                        "text/html": "(4 rows affected)"
                    },
                    "metadata": {}
                },
                {
                    "output_type": "display_data",
                    "data": {
                        "text/html": "Total execution time: 00:00:00.021"
                    },
                    "metadata": {}
                },
                {
                    "output_type": "execute_result",
                    "execution_count": 14,
                    "data": {
                        "application/vnd.dataresource+json": {
                            "schema": {
                                "fields": [
                                    {
                                        "name": "(No column name)"
                                    },
                                    {
                                        "name": "JOB"
                                    }
                                ]
                            },
                            "data": [
                                {
                                    "(No column name)": "3",
                                    "JOB": "CLERK"
                                },
                                {
                                    "(No column name)": "3",
                                    "JOB": "DATA ANALYST"
                                },
                                {
                                    "(No column name)": "3",
                                    "JOB": "DATA SCIENTIET"
                                },
                                {
                                    "(No column name)": "5",
                                    "JOB": "WEB DEVELOPER"
                                }
                            ]
                        },
                        "text/html": "<table><tr><th>(No column name)</th><th>JOB</th></tr><tr><td>3</td><td>CLERK</td></tr><tr><td>3</td><td>DATA ANALYST</td></tr><tr><td>3</td><td>DATA SCIENTIET</td></tr><tr><td>5</td><td>WEB DEVELOPER</td></tr></table>"
                    },
                    "metadata": {}
                }
            ],
            "execution_count": 14
        },
        {
            "cell_type": "markdown",
            "source": [
                "HAVING;\n",
                "\n",
                "<span style=\"color: rgb(0, 0, 0); font-family: Verdana, sans-serif; font-size: 15px; background-color: rgb(255, 255, 255);\">The&nbsp;</span> `HAVING` <span style=\"color: rgb(0, 0, 0); font-family: Verdana, sans-serif; font-size: 15px; background-color: rgb(255, 255, 255);\">&nbsp;clause was added to SQL because the&nbsp;</span> `WHERE` <span style=\"color: rgb(0, 0, 0); font-family: Verdana, sans-serif; font-size: 15px; background-color: rgb(255, 255, 255);\">&nbsp;keyword cannot be used with aggregate functions.</span>"
            ],
            "metadata": {
                "language": "sql",
                "azdata_cell_guid": "83e30512-02b9-4d38-baf0-40bc360fc2c1"
            },
            "attachments": {}
        },
        {
            "cell_type": "code",
            "source": [
                "SELECT COUNT(*),JOB \r\n",
                "FROM EMPLOYE_DETAILS\r\n",
                "GROUP BY JOB\r\n",
                "HAVING COUNT(*) <4;"
            ],
            "metadata": {
                "language": "sql",
                "azdata_cell_guid": "d004eacc-da8a-45cd-a5d8-2db29d78821d"
            },
            "outputs": [
                {
                    "output_type": "display_data",
                    "data": {
                        "text/html": "(3 rows affected)"
                    },
                    "metadata": {}
                },
                {
                    "output_type": "display_data",
                    "data": {
                        "text/html": "Total execution time: 00:00:00.011"
                    },
                    "metadata": {}
                },
                {
                    "output_type": "execute_result",
                    "execution_count": 16,
                    "data": {
                        "application/vnd.dataresource+json": {
                            "schema": {
                                "fields": [
                                    {
                                        "name": "(No column name)"
                                    },
                                    {
                                        "name": "JOB"
                                    }
                                ]
                            },
                            "data": [
                                {
                                    "(No column name)": "3",
                                    "JOB": "CLERK"
                                },
                                {
                                    "(No column name)": "3",
                                    "JOB": "DATA ANALYST"
                                },
                                {
                                    "(No column name)": "3",
                                    "JOB": "DATA SCIENTIET"
                                }
                            ]
                        },
                        "text/html": "<table><tr><th>(No column name)</th><th>JOB</th></tr><tr><td>3</td><td>CLERK</td></tr><tr><td>3</td><td>DATA ANALYST</td></tr><tr><td>3</td><td>DATA SCIENTIET</td></tr></table>"
                    },
                    "metadata": {}
                }
            ],
            "execution_count": 16
        },
        {
            "cell_type": "markdown",
            "source": [
                "LIKE=\\>PATTERN  MATCH;\n",
                "\n",
                "The `LIKE` operator is used in a `WHERE` clause to search for a specified pattern in a column.\n",
                "\n",
                "There are two wildcards often used in conjunction with the `LIKE` operator:\n",
                "\n",
                "-  The percent sign (%) represents zero, one, or multiple characters\n",
                "-  The underscore sign (\\_) represents one, single character"
            ],
            "metadata": {
                "azdata_cell_guid": "82c4d3c6-67d3-4dcd-b4d1-1c94505b558c"
            },
            "attachments": {}
        },
        {
            "cell_type": "code",
            "source": [
                "SELECT ENAME \r\n",
                "FROM EMPLOYE_DETAILS\r\n",
                "WHERE ENAME LIKE 'A%';"
            ],
            "metadata": {
                "azdata_cell_guid": "23624441-26e1-4160-9139-33d10d3b26b9",
                "language": "sql"
            },
            "outputs": [
                {
                    "output_type": "display_data",
                    "data": {
                        "text/html": "(2 rows affected)"
                    },
                    "metadata": {}
                },
                {
                    "output_type": "display_data",
                    "data": {
                        "text/html": "Total execution time: 00:00:00.015"
                    },
                    "metadata": {}
                },
                {
                    "output_type": "execute_result",
                    "execution_count": 8,
                    "data": {
                        "application/vnd.dataresource+json": {
                            "schema": {
                                "fields": [
                                    {
                                        "name": "ENAME"
                                    }
                                ]
                            },
                            "data": [
                                {
                                    "ENAME": "ARUN"
                                },
                                {
                                    "ENAME": "AJAY"
                                }
                            ]
                        },
                        "text/html": "<table><tr><th>ENAME</th></tr><tr><td>ARUN</td></tr><tr><td>AJAY</td></tr></table>"
                    },
                    "metadata": {}
                }
            ],
            "execution_count": 8
        },
        {
            "cell_type": "code",
            "source": [
                "SELECT ENAME\r\n",
                "FROM EMPLOYE_DETAILS\r\n",
                "WHERE ENAME LIKE 'C%A_';"
            ],
            "metadata": {
                "language": "sql",
                "azdata_cell_guid": "603f24d6-693b-4573-b02f-caa900d2843e"
            },
            "outputs": [
                {
                    "output_type": "display_data",
                    "data": {
                        "text/html": "(1 row affected)"
                    },
                    "metadata": {}
                },
                {
                    "output_type": "display_data",
                    "data": {
                        "text/html": "Total execution time: 00:00:00.011"
                    },
                    "metadata": {}
                },
                {
                    "output_type": "execute_result",
                    "execution_count": 9,
                    "data": {
                        "application/vnd.dataresource+json": {
                            "schema": {
                                "fields": [
                                    {
                                        "name": "ENAME"
                                    }
                                ]
                            },
                            "data": [
                                {
                                    "ENAME": "CHANDRAN"
                                }
                            ]
                        },
                        "text/html": "<table><tr><th>ENAME</th></tr><tr><td>CHANDRAN</td></tr></table>"
                    },
                    "metadata": {}
                }
            ],
            "execution_count": 9
        },
        {
            "cell_type": "markdown",
            "source": [
                "SELECT TOP;\n",
                "\n",
                "The `SELECT TOP` clause is used to specify the number of records to return.\n",
                "\n",
                "The `SELECT TOP` clause is useful on large tables with thousands of records. Returning a large number of records can impact performance."
            ],
            "metadata": {
                "language": "sql",
                "azdata_cell_guid": "9a30df1d-5e7d-4b06-a3a5-0bf8758f20be"
            },
            "attachments": {}
        },
        {
            "cell_type": "code",
            "source": [
                "SELECT TOP 2 *\r\n",
                "FROM EMPLOYE_DETAILS;"
            ],
            "metadata": {
                "azdata_cell_guid": "6f1a3f05-1b64-4039-941d-28cfd2682f4a",
                "language": "sql",
                "tags": [
                    "hide_input"
                ]
            },
            "outputs": [
                {
                    "output_type": "display_data",
                    "data": {
                        "text/html": "(2 rows affected)"
                    },
                    "metadata": {}
                },
                {
                    "output_type": "display_data",
                    "data": {
                        "text/html": "Total execution time: 00:00:00.014"
                    },
                    "metadata": {}
                },
                {
                    "output_type": "execute_result",
                    "execution_count": 12,
                    "data": {
                        "application/vnd.dataresource+json": {
                            "schema": {
                                "fields": [
                                    {
                                        "name": "EID"
                                    },
                                    {
                                        "name": "ENAME"
                                    },
                                    {
                                        "name": "JOB"
                                    },
                                    {
                                        "name": "PHONE_NO"
                                    },
                                    {
                                        "name": "AGE"
                                    },
                                    {
                                        "name": "SAL"
                                    },
                                    {
                                        "name": "HIREDATE"
                                    }
                                ]
                            },
                            "data": [
                                {
                                    "EID": "1212",
                                    "ENAME": "VICKY",
                                    "JOB": "DATA ANALYST",
                                    "PHONE_NO": "9786534201",
                                    "AGE": "27",
                                    "SAL": "40000",
                                    "HIREDATE": "2020-04-01"
                                },
                                {
                                    "EID": "1245",
                                    "ENAME": "VIJAY",
                                    "JOB": "WEB DEVELOPER",
                                    "PHONE_NO": "7367894567",
                                    "AGE": "27",
                                    "SAL": "25000",
                                    "HIREDATE": "2018-01-27"
                                }
                            ]
                        },
                        "text/html": "<table><tr><th>EID</th><th>ENAME</th><th>JOB</th><th>PHONE_NO</th><th>AGE</th><th>SAL</th><th>HIREDATE</th></tr><tr><td>1212</td><td>VICKY</td><td>DATA ANALYST</td><td>9786534201</td><td>27</td><td>40000</td><td>2020-04-01</td></tr><tr><td>1245</td><td>VIJAY</td><td>WEB DEVELOPER</td><td>7367894567</td><td>27</td><td>25000</td><td>2018-01-27</td></tr></table>"
                    },
                    "metadata": {}
                }
            ],
            "execution_count": 12
        },
        {
            "cell_type": "code",
            "source": [
                "-- To USE FOREIGN KEY ADD MANAGER ID COLUMN \r\n",
                "ALTER TABLE EMPLOYE_DETAILS\r\n",
                "ADD MID NUMERIC(4);"
            ],
            "metadata": {
                "language": "sql",
                "azdata_cell_guid": "656b38f6-4a8b-4a2d-86dd-0b61342deb69"
            },
            "outputs": [
                {
                    "output_type": "display_data",
                    "data": {
                        "text/html": "Commands completed successfully."
                    },
                    "metadata": {}
                },
                {
                    "output_type": "display_data",
                    "data": {
                        "text/html": "Total execution time: 00:00:00.056"
                    },
                    "metadata": {}
                }
            ],
            "execution_count": 2
        },
        {
            "cell_type": "code",
            "source": [
                "UPDATE EMPLOYE_DETAILS\r\n",
                "SET MID=1122\r\n",
                "WHERE JOB='DATA ANALYST';"
            ],
            "metadata": {
                "language": "sql",
                "azdata_cell_guid": "e0889f36-85cb-4263-a8a8-ed4e6df86304"
            },
            "outputs": [
                {
                    "output_type": "display_data",
                    "data": {
                        "text/html": "(3 rows affected)"
                    },
                    "metadata": {}
                },
                {
                    "output_type": "display_data",
                    "data": {
                        "text/html": "Total execution time: 00:00:00.011"
                    },
                    "metadata": {}
                }
            ],
            "execution_count": 4
        },
        {
            "cell_type": "code",
            "source": [
                "UPDATE EMPLOYE_DETAILS\r\n",
                "SET MID=1123\r\n",
                "WHERE JOB='WEB DEVELOPER';"
            ],
            "metadata": {
                "language": "sql",
                "azdata_cell_guid": "8efa2d17-614d-4a35-a00e-0a3e13099b0e"
            },
            "outputs": [
                {
                    "output_type": "display_data",
                    "data": {
                        "text/html": "(5 rows affected)"
                    },
                    "metadata": {}
                },
                {
                    "output_type": "display_data",
                    "data": {
                        "text/html": "Total execution time: 00:00:00.014"
                    },
                    "metadata": {}
                }
            ],
            "execution_count": 5
        },
        {
            "cell_type": "code",
            "source": [
                "UPDATE EMPLOYE_DETAILS\r\n",
                "SET MID=1124\r\n",
                "WHERE JOB='DATA SCIENTIET';"
            ],
            "metadata": {
                "language": "sql",
                "azdata_cell_guid": "b814bbac-ebdb-492e-a08a-35c4738d9fbf"
            },
            "outputs": [
                {
                    "output_type": "display_data",
                    "data": {
                        "text/html": "(3 rows affected)"
                    },
                    "metadata": {}
                },
                {
                    "output_type": "display_data",
                    "data": {
                        "text/html": "Total execution time: 00:00:00.006"
                    },
                    "metadata": {}
                }
            ],
            "execution_count": 6
        },
        {
            "cell_type": "code",
            "source": [
                "SELECT *\r\n",
                "FROM EMPLOYE_DETAILS;"
            ],
            "metadata": {
                "language": "sql",
                "azdata_cell_guid": "db116de4-5910-4486-9044-10a8aeefb203"
            },
            "outputs": [
                {
                    "output_type": "display_data",
                    "data": {
                        "text/html": "(14 rows affected)"
                    },
                    "metadata": {}
                },
                {
                    "output_type": "display_data",
                    "data": {
                        "text/html": "Total execution time: 00:00:00.021"
                    },
                    "metadata": {}
                },
                {
                    "output_type": "execute_result",
                    "execution_count": 7,
                    "data": {
                        "application/vnd.dataresource+json": {
                            "schema": {
                                "fields": [
                                    {
                                        "name": "EID"
                                    },
                                    {
                                        "name": "ENAME"
                                    },
                                    {
                                        "name": "JOB"
                                    },
                                    {
                                        "name": "PHONE_NO"
                                    },
                                    {
                                        "name": "AGE"
                                    },
                                    {
                                        "name": "SAL"
                                    },
                                    {
                                        "name": "HIREDATE"
                                    },
                                    {
                                        "name": "MID"
                                    }
                                ]
                            },
                            "data": [
                                {
                                    "EID": "1212",
                                    "ENAME": "VICKY",
                                    "JOB": "DATA ANALYST",
                                    "PHONE_NO": "9786534201",
                                    "AGE": "27",
                                    "SAL": "40000",
                                    "HIREDATE": "2020-04-01",
                                    "MID": "1122"
                                },
                                {
                                    "EID": "1245",
                                    "ENAME": "VIJAY",
                                    "JOB": "WEB DEVELOPER",
                                    "PHONE_NO": "7367894567",
                                    "AGE": "27",
                                    "SAL": "25000",
                                    "HIREDATE": "2018-01-27",
                                    "MID": "1123"
                                },
                                {
                                    "EID": "1721",
                                    "ENAME": "ARUN",
                                    "JOB": "WEB DEVELOPER",
                                    "PHONE_NO": "9876543210",
                                    "AGE": "25",
                                    "SAL": "35000",
                                    "HIREDATE": "2021-03-30",
                                    "MID": "1123"
                                },
                                {
                                    "EID": "1762",
                                    "ENAME": "AJAY",
                                    "JOB": "DATA SCIENTIET",
                                    "PHONE_NO": "8789321456",
                                    "AGE": "30",
                                    "SAL": "45000",
                                    "HIREDATE": "2019-08-20",
                                    "MID": "1124"
                                },
                                {
                                    "EID": "1832",
                                    "ENAME": "SURYA",
                                    "JOB": "CLERK",
                                    "PHONE_NO": "6372456764",
                                    "AGE": "28",
                                    "SAL": "20000",
                                    "HIREDATE": "2019-08-20",
                                    "MID": "NULL"
                                },
                                {
                                    "EID": "2121",
                                    "ENAME": "SANTHOSH",
                                    "JOB": "WEB DEVELOPER",
                                    "PHONE_NO": "9823543210",
                                    "AGE": "29",
                                    "SAL": "25000",
                                    "HIREDATE": "2022-02-14",
                                    "MID": "1123"
                                },
                                {
                                    "EID": "2212",
                                    "ENAME": "JEEVA",
                                    "JOB": "DATA ANALYST",
                                    "PHONE_NO": "9781534201",
                                    "AGE": "25",
                                    "SAL": "30000",
                                    "HIREDATE": "2015-08-24",
                                    "MID": "1122"
                                },
                                {
                                    "EID": "3245",
                                    "ENAME": "MUTHU",
                                    "JOB": "WEB DEVELOPER",
                                    "PHONE_NO": "7361894567",
                                    "AGE": "36",
                                    "SAL": "25000",
                                    "HIREDATE": "2016-06-20",
                                    "MID": "1123"
                                },
                                {
                                    "EID": "3762",
                                    "ENAME": "TAMIL",
                                    "JOB": "DATA SCIENTIET",
                                    "PHONE_NO": "8780321456",
                                    "AGE": "34",
                                    "SAL": "25000",
                                    "HIREDATE": "2015-08-24",
                                    "MID": "1124"
                                },
                                {
                                    "EID": "3832",
                                    "ENAME": "SANJAY",
                                    "JOB": "CLERK",
                                    "PHONE_NO": "6372556764",
                                    "AGE": "22",
                                    "SAL": "12000",
                                    "HIREDATE": "2019-06-11",
                                    "MID": "NULL"
                                },
                                {
                                    "EID": "4212",
                                    "ENAME": "PREM KUMAR",
                                    "JOB": "DATA ANALYST",
                                    "PHONE_NO": "9086534201",
                                    "AGE": "27",
                                    "SAL": "40000",
                                    "HIREDATE": "2023-04-20",
                                    "MID": "1122"
                                },
                                {
                                    "EID": "4762",
                                    "ENAME": "CHANDRAN",
                                    "JOB": "DATA SCIENTIET",
                                    "PHONE_NO": "8789321406",
                                    "AGE": "30",
                                    "SAL": "45000",
                                    "HIREDATE": "2017-11-27",
                                    "MID": "1124"
                                },
                                {
                                    "EID": "4832",
                                    "ENAME": "SHANKAR",
                                    "JOB": "CLERK",
                                    "PHONE_NO": "6372456064",
                                    "AGE": "28",
                                    "SAL": "20000",
                                    "HIREDATE": "2013-10-15",
                                    "MID": "NULL"
                                },
                                {
                                    "EID": "5245",
                                    "ENAME": "DEEPAK",
                                    "JOB": "WEB DEVELOPER",
                                    "PHONE_NO": "7367894167",
                                    "AGE": "28",
                                    "SAL": "25000",
                                    "HIREDATE": "2014-11-08",
                                    "MID": "1123"
                                }
                            ]
                        },
                        "text/html": "<table><tr><th>EID</th><th>ENAME</th><th>JOB</th><th>PHONE_NO</th><th>AGE</th><th>SAL</th><th>HIREDATE</th><th>MID</th></tr><tr><td>1212</td><td>VICKY</td><td>DATA ANALYST</td><td>9786534201</td><td>27</td><td>40000</td><td>2020-04-01</td><td>1122</td></tr><tr><td>1245</td><td>VIJAY</td><td>WEB DEVELOPER</td><td>7367894567</td><td>27</td><td>25000</td><td>2018-01-27</td><td>1123</td></tr><tr><td>1721</td><td>ARUN</td><td>WEB DEVELOPER</td><td>9876543210</td><td>25</td><td>35000</td><td>2021-03-30</td><td>1123</td></tr><tr><td>1762</td><td>AJAY</td><td>DATA SCIENTIET</td><td>8789321456</td><td>30</td><td>45000</td><td>2019-08-20</td><td>1124</td></tr><tr><td>1832</td><td>SURYA</td><td>CLERK</td><td>6372456764</td><td>28</td><td>20000</td><td>2019-08-20</td><td>NULL</td></tr><tr><td>2121</td><td>SANTHOSH</td><td>WEB DEVELOPER</td><td>9823543210</td><td>29</td><td>25000</td><td>2022-02-14</td><td>1123</td></tr><tr><td>2212</td><td>JEEVA</td><td>DATA ANALYST</td><td>9781534201</td><td>25</td><td>30000</td><td>2015-08-24</td><td>1122</td></tr><tr><td>3245</td><td>MUTHU</td><td>WEB DEVELOPER</td><td>7361894567</td><td>36</td><td>25000</td><td>2016-06-20</td><td>1123</td></tr><tr><td>3762</td><td>TAMIL</td><td>DATA SCIENTIET</td><td>8780321456</td><td>34</td><td>25000</td><td>2015-08-24</td><td>1124</td></tr><tr><td>3832</td><td>SANJAY</td><td>CLERK</td><td>6372556764</td><td>22</td><td>12000</td><td>2019-06-11</td><td>NULL</td></tr><tr><td>4212</td><td>PREM KUMAR</td><td>DATA ANALYST</td><td>9086534201</td><td>27</td><td>40000</td><td>2023-04-20</td><td>1122</td></tr><tr><td>4762</td><td>CHANDRAN</td><td>DATA SCIENTIET</td><td>8789321406</td><td>30</td><td>45000</td><td>2017-11-27</td><td>1124</td></tr><tr><td>4832</td><td>SHANKAR</td><td>CLERK</td><td>6372456064</td><td>28</td><td>20000</td><td>2013-10-15</td><td>NULL</td></tr><tr><td>5245</td><td>DEEPAK</td><td>WEB DEVELOPER</td><td>7367894167</td><td>28</td><td>25000</td><td>2014-11-08</td><td>1123</td></tr></table>"
                    },
                    "metadata": {}
                }
            ],
            "execution_count": 7
        },
        {
            "cell_type": "markdown",
            "source": [
                "11/07/2023;\n",
                "\n",
                "TABLE CREATION;"
            ],
            "metadata": {
                "language": "sql",
                "azdata_cell_guid": "37d75b41-b56d-4aa8-ba59-05a2203116e0"
            },
            "attachments": {}
        },
        {
            "cell_type": "code",
            "source": [
                "USE EmployeDB;"
            ],
            "metadata": {
                "language": "sql",
                "azdata_cell_guid": "1f3eec63-451a-4997-93a5-8790d85f77eb"
            },
            "outputs": [
                {
                    "output_type": "display_data",
                    "data": {
                        "text/html": "Commands completed successfully."
                    },
                    "metadata": {}
                },
                {
                    "output_type": "display_data",
                    "data": {
                        "text/html": "Total execution time: 00:00:00"
                    },
                    "metadata": {}
                }
            ],
            "execution_count": 16
        },
        {
            "cell_type": "code",
            "source": [
                "CREATE TABLE MANAGER\r\n",
                "(\r\n",
                "    MID NUMERIC(4) PRIMARY KEY, \r\n",
                "    MNAME VARCHAR(15) NOT NULL,\r\n",
                "    LOCATION VARCHAR(20),\r\n",
                "    SAL NUMERIC(5) NOT NULL,\r\n",
                ");"
            ],
            "metadata": {
                "language": "sql",
                "azdata_cell_guid": "4bd5a5c4-9a55-406f-8914-6b0de5ba5583"
            },
            "outputs": [
                {
                    "output_type": "error",
                    "ename": "",
                    "evalue": "Msg 2714, Level 16, State 6, Line 1\r\nThere is already an object named 'MANAGER' in the database.",
                    "traceback": []
                },
                {
                    "output_type": "display_data",
                    "data": {
                        "text/html": "Total execution time: 00:00:00.003"
                    },
                    "metadata": {}
                }
            ],
            "execution_count": 18
        },
        {
            "cell_type": "code",
            "source": [
                "INSERT INTO MANAGER VALUES(1122,'KUMAR','CHENNAI',50000);\r\n",
                "INSERT INTO MANAGER VALUES(1123,'BARATH','BANGALORE',60000);\r\n",
                "INSERT INTO MANAGER VALUES(1124,'ARIVU','MUMBAI',75000);"
            ],
            "metadata": {
                "language": "sql",
                "azdata_cell_guid": "6bd55c02-a674-4bf9-adf3-2ff7fb2d60d4"
            },
            "outputs": [
                {
                    "output_type": "error",
                    "ename": "",
                    "evalue": "Msg 2627, Level 14, State 1, Line 1\r\nViolation of PRIMARY KEY constraint 'PK__MANAGER__C797348AB5DEEC76'. Cannot insert duplicate key in object 'dbo.MANAGER'. The duplicate key value is (1122).",
                    "traceback": []
                },
                {
                    "output_type": "display_data",
                    "data": {
                        "text/html": "The statement has been terminated."
                    },
                    "metadata": {}
                },
                {
                    "output_type": "error",
                    "ename": "",
                    "evalue": "Msg 2627, Level 14, State 1, Line 2\r\nViolation of PRIMARY KEY constraint 'PK__MANAGER__C797348AB5DEEC76'. Cannot insert duplicate key in object 'dbo.MANAGER'. The duplicate key value is (1123).",
                    "traceback": []
                },
                {
                    "output_type": "display_data",
                    "data": {
                        "text/html": "The statement has been terminated."
                    },
                    "metadata": {}
                },
                {
                    "output_type": "error",
                    "ename": "",
                    "evalue": "Msg 2627, Level 14, State 1, Line 3\r\nViolation of PRIMARY KEY constraint 'PK__MANAGER__C797348AB5DEEC76'. Cannot insert duplicate key in object 'dbo.MANAGER'. The duplicate key value is (1124).",
                    "traceback": []
                },
                {
                    "output_type": "display_data",
                    "data": {
                        "text/html": "The statement has been terminated."
                    },
                    "metadata": {}
                },
                {
                    "output_type": "display_data",
                    "data": {
                        "text/html": "Total execution time: 00:00:00.003"
                    },
                    "metadata": {}
                }
            ],
            "execution_count": 6
        },
        {
            "cell_type": "code",
            "source": [
                "ALTER TABLE EMPLOYE_DETAILS\r\n",
                "ALTER COLUMN MID NUMERIC(4);"
            ],
            "metadata": {
                "language": "sql",
                "azdata_cell_guid": "a72b7339-dd02-4256-939e-80637699bc33"
            },
            "outputs": [
                {
                    "output_type": "display_data",
                    "data": {
                        "text/html": "Commands completed successfully."
                    },
                    "metadata": {}
                },
                {
                    "output_type": "display_data",
                    "data": {
                        "text/html": "Total execution time: 00:00:00.015"
                    },
                    "metadata": {}
                }
            ],
            "execution_count": 22
        },
        {
            "cell_type": "markdown",
            "source": [
                "ADD FORIEGN KEY;"
            ],
            "metadata": {
                "language": "sql",
                "azdata_cell_guid": "5fbc9daf-1a27-41e6-848a-5ba3aea72d98"
            },
            "attachments": {}
        },
        {
            "cell_type": "code",
            "source": [
                "ALTER TABLE EMPLOYE_DETAILS\r\n",
                "ADD FOREIGN KEY (MID) REFERENCES MANAGER(MID);"
            ],
            "metadata": {
                "language": "sql",
                "azdata_cell_guid": "d15acd03-c4d7-44ed-85db-4adebdb67513"
            },
            "outputs": [
                {
                    "output_type": "display_data",
                    "data": {
                        "text/html": "Commands completed successfully."
                    },
                    "metadata": {}
                },
                {
                    "output_type": "display_data",
                    "data": {
                        "text/html": "Total execution time: 00:00:00.009"
                    },
                    "metadata": {}
                }
            ],
            "execution_count": 23
        },
        {
            "cell_type": "markdown",
            "source": [
                "JOINS;\n",
                "\n",
                "## Different Types of SQL JOINs\n",
                "\n",
                "Here are the different types of the JOINs in SQL:\n",
                "\n",
                "- `(INNER) JOIN`: Returns records that have matching values in both tables\n",
                "- `LEFT (OUTER) JOIN`: Returns all records from the left table, and the matched records from the right table\n",
                "- `RIGHT (OUTER) JOIN`: Returns all records from the right table, and the matched records from the left table\n",
                "- `FULL (OUTER) JOIN`: Returns all records when there is a match in either left or right table\n",
                "\n",
                "![SQL INNER JOIN](https://www.w3schools.com/sql/img_innerjoin.gif)  ![SQL LEFT JOIN](https://www.w3schools.com/sql/img_leftjoin.gif)  ![SQL RIGHT JOIN](https://www.w3schools.com/sql/img_rightjoin.gif)  ![SQL FULL OUTER JOIN](https://www.w3schools.com/sql/img_fulljoin.gif)\n",
                "\n",
                "CROSS JOIN;"
            ],
            "metadata": {
                "language": "sql",
                "azdata_cell_guid": "465bdb6f-792f-4c35-92cd-2fd5de821e65"
            },
            "attachments": {}
        },
        {
            "cell_type": "code",
            "source": [
                "SELECT *\r\n",
                "FROM EMPLOYE_DETAILS CROSS JOIN MANAGER;"
            ],
            "metadata": {
                "language": "sql",
                "azdata_cell_guid": "068e0d57-08d7-40b6-adb9-69584ea3f0fc"
            },
            "outputs": [
                {
                    "output_type": "display_data",
                    "data": {
                        "text/html": "(42 rows affected)"
                    },
                    "metadata": {}
                },
                {
                    "output_type": "display_data",
                    "data": {
                        "text/html": "Total execution time: 00:00:00.061"
                    },
                    "metadata": {}
                },
                {
                    "output_type": "execute_result",
                    "execution_count": 1,
                    "data": {
                        "application/vnd.dataresource+json": {
                            "schema": {
                                "fields": [
                                    {
                                        "name": "EID"
                                    },
                                    {
                                        "name": "ENAME"
                                    },
                                    {
                                        "name": "JOB"
                                    },
                                    {
                                        "name": "PHONE_NO"
                                    },
                                    {
                                        "name": "AGE"
                                    },
                                    {
                                        "name": "SAL"
                                    },
                                    {
                                        "name": "HIREDATE"
                                    },
                                    {
                                        "name": "MID"
                                    },
                                    {
                                        "name": "MID"
                                    },
                                    {
                                        "name": "MNAME"
                                    },
                                    {
                                        "name": "LOCATION"
                                    },
                                    {
                                        "name": "SAL"
                                    }
                                ]
                            },
                            "data": [
                                {
                                    "EID": "1212",
                                    "ENAME": "VICKY",
                                    "JOB": "DATA ANALYST",
                                    "PHONE_NO": "9786534201",
                                    "AGE": "27",
                                    "SAL": "50000",
                                    "HIREDATE": "2020-04-01",
                                    "MID": "1122",
                                    "MNAME": "KUMAR",
                                    "LOCATION": "CHENNAI"
                                },
                                {
                                    "EID": "1245",
                                    "ENAME": "VIJAY",
                                    "JOB": "WEB DEVELOPER",
                                    "PHONE_NO": "7367894567",
                                    "AGE": "27",
                                    "SAL": "50000",
                                    "HIREDATE": "2018-01-27",
                                    "MID": "1122",
                                    "MNAME": "KUMAR",
                                    "LOCATION": "CHENNAI"
                                },
                                {
                                    "EID": "1721",
                                    "ENAME": "ARUN",
                                    "JOB": "WEB DEVELOPER",
                                    "PHONE_NO": "9876543210",
                                    "AGE": "25",
                                    "SAL": "50000",
                                    "HIREDATE": "2021-03-30",
                                    "MID": "1122",
                                    "MNAME": "KUMAR",
                                    "LOCATION": "CHENNAI"
                                },
                                {
                                    "EID": "1762",
                                    "ENAME": "AJAY",
                                    "JOB": "DATA SCIENTIET",
                                    "PHONE_NO": "8789321456",
                                    "AGE": "30",
                                    "SAL": "50000",
                                    "HIREDATE": "2019-08-20",
                                    "MID": "1122",
                                    "MNAME": "KUMAR",
                                    "LOCATION": "CHENNAI"
                                },
                                {
                                    "EID": "1832",
                                    "ENAME": "SURYA",
                                    "JOB": "CLERK",
                                    "PHONE_NO": "6372456764",
                                    "AGE": "28",
                                    "SAL": "50000",
                                    "HIREDATE": "2019-08-20",
                                    "MID": "1122",
                                    "MNAME": "KUMAR",
                                    "LOCATION": "CHENNAI"
                                },
                                {
                                    "EID": "2121",
                                    "ENAME": "SANTHOSH",
                                    "JOB": "WEB DEVELOPER",
                                    "PHONE_NO": "9823543210",
                                    "AGE": "29",
                                    "SAL": "50000",
                                    "HIREDATE": "2022-02-14",
                                    "MID": "1122",
                                    "MNAME": "KUMAR",
                                    "LOCATION": "CHENNAI"
                                },
                                {
                                    "EID": "2212",
                                    "ENAME": "JEEVA",
                                    "JOB": "DATA ANALYST",
                                    "PHONE_NO": "9781534201",
                                    "AGE": "25",
                                    "SAL": "50000",
                                    "HIREDATE": "2015-08-24",
                                    "MID": "1122",
                                    "MNAME": "KUMAR",
                                    "LOCATION": "CHENNAI"
                                },
                                {
                                    "EID": "3245",
                                    "ENAME": "MUTHU",
                                    "JOB": "WEB DEVELOPER",
                                    "PHONE_NO": "7361894567",
                                    "AGE": "36",
                                    "SAL": "50000",
                                    "HIREDATE": "2016-06-20",
                                    "MID": "1122",
                                    "MNAME": "KUMAR",
                                    "LOCATION": "CHENNAI"
                                },
                                {
                                    "EID": "3762",
                                    "ENAME": "TAMIL",
                                    "JOB": "DATA SCIENTIET",
                                    "PHONE_NO": "8780321456",
                                    "AGE": "34",
                                    "SAL": "50000",
                                    "HIREDATE": "2015-08-24",
                                    "MID": "1122",
                                    "MNAME": "KUMAR",
                                    "LOCATION": "CHENNAI"
                                },
                                {
                                    "EID": "3832",
                                    "ENAME": "SANJAY",
                                    "JOB": "CLERK",
                                    "PHONE_NO": "6372556764",
                                    "AGE": "22",
                                    "SAL": "50000",
                                    "HIREDATE": "2019-06-11",
                                    "MID": "1122",
                                    "MNAME": "KUMAR",
                                    "LOCATION": "CHENNAI"
                                },
                                {
                                    "EID": "4212",
                                    "ENAME": "PREM KUMAR",
                                    "JOB": "DATA ANALYST",
                                    "PHONE_NO": "9086534201",
                                    "AGE": "27",
                                    "SAL": "50000",
                                    "HIREDATE": "2023-04-20",
                                    "MID": "1122",
                                    "MNAME": "KUMAR",
                                    "LOCATION": "CHENNAI"
                                },
                                {
                                    "EID": "4762",
                                    "ENAME": "CHANDRAN",
                                    "JOB": "DATA SCIENTIET",
                                    "PHONE_NO": "8789321406",
                                    "AGE": "30",
                                    "SAL": "50000",
                                    "HIREDATE": "2017-11-27",
                                    "MID": "1122",
                                    "MNAME": "KUMAR",
                                    "LOCATION": "CHENNAI"
                                },
                                {
                                    "EID": "4832",
                                    "ENAME": "SHANKAR",
                                    "JOB": "CLERK",
                                    "PHONE_NO": "6372456064",
                                    "AGE": "28",
                                    "SAL": "50000",
                                    "HIREDATE": "2013-10-15",
                                    "MID": "1122",
                                    "MNAME": "KUMAR",
                                    "LOCATION": "CHENNAI"
                                },
                                {
                                    "EID": "5245",
                                    "ENAME": "DEEPAK",
                                    "JOB": "WEB DEVELOPER",
                                    "PHONE_NO": "7367894167",
                                    "AGE": "28",
                                    "SAL": "50000",
                                    "HIREDATE": "2014-11-08",
                                    "MID": "1122",
                                    "MNAME": "KUMAR",
                                    "LOCATION": "CHENNAI"
                                },
                                {
                                    "EID": "1212",
                                    "ENAME": "VICKY",
                                    "JOB": "DATA ANALYST",
                                    "PHONE_NO": "9786534201",
                                    "AGE": "27",
                                    "SAL": "60000",
                                    "HIREDATE": "2020-04-01",
                                    "MID": "1123",
                                    "MNAME": "BARATH",
                                    "LOCATION": "BANGALORE"
                                },
                                {
                                    "EID": "1245",
                                    "ENAME": "VIJAY",
                                    "JOB": "WEB DEVELOPER",
                                    "PHONE_NO": "7367894567",
                                    "AGE": "27",
                                    "SAL": "60000",
                                    "HIREDATE": "2018-01-27",
                                    "MID": "1123",
                                    "MNAME": "BARATH",
                                    "LOCATION": "BANGALORE"
                                },
                                {
                                    "EID": "1721",
                                    "ENAME": "ARUN",
                                    "JOB": "WEB DEVELOPER",
                                    "PHONE_NO": "9876543210",
                                    "AGE": "25",
                                    "SAL": "60000",
                                    "HIREDATE": "2021-03-30",
                                    "MID": "1123",
                                    "MNAME": "BARATH",
                                    "LOCATION": "BANGALORE"
                                },
                                {
                                    "EID": "1762",
                                    "ENAME": "AJAY",
                                    "JOB": "DATA SCIENTIET",
                                    "PHONE_NO": "8789321456",
                                    "AGE": "30",
                                    "SAL": "60000",
                                    "HIREDATE": "2019-08-20",
                                    "MID": "1123",
                                    "MNAME": "BARATH",
                                    "LOCATION": "BANGALORE"
                                },
                                {
                                    "EID": "1832",
                                    "ENAME": "SURYA",
                                    "JOB": "CLERK",
                                    "PHONE_NO": "6372456764",
                                    "AGE": "28",
                                    "SAL": "60000",
                                    "HIREDATE": "2019-08-20",
                                    "MID": "1123",
                                    "MNAME": "BARATH",
                                    "LOCATION": "BANGALORE"
                                },
                                {
                                    "EID": "2121",
                                    "ENAME": "SANTHOSH",
                                    "JOB": "WEB DEVELOPER",
                                    "PHONE_NO": "9823543210",
                                    "AGE": "29",
                                    "SAL": "60000",
                                    "HIREDATE": "2022-02-14",
                                    "MID": "1123",
                                    "MNAME": "BARATH",
                                    "LOCATION": "BANGALORE"
                                },
                                {
                                    "EID": "2212",
                                    "ENAME": "JEEVA",
                                    "JOB": "DATA ANALYST",
                                    "PHONE_NO": "9781534201",
                                    "AGE": "25",
                                    "SAL": "60000",
                                    "HIREDATE": "2015-08-24",
                                    "MID": "1123",
                                    "MNAME": "BARATH",
                                    "LOCATION": "BANGALORE"
                                },
                                {
                                    "EID": "3245",
                                    "ENAME": "MUTHU",
                                    "JOB": "WEB DEVELOPER",
                                    "PHONE_NO": "7361894567",
                                    "AGE": "36",
                                    "SAL": "60000",
                                    "HIREDATE": "2016-06-20",
                                    "MID": "1123",
                                    "MNAME": "BARATH",
                                    "LOCATION": "BANGALORE"
                                },
                                {
                                    "EID": "3762",
                                    "ENAME": "TAMIL",
                                    "JOB": "DATA SCIENTIET",
                                    "PHONE_NO": "8780321456",
                                    "AGE": "34",
                                    "SAL": "60000",
                                    "HIREDATE": "2015-08-24",
                                    "MID": "1123",
                                    "MNAME": "BARATH",
                                    "LOCATION": "BANGALORE"
                                },
                                {
                                    "EID": "3832",
                                    "ENAME": "SANJAY",
                                    "JOB": "CLERK",
                                    "PHONE_NO": "6372556764",
                                    "AGE": "22",
                                    "SAL": "60000",
                                    "HIREDATE": "2019-06-11",
                                    "MID": "1123",
                                    "MNAME": "BARATH",
                                    "LOCATION": "BANGALORE"
                                },
                                {
                                    "EID": "4212",
                                    "ENAME": "PREM KUMAR",
                                    "JOB": "DATA ANALYST",
                                    "PHONE_NO": "9086534201",
                                    "AGE": "27",
                                    "SAL": "60000",
                                    "HIREDATE": "2023-04-20",
                                    "MID": "1123",
                                    "MNAME": "BARATH",
                                    "LOCATION": "BANGALORE"
                                },
                                {
                                    "EID": "4762",
                                    "ENAME": "CHANDRAN",
                                    "JOB": "DATA SCIENTIET",
                                    "PHONE_NO": "8789321406",
                                    "AGE": "30",
                                    "SAL": "60000",
                                    "HIREDATE": "2017-11-27",
                                    "MID": "1123",
                                    "MNAME": "BARATH",
                                    "LOCATION": "BANGALORE"
                                },
                                {
                                    "EID": "4832",
                                    "ENAME": "SHANKAR",
                                    "JOB": "CLERK",
                                    "PHONE_NO": "6372456064",
                                    "AGE": "28",
                                    "SAL": "60000",
                                    "HIREDATE": "2013-10-15",
                                    "MID": "1123",
                                    "MNAME": "BARATH",
                                    "LOCATION": "BANGALORE"
                                },
                                {
                                    "EID": "5245",
                                    "ENAME": "DEEPAK",
                                    "JOB": "WEB DEVELOPER",
                                    "PHONE_NO": "7367894167",
                                    "AGE": "28",
                                    "SAL": "60000",
                                    "HIREDATE": "2014-11-08",
                                    "MID": "1123",
                                    "MNAME": "BARATH",
                                    "LOCATION": "BANGALORE"
                                },
                                {
                                    "EID": "1212",
                                    "ENAME": "VICKY",
                                    "JOB": "DATA ANALYST",
                                    "PHONE_NO": "9786534201",
                                    "AGE": "27",
                                    "SAL": "75000",
                                    "HIREDATE": "2020-04-01",
                                    "MID": "1124",
                                    "MNAME": "ARIVU",
                                    "LOCATION": "MUMBAI"
                                },
                                {
                                    "EID": "1245",
                                    "ENAME": "VIJAY",
                                    "JOB": "WEB DEVELOPER",
                                    "PHONE_NO": "7367894567",
                                    "AGE": "27",
                                    "SAL": "75000",
                                    "HIREDATE": "2018-01-27",
                                    "MID": "1124",
                                    "MNAME": "ARIVU",
                                    "LOCATION": "MUMBAI"
                                },
                                {
                                    "EID": "1721",
                                    "ENAME": "ARUN",
                                    "JOB": "WEB DEVELOPER",
                                    "PHONE_NO": "9876543210",
                                    "AGE": "25",
                                    "SAL": "75000",
                                    "HIREDATE": "2021-03-30",
                                    "MID": "1124",
                                    "MNAME": "ARIVU",
                                    "LOCATION": "MUMBAI"
                                },
                                {
                                    "EID": "1762",
                                    "ENAME": "AJAY",
                                    "JOB": "DATA SCIENTIET",
                                    "PHONE_NO": "8789321456",
                                    "AGE": "30",
                                    "SAL": "75000",
                                    "HIREDATE": "2019-08-20",
                                    "MID": "1124",
                                    "MNAME": "ARIVU",
                                    "LOCATION": "MUMBAI"
                                },
                                {
                                    "EID": "1832",
                                    "ENAME": "SURYA",
                                    "JOB": "CLERK",
                                    "PHONE_NO": "6372456764",
                                    "AGE": "28",
                                    "SAL": "75000",
                                    "HIREDATE": "2019-08-20",
                                    "MID": "1124",
                                    "MNAME": "ARIVU",
                                    "LOCATION": "MUMBAI"
                                },
                                {
                                    "EID": "2121",
                                    "ENAME": "SANTHOSH",
                                    "JOB": "WEB DEVELOPER",
                                    "PHONE_NO": "9823543210",
                                    "AGE": "29",
                                    "SAL": "75000",
                                    "HIREDATE": "2022-02-14",
                                    "MID": "1124",
                                    "MNAME": "ARIVU",
                                    "LOCATION": "MUMBAI"
                                },
                                {
                                    "EID": "2212",
                                    "ENAME": "JEEVA",
                                    "JOB": "DATA ANALYST",
                                    "PHONE_NO": "9781534201",
                                    "AGE": "25",
                                    "SAL": "75000",
                                    "HIREDATE": "2015-08-24",
                                    "MID": "1124",
                                    "MNAME": "ARIVU",
                                    "LOCATION": "MUMBAI"
                                },
                                {
                                    "EID": "3245",
                                    "ENAME": "MUTHU",
                                    "JOB": "WEB DEVELOPER",
                                    "PHONE_NO": "7361894567",
                                    "AGE": "36",
                                    "SAL": "75000",
                                    "HIREDATE": "2016-06-20",
                                    "MID": "1124",
                                    "MNAME": "ARIVU",
                                    "LOCATION": "MUMBAI"
                                },
                                {
                                    "EID": "3762",
                                    "ENAME": "TAMIL",
                                    "JOB": "DATA SCIENTIET",
                                    "PHONE_NO": "8780321456",
                                    "AGE": "34",
                                    "SAL": "75000",
                                    "HIREDATE": "2015-08-24",
                                    "MID": "1124",
                                    "MNAME": "ARIVU",
                                    "LOCATION": "MUMBAI"
                                },
                                {
                                    "EID": "3832",
                                    "ENAME": "SANJAY",
                                    "JOB": "CLERK",
                                    "PHONE_NO": "6372556764",
                                    "AGE": "22",
                                    "SAL": "75000",
                                    "HIREDATE": "2019-06-11",
                                    "MID": "1124",
                                    "MNAME": "ARIVU",
                                    "LOCATION": "MUMBAI"
                                },
                                {
                                    "EID": "4212",
                                    "ENAME": "PREM KUMAR",
                                    "JOB": "DATA ANALYST",
                                    "PHONE_NO": "9086534201",
                                    "AGE": "27",
                                    "SAL": "75000",
                                    "HIREDATE": "2023-04-20",
                                    "MID": "1124",
                                    "MNAME": "ARIVU",
                                    "LOCATION": "MUMBAI"
                                },
                                {
                                    "EID": "4762",
                                    "ENAME": "CHANDRAN",
                                    "JOB": "DATA SCIENTIET",
                                    "PHONE_NO": "8789321406",
                                    "AGE": "30",
                                    "SAL": "75000",
                                    "HIREDATE": "2017-11-27",
                                    "MID": "1124",
                                    "MNAME": "ARIVU",
                                    "LOCATION": "MUMBAI"
                                },
                                {
                                    "EID": "4832",
                                    "ENAME": "SHANKAR",
                                    "JOB": "CLERK",
                                    "PHONE_NO": "6372456064",
                                    "AGE": "28",
                                    "SAL": "75000",
                                    "HIREDATE": "2013-10-15",
                                    "MID": "1124",
                                    "MNAME": "ARIVU",
                                    "LOCATION": "MUMBAI"
                                },
                                {
                                    "EID": "5245",
                                    "ENAME": "DEEPAK",
                                    "JOB": "WEB DEVELOPER",
                                    "PHONE_NO": "7367894167",
                                    "AGE": "28",
                                    "SAL": "75000",
                                    "HIREDATE": "2014-11-08",
                                    "MID": "1124",
                                    "MNAME": "ARIVU",
                                    "LOCATION": "MUMBAI"
                                }
                            ]
                        },
                        "text/html": "<table><tr><th>EID</th><th>ENAME</th><th>JOB</th><th>PHONE_NO</th><th>AGE</th><th>SAL</th><th>HIREDATE</th><th>MID</th><th>MID</th><th>MNAME</th><th>LOCATION</th><th>SAL</th></tr><tr><td>1212</td><td>VICKY</td><td>DATA ANALYST</td><td>9786534201</td><td>27</td><td>45000</td><td>2020-04-01</td><td>1122</td><td>1122</td><td>KUMAR</td><td>CHENNAI</td><td>50000</td></tr><tr><td>1245</td><td>VIJAY</td><td>WEB DEVELOPER</td><td>7367894567</td><td>27</td><td>25000</td><td>2018-01-27</td><td>1123</td><td>1122</td><td>KUMAR</td><td>CHENNAI</td><td>50000</td></tr><tr><td>1721</td><td>ARUN</td><td>WEB DEVELOPER</td><td>9876543210</td><td>25</td><td>35000</td><td>2021-03-30</td><td>1123</td><td>1122</td><td>KUMAR</td><td>CHENNAI</td><td>50000</td></tr><tr><td>1762</td><td>AJAY</td><td>DATA SCIENTIET</td><td>8789321456</td><td>30</td><td>45000</td><td>2019-08-20</td><td>1124</td><td>1122</td><td>KUMAR</td><td>CHENNAI</td><td>50000</td></tr><tr><td>1832</td><td>SURYA</td><td>CLERK</td><td>6372456764</td><td>28</td><td>25000</td><td>2019-08-20</td><td>NULL</td><td>1122</td><td>KUMAR</td><td>CHENNAI</td><td>50000</td></tr><tr><td>2121</td><td>SANTHOSH</td><td>WEB DEVELOPER</td><td>9823543210</td><td>29</td><td>25000</td><td>2022-02-14</td><td>1123</td><td>1122</td><td>KUMAR</td><td>CHENNAI</td><td>50000</td></tr><tr><td>2212</td><td>JEEVA</td><td>DATA ANALYST</td><td>9781534201</td><td>25</td><td>30000</td><td>2015-08-24</td><td>1122</td><td>1122</td><td>KUMAR</td><td>CHENNAI</td><td>50000</td></tr><tr><td>3245</td><td>MUTHU</td><td>WEB DEVELOPER</td><td>7361894567</td><td>36</td><td>25000</td><td>2016-06-20</td><td>1123</td><td>1122</td><td>KUMAR</td><td>CHENNAI</td><td>50000</td></tr><tr><td>3762</td><td>TAMIL</td><td>DATA SCIENTIET</td><td>8780321456</td><td>34</td><td>25000</td><td>2015-08-24</td><td>1124</td><td>1122</td><td>KUMAR</td><td>CHENNAI</td><td>50000</td></tr><tr><td>3832</td><td>SANJAY</td><td>CLERK</td><td>6372556764</td><td>22</td><td>12000</td><td>2019-06-11</td><td>NULL</td><td>1122</td><td>KUMAR</td><td>CHENNAI</td><td>50000</td></tr><tr><td>4212</td><td>PREM KUMAR</td><td>DATA ANALYST</td><td>9086534201</td><td>27</td><td>40000</td><td>2023-04-20</td><td>1122</td><td>1122</td><td>KUMAR</td><td>CHENNAI</td><td>50000</td></tr><tr><td>4762</td><td>CHANDRAN</td><td>DATA SCIENTIET</td><td>8789321406</td><td>30</td><td>45000</td><td>2017-11-27</td><td>1124</td><td>1122</td><td>KUMAR</td><td>CHENNAI</td><td>50000</td></tr><tr><td>4832</td><td>SHANKAR</td><td>CLERK</td><td>6372456064</td><td>28</td><td>20000</td><td>2013-10-15</td><td>NULL</td><td>1122</td><td>KUMAR</td><td>CHENNAI</td><td>50000</td></tr><tr><td>5245</td><td>DEEPAK</td><td>WEB DEVELOPER</td><td>7367894167</td><td>28</td><td>25000</td><td>2014-11-08</td><td>1123</td><td>1122</td><td>KUMAR</td><td>CHENNAI</td><td>50000</td></tr><tr><td>1212</td><td>VICKY</td><td>DATA ANALYST</td><td>9786534201</td><td>27</td><td>45000</td><td>2020-04-01</td><td>1122</td><td>1123</td><td>BARATH</td><td>BANGALORE</td><td>60000</td></tr><tr><td>1245</td><td>VIJAY</td><td>WEB DEVELOPER</td><td>7367894567</td><td>27</td><td>25000</td><td>2018-01-27</td><td>1123</td><td>1123</td><td>BARATH</td><td>BANGALORE</td><td>60000</td></tr><tr><td>1721</td><td>ARUN</td><td>WEB DEVELOPER</td><td>9876543210</td><td>25</td><td>35000</td><td>2021-03-30</td><td>1123</td><td>1123</td><td>BARATH</td><td>BANGALORE</td><td>60000</td></tr><tr><td>1762</td><td>AJAY</td><td>DATA SCIENTIET</td><td>8789321456</td><td>30</td><td>45000</td><td>2019-08-20</td><td>1124</td><td>1123</td><td>BARATH</td><td>BANGALORE</td><td>60000</td></tr><tr><td>1832</td><td>SURYA</td><td>CLERK</td><td>6372456764</td><td>28</td><td>25000</td><td>2019-08-20</td><td>NULL</td><td>1123</td><td>BARATH</td><td>BANGALORE</td><td>60000</td></tr><tr><td>2121</td><td>SANTHOSH</td><td>WEB DEVELOPER</td><td>9823543210</td><td>29</td><td>25000</td><td>2022-02-14</td><td>1123</td><td>1123</td><td>BARATH</td><td>BANGALORE</td><td>60000</td></tr><tr><td>2212</td><td>JEEVA</td><td>DATA ANALYST</td><td>9781534201</td><td>25</td><td>30000</td><td>2015-08-24</td><td>1122</td><td>1123</td><td>BARATH</td><td>BANGALORE</td><td>60000</td></tr><tr><td>3245</td><td>MUTHU</td><td>WEB DEVELOPER</td><td>7361894567</td><td>36</td><td>25000</td><td>2016-06-20</td><td>1123</td><td>1123</td><td>BARATH</td><td>BANGALORE</td><td>60000</td></tr><tr><td>3762</td><td>TAMIL</td><td>DATA SCIENTIET</td><td>8780321456</td><td>34</td><td>25000</td><td>2015-08-24</td><td>1124</td><td>1123</td><td>BARATH</td><td>BANGALORE</td><td>60000</td></tr><tr><td>3832</td><td>SANJAY</td><td>CLERK</td><td>6372556764</td><td>22</td><td>12000</td><td>2019-06-11</td><td>NULL</td><td>1123</td><td>BARATH</td><td>BANGALORE</td><td>60000</td></tr><tr><td>4212</td><td>PREM KUMAR</td><td>DATA ANALYST</td><td>9086534201</td><td>27</td><td>40000</td><td>2023-04-20</td><td>1122</td><td>1123</td><td>BARATH</td><td>BANGALORE</td><td>60000</td></tr><tr><td>4762</td><td>CHANDRAN</td><td>DATA SCIENTIET</td><td>8789321406</td><td>30</td><td>45000</td><td>2017-11-27</td><td>1124</td><td>1123</td><td>BARATH</td><td>BANGALORE</td><td>60000</td></tr><tr><td>4832</td><td>SHANKAR</td><td>CLERK</td><td>6372456064</td><td>28</td><td>20000</td><td>2013-10-15</td><td>NULL</td><td>1123</td><td>BARATH</td><td>BANGALORE</td><td>60000</td></tr><tr><td>5245</td><td>DEEPAK</td><td>WEB DEVELOPER</td><td>7367894167</td><td>28</td><td>25000</td><td>2014-11-08</td><td>1123</td><td>1123</td><td>BARATH</td><td>BANGALORE</td><td>60000</td></tr><tr><td>1212</td><td>VICKY</td><td>DATA ANALYST</td><td>9786534201</td><td>27</td><td>45000</td><td>2020-04-01</td><td>1122</td><td>1124</td><td>ARIVU</td><td>MUMBAI</td><td>75000</td></tr><tr><td>1245</td><td>VIJAY</td><td>WEB DEVELOPER</td><td>7367894567</td><td>27</td><td>25000</td><td>2018-01-27</td><td>1123</td><td>1124</td><td>ARIVU</td><td>MUMBAI</td><td>75000</td></tr><tr><td>1721</td><td>ARUN</td><td>WEB DEVELOPER</td><td>9876543210</td><td>25</td><td>35000</td><td>2021-03-30</td><td>1123</td><td>1124</td><td>ARIVU</td><td>MUMBAI</td><td>75000</td></tr><tr><td>1762</td><td>AJAY</td><td>DATA SCIENTIET</td><td>8789321456</td><td>30</td><td>45000</td><td>2019-08-20</td><td>1124</td><td>1124</td><td>ARIVU</td><td>MUMBAI</td><td>75000</td></tr><tr><td>1832</td><td>SURYA</td><td>CLERK</td><td>6372456764</td><td>28</td><td>25000</td><td>2019-08-20</td><td>NULL</td><td>1124</td><td>ARIVU</td><td>MUMBAI</td><td>75000</td></tr><tr><td>2121</td><td>SANTHOSH</td><td>WEB DEVELOPER</td><td>9823543210</td><td>29</td><td>25000</td><td>2022-02-14</td><td>1123</td><td>1124</td><td>ARIVU</td><td>MUMBAI</td><td>75000</td></tr><tr><td>2212</td><td>JEEVA</td><td>DATA ANALYST</td><td>9781534201</td><td>25</td><td>30000</td><td>2015-08-24</td><td>1122</td><td>1124</td><td>ARIVU</td><td>MUMBAI</td><td>75000</td></tr><tr><td>3245</td><td>MUTHU</td><td>WEB DEVELOPER</td><td>7361894567</td><td>36</td><td>25000</td><td>2016-06-20</td><td>1123</td><td>1124</td><td>ARIVU</td><td>MUMBAI</td><td>75000</td></tr><tr><td>3762</td><td>TAMIL</td><td>DATA SCIENTIET</td><td>8780321456</td><td>34</td><td>25000</td><td>2015-08-24</td><td>1124</td><td>1124</td><td>ARIVU</td><td>MUMBAI</td><td>75000</td></tr><tr><td>3832</td><td>SANJAY</td><td>CLERK</td><td>6372556764</td><td>22</td><td>12000</td><td>2019-06-11</td><td>NULL</td><td>1124</td><td>ARIVU</td><td>MUMBAI</td><td>75000</td></tr><tr><td>4212</td><td>PREM KUMAR</td><td>DATA ANALYST</td><td>9086534201</td><td>27</td><td>40000</td><td>2023-04-20</td><td>1122</td><td>1124</td><td>ARIVU</td><td>MUMBAI</td><td>75000</td></tr><tr><td>4762</td><td>CHANDRAN</td><td>DATA SCIENTIET</td><td>8789321406</td><td>30</td><td>45000</td><td>2017-11-27</td><td>1124</td><td>1124</td><td>ARIVU</td><td>MUMBAI</td><td>75000</td></tr><tr><td>4832</td><td>SHANKAR</td><td>CLERK</td><td>6372456064</td><td>28</td><td>20000</td><td>2013-10-15</td><td>NULL</td><td>1124</td><td>ARIVU</td><td>MUMBAI</td><td>75000</td></tr><tr><td>5245</td><td>DEEPAK</td><td>WEB DEVELOPER</td><td>7367894167</td><td>28</td><td>25000</td><td>2014-11-08</td><td>1123</td><td>1124</td><td>ARIVU</td><td>MUMBAI</td><td>75000</td></tr></table>"
                    },
                    "metadata": {}
                }
            ],
            "execution_count": 1
        },
        {
            "cell_type": "markdown",
            "source": [
                "INNER JOIN;\n",
                "\n",
                " `INNER JOIN` <span style=\"color: rgb(0, 0, 0); font-family: Verdana, sans-serif; font-size: 15px; background-color: rgb(255, 255, 255);\">&nbsp;keyword selects records that have matching values in both tables.</span>"
            ],
            "metadata": {
                "language": "sql",
                "azdata_cell_guid": "3e56c9c4-233a-49fc-8e27-3c445cca0dde"
            },
            "attachments": {}
        },
        {
            "cell_type": "code",
            "source": [
                "SELECT *\r\n",
                "FROM EMPLOYE_DETAILS,MANAGER\r\n",
                "WHERE EMPLOYE_DETAILS.MID=MANAGER.MID;"
            ],
            "metadata": {
                "azdata_cell_guid": "74e3cace-923c-4850-9b52-22e6d4d77c22",
                "language": "sql"
            },
            "outputs": [
                {
                    "output_type": "display_data",
                    "data": {
                        "text/html": "(11 rows affected)"
                    },
                    "metadata": {}
                },
                {
                    "output_type": "display_data",
                    "data": {
                        "text/html": "Total execution time: 00:00:00.012"
                    },
                    "metadata": {}
                },
                {
                    "output_type": "execute_result",
                    "execution_count": 2,
                    "data": {
                        "application/vnd.dataresource+json": {
                            "schema": {
                                "fields": [
                                    {
                                        "name": "EID"
                                    },
                                    {
                                        "name": "ENAME"
                                    },
                                    {
                                        "name": "JOB"
                                    },
                                    {
                                        "name": "PHONE_NO"
                                    },
                                    {
                                        "name": "AGE"
                                    },
                                    {
                                        "name": "SAL"
                                    },
                                    {
                                        "name": "HIREDATE"
                                    },
                                    {
                                        "name": "MID"
                                    },
                                    {
                                        "name": "MID"
                                    },
                                    {
                                        "name": "MNAME"
                                    },
                                    {
                                        "name": "LOCATION"
                                    },
                                    {
                                        "name": "SAL"
                                    }
                                ]
                            },
                            "data": [
                                {
                                    "EID": "1212",
                                    "ENAME": "VICKY",
                                    "JOB": "DATA ANALYST",
                                    "PHONE_NO": "9786534201",
                                    "AGE": "27",
                                    "SAL": "50000",
                                    "HIREDATE": "2020-04-01",
                                    "MID": "1122",
                                    "MNAME": "KUMAR",
                                    "LOCATION": "CHENNAI"
                                },
                                {
                                    "EID": "1245",
                                    "ENAME": "VIJAY",
                                    "JOB": "WEB DEVELOPER",
                                    "PHONE_NO": "7367894567",
                                    "AGE": "27",
                                    "SAL": "60000",
                                    "HIREDATE": "2018-01-27",
                                    "MID": "1123",
                                    "MNAME": "BARATH",
                                    "LOCATION": "BANGALORE"
                                },
                                {
                                    "EID": "1721",
                                    "ENAME": "ARUN",
                                    "JOB": "WEB DEVELOPER",
                                    "PHONE_NO": "9876543210",
                                    "AGE": "25",
                                    "SAL": "60000",
                                    "HIREDATE": "2021-03-30",
                                    "MID": "1123",
                                    "MNAME": "BARATH",
                                    "LOCATION": "BANGALORE"
                                },
                                {
                                    "EID": "1762",
                                    "ENAME": "AJAY",
                                    "JOB": "DATA SCIENTIET",
                                    "PHONE_NO": "8789321456",
                                    "AGE": "30",
                                    "SAL": "75000",
                                    "HIREDATE": "2019-08-20",
                                    "MID": "1124",
                                    "MNAME": "ARIVU",
                                    "LOCATION": "MUMBAI"
                                },
                                {
                                    "EID": "2121",
                                    "ENAME": "SANTHOSH",
                                    "JOB": "WEB DEVELOPER",
                                    "PHONE_NO": "9823543210",
                                    "AGE": "29",
                                    "SAL": "60000",
                                    "HIREDATE": "2022-02-14",
                                    "MID": "1123",
                                    "MNAME": "BARATH",
                                    "LOCATION": "BANGALORE"
                                },
                                {
                                    "EID": "2212",
                                    "ENAME": "JEEVA",
                                    "JOB": "DATA ANALYST",
                                    "PHONE_NO": "9781534201",
                                    "AGE": "25",
                                    "SAL": "50000",
                                    "HIREDATE": "2015-08-24",
                                    "MID": "1122",
                                    "MNAME": "KUMAR",
                                    "LOCATION": "CHENNAI"
                                },
                                {
                                    "EID": "3245",
                                    "ENAME": "MUTHU",
                                    "JOB": "WEB DEVELOPER",
                                    "PHONE_NO": "7361894567",
                                    "AGE": "36",
                                    "SAL": "60000",
                                    "HIREDATE": "2016-06-20",
                                    "MID": "1123",
                                    "MNAME": "BARATH",
                                    "LOCATION": "BANGALORE"
                                },
                                {
                                    "EID": "3762",
                                    "ENAME": "TAMIL",
                                    "JOB": "DATA SCIENTIET",
                                    "PHONE_NO": "8780321456",
                                    "AGE": "34",
                                    "SAL": "75000",
                                    "HIREDATE": "2015-08-24",
                                    "MID": "1124",
                                    "MNAME": "ARIVU",
                                    "LOCATION": "MUMBAI"
                                },
                                {
                                    "EID": "4212",
                                    "ENAME": "PREM KUMAR",
                                    "JOB": "DATA ANALYST",
                                    "PHONE_NO": "9086534201",
                                    "AGE": "27",
                                    "SAL": "50000",
                                    "HIREDATE": "2023-04-20",
                                    "MID": "1122",
                                    "MNAME": "KUMAR",
                                    "LOCATION": "CHENNAI"
                                },
                                {
                                    "EID": "4762",
                                    "ENAME": "CHANDRAN",
                                    "JOB": "DATA SCIENTIET",
                                    "PHONE_NO": "8789321406",
                                    "AGE": "30",
                                    "SAL": "75000",
                                    "HIREDATE": "2017-11-27",
                                    "MID": "1124",
                                    "MNAME": "ARIVU",
                                    "LOCATION": "MUMBAI"
                                },
                                {
                                    "EID": "5245",
                                    "ENAME": "DEEPAK",
                                    "JOB": "WEB DEVELOPER",
                                    "PHONE_NO": "7367894167",
                                    "AGE": "28",
                                    "SAL": "60000",
                                    "HIREDATE": "2014-11-08",
                                    "MID": "1123",
                                    "MNAME": "BARATH",
                                    "LOCATION": "BANGALORE"
                                }
                            ]
                        },
                        "text/html": "<table><tr><th>EID</th><th>ENAME</th><th>JOB</th><th>PHONE_NO</th><th>AGE</th><th>SAL</th><th>HIREDATE</th><th>MID</th><th>MID</th><th>MNAME</th><th>LOCATION</th><th>SAL</th></tr><tr><td>1212</td><td>VICKY</td><td>DATA ANALYST</td><td>9786534201</td><td>27</td><td>45000</td><td>2020-04-01</td><td>1122</td><td>1122</td><td>KUMAR</td><td>CHENNAI</td><td>50000</td></tr><tr><td>1245</td><td>VIJAY</td><td>WEB DEVELOPER</td><td>7367894567</td><td>27</td><td>25000</td><td>2018-01-27</td><td>1123</td><td>1123</td><td>BARATH</td><td>BANGALORE</td><td>60000</td></tr><tr><td>1721</td><td>ARUN</td><td>WEB DEVELOPER</td><td>9876543210</td><td>25</td><td>35000</td><td>2021-03-30</td><td>1123</td><td>1123</td><td>BARATH</td><td>BANGALORE</td><td>60000</td></tr><tr><td>1762</td><td>AJAY</td><td>DATA SCIENTIET</td><td>8789321456</td><td>30</td><td>45000</td><td>2019-08-20</td><td>1124</td><td>1124</td><td>ARIVU</td><td>MUMBAI</td><td>75000</td></tr><tr><td>2121</td><td>SANTHOSH</td><td>WEB DEVELOPER</td><td>9823543210</td><td>29</td><td>25000</td><td>2022-02-14</td><td>1123</td><td>1123</td><td>BARATH</td><td>BANGALORE</td><td>60000</td></tr><tr><td>2212</td><td>JEEVA</td><td>DATA ANALYST</td><td>9781534201</td><td>25</td><td>30000</td><td>2015-08-24</td><td>1122</td><td>1122</td><td>KUMAR</td><td>CHENNAI</td><td>50000</td></tr><tr><td>3245</td><td>MUTHU</td><td>WEB DEVELOPER</td><td>7361894567</td><td>36</td><td>25000</td><td>2016-06-20</td><td>1123</td><td>1123</td><td>BARATH</td><td>BANGALORE</td><td>60000</td></tr><tr><td>3762</td><td>TAMIL</td><td>DATA SCIENTIET</td><td>8780321456</td><td>34</td><td>25000</td><td>2015-08-24</td><td>1124</td><td>1124</td><td>ARIVU</td><td>MUMBAI</td><td>75000</td></tr><tr><td>4212</td><td>PREM KUMAR</td><td>DATA ANALYST</td><td>9086534201</td><td>27</td><td>40000</td><td>2023-04-20</td><td>1122</td><td>1122</td><td>KUMAR</td><td>CHENNAI</td><td>50000</td></tr><tr><td>4762</td><td>CHANDRAN</td><td>DATA SCIENTIET</td><td>8789321406</td><td>30</td><td>45000</td><td>2017-11-27</td><td>1124</td><td>1124</td><td>ARIVU</td><td>MUMBAI</td><td>75000</td></tr><tr><td>5245</td><td>DEEPAK</td><td>WEB DEVELOPER</td><td>7367894167</td><td>28</td><td>25000</td><td>2014-11-08</td><td>1123</td><td>1123</td><td>BARATH</td><td>BANGALORE</td><td>60000</td></tr></table>"
                    },
                    "metadata": {}
                }
            ],
            "execution_count": 2
        },
        {
            "cell_type": "markdown",
            "source": [
                "OUTER JOIN;\n",
                "\n",
                "LEFT JOIN;\n",
                "\n",
                "<span style=\"color: rgb(0, 0, 0); font-family: Verdana, sans-serif; font-size: 15px; background-color: rgb(255, 255, 255);\">The&nbsp;</span> `LEFT JOIN` <span style=\"color: rgb(0, 0, 0); font-family: Verdana, sans-serif; font-size: 15px; background-color: rgb(255, 255, 255);\">&nbsp;keyword returns all records from the left table (table1), and the matching records from the right table (table2). The result is 0 records from the right side, if there is no match.</span>"
            ],
            "metadata": {
                "language": "sql",
                "azdata_cell_guid": "b77d028d-c8e5-4cde-8fb3-2af0c53f97b7"
            },
            "attachments": {}
        },
        {
            "cell_type": "code",
            "source": [
                "SELECT *\r\n",
                "FROM EMPLOYE_DETAILS LEFT JOIN MANAGER\r\n",
                "ON EMPLOYE_DETAILS.MID=MANAGER.MID;"
            ],
            "metadata": {
                "language": "sql",
                "azdata_cell_guid": "47faa674-a50a-4b41-a6da-fa6e4193ffaa",
                "tags": []
            },
            "outputs": [
                {
                    "output_type": "display_data",
                    "data": {
                        "text/html": "(14 rows affected)"
                    },
                    "metadata": {}
                },
                {
                    "output_type": "display_data",
                    "data": {
                        "text/html": "Total execution time: 00:00:00.011"
                    },
                    "metadata": {}
                },
                {
                    "output_type": "execute_result",
                    "execution_count": 3,
                    "data": {
                        "application/vnd.dataresource+json": {
                            "schema": {
                                "fields": [
                                    {
                                        "name": "EID"
                                    },
                                    {
                                        "name": "ENAME"
                                    },
                                    {
                                        "name": "JOB"
                                    },
                                    {
                                        "name": "PHONE_NO"
                                    },
                                    {
                                        "name": "AGE"
                                    },
                                    {
                                        "name": "SAL"
                                    },
                                    {
                                        "name": "HIREDATE"
                                    },
                                    {
                                        "name": "MID"
                                    },
                                    {
                                        "name": "MID"
                                    },
                                    {
                                        "name": "MNAME"
                                    },
                                    {
                                        "name": "LOCATION"
                                    },
                                    {
                                        "name": "SAL"
                                    }
                                ]
                            },
                            "data": [
                                {
                                    "EID": "1212",
                                    "ENAME": "VICKY",
                                    "JOB": "DATA ANALYST",
                                    "PHONE_NO": "9786534201",
                                    "AGE": "27",
                                    "SAL": "50000",
                                    "HIREDATE": "2020-04-01",
                                    "MID": "1122",
                                    "MNAME": "KUMAR",
                                    "LOCATION": "CHENNAI"
                                },
                                {
                                    "EID": "1245",
                                    "ENAME": "VIJAY",
                                    "JOB": "WEB DEVELOPER",
                                    "PHONE_NO": "7367894567",
                                    "AGE": "27",
                                    "SAL": "60000",
                                    "HIREDATE": "2018-01-27",
                                    "MID": "1123",
                                    "MNAME": "BARATH",
                                    "LOCATION": "BANGALORE"
                                },
                                {
                                    "EID": "1721",
                                    "ENAME": "ARUN",
                                    "JOB": "WEB DEVELOPER",
                                    "PHONE_NO": "9876543210",
                                    "AGE": "25",
                                    "SAL": "60000",
                                    "HIREDATE": "2021-03-30",
                                    "MID": "1123",
                                    "MNAME": "BARATH",
                                    "LOCATION": "BANGALORE"
                                },
                                {
                                    "EID": "1762",
                                    "ENAME": "AJAY",
                                    "JOB": "DATA SCIENTIET",
                                    "PHONE_NO": "8789321456",
                                    "AGE": "30",
                                    "SAL": "75000",
                                    "HIREDATE": "2019-08-20",
                                    "MID": "1124",
                                    "MNAME": "ARIVU",
                                    "LOCATION": "MUMBAI"
                                },
                                {
                                    "EID": "1832",
                                    "ENAME": "SURYA",
                                    "JOB": "CLERK",
                                    "PHONE_NO": "6372456764",
                                    "AGE": "28",
                                    "SAL": "NULL",
                                    "HIREDATE": "2019-08-20",
                                    "MID": "NULL",
                                    "MNAME": "NULL",
                                    "LOCATION": "NULL"
                                },
                                {
                                    "EID": "2121",
                                    "ENAME": "SANTHOSH",
                                    "JOB": "WEB DEVELOPER",
                                    "PHONE_NO": "9823543210",
                                    "AGE": "29",
                                    "SAL": "60000",
                                    "HIREDATE": "2022-02-14",
                                    "MID": "1123",
                                    "MNAME": "BARATH",
                                    "LOCATION": "BANGALORE"
                                },
                                {
                                    "EID": "2212",
                                    "ENAME": "JEEVA",
                                    "JOB": "DATA ANALYST",
                                    "PHONE_NO": "9781534201",
                                    "AGE": "25",
                                    "SAL": "50000",
                                    "HIREDATE": "2015-08-24",
                                    "MID": "1122",
                                    "MNAME": "KUMAR",
                                    "LOCATION": "CHENNAI"
                                },
                                {
                                    "EID": "3245",
                                    "ENAME": "MUTHU",
                                    "JOB": "WEB DEVELOPER",
                                    "PHONE_NO": "7361894567",
                                    "AGE": "36",
                                    "SAL": "60000",
                                    "HIREDATE": "2016-06-20",
                                    "MID": "1123",
                                    "MNAME": "BARATH",
                                    "LOCATION": "BANGALORE"
                                },
                                {
                                    "EID": "3762",
                                    "ENAME": "TAMIL",
                                    "JOB": "DATA SCIENTIET",
                                    "PHONE_NO": "8780321456",
                                    "AGE": "34",
                                    "SAL": "75000",
                                    "HIREDATE": "2015-08-24",
                                    "MID": "1124",
                                    "MNAME": "ARIVU",
                                    "LOCATION": "MUMBAI"
                                },
                                {
                                    "EID": "3832",
                                    "ENAME": "SANJAY",
                                    "JOB": "CLERK",
                                    "PHONE_NO": "6372556764",
                                    "AGE": "22",
                                    "SAL": "NULL",
                                    "HIREDATE": "2019-06-11",
                                    "MID": "NULL",
                                    "MNAME": "NULL",
                                    "LOCATION": "NULL"
                                },
                                {
                                    "EID": "4212",
                                    "ENAME": "PREM KUMAR",
                                    "JOB": "DATA ANALYST",
                                    "PHONE_NO": "9086534201",
                                    "AGE": "27",
                                    "SAL": "50000",
                                    "HIREDATE": "2023-04-20",
                                    "MID": "1122",
                                    "MNAME": "KUMAR",
                                    "LOCATION": "CHENNAI"
                                },
                                {
                                    "EID": "4762",
                                    "ENAME": "CHANDRAN",
                                    "JOB": "DATA SCIENTIET",
                                    "PHONE_NO": "8789321406",
                                    "AGE": "30",
                                    "SAL": "75000",
                                    "HIREDATE": "2017-11-27",
                                    "MID": "1124",
                                    "MNAME": "ARIVU",
                                    "LOCATION": "MUMBAI"
                                },
                                {
                                    "EID": "4832",
                                    "ENAME": "SHANKAR",
                                    "JOB": "CLERK",
                                    "PHONE_NO": "6372456064",
                                    "AGE": "28",
                                    "SAL": "NULL",
                                    "HIREDATE": "2013-10-15",
                                    "MID": "NULL",
                                    "MNAME": "NULL",
                                    "LOCATION": "NULL"
                                },
                                {
                                    "EID": "5245",
                                    "ENAME": "DEEPAK",
                                    "JOB": "WEB DEVELOPER",
                                    "PHONE_NO": "7367894167",
                                    "AGE": "28",
                                    "SAL": "60000",
                                    "HIREDATE": "2014-11-08",
                                    "MID": "1123",
                                    "MNAME": "BARATH",
                                    "LOCATION": "BANGALORE"
                                }
                            ]
                        },
                        "text/html": "<table><tr><th>EID</th><th>ENAME</th><th>JOB</th><th>PHONE_NO</th><th>AGE</th><th>SAL</th><th>HIREDATE</th><th>MID</th><th>MID</th><th>MNAME</th><th>LOCATION</th><th>SAL</th></tr><tr><td>1212</td><td>VICKY</td><td>DATA ANALYST</td><td>9786534201</td><td>27</td><td>45000</td><td>2020-04-01</td><td>1122</td><td>1122</td><td>KUMAR</td><td>CHENNAI</td><td>50000</td></tr><tr><td>1245</td><td>VIJAY</td><td>WEB DEVELOPER</td><td>7367894567</td><td>27</td><td>25000</td><td>2018-01-27</td><td>1123</td><td>1123</td><td>BARATH</td><td>BANGALORE</td><td>60000</td></tr><tr><td>1721</td><td>ARUN</td><td>WEB DEVELOPER</td><td>9876543210</td><td>25</td><td>35000</td><td>2021-03-30</td><td>1123</td><td>1123</td><td>BARATH</td><td>BANGALORE</td><td>60000</td></tr><tr><td>1762</td><td>AJAY</td><td>DATA SCIENTIET</td><td>8789321456</td><td>30</td><td>45000</td><td>2019-08-20</td><td>1124</td><td>1124</td><td>ARIVU</td><td>MUMBAI</td><td>75000</td></tr><tr><td>1832</td><td>SURYA</td><td>CLERK</td><td>6372456764</td><td>28</td><td>25000</td><td>2019-08-20</td><td>NULL</td><td>NULL</td><td>NULL</td><td>NULL</td><td>NULL</td></tr><tr><td>2121</td><td>SANTHOSH</td><td>WEB DEVELOPER</td><td>9823543210</td><td>29</td><td>25000</td><td>2022-02-14</td><td>1123</td><td>1123</td><td>BARATH</td><td>BANGALORE</td><td>60000</td></tr><tr><td>2212</td><td>JEEVA</td><td>DATA ANALYST</td><td>9781534201</td><td>25</td><td>30000</td><td>2015-08-24</td><td>1122</td><td>1122</td><td>KUMAR</td><td>CHENNAI</td><td>50000</td></tr><tr><td>3245</td><td>MUTHU</td><td>WEB DEVELOPER</td><td>7361894567</td><td>36</td><td>25000</td><td>2016-06-20</td><td>1123</td><td>1123</td><td>BARATH</td><td>BANGALORE</td><td>60000</td></tr><tr><td>3762</td><td>TAMIL</td><td>DATA SCIENTIET</td><td>8780321456</td><td>34</td><td>25000</td><td>2015-08-24</td><td>1124</td><td>1124</td><td>ARIVU</td><td>MUMBAI</td><td>75000</td></tr><tr><td>3832</td><td>SANJAY</td><td>CLERK</td><td>6372556764</td><td>22</td><td>12000</td><td>2019-06-11</td><td>NULL</td><td>NULL</td><td>NULL</td><td>NULL</td><td>NULL</td></tr><tr><td>4212</td><td>PREM KUMAR</td><td>DATA ANALYST</td><td>9086534201</td><td>27</td><td>40000</td><td>2023-04-20</td><td>1122</td><td>1122</td><td>KUMAR</td><td>CHENNAI</td><td>50000</td></tr><tr><td>4762</td><td>CHANDRAN</td><td>DATA SCIENTIET</td><td>8789321406</td><td>30</td><td>45000</td><td>2017-11-27</td><td>1124</td><td>1124</td><td>ARIVU</td><td>MUMBAI</td><td>75000</td></tr><tr><td>4832</td><td>SHANKAR</td><td>CLERK</td><td>6372456064</td><td>28</td><td>20000</td><td>2013-10-15</td><td>NULL</td><td>NULL</td><td>NULL</td><td>NULL</td><td>NULL</td></tr><tr><td>5245</td><td>DEEPAK</td><td>WEB DEVELOPER</td><td>7367894167</td><td>28</td><td>25000</td><td>2014-11-08</td><td>1123</td><td>1123</td><td>BARATH</td><td>BANGALORE</td><td>60000</td></tr></table>"
                    },
                    "metadata": {}
                }
            ],
            "execution_count": 3
        },
        {
            "cell_type": "markdown",
            "source": [
                "RIGHT OUTER JOIN;\n",
                "\n",
                "<span style=\"color: rgb(0, 0, 0); font-family: Verdana, sans-serif; font-size: 15px; background-color: rgb(255, 255, 255);\">The&nbsp;</span> `RIGHT JOIN` <span style=\"color: rgb(0, 0, 0); font-family: Verdana, sans-serif; font-size: 15px; background-color: rgb(255, 255, 255);\">&nbsp;keyword returns all records from the right table (table2), and the matching records from the left table (table1). The result is 0 records from the left side, if there is no match.</span>"
            ],
            "metadata": {
                "language": "sql",
                "azdata_cell_guid": "278d0a13-c4af-4acc-b850-fb29ebf9aa0d"
            },
            "attachments": {}
        },
        {
            "cell_type": "code",
            "source": [
                "SELECT *\r\n",
                "FROM EMPLOYE_DETAILS RIGHT JOIN MANAGER\r\n",
                "ON EMPLOYE_DETAILS.MID=MANAGER.MID;"
            ],
            "metadata": {
                "language": "sql",
                "azdata_cell_guid": "36d01c09-c92c-4b06-b5d3-502565ff7542"
            },
            "outputs": [
                {
                    "output_type": "display_data",
                    "data": {
                        "text/html": "(11 rows affected)"
                    },
                    "metadata": {}
                },
                {
                    "output_type": "display_data",
                    "data": {
                        "text/html": "Total execution time: 00:00:00.013"
                    },
                    "metadata": {}
                },
                {
                    "output_type": "execute_result",
                    "execution_count": 4,
                    "data": {
                        "application/vnd.dataresource+json": {
                            "schema": {
                                "fields": [
                                    {
                                        "name": "EID"
                                    },
                                    {
                                        "name": "ENAME"
                                    },
                                    {
                                        "name": "JOB"
                                    },
                                    {
                                        "name": "PHONE_NO"
                                    },
                                    {
                                        "name": "AGE"
                                    },
                                    {
                                        "name": "SAL"
                                    },
                                    {
                                        "name": "HIREDATE"
                                    },
                                    {
                                        "name": "MID"
                                    },
                                    {
                                        "name": "MID"
                                    },
                                    {
                                        "name": "MNAME"
                                    },
                                    {
                                        "name": "LOCATION"
                                    },
                                    {
                                        "name": "SAL"
                                    }
                                ]
                            },
                            "data": [
                                {
                                    "EID": "1212",
                                    "ENAME": "VICKY",
                                    "JOB": "DATA ANALYST",
                                    "PHONE_NO": "9786534201",
                                    "AGE": "27",
                                    "SAL": "50000",
                                    "HIREDATE": "2020-04-01",
                                    "MID": "1122",
                                    "MNAME": "KUMAR",
                                    "LOCATION": "CHENNAI"
                                },
                                {
                                    "EID": "2212",
                                    "ENAME": "JEEVA",
                                    "JOB": "DATA ANALYST",
                                    "PHONE_NO": "9781534201",
                                    "AGE": "25",
                                    "SAL": "50000",
                                    "HIREDATE": "2015-08-24",
                                    "MID": "1122",
                                    "MNAME": "KUMAR",
                                    "LOCATION": "CHENNAI"
                                },
                                {
                                    "EID": "4212",
                                    "ENAME": "PREM KUMAR",
                                    "JOB": "DATA ANALYST",
                                    "PHONE_NO": "9086534201",
                                    "AGE": "27",
                                    "SAL": "50000",
                                    "HIREDATE": "2023-04-20",
                                    "MID": "1122",
                                    "MNAME": "KUMAR",
                                    "LOCATION": "CHENNAI"
                                },
                                {
                                    "EID": "1245",
                                    "ENAME": "VIJAY",
                                    "JOB": "WEB DEVELOPER",
                                    "PHONE_NO": "7367894567",
                                    "AGE": "27",
                                    "SAL": "60000",
                                    "HIREDATE": "2018-01-27",
                                    "MID": "1123",
                                    "MNAME": "BARATH",
                                    "LOCATION": "BANGALORE"
                                },
                                {
                                    "EID": "1721",
                                    "ENAME": "ARUN",
                                    "JOB": "WEB DEVELOPER",
                                    "PHONE_NO": "9876543210",
                                    "AGE": "25",
                                    "SAL": "60000",
                                    "HIREDATE": "2021-03-30",
                                    "MID": "1123",
                                    "MNAME": "BARATH",
                                    "LOCATION": "BANGALORE"
                                },
                                {
                                    "EID": "2121",
                                    "ENAME": "SANTHOSH",
                                    "JOB": "WEB DEVELOPER",
                                    "PHONE_NO": "9823543210",
                                    "AGE": "29",
                                    "SAL": "60000",
                                    "HIREDATE": "2022-02-14",
                                    "MID": "1123",
                                    "MNAME": "BARATH",
                                    "LOCATION": "BANGALORE"
                                },
                                {
                                    "EID": "3245",
                                    "ENAME": "MUTHU",
                                    "JOB": "WEB DEVELOPER",
                                    "PHONE_NO": "7361894567",
                                    "AGE": "36",
                                    "SAL": "60000",
                                    "HIREDATE": "2016-06-20",
                                    "MID": "1123",
                                    "MNAME": "BARATH",
                                    "LOCATION": "BANGALORE"
                                },
                                {
                                    "EID": "5245",
                                    "ENAME": "DEEPAK",
                                    "JOB": "WEB DEVELOPER",
                                    "PHONE_NO": "7367894167",
                                    "AGE": "28",
                                    "SAL": "60000",
                                    "HIREDATE": "2014-11-08",
                                    "MID": "1123",
                                    "MNAME": "BARATH",
                                    "LOCATION": "BANGALORE"
                                },
                                {
                                    "EID": "1762",
                                    "ENAME": "AJAY",
                                    "JOB": "DATA SCIENTIET",
                                    "PHONE_NO": "8789321456",
                                    "AGE": "30",
                                    "SAL": "75000",
                                    "HIREDATE": "2019-08-20",
                                    "MID": "1124",
                                    "MNAME": "ARIVU",
                                    "LOCATION": "MUMBAI"
                                },
                                {
                                    "EID": "3762",
                                    "ENAME": "TAMIL",
                                    "JOB": "DATA SCIENTIET",
                                    "PHONE_NO": "8780321456",
                                    "AGE": "34",
                                    "SAL": "75000",
                                    "HIREDATE": "2015-08-24",
                                    "MID": "1124",
                                    "MNAME": "ARIVU",
                                    "LOCATION": "MUMBAI"
                                },
                                {
                                    "EID": "4762",
                                    "ENAME": "CHANDRAN",
                                    "JOB": "DATA SCIENTIET",
                                    "PHONE_NO": "8789321406",
                                    "AGE": "30",
                                    "SAL": "75000",
                                    "HIREDATE": "2017-11-27",
                                    "MID": "1124",
                                    "MNAME": "ARIVU",
                                    "LOCATION": "MUMBAI"
                                }
                            ]
                        },
                        "text/html": "<table><tr><th>EID</th><th>ENAME</th><th>JOB</th><th>PHONE_NO</th><th>AGE</th><th>SAL</th><th>HIREDATE</th><th>MID</th><th>MID</th><th>MNAME</th><th>LOCATION</th><th>SAL</th></tr><tr><td>1212</td><td>VICKY</td><td>DATA ANALYST</td><td>9786534201</td><td>27</td><td>45000</td><td>2020-04-01</td><td>1122</td><td>1122</td><td>KUMAR</td><td>CHENNAI</td><td>50000</td></tr><tr><td>2212</td><td>JEEVA</td><td>DATA ANALYST</td><td>9781534201</td><td>25</td><td>30000</td><td>2015-08-24</td><td>1122</td><td>1122</td><td>KUMAR</td><td>CHENNAI</td><td>50000</td></tr><tr><td>4212</td><td>PREM KUMAR</td><td>DATA ANALYST</td><td>9086534201</td><td>27</td><td>40000</td><td>2023-04-20</td><td>1122</td><td>1122</td><td>KUMAR</td><td>CHENNAI</td><td>50000</td></tr><tr><td>1245</td><td>VIJAY</td><td>WEB DEVELOPER</td><td>7367894567</td><td>27</td><td>25000</td><td>2018-01-27</td><td>1123</td><td>1123</td><td>BARATH</td><td>BANGALORE</td><td>60000</td></tr><tr><td>1721</td><td>ARUN</td><td>WEB DEVELOPER</td><td>9876543210</td><td>25</td><td>35000</td><td>2021-03-30</td><td>1123</td><td>1123</td><td>BARATH</td><td>BANGALORE</td><td>60000</td></tr><tr><td>2121</td><td>SANTHOSH</td><td>WEB DEVELOPER</td><td>9823543210</td><td>29</td><td>25000</td><td>2022-02-14</td><td>1123</td><td>1123</td><td>BARATH</td><td>BANGALORE</td><td>60000</td></tr><tr><td>3245</td><td>MUTHU</td><td>WEB DEVELOPER</td><td>7361894567</td><td>36</td><td>25000</td><td>2016-06-20</td><td>1123</td><td>1123</td><td>BARATH</td><td>BANGALORE</td><td>60000</td></tr><tr><td>5245</td><td>DEEPAK</td><td>WEB DEVELOPER</td><td>7367894167</td><td>28</td><td>25000</td><td>2014-11-08</td><td>1123</td><td>1123</td><td>BARATH</td><td>BANGALORE</td><td>60000</td></tr><tr><td>1762</td><td>AJAY</td><td>DATA SCIENTIET</td><td>8789321456</td><td>30</td><td>45000</td><td>2019-08-20</td><td>1124</td><td>1124</td><td>ARIVU</td><td>MUMBAI</td><td>75000</td></tr><tr><td>3762</td><td>TAMIL</td><td>DATA SCIENTIET</td><td>8780321456</td><td>34</td><td>25000</td><td>2015-08-24</td><td>1124</td><td>1124</td><td>ARIVU</td><td>MUMBAI</td><td>75000</td></tr><tr><td>4762</td><td>CHANDRAN</td><td>DATA SCIENTIET</td><td>8789321406</td><td>30</td><td>45000</td><td>2017-11-27</td><td>1124</td><td>1124</td><td>ARIVU</td><td>MUMBAI</td><td>75000</td></tr></table>"
                    },
                    "metadata": {}
                }
            ],
            "execution_count": 4
        },
        {
            "cell_type": "markdown",
            "source": [
                "FULL OUTER JOIN;\n",
                "\n",
                "<span style=\"color: rgb(0, 0, 0); font-family: Verdana, sans-serif; font-size: 15px; background-color: rgb(255, 255, 255);\">The&nbsp;</span> `FULL OUTER JOIN` <span style=\"color: rgb(0, 0, 0); font-family: Verdana, sans-serif; font-size: 15px; background-color: rgb(255, 255, 255);\">&nbsp;keyword returns all records when there is a match in left (table1) or right (table2) table records.</span>"
            ],
            "metadata": {
                "language": "sql",
                "azdata_cell_guid": "dbbe89d4-c81b-483d-90b6-9b6e9dbdb99e"
            },
            "attachments": {}
        },
        {
            "cell_type": "code",
            "source": [
                "SELECT *\n",
                "FROM EMPLOYE_DETAILS FULL JOIN MANAGER\n",
                "ON EMPLOYE_DETAILS.MID=MANAGER.MID;"
            ],
            "metadata": {
                "language": "sql",
                "azdata_cell_guid": "607f7726-0d19-436d-9c85-dbfbf11268bf",
                "tags": []
            },
            "outputs": [
                {
                    "output_type": "display_data",
                    "data": {
                        "text/html": "(14 rows affected)"
                    },
                    "metadata": {}
                },
                {
                    "output_type": "display_data",
                    "data": {
                        "text/html": "Total execution time: 00:00:00.008"
                    },
                    "metadata": {}
                },
                {
                    "output_type": "execute_result",
                    "execution_count": 5,
                    "data": {
                        "application/vnd.dataresource+json": {
                            "schema": {
                                "fields": [
                                    {
                                        "name": "EID"
                                    },
                                    {
                                        "name": "ENAME"
                                    },
                                    {
                                        "name": "JOB"
                                    },
                                    {
                                        "name": "PHONE_NO"
                                    },
                                    {
                                        "name": "AGE"
                                    },
                                    {
                                        "name": "SAL"
                                    },
                                    {
                                        "name": "HIREDATE"
                                    },
                                    {
                                        "name": "MID"
                                    },
                                    {
                                        "name": "MID"
                                    },
                                    {
                                        "name": "MNAME"
                                    },
                                    {
                                        "name": "LOCATION"
                                    },
                                    {
                                        "name": "SAL"
                                    }
                                ]
                            },
                            "data": [
                                {
                                    "EID": "1212",
                                    "ENAME": "VICKY",
                                    "JOB": "DATA ANALYST",
                                    "PHONE_NO": "9786534201",
                                    "AGE": "27",
                                    "SAL": "50000",
                                    "HIREDATE": "2020-04-01",
                                    "MID": "1122",
                                    "MNAME": "KUMAR",
                                    "LOCATION": "CHENNAI"
                                },
                                {
                                    "EID": "1245",
                                    "ENAME": "VIJAY",
                                    "JOB": "WEB DEVELOPER",
                                    "PHONE_NO": "7367894567",
                                    "AGE": "27",
                                    "SAL": "60000",
                                    "HIREDATE": "2018-01-27",
                                    "MID": "1123",
                                    "MNAME": "BARATH",
                                    "LOCATION": "BANGALORE"
                                },
                                {
                                    "EID": "1721",
                                    "ENAME": "ARUN",
                                    "JOB": "WEB DEVELOPER",
                                    "PHONE_NO": "9876543210",
                                    "AGE": "25",
                                    "SAL": "60000",
                                    "HIREDATE": "2021-03-30",
                                    "MID": "1123",
                                    "MNAME": "BARATH",
                                    "LOCATION": "BANGALORE"
                                },
                                {
                                    "EID": "1762",
                                    "ENAME": "AJAY",
                                    "JOB": "DATA SCIENTIET",
                                    "PHONE_NO": "8789321456",
                                    "AGE": "30",
                                    "SAL": "75000",
                                    "HIREDATE": "2019-08-20",
                                    "MID": "1124",
                                    "MNAME": "ARIVU",
                                    "LOCATION": "MUMBAI"
                                },
                                {
                                    "EID": "1832",
                                    "ENAME": "SURYA",
                                    "JOB": "CLERK",
                                    "PHONE_NO": "6372456764",
                                    "AGE": "28",
                                    "SAL": "NULL",
                                    "HIREDATE": "2019-08-20",
                                    "MID": "NULL",
                                    "MNAME": "NULL",
                                    "LOCATION": "NULL"
                                },
                                {
                                    "EID": "2121",
                                    "ENAME": "SANTHOSH",
                                    "JOB": "WEB DEVELOPER",
                                    "PHONE_NO": "9823543210",
                                    "AGE": "29",
                                    "SAL": "60000",
                                    "HIREDATE": "2022-02-14",
                                    "MID": "1123",
                                    "MNAME": "BARATH",
                                    "LOCATION": "BANGALORE"
                                },
                                {
                                    "EID": "2212",
                                    "ENAME": "JEEVA",
                                    "JOB": "DATA ANALYST",
                                    "PHONE_NO": "9781534201",
                                    "AGE": "25",
                                    "SAL": "50000",
                                    "HIREDATE": "2015-08-24",
                                    "MID": "1122",
                                    "MNAME": "KUMAR",
                                    "LOCATION": "CHENNAI"
                                },
                                {
                                    "EID": "3245",
                                    "ENAME": "MUTHU",
                                    "JOB": "WEB DEVELOPER",
                                    "PHONE_NO": "7361894567",
                                    "AGE": "36",
                                    "SAL": "60000",
                                    "HIREDATE": "2016-06-20",
                                    "MID": "1123",
                                    "MNAME": "BARATH",
                                    "LOCATION": "BANGALORE"
                                },
                                {
                                    "EID": "3762",
                                    "ENAME": "TAMIL",
                                    "JOB": "DATA SCIENTIET",
                                    "PHONE_NO": "8780321456",
                                    "AGE": "34",
                                    "SAL": "75000",
                                    "HIREDATE": "2015-08-24",
                                    "MID": "1124",
                                    "MNAME": "ARIVU",
                                    "LOCATION": "MUMBAI"
                                },
                                {
                                    "EID": "3832",
                                    "ENAME": "SANJAY",
                                    "JOB": "CLERK",
                                    "PHONE_NO": "6372556764",
                                    "AGE": "22",
                                    "SAL": "NULL",
                                    "HIREDATE": "2019-06-11",
                                    "MID": "NULL",
                                    "MNAME": "NULL",
                                    "LOCATION": "NULL"
                                },
                                {
                                    "EID": "4212",
                                    "ENAME": "PREM KUMAR",
                                    "JOB": "DATA ANALYST",
                                    "PHONE_NO": "9086534201",
                                    "AGE": "27",
                                    "SAL": "50000",
                                    "HIREDATE": "2023-04-20",
                                    "MID": "1122",
                                    "MNAME": "KUMAR",
                                    "LOCATION": "CHENNAI"
                                },
                                {
                                    "EID": "4762",
                                    "ENAME": "CHANDRAN",
                                    "JOB": "DATA SCIENTIET",
                                    "PHONE_NO": "8789321406",
                                    "AGE": "30",
                                    "SAL": "75000",
                                    "HIREDATE": "2017-11-27",
                                    "MID": "1124",
                                    "MNAME": "ARIVU",
                                    "LOCATION": "MUMBAI"
                                },
                                {
                                    "EID": "4832",
                                    "ENAME": "SHANKAR",
                                    "JOB": "CLERK",
                                    "PHONE_NO": "6372456064",
                                    "AGE": "28",
                                    "SAL": "NULL",
                                    "HIREDATE": "2013-10-15",
                                    "MID": "NULL",
                                    "MNAME": "NULL",
                                    "LOCATION": "NULL"
                                },
                                {
                                    "EID": "5245",
                                    "ENAME": "DEEPAK",
                                    "JOB": "WEB DEVELOPER",
                                    "PHONE_NO": "7367894167",
                                    "AGE": "28",
                                    "SAL": "60000",
                                    "HIREDATE": "2014-11-08",
                                    "MID": "1123",
                                    "MNAME": "BARATH",
                                    "LOCATION": "BANGALORE"
                                }
                            ]
                        },
                        "text/html": "<table><tr><th>EID</th><th>ENAME</th><th>JOB</th><th>PHONE_NO</th><th>AGE</th><th>SAL</th><th>HIREDATE</th><th>MID</th><th>MID</th><th>MNAME</th><th>LOCATION</th><th>SAL</th></tr><tr><td>1212</td><td>VICKY</td><td>DATA ANALYST</td><td>9786534201</td><td>27</td><td>45000</td><td>2020-04-01</td><td>1122</td><td>1122</td><td>KUMAR</td><td>CHENNAI</td><td>50000</td></tr><tr><td>1245</td><td>VIJAY</td><td>WEB DEVELOPER</td><td>7367894567</td><td>27</td><td>25000</td><td>2018-01-27</td><td>1123</td><td>1123</td><td>BARATH</td><td>BANGALORE</td><td>60000</td></tr><tr><td>1721</td><td>ARUN</td><td>WEB DEVELOPER</td><td>9876543210</td><td>25</td><td>35000</td><td>2021-03-30</td><td>1123</td><td>1123</td><td>BARATH</td><td>BANGALORE</td><td>60000</td></tr><tr><td>1762</td><td>AJAY</td><td>DATA SCIENTIET</td><td>8789321456</td><td>30</td><td>45000</td><td>2019-08-20</td><td>1124</td><td>1124</td><td>ARIVU</td><td>MUMBAI</td><td>75000</td></tr><tr><td>1832</td><td>SURYA</td><td>CLERK</td><td>6372456764</td><td>28</td><td>25000</td><td>2019-08-20</td><td>NULL</td><td>NULL</td><td>NULL</td><td>NULL</td><td>NULL</td></tr><tr><td>2121</td><td>SANTHOSH</td><td>WEB DEVELOPER</td><td>9823543210</td><td>29</td><td>25000</td><td>2022-02-14</td><td>1123</td><td>1123</td><td>BARATH</td><td>BANGALORE</td><td>60000</td></tr><tr><td>2212</td><td>JEEVA</td><td>DATA ANALYST</td><td>9781534201</td><td>25</td><td>30000</td><td>2015-08-24</td><td>1122</td><td>1122</td><td>KUMAR</td><td>CHENNAI</td><td>50000</td></tr><tr><td>3245</td><td>MUTHU</td><td>WEB DEVELOPER</td><td>7361894567</td><td>36</td><td>25000</td><td>2016-06-20</td><td>1123</td><td>1123</td><td>BARATH</td><td>BANGALORE</td><td>60000</td></tr><tr><td>3762</td><td>TAMIL</td><td>DATA SCIENTIET</td><td>8780321456</td><td>34</td><td>25000</td><td>2015-08-24</td><td>1124</td><td>1124</td><td>ARIVU</td><td>MUMBAI</td><td>75000</td></tr><tr><td>3832</td><td>SANJAY</td><td>CLERK</td><td>6372556764</td><td>22</td><td>12000</td><td>2019-06-11</td><td>NULL</td><td>NULL</td><td>NULL</td><td>NULL</td><td>NULL</td></tr><tr><td>4212</td><td>PREM KUMAR</td><td>DATA ANALYST</td><td>9086534201</td><td>27</td><td>40000</td><td>2023-04-20</td><td>1122</td><td>1122</td><td>KUMAR</td><td>CHENNAI</td><td>50000</td></tr><tr><td>4762</td><td>CHANDRAN</td><td>DATA SCIENTIET</td><td>8789321406</td><td>30</td><td>45000</td><td>2017-11-27</td><td>1124</td><td>1124</td><td>ARIVU</td><td>MUMBAI</td><td>75000</td></tr><tr><td>4832</td><td>SHANKAR</td><td>CLERK</td><td>6372456064</td><td>28</td><td>20000</td><td>2013-10-15</td><td>NULL</td><td>NULL</td><td>NULL</td><td>NULL</td><td>NULL</td></tr><tr><td>5245</td><td>DEEPAK</td><td>WEB DEVELOPER</td><td>7367894167</td><td>28</td><td>25000</td><td>2014-11-08</td><td>1123</td><td>1123</td><td>BARATH</td><td>BANGALORE</td><td>60000</td></tr></table>"
                    },
                    "metadata": {}
                }
            ],
            "execution_count": 5
        },
        {
            "cell_type": "markdown",
            "source": [
                "UNION;\n",
                "\n",
                "The `UNION` operator is used to combine the result-set of two or more `SELECT` statements.\n",
                "\n",
                "- Every `SELECT` statement within `UNION` must have the same number of columns\n",
                "- The columns must also have similar data types\n",
                "- The columns in every `SELECT` statement must also be in the same order"
            ],
            "metadata": {
                "language": "sql",
                "azdata_cell_guid": "ac3623f8-9fdc-4854-81fe-f1ddcfbe908b"
            },
            "attachments": {}
        },
        {
            "cell_type": "code",
            "source": [
                "SELECT ENAME FROM EMPLOYE_DETAILS\r\n",
                "UNION\r\n",
                "SELECT MNAME FROM MANAGER;\r\n",
                "-- UNION IS FATSER THEN UNION ALL BECAUSE UNION ALL TAKE MORE TAKE TIME TO FIND DISTINCT VALUES"
            ],
            "metadata": {
                "language": "sql",
                "azdata_cell_guid": "952ad8e9-ea2a-4a94-9db6-5d527124f494"
            },
            "outputs": [
                {
                    "output_type": "display_data",
                    "data": {
                        "text/html": "(17 rows affected)"
                    },
                    "metadata": {}
                },
                {
                    "output_type": "display_data",
                    "data": {
                        "text/html": "Total execution time: 00:00:00.017"
                    },
                    "metadata": {}
                },
                {
                    "output_type": "execute_result",
                    "execution_count": 6,
                    "data": {
                        "application/vnd.dataresource+json": {
                            "schema": {
                                "fields": [
                                    {
                                        "name": "ENAME"
                                    }
                                ]
                            },
                            "data": [
                                {
                                    "ENAME": "AJAY"
                                },
                                {
                                    "ENAME": "ARIVU"
                                },
                                {
                                    "ENAME": "ARUN"
                                },
                                {
                                    "ENAME": "BARATH"
                                },
                                {
                                    "ENAME": "CHANDRAN"
                                },
                                {
                                    "ENAME": "DEEPAK"
                                },
                                {
                                    "ENAME": "JEEVA"
                                },
                                {
                                    "ENAME": "KUMAR"
                                },
                                {
                                    "ENAME": "MUTHU"
                                },
                                {
                                    "ENAME": "PREM KUMAR"
                                },
                                {
                                    "ENAME": "SANJAY"
                                },
                                {
                                    "ENAME": "SANTHOSH"
                                },
                                {
                                    "ENAME": "SHANKAR"
                                },
                                {
                                    "ENAME": "SURYA"
                                },
                                {
                                    "ENAME": "TAMIL"
                                },
                                {
                                    "ENAME": "VICKY"
                                },
                                {
                                    "ENAME": "VIJAY"
                                }
                            ]
                        },
                        "text/html": "<table><tr><th>ENAME</th></tr><tr><td>AJAY</td></tr><tr><td>ARIVU</td></tr><tr><td>ARUN</td></tr><tr><td>BARATH</td></tr><tr><td>CHANDRAN</td></tr><tr><td>DEEPAK</td></tr><tr><td>JEEVA</td></tr><tr><td>KUMAR</td></tr><tr><td>MUTHU</td></tr><tr><td>PREM KUMAR</td></tr><tr><td>SANJAY</td></tr><tr><td>SANTHOSH</td></tr><tr><td>SHANKAR</td></tr><tr><td>SURYA</td></tr><tr><td>TAMIL</td></tr><tr><td>VICKY</td></tr><tr><td>VIJAY</td></tr></table>"
                    },
                    "metadata": {}
                }
            ],
            "execution_count": 6
        },
        {
            "cell_type": "markdown",
            "source": [
                "12/07/2023\n",
                "\n",
                "SELECT INTO=\\>TO COPY ONE DATA INTO ANOTHER NEW TABLE;"
            ],
            "metadata": {
                "language": "sql",
                "azdata_cell_guid": "c93a045b-271a-40f6-ae82-e9a095fb9af2"
            },
            "attachments": {}
        },
        {
            "cell_type": "code",
            "source": [
                "SELECT *\r\n",
                "INTO WEB_DEVELOPER\r\n",
                "FROM EMPLOYE_DETAILS\r\n",
                "WHERE JOB='WEB DEVELOPER';"
            ],
            "metadata": {
                "language": "sql",
                "azdata_cell_guid": "49231746-39d6-486f-972b-bea72584b18f"
            },
            "outputs": [
                {
                    "output_type": "display_data",
                    "data": {
                        "text/html": "(5 rows affected)"
                    },
                    "metadata": {}
                },
                {
                    "output_type": "display_data",
                    "data": {
                        "text/html": "Total execution time: 00:00:00.016"
                    },
                    "metadata": {}
                }
            ],
            "execution_count": 8
        },
        {
            "cell_type": "code",
            "source": [
                "SELECT *\r\n",
                "FROM WEB_DEVELOPER;"
            ],
            "metadata": {
                "language": "sql",
                "azdata_cell_guid": "5d11cd33-9092-42ec-bb4c-623ff59a10c8"
            },
            "outputs": [
                {
                    "output_type": "display_data",
                    "data": {
                        "text/html": "(5 rows affected)"
                    },
                    "metadata": {}
                },
                {
                    "output_type": "display_data",
                    "data": {
                        "text/html": "Total execution time: 00:00:00.007"
                    },
                    "metadata": {}
                },
                {
                    "output_type": "execute_result",
                    "execution_count": 9,
                    "data": {
                        "application/vnd.dataresource+json": {
                            "schema": {
                                "fields": [
                                    {
                                        "name": "EID"
                                    },
                                    {
                                        "name": "ENAME"
                                    },
                                    {
                                        "name": "JOB"
                                    },
                                    {
                                        "name": "PHONE_NO"
                                    },
                                    {
                                        "name": "AGE"
                                    },
                                    {
                                        "name": "SAL"
                                    },
                                    {
                                        "name": "HIREDATE"
                                    },
                                    {
                                        "name": "MID"
                                    }
                                ]
                            },
                            "data": [
                                {
                                    "EID": "1245",
                                    "ENAME": "VIJAY",
                                    "JOB": "WEB DEVELOPER",
                                    "PHONE_NO": "7367894567",
                                    "AGE": "27",
                                    "SAL": "25000",
                                    "HIREDATE": "2018-01-27",
                                    "MID": "1123"
                                },
                                {
                                    "EID": "1721",
                                    "ENAME": "ARUN",
                                    "JOB": "WEB DEVELOPER",
                                    "PHONE_NO": "9876543210",
                                    "AGE": "25",
                                    "SAL": "35000",
                                    "HIREDATE": "2021-03-30",
                                    "MID": "1123"
                                },
                                {
                                    "EID": "2121",
                                    "ENAME": "SANTHOSH",
                                    "JOB": "WEB DEVELOPER",
                                    "PHONE_NO": "9823543210",
                                    "AGE": "29",
                                    "SAL": "25000",
                                    "HIREDATE": "2022-02-14",
                                    "MID": "1123"
                                },
                                {
                                    "EID": "3245",
                                    "ENAME": "MUTHU",
                                    "JOB": "WEB DEVELOPER",
                                    "PHONE_NO": "7361894567",
                                    "AGE": "36",
                                    "SAL": "25000",
                                    "HIREDATE": "2016-06-20",
                                    "MID": "1123"
                                },
                                {
                                    "EID": "5245",
                                    "ENAME": "DEEPAK",
                                    "JOB": "WEB DEVELOPER",
                                    "PHONE_NO": "7367894167",
                                    "AGE": "28",
                                    "SAL": "25000",
                                    "HIREDATE": "2014-11-08",
                                    "MID": "1123"
                                }
                            ]
                        },
                        "text/html": "<table><tr><th>EID</th><th>ENAME</th><th>JOB</th><th>PHONE_NO</th><th>AGE</th><th>SAL</th><th>HIREDATE</th><th>MID</th></tr><tr><td>1245</td><td>VIJAY</td><td>WEB DEVELOPER</td><td>7367894567</td><td>27</td><td>25000</td><td>2018-01-27</td><td>1123</td></tr><tr><td>1721</td><td>ARUN</td><td>WEB DEVELOPER</td><td>9876543210</td><td>25</td><td>35000</td><td>2021-03-30</td><td>1123</td></tr><tr><td>2121</td><td>SANTHOSH</td><td>WEB DEVELOPER</td><td>9823543210</td><td>29</td><td>25000</td><td>2022-02-14</td><td>1123</td></tr><tr><td>3245</td><td>MUTHU</td><td>WEB DEVELOPER</td><td>7361894567</td><td>36</td><td>25000</td><td>2016-06-20</td><td>1123</td></tr><tr><td>5245</td><td>DEEPAK</td><td>WEB DEVELOPER</td><td>7367894167</td><td>28</td><td>25000</td><td>2014-11-08</td><td>1123</td></tr></table>"
                    },
                    "metadata": {}
                }
            ],
            "execution_count": 9
        },
        {
            "cell_type": "code",
            "source": [
                "USE EmployeDB;"
            ],
            "metadata": {
                "language": "sql",
                "azdata_cell_guid": "34ddfaba-1683-4c05-a5e6-6fe54d46c2e0"
            },
            "outputs": [
                {
                    "output_type": "display_data",
                    "data": {
                        "text/html": "Commands completed successfully."
                    },
                    "metadata": {}
                },
                {
                    "output_type": "display_data",
                    "data": {
                        "text/html": "Total execution time: 00:00:00"
                    },
                    "metadata": {}
                }
            ],
            "execution_count": 51
        },
        {
            "cell_type": "code",
            "source": [
                "CREATE TABLE EMPLOYE1\r\n",
                "(\r\n",
                "    EID NUMERIC(4) PRIMARY KEY,\r\n",
                "    ENAME VARCHAR(15) NOT NULL,\r\n",
                "    JOB VARCHAR(15) NOT NULL,\r\n",
                "    PHONE_NO NUMERIC(10) UNIQUE,\r\n",
                "    AGE NUMERIC(2) NOT NULL CHECK(AGE>0),\r\n",
                "    SAL NUMERIC(5) CHECK(SAL>0),\r\n",
                "    MID NUMERIC(4) \r\n",
                ");"
            ],
            "metadata": {
                "language": "sql",
                "azdata_cell_guid": "9d533b0f-2a9f-4a76-98c7-2555006d85c3"
            },
            "outputs": [
                {
                    "output_type": "display_data",
                    "data": {
                        "text/html": "Commands completed successfully."
                    },
                    "metadata": {}
                },
                {
                    "output_type": "display_data",
                    "data": {
                        "text/html": "Total execution time: 00:00:00.004"
                    },
                    "metadata": {}
                }
            ],
            "execution_count": 54
        },
        {
            "cell_type": "code",
            "source": [
                "INSERT INTO EMPLOYE1  VALUES(9992,'NAREN','QA',8876543210,25,35000,6645);\r\n",
                "INSERT INTO   EMPLOYE1 VALUES (9932,'JAI','QA',7786534201,27,40000,6646);\r\n",
                "INSERT INTO EMPLOYE1  VALUES(9994,'VENKAT','QA',6789321456,30,40000,6647);"
            ],
            "metadata": {
                "language": "sql",
                "azdata_cell_guid": "d40e7ae1-8ed1-46e3-b6a5-169a0f44c185"
            },
            "outputs": [
                {
                    "output_type": "error",
                    "ename": "",
                    "evalue": "Msg 2627, Level 14, State 1, Line 1\r\nViolation of PRIMARY KEY constraint 'PK__EMPLOYE1__C190170BBED36F6D'. Cannot insert duplicate key in object 'dbo.EMPLOYE1'. The duplicate key value is (9992).",
                    "traceback": []
                },
                {
                    "output_type": "display_data",
                    "data": {
                        "text/html": "The statement has been terminated."
                    },
                    "metadata": {}
                },
                {
                    "output_type": "error",
                    "ename": "",
                    "evalue": "Msg 2627, Level 14, State 1, Line 2\r\nViolation of PRIMARY KEY constraint 'PK__EMPLOYE1__C190170BBED36F6D'. Cannot insert duplicate key in object 'dbo.EMPLOYE1'. The duplicate key value is (9932).",
                    "traceback": []
                },
                {
                    "output_type": "display_data",
                    "data": {
                        "text/html": "The statement has been terminated."
                    },
                    "metadata": {}
                },
                {
                    "output_type": "error",
                    "ename": "",
                    "evalue": "Msg 2627, Level 14, State 1, Line 3\r\nViolation of PRIMARY KEY constraint 'PK__EMPLOYE1__C190170BBED36F6D'. Cannot insert duplicate key in object 'dbo.EMPLOYE1'. The duplicate key value is (9994).",
                    "traceback": []
                },
                {
                    "output_type": "display_data",
                    "data": {
                        "text/html": "The statement has been terminated."
                    },
                    "metadata": {}
                },
                {
                    "output_type": "display_data",
                    "data": {
                        "text/html": "Total execution time: 00:00:00.005"
                    },
                    "metadata": {}
                }
            ],
            "execution_count": 56
        },
        {
            "cell_type": "code",
            "source": [
                "SELECT *\r\n",
                "FROM EMPLOYE1;"
            ],
            "metadata": {
                "language": "sql",
                "azdata_cell_guid": "8f398fbb-e971-45e3-86d2-13e31056ac98"
            },
            "outputs": [
                {
                    "output_type": "display_data",
                    "data": {
                        "text/html": "(3 rows affected)"
                    },
                    "metadata": {}
                },
                {
                    "output_type": "display_data",
                    "data": {
                        "text/html": "Total execution time: 00:00:00.013"
                    },
                    "metadata": {}
                },
                {
                    "output_type": "execute_result",
                    "execution_count": 58,
                    "data": {
                        "application/vnd.dataresource+json": {
                            "schema": {
                                "fields": [
                                    {
                                        "name": "EID"
                                    },
                                    {
                                        "name": "ENAME"
                                    },
                                    {
                                        "name": "JOB"
                                    },
                                    {
                                        "name": "PHONE_NO"
                                    },
                                    {
                                        "name": "AGE"
                                    },
                                    {
                                        "name": "SAL"
                                    },
                                    {
                                        "name": "MID"
                                    }
                                ]
                            },
                            "data": [
                                {
                                    "EID": "9932",
                                    "ENAME": "JAI",
                                    "JOB": "QA",
                                    "PHONE_NO": "7786534201",
                                    "AGE": "27",
                                    "SAL": "40000",
                                    "MID": "6646"
                                },
                                {
                                    "EID": "9992",
                                    "ENAME": "NAREN",
                                    "JOB": "QA",
                                    "PHONE_NO": "8876543210",
                                    "AGE": "25",
                                    "SAL": "35000",
                                    "MID": "6645"
                                },
                                {
                                    "EID": "9994",
                                    "ENAME": "VENKAT",
                                    "JOB": "QA",
                                    "PHONE_NO": "6789321456",
                                    "AGE": "30",
                                    "SAL": "40000",
                                    "MID": "6647"
                                }
                            ]
                        },
                        "text/html": "<table><tr><th>EID</th><th>ENAME</th><th>JOB</th><th>PHONE_NO</th><th>AGE</th><th>SAL</th><th>MID</th></tr><tr><td>9932</td><td>JAI</td><td>QA</td><td>7786534201</td><td>27</td><td>40000</td><td>6646</td></tr><tr><td>9992</td><td>NAREN</td><td>QA</td><td>8876543210</td><td>25</td><td>35000</td><td>6645</td></tr><tr><td>9994</td><td>VENKAT</td><td>QA</td><td>6789321456</td><td>30</td><td>40000</td><td>6647</td></tr></table>"
                    },
                    "metadata": {}
                }
            ],
            "execution_count": 58
        },
        {
            "cell_type": "markdown",
            "source": [
                "INSERT INTO SELECT=\\>COPY DATA FROM ONE TABLE AND INSERT INTO ANOTHER TABLE"
            ],
            "metadata": {
                "azdata_cell_guid": "6af10d07-c0ae-448c-8254-7cb0370eec21"
            },
            "attachments": {}
        },
        {
            "cell_type": "code",
            "source": [
                "INSERT INTO EMPLOYE_DETAILS(EID,ENAME,JOB,PHONE_NO,AGE,SAL)\r\n",
                "SELECT EID,ENAME,JOB,PHONE_NO,AGE,SAL\r\n",
                "FROM EMPLOYE1;"
            ],
            "metadata": {
                "azdata_cell_guid": "b5a628a3-487d-4d11-88d0-6e3167bd91b7",
                "language": "sql"
            },
            "outputs": [
                {
                    "output_type": "display_data",
                    "data": {
                        "text/html": "(3 rows affected)"
                    },
                    "metadata": {}
                },
                {
                    "output_type": "display_data",
                    "data": {
                        "text/html": "Total execution time: 00:00:00.002"
                    },
                    "metadata": {}
                }
            ],
            "execution_count": 63
        },
        {
            "cell_type": "markdown",
            "source": [
                "STORED PROCEDURE;\n",
                "\n",
                "A stored procedure is a prepared SQL code that you can save, so the code can be reused over and over again.\n",
                "\n",
                "So if you have an SQL query that you write over and over again, save it as a stored procedure, and then just call it to execute it.\n",
                "\n",
                "You can also pass parameters to a stored procedure, so that the stored procedure can act based on the parameter value(s) that is passed.\n",
                "\n",
                "SYNTAX;\n",
                "\n",
                "<span class=\"sqlkeywordcolor\" style=\"box-sizing: inherit; color: mediumblue; font-family: Consolas, Menlo, &quot;courier new&quot;, monospace;\">CREATE</span> <span class=\"sqlkeywordcolor\" style=\"box-sizing: inherit; color: mediumblue; font-family: Consolas, Menlo, &quot;courier new&quot;, monospace;\">PROCEDURE</span> _procedure\\_name_  \n",
                "<span class=\"sqlkeywordcolor\" style=\"box-sizing: inherit; color: mediumblue; font-family: Consolas, Menlo, &quot;courier new&quot;, monospace;\">AS</span>  \n",
                "_sql\\_statement_  \n",
                "GO;"
            ],
            "metadata": {
                "language": "sql",
                "azdata_cell_guid": "353995d0-3357-4f80-a444-819b755edf1b"
            },
            "attachments": {}
        },
        {
            "cell_type": "code",
            "source": [
                "CREATE PROCEDURE SALARY_DETAILS\r\n",
                "AS\r\n",
                "SELECT ENAME,SAL \r\n",
                "FROM EMPLOYE_DETAILS\r\n",
                "GO;"
            ],
            "metadata": {
                "language": "sql",
                "azdata_cell_guid": "03c0e5fa-a261-4a5f-830e-2a63d238a9cf"
            },
            "outputs": [
                {
                    "output_type": "display_data",
                    "data": {
                        "text/html": "Commands completed successfully."
                    },
                    "metadata": {}
                },
                {
                    "output_type": "display_data",
                    "data": {
                        "text/html": "Total execution time: 00:00:00.006"
                    },
                    "metadata": {}
                }
            ],
            "execution_count": 15
        },
        {
            "cell_type": "code",
            "source": [
                "EXEC SALARY_DETAILS;"
            ],
            "metadata": {
                "language": "sql",
                "azdata_cell_guid": "53817f22-c989-4df4-b386-8ffd98d336c6"
            },
            "outputs": [
                {
                    "output_type": "display_data",
                    "data": {
                        "text/html": "(14 rows affected)"
                    },
                    "metadata": {}
                },
                {
                    "output_type": "display_data",
                    "data": {
                        "text/html": "Total execution time: 00:00:00.007"
                    },
                    "metadata": {}
                },
                {
                    "output_type": "execute_result",
                    "execution_count": 16,
                    "data": {
                        "application/vnd.dataresource+json": {
                            "schema": {
                                "fields": [
                                    {
                                        "name": "ENAME"
                                    },
                                    {
                                        "name": "SAL"
                                    }
                                ]
                            },
                            "data": [
                                {
                                    "ENAME": "VICKY",
                                    "SAL": "40000"
                                },
                                {
                                    "ENAME": "VIJAY",
                                    "SAL": "25000"
                                },
                                {
                                    "ENAME": "ARUN",
                                    "SAL": "35000"
                                },
                                {
                                    "ENAME": "AJAY",
                                    "SAL": "45000"
                                },
                                {
                                    "ENAME": "SURYA",
                                    "SAL": "20000"
                                },
                                {
                                    "ENAME": "SANTHOSH",
                                    "SAL": "25000"
                                },
                                {
                                    "ENAME": "JEEVA",
                                    "SAL": "30000"
                                },
                                {
                                    "ENAME": "MUTHU",
                                    "SAL": "25000"
                                },
                                {
                                    "ENAME": "TAMIL",
                                    "SAL": "25000"
                                },
                                {
                                    "ENAME": "SANJAY",
                                    "SAL": "12000"
                                },
                                {
                                    "ENAME": "PREM KUMAR",
                                    "SAL": "40000"
                                },
                                {
                                    "ENAME": "CHANDRAN",
                                    "SAL": "45000"
                                },
                                {
                                    "ENAME": "SHANKAR",
                                    "SAL": "20000"
                                },
                                {
                                    "ENAME": "DEEPAK",
                                    "SAL": "25000"
                                }
                            ]
                        },
                        "text/html": "<table><tr><th>ENAME</th><th>SAL</th></tr><tr><td>VICKY</td><td>40000</td></tr><tr><td>VIJAY</td><td>25000</td></tr><tr><td>ARUN</td><td>35000</td></tr><tr><td>AJAY</td><td>45000</td></tr><tr><td>SURYA</td><td>20000</td></tr><tr><td>SANTHOSH</td><td>25000</td></tr><tr><td>JEEVA</td><td>30000</td></tr><tr><td>MUTHU</td><td>25000</td></tr><tr><td>TAMIL</td><td>25000</td></tr><tr><td>SANJAY</td><td>12000</td></tr><tr><td>PREM KUMAR</td><td>40000</td></tr><tr><td>CHANDRAN</td><td>45000</td></tr><tr><td>SHANKAR</td><td>20000</td></tr><tr><td>DEEPAK</td><td>25000</td></tr></table>"
                    },
                    "metadata": {}
                }
            ],
            "execution_count": 16
        },
        {
            "cell_type": "markdown",
            "source": [
                "ALL;\n",
                "\n",
                "The `ALL` operator:\n",
                "\n",
                "- returns a boolean value as a result\n",
                "- returns TRUE if ALL of the subquery values meet the condition\n",
                "- is used with `SELECT`, `WHERE` and `HAVING` statements\n",
                "\n",
                "`ALL` means that the condition will be true only if the operation is true for all values in the range. \n",
                "\n",
                "EMPLOYE DETAILS WHO EARNED MORE THAN ALL CLERK;"
            ],
            "metadata": {
                "language": "sql",
                "azdata_cell_guid": "c1e75be5-318d-4f54-8daa-305a7836e079"
            },
            "attachments": {}
        },
        {
            "cell_type": "code",
            "source": [
                "SELECT *\r\n",
                "FROM EMPLOYE_DETAILS\r\n",
                "WHERE SAL > ALL(SELECT SAL\r\n",
                "FROM EMPLOYE_DETAILS\r\n",
                "WHERE JOB='CLERK');"
            ],
            "metadata": {
                "language": "sql",
                "azdata_cell_guid": "d737ba1c-f80a-4300-beaf-529ad9fcc357"
            },
            "outputs": [
                {
                    "output_type": "display_data",
                    "data": {
                        "text/html": "(11 rows affected)"
                    },
                    "metadata": {}
                },
                {
                    "output_type": "display_data",
                    "data": {
                        "text/html": "Total execution time: 00:00:00.013"
                    },
                    "metadata": {}
                },
                {
                    "output_type": "execute_result",
                    "execution_count": 2,
                    "data": {
                        "application/vnd.dataresource+json": {
                            "schema": {
                                "fields": [
                                    {
                                        "name": "EID"
                                    },
                                    {
                                        "name": "ENAME"
                                    },
                                    {
                                        "name": "JOB"
                                    },
                                    {
                                        "name": "PHONE_NO"
                                    },
                                    {
                                        "name": "AGE"
                                    },
                                    {
                                        "name": "SAL"
                                    },
                                    {
                                        "name": "HIREDATE"
                                    },
                                    {
                                        "name": "MID"
                                    }
                                ]
                            },
                            "data": [
                                {
                                    "EID": "1212",
                                    "ENAME": "VICKY",
                                    "JOB": "DATA ANALYST",
                                    "PHONE_NO": "9786534201",
                                    "AGE": "27",
                                    "SAL": "45000",
                                    "HIREDATE": "2020-04-01",
                                    "MID": "1122"
                                },
                                {
                                    "EID": "1245",
                                    "ENAME": "VIJAY",
                                    "JOB": "WEB DEVELOPER",
                                    "PHONE_NO": "7367894567",
                                    "AGE": "27",
                                    "SAL": "25000",
                                    "HIREDATE": "2018-01-27",
                                    "MID": "1123"
                                },
                                {
                                    "EID": "1721",
                                    "ENAME": "ARUN",
                                    "JOB": "WEB DEVELOPER",
                                    "PHONE_NO": "9876543210",
                                    "AGE": "25",
                                    "SAL": "35000",
                                    "HIREDATE": "2021-03-30",
                                    "MID": "1123"
                                },
                                {
                                    "EID": "1762",
                                    "ENAME": "AJAY",
                                    "JOB": "DATA SCIENTIET",
                                    "PHONE_NO": "8789321456",
                                    "AGE": "30",
                                    "SAL": "45000",
                                    "HIREDATE": "2019-08-20",
                                    "MID": "1124"
                                },
                                {
                                    "EID": "2121",
                                    "ENAME": "SANTHOSH",
                                    "JOB": "WEB DEVELOPER",
                                    "PHONE_NO": "9823543210",
                                    "AGE": "29",
                                    "SAL": "25000",
                                    "HIREDATE": "2022-02-14",
                                    "MID": "1123"
                                },
                                {
                                    "EID": "2212",
                                    "ENAME": "JEEVA",
                                    "JOB": "DATA ANALYST",
                                    "PHONE_NO": "9781534201",
                                    "AGE": "25",
                                    "SAL": "30000",
                                    "HIREDATE": "2015-08-24",
                                    "MID": "1122"
                                },
                                {
                                    "EID": "3245",
                                    "ENAME": "MUTHU",
                                    "JOB": "WEB DEVELOPER",
                                    "PHONE_NO": "7361894567",
                                    "AGE": "36",
                                    "SAL": "25000",
                                    "HIREDATE": "2016-06-20",
                                    "MID": "1123"
                                },
                                {
                                    "EID": "3762",
                                    "ENAME": "TAMIL",
                                    "JOB": "DATA SCIENTIET",
                                    "PHONE_NO": "8780321456",
                                    "AGE": "34",
                                    "SAL": "25000",
                                    "HIREDATE": "2015-08-24",
                                    "MID": "1124"
                                },
                                {
                                    "EID": "4212",
                                    "ENAME": "PREM KUMAR",
                                    "JOB": "DATA ANALYST",
                                    "PHONE_NO": "9086534201",
                                    "AGE": "27",
                                    "SAL": "40000",
                                    "HIREDATE": "2023-04-20",
                                    "MID": "1122"
                                },
                                {
                                    "EID": "4762",
                                    "ENAME": "CHANDRAN",
                                    "JOB": "DATA SCIENTIET",
                                    "PHONE_NO": "8789321406",
                                    "AGE": "30",
                                    "SAL": "45000",
                                    "HIREDATE": "2017-11-27",
                                    "MID": "1124"
                                },
                                {
                                    "EID": "5245",
                                    "ENAME": "DEEPAK",
                                    "JOB": "WEB DEVELOPER",
                                    "PHONE_NO": "7367894167",
                                    "AGE": "28",
                                    "SAL": "25000",
                                    "HIREDATE": "2014-11-08",
                                    "MID": "1123"
                                }
                            ]
                        },
                        "text/html": "<table><tr><th>EID</th><th>ENAME</th><th>JOB</th><th>PHONE_NO</th><th>AGE</th><th>SAL</th><th>HIREDATE</th><th>MID</th></tr><tr><td>1212</td><td>VICKY</td><td>DATA ANALYST</td><td>9786534201</td><td>27</td><td>45000</td><td>2020-04-01</td><td>1122</td></tr><tr><td>1245</td><td>VIJAY</td><td>WEB DEVELOPER</td><td>7367894567</td><td>27</td><td>25000</td><td>2018-01-27</td><td>1123</td></tr><tr><td>1721</td><td>ARUN</td><td>WEB DEVELOPER</td><td>9876543210</td><td>25</td><td>35000</td><td>2021-03-30</td><td>1123</td></tr><tr><td>1762</td><td>AJAY</td><td>DATA SCIENTIET</td><td>8789321456</td><td>30</td><td>45000</td><td>2019-08-20</td><td>1124</td></tr><tr><td>2121</td><td>SANTHOSH</td><td>WEB DEVELOPER</td><td>9823543210</td><td>29</td><td>25000</td><td>2022-02-14</td><td>1123</td></tr><tr><td>2212</td><td>JEEVA</td><td>DATA ANALYST</td><td>9781534201</td><td>25</td><td>30000</td><td>2015-08-24</td><td>1122</td></tr><tr><td>3245</td><td>MUTHU</td><td>WEB DEVELOPER</td><td>7361894567</td><td>36</td><td>25000</td><td>2016-06-20</td><td>1123</td></tr><tr><td>3762</td><td>TAMIL</td><td>DATA SCIENTIET</td><td>8780321456</td><td>34</td><td>25000</td><td>2015-08-24</td><td>1124</td></tr><tr><td>4212</td><td>PREM KUMAR</td><td>DATA ANALYST</td><td>9086534201</td><td>27</td><td>40000</td><td>2023-04-20</td><td>1122</td></tr><tr><td>4762</td><td>CHANDRAN</td><td>DATA SCIENTIET</td><td>8789321406</td><td>30</td><td>45000</td><td>2017-11-27</td><td>1124</td></tr><tr><td>5245</td><td>DEEPAK</td><td>WEB DEVELOPER</td><td>7367894167</td><td>28</td><td>25000</td><td>2014-11-08</td><td>1123</td></tr></table>"
                    },
                    "metadata": {}
                }
            ],
            "execution_count": 2
        },
        {
            "cell_type": "markdown",
            "source": [
                "ANY;\n",
                "\n",
                "The `ANY` operator:\n",
                "\n",
                "- returns a boolean value as a result\n",
                "- returns TRUE if ANY of the subquery values meet the condition\n",
                "\n",
                "`ANY` means that the condition will be true if the operation is true for any of the values in the range."
            ],
            "metadata": {
                "language": "sql",
                "azdata_cell_guid": "36d3bfc1-e1a8-4557-b375-df27e17d1fe7"
            },
            "attachments": {}
        },
        {
            "cell_type": "code",
            "source": [
                "SELECT *\r\n",
                "FROM EMPLOYE_DETAILS\r\n",
                "WHERE  SAL > ANY(SELECT SAL\r\n",
                "FROM EMPLOYE_DETAILS\r\n",
                "WHERE JOB='WEB DEVELOPER');"
            ],
            "metadata": {
                "language": "sql",
                "azdata_cell_guid": "cf669c60-fb2f-4dd8-9298-1d66f0e0a2e4"
            },
            "outputs": [
                {
                    "output_type": "display_data",
                    "data": {
                        "text/html": "(6 rows affected)"
                    },
                    "metadata": {}
                },
                {
                    "output_type": "display_data",
                    "data": {
                        "text/html": "Total execution time: 00:00:00.014"
                    },
                    "metadata": {}
                },
                {
                    "output_type": "execute_result",
                    "execution_count": 3,
                    "data": {
                        "application/vnd.dataresource+json": {
                            "schema": {
                                "fields": [
                                    {
                                        "name": "EID"
                                    },
                                    {
                                        "name": "ENAME"
                                    },
                                    {
                                        "name": "JOB"
                                    },
                                    {
                                        "name": "PHONE_NO"
                                    },
                                    {
                                        "name": "AGE"
                                    },
                                    {
                                        "name": "SAL"
                                    },
                                    {
                                        "name": "HIREDATE"
                                    },
                                    {
                                        "name": "MID"
                                    }
                                ]
                            },
                            "data": [
                                {
                                    "EID": "1212",
                                    "ENAME": "VICKY",
                                    "JOB": "DATA ANALYST",
                                    "PHONE_NO": "9786534201",
                                    "AGE": "27",
                                    "SAL": "45000",
                                    "HIREDATE": "2020-04-01",
                                    "MID": "1122"
                                },
                                {
                                    "EID": "1721",
                                    "ENAME": "ARUN",
                                    "JOB": "WEB DEVELOPER",
                                    "PHONE_NO": "9876543210",
                                    "AGE": "25",
                                    "SAL": "35000",
                                    "HIREDATE": "2021-03-30",
                                    "MID": "1123"
                                },
                                {
                                    "EID": "1762",
                                    "ENAME": "AJAY",
                                    "JOB": "DATA SCIENTIET",
                                    "PHONE_NO": "8789321456",
                                    "AGE": "30",
                                    "SAL": "45000",
                                    "HIREDATE": "2019-08-20",
                                    "MID": "1124"
                                },
                                {
                                    "EID": "2212",
                                    "ENAME": "JEEVA",
                                    "JOB": "DATA ANALYST",
                                    "PHONE_NO": "9781534201",
                                    "AGE": "25",
                                    "SAL": "30000",
                                    "HIREDATE": "2015-08-24",
                                    "MID": "1122"
                                },
                                {
                                    "EID": "4212",
                                    "ENAME": "PREM KUMAR",
                                    "JOB": "DATA ANALYST",
                                    "PHONE_NO": "9086534201",
                                    "AGE": "27",
                                    "SAL": "40000",
                                    "HIREDATE": "2023-04-20",
                                    "MID": "1122"
                                },
                                {
                                    "EID": "4762",
                                    "ENAME": "CHANDRAN",
                                    "JOB": "DATA SCIENTIET",
                                    "PHONE_NO": "8789321406",
                                    "AGE": "30",
                                    "SAL": "45000",
                                    "HIREDATE": "2017-11-27",
                                    "MID": "1124"
                                }
                            ]
                        },
                        "text/html": "<table><tr><th>EID</th><th>ENAME</th><th>JOB</th><th>PHONE_NO</th><th>AGE</th><th>SAL</th><th>HIREDATE</th><th>MID</th></tr><tr><td>1212</td><td>VICKY</td><td>DATA ANALYST</td><td>9786534201</td><td>27</td><td>45000</td><td>2020-04-01</td><td>1122</td></tr><tr><td>1721</td><td>ARUN</td><td>WEB DEVELOPER</td><td>9876543210</td><td>25</td><td>35000</td><td>2021-03-30</td><td>1123</td></tr><tr><td>1762</td><td>AJAY</td><td>DATA SCIENTIET</td><td>8789321456</td><td>30</td><td>45000</td><td>2019-08-20</td><td>1124</td></tr><tr><td>2212</td><td>JEEVA</td><td>DATA ANALYST</td><td>9781534201</td><td>25</td><td>30000</td><td>2015-08-24</td><td>1122</td></tr><tr><td>4212</td><td>PREM KUMAR</td><td>DATA ANALYST</td><td>9086534201</td><td>27</td><td>40000</td><td>2023-04-20</td><td>1122</td></tr><tr><td>4762</td><td>CHANDRAN</td><td>DATA SCIENTIET</td><td>8789321406</td><td>30</td><td>45000</td><td>2017-11-27</td><td>1124</td></tr></table>"
                    },
                    "metadata": {}
                }
            ],
            "execution_count": 3
        },
        {
            "cell_type": "markdown",
            "source": [
                "CASE;\n",
                "\n",
                "The `CASE` expression goes through conditions and returns a value when the first condition is met (like an if-then-else statement). So, once a condition is true, it will stop reading and return the result. If no conditions are true, it returns the value in the `ELSE` clause.\n",
                "\n",
                "If there is no `ELSE` part and no conditions are true, it returns NULL."
            ],
            "metadata": {
                "language": "sql",
                "azdata_cell_guid": "c4002d2b-dc4f-434d-a8ee-8fcacdcf10fe"
            },
            "attachments": {}
        },
        {
            "cell_type": "code",
            "source": [
                "SELECT ENAME,SAL,\r\n",
                "CASE WHEN SAL >30000 THEN 'SALARY IS GREATER THAN 30000'\r\n",
                "WHEN SAL =30000 THEN 'SAL IS EQUAL TO 30000'\r\n",
                "ELSE 'SAL IS LESS THAN 30000'\r\n",
                "END AS SALARYTEXT\r\n",
                "FROM EMPLOYE_DETAILS;"
            ],
            "metadata": {
                "language": "sql",
                "azdata_cell_guid": "3c073d6f-48f7-4252-a06a-8299ccc9f48c"
            },
            "outputs": [
                {
                    "output_type": "display_data",
                    "data": {
                        "text/html": "(14 rows affected)"
                    },
                    "metadata": {}
                },
                {
                    "output_type": "display_data",
                    "data": {
                        "text/html": "Total execution time: 00:00:00.012"
                    },
                    "metadata": {}
                },
                {
                    "output_type": "execute_result",
                    "execution_count": 6,
                    "data": {
                        "application/vnd.dataresource+json": {
                            "schema": {
                                "fields": [
                                    {
                                        "name": "ENAME"
                                    },
                                    {
                                        "name": "SAL"
                                    },
                                    {
                                        "name": "SALARYTEXT"
                                    }
                                ]
                            },
                            "data": [
                                {
                                    "ENAME": "VICKY",
                                    "SAL": "45000",
                                    "SALARYTEXT": "SALARY IS GREATER THAN 30000"
                                },
                                {
                                    "ENAME": "VIJAY",
                                    "SAL": "25000",
                                    "SALARYTEXT": "SAL IS LESS THAN 30000"
                                },
                                {
                                    "ENAME": "ARUN",
                                    "SAL": "35000",
                                    "SALARYTEXT": "SALARY IS GREATER THAN 30000"
                                },
                                {
                                    "ENAME": "AJAY",
                                    "SAL": "45000",
                                    "SALARYTEXT": "SALARY IS GREATER THAN 30000"
                                },
                                {
                                    "ENAME": "SURYA",
                                    "SAL": "20000",
                                    "SALARYTEXT": "SAL IS LESS THAN 30000"
                                },
                                {
                                    "ENAME": "SANTHOSH",
                                    "SAL": "25000",
                                    "SALARYTEXT": "SAL IS LESS THAN 30000"
                                },
                                {
                                    "ENAME": "JEEVA",
                                    "SAL": "30000",
                                    "SALARYTEXT": "SAL IS EQUAL TO 30000"
                                },
                                {
                                    "ENAME": "MUTHU",
                                    "SAL": "25000",
                                    "SALARYTEXT": "SAL IS LESS THAN 30000"
                                },
                                {
                                    "ENAME": "TAMIL",
                                    "SAL": "25000",
                                    "SALARYTEXT": "SAL IS LESS THAN 30000"
                                },
                                {
                                    "ENAME": "SANJAY",
                                    "SAL": "12000",
                                    "SALARYTEXT": "SAL IS LESS THAN 30000"
                                },
                                {
                                    "ENAME": "PREM KUMAR",
                                    "SAL": "40000",
                                    "SALARYTEXT": "SALARY IS GREATER THAN 30000"
                                },
                                {
                                    "ENAME": "CHANDRAN",
                                    "SAL": "45000",
                                    "SALARYTEXT": "SALARY IS GREATER THAN 30000"
                                },
                                {
                                    "ENAME": "SHANKAR",
                                    "SAL": "20000",
                                    "SALARYTEXT": "SAL IS LESS THAN 30000"
                                },
                                {
                                    "ENAME": "DEEPAK",
                                    "SAL": "25000",
                                    "SALARYTEXT": "SAL IS LESS THAN 30000"
                                }
                            ]
                        },
                        "text/html": "<table><tr><th>ENAME</th><th>SAL</th><th>SALARYTEXT</th></tr><tr><td>VICKY</td><td>45000</td><td>SALARY IS GREATER THAN 30000</td></tr><tr><td>VIJAY</td><td>25000</td><td>SAL IS LESS THAN 30000</td></tr><tr><td>ARUN</td><td>35000</td><td>SALARY IS GREATER THAN 30000</td></tr><tr><td>AJAY</td><td>45000</td><td>SALARY IS GREATER THAN 30000</td></tr><tr><td>SURYA</td><td>20000</td><td>SAL IS LESS THAN 30000</td></tr><tr><td>SANTHOSH</td><td>25000</td><td>SAL IS LESS THAN 30000</td></tr><tr><td>JEEVA</td><td>30000</td><td>SAL IS EQUAL TO 30000</td></tr><tr><td>MUTHU</td><td>25000</td><td>SAL IS LESS THAN 30000</td></tr><tr><td>TAMIL</td><td>25000</td><td>SAL IS LESS THAN 30000</td></tr><tr><td>SANJAY</td><td>12000</td><td>SAL IS LESS THAN 30000</td></tr><tr><td>PREM KUMAR</td><td>40000</td><td>SALARY IS GREATER THAN 30000</td></tr><tr><td>CHANDRAN</td><td>45000</td><td>SALARY IS GREATER THAN 30000</td></tr><tr><td>SHANKAR</td><td>20000</td><td>SAL IS LESS THAN 30000</td></tr><tr><td>DEEPAK</td><td>25000</td><td>SAL IS LESS THAN 30000</td></tr></table>"
                    },
                    "metadata": {}
                }
            ],
            "execution_count": 6
        },
        {
            "cell_type": "markdown",
            "source": [
                "COMMON TABLE EXPRESSION;\n",
                "\n",
                "<span style=\"color: rgb(39, 50, 57); font-family: Nunito, sans-serif; font-size: 17px; letter-spacing: 0.162px; text-align: justify; background-color: rgb(255, 255, 255);\">A common table [deprecated]CTE is a powerful&nbsp;</span> [SQL](https://www.geeksforgeeks.org/sql-tutorial/) <span style=\"color: rgb(39, 50, 57); font-family: Nunito, sans-serif; font-size: 17px; letter-spacing: 0.162px; text-align: justify; background-color: rgb(255, 255, 255);\">construct that helps simplify queries. CTEs act as virtual tables (with records and columns) that are created during query execution, used by the query, and deleted after the query executes.</span>"
            ],
            "metadata": {
                "language": "sql",
                "azdata_cell_guid": "c38baa21-b50a-4b02-aad1-e7eb5a38e96c"
            },
            "attachments": {}
        },
        {
            "cell_type": "code",
            "source": [
                "WITH CTE1 AS (SELECT ENAME,JOB \r\n",
                "FROM EMPLOYE_DETAILS)\r\n",
                "SELECT *\r\n",
                "FROM CTE1;"
            ],
            "metadata": {
                "language": "sql",
                "azdata_cell_guid": "2dcae8b2-a259-492a-b4dc-075d164babb2"
            },
            "outputs": [
                {
                    "output_type": "display_data",
                    "data": {
                        "text/html": "(14 rows affected)"
                    },
                    "metadata": {}
                },
                {
                    "output_type": "display_data",
                    "data": {
                        "text/html": "Total execution time: 00:00:00.008"
                    },
                    "metadata": {}
                },
                {
                    "output_type": "execute_result",
                    "execution_count": 11,
                    "data": {
                        "application/vnd.dataresource+json": {
                            "schema": {
                                "fields": [
                                    {
                                        "name": "ENAME"
                                    },
                                    {
                                        "name": "JOB"
                                    }
                                ]
                            },
                            "data": [
                                {
                                    "ENAME": "VICKY",
                                    "JOB": "DATA ANALYST"
                                },
                                {
                                    "ENAME": "VIJAY",
                                    "JOB": "WEB DEVELOPER"
                                },
                                {
                                    "ENAME": "ARUN",
                                    "JOB": "WEB DEVELOPER"
                                },
                                {
                                    "ENAME": "AJAY",
                                    "JOB": "DATA SCIENTIET"
                                },
                                {
                                    "ENAME": "SURYA",
                                    "JOB": "CLERK"
                                },
                                {
                                    "ENAME": "SANTHOSH",
                                    "JOB": "WEB DEVELOPER"
                                },
                                {
                                    "ENAME": "JEEVA",
                                    "JOB": "DATA ANALYST"
                                },
                                {
                                    "ENAME": "MUTHU",
                                    "JOB": "WEB DEVELOPER"
                                },
                                {
                                    "ENAME": "TAMIL",
                                    "JOB": "DATA SCIENTIET"
                                },
                                {
                                    "ENAME": "SANJAY",
                                    "JOB": "CLERK"
                                },
                                {
                                    "ENAME": "PREM KUMAR",
                                    "JOB": "DATA ANALYST"
                                },
                                {
                                    "ENAME": "CHANDRAN",
                                    "JOB": "DATA SCIENTIET"
                                },
                                {
                                    "ENAME": "SHANKAR",
                                    "JOB": "CLERK"
                                },
                                {
                                    "ENAME": "DEEPAK",
                                    "JOB": "WEB DEVELOPER"
                                }
                            ]
                        },
                        "text/html": "<table><tr><th>ENAME</th><th>JOB</th></tr><tr><td>VICKY</td><td>DATA ANALYST</td></tr><tr><td>VIJAY</td><td>WEB DEVELOPER</td></tr><tr><td>ARUN</td><td>WEB DEVELOPER</td></tr><tr><td>AJAY</td><td>DATA SCIENTIET</td></tr><tr><td>SURYA</td><td>CLERK</td></tr><tr><td>SANTHOSH</td><td>WEB DEVELOPER</td></tr><tr><td>JEEVA</td><td>DATA ANALYST</td></tr><tr><td>MUTHU</td><td>WEB DEVELOPER</td></tr><tr><td>TAMIL</td><td>DATA SCIENTIET</td></tr><tr><td>SANJAY</td><td>CLERK</td></tr><tr><td>PREM KUMAR</td><td>DATA ANALYST</td></tr><tr><td>CHANDRAN</td><td>DATA SCIENTIET</td></tr><tr><td>SHANKAR</td><td>CLERK</td></tr><tr><td>DEEPAK</td><td>WEB DEVELOPER</td></tr></table>"
                    },
                    "metadata": {}
                }
            ],
            "execution_count": 11
        },
        {
            "cell_type": "code",
            "source": [
                "WITH AVG_SALARY AS (SELECT JOB,MAX(SAL) AS AVERAGE_SALARY\r\n",
                "FROM EMPLOYE_DETAILS\r\n",
                "GROUP BY JOB )\r\n",
                "SELECT *\r\n",
                "FROM AVG_SALARY;"
            ],
            "metadata": {
                "azdata_cell_guid": "50daf323-c31e-4cd7-8c33-2992e757ec9a",
                "language": "sql"
            },
            "outputs": [
                {
                    "output_type": "display_data",
                    "data": {
                        "text/html": "(4 rows affected)"
                    },
                    "metadata": {}
                },
                {
                    "output_type": "display_data",
                    "data": {
                        "text/html": "Total execution time: 00:00:00.009"
                    },
                    "metadata": {}
                },
                {
                    "output_type": "execute_result",
                    "execution_count": 18,
                    "data": {
                        "application/vnd.dataresource+json": {
                            "schema": {
                                "fields": [
                                    {
                                        "name": "JOB"
                                    },
                                    {
                                        "name": "AVERAGE_SALARY"
                                    }
                                ]
                            },
                            "data": [
                                {
                                    "JOB": "CLERK",
                                    "AVERAGE_SALARY": "20000"
                                },
                                {
                                    "JOB": "DATA ANALYST",
                                    "AVERAGE_SALARY": "45000"
                                },
                                {
                                    "JOB": "DATA SCIENTIET",
                                    "AVERAGE_SALARY": "45000"
                                },
                                {
                                    "JOB": "WEB DEVELOPER",
                                    "AVERAGE_SALARY": "35000"
                                }
                            ]
                        },
                        "text/html": "<table><tr><th>JOB</th><th>AVERAGE_SALARY</th></tr><tr><td>CLERK</td><td>20000</td></tr><tr><td>DATA ANALYST</td><td>45000</td></tr><tr><td>DATA SCIENTIET</td><td>45000</td></tr><tr><td>WEB DEVELOPER</td><td>35000</td></tr></table>"
                    },
                    "metadata": {}
                }
            ],
            "execution_count": 18
        },
        {
            "cell_type": "markdown",
            "source": [
                "WINDOW FUNCTION;\n",
                "\n",
                "Window functions applies aggregate and ranking functions over a particular window (set of rows). OVER clause is used with window functions to define that window. OVER clause does two things : \n",
                "\n",
                "- Partitions rows into form set of rows. (PARTITION BY clause is used) \n",
                "- Orders rows within those partitions into a particular order. (ORDER BY clause is used) \n",
                "\n",
                "**Note:** If partitions aren’t done, then ORDER BY orders all rows of table. \n",
                "\n",
                "**Syntax:**  \n",
                "\n",
                "```\n",
                "SELECT coulmn_name1, \n",
                " window_function(cloumn_name2)\n",
                " OVER([PARTITION BY column_name1] [ORDER BY column_name3]) AS new_column\n",
                "FROM table_name;\n",
                "```\n",
                "```\n",
                "window_function= any aggregate or ranking function    \n",
                "column_name1= column to be selected\n",
                "coulmn_name2= column on which window function is to be applied\n",
                "column_name3= column on whose basis partition of rows is to be done\n",
                "new_column= Name of new column\n",
                "table_name= Name of table\n",
                "```"
            ],
            "metadata": {
                "language": "sql",
                "azdata_cell_guid": "4e0bfc8b-d382-4afc-ad81-a33189566fc7"
            },
            "attachments": {}
        },
        {
            "cell_type": "code",
            "source": [
                "-- Various aggregate functions such as SUM(), COUNT(), AVERAGE(), MAX(), MIN() applied over a particular window (set of rows) are called aggregate window functions. \r\n",
                "SELECT *,MAX(SAL) OVER() AS MAX_SALARY\r\n",
                "FROM EMPLOYE_DETAILS;"
            ],
            "metadata": {
                "language": "sql",
                "azdata_cell_guid": "048c188a-73b0-470e-b896-6127ef89a7b3"
            },
            "outputs": [
                {
                    "output_type": "display_data",
                    "data": {
                        "text/html": "(14 rows affected)"
                    },
                    "metadata": {}
                },
                {
                    "output_type": "display_data",
                    "data": {
                        "text/html": "Total execution time: 00:00:00.011"
                    },
                    "metadata": {}
                },
                {
                    "output_type": "execute_result",
                    "execution_count": 19,
                    "data": {
                        "application/vnd.dataresource+json": {
                            "schema": {
                                "fields": [
                                    {
                                        "name": "EID"
                                    },
                                    {
                                        "name": "ENAME"
                                    },
                                    {
                                        "name": "JOB"
                                    },
                                    {
                                        "name": "PHONE_NO"
                                    },
                                    {
                                        "name": "AGE"
                                    },
                                    {
                                        "name": "SAL"
                                    },
                                    {
                                        "name": "HIREDATE"
                                    },
                                    {
                                        "name": "MID"
                                    },
                                    {
                                        "name": "MAX_SALARY"
                                    }
                                ]
                            },
                            "data": [
                                {
                                    "EID": "1212",
                                    "ENAME": "VICKY",
                                    "JOB": "DATA ANALYST",
                                    "PHONE_NO": "9786534201",
                                    "AGE": "27",
                                    "SAL": "45000",
                                    "HIREDATE": "2020-04-01",
                                    "MID": "1122",
                                    "MAX_SALARY": "45000"
                                },
                                {
                                    "EID": "1245",
                                    "ENAME": "VIJAY",
                                    "JOB": "WEB DEVELOPER",
                                    "PHONE_NO": "7367894567",
                                    "AGE": "27",
                                    "SAL": "25000",
                                    "HIREDATE": "2018-01-27",
                                    "MID": "1123",
                                    "MAX_SALARY": "45000"
                                },
                                {
                                    "EID": "1721",
                                    "ENAME": "ARUN",
                                    "JOB": "WEB DEVELOPER",
                                    "PHONE_NO": "9876543210",
                                    "AGE": "25",
                                    "SAL": "35000",
                                    "HIREDATE": "2021-03-30",
                                    "MID": "1123",
                                    "MAX_SALARY": "45000"
                                },
                                {
                                    "EID": "1762",
                                    "ENAME": "AJAY",
                                    "JOB": "DATA SCIENTIET",
                                    "PHONE_NO": "8789321456",
                                    "AGE": "30",
                                    "SAL": "45000",
                                    "HIREDATE": "2019-08-20",
                                    "MID": "1124",
                                    "MAX_SALARY": "45000"
                                },
                                {
                                    "EID": "1832",
                                    "ENAME": "SURYA",
                                    "JOB": "CLERK",
                                    "PHONE_NO": "6372456764",
                                    "AGE": "28",
                                    "SAL": "20000",
                                    "HIREDATE": "2019-08-20",
                                    "MID": "NULL",
                                    "MAX_SALARY": "45000"
                                },
                                {
                                    "EID": "2121",
                                    "ENAME": "SANTHOSH",
                                    "JOB": "WEB DEVELOPER",
                                    "PHONE_NO": "9823543210",
                                    "AGE": "29",
                                    "SAL": "25000",
                                    "HIREDATE": "2022-02-14",
                                    "MID": "1123",
                                    "MAX_SALARY": "45000"
                                },
                                {
                                    "EID": "2212",
                                    "ENAME": "JEEVA",
                                    "JOB": "DATA ANALYST",
                                    "PHONE_NO": "9781534201",
                                    "AGE": "25",
                                    "SAL": "30000",
                                    "HIREDATE": "2015-08-24",
                                    "MID": "1122",
                                    "MAX_SALARY": "45000"
                                },
                                {
                                    "EID": "3245",
                                    "ENAME": "MUTHU",
                                    "JOB": "WEB DEVELOPER",
                                    "PHONE_NO": "7361894567",
                                    "AGE": "36",
                                    "SAL": "25000",
                                    "HIREDATE": "2016-06-20",
                                    "MID": "1123",
                                    "MAX_SALARY": "45000"
                                },
                                {
                                    "EID": "3762",
                                    "ENAME": "TAMIL",
                                    "JOB": "DATA SCIENTIET",
                                    "PHONE_NO": "8780321456",
                                    "AGE": "34",
                                    "SAL": "25000",
                                    "HIREDATE": "2015-08-24",
                                    "MID": "1124",
                                    "MAX_SALARY": "45000"
                                },
                                {
                                    "EID": "3832",
                                    "ENAME": "SANJAY",
                                    "JOB": "CLERK",
                                    "PHONE_NO": "6372556764",
                                    "AGE": "22",
                                    "SAL": "12000",
                                    "HIREDATE": "2019-06-11",
                                    "MID": "NULL",
                                    "MAX_SALARY": "45000"
                                },
                                {
                                    "EID": "4212",
                                    "ENAME": "PREM KUMAR",
                                    "JOB": "DATA ANALYST",
                                    "PHONE_NO": "9086534201",
                                    "AGE": "27",
                                    "SAL": "40000",
                                    "HIREDATE": "2023-04-20",
                                    "MID": "1122",
                                    "MAX_SALARY": "45000"
                                },
                                {
                                    "EID": "4762",
                                    "ENAME": "CHANDRAN",
                                    "JOB": "DATA SCIENTIET",
                                    "PHONE_NO": "8789321406",
                                    "AGE": "30",
                                    "SAL": "45000",
                                    "HIREDATE": "2017-11-27",
                                    "MID": "1124",
                                    "MAX_SALARY": "45000"
                                },
                                {
                                    "EID": "4832",
                                    "ENAME": "SHANKAR",
                                    "JOB": "CLERK",
                                    "PHONE_NO": "6372456064",
                                    "AGE": "28",
                                    "SAL": "20000",
                                    "HIREDATE": "2013-10-15",
                                    "MID": "NULL",
                                    "MAX_SALARY": "45000"
                                },
                                {
                                    "EID": "5245",
                                    "ENAME": "DEEPAK",
                                    "JOB": "WEB DEVELOPER",
                                    "PHONE_NO": "7367894167",
                                    "AGE": "28",
                                    "SAL": "25000",
                                    "HIREDATE": "2014-11-08",
                                    "MID": "1123",
                                    "MAX_SALARY": "45000"
                                }
                            ]
                        },
                        "text/html": "<table><tr><th>EID</th><th>ENAME</th><th>JOB</th><th>PHONE_NO</th><th>AGE</th><th>SAL</th><th>HIREDATE</th><th>MID</th><th>MAX_SALARY</th></tr><tr><td>1212</td><td>VICKY</td><td>DATA ANALYST</td><td>9786534201</td><td>27</td><td>45000</td><td>2020-04-01</td><td>1122</td><td>45000</td></tr><tr><td>1245</td><td>VIJAY</td><td>WEB DEVELOPER</td><td>7367894567</td><td>27</td><td>25000</td><td>2018-01-27</td><td>1123</td><td>45000</td></tr><tr><td>1721</td><td>ARUN</td><td>WEB DEVELOPER</td><td>9876543210</td><td>25</td><td>35000</td><td>2021-03-30</td><td>1123</td><td>45000</td></tr><tr><td>1762</td><td>AJAY</td><td>DATA SCIENTIET</td><td>8789321456</td><td>30</td><td>45000</td><td>2019-08-20</td><td>1124</td><td>45000</td></tr><tr><td>1832</td><td>SURYA</td><td>CLERK</td><td>6372456764</td><td>28</td><td>20000</td><td>2019-08-20</td><td>NULL</td><td>45000</td></tr><tr><td>2121</td><td>SANTHOSH</td><td>WEB DEVELOPER</td><td>9823543210</td><td>29</td><td>25000</td><td>2022-02-14</td><td>1123</td><td>45000</td></tr><tr><td>2212</td><td>JEEVA</td><td>DATA ANALYST</td><td>9781534201</td><td>25</td><td>30000</td><td>2015-08-24</td><td>1122</td><td>45000</td></tr><tr><td>3245</td><td>MUTHU</td><td>WEB DEVELOPER</td><td>7361894567</td><td>36</td><td>25000</td><td>2016-06-20</td><td>1123</td><td>45000</td></tr><tr><td>3762</td><td>TAMIL</td><td>DATA SCIENTIET</td><td>8780321456</td><td>34</td><td>25000</td><td>2015-08-24</td><td>1124</td><td>45000</td></tr><tr><td>3832</td><td>SANJAY</td><td>CLERK</td><td>6372556764</td><td>22</td><td>12000</td><td>2019-06-11</td><td>NULL</td><td>45000</td></tr><tr><td>4212</td><td>PREM KUMAR</td><td>DATA ANALYST</td><td>9086534201</td><td>27</td><td>40000</td><td>2023-04-20</td><td>1122</td><td>45000</td></tr><tr><td>4762</td><td>CHANDRAN</td><td>DATA SCIENTIET</td><td>8789321406</td><td>30</td><td>45000</td><td>2017-11-27</td><td>1124</td><td>45000</td></tr><tr><td>4832</td><td>SHANKAR</td><td>CLERK</td><td>6372456064</td><td>28</td><td>20000</td><td>2013-10-15</td><td>NULL</td><td>45000</td></tr><tr><td>5245</td><td>DEEPAK</td><td>WEB DEVELOPER</td><td>7367894167</td><td>28</td><td>25000</td><td>2014-11-08</td><td>1123</td><td>45000</td></tr></table>"
                    },
                    "metadata": {}
                }
            ],
            "execution_count": 19
        },
        {
            "cell_type": "code",
            "source": [
                "SELECT *\r\n",
                "FROM EMPLOYE_DETAILS;"
            ],
            "metadata": {
                "azdata_cell_guid": "9e487e02-3f37-46fb-8b91-2c0662b69504",
                "language": "sql"
            },
            "outputs": [
                {
                    "output_type": "display_data",
                    "data": {
                        "text/html": "(14 rows affected)"
                    },
                    "metadata": {}
                },
                {
                    "output_type": "display_data",
                    "data": {
                        "text/html": "Total execution time: 00:00:00.008"
                    },
                    "metadata": {}
                },
                {
                    "output_type": "execute_result",
                    "execution_count": 31,
                    "data": {
                        "application/vnd.dataresource+json": {
                            "schema": {
                                "fields": [
                                    {
                                        "name": "EID"
                                    },
                                    {
                                        "name": "ENAME"
                                    },
                                    {
                                        "name": "JOB"
                                    },
                                    {
                                        "name": "PHONE_NO"
                                    },
                                    {
                                        "name": "AGE"
                                    },
                                    {
                                        "name": "SAL"
                                    },
                                    {
                                        "name": "HIREDATE"
                                    },
                                    {
                                        "name": "MID"
                                    }
                                ]
                            },
                            "data": [
                                {
                                    "EID": "1212",
                                    "ENAME": "VICKY",
                                    "JOB": "DATA ANALYST",
                                    "PHONE_NO": "9786534201",
                                    "AGE": "27",
                                    "SAL": "45000",
                                    "HIREDATE": "2020-04-01",
                                    "MID": "1122"
                                },
                                {
                                    "EID": "1245",
                                    "ENAME": "VIJAY",
                                    "JOB": "WEB DEVELOPER",
                                    "PHONE_NO": "7367894567",
                                    "AGE": "27",
                                    "SAL": "25000",
                                    "HIREDATE": "2018-01-27",
                                    "MID": "1123"
                                },
                                {
                                    "EID": "1721",
                                    "ENAME": "ARUN",
                                    "JOB": "WEB DEVELOPER",
                                    "PHONE_NO": "9876543210",
                                    "AGE": "25",
                                    "SAL": "35000",
                                    "HIREDATE": "2021-03-30",
                                    "MID": "1123"
                                },
                                {
                                    "EID": "1762",
                                    "ENAME": "AJAY",
                                    "JOB": "DATA SCIENTIET",
                                    "PHONE_NO": "8789321456",
                                    "AGE": "30",
                                    "SAL": "45000",
                                    "HIREDATE": "2019-08-20",
                                    "MID": "1124"
                                },
                                {
                                    "EID": "1832",
                                    "ENAME": "SURYA",
                                    "JOB": "CLERK",
                                    "PHONE_NO": "6372456764",
                                    "AGE": "28",
                                    "SAL": "20000",
                                    "HIREDATE": "2019-08-20",
                                    "MID": "NULL"
                                },
                                {
                                    "EID": "2121",
                                    "ENAME": "SANTHOSH",
                                    "JOB": "WEB DEVELOPER",
                                    "PHONE_NO": "9823543210",
                                    "AGE": "29",
                                    "SAL": "25000",
                                    "HIREDATE": "2022-02-14",
                                    "MID": "1123"
                                },
                                {
                                    "EID": "2212",
                                    "ENAME": "JEEVA",
                                    "JOB": "DATA ANALYST",
                                    "PHONE_NO": "9781534201",
                                    "AGE": "25",
                                    "SAL": "30000",
                                    "HIREDATE": "2015-08-24",
                                    "MID": "1122"
                                },
                                {
                                    "EID": "3245",
                                    "ENAME": "MUTHU",
                                    "JOB": "WEB DEVELOPER",
                                    "PHONE_NO": "7361894567",
                                    "AGE": "36",
                                    "SAL": "25000",
                                    "HIREDATE": "2016-06-20",
                                    "MID": "1123"
                                },
                                {
                                    "EID": "3762",
                                    "ENAME": "TAMIL",
                                    "JOB": "DATA SCIENTIET",
                                    "PHONE_NO": "8780321456",
                                    "AGE": "34",
                                    "SAL": "25000",
                                    "HIREDATE": "2015-08-24",
                                    "MID": "1124"
                                },
                                {
                                    "EID": "3832",
                                    "ENAME": "SANJAY",
                                    "JOB": "CLERK",
                                    "PHONE_NO": "6372556764",
                                    "AGE": "22",
                                    "SAL": "12000",
                                    "HIREDATE": "2019-06-11",
                                    "MID": "NULL"
                                },
                                {
                                    "EID": "4212",
                                    "ENAME": "PREM KUMAR",
                                    "JOB": "DATA ANALYST",
                                    "PHONE_NO": "9086534201",
                                    "AGE": "27",
                                    "SAL": "40000",
                                    "HIREDATE": "2023-04-20",
                                    "MID": "1122"
                                },
                                {
                                    "EID": "4762",
                                    "ENAME": "CHANDRAN",
                                    "JOB": "DATA SCIENTIET",
                                    "PHONE_NO": "8789321406",
                                    "AGE": "30",
                                    "SAL": "45000",
                                    "HIREDATE": "2017-11-27",
                                    "MID": "1124"
                                },
                                {
                                    "EID": "4832",
                                    "ENAME": "SHANKAR",
                                    "JOB": "CLERK",
                                    "PHONE_NO": "6372456064",
                                    "AGE": "28",
                                    "SAL": "20000",
                                    "HIREDATE": "2013-10-15",
                                    "MID": "NULL"
                                },
                                {
                                    "EID": "5245",
                                    "ENAME": "DEEPAK",
                                    "JOB": "WEB DEVELOPER",
                                    "PHONE_NO": "7367894167",
                                    "AGE": "28",
                                    "SAL": "25000",
                                    "HIREDATE": "2014-11-08",
                                    "MID": "1123"
                                }
                            ]
                        },
                        "text/html": "<table><tr><th>EID</th><th>ENAME</th><th>JOB</th><th>PHONE_NO</th><th>AGE</th><th>SAL</th><th>HIREDATE</th><th>MID</th></tr><tr><td>1212</td><td>VICKY</td><td>DATA ANALYST</td><td>9786534201</td><td>27</td><td>45000</td><td>2020-04-01</td><td>1122</td></tr><tr><td>1245</td><td>VIJAY</td><td>WEB DEVELOPER</td><td>7367894567</td><td>27</td><td>25000</td><td>2018-01-27</td><td>1123</td></tr><tr><td>1721</td><td>ARUN</td><td>WEB DEVELOPER</td><td>9876543210</td><td>25</td><td>35000</td><td>2021-03-30</td><td>1123</td></tr><tr><td>1762</td><td>AJAY</td><td>DATA SCIENTIET</td><td>8789321456</td><td>30</td><td>45000</td><td>2019-08-20</td><td>1124</td></tr><tr><td>1832</td><td>SURYA</td><td>CLERK</td><td>6372456764</td><td>28</td><td>20000</td><td>2019-08-20</td><td>NULL</td></tr><tr><td>2121</td><td>SANTHOSH</td><td>WEB DEVELOPER</td><td>9823543210</td><td>29</td><td>25000</td><td>2022-02-14</td><td>1123</td></tr><tr><td>2212</td><td>JEEVA</td><td>DATA ANALYST</td><td>9781534201</td><td>25</td><td>30000</td><td>2015-08-24</td><td>1122</td></tr><tr><td>3245</td><td>MUTHU</td><td>WEB DEVELOPER</td><td>7361894567</td><td>36</td><td>25000</td><td>2016-06-20</td><td>1123</td></tr><tr><td>3762</td><td>TAMIL</td><td>DATA SCIENTIET</td><td>8780321456</td><td>34</td><td>25000</td><td>2015-08-24</td><td>1124</td></tr><tr><td>3832</td><td>SANJAY</td><td>CLERK</td><td>6372556764</td><td>22</td><td>12000</td><td>2019-06-11</td><td>NULL</td></tr><tr><td>4212</td><td>PREM KUMAR</td><td>DATA ANALYST</td><td>9086534201</td><td>27</td><td>40000</td><td>2023-04-20</td><td>1122</td></tr><tr><td>4762</td><td>CHANDRAN</td><td>DATA SCIENTIET</td><td>8789321406</td><td>30</td><td>45000</td><td>2017-11-27</td><td>1124</td></tr><tr><td>4832</td><td>SHANKAR</td><td>CLERK</td><td>6372456064</td><td>28</td><td>20000</td><td>2013-10-15</td><td>NULL</td></tr><tr><td>5245</td><td>DEEPAK</td><td>WEB DEVELOPER</td><td>7367894167</td><td>28</td><td>25000</td><td>2014-11-08</td><td>1123</td></tr></table>"
                    },
                    "metadata": {}
                }
            ],
            "execution_count": 31
        },
        {
            "cell_type": "code",
            "source": [
                "SELECT *\r\n",
                "FROM MANAGER;"
            ],
            "metadata": {
                "language": "sql",
                "azdata_cell_guid": "efc3d61c-cabe-47e7-9aa6-c3883d68bae5"
            },
            "outputs": [
                {
                    "output_type": "display_data",
                    "data": {
                        "text/html": "(3 rows affected)"
                    },
                    "metadata": {}
                },
                {
                    "output_type": "display_data",
                    "data": {
                        "text/html": "Total execution time: 00:00:00.010"
                    },
                    "metadata": {}
                },
                {
                    "output_type": "execute_result",
                    "execution_count": 32,
                    "data": {
                        "application/vnd.dataresource+json": {
                            "schema": {
                                "fields": [
                                    {
                                        "name": "MID"
                                    },
                                    {
                                        "name": "MNAME"
                                    },
                                    {
                                        "name": "LOCATION"
                                    },
                                    {
                                        "name": "SAL"
                                    }
                                ]
                            },
                            "data": [
                                {
                                    "MID": "1122",
                                    "MNAME": "KUMAR",
                                    "LOCATION": "CHENNAI",
                                    "SAL": "50000"
                                },
                                {
                                    "MID": "1123",
                                    "MNAME": "BARATH",
                                    "LOCATION": "BANGALORE",
                                    "SAL": "60000"
                                },
                                {
                                    "MID": "1124",
                                    "MNAME": "ARIVU",
                                    "LOCATION": "MUMBAI",
                                    "SAL": "75000"
                                }
                            ]
                        },
                        "text/html": "<table><tr><th>MID</th><th>MNAME</th><th>LOCATION</th><th>SAL</th></tr><tr><td>1122</td><td>KUMAR</td><td>CHENNAI</td><td>50000</td></tr><tr><td>1123</td><td>BARATH</td><td>BANGALORE</td><td>60000</td></tr><tr><td>1124</td><td>ARIVU</td><td>MUMBAI</td><td>75000</td></tr></table>"
                    },
                    "metadata": {}
                }
            ],
            "execution_count": 32
        },
        {
            "cell_type": "code",
            "source": [
                "SELECT *,MAX(SAL) OVER(PARTITION BY JOB) AS MAX_SALARY\r\n",
                "FROM EMPLOYE_DETAILS;"
            ],
            "metadata": {
                "language": "sql",
                "azdata_cell_guid": "df1ad885-d115-4520-a1c3-2cf183e2ef4d"
            },
            "outputs": [
                {
                    "output_type": "display_data",
                    "data": {
                        "text/html": "(14 rows affected)"
                    },
                    "metadata": {}
                },
                {
                    "output_type": "display_data",
                    "data": {
                        "text/html": "Total execution time: 00:00:00.013"
                    },
                    "metadata": {}
                },
                {
                    "output_type": "execute_result",
                    "execution_count": 20,
                    "data": {
                        "application/vnd.dataresource+json": {
                            "schema": {
                                "fields": [
                                    {
                                        "name": "EID"
                                    },
                                    {
                                        "name": "ENAME"
                                    },
                                    {
                                        "name": "JOB"
                                    },
                                    {
                                        "name": "PHONE_NO"
                                    },
                                    {
                                        "name": "AGE"
                                    },
                                    {
                                        "name": "SAL"
                                    },
                                    {
                                        "name": "HIREDATE"
                                    },
                                    {
                                        "name": "MID"
                                    },
                                    {
                                        "name": "MAX_SALARY"
                                    }
                                ]
                            },
                            "data": [
                                {
                                    "EID": "1832",
                                    "ENAME": "SURYA",
                                    "JOB": "CLERK",
                                    "PHONE_NO": "6372456764",
                                    "AGE": "28",
                                    "SAL": "20000",
                                    "HIREDATE": "2019-08-20",
                                    "MID": "NULL",
                                    "MAX_SALARY": "20000"
                                },
                                {
                                    "EID": "3832",
                                    "ENAME": "SANJAY",
                                    "JOB": "CLERK",
                                    "PHONE_NO": "6372556764",
                                    "AGE": "22",
                                    "SAL": "12000",
                                    "HIREDATE": "2019-06-11",
                                    "MID": "NULL",
                                    "MAX_SALARY": "20000"
                                },
                                {
                                    "EID": "4832",
                                    "ENAME": "SHANKAR",
                                    "JOB": "CLERK",
                                    "PHONE_NO": "6372456064",
                                    "AGE": "28",
                                    "SAL": "20000",
                                    "HIREDATE": "2013-10-15",
                                    "MID": "NULL",
                                    "MAX_SALARY": "20000"
                                },
                                {
                                    "EID": "4212",
                                    "ENAME": "PREM KUMAR",
                                    "JOB": "DATA ANALYST",
                                    "PHONE_NO": "9086534201",
                                    "AGE": "27",
                                    "SAL": "40000",
                                    "HIREDATE": "2023-04-20",
                                    "MID": "1122",
                                    "MAX_SALARY": "45000"
                                },
                                {
                                    "EID": "1212",
                                    "ENAME": "VICKY",
                                    "JOB": "DATA ANALYST",
                                    "PHONE_NO": "9786534201",
                                    "AGE": "27",
                                    "SAL": "45000",
                                    "HIREDATE": "2020-04-01",
                                    "MID": "1122",
                                    "MAX_SALARY": "45000"
                                },
                                {
                                    "EID": "2212",
                                    "ENAME": "JEEVA",
                                    "JOB": "DATA ANALYST",
                                    "PHONE_NO": "9781534201",
                                    "AGE": "25",
                                    "SAL": "30000",
                                    "HIREDATE": "2015-08-24",
                                    "MID": "1122",
                                    "MAX_SALARY": "45000"
                                },
                                {
                                    "EID": "1762",
                                    "ENAME": "AJAY",
                                    "JOB": "DATA SCIENTIET",
                                    "PHONE_NO": "8789321456",
                                    "AGE": "30",
                                    "SAL": "45000",
                                    "HIREDATE": "2019-08-20",
                                    "MID": "1124",
                                    "MAX_SALARY": "45000"
                                },
                                {
                                    "EID": "3762",
                                    "ENAME": "TAMIL",
                                    "JOB": "DATA SCIENTIET",
                                    "PHONE_NO": "8780321456",
                                    "AGE": "34",
                                    "SAL": "25000",
                                    "HIREDATE": "2015-08-24",
                                    "MID": "1124",
                                    "MAX_SALARY": "45000"
                                },
                                {
                                    "EID": "4762",
                                    "ENAME": "CHANDRAN",
                                    "JOB": "DATA SCIENTIET",
                                    "PHONE_NO": "8789321406",
                                    "AGE": "30",
                                    "SAL": "45000",
                                    "HIREDATE": "2017-11-27",
                                    "MID": "1124",
                                    "MAX_SALARY": "45000"
                                },
                                {
                                    "EID": "5245",
                                    "ENAME": "DEEPAK",
                                    "JOB": "WEB DEVELOPER",
                                    "PHONE_NO": "7367894167",
                                    "AGE": "28",
                                    "SAL": "25000",
                                    "HIREDATE": "2014-11-08",
                                    "MID": "1123",
                                    "MAX_SALARY": "35000"
                                },
                                {
                                    "EID": "3245",
                                    "ENAME": "MUTHU",
                                    "JOB": "WEB DEVELOPER",
                                    "PHONE_NO": "7361894567",
                                    "AGE": "36",
                                    "SAL": "25000",
                                    "HIREDATE": "2016-06-20",
                                    "MID": "1123",
                                    "MAX_SALARY": "35000"
                                },
                                {
                                    "EID": "1245",
                                    "ENAME": "VIJAY",
                                    "JOB": "WEB DEVELOPER",
                                    "PHONE_NO": "7367894567",
                                    "AGE": "27",
                                    "SAL": "25000",
                                    "HIREDATE": "2018-01-27",
                                    "MID": "1123",
                                    "MAX_SALARY": "35000"
                                },
                                {
                                    "EID": "1721",
                                    "ENAME": "ARUN",
                                    "JOB": "WEB DEVELOPER",
                                    "PHONE_NO": "9876543210",
                                    "AGE": "25",
                                    "SAL": "35000",
                                    "HIREDATE": "2021-03-30",
                                    "MID": "1123",
                                    "MAX_SALARY": "35000"
                                },
                                {
                                    "EID": "2121",
                                    "ENAME": "SANTHOSH",
                                    "JOB": "WEB DEVELOPER",
                                    "PHONE_NO": "9823543210",
                                    "AGE": "29",
                                    "SAL": "25000",
                                    "HIREDATE": "2022-02-14",
                                    "MID": "1123",
                                    "MAX_SALARY": "35000"
                                }
                            ]
                        },
                        "text/html": "<table><tr><th>EID</th><th>ENAME</th><th>JOB</th><th>PHONE_NO</th><th>AGE</th><th>SAL</th><th>HIREDATE</th><th>MID</th><th>MAX_SALARY</th></tr><tr><td>1832</td><td>SURYA</td><td>CLERK</td><td>6372456764</td><td>28</td><td>20000</td><td>2019-08-20</td><td>NULL</td><td>20000</td></tr><tr><td>3832</td><td>SANJAY</td><td>CLERK</td><td>6372556764</td><td>22</td><td>12000</td><td>2019-06-11</td><td>NULL</td><td>20000</td></tr><tr><td>4832</td><td>SHANKAR</td><td>CLERK</td><td>6372456064</td><td>28</td><td>20000</td><td>2013-10-15</td><td>NULL</td><td>20000</td></tr><tr><td>4212</td><td>PREM KUMAR</td><td>DATA ANALYST</td><td>9086534201</td><td>27</td><td>40000</td><td>2023-04-20</td><td>1122</td><td>45000</td></tr><tr><td>1212</td><td>VICKY</td><td>DATA ANALYST</td><td>9786534201</td><td>27</td><td>45000</td><td>2020-04-01</td><td>1122</td><td>45000</td></tr><tr><td>2212</td><td>JEEVA</td><td>DATA ANALYST</td><td>9781534201</td><td>25</td><td>30000</td><td>2015-08-24</td><td>1122</td><td>45000</td></tr><tr><td>1762</td><td>AJAY</td><td>DATA SCIENTIET</td><td>8789321456</td><td>30</td><td>45000</td><td>2019-08-20</td><td>1124</td><td>45000</td></tr><tr><td>3762</td><td>TAMIL</td><td>DATA SCIENTIET</td><td>8780321456</td><td>34</td><td>25000</td><td>2015-08-24</td><td>1124</td><td>45000</td></tr><tr><td>4762</td><td>CHANDRAN</td><td>DATA SCIENTIET</td><td>8789321406</td><td>30</td><td>45000</td><td>2017-11-27</td><td>1124</td><td>45000</td></tr><tr><td>5245</td><td>DEEPAK</td><td>WEB DEVELOPER</td><td>7367894167</td><td>28</td><td>25000</td><td>2014-11-08</td><td>1123</td><td>35000</td></tr><tr><td>3245</td><td>MUTHU</td><td>WEB DEVELOPER</td><td>7361894567</td><td>36</td><td>25000</td><td>2016-06-20</td><td>1123</td><td>35000</td></tr><tr><td>1245</td><td>VIJAY</td><td>WEB DEVELOPER</td><td>7367894567</td><td>27</td><td>25000</td><td>2018-01-27</td><td>1123</td><td>35000</td></tr><tr><td>1721</td><td>ARUN</td><td>WEB DEVELOPER</td><td>9876543210</td><td>25</td><td>35000</td><td>2021-03-30</td><td>1123</td><td>35000</td></tr><tr><td>2121</td><td>SANTHOSH</td><td>WEB DEVELOPER</td><td>9823543210</td><td>29</td><td>25000</td><td>2022-02-14</td><td>1123</td><td>35000</td></tr></table>"
                    },
                    "metadata": {}
                }
            ],
            "execution_count": 20
        },
        {
            "cell_type": "markdown",
            "source": [
                "ROW NUMBER( );\n",
                "\n",
                "<span style=\"color: rgb(39, 50, 57); font-family: Nunito, sans-serif; font-size: 17px; letter-spacing: 0.162px; background-color: rgb(255, 255, 255);\">It assigns consecutive integers to all the rows within partition. Within a partition, no two rows can have same row number.&nbsp;</span>"
            ],
            "metadata": {
                "language": "sql",
                "azdata_cell_guid": "4b282e06-b79e-4255-815c-ae8fb75a34cd"
            },
            "attachments": {}
        },
        {
            "cell_type": "code",
            "source": [
                "SELECT *, row_number()  OVER(PARTITION BY JOB ORDER BY EID) AS ROW_NUMBER\r\n",
                "FROM EMPLOYE_DETAILS;"
            ],
            "metadata": {
                "language": "sql",
                "azdata_cell_guid": "d10fbdfe-9efc-456b-a470-5159c6f8bcea"
            },
            "outputs": [
                {
                    "output_type": "display_data",
                    "data": {
                        "text/html": "(14 rows affected)"
                    },
                    "metadata": {}
                },
                {
                    "output_type": "display_data",
                    "data": {
                        "text/html": "Total execution time: 00:00:00.015"
                    },
                    "metadata": {}
                },
                {
                    "output_type": "execute_result",
                    "execution_count": 26,
                    "data": {
                        "application/vnd.dataresource+json": {
                            "schema": {
                                "fields": [
                                    {
                                        "name": "EID"
                                    },
                                    {
                                        "name": "ENAME"
                                    },
                                    {
                                        "name": "JOB"
                                    },
                                    {
                                        "name": "PHONE_NO"
                                    },
                                    {
                                        "name": "AGE"
                                    },
                                    {
                                        "name": "SAL"
                                    },
                                    {
                                        "name": "HIREDATE"
                                    },
                                    {
                                        "name": "MID"
                                    },
                                    {
                                        "name": "ROW_NUMBER"
                                    }
                                ]
                            },
                            "data": [
                                {
                                    "EID": "1832",
                                    "ENAME": "SURYA",
                                    "JOB": "CLERK",
                                    "PHONE_NO": "6372456764",
                                    "AGE": "28",
                                    "SAL": "20000",
                                    "HIREDATE": "2019-08-20",
                                    "MID": "NULL",
                                    "ROW_NUMBER": "1"
                                },
                                {
                                    "EID": "3832",
                                    "ENAME": "SANJAY",
                                    "JOB": "CLERK",
                                    "PHONE_NO": "6372556764",
                                    "AGE": "22",
                                    "SAL": "12000",
                                    "HIREDATE": "2019-06-11",
                                    "MID": "NULL",
                                    "ROW_NUMBER": "2"
                                },
                                {
                                    "EID": "4832",
                                    "ENAME": "SHANKAR",
                                    "JOB": "CLERK",
                                    "PHONE_NO": "6372456064",
                                    "AGE": "28",
                                    "SAL": "20000",
                                    "HIREDATE": "2013-10-15",
                                    "MID": "NULL",
                                    "ROW_NUMBER": "3"
                                },
                                {
                                    "EID": "1212",
                                    "ENAME": "VICKY",
                                    "JOB": "DATA ANALYST",
                                    "PHONE_NO": "9786534201",
                                    "AGE": "27",
                                    "SAL": "45000",
                                    "HIREDATE": "2020-04-01",
                                    "MID": "1122",
                                    "ROW_NUMBER": "1"
                                },
                                {
                                    "EID": "2212",
                                    "ENAME": "JEEVA",
                                    "JOB": "DATA ANALYST",
                                    "PHONE_NO": "9781534201",
                                    "AGE": "25",
                                    "SAL": "30000",
                                    "HIREDATE": "2015-08-24",
                                    "MID": "1122",
                                    "ROW_NUMBER": "2"
                                },
                                {
                                    "EID": "4212",
                                    "ENAME": "PREM KUMAR",
                                    "JOB": "DATA ANALYST",
                                    "PHONE_NO": "9086534201",
                                    "AGE": "27",
                                    "SAL": "40000",
                                    "HIREDATE": "2023-04-20",
                                    "MID": "1122",
                                    "ROW_NUMBER": "3"
                                },
                                {
                                    "EID": "1762",
                                    "ENAME": "AJAY",
                                    "JOB": "DATA SCIENTIET",
                                    "PHONE_NO": "8789321456",
                                    "AGE": "30",
                                    "SAL": "45000",
                                    "HIREDATE": "2019-08-20",
                                    "MID": "1124",
                                    "ROW_NUMBER": "1"
                                },
                                {
                                    "EID": "3762",
                                    "ENAME": "TAMIL",
                                    "JOB": "DATA SCIENTIET",
                                    "PHONE_NO": "8780321456",
                                    "AGE": "34",
                                    "SAL": "25000",
                                    "HIREDATE": "2015-08-24",
                                    "MID": "1124",
                                    "ROW_NUMBER": "2"
                                },
                                {
                                    "EID": "4762",
                                    "ENAME": "CHANDRAN",
                                    "JOB": "DATA SCIENTIET",
                                    "PHONE_NO": "8789321406",
                                    "AGE": "30",
                                    "SAL": "45000",
                                    "HIREDATE": "2017-11-27",
                                    "MID": "1124",
                                    "ROW_NUMBER": "3"
                                },
                                {
                                    "EID": "1245",
                                    "ENAME": "VIJAY",
                                    "JOB": "WEB DEVELOPER",
                                    "PHONE_NO": "7367894567",
                                    "AGE": "27",
                                    "SAL": "25000",
                                    "HIREDATE": "2018-01-27",
                                    "MID": "1123",
                                    "ROW_NUMBER": "1"
                                },
                                {
                                    "EID": "1721",
                                    "ENAME": "ARUN",
                                    "JOB": "WEB DEVELOPER",
                                    "PHONE_NO": "9876543210",
                                    "AGE": "25",
                                    "SAL": "35000",
                                    "HIREDATE": "2021-03-30",
                                    "MID": "1123",
                                    "ROW_NUMBER": "2"
                                },
                                {
                                    "EID": "2121",
                                    "ENAME": "SANTHOSH",
                                    "JOB": "WEB DEVELOPER",
                                    "PHONE_NO": "9823543210",
                                    "AGE": "29",
                                    "SAL": "25000",
                                    "HIREDATE": "2022-02-14",
                                    "MID": "1123",
                                    "ROW_NUMBER": "3"
                                },
                                {
                                    "EID": "3245",
                                    "ENAME": "MUTHU",
                                    "JOB": "WEB DEVELOPER",
                                    "PHONE_NO": "7361894567",
                                    "AGE": "36",
                                    "SAL": "25000",
                                    "HIREDATE": "2016-06-20",
                                    "MID": "1123",
                                    "ROW_NUMBER": "4"
                                },
                                {
                                    "EID": "5245",
                                    "ENAME": "DEEPAK",
                                    "JOB": "WEB DEVELOPER",
                                    "PHONE_NO": "7367894167",
                                    "AGE": "28",
                                    "SAL": "25000",
                                    "HIREDATE": "2014-11-08",
                                    "MID": "1123",
                                    "ROW_NUMBER": "5"
                                }
                            ]
                        },
                        "text/html": "<table><tr><th>EID</th><th>ENAME</th><th>JOB</th><th>PHONE_NO</th><th>AGE</th><th>SAL</th><th>HIREDATE</th><th>MID</th><th>ROW_NUMBER</th></tr><tr><td>1832</td><td>SURYA</td><td>CLERK</td><td>6372456764</td><td>28</td><td>20000</td><td>2019-08-20</td><td>NULL</td><td>1</td></tr><tr><td>3832</td><td>SANJAY</td><td>CLERK</td><td>6372556764</td><td>22</td><td>12000</td><td>2019-06-11</td><td>NULL</td><td>2</td></tr><tr><td>4832</td><td>SHANKAR</td><td>CLERK</td><td>6372456064</td><td>28</td><td>20000</td><td>2013-10-15</td><td>NULL</td><td>3</td></tr><tr><td>1212</td><td>VICKY</td><td>DATA ANALYST</td><td>9786534201</td><td>27</td><td>45000</td><td>2020-04-01</td><td>1122</td><td>1</td></tr><tr><td>2212</td><td>JEEVA</td><td>DATA ANALYST</td><td>9781534201</td><td>25</td><td>30000</td><td>2015-08-24</td><td>1122</td><td>2</td></tr><tr><td>4212</td><td>PREM KUMAR</td><td>DATA ANALYST</td><td>9086534201</td><td>27</td><td>40000</td><td>2023-04-20</td><td>1122</td><td>3</td></tr><tr><td>1762</td><td>AJAY</td><td>DATA SCIENTIET</td><td>8789321456</td><td>30</td><td>45000</td><td>2019-08-20</td><td>1124</td><td>1</td></tr><tr><td>3762</td><td>TAMIL</td><td>DATA SCIENTIET</td><td>8780321456</td><td>34</td><td>25000</td><td>2015-08-24</td><td>1124</td><td>2</td></tr><tr><td>4762</td><td>CHANDRAN</td><td>DATA SCIENTIET</td><td>8789321406</td><td>30</td><td>45000</td><td>2017-11-27</td><td>1124</td><td>3</td></tr><tr><td>1245</td><td>VIJAY</td><td>WEB DEVELOPER</td><td>7367894567</td><td>27</td><td>25000</td><td>2018-01-27</td><td>1123</td><td>1</td></tr><tr><td>1721</td><td>ARUN</td><td>WEB DEVELOPER</td><td>9876543210</td><td>25</td><td>35000</td><td>2021-03-30</td><td>1123</td><td>2</td></tr><tr><td>2121</td><td>SANTHOSH</td><td>WEB DEVELOPER</td><td>9823543210</td><td>29</td><td>25000</td><td>2022-02-14</td><td>1123</td><td>3</td></tr><tr><td>3245</td><td>MUTHU</td><td>WEB DEVELOPER</td><td>7361894567</td><td>36</td><td>25000</td><td>2016-06-20</td><td>1123</td><td>4</td></tr><tr><td>5245</td><td>DEEPAK</td><td>WEB DEVELOPER</td><td>7367894167</td><td>28</td><td>25000</td><td>2014-11-08</td><td>1123</td><td>5</td></tr></table>"
                    },
                    "metadata": {}
                }
            ],
            "execution_count": 26
        },
        {
            "cell_type": "markdown",
            "source": [
                "RANK( );\n",
                "\n",
                "<span style=\"color: rgb(39, 50, 57); font-family: Nunito, sans-serif; font-size: 17px; letter-spacing: 0.162px; background-color: rgb(255, 255, 255);\">As the name suggests, the rank function assigns rank to all the rows within every partition. Rank is assigned such that rank 1 given to the first row and rows having same value are assigned same rank. For the next rank after two same rank values, one rank value will be skipped.&nbsp;</span>   \n",
                "\n",
                "<span style=\"color: rgb(39, 50, 57); font-family: Nunito, sans-serif; font-size: 17px; letter-spacing: 0.162px; background-color: rgb(255, 255, 255);\">NOTE;ORDER BY() should be specified compulsorily while using rank window functions.</span><span style=\"color: rgb(39, 50, 57); font-family: Nunito, sans-serif; font-size: 17px; letter-spacing: 0.162px; background-color: rgb(255, 255, 255);\"><br></span>"
            ],
            "metadata": {
                "language": "sql",
                "azdata_cell_guid": "6a3b841b-ff88-4047-9bbd-ae10d9c0411b"
            },
            "attachments": {}
        },
        {
            "cell_type": "code",
            "source": [
                "SELECT *,RANK() OVER(PARTITION BY JOB ORDER BY SAL DESC) AS RANK\r\n",
                "FROM EMPLOYE_DETAILS;"
            ],
            "metadata": {
                "language": "sql",
                "azdata_cell_guid": "75abe7d7-c0a5-4811-82e5-11ff6fe8ed52"
            },
            "outputs": [
                {
                    "output_type": "display_data",
                    "data": {
                        "text/html": "(14 rows affected)"
                    },
                    "metadata": {}
                },
                {
                    "output_type": "display_data",
                    "data": {
                        "text/html": "Total execution time: 00:00:00.018"
                    },
                    "metadata": {}
                },
                {
                    "output_type": "execute_result",
                    "execution_count": 5,
                    "data": {
                        "application/vnd.dataresource+json": {
                            "schema": {
                                "fields": [
                                    {
                                        "name": "EID"
                                    },
                                    {
                                        "name": "ENAME"
                                    },
                                    {
                                        "name": "JOB"
                                    },
                                    {
                                        "name": "PHONE_NO"
                                    },
                                    {
                                        "name": "AGE"
                                    },
                                    {
                                        "name": "SAL"
                                    },
                                    {
                                        "name": "HIREDATE"
                                    },
                                    {
                                        "name": "MID"
                                    },
                                    {
                                        "name": "RANK"
                                    }
                                ]
                            },
                            "data": [
                                {
                                    "EID": "1832",
                                    "ENAME": "SURYA",
                                    "JOB": "CLERK",
                                    "PHONE_NO": "6372456764",
                                    "AGE": "28",
                                    "SAL": "20000",
                                    "HIREDATE": "2019-08-20",
                                    "MID": "NULL",
                                    "RANK": "1"
                                },
                                {
                                    "EID": "4832",
                                    "ENAME": "SHANKAR",
                                    "JOB": "CLERK",
                                    "PHONE_NO": "6372456064",
                                    "AGE": "28",
                                    "SAL": "20000",
                                    "HIREDATE": "2013-10-15",
                                    "MID": "NULL",
                                    "RANK": "1"
                                },
                                {
                                    "EID": "3832",
                                    "ENAME": "SANJAY",
                                    "JOB": "CLERK",
                                    "PHONE_NO": "6372556764",
                                    "AGE": "22",
                                    "SAL": "12000",
                                    "HIREDATE": "2019-06-11",
                                    "MID": "NULL",
                                    "RANK": "3"
                                },
                                {
                                    "EID": "1212",
                                    "ENAME": "VICKY",
                                    "JOB": "DATA ANALYST",
                                    "PHONE_NO": "9786534201",
                                    "AGE": "27",
                                    "SAL": "45000",
                                    "HIREDATE": "2020-04-01",
                                    "MID": "1122",
                                    "RANK": "1"
                                },
                                {
                                    "EID": "4212",
                                    "ENAME": "PREM KUMAR",
                                    "JOB": "DATA ANALYST",
                                    "PHONE_NO": "9086534201",
                                    "AGE": "27",
                                    "SAL": "40000",
                                    "HIREDATE": "2023-04-20",
                                    "MID": "1122",
                                    "RANK": "2"
                                },
                                {
                                    "EID": "2212",
                                    "ENAME": "JEEVA",
                                    "JOB": "DATA ANALYST",
                                    "PHONE_NO": "9781534201",
                                    "AGE": "25",
                                    "SAL": "30000",
                                    "HIREDATE": "2015-08-24",
                                    "MID": "1122",
                                    "RANK": "3"
                                },
                                {
                                    "EID": "1762",
                                    "ENAME": "AJAY",
                                    "JOB": "DATA SCIENTIET",
                                    "PHONE_NO": "8789321456",
                                    "AGE": "30",
                                    "SAL": "45000",
                                    "HIREDATE": "2019-08-20",
                                    "MID": "1124",
                                    "RANK": "1"
                                },
                                {
                                    "EID": "4762",
                                    "ENAME": "CHANDRAN",
                                    "JOB": "DATA SCIENTIET",
                                    "PHONE_NO": "8789321406",
                                    "AGE": "30",
                                    "SAL": "45000",
                                    "HIREDATE": "2017-11-27",
                                    "MID": "1124",
                                    "RANK": "1"
                                },
                                {
                                    "EID": "3762",
                                    "ENAME": "TAMIL",
                                    "JOB": "DATA SCIENTIET",
                                    "PHONE_NO": "8780321456",
                                    "AGE": "34",
                                    "SAL": "25000",
                                    "HIREDATE": "2015-08-24",
                                    "MID": "1124",
                                    "RANK": "3"
                                },
                                {
                                    "EID": "1721",
                                    "ENAME": "ARUN",
                                    "JOB": "WEB DEVELOPER",
                                    "PHONE_NO": "9876543210",
                                    "AGE": "25",
                                    "SAL": "35000",
                                    "HIREDATE": "2021-03-30",
                                    "MID": "1123",
                                    "RANK": "1"
                                },
                                {
                                    "EID": "1245",
                                    "ENAME": "VIJAY",
                                    "JOB": "WEB DEVELOPER",
                                    "PHONE_NO": "7367894567",
                                    "AGE": "27",
                                    "SAL": "25000",
                                    "HIREDATE": "2018-01-27",
                                    "MID": "1123",
                                    "RANK": "2"
                                },
                                {
                                    "EID": "3245",
                                    "ENAME": "MUTHU",
                                    "JOB": "WEB DEVELOPER",
                                    "PHONE_NO": "7361894567",
                                    "AGE": "36",
                                    "SAL": "25000",
                                    "HIREDATE": "2016-06-20",
                                    "MID": "1123",
                                    "RANK": "2"
                                },
                                {
                                    "EID": "2121",
                                    "ENAME": "SANTHOSH",
                                    "JOB": "WEB DEVELOPER",
                                    "PHONE_NO": "9823543210",
                                    "AGE": "29",
                                    "SAL": "25000",
                                    "HIREDATE": "2022-02-14",
                                    "MID": "1123",
                                    "RANK": "2"
                                },
                                {
                                    "EID": "5245",
                                    "ENAME": "DEEPAK",
                                    "JOB": "WEB DEVELOPER",
                                    "PHONE_NO": "7367894167",
                                    "AGE": "28",
                                    "SAL": "25000",
                                    "HIREDATE": "2014-11-08",
                                    "MID": "1123",
                                    "RANK": "2"
                                }
                            ]
                        },
                        "text/html": "<table><tr><th>EID</th><th>ENAME</th><th>JOB</th><th>PHONE_NO</th><th>AGE</th><th>SAL</th><th>HIREDATE</th><th>MID</th><th>RANK</th></tr><tr><td>1832</td><td>SURYA</td><td>CLERK</td><td>6372456764</td><td>28</td><td>20000</td><td>2019-08-20</td><td>NULL</td><td>1</td></tr><tr><td>4832</td><td>SHANKAR</td><td>CLERK</td><td>6372456064</td><td>28</td><td>20000</td><td>2013-10-15</td><td>NULL</td><td>1</td></tr><tr><td>3832</td><td>SANJAY</td><td>CLERK</td><td>6372556764</td><td>22</td><td>12000</td><td>2019-06-11</td><td>NULL</td><td>3</td></tr><tr><td>1212</td><td>VICKY</td><td>DATA ANALYST</td><td>9786534201</td><td>27</td><td>45000</td><td>2020-04-01</td><td>1122</td><td>1</td></tr><tr><td>4212</td><td>PREM KUMAR</td><td>DATA ANALYST</td><td>9086534201</td><td>27</td><td>40000</td><td>2023-04-20</td><td>1122</td><td>2</td></tr><tr><td>2212</td><td>JEEVA</td><td>DATA ANALYST</td><td>9781534201</td><td>25</td><td>30000</td><td>2015-08-24</td><td>1122</td><td>3</td></tr><tr><td>1762</td><td>AJAY</td><td>DATA SCIENTIET</td><td>8789321456</td><td>30</td><td>45000</td><td>2019-08-20</td><td>1124</td><td>1</td></tr><tr><td>4762</td><td>CHANDRAN</td><td>DATA SCIENTIET</td><td>8789321406</td><td>30</td><td>45000</td><td>2017-11-27</td><td>1124</td><td>1</td></tr><tr><td>3762</td><td>TAMIL</td><td>DATA SCIENTIET</td><td>8780321456</td><td>34</td><td>25000</td><td>2015-08-24</td><td>1124</td><td>3</td></tr><tr><td>1721</td><td>ARUN</td><td>WEB DEVELOPER</td><td>9876543210</td><td>25</td><td>35000</td><td>2021-03-30</td><td>1123</td><td>1</td></tr><tr><td>1245</td><td>VIJAY</td><td>WEB DEVELOPER</td><td>7367894567</td><td>27</td><td>25000</td><td>2018-01-27</td><td>1123</td><td>2</td></tr><tr><td>3245</td><td>MUTHU</td><td>WEB DEVELOPER</td><td>7361894567</td><td>36</td><td>25000</td><td>2016-06-20</td><td>1123</td><td>2</td></tr><tr><td>2121</td><td>SANTHOSH</td><td>WEB DEVELOPER</td><td>9823543210</td><td>29</td><td>25000</td><td>2022-02-14</td><td>1123</td><td>2</td></tr><tr><td>5245</td><td>DEEPAK</td><td>WEB DEVELOPER</td><td>7367894167</td><td>28</td><td>25000</td><td>2014-11-08</td><td>1123</td><td>2</td></tr></table>"
                    },
                    "metadata": {}
                }
            ],
            "execution_count": 5
        },
        {
            "cell_type": "markdown",
            "source": [
                "LAG( ) AND LEAD();\n",
                "The LEAD() and LAG() function in MySQL are used to get preceding and succeeding value of any row within its partition. These functions are termed as nonaggregate Window functions.\n",
                "The **Window** functions are those functions which perform operations for each row of the partition or window. These functions produce the result for each query row unlikely to the aggregate functions that group them and results in a single row.\n",
                "- The row on which operation occur is termed as current row.\n",
                "- The set of rows which are related to current row or using which function operates on current row is termed as Window.\n",
                "The LAG() function is used to get value from row that precedes the current row.\n",
                "The LEAD() function is used to get value from row that succeeds the current row\n",
                "LAG( );"
            ],
            "metadata": {
                "language": "sql",
                "azdata_cell_guid": "08a9f597-2900-4c05-ae46-8623bcb2d653"
            },
            "attachments": {}
        },
        {
            "cell_type": "code",
            "source": [
                "SELECT *,LAG(SAL) OVER(PARTITION BY JOB ORDER BY EID) AS PREV_SAL\r\n",
                "FROM EMPLOYE_DETAILS;"
            ],
            "metadata": {
                "language": "sql",
                "azdata_cell_guid": "2cba2ffc-bc6c-45b8-b99c-2d7473f7bd4e"
            },
            "outputs": [
                {
                    "output_type": "display_data",
                    "data": {
                        "text/html": "(14 rows affected)"
                    },
                    "metadata": {}
                },
                {
                    "output_type": "display_data",
                    "data": {
                        "text/html": "Total execution time: 00:00:00.005"
                    },
                    "metadata": {}
                },
                {
                    "output_type": "execute_result",
                    "execution_count": 29,
                    "data": {
                        "application/vnd.dataresource+json": {
                            "schema": {
                                "fields": [
                                    {
                                        "name": "EID"
                                    },
                                    {
                                        "name": "ENAME"
                                    },
                                    {
                                        "name": "JOB"
                                    },
                                    {
                                        "name": "PHONE_NO"
                                    },
                                    {
                                        "name": "AGE"
                                    },
                                    {
                                        "name": "SAL"
                                    },
                                    {
                                        "name": "HIREDATE"
                                    },
                                    {
                                        "name": "MID"
                                    },
                                    {
                                        "name": "PREV_SAL"
                                    }
                                ]
                            },
                            "data": [
                                {
                                    "EID": "1832",
                                    "ENAME": "SURYA",
                                    "JOB": "CLERK",
                                    "PHONE_NO": "6372456764",
                                    "AGE": "28",
                                    "SAL": "20000",
                                    "HIREDATE": "2019-08-20",
                                    "MID": "NULL",
                                    "PREV_SAL": "NULL"
                                },
                                {
                                    "EID": "3832",
                                    "ENAME": "SANJAY",
                                    "JOB": "CLERK",
                                    "PHONE_NO": "6372556764",
                                    "AGE": "22",
                                    "SAL": "12000",
                                    "HIREDATE": "2019-06-11",
                                    "MID": "NULL",
                                    "PREV_SAL": "20000"
                                },
                                {
                                    "EID": "4832",
                                    "ENAME": "SHANKAR",
                                    "JOB": "CLERK",
                                    "PHONE_NO": "6372456064",
                                    "AGE": "28",
                                    "SAL": "20000",
                                    "HIREDATE": "2013-10-15",
                                    "MID": "NULL",
                                    "PREV_SAL": "12000"
                                },
                                {
                                    "EID": "1212",
                                    "ENAME": "VICKY",
                                    "JOB": "DATA ANALYST",
                                    "PHONE_NO": "9786534201",
                                    "AGE": "27",
                                    "SAL": "45000",
                                    "HIREDATE": "2020-04-01",
                                    "MID": "1122",
                                    "PREV_SAL": "NULL"
                                },
                                {
                                    "EID": "2212",
                                    "ENAME": "JEEVA",
                                    "JOB": "DATA ANALYST",
                                    "PHONE_NO": "9781534201",
                                    "AGE": "25",
                                    "SAL": "30000",
                                    "HIREDATE": "2015-08-24",
                                    "MID": "1122",
                                    "PREV_SAL": "45000"
                                },
                                {
                                    "EID": "4212",
                                    "ENAME": "PREM KUMAR",
                                    "JOB": "DATA ANALYST",
                                    "PHONE_NO": "9086534201",
                                    "AGE": "27",
                                    "SAL": "40000",
                                    "HIREDATE": "2023-04-20",
                                    "MID": "1122",
                                    "PREV_SAL": "30000"
                                },
                                {
                                    "EID": "1762",
                                    "ENAME": "AJAY",
                                    "JOB": "DATA SCIENTIET",
                                    "PHONE_NO": "8789321456",
                                    "AGE": "30",
                                    "SAL": "45000",
                                    "HIREDATE": "2019-08-20",
                                    "MID": "1124",
                                    "PREV_SAL": "NULL"
                                },
                                {
                                    "EID": "3762",
                                    "ENAME": "TAMIL",
                                    "JOB": "DATA SCIENTIET",
                                    "PHONE_NO": "8780321456",
                                    "AGE": "34",
                                    "SAL": "25000",
                                    "HIREDATE": "2015-08-24",
                                    "MID": "1124",
                                    "PREV_SAL": "45000"
                                },
                                {
                                    "EID": "4762",
                                    "ENAME": "CHANDRAN",
                                    "JOB": "DATA SCIENTIET",
                                    "PHONE_NO": "8789321406",
                                    "AGE": "30",
                                    "SAL": "45000",
                                    "HIREDATE": "2017-11-27",
                                    "MID": "1124",
                                    "PREV_SAL": "25000"
                                },
                                {
                                    "EID": "1245",
                                    "ENAME": "VIJAY",
                                    "JOB": "WEB DEVELOPER",
                                    "PHONE_NO": "7367894567",
                                    "AGE": "27",
                                    "SAL": "25000",
                                    "HIREDATE": "2018-01-27",
                                    "MID": "1123",
                                    "PREV_SAL": "NULL"
                                },
                                {
                                    "EID": "1721",
                                    "ENAME": "ARUN",
                                    "JOB": "WEB DEVELOPER",
                                    "PHONE_NO": "9876543210",
                                    "AGE": "25",
                                    "SAL": "35000",
                                    "HIREDATE": "2021-03-30",
                                    "MID": "1123",
                                    "PREV_SAL": "25000"
                                },
                                {
                                    "EID": "2121",
                                    "ENAME": "SANTHOSH",
                                    "JOB": "WEB DEVELOPER",
                                    "PHONE_NO": "9823543210",
                                    "AGE": "29",
                                    "SAL": "25000",
                                    "HIREDATE": "2022-02-14",
                                    "MID": "1123",
                                    "PREV_SAL": "35000"
                                },
                                {
                                    "EID": "3245",
                                    "ENAME": "MUTHU",
                                    "JOB": "WEB DEVELOPER",
                                    "PHONE_NO": "7361894567",
                                    "AGE": "36",
                                    "SAL": "25000",
                                    "HIREDATE": "2016-06-20",
                                    "MID": "1123",
                                    "PREV_SAL": "25000"
                                },
                                {
                                    "EID": "5245",
                                    "ENAME": "DEEPAK",
                                    "JOB": "WEB DEVELOPER",
                                    "PHONE_NO": "7367894167",
                                    "AGE": "28",
                                    "SAL": "25000",
                                    "HIREDATE": "2014-11-08",
                                    "MID": "1123",
                                    "PREV_SAL": "25000"
                                }
                            ]
                        },
                        "text/html": "<table><tr><th>EID</th><th>ENAME</th><th>JOB</th><th>PHONE_NO</th><th>AGE</th><th>SAL</th><th>HIREDATE</th><th>MID</th><th>PREV_SAL</th></tr><tr><td>1832</td><td>SURYA</td><td>CLERK</td><td>6372456764</td><td>28</td><td>20000</td><td>2019-08-20</td><td>NULL</td><td>NULL</td></tr><tr><td>3832</td><td>SANJAY</td><td>CLERK</td><td>6372556764</td><td>22</td><td>12000</td><td>2019-06-11</td><td>NULL</td><td>20000</td></tr><tr><td>4832</td><td>SHANKAR</td><td>CLERK</td><td>6372456064</td><td>28</td><td>20000</td><td>2013-10-15</td><td>NULL</td><td>12000</td></tr><tr><td>1212</td><td>VICKY</td><td>DATA ANALYST</td><td>9786534201</td><td>27</td><td>45000</td><td>2020-04-01</td><td>1122</td><td>NULL</td></tr><tr><td>2212</td><td>JEEVA</td><td>DATA ANALYST</td><td>9781534201</td><td>25</td><td>30000</td><td>2015-08-24</td><td>1122</td><td>45000</td></tr><tr><td>4212</td><td>PREM KUMAR</td><td>DATA ANALYST</td><td>9086534201</td><td>27</td><td>40000</td><td>2023-04-20</td><td>1122</td><td>30000</td></tr><tr><td>1762</td><td>AJAY</td><td>DATA SCIENTIET</td><td>8789321456</td><td>30</td><td>45000</td><td>2019-08-20</td><td>1124</td><td>NULL</td></tr><tr><td>3762</td><td>TAMIL</td><td>DATA SCIENTIET</td><td>8780321456</td><td>34</td><td>25000</td><td>2015-08-24</td><td>1124</td><td>45000</td></tr><tr><td>4762</td><td>CHANDRAN</td><td>DATA SCIENTIET</td><td>8789321406</td><td>30</td><td>45000</td><td>2017-11-27</td><td>1124</td><td>25000</td></tr><tr><td>1245</td><td>VIJAY</td><td>WEB DEVELOPER</td><td>7367894567</td><td>27</td><td>25000</td><td>2018-01-27</td><td>1123</td><td>NULL</td></tr><tr><td>1721</td><td>ARUN</td><td>WEB DEVELOPER</td><td>9876543210</td><td>25</td><td>35000</td><td>2021-03-30</td><td>1123</td><td>25000</td></tr><tr><td>2121</td><td>SANTHOSH</td><td>WEB DEVELOPER</td><td>9823543210</td><td>29</td><td>25000</td><td>2022-02-14</td><td>1123</td><td>35000</td></tr><tr><td>3245</td><td>MUTHU</td><td>WEB DEVELOPER</td><td>7361894567</td><td>36</td><td>25000</td><td>2016-06-20</td><td>1123</td><td>25000</td></tr><tr><td>5245</td><td>DEEPAK</td><td>WEB DEVELOPER</td><td>7367894167</td><td>28</td><td>25000</td><td>2014-11-08</td><td>1123</td><td>25000</td></tr></table>"
                    },
                    "metadata": {}
                }
            ],
            "execution_count": 29
        },
        {
            "cell_type": "markdown",
            "source": [
                "LEAD( );"
            ],
            "metadata": {
                "language": "sql",
                "azdata_cell_guid": "97c25700-ae10-40b1-9065-26ddf759eeac"
            },
            "attachments": {}
        },
        {
            "cell_type": "code",
            "source": [
                "SELECT *,LAG(SAL) OVER(PARTITION BY JOB ORDER BY EID) AS PREV_SAL,\r\n",
                "LEAD(SAL) OVER(PARTITION BY JOB ORDER BY EID) AS NEXT_SAL\r\n",
                "FROM EMPLOYE_DETAILS;"
            ],
            "metadata": {
                "language": "sql",
                "azdata_cell_guid": "5440e7cd-fb0b-456b-9ad1-d86d4b5ed3d1"
            },
            "outputs": [
                {
                    "output_type": "display_data",
                    "data": {
                        "text/html": "(14 rows affected)"
                    },
                    "metadata": {}
                },
                {
                    "output_type": "display_data",
                    "data": {
                        "text/html": "Total execution time: 00:00:00.017"
                    },
                    "metadata": {}
                },
                {
                    "output_type": "execute_result",
                    "execution_count": 30,
                    "data": {
                        "application/vnd.dataresource+json": {
                            "schema": {
                                "fields": [
                                    {
                                        "name": "EID"
                                    },
                                    {
                                        "name": "ENAME"
                                    },
                                    {
                                        "name": "JOB"
                                    },
                                    {
                                        "name": "PHONE_NO"
                                    },
                                    {
                                        "name": "AGE"
                                    },
                                    {
                                        "name": "SAL"
                                    },
                                    {
                                        "name": "HIREDATE"
                                    },
                                    {
                                        "name": "MID"
                                    },
                                    {
                                        "name": "PREV_SAL"
                                    },
                                    {
                                        "name": "NEXT_SAL"
                                    }
                                ]
                            },
                            "data": [
                                {
                                    "EID": "1832",
                                    "ENAME": "SURYA",
                                    "JOB": "CLERK",
                                    "PHONE_NO": "6372456764",
                                    "AGE": "28",
                                    "SAL": "20000",
                                    "HIREDATE": "2019-08-20",
                                    "MID": "NULL",
                                    "PREV_SAL": "NULL",
                                    "NEXT_SAL": "12000"
                                },
                                {
                                    "EID": "3832",
                                    "ENAME": "SANJAY",
                                    "JOB": "CLERK",
                                    "PHONE_NO": "6372556764",
                                    "AGE": "22",
                                    "SAL": "12000",
                                    "HIREDATE": "2019-06-11",
                                    "MID": "NULL",
                                    "PREV_SAL": "20000",
                                    "NEXT_SAL": "20000"
                                },
                                {
                                    "EID": "4832",
                                    "ENAME": "SHANKAR",
                                    "JOB": "CLERK",
                                    "PHONE_NO": "6372456064",
                                    "AGE": "28",
                                    "SAL": "20000",
                                    "HIREDATE": "2013-10-15",
                                    "MID": "NULL",
                                    "PREV_SAL": "12000",
                                    "NEXT_SAL": "NULL"
                                },
                                {
                                    "EID": "1212",
                                    "ENAME": "VICKY",
                                    "JOB": "DATA ANALYST",
                                    "PHONE_NO": "9786534201",
                                    "AGE": "27",
                                    "SAL": "45000",
                                    "HIREDATE": "2020-04-01",
                                    "MID": "1122",
                                    "PREV_SAL": "NULL",
                                    "NEXT_SAL": "30000"
                                },
                                {
                                    "EID": "2212",
                                    "ENAME": "JEEVA",
                                    "JOB": "DATA ANALYST",
                                    "PHONE_NO": "9781534201",
                                    "AGE": "25",
                                    "SAL": "30000",
                                    "HIREDATE": "2015-08-24",
                                    "MID": "1122",
                                    "PREV_SAL": "45000",
                                    "NEXT_SAL": "40000"
                                },
                                {
                                    "EID": "4212",
                                    "ENAME": "PREM KUMAR",
                                    "JOB": "DATA ANALYST",
                                    "PHONE_NO": "9086534201",
                                    "AGE": "27",
                                    "SAL": "40000",
                                    "HIREDATE": "2023-04-20",
                                    "MID": "1122",
                                    "PREV_SAL": "30000",
                                    "NEXT_SAL": "NULL"
                                },
                                {
                                    "EID": "1762",
                                    "ENAME": "AJAY",
                                    "JOB": "DATA SCIENTIET",
                                    "PHONE_NO": "8789321456",
                                    "AGE": "30",
                                    "SAL": "45000",
                                    "HIREDATE": "2019-08-20",
                                    "MID": "1124",
                                    "PREV_SAL": "NULL",
                                    "NEXT_SAL": "25000"
                                },
                                {
                                    "EID": "3762",
                                    "ENAME": "TAMIL",
                                    "JOB": "DATA SCIENTIET",
                                    "PHONE_NO": "8780321456",
                                    "AGE": "34",
                                    "SAL": "25000",
                                    "HIREDATE": "2015-08-24",
                                    "MID": "1124",
                                    "PREV_SAL": "45000",
                                    "NEXT_SAL": "45000"
                                },
                                {
                                    "EID": "4762",
                                    "ENAME": "CHANDRAN",
                                    "JOB": "DATA SCIENTIET",
                                    "PHONE_NO": "8789321406",
                                    "AGE": "30",
                                    "SAL": "45000",
                                    "HIREDATE": "2017-11-27",
                                    "MID": "1124",
                                    "PREV_SAL": "25000",
                                    "NEXT_SAL": "NULL"
                                },
                                {
                                    "EID": "1245",
                                    "ENAME": "VIJAY",
                                    "JOB": "WEB DEVELOPER",
                                    "PHONE_NO": "7367894567",
                                    "AGE": "27",
                                    "SAL": "25000",
                                    "HIREDATE": "2018-01-27",
                                    "MID": "1123",
                                    "PREV_SAL": "NULL",
                                    "NEXT_SAL": "35000"
                                },
                                {
                                    "EID": "1721",
                                    "ENAME": "ARUN",
                                    "JOB": "WEB DEVELOPER",
                                    "PHONE_NO": "9876543210",
                                    "AGE": "25",
                                    "SAL": "35000",
                                    "HIREDATE": "2021-03-30",
                                    "MID": "1123",
                                    "PREV_SAL": "25000",
                                    "NEXT_SAL": "25000"
                                },
                                {
                                    "EID": "2121",
                                    "ENAME": "SANTHOSH",
                                    "JOB": "WEB DEVELOPER",
                                    "PHONE_NO": "9823543210",
                                    "AGE": "29",
                                    "SAL": "25000",
                                    "HIREDATE": "2022-02-14",
                                    "MID": "1123",
                                    "PREV_SAL": "35000",
                                    "NEXT_SAL": "25000"
                                },
                                {
                                    "EID": "3245",
                                    "ENAME": "MUTHU",
                                    "JOB": "WEB DEVELOPER",
                                    "PHONE_NO": "7361894567",
                                    "AGE": "36",
                                    "SAL": "25000",
                                    "HIREDATE": "2016-06-20",
                                    "MID": "1123",
                                    "PREV_SAL": "25000",
                                    "NEXT_SAL": "25000"
                                },
                                {
                                    "EID": "5245",
                                    "ENAME": "DEEPAK",
                                    "JOB": "WEB DEVELOPER",
                                    "PHONE_NO": "7367894167",
                                    "AGE": "28",
                                    "SAL": "25000",
                                    "HIREDATE": "2014-11-08",
                                    "MID": "1123",
                                    "PREV_SAL": "25000",
                                    "NEXT_SAL": "NULL"
                                }
                            ]
                        },
                        "text/html": "<table><tr><th>EID</th><th>ENAME</th><th>JOB</th><th>PHONE_NO</th><th>AGE</th><th>SAL</th><th>HIREDATE</th><th>MID</th><th>PREV_SAL</th><th>NEXT_SAL</th></tr><tr><td>1832</td><td>SURYA</td><td>CLERK</td><td>6372456764</td><td>28</td><td>20000</td><td>2019-08-20</td><td>NULL</td><td>NULL</td><td>12000</td></tr><tr><td>3832</td><td>SANJAY</td><td>CLERK</td><td>6372556764</td><td>22</td><td>12000</td><td>2019-06-11</td><td>NULL</td><td>20000</td><td>20000</td></tr><tr><td>4832</td><td>SHANKAR</td><td>CLERK</td><td>6372456064</td><td>28</td><td>20000</td><td>2013-10-15</td><td>NULL</td><td>12000</td><td>NULL</td></tr><tr><td>1212</td><td>VICKY</td><td>DATA ANALYST</td><td>9786534201</td><td>27</td><td>45000</td><td>2020-04-01</td><td>1122</td><td>NULL</td><td>30000</td></tr><tr><td>2212</td><td>JEEVA</td><td>DATA ANALYST</td><td>9781534201</td><td>25</td><td>30000</td><td>2015-08-24</td><td>1122</td><td>45000</td><td>40000</td></tr><tr><td>4212</td><td>PREM KUMAR</td><td>DATA ANALYST</td><td>9086534201</td><td>27</td><td>40000</td><td>2023-04-20</td><td>1122</td><td>30000</td><td>NULL</td></tr><tr><td>1762</td><td>AJAY</td><td>DATA SCIENTIET</td><td>8789321456</td><td>30</td><td>45000</td><td>2019-08-20</td><td>1124</td><td>NULL</td><td>25000</td></tr><tr><td>3762</td><td>TAMIL</td><td>DATA SCIENTIET</td><td>8780321456</td><td>34</td><td>25000</td><td>2015-08-24</td><td>1124</td><td>45000</td><td>45000</td></tr><tr><td>4762</td><td>CHANDRAN</td><td>DATA SCIENTIET</td><td>8789321406</td><td>30</td><td>45000</td><td>2017-11-27</td><td>1124</td><td>25000</td><td>NULL</td></tr><tr><td>1245</td><td>VIJAY</td><td>WEB DEVELOPER</td><td>7367894567</td><td>27</td><td>25000</td><td>2018-01-27</td><td>1123</td><td>NULL</td><td>35000</td></tr><tr><td>1721</td><td>ARUN</td><td>WEB DEVELOPER</td><td>9876543210</td><td>25</td><td>35000</td><td>2021-03-30</td><td>1123</td><td>25000</td><td>25000</td></tr><tr><td>2121</td><td>SANTHOSH</td><td>WEB DEVELOPER</td><td>9823543210</td><td>29</td><td>25000</td><td>2022-02-14</td><td>1123</td><td>35000</td><td>25000</td></tr><tr><td>3245</td><td>MUTHU</td><td>WEB DEVELOPER</td><td>7361894567</td><td>36</td><td>25000</td><td>2016-06-20</td><td>1123</td><td>25000</td><td>25000</td></tr><tr><td>5245</td><td>DEEPAK</td><td>WEB DEVELOPER</td><td>7367894167</td><td>28</td><td>25000</td><td>2014-11-08</td><td>1123</td><td>25000</td><td>NULL</td></tr></table>"
                    },
                    "metadata": {}
                }
            ],
            "execution_count": 30
        },
        {
            "cell_type": "markdown",
            "source": [
                "14/07/2023 DENSE RANK;\n",
                "\n",
                "<span style=\"color: rgb(39, 50, 57); font-family: Nunito, sans-serif; font-size: 17px; letter-spacing: 0.162px; background-color: rgb(255, 255, 255);\">It assigns rank to each row within partition. Just like rank function first row is assigned rank 1 and rows having same value have same rank. The difference between RANK() and DENSE_RANK() is that in DENSE_RANK(), for the next rank after two same rank, consecutive integer is used, no rank is skipped.&nbsp;</span>"
            ],
            "metadata": {
                "azdata_cell_guid": "44490a15-b0ae-4b53-b72e-e2b60d4a777e"
            },
            "attachments": {}
        },
        {
            "cell_type": "code",
            "source": [
                "SELECT *,RANK() OVER(PARTITION BY JOB ORDER BY SAL) AS RANK,\r\n",
                "DENSE_RANK() OVER(PARTITION BY JOB ORDER BY SAL) AS DENSE_RANK\r\n",
                "FROM EMPLOYE_DETAILS;"
            ],
            "metadata": {
                "azdata_cell_guid": "4fd64245-1d6e-43d3-a800-526e1c469c8a",
                "language": "sql"
            },
            "outputs": [
                {
                    "output_type": "display_data",
                    "data": {
                        "text/html": "(14 rows affected)"
                    },
                    "metadata": {}
                },
                {
                    "output_type": "display_data",
                    "data": {
                        "text/html": "Total execution time: 00:00:00.064"
                    },
                    "metadata": {}
                },
                {
                    "output_type": "execute_result",
                    "execution_count": 3,
                    "data": {
                        "application/vnd.dataresource+json": {
                            "schema": {
                                "fields": [
                                    {
                                        "name": "EID"
                                    },
                                    {
                                        "name": "ENAME"
                                    },
                                    {
                                        "name": "JOB"
                                    },
                                    {
                                        "name": "PHONE_NO"
                                    },
                                    {
                                        "name": "AGE"
                                    },
                                    {
                                        "name": "SAL"
                                    },
                                    {
                                        "name": "HIREDATE"
                                    },
                                    {
                                        "name": "MID"
                                    },
                                    {
                                        "name": "RANK"
                                    },
                                    {
                                        "name": "DENSE_RANK"
                                    }
                                ]
                            },
                            "data": [
                                {
                                    "EID": "3832",
                                    "ENAME": "SANJAY",
                                    "JOB": "CLERK",
                                    "PHONE_NO": "6372556764",
                                    "AGE": "22",
                                    "SAL": "12000",
                                    "HIREDATE": "2019-06-11",
                                    "MID": "NULL",
                                    "RANK": "1",
                                    "DENSE_RANK": "1"
                                },
                                {
                                    "EID": "4832",
                                    "ENAME": "SHANKAR",
                                    "JOB": "CLERK",
                                    "PHONE_NO": "6372456064",
                                    "AGE": "28",
                                    "SAL": "20000",
                                    "HIREDATE": "2013-10-15",
                                    "MID": "NULL",
                                    "RANK": "2",
                                    "DENSE_RANK": "2"
                                },
                                {
                                    "EID": "1832",
                                    "ENAME": "SURYA",
                                    "JOB": "CLERK",
                                    "PHONE_NO": "6372456764",
                                    "AGE": "28",
                                    "SAL": "20000",
                                    "HIREDATE": "2019-08-20",
                                    "MID": "NULL",
                                    "RANK": "2",
                                    "DENSE_RANK": "2"
                                },
                                {
                                    "EID": "2212",
                                    "ENAME": "JEEVA",
                                    "JOB": "DATA ANALYST",
                                    "PHONE_NO": "9781534201",
                                    "AGE": "25",
                                    "SAL": "30000",
                                    "HIREDATE": "2015-08-24",
                                    "MID": "1122",
                                    "RANK": "1",
                                    "DENSE_RANK": "1"
                                },
                                {
                                    "EID": "4212",
                                    "ENAME": "PREM KUMAR",
                                    "JOB": "DATA ANALYST",
                                    "PHONE_NO": "9086534201",
                                    "AGE": "27",
                                    "SAL": "40000",
                                    "HIREDATE": "2023-04-20",
                                    "MID": "1122",
                                    "RANK": "2",
                                    "DENSE_RANK": "2"
                                },
                                {
                                    "EID": "1212",
                                    "ENAME": "VICKY",
                                    "JOB": "DATA ANALYST",
                                    "PHONE_NO": "9786534201",
                                    "AGE": "27",
                                    "SAL": "45000",
                                    "HIREDATE": "2020-04-01",
                                    "MID": "1122",
                                    "RANK": "3",
                                    "DENSE_RANK": "3"
                                },
                                {
                                    "EID": "3762",
                                    "ENAME": "TAMIL",
                                    "JOB": "DATA SCIENTIET",
                                    "PHONE_NO": "8780321456",
                                    "AGE": "34",
                                    "SAL": "25000",
                                    "HIREDATE": "2015-08-24",
                                    "MID": "1124",
                                    "RANK": "1",
                                    "DENSE_RANK": "1"
                                },
                                {
                                    "EID": "1762",
                                    "ENAME": "AJAY",
                                    "JOB": "DATA SCIENTIET",
                                    "PHONE_NO": "8789321456",
                                    "AGE": "30",
                                    "SAL": "45000",
                                    "HIREDATE": "2019-08-20",
                                    "MID": "1124",
                                    "RANK": "2",
                                    "DENSE_RANK": "2"
                                },
                                {
                                    "EID": "4762",
                                    "ENAME": "CHANDRAN",
                                    "JOB": "DATA SCIENTIET",
                                    "PHONE_NO": "8789321406",
                                    "AGE": "30",
                                    "SAL": "45000",
                                    "HIREDATE": "2017-11-27",
                                    "MID": "1124",
                                    "RANK": "2",
                                    "DENSE_RANK": "2"
                                },
                                {
                                    "EID": "5245",
                                    "ENAME": "DEEPAK",
                                    "JOB": "WEB DEVELOPER",
                                    "PHONE_NO": "7367894167",
                                    "AGE": "28",
                                    "SAL": "25000",
                                    "HIREDATE": "2014-11-08",
                                    "MID": "1123",
                                    "RANK": "1",
                                    "DENSE_RANK": "1"
                                },
                                {
                                    "EID": "3245",
                                    "ENAME": "MUTHU",
                                    "JOB": "WEB DEVELOPER",
                                    "PHONE_NO": "7361894567",
                                    "AGE": "36",
                                    "SAL": "25000",
                                    "HIREDATE": "2016-06-20",
                                    "MID": "1123",
                                    "RANK": "1",
                                    "DENSE_RANK": "1"
                                },
                                {
                                    "EID": "1245",
                                    "ENAME": "VIJAY",
                                    "JOB": "WEB DEVELOPER",
                                    "PHONE_NO": "7367894567",
                                    "AGE": "27",
                                    "SAL": "25000",
                                    "HIREDATE": "2018-01-27",
                                    "MID": "1123",
                                    "RANK": "1",
                                    "DENSE_RANK": "1"
                                },
                                {
                                    "EID": "2121",
                                    "ENAME": "SANTHOSH",
                                    "JOB": "WEB DEVELOPER",
                                    "PHONE_NO": "9823543210",
                                    "AGE": "29",
                                    "SAL": "25000",
                                    "HIREDATE": "2022-02-14",
                                    "MID": "1123",
                                    "RANK": "1",
                                    "DENSE_RANK": "1"
                                },
                                {
                                    "EID": "1721",
                                    "ENAME": "ARUN",
                                    "JOB": "WEB DEVELOPER",
                                    "PHONE_NO": "9876543210",
                                    "AGE": "25",
                                    "SAL": "35000",
                                    "HIREDATE": "2021-03-30",
                                    "MID": "1123",
                                    "RANK": "5",
                                    "DENSE_RANK": "2"
                                }
                            ]
                        },
                        "text/html": "<table><tr><th>EID</th><th>ENAME</th><th>JOB</th><th>PHONE_NO</th><th>AGE</th><th>SAL</th><th>HIREDATE</th><th>MID</th><th>RANK</th><th>DENSE_RANK</th></tr><tr><td>3832</td><td>SANJAY</td><td>CLERK</td><td>6372556764</td><td>22</td><td>12000</td><td>2019-06-11</td><td>NULL</td><td>1</td><td>1</td></tr><tr><td>4832</td><td>SHANKAR</td><td>CLERK</td><td>6372456064</td><td>28</td><td>20000</td><td>2013-10-15</td><td>NULL</td><td>2</td><td>2</td></tr><tr><td>1832</td><td>SURYA</td><td>CLERK</td><td>6372456764</td><td>28</td><td>20000</td><td>2019-08-20</td><td>NULL</td><td>2</td><td>2</td></tr><tr><td>2212</td><td>JEEVA</td><td>DATA ANALYST</td><td>9781534201</td><td>25</td><td>30000</td><td>2015-08-24</td><td>1122</td><td>1</td><td>1</td></tr><tr><td>4212</td><td>PREM KUMAR</td><td>DATA ANALYST</td><td>9086534201</td><td>27</td><td>40000</td><td>2023-04-20</td><td>1122</td><td>2</td><td>2</td></tr><tr><td>1212</td><td>VICKY</td><td>DATA ANALYST</td><td>9786534201</td><td>27</td><td>45000</td><td>2020-04-01</td><td>1122</td><td>3</td><td>3</td></tr><tr><td>3762</td><td>TAMIL</td><td>DATA SCIENTIET</td><td>8780321456</td><td>34</td><td>25000</td><td>2015-08-24</td><td>1124</td><td>1</td><td>1</td></tr><tr><td>1762</td><td>AJAY</td><td>DATA SCIENTIET</td><td>8789321456</td><td>30</td><td>45000</td><td>2019-08-20</td><td>1124</td><td>2</td><td>2</td></tr><tr><td>4762</td><td>CHANDRAN</td><td>DATA SCIENTIET</td><td>8789321406</td><td>30</td><td>45000</td><td>2017-11-27</td><td>1124</td><td>2</td><td>2</td></tr><tr><td>5245</td><td>DEEPAK</td><td>WEB DEVELOPER</td><td>7367894167</td><td>28</td><td>25000</td><td>2014-11-08</td><td>1123</td><td>1</td><td>1</td></tr><tr><td>3245</td><td>MUTHU</td><td>WEB DEVELOPER</td><td>7361894567</td><td>36</td><td>25000</td><td>2016-06-20</td><td>1123</td><td>1</td><td>1</td></tr><tr><td>1245</td><td>VIJAY</td><td>WEB DEVELOPER</td><td>7367894567</td><td>27</td><td>25000</td><td>2018-01-27</td><td>1123</td><td>1</td><td>1</td></tr><tr><td>2121</td><td>SANTHOSH</td><td>WEB DEVELOPER</td><td>9823543210</td><td>29</td><td>25000</td><td>2022-02-14</td><td>1123</td><td>1</td><td>1</td></tr><tr><td>1721</td><td>ARUN</td><td>WEB DEVELOPER</td><td>9876543210</td><td>25</td><td>35000</td><td>2021-03-30</td><td>1123</td><td>5</td><td>2</td></tr></table>"
                    },
                    "metadata": {}
                }
            ],
            "execution_count": 3
        },
        {
            "cell_type": "markdown",
            "source": [
                "FIRST VALUE;"
            ],
            "metadata": {
                "language": "sql",
                "azdata_cell_guid": "a4c140e5-3841-4a3c-b25e-e424d4d1620a"
            },
            "attachments": {}
        },
        {
            "cell_type": "code",
            "source": [
                "SELECT *,FIRST_VALUE(ENAME) OVER(PARTITION BY JOB ORDER BY SAL DESC ) AS HIGHEST_PAID_EMPLOYE\r\n",
                "FROM EMPLOYE_DETAILS;"
            ],
            "metadata": {
                "language": "sql",
                "azdata_cell_guid": "b62dc097-ceba-4362-bee3-40cc914babf6"
            },
            "outputs": [
                {
                    "output_type": "display_data",
                    "data": {
                        "text/html": "(14 rows affected)"
                    },
                    "metadata": {}
                },
                {
                    "output_type": "display_data",
                    "data": {
                        "text/html": "Total execution time: 00:00:00.012"
                    },
                    "metadata": {}
                },
                {
                    "output_type": "execute_result",
                    "execution_count": 10,
                    "data": {
                        "application/vnd.dataresource+json": {
                            "schema": {
                                "fields": [
                                    {
                                        "name": "EID"
                                    },
                                    {
                                        "name": "ENAME"
                                    },
                                    {
                                        "name": "JOB"
                                    },
                                    {
                                        "name": "PHONE_NO"
                                    },
                                    {
                                        "name": "AGE"
                                    },
                                    {
                                        "name": "SAL"
                                    },
                                    {
                                        "name": "HIREDATE"
                                    },
                                    {
                                        "name": "MID"
                                    },
                                    {
                                        "name": "HIGHEST_PAID_EMPLOYE"
                                    }
                                ]
                            },
                            "data": [
                                {
                                    "EID": "1832",
                                    "ENAME": "SURYA",
                                    "JOB": "CLERK",
                                    "PHONE_NO": "6372456764",
                                    "AGE": "28",
                                    "SAL": "20000",
                                    "HIREDATE": "2019-08-20",
                                    "MID": "NULL",
                                    "HIGHEST_PAID_EMPLOYE": "SURYA"
                                },
                                {
                                    "EID": "4832",
                                    "ENAME": "SHANKAR",
                                    "JOB": "CLERK",
                                    "PHONE_NO": "6372456064",
                                    "AGE": "28",
                                    "SAL": "20000",
                                    "HIREDATE": "2013-10-15",
                                    "MID": "NULL",
                                    "HIGHEST_PAID_EMPLOYE": "SURYA"
                                },
                                {
                                    "EID": "3832",
                                    "ENAME": "SANJAY",
                                    "JOB": "CLERK",
                                    "PHONE_NO": "6372556764",
                                    "AGE": "22",
                                    "SAL": "12000",
                                    "HIREDATE": "2019-06-11",
                                    "MID": "NULL",
                                    "HIGHEST_PAID_EMPLOYE": "SURYA"
                                },
                                {
                                    "EID": "1212",
                                    "ENAME": "VICKY",
                                    "JOB": "DATA ANALYST",
                                    "PHONE_NO": "9786534201",
                                    "AGE": "27",
                                    "SAL": "45000",
                                    "HIREDATE": "2020-04-01",
                                    "MID": "1122",
                                    "HIGHEST_PAID_EMPLOYE": "VICKY"
                                },
                                {
                                    "EID": "4212",
                                    "ENAME": "PREM KUMAR",
                                    "JOB": "DATA ANALYST",
                                    "PHONE_NO": "9086534201",
                                    "AGE": "27",
                                    "SAL": "40000",
                                    "HIREDATE": "2023-04-20",
                                    "MID": "1122",
                                    "HIGHEST_PAID_EMPLOYE": "VICKY"
                                },
                                {
                                    "EID": "2212",
                                    "ENAME": "JEEVA",
                                    "JOB": "DATA ANALYST",
                                    "PHONE_NO": "9781534201",
                                    "AGE": "25",
                                    "SAL": "30000",
                                    "HIREDATE": "2015-08-24",
                                    "MID": "1122",
                                    "HIGHEST_PAID_EMPLOYE": "VICKY"
                                },
                                {
                                    "EID": "1762",
                                    "ENAME": "AJAY",
                                    "JOB": "DATA SCIENTIET",
                                    "PHONE_NO": "8789321456",
                                    "AGE": "30",
                                    "SAL": "45000",
                                    "HIREDATE": "2019-08-20",
                                    "MID": "1124",
                                    "HIGHEST_PAID_EMPLOYE": "AJAY"
                                },
                                {
                                    "EID": "4762",
                                    "ENAME": "CHANDRAN",
                                    "JOB": "DATA SCIENTIET",
                                    "PHONE_NO": "8789321406",
                                    "AGE": "30",
                                    "SAL": "45000",
                                    "HIREDATE": "2017-11-27",
                                    "MID": "1124",
                                    "HIGHEST_PAID_EMPLOYE": "AJAY"
                                },
                                {
                                    "EID": "3762",
                                    "ENAME": "TAMIL",
                                    "JOB": "DATA SCIENTIET",
                                    "PHONE_NO": "8780321456",
                                    "AGE": "34",
                                    "SAL": "25000",
                                    "HIREDATE": "2015-08-24",
                                    "MID": "1124",
                                    "HIGHEST_PAID_EMPLOYE": "AJAY"
                                },
                                {
                                    "EID": "1721",
                                    "ENAME": "ARUN",
                                    "JOB": "WEB DEVELOPER",
                                    "PHONE_NO": "9876543210",
                                    "AGE": "25",
                                    "SAL": "35000",
                                    "HIREDATE": "2021-03-30",
                                    "MID": "1123",
                                    "HIGHEST_PAID_EMPLOYE": "ARUN"
                                },
                                {
                                    "EID": "1245",
                                    "ENAME": "VIJAY",
                                    "JOB": "WEB DEVELOPER",
                                    "PHONE_NO": "7367894567",
                                    "AGE": "27",
                                    "SAL": "25000",
                                    "HIREDATE": "2018-01-27",
                                    "MID": "1123",
                                    "HIGHEST_PAID_EMPLOYE": "ARUN"
                                },
                                {
                                    "EID": "3245",
                                    "ENAME": "MUTHU",
                                    "JOB": "WEB DEVELOPER",
                                    "PHONE_NO": "7361894567",
                                    "AGE": "36",
                                    "SAL": "25000",
                                    "HIREDATE": "2016-06-20",
                                    "MID": "1123",
                                    "HIGHEST_PAID_EMPLOYE": "ARUN"
                                },
                                {
                                    "EID": "2121",
                                    "ENAME": "SANTHOSH",
                                    "JOB": "WEB DEVELOPER",
                                    "PHONE_NO": "9823543210",
                                    "AGE": "29",
                                    "SAL": "25000",
                                    "HIREDATE": "2022-02-14",
                                    "MID": "1123",
                                    "HIGHEST_PAID_EMPLOYE": "ARUN"
                                },
                                {
                                    "EID": "5245",
                                    "ENAME": "DEEPAK",
                                    "JOB": "WEB DEVELOPER",
                                    "PHONE_NO": "7367894167",
                                    "AGE": "28",
                                    "SAL": "25000",
                                    "HIREDATE": "2014-11-08",
                                    "MID": "1123",
                                    "HIGHEST_PAID_EMPLOYE": "ARUN"
                                }
                            ]
                        },
                        "text/html": "<table><tr><th>EID</th><th>ENAME</th><th>JOB</th><th>PHONE_NO</th><th>AGE</th><th>SAL</th><th>HIREDATE</th><th>MID</th><th>HIGHEST_PAID_EMPLOYE</th></tr><tr><td>1832</td><td>SURYA</td><td>CLERK</td><td>6372456764</td><td>28</td><td>20000</td><td>2019-08-20</td><td>NULL</td><td>SURYA</td></tr><tr><td>4832</td><td>SHANKAR</td><td>CLERK</td><td>6372456064</td><td>28</td><td>20000</td><td>2013-10-15</td><td>NULL</td><td>SURYA</td></tr><tr><td>3832</td><td>SANJAY</td><td>CLERK</td><td>6372556764</td><td>22</td><td>12000</td><td>2019-06-11</td><td>NULL</td><td>SURYA</td></tr><tr><td>1212</td><td>VICKY</td><td>DATA ANALYST</td><td>9786534201</td><td>27</td><td>45000</td><td>2020-04-01</td><td>1122</td><td>VICKY</td></tr><tr><td>4212</td><td>PREM KUMAR</td><td>DATA ANALYST</td><td>9086534201</td><td>27</td><td>40000</td><td>2023-04-20</td><td>1122</td><td>VICKY</td></tr><tr><td>2212</td><td>JEEVA</td><td>DATA ANALYST</td><td>9781534201</td><td>25</td><td>30000</td><td>2015-08-24</td><td>1122</td><td>VICKY</td></tr><tr><td>1762</td><td>AJAY</td><td>DATA SCIENTIET</td><td>8789321456</td><td>30</td><td>45000</td><td>2019-08-20</td><td>1124</td><td>AJAY</td></tr><tr><td>4762</td><td>CHANDRAN</td><td>DATA SCIENTIET</td><td>8789321406</td><td>30</td><td>45000</td><td>2017-11-27</td><td>1124</td><td>AJAY</td></tr><tr><td>3762</td><td>TAMIL</td><td>DATA SCIENTIET</td><td>8780321456</td><td>34</td><td>25000</td><td>2015-08-24</td><td>1124</td><td>AJAY</td></tr><tr><td>1721</td><td>ARUN</td><td>WEB DEVELOPER</td><td>9876543210</td><td>25</td><td>35000</td><td>2021-03-30</td><td>1123</td><td>ARUN</td></tr><tr><td>1245</td><td>VIJAY</td><td>WEB DEVELOPER</td><td>7367894567</td><td>27</td><td>25000</td><td>2018-01-27</td><td>1123</td><td>ARUN</td></tr><tr><td>3245</td><td>MUTHU</td><td>WEB DEVELOPER</td><td>7361894567</td><td>36</td><td>25000</td><td>2016-06-20</td><td>1123</td><td>ARUN</td></tr><tr><td>2121</td><td>SANTHOSH</td><td>WEB DEVELOPER</td><td>9823543210</td><td>29</td><td>25000</td><td>2022-02-14</td><td>1123</td><td>ARUN</td></tr><tr><td>5245</td><td>DEEPAK</td><td>WEB DEVELOPER</td><td>7367894167</td><td>28</td><td>25000</td><td>2014-11-08</td><td>1123</td><td>ARUN</td></tr></table>"
                    },
                    "metadata": {}
                }
            ],
            "execution_count": 10
        },
        {
            "cell_type": "markdown",
            "source": [
                "LAST VALUE;"
            ],
            "metadata": {
                "azdata_cell_guid": "d80ac322-f154-4605-b826-56053a18df59"
            },
            "attachments": {}
        },
        {
            "cell_type": "code",
            "source": [
                "SELECT *,\r\n",
                "FIRST_VALUE(ENAME) OVER(PARTITION BY JOB ORDER BY SAL DESC) AS HIGHEST_PAID_EMPLOYE,\r\n",
                "LAST_VALUE(ENAME) OVER(PARTITION BY JOB ORDER BY SAL DESC) AS LEAST_PAID_EMPLOYE\r\n",
                "FROM EMPLOYE_DETAILS;"
            ],
            "metadata": {
                "azdata_cell_guid": "2c69d473-47b5-4e3f-90a2-9cdc97f165ae",
                "language": "sql"
            },
            "outputs": [
                {
                    "output_type": "display_data",
                    "data": {
                        "text/html": "(14 rows affected)"
                    },
                    "metadata": {}
                },
                {
                    "output_type": "display_data",
                    "data": {
                        "text/html": "Total execution time: 00:00:00.012"
                    },
                    "metadata": {}
                },
                {
                    "output_type": "execute_result",
                    "execution_count": 11,
                    "data": {
                        "application/vnd.dataresource+json": {
                            "schema": {
                                "fields": [
                                    {
                                        "name": "EID"
                                    },
                                    {
                                        "name": "ENAME"
                                    },
                                    {
                                        "name": "JOB"
                                    },
                                    {
                                        "name": "PHONE_NO"
                                    },
                                    {
                                        "name": "AGE"
                                    },
                                    {
                                        "name": "SAL"
                                    },
                                    {
                                        "name": "HIREDATE"
                                    },
                                    {
                                        "name": "MID"
                                    },
                                    {
                                        "name": "HIGHEST_PAID_EMPLOYE"
                                    },
                                    {
                                        "name": "LEAST_PAID_EMPLOYE"
                                    }
                                ]
                            },
                            "data": [
                                {
                                    "EID": "1832",
                                    "ENAME": "SURYA",
                                    "JOB": "CLERK",
                                    "PHONE_NO": "6372456764",
                                    "AGE": "28",
                                    "SAL": "20000",
                                    "HIREDATE": "2019-08-20",
                                    "MID": "NULL",
                                    "HIGHEST_PAID_EMPLOYE": "SURYA",
                                    "LEAST_PAID_EMPLOYE": "SHANKAR"
                                },
                                {
                                    "EID": "4832",
                                    "ENAME": "SHANKAR",
                                    "JOB": "CLERK",
                                    "PHONE_NO": "6372456064",
                                    "AGE": "28",
                                    "SAL": "20000",
                                    "HIREDATE": "2013-10-15",
                                    "MID": "NULL",
                                    "HIGHEST_PAID_EMPLOYE": "SURYA",
                                    "LEAST_PAID_EMPLOYE": "SHANKAR"
                                },
                                {
                                    "EID": "3832",
                                    "ENAME": "SANJAY",
                                    "JOB": "CLERK",
                                    "PHONE_NO": "6372556764",
                                    "AGE": "22",
                                    "SAL": "12000",
                                    "HIREDATE": "2019-06-11",
                                    "MID": "NULL",
                                    "HIGHEST_PAID_EMPLOYE": "SURYA",
                                    "LEAST_PAID_EMPLOYE": "SANJAY"
                                },
                                {
                                    "EID": "1212",
                                    "ENAME": "VICKY",
                                    "JOB": "DATA ANALYST",
                                    "PHONE_NO": "9786534201",
                                    "AGE": "27",
                                    "SAL": "45000",
                                    "HIREDATE": "2020-04-01",
                                    "MID": "1122",
                                    "HIGHEST_PAID_EMPLOYE": "VICKY",
                                    "LEAST_PAID_EMPLOYE": "VICKY"
                                },
                                {
                                    "EID": "4212",
                                    "ENAME": "PREM KUMAR",
                                    "JOB": "DATA ANALYST",
                                    "PHONE_NO": "9086534201",
                                    "AGE": "27",
                                    "SAL": "40000",
                                    "HIREDATE": "2023-04-20",
                                    "MID": "1122",
                                    "HIGHEST_PAID_EMPLOYE": "VICKY",
                                    "LEAST_PAID_EMPLOYE": "PREM KUMAR"
                                },
                                {
                                    "EID": "2212",
                                    "ENAME": "JEEVA",
                                    "JOB": "DATA ANALYST",
                                    "PHONE_NO": "9781534201",
                                    "AGE": "25",
                                    "SAL": "30000",
                                    "HIREDATE": "2015-08-24",
                                    "MID": "1122",
                                    "HIGHEST_PAID_EMPLOYE": "VICKY",
                                    "LEAST_PAID_EMPLOYE": "JEEVA"
                                },
                                {
                                    "EID": "1762",
                                    "ENAME": "AJAY",
                                    "JOB": "DATA SCIENTIET",
                                    "PHONE_NO": "8789321456",
                                    "AGE": "30",
                                    "SAL": "45000",
                                    "HIREDATE": "2019-08-20",
                                    "MID": "1124",
                                    "HIGHEST_PAID_EMPLOYE": "AJAY",
                                    "LEAST_PAID_EMPLOYE": "CHANDRAN"
                                },
                                {
                                    "EID": "4762",
                                    "ENAME": "CHANDRAN",
                                    "JOB": "DATA SCIENTIET",
                                    "PHONE_NO": "8789321406",
                                    "AGE": "30",
                                    "SAL": "45000",
                                    "HIREDATE": "2017-11-27",
                                    "MID": "1124",
                                    "HIGHEST_PAID_EMPLOYE": "AJAY",
                                    "LEAST_PAID_EMPLOYE": "CHANDRAN"
                                },
                                {
                                    "EID": "3762",
                                    "ENAME": "TAMIL",
                                    "JOB": "DATA SCIENTIET",
                                    "PHONE_NO": "8780321456",
                                    "AGE": "34",
                                    "SAL": "25000",
                                    "HIREDATE": "2015-08-24",
                                    "MID": "1124",
                                    "HIGHEST_PAID_EMPLOYE": "AJAY",
                                    "LEAST_PAID_EMPLOYE": "TAMIL"
                                },
                                {
                                    "EID": "1721",
                                    "ENAME": "ARUN",
                                    "JOB": "WEB DEVELOPER",
                                    "PHONE_NO": "9876543210",
                                    "AGE": "25",
                                    "SAL": "35000",
                                    "HIREDATE": "2021-03-30",
                                    "MID": "1123",
                                    "HIGHEST_PAID_EMPLOYE": "ARUN",
                                    "LEAST_PAID_EMPLOYE": "ARUN"
                                },
                                {
                                    "EID": "1245",
                                    "ENAME": "VIJAY",
                                    "JOB": "WEB DEVELOPER",
                                    "PHONE_NO": "7367894567",
                                    "AGE": "27",
                                    "SAL": "25000",
                                    "HIREDATE": "2018-01-27",
                                    "MID": "1123",
                                    "HIGHEST_PAID_EMPLOYE": "ARUN",
                                    "LEAST_PAID_EMPLOYE": "DEEPAK"
                                },
                                {
                                    "EID": "3245",
                                    "ENAME": "MUTHU",
                                    "JOB": "WEB DEVELOPER",
                                    "PHONE_NO": "7361894567",
                                    "AGE": "36",
                                    "SAL": "25000",
                                    "HIREDATE": "2016-06-20",
                                    "MID": "1123",
                                    "HIGHEST_PAID_EMPLOYE": "ARUN",
                                    "LEAST_PAID_EMPLOYE": "DEEPAK"
                                },
                                {
                                    "EID": "2121",
                                    "ENAME": "SANTHOSH",
                                    "JOB": "WEB DEVELOPER",
                                    "PHONE_NO": "9823543210",
                                    "AGE": "29",
                                    "SAL": "25000",
                                    "HIREDATE": "2022-02-14",
                                    "MID": "1123",
                                    "HIGHEST_PAID_EMPLOYE": "ARUN",
                                    "LEAST_PAID_EMPLOYE": "DEEPAK"
                                },
                                {
                                    "EID": "5245",
                                    "ENAME": "DEEPAK",
                                    "JOB": "WEB DEVELOPER",
                                    "PHONE_NO": "7367894167",
                                    "AGE": "28",
                                    "SAL": "25000",
                                    "HIREDATE": "2014-11-08",
                                    "MID": "1123",
                                    "HIGHEST_PAID_EMPLOYE": "ARUN",
                                    "LEAST_PAID_EMPLOYE": "DEEPAK"
                                }
                            ]
                        },
                        "text/html": "<table><tr><th>EID</th><th>ENAME</th><th>JOB</th><th>PHONE_NO</th><th>AGE</th><th>SAL</th><th>HIREDATE</th><th>MID</th><th>HIGHEST_PAID_EMPLOYE</th><th>LEAST_PAID_EMPLOYE</th></tr><tr><td>1832</td><td>SURYA</td><td>CLERK</td><td>6372456764</td><td>28</td><td>20000</td><td>2019-08-20</td><td>NULL</td><td>SURYA</td><td>SHANKAR</td></tr><tr><td>4832</td><td>SHANKAR</td><td>CLERK</td><td>6372456064</td><td>28</td><td>20000</td><td>2013-10-15</td><td>NULL</td><td>SURYA</td><td>SHANKAR</td></tr><tr><td>3832</td><td>SANJAY</td><td>CLERK</td><td>6372556764</td><td>22</td><td>12000</td><td>2019-06-11</td><td>NULL</td><td>SURYA</td><td>SANJAY</td></tr><tr><td>1212</td><td>VICKY</td><td>DATA ANALYST</td><td>9786534201</td><td>27</td><td>45000</td><td>2020-04-01</td><td>1122</td><td>VICKY</td><td>VICKY</td></tr><tr><td>4212</td><td>PREM KUMAR</td><td>DATA ANALYST</td><td>9086534201</td><td>27</td><td>40000</td><td>2023-04-20</td><td>1122</td><td>VICKY</td><td>PREM KUMAR</td></tr><tr><td>2212</td><td>JEEVA</td><td>DATA ANALYST</td><td>9781534201</td><td>25</td><td>30000</td><td>2015-08-24</td><td>1122</td><td>VICKY</td><td>JEEVA</td></tr><tr><td>1762</td><td>AJAY</td><td>DATA SCIENTIET</td><td>8789321456</td><td>30</td><td>45000</td><td>2019-08-20</td><td>1124</td><td>AJAY</td><td>CHANDRAN</td></tr><tr><td>4762</td><td>CHANDRAN</td><td>DATA SCIENTIET</td><td>8789321406</td><td>30</td><td>45000</td><td>2017-11-27</td><td>1124</td><td>AJAY</td><td>CHANDRAN</td></tr><tr><td>3762</td><td>TAMIL</td><td>DATA SCIENTIET</td><td>8780321456</td><td>34</td><td>25000</td><td>2015-08-24</td><td>1124</td><td>AJAY</td><td>TAMIL</td></tr><tr><td>1721</td><td>ARUN</td><td>WEB DEVELOPER</td><td>9876543210</td><td>25</td><td>35000</td><td>2021-03-30</td><td>1123</td><td>ARUN</td><td>ARUN</td></tr><tr><td>1245</td><td>VIJAY</td><td>WEB DEVELOPER</td><td>7367894567</td><td>27</td><td>25000</td><td>2018-01-27</td><td>1123</td><td>ARUN</td><td>DEEPAK</td></tr><tr><td>3245</td><td>MUTHU</td><td>WEB DEVELOPER</td><td>7361894567</td><td>36</td><td>25000</td><td>2016-06-20</td><td>1123</td><td>ARUN</td><td>DEEPAK</td></tr><tr><td>2121</td><td>SANTHOSH</td><td>WEB DEVELOPER</td><td>9823543210</td><td>29</td><td>25000</td><td>2022-02-14</td><td>1123</td><td>ARUN</td><td>DEEPAK</td></tr><tr><td>5245</td><td>DEEPAK</td><td>WEB DEVELOPER</td><td>7367894167</td><td>28</td><td>25000</td><td>2014-11-08</td><td>1123</td><td>ARUN</td><td>DEEPAK</td></tr></table>"
                    },
                    "metadata": {}
                }
            ],
            "execution_count": 11
        },
        {
            "cell_type": "markdown",
            "source": [
                "Nth VALUE;"
            ],
            "metadata": {
                "language": "sql",
                "azdata_cell_guid": "a0351d1b-89cd-4d81-8e14-3a6218ec8dff"
            },
            "attachments": {}
        },
        {
            "cell_type": "code",
            "source": [
                "SELECT \r\n",
                "-- FIRST_VALUE(ENAME) OVER(PARTITION BY JOB ORDER BY SAL DESC) AS HIGHEST_PAID_EMPLOYE,\r\n",
                "-- LAST_VALUE(ENAME) OVER(PARTITION BY JOB ORDER BY SAL DESC) AS LEAST_PAID_EMPLOYE,\r\n",
                "NTH_VALUE(ENAME,2) OVER( ORDER BY SAL DESC) AS 2ND_MOST_PAID_EMPLOYE\r\n",
                "FROM EMPLOYE_DETAILS;"
            ],
            "metadata": {
                "language": "sql",
                "azdata_cell_guid": "d75dcc67-f146-425f-9460-15b51f147920"
            },
            "outputs": [
                {
                    "output_type": "error",
                    "ename": "",
                    "evalue": "Msg 195, Level 15, State 10, Line 4\r\n'NTH_VALUE' is not a recognized built-in function name.",
                    "traceback": []
                },
                {
                    "output_type": "display_data",
                    "data": {
                        "text/html": "Total execution time: 00:00:00.001"
                    },
                    "metadata": {}
                }
            ],
            "execution_count": 8
        },
        {
            "cell_type": "markdown",
            "source": [
                "PERCENT\\_RANK;"
            ],
            "metadata": {
                "language": "sql",
                "azdata_cell_guid": "867997d3-828d-4ac2-8cf0-cc3553f0f447"
            },
            "attachments": {}
        },
        {
            "cell_type": "code",
            "source": [
                "SELECT *,PERCENT_RANK() OVER(ORDER BY SAL) AS PERCENTAGE_RANK\r\n",
                "FROM EMPLOYE_DETAILS;"
            ],
            "metadata": {
                "language": "sql",
                "azdata_cell_guid": "d80b9f55-bff4-4007-9338-46435510e457"
            },
            "outputs": [
                {
                    "output_type": "display_data",
                    "data": {
                        "text/html": "(14 rows affected)"
                    },
                    "metadata": {}
                },
                {
                    "output_type": "display_data",
                    "data": {
                        "text/html": "Total execution time: 00:00:00.016"
                    },
                    "metadata": {}
                },
                {
                    "output_type": "execute_result",
                    "execution_count": 14,
                    "data": {
                        "application/vnd.dataresource+json": {
                            "schema": {
                                "fields": [
                                    {
                                        "name": "EID"
                                    },
                                    {
                                        "name": "ENAME"
                                    },
                                    {
                                        "name": "JOB"
                                    },
                                    {
                                        "name": "PHONE_NO"
                                    },
                                    {
                                        "name": "AGE"
                                    },
                                    {
                                        "name": "SAL"
                                    },
                                    {
                                        "name": "HIREDATE"
                                    },
                                    {
                                        "name": "MID"
                                    },
                                    {
                                        "name": "PERCENTAGE_RANK"
                                    }
                                ]
                            },
                            "data": [
                                {
                                    "EID": "3832",
                                    "ENAME": "SANJAY",
                                    "JOB": "CLERK",
                                    "PHONE_NO": "6372556764",
                                    "AGE": "22",
                                    "SAL": "12000",
                                    "HIREDATE": "2019-06-11",
                                    "MID": "NULL",
                                    "PERCENTAGE_RANK": "0"
                                },
                                {
                                    "EID": "1832",
                                    "ENAME": "SURYA",
                                    "JOB": "CLERK",
                                    "PHONE_NO": "6372456764",
                                    "AGE": "28",
                                    "SAL": "20000",
                                    "HIREDATE": "2019-08-20",
                                    "MID": "NULL",
                                    "PERCENTAGE_RANK": "0.07692307692307693"
                                },
                                {
                                    "EID": "4832",
                                    "ENAME": "SHANKAR",
                                    "JOB": "CLERK",
                                    "PHONE_NO": "6372456064",
                                    "AGE": "28",
                                    "SAL": "20000",
                                    "HIREDATE": "2013-10-15",
                                    "MID": "NULL",
                                    "PERCENTAGE_RANK": "0.07692307692307693"
                                },
                                {
                                    "EID": "5245",
                                    "ENAME": "DEEPAK",
                                    "JOB": "WEB DEVELOPER",
                                    "PHONE_NO": "7367894167",
                                    "AGE": "28",
                                    "SAL": "25000",
                                    "HIREDATE": "2014-11-08",
                                    "MID": "1123",
                                    "PERCENTAGE_RANK": "0.23076923076923078"
                                },
                                {
                                    "EID": "2121",
                                    "ENAME": "SANTHOSH",
                                    "JOB": "WEB DEVELOPER",
                                    "PHONE_NO": "9823543210",
                                    "AGE": "29",
                                    "SAL": "25000",
                                    "HIREDATE": "2022-02-14",
                                    "MID": "1123",
                                    "PERCENTAGE_RANK": "0.23076923076923078"
                                },
                                {
                                    "EID": "1245",
                                    "ENAME": "VIJAY",
                                    "JOB": "WEB DEVELOPER",
                                    "PHONE_NO": "7367894567",
                                    "AGE": "27",
                                    "SAL": "25000",
                                    "HIREDATE": "2018-01-27",
                                    "MID": "1123",
                                    "PERCENTAGE_RANK": "0.23076923076923078"
                                },
                                {
                                    "EID": "3245",
                                    "ENAME": "MUTHU",
                                    "JOB": "WEB DEVELOPER",
                                    "PHONE_NO": "7361894567",
                                    "AGE": "36",
                                    "SAL": "25000",
                                    "HIREDATE": "2016-06-20",
                                    "MID": "1123",
                                    "PERCENTAGE_RANK": "0.23076923076923078"
                                },
                                {
                                    "EID": "3762",
                                    "ENAME": "TAMIL",
                                    "JOB": "DATA SCIENTIET",
                                    "PHONE_NO": "8780321456",
                                    "AGE": "34",
                                    "SAL": "25000",
                                    "HIREDATE": "2015-08-24",
                                    "MID": "1124",
                                    "PERCENTAGE_RANK": "0.23076923076923078"
                                },
                                {
                                    "EID": "2212",
                                    "ENAME": "JEEVA",
                                    "JOB": "DATA ANALYST",
                                    "PHONE_NO": "9781534201",
                                    "AGE": "25",
                                    "SAL": "30000",
                                    "HIREDATE": "2015-08-24",
                                    "MID": "1122",
                                    "PERCENTAGE_RANK": "0.6153846153846154"
                                },
                                {
                                    "EID": "1721",
                                    "ENAME": "ARUN",
                                    "JOB": "WEB DEVELOPER",
                                    "PHONE_NO": "9876543210",
                                    "AGE": "25",
                                    "SAL": "35000",
                                    "HIREDATE": "2021-03-30",
                                    "MID": "1123",
                                    "PERCENTAGE_RANK": "0.6923076923076923"
                                },
                                {
                                    "EID": "4212",
                                    "ENAME": "PREM KUMAR",
                                    "JOB": "DATA ANALYST",
                                    "PHONE_NO": "9086534201",
                                    "AGE": "27",
                                    "SAL": "40000",
                                    "HIREDATE": "2023-04-20",
                                    "MID": "1122",
                                    "PERCENTAGE_RANK": "0.7692307692307693"
                                },
                                {
                                    "EID": "4762",
                                    "ENAME": "CHANDRAN",
                                    "JOB": "DATA SCIENTIET",
                                    "PHONE_NO": "8789321406",
                                    "AGE": "30",
                                    "SAL": "45000",
                                    "HIREDATE": "2017-11-27",
                                    "MID": "1124",
                                    "PERCENTAGE_RANK": "0.8461538461538461"
                                },
                                {
                                    "EID": "1762",
                                    "ENAME": "AJAY",
                                    "JOB": "DATA SCIENTIET",
                                    "PHONE_NO": "8789321456",
                                    "AGE": "30",
                                    "SAL": "45000",
                                    "HIREDATE": "2019-08-20",
                                    "MID": "1124",
                                    "PERCENTAGE_RANK": "0.8461538461538461"
                                },
                                {
                                    "EID": "1212",
                                    "ENAME": "VICKY",
                                    "JOB": "DATA ANALYST",
                                    "PHONE_NO": "9786534201",
                                    "AGE": "27",
                                    "SAL": "45000",
                                    "HIREDATE": "2020-04-01",
                                    "MID": "1122",
                                    "PERCENTAGE_RANK": "0.8461538461538461"
                                }
                            ]
                        },
                        "text/html": "<table><tr><th>EID</th><th>ENAME</th><th>JOB</th><th>PHONE_NO</th><th>AGE</th><th>SAL</th><th>HIREDATE</th><th>MID</th><th>PERCENTAGE_RANK</th></tr><tr><td>3832</td><td>SANJAY</td><td>CLERK</td><td>6372556764</td><td>22</td><td>12000</td><td>2019-06-11</td><td>NULL</td><td>0</td></tr><tr><td>1832</td><td>SURYA</td><td>CLERK</td><td>6372456764</td><td>28</td><td>20000</td><td>2019-08-20</td><td>NULL</td><td>0.07692307692307693</td></tr><tr><td>4832</td><td>SHANKAR</td><td>CLERK</td><td>6372456064</td><td>28</td><td>20000</td><td>2013-10-15</td><td>NULL</td><td>0.07692307692307693</td></tr><tr><td>5245</td><td>DEEPAK</td><td>WEB DEVELOPER</td><td>7367894167</td><td>28</td><td>25000</td><td>2014-11-08</td><td>1123</td><td>0.23076923076923078</td></tr><tr><td>2121</td><td>SANTHOSH</td><td>WEB DEVELOPER</td><td>9823543210</td><td>29</td><td>25000</td><td>2022-02-14</td><td>1123</td><td>0.23076923076923078</td></tr><tr><td>1245</td><td>VIJAY</td><td>WEB DEVELOPER</td><td>7367894567</td><td>27</td><td>25000</td><td>2018-01-27</td><td>1123</td><td>0.23076923076923078</td></tr><tr><td>3245</td><td>MUTHU</td><td>WEB DEVELOPER</td><td>7361894567</td><td>36</td><td>25000</td><td>2016-06-20</td><td>1123</td><td>0.23076923076923078</td></tr><tr><td>3762</td><td>TAMIL</td><td>DATA SCIENTIET</td><td>8780321456</td><td>34</td><td>25000</td><td>2015-08-24</td><td>1124</td><td>0.23076923076923078</td></tr><tr><td>2212</td><td>JEEVA</td><td>DATA ANALYST</td><td>9781534201</td><td>25</td><td>30000</td><td>2015-08-24</td><td>1122</td><td>0.6153846153846154</td></tr><tr><td>1721</td><td>ARUN</td><td>WEB DEVELOPER</td><td>9876543210</td><td>25</td><td>35000</td><td>2021-03-30</td><td>1123</td><td>0.6923076923076923</td></tr><tr><td>4212</td><td>PREM KUMAR</td><td>DATA ANALYST</td><td>9086534201</td><td>27</td><td>40000</td><td>2023-04-20</td><td>1122</td><td>0.7692307692307693</td></tr><tr><td>4762</td><td>CHANDRAN</td><td>DATA SCIENTIET</td><td>8789321406</td><td>30</td><td>45000</td><td>2017-11-27</td><td>1124</td><td>0.8461538461538461</td></tr><tr><td>1762</td><td>AJAY</td><td>DATA SCIENTIET</td><td>8789321456</td><td>30</td><td>45000</td><td>2019-08-20</td><td>1124</td><td>0.8461538461538461</td></tr><tr><td>1212</td><td>VICKY</td><td>DATA ANALYST</td><td>9786534201</td><td>27</td><td>45000</td><td>2020-04-01</td><td>1122</td><td>0.8461538461538461</td></tr></table>"
                    },
                    "metadata": {}
                }
            ],
            "execution_count": 14
        },
        {
            "cell_type": "markdown",
            "source": [
                "TEMPORARY TABLE;\n",
                "\n",
                "Temporary tables  are created in a database to store data temporarily. They can perform operations that are similar to operations of permanent database tables like Create, Update, Delete, Insert and also other operations like Join. But these tables will be automatically deleted once the current client session is terminated. In addition to that, they can also be explicitly deleted if the users decide to drop them manually."
            ],
            "metadata": {
                "language": "sql",
                "azdata_cell_guid": "4dde4b4a-2c72-4313-8fba-93cf84697c4e"
            },
            "attachments": {}
        },
        {
            "cell_type": "markdown",
            "source": [
                "TYPES OF TEMPORARY TABLE;\n",
                "\n",
                "            \\*LOCAL TEMPORARY TABLE\n",
                "\n",
                "            \\*GLOBAL TEMPORARY TABLE\n",
                "\n",
                "LOCAL TEMPORAY TABLE;\n",
                "\n",
                "   <span style=\"background-color: rgb(255, 255, 255); color: rgb(0, 0, 0); font-family: Nunito, sans-serif; font-size: 16px; text-align: justify;\">A Local Temporary Table is accessible only in the session that has created it. It is automatically deleted when the connection that has created it gets closed. To create Local Temporary Table, a single “#” is used as the prefix of a table name</span>\n",
                "\n",
                "<span style=\"font-size: 16px; background-color: rgb(255, 255, 255);\">GLOBAL TEMPORARY TABLE;</span>\n",
                "\n",
                "     <span style=\"background-color: rgb(255, 255, 255); color: rgb(0, 0, 0); font-family: Nunito, sans-serif; font-size: 16px;\">Global Temporary Tables are visible to all connections and Dropped when the last connection referencing the table is closed. Global Table Name must have an Unique Table Name.</span>\n",
                "\n",
                "      <span style=\"background-color: rgb(255, 255, 255); color: rgb(0, 0, 0); font-family: Nunito, sans-serif; font-size: 16px;\">To create a Global Temporary Table, add the “##” symbol before the table name.</span>"
            ],
            "metadata": {
                "language": "sql",
                "azdata_cell_guid": "b3ef1be6-3da9-45d1-a2b6-a657ede8bb02"
            },
            "attachments": {}
        },
        {
            "cell_type": "markdown",
            "source": [
                "STORED PROCEDURE WITH PARAMETER;"
            ],
            "metadata": {
                "azdata_cell_guid": "9333b07d-2e87-4c91-9426-49ef72299216"
            },
            "attachments": {}
        },
        {
            "cell_type": "code",
            "source": [
                "CREATE PROCEDURE EMP_DETAILS @JOB VARCHAR(15)\r\n",
                "AS \r\n",
                "SELECT *\r\n",
                "FROM EMPLOYE_DETAILS\r\n",
                "WHERE JOB=@JOB\r\n",
                ";"
            ],
            "metadata": {
                "azdata_cell_guid": "0c6dcd8d-08fd-4b46-843b-02d32cec0f77",
                "language": "sql"
            },
            "outputs": [
                {
                    "output_type": "display_data",
                    "data": {
                        "text/html": "Commands completed successfully."
                    },
                    "metadata": {}
                },
                {
                    "output_type": "display_data",
                    "data": {
                        "text/html": "Total execution time: 00:00:00.089"
                    },
                    "metadata": {}
                }
            ],
            "execution_count": 2
        },
        {
            "cell_type": "code",
            "source": [
                "EXEC EMP_DETAILS @JOB='CLERK';"
            ],
            "metadata": {
                "language": "sql",
                "azdata_cell_guid": "cc59b5fd-ff55-4973-803e-686e1f869b81"
            },
            "outputs": [
                {
                    "output_type": "display_data",
                    "data": {
                        "text/html": "(3 rows affected)"
                    },
                    "metadata": {}
                },
                {
                    "output_type": "display_data",
                    "data": {
                        "text/html": "Total execution time: 00:00:00.074"
                    },
                    "metadata": {}
                },
                {
                    "output_type": "execute_result",
                    "execution_count": 4,
                    "data": {
                        "application/vnd.dataresource+json": {
                            "schema": {
                                "fields": [
                                    {
                                        "name": "EID"
                                    },
                                    {
                                        "name": "ENAME"
                                    },
                                    {
                                        "name": "JOB"
                                    },
                                    {
                                        "name": "PHONE_NO"
                                    },
                                    {
                                        "name": "AGE"
                                    },
                                    {
                                        "name": "SAL"
                                    },
                                    {
                                        "name": "HIREDATE"
                                    },
                                    {
                                        "name": "MID"
                                    }
                                ]
                            },
                            "data": [
                                {
                                    "EID": "1832",
                                    "ENAME": "SURYA",
                                    "JOB": "CLERK",
                                    "PHONE_NO": "6372456764",
                                    "AGE": "28",
                                    "SAL": "20000",
                                    "HIREDATE": "2019-08-20",
                                    "MID": "NULL"
                                },
                                {
                                    "EID": "3832",
                                    "ENAME": "SANJAY",
                                    "JOB": "CLERK",
                                    "PHONE_NO": "6372556764",
                                    "AGE": "22",
                                    "SAL": "12000",
                                    "HIREDATE": "2019-06-11",
                                    "MID": "NULL"
                                },
                                {
                                    "EID": "4832",
                                    "ENAME": "SHANKAR",
                                    "JOB": "CLERK",
                                    "PHONE_NO": "6372456064",
                                    "AGE": "28",
                                    "SAL": "20000",
                                    "HIREDATE": "2013-10-15",
                                    "MID": "NULL"
                                }
                            ]
                        },
                        "text/html": "<table><tr><th>EID</th><th>ENAME</th><th>JOB</th><th>PHONE_NO</th><th>AGE</th><th>SAL</th><th>HIREDATE</th><th>MID</th></tr><tr><td>1832</td><td>SURYA</td><td>CLERK</td><td>6372456764</td><td>28</td><td>20000</td><td>2019-08-20</td><td>NULL</td></tr><tr><td>3832</td><td>SANJAY</td><td>CLERK</td><td>6372556764</td><td>22</td><td>12000</td><td>2019-06-11</td><td>NULL</td></tr><tr><td>4832</td><td>SHANKAR</td><td>CLERK</td><td>6372456064</td><td>28</td><td>20000</td><td>2013-10-15</td><td>NULL</td></tr></table>"
                    },
                    "metadata": {}
                }
            ],
            "execution_count": 4
        },
        {
            "cell_type": "code",
            "source": [
                "CREATE OR ALTER  PROCEDURE EMPLOY @ENAME VARCHAR(15),@SAL NUMERIC(5)\r\n",
                "AS\r\n",
                "UPDATE EMPLOYE_DETAILS\r\n",
                "SET SAL=@SAL\r\n",
                "WHERE ENAME=@ENAME;"
            ],
            "metadata": {
                "language": "sql",
                "azdata_cell_guid": "5e612c3d-22dc-4846-ba01-7b142834e637"
            },
            "outputs": [
                {
                    "output_type": "display_data",
                    "data": {
                        "text/html": "Commands completed successfully."
                    },
                    "metadata": {}
                },
                {
                    "output_type": "display_data",
                    "data": {
                        "text/html": "Total execution time: 00:00:00.012"
                    },
                    "metadata": {}
                }
            ],
            "execution_count": 14
        },
        {
            "cell_type": "code",
            "source": [
                "EXEC EMPLOY @ENAME='SURYA', @SAL=25000;"
            ],
            "metadata": {
                "language": "sql",
                "azdata_cell_guid": "07bd667c-d9b7-4268-8033-e3bcf5ad339e"
            },
            "outputs": [
                {
                    "output_type": "display_data",
                    "data": {
                        "text/html": "(1 row affected)"
                    },
                    "metadata": {}
                },
                {
                    "output_type": "display_data",
                    "data": {
                        "text/html": "Total execution time: 00:00:00.011"
                    },
                    "metadata": {}
                }
            ],
            "execution_count": 15
        },
        {
            "cell_type": "code",
            "source": [
                "SELECT *\r\n",
                "FROM EMPLOYE_DETAILS;"
            ],
            "metadata": {
                "language": "sql",
                "azdata_cell_guid": "27fc495a-64de-4284-8ed9-dc7e755f7017"
            },
            "outputs": [
                {
                    "output_type": "display_data",
                    "data": {
                        "text/html": "(14 rows affected)"
                    },
                    "metadata": {}
                },
                {
                    "output_type": "display_data",
                    "data": {
                        "text/html": "Total execution time: 00:00:00.024"
                    },
                    "metadata": {}
                },
                {
                    "output_type": "execute_result",
                    "execution_count": 16,
                    "data": {
                        "application/vnd.dataresource+json": {
                            "schema": {
                                "fields": [
                                    {
                                        "name": "EID"
                                    },
                                    {
                                        "name": "ENAME"
                                    },
                                    {
                                        "name": "JOB"
                                    },
                                    {
                                        "name": "PHONE_NO"
                                    },
                                    {
                                        "name": "AGE"
                                    },
                                    {
                                        "name": "SAL"
                                    },
                                    {
                                        "name": "HIREDATE"
                                    },
                                    {
                                        "name": "MID"
                                    }
                                ]
                            },
                            "data": [
                                {
                                    "EID": "1212",
                                    "ENAME": "VICKY",
                                    "JOB": "DATA ANALYST",
                                    "PHONE_NO": "9786534201",
                                    "AGE": "27",
                                    "SAL": "45000",
                                    "HIREDATE": "2020-04-01",
                                    "MID": "1122"
                                },
                                {
                                    "EID": "1245",
                                    "ENAME": "VIJAY",
                                    "JOB": "WEB DEVELOPER",
                                    "PHONE_NO": "7367894567",
                                    "AGE": "27",
                                    "SAL": "25000",
                                    "HIREDATE": "2018-01-27",
                                    "MID": "1123"
                                },
                                {
                                    "EID": "1721",
                                    "ENAME": "ARUN",
                                    "JOB": "WEB DEVELOPER",
                                    "PHONE_NO": "9876543210",
                                    "AGE": "25",
                                    "SAL": "35000",
                                    "HIREDATE": "2021-03-30",
                                    "MID": "1123"
                                },
                                {
                                    "EID": "1762",
                                    "ENAME": "AJAY",
                                    "JOB": "DATA SCIENTIET",
                                    "PHONE_NO": "8789321456",
                                    "AGE": "30",
                                    "SAL": "45000",
                                    "HIREDATE": "2019-08-20",
                                    "MID": "1124"
                                },
                                {
                                    "EID": "1832",
                                    "ENAME": "SURYA",
                                    "JOB": "CLERK",
                                    "PHONE_NO": "6372456764",
                                    "AGE": "28",
                                    "SAL": "25000",
                                    "HIREDATE": "2019-08-20",
                                    "MID": "NULL"
                                },
                                {
                                    "EID": "2121",
                                    "ENAME": "SANTHOSH",
                                    "JOB": "WEB DEVELOPER",
                                    "PHONE_NO": "9823543210",
                                    "AGE": "29",
                                    "SAL": "25000",
                                    "HIREDATE": "2022-02-14",
                                    "MID": "1123"
                                },
                                {
                                    "EID": "2212",
                                    "ENAME": "JEEVA",
                                    "JOB": "DATA ANALYST",
                                    "PHONE_NO": "9781534201",
                                    "AGE": "25",
                                    "SAL": "30000",
                                    "HIREDATE": "2015-08-24",
                                    "MID": "1122"
                                },
                                {
                                    "EID": "3245",
                                    "ENAME": "MUTHU",
                                    "JOB": "WEB DEVELOPER",
                                    "PHONE_NO": "7361894567",
                                    "AGE": "36",
                                    "SAL": "25000",
                                    "HIREDATE": "2016-06-20",
                                    "MID": "1123"
                                },
                                {
                                    "EID": "3762",
                                    "ENAME": "TAMIL",
                                    "JOB": "DATA SCIENTIET",
                                    "PHONE_NO": "8780321456",
                                    "AGE": "34",
                                    "SAL": "25000",
                                    "HIREDATE": "2015-08-24",
                                    "MID": "1124"
                                },
                                {
                                    "EID": "3832",
                                    "ENAME": "SANJAY",
                                    "JOB": "CLERK",
                                    "PHONE_NO": "6372556764",
                                    "AGE": "22",
                                    "SAL": "12000",
                                    "HIREDATE": "2019-06-11",
                                    "MID": "NULL"
                                },
                                {
                                    "EID": "4212",
                                    "ENAME": "PREM KUMAR",
                                    "JOB": "DATA ANALYST",
                                    "PHONE_NO": "9086534201",
                                    "AGE": "27",
                                    "SAL": "40000",
                                    "HIREDATE": "2023-04-20",
                                    "MID": "1122"
                                },
                                {
                                    "EID": "4762",
                                    "ENAME": "CHANDRAN",
                                    "JOB": "DATA SCIENTIET",
                                    "PHONE_NO": "8789321406",
                                    "AGE": "30",
                                    "SAL": "45000",
                                    "HIREDATE": "2017-11-27",
                                    "MID": "1124"
                                },
                                {
                                    "EID": "4832",
                                    "ENAME": "SHANKAR",
                                    "JOB": "CLERK",
                                    "PHONE_NO": "6372456064",
                                    "AGE": "28",
                                    "SAL": "20000",
                                    "HIREDATE": "2013-10-15",
                                    "MID": "NULL"
                                },
                                {
                                    "EID": "5245",
                                    "ENAME": "DEEPAK",
                                    "JOB": "WEB DEVELOPER",
                                    "PHONE_NO": "7367894167",
                                    "AGE": "28",
                                    "SAL": "25000",
                                    "HIREDATE": "2014-11-08",
                                    "MID": "1123"
                                }
                            ]
                        },
                        "text/html": "<table><tr><th>EID</th><th>ENAME</th><th>JOB</th><th>PHONE_NO</th><th>AGE</th><th>SAL</th><th>HIREDATE</th><th>MID</th></tr><tr><td>1212</td><td>VICKY</td><td>DATA ANALYST</td><td>9786534201</td><td>27</td><td>45000</td><td>2020-04-01</td><td>1122</td></tr><tr><td>1245</td><td>VIJAY</td><td>WEB DEVELOPER</td><td>7367894567</td><td>27</td><td>25000</td><td>2018-01-27</td><td>1123</td></tr><tr><td>1721</td><td>ARUN</td><td>WEB DEVELOPER</td><td>9876543210</td><td>25</td><td>35000</td><td>2021-03-30</td><td>1123</td></tr><tr><td>1762</td><td>AJAY</td><td>DATA SCIENTIET</td><td>8789321456</td><td>30</td><td>45000</td><td>2019-08-20</td><td>1124</td></tr><tr><td>1832</td><td>SURYA</td><td>CLERK</td><td>6372456764</td><td>28</td><td>25000</td><td>2019-08-20</td><td>NULL</td></tr><tr><td>2121</td><td>SANTHOSH</td><td>WEB DEVELOPER</td><td>9823543210</td><td>29</td><td>25000</td><td>2022-02-14</td><td>1123</td></tr><tr><td>2212</td><td>JEEVA</td><td>DATA ANALYST</td><td>9781534201</td><td>25</td><td>30000</td><td>2015-08-24</td><td>1122</td></tr><tr><td>3245</td><td>MUTHU</td><td>WEB DEVELOPER</td><td>7361894567</td><td>36</td><td>25000</td><td>2016-06-20</td><td>1123</td></tr><tr><td>3762</td><td>TAMIL</td><td>DATA SCIENTIET</td><td>8780321456</td><td>34</td><td>25000</td><td>2015-08-24</td><td>1124</td></tr><tr><td>3832</td><td>SANJAY</td><td>CLERK</td><td>6372556764</td><td>22</td><td>12000</td><td>2019-06-11</td><td>NULL</td></tr><tr><td>4212</td><td>PREM KUMAR</td><td>DATA ANALYST</td><td>9086534201</td><td>27</td><td>40000</td><td>2023-04-20</td><td>1122</td></tr><tr><td>4762</td><td>CHANDRAN</td><td>DATA SCIENTIET</td><td>8789321406</td><td>30</td><td>45000</td><td>2017-11-27</td><td>1124</td></tr><tr><td>4832</td><td>SHANKAR</td><td>CLERK</td><td>6372456064</td><td>28</td><td>20000</td><td>2013-10-15</td><td>NULL</td></tr><tr><td>5245</td><td>DEEPAK</td><td>WEB DEVELOPER</td><td>7367894167</td><td>28</td><td>25000</td><td>2014-11-08</td><td>1123</td></tr></table>"
                    },
                    "metadata": {}
                }
            ],
            "execution_count": 16
        },
        {
            "cell_type": "markdown",
            "source": [
                "INDEX;\n",
                "The `CREATE INDEX` statement is used to create indexes in tables.\n",
                "Indexes are used to retrieve data from the database more quickly than otherwise. The users cannot see the indexes, they are just used to speed up searches/queries.\n",
                "<span style=\"box-sizing: inherit; font-weight: bolder; background-color: rgb(255, 255, 204);\">Note:</span> <span style=\"background-color: rgb(255, 255, 204);\">&nbsp;Updating a table with indexes takes more time than updating a table without (because the indexes also need an update). So, only create indexes on columns that will be frequently searched against</span>  \n",
                "<span style=\"background-color: rgb(255, 255, 204);\">SYNTAX;</span>\n",
                "<span class=\"sqlkeywordcolor\" style=\"box-sizing: inherit; color: mediumblue; font-family: Consolas, Menlo, &quot;courier new&quot;, monospace;\">CREATE</span> <span class=\"sqlkeywordcolor\" style=\"box-sizing: inherit; color: mediumblue; font-family: Consolas, Menlo, &quot;courier new&quot;, monospace;\">INDEX</span> _index\\_name_  \n",
                "<span class=\"sqlkeywordcolor\" style=\"box-sizing: inherit; color: mediumblue; font-family: Consolas, Menlo, &quot;courier new&quot;, monospace;\">ON</span> _table\\_name_ (_column1_, _column2_, ...);<span style=\"background-color: rgb(255, 255, 204);\"><br></span>"
            ],
            "metadata": {
                "azdata_cell_guid": "d0580f4a-0147-4c12-98a2-9b29e2753ba4"
            },
            "attachments": {}
        },
        {
            "cell_type": "code",
            "source": [
                "CREATE INDEX INDEX_1\r\n",
                "ON  EMPLOYE_DETAILS(EID,ENAME);"
            ],
            "metadata": {
                "azdata_cell_guid": "946225bd-4e26-49d4-88ce-77f2206cb82f",
                "language": "sql"
            },
            "outputs": [
                {
                    "output_type": "display_data",
                    "data": {
                        "text/html": "Commands completed successfully."
                    },
                    "metadata": {}
                },
                {
                    "output_type": "display_data",
                    "data": {
                        "text/html": "Total execution time: 00:00:00.029"
                    },
                    "metadata": {}
                }
            ],
            "execution_count": 2
        },
        {
            "cell_type": "markdown",
            "source": [
                "SEQUENCE;\n",
                "SQL sequences specifies the properties of a sequence object while creating it. An object bound to a user-defined schema called a sequence produces a series of numerical values in accordance with the specification used to create it. The series of numerical values can be configured to restart (cycle) when it runs out and is generated in either ascending or descending order at a predetermined interval. Contrary to identity columns, sequences are not linked to particular tables. Applications use a sequence object to access the next value in the sequence. The application has control over how sequences and tables interact. A sequence object can be referred to by user applications, and the values can be coordinated across various rows and tables.\n",
                "Let’s suppose that sequence is a set of integers 1, 2, 3, … that are generated and supported by some database systems to produce unique values on demands.\n",
                "- A sequence is a user-defined schema-bound object that generates a series of numeric values.\n",
                "- Sequences are frequently used in many databases because many applications require each row in a table to contain a unique value and sequences provide an easy way to generate them.\n",
                "- The sequence of numeric values is generated in an ascending or descending order at defined intervals and can be configured to restart when it exceeds max\\_value.\n",
                "## **Different Features of Sequences**\n",
                "\\*\\*\n",
                "1. A sequence is a database object that generates and produces integer values in sequential order.\n",
                "2. It automatically generates the primary key and unique key values.\n",
                "3. It may be in ascending or descending order.\n",
                "4. It can be used for multiple tables.\n",
                "5. Sequence numbers are stored and generated independently of tables.\n",
                "6. It saves time by reducing application code.\n",
                "7. It is used to generate unique integers.\n",
                "8. It is used to create an auto number field.\n",
                "9. Useful when you need to create a unique number to act as a primary key.\n",
                "10. Oracle provides an object called a Sequence that can generate numeric values. The value generated can have maximum of 38 digits\n",
                "11. Provide intervals between numbers.\n",
                "12. **Syntax:**\n",
                "    \n",
                "    > CREATE SEQUENCE sequence\\_name       START WITH initial\\_value\n",
                "    > \n",
                "    > INCREMENT BY increment\\_value\n",
                "    > \n",
                "    > MINVALUE minimum value\n",
                "    > \n",
                "    > MAXVALUE maximum value\n",
                "    > \n",
                "    > CYCLE|NOCYCLE ;\n",
                "    \n",
                "\\*\\*"
            ],
            "metadata": {
                "language": "sql",
                "azdata_cell_guid": "a149e3e5-ad41-45c6-9f2d-565dbb731e8a"
            },
            "attachments": {}
        },
        {
            "cell_type": "code",
            "source": [
                "CREATE SEQUENCE SQ_1\r\n",
                "START WITH 1\r\n",
                "INCREMENT BY 1\r\n",
                "MINVALUE 1\r\n",
                "MAXVALUE 10\r\n",
                "CYCLE;"
            ],
            "metadata": {
                "language": "sql",
                "azdata_cell_guid": "02b5d304-db02-46b9-99e2-6a1d129d2ba5"
            },
            "outputs": [
                {
                    "output_type": "display_data",
                    "data": {
                        "text/html": "Commands completed successfully."
                    },
                    "metadata": {}
                },
                {
                    "output_type": "display_data",
                    "data": {
                        "text/html": "Total execution time: 00:00:00.009"
                    },
                    "metadata": {}
                }
            ],
            "execution_count": 7
        },
        {
            "cell_type": "code",
            "source": [
                "CREATE TABLE STUDENT_DETAILS \r\n",
                "(\r\n",
                " SID  NUMERIC(1) PRIMARY KEY,\r\n",
                " NAME VARCHAR(20)\r\n",
                ");"
            ],
            "metadata": {
                "language": "sql",
                "azdata_cell_guid": "3cd054ca-3adc-4d67-80ad-cc4ff775f879"
            },
            "outputs": [
                {
                    "output_type": "display_data",
                    "data": {
                        "text/html": "Commands completed successfully."
                    },
                    "metadata": {}
                },
                {
                    "output_type": "display_data",
                    "data": {
                        "text/html": "Total execution time: 00:00:00.014"
                    },
                    "metadata": {}
                }
            ],
            "execution_count": 9
        },
        {
            "cell_type": "code",
            "source": [
                "INSERT INTO STUDENT_DETAILS VALUES(SQ_1.NEXTVAL,'AJAY');\r\n",
                "INSERT INTO STUDENT_DETAILS VALUES (SQ_1.NEXTVAL,'VIGNESH');\r\n",
                "INSERT INTO STUDENT_DETAILS VALUES(SQ_1.NEXTVAL,'VASANTH');\r\n",
                "INSERT INTO STUDENT_DETAILS VALUES(SQ_1.NEXTVAL,'TAMIL');\r\n",
                "INSERT INTO STUDENT_DETAILS VALUES (SQ_1.NEXTVAL,'CHANDRU');\r\n",
                "INSERT INTO STUDENT_DETAILS VALUES(SQ_1.NEXTVAL,'ARIVU');\r\n",
                ""
            ],
            "metadata": {
                "language": "sql",
                "azdata_cell_guid": "367ce65b-18d9-4743-8a25-864ee84cd559"
            },
            "outputs": [
                {
                    "output_type": "error",
                    "ename": "",
                    "evalue": "Msg 4104, Level 16, State 1, Line 1\r\nThe multi-part identifier \"SQ_1.NEXTVAL\" could not be bound.",
                    "traceback": []
                },
                {
                    "output_type": "display_data",
                    "data": {
                        "text/html": "Total execution time: 00:00:00.008"
                    },
                    "metadata": {}
                }
            ],
            "execution_count": 14
        },
        {
            "cell_type": "markdown",
            "source": [
                "CO  RELATED SUB QUERY;\n",
                "\n",
                "TO FIND NTH SALARY;"
            ],
            "metadata": {
                "language": "sql",
                "azdata_cell_guid": "7b6b84f8-d7f5-475b-b782-dcbb20e0ebd0"
            },
            "attachments": {}
        },
        {
            "cell_type": "markdown",
            "source": [
                "SELECT \\*\n",
                "\n",
                "FROM \\[TN\\] \\[ALIAS NAME 1\\]\n",
                "\n",
                "WHERE (N-1)=(SELECT  COUNT(SAL)\n",
                "\n",
                "FROM \\[TN\\] \\[ALIAS NAME 2\\]\n",
                "\n",
                "WHERE CONDITION;"
            ],
            "metadata": {
                "language": "sql",
                "azdata_cell_guid": "315a606a-824d-4b64-a73b-d6c95e84b842"
            },
            "attachments": {}
        },
        {
            "cell_type": "markdown",
            "source": [
                "TO FIND FIRST MAXIMUM SALARY;"
            ],
            "metadata": {
                "language": "sql",
                "azdata_cell_guid": "27c70025-a9c9-49f3-a396-1f72c4c526c9"
            },
            "attachments": {}
        },
        {
            "cell_type": "code",
            "source": [
                "SELECT *\r\n",
                "FROM EMPLOYE_DETAILS E1\r\n",
                "WHERE 0=(SELECT COUNT(SAL)\r\n",
                "FROM EMPLOYE_DETAILS E2\r\n",
                "WHERE E1.SAL<E2.SAL);"
            ],
            "metadata": {
                "azdata_cell_guid": "bb0f7031-1d8d-4839-a3ba-ecc7890518d0",
                "language": "sql"
            },
            "outputs": [
                {
                    "output_type": "display_data",
                    "data": {
                        "text/html": "(3 rows affected)"
                    },
                    "metadata": {}
                },
                {
                    "output_type": "display_data",
                    "data": {
                        "text/html": "Total execution time: 00:00:00.016"
                    },
                    "metadata": {}
                },
                {
                    "output_type": "execute_result",
                    "execution_count": 6,
                    "data": {
                        "application/vnd.dataresource+json": {
                            "schema": {
                                "fields": [
                                    {
                                        "name": "EID"
                                    },
                                    {
                                        "name": "ENAME"
                                    },
                                    {
                                        "name": "JOB"
                                    },
                                    {
                                        "name": "PHONE_NO"
                                    },
                                    {
                                        "name": "AGE"
                                    },
                                    {
                                        "name": "SAL"
                                    },
                                    {
                                        "name": "HIREDATE"
                                    },
                                    {
                                        "name": "MID"
                                    }
                                ]
                            },
                            "data": [
                                {
                                    "EID": "1212",
                                    "ENAME": "VICKY",
                                    "JOB": "DATA ANALYST",
                                    "PHONE_NO": "9786534201",
                                    "AGE": "27",
                                    "SAL": "45000",
                                    "HIREDATE": "2020-04-01",
                                    "MID": "1122"
                                },
                                {
                                    "EID": "1762",
                                    "ENAME": "AJAY",
                                    "JOB": "DATA SCIENTIET",
                                    "PHONE_NO": "8789321456",
                                    "AGE": "30",
                                    "SAL": "45000",
                                    "HIREDATE": "2019-08-20",
                                    "MID": "1124"
                                },
                                {
                                    "EID": "4762",
                                    "ENAME": "CHANDRAN",
                                    "JOB": "DATA SCIENTIET",
                                    "PHONE_NO": "8789321406",
                                    "AGE": "30",
                                    "SAL": "45000",
                                    "HIREDATE": "2017-11-27",
                                    "MID": "1124"
                                }
                            ]
                        },
                        "text/html": "<table><tr><th>EID</th><th>ENAME</th><th>JOB</th><th>PHONE_NO</th><th>AGE</th><th>SAL</th><th>HIREDATE</th><th>MID</th></tr><tr><td>1212</td><td>VICKY</td><td>DATA ANALYST</td><td>9786534201</td><td>27</td><td>45000</td><td>2020-04-01</td><td>1122</td></tr><tr><td>1762</td><td>AJAY</td><td>DATA SCIENTIET</td><td>8789321456</td><td>30</td><td>45000</td><td>2019-08-20</td><td>1124</td></tr><tr><td>4762</td><td>CHANDRAN</td><td>DATA SCIENTIET</td><td>8789321406</td><td>30</td><td>45000</td><td>2017-11-27</td><td>1124</td></tr></table>"
                    },
                    "metadata": {}
                }
            ],
            "execution_count": 6
        },
        {
            "cell_type": "markdown",
            "source": [
                "4TH MAXIMUM SALARY;"
            ],
            "metadata": {
                "language": "sql",
                "azdata_cell_guid": "3e5a28a6-2df7-4aa7-9302-aa88aa072d34"
            },
            "attachments": {}
        },
        {
            "cell_type": "code",
            "source": [
                "SELECT *\r\n",
                "FROM EMPLOYE_DETAILS E1\r\n",
                "WHERE 3=(SELECT COUNT(DISTINCT (SAL))\r\n",
                "FROM EMPLOYE_DETAILS E2\r\n",
                "WHERE E1.SAL<E2.SAL)"
            ],
            "metadata": {
                "language": "sql",
                "azdata_cell_guid": "e48d9f0b-33a9-4c3f-8e41-e858e56ab565"
            },
            "outputs": [
                {
                    "output_type": "display_data",
                    "data": {
                        "text/html": "(1 row affected)"
                    },
                    "metadata": {}
                },
                {
                    "output_type": "display_data",
                    "data": {
                        "text/html": "Total execution time: 00:00:00.026"
                    },
                    "metadata": {}
                },
                {
                    "output_type": "execute_result",
                    "execution_count": 10,
                    "data": {
                        "application/vnd.dataresource+json": {
                            "schema": {
                                "fields": [
                                    {
                                        "name": "EID"
                                    },
                                    {
                                        "name": "ENAME"
                                    },
                                    {
                                        "name": "JOB"
                                    },
                                    {
                                        "name": "PHONE_NO"
                                    },
                                    {
                                        "name": "AGE"
                                    },
                                    {
                                        "name": "SAL"
                                    },
                                    {
                                        "name": "HIREDATE"
                                    },
                                    {
                                        "name": "MID"
                                    }
                                ]
                            },
                            "data": [
                                {
                                    "EID": "2212",
                                    "ENAME": "JEEVA",
                                    "JOB": "DATA ANALYST",
                                    "PHONE_NO": "9781534201",
                                    "AGE": "25",
                                    "SAL": "30000",
                                    "HIREDATE": "2015-08-24",
                                    "MID": "1122"
                                }
                            ]
                        },
                        "text/html": "<table><tr><th>EID</th><th>ENAME</th><th>JOB</th><th>PHONE_NO</th><th>AGE</th><th>SAL</th><th>HIREDATE</th><th>MID</th></tr><tr><td>2212</td><td>JEEVA</td><td>DATA ANALYST</td><td>9781534201</td><td>25</td><td>30000</td><td>2015-08-24</td><td>1122</td></tr></table>"
                    },
                    "metadata": {}
                }
            ],
            "execution_count": 10
        },
        {
            "cell_type": "markdown",
            "source": [
                "2ND MINIMUM  SALARY;"
            ],
            "metadata": {
                "language": "sql",
                "azdata_cell_guid": "38d01418-8db3-4885-90db-3654438b4d75"
            },
            "attachments": {}
        },
        {
            "cell_type": "code",
            "source": [
                "SELECT *\r\n",
                "FROM EMPLOYE_DETAILS E1\r\n",
                "WHERE 1=(SELECT COUNT(DISTINCT (SAL))\r\n",
                "FROM EMPLOYE_DETAILS E2\r\n",
                "WHERE E1.SAL>E2.SAL)"
            ],
            "metadata": {
                "language": "sql",
                "azdata_cell_guid": "326a62ee-a8dd-4002-8533-079b3f4a9806",
                "tags": []
            },
            "outputs": [
                {
                    "output_type": "display_data",
                    "data": {
                        "text/html": "(1 row affected)"
                    },
                    "metadata": {}
                },
                {
                    "output_type": "display_data",
                    "data": {
                        "text/html": "Total execution time: 00:00:00.013"
                    },
                    "metadata": {}
                },
                {
                    "output_type": "execute_result",
                    "execution_count": 15,
                    "data": {
                        "application/vnd.dataresource+json": {
                            "schema": {
                                "fields": [
                                    {
                                        "name": "EID"
                                    },
                                    {
                                        "name": "ENAME"
                                    },
                                    {
                                        "name": "JOB"
                                    },
                                    {
                                        "name": "PHONE_NO"
                                    },
                                    {
                                        "name": "AGE"
                                    },
                                    {
                                        "name": "SAL"
                                    },
                                    {
                                        "name": "HIREDATE"
                                    },
                                    {
                                        "name": "MID"
                                    }
                                ]
                            },
                            "data": [
                                {
                                    "EID": "4832",
                                    "ENAME": "SHANKAR",
                                    "JOB": "CLERK",
                                    "PHONE_NO": "6372456064",
                                    "AGE": "28",
                                    "SAL": "20000",
                                    "HIREDATE": "2013-10-15",
                                    "MID": "NULL"
                                }
                            ]
                        },
                        "text/html": "<table><tr><th>EID</th><th>ENAME</th><th>JOB</th><th>PHONE_NO</th><th>AGE</th><th>SAL</th><th>HIREDATE</th><th>MID</th></tr><tr><td>4832</td><td>SHANKAR</td><td>CLERK</td><td>6372456064</td><td>28</td><td>20000</td><td>2013-10-15</td><td>NULL</td></tr></table>"
                    },
                    "metadata": {}
                }
            ],
            "execution_count": 15
        },
        {
            "cell_type": "markdown",
            "source": [
                "08/08/2023\n",
                "\n",
                "SQUARE ROOT;"
            ],
            "metadata": {
                "language": "sql",
                "azdata_cell_guid": "06debcdf-9569-4e3e-9068-37b1b098f092"
            },
            "attachments": {}
        },
        {
            "cell_type": "code",
            "source": [
                "SELECT SQRT(SAL)\r\n",
                "FROM EMPLOYE_DETAILS;"
            ],
            "metadata": {
                "language": "sql",
                "azdata_cell_guid": "2ed94af1-d5e5-4d59-abfe-92daf82b0f01"
            },
            "outputs": [
                {
                    "output_type": "display_data",
                    "data": {
                        "text/html": "(14 rows affected)"
                    },
                    "metadata": {}
                },
                {
                    "output_type": "display_data",
                    "data": {
                        "text/html": "Total execution time: 00:00:00.015"
                    },
                    "metadata": {}
                },
                {
                    "output_type": "execute_result",
                    "execution_count": 4,
                    "data": {
                        "application/vnd.dataresource+json": {
                            "schema": {
                                "fields": [
                                    {
                                        "name": "(No column name)"
                                    }
                                ]
                            },
                            "data": [
                                {
                                    "(No column name)": "212.13203435596427"
                                },
                                {
                                    "(No column name)": "158.11388300841898"
                                },
                                {
                                    "(No column name)": "187.08286933869707"
                                },
                                {
                                    "(No column name)": "212.13203435596427"
                                },
                                {
                                    "(No column name)": "158.11388300841898"
                                },
                                {
                                    "(No column name)": "158.11388300841898"
                                },
                                {
                                    "(No column name)": "173.20508075688772"
                                },
                                {
                                    "(No column name)": "158.11388300841898"
                                },
                                {
                                    "(No column name)": "158.11388300841898"
                                },
                                {
                                    "(No column name)": "109.54451150103323"
                                },
                                {
                                    "(No column name)": "200"
                                },
                                {
                                    "(No column name)": "212.13203435596427"
                                },
                                {
                                    "(No column name)": "141.4213562373095"
                                },
                                {
                                    "(No column name)": "158.11388300841898"
                                }
                            ]
                        },
                        "text/html": "<table><tr><th>(No column name)</th></tr><tr><td>212.13203435596427</td></tr><tr><td>158.11388300841898</td></tr><tr><td>187.08286933869707</td></tr><tr><td>212.13203435596427</td></tr><tr><td>158.11388300841898</td></tr><tr><td>158.11388300841898</td></tr><tr><td>173.20508075688772</td></tr><tr><td>158.11388300841898</td></tr><tr><td>158.11388300841898</td></tr><tr><td>109.54451150103323</td></tr><tr><td>200</td></tr><tr><td>212.13203435596427</td></tr><tr><td>141.4213562373095</td></tr><tr><td>158.11388300841898</td></tr></table>"
                    },
                    "metadata": {}
                }
            ],
            "execution_count": 4
        },
        {
            "cell_type": "markdown",
            "source": [
                "SQUARE"
            ],
            "metadata": {
                "language": "sql",
                "azdata_cell_guid": "69d4f581-1daa-4e21-8cd6-c7860615a452"
            },
            "attachments": {}
        },
        {
            "cell_type": "code",
            "source": [
                "SELECT SQUARE(SAL)\r\n",
                "FROM EMPLOYE_DETAILS;"
            ],
            "metadata": {
                "language": "sql",
                "azdata_cell_guid": "8b83caee-1963-458a-8ab6-e65632e8ba48"
            },
            "outputs": [
                {
                    "output_type": "display_data",
                    "data": {
                        "text/html": "(14 rows affected)"
                    },
                    "metadata": {}
                },
                {
                    "output_type": "display_data",
                    "data": {
                        "text/html": "Total execution time: 00:00:00.016"
                    },
                    "metadata": {}
                },
                {
                    "output_type": "execute_result",
                    "execution_count": 5,
                    "data": {
                        "application/vnd.dataresource+json": {
                            "schema": {
                                "fields": [
                                    {
                                        "name": "(No column name)"
                                    }
                                ]
                            },
                            "data": [
                                {
                                    "(No column name)": "2025000000"
                                },
                                {
                                    "(No column name)": "625000000"
                                },
                                {
                                    "(No column name)": "1225000000"
                                },
                                {
                                    "(No column name)": "2025000000"
                                },
                                {
                                    "(No column name)": "625000000"
                                },
                                {
                                    "(No column name)": "625000000"
                                },
                                {
                                    "(No column name)": "900000000"
                                },
                                {
                                    "(No column name)": "625000000"
                                },
                                {
                                    "(No column name)": "625000000"
                                },
                                {
                                    "(No column name)": "144000000"
                                },
                                {
                                    "(No column name)": "1600000000"
                                },
                                {
                                    "(No column name)": "2025000000"
                                },
                                {
                                    "(No column name)": "400000000"
                                },
                                {
                                    "(No column name)": "625000000"
                                }
                            ]
                        },
                        "text/html": "<table><tr><th>(No column name)</th></tr><tr><td>2025000000</td></tr><tr><td>625000000</td></tr><tr><td>1225000000</td></tr><tr><td>2025000000</td></tr><tr><td>625000000</td></tr><tr><td>625000000</td></tr><tr><td>900000000</td></tr><tr><td>625000000</td></tr><tr><td>625000000</td></tr><tr><td>144000000</td></tr><tr><td>1600000000</td></tr><tr><td>2025000000</td></tr><tr><td>400000000</td></tr><tr><td>625000000</td></tr></table>"
                    },
                    "metadata": {}
                }
            ],
            "execution_count": 5
        },
        {
            "cell_type": "markdown",
            "source": [
                "PI;"
            ],
            "metadata": {
                "language": "sql",
                "azdata_cell_guid": "5235eb66-3564-4437-b1a2-6707a76d8226"
            },
            "attachments": {}
        },
        {
            "cell_type": "code",
            "source": [
                "SELECT PI()*2\r\n",
                "-- FROM EMPLOYE_DETAILS;"
            ],
            "metadata": {
                "language": "sql",
                "azdata_cell_guid": "1f1e18c5-0987-46f0-8809-489861d3467a"
            },
            "outputs": [
                {
                    "output_type": "display_data",
                    "data": {
                        "text/html": "(1 row affected)"
                    },
                    "metadata": {}
                },
                {
                    "output_type": "display_data",
                    "data": {
                        "text/html": "Total execution time: 00:00:00.006"
                    },
                    "metadata": {}
                },
                {
                    "output_type": "execute_result",
                    "execution_count": 4,
                    "data": {
                        "application/vnd.dataresource+json": {
                            "schema": {
                                "fields": [
                                    {
                                        "name": "(No column name)"
                                    }
                                ]
                            },
                            "data": [
                                {
                                    "(No column name)": "6.283185307179586"
                                }
                            ]
                        },
                        "text/html": "<table><tr><th>(No column name)</th></tr><tr><td>6.283185307179586</td></tr></table>"
                    },
                    "metadata": {}
                }
            ],
            "execution_count": 4
        },
        {
            "cell_type": "markdown",
            "source": [
                "ROUND;"
            ],
            "metadata": {
                "language": "sql",
                "azdata_cell_guid": "00f2e04e-66cf-4d2a-8b49-f583691ece7c"
            },
            "attachments": {}
        },
        {
            "cell_type": "code",
            "source": [
                "SELECT ROUND(123.4567,0);"
            ],
            "metadata": {
                "language": "sql",
                "azdata_cell_guid": "2fe314b4-2cf2-4a49-b20b-9884e001c70f"
            },
            "outputs": [
                {
                    "output_type": "display_data",
                    "data": {
                        "text/html": "(1 row affected)"
                    },
                    "metadata": {}
                },
                {
                    "output_type": "display_data",
                    "data": {
                        "text/html": "Total execution time: 00:00:00.010"
                    },
                    "metadata": {}
                },
                {
                    "output_type": "execute_result",
                    "execution_count": 6,
                    "data": {
                        "application/vnd.dataresource+json": {
                            "schema": {
                                "fields": [
                                    {
                                        "name": "(No column name)"
                                    }
                                ]
                            },
                            "data": [
                                {
                                    "(No column name)": "123.0000"
                                }
                            ]
                        },
                        "text/html": "<table><tr><th>(No column name)</th></tr><tr><td>123.0000</td></tr></table>"
                    },
                    "metadata": {}
                }
            ],
            "execution_count": 6
        },
        {
            "cell_type": "markdown",
            "source": [
                "**CEILING() and FLOOR();**"
            ],
            "metadata": {
                "language": "sql",
                "azdata_cell_guid": "210a2e5a-744a-4b28-8716-e32b787a2305"
            },
            "attachments": {}
        },
        {
            "cell_type": "code",
            "source": [
                "SELECT CEILING(45.56);\r\n",
                "SELECT FLOOR(47.56);"
            ],
            "metadata": {
                "language": "sql",
                "azdata_cell_guid": "4a4c7be5-120f-4d1e-a59b-c598aa1cf240"
            },
            "outputs": [
                {
                    "output_type": "display_data",
                    "data": {
                        "text/html": "(1 row affected)"
                    },
                    "metadata": {}
                },
                {
                    "output_type": "display_data",
                    "data": {
                        "text/html": "(1 row affected)"
                    },
                    "metadata": {}
                },
                {
                    "output_type": "display_data",
                    "data": {
                        "text/html": "Total execution time: 00:00:00.011"
                    },
                    "metadata": {}
                },
                {
                    "output_type": "execute_result",
                    "execution_count": 7,
                    "data": {
                        "application/vnd.dataresource+json": {
                            "schema": {
                                "fields": [
                                    {
                                        "name": "(No column name)"
                                    }
                                ]
                            },
                            "data": [
                                {
                                    "(No column name)": "46"
                                }
                            ]
                        },
                        "text/html": "<table><tr><th>(No column name)</th></tr><tr><td>46</td></tr></table>"
                    },
                    "metadata": {}
                },
                {
                    "output_type": "execute_result",
                    "execution_count": 7,
                    "data": {
                        "application/vnd.dataresource+json": {
                            "schema": {
                                "fields": [
                                    {
                                        "name": "(No column name)"
                                    }
                                ]
                            },
                            "data": [
                                {
                                    "(No column name)": "47"
                                }
                            ]
                        },
                        "text/html": "<table><tr><th>(No column name)</th></tr><tr><td>47</td></tr></table>"
                    },
                    "metadata": {}
                }
            ],
            "execution_count": 7
        },
        {
            "cell_type": "code",
            "source": [
                "SELECT COS(2);"
            ],
            "metadata": {
                "language": "sql",
                "azdata_cell_guid": "fd90fce7-5434-41ae-8edd-a30c7054bebc"
            },
            "outputs": [
                {
                    "output_type": "display_data",
                    "data": {
                        "text/html": "(1 row affected)"
                    },
                    "metadata": {}
                },
                {
                    "output_type": "display_data",
                    "data": {
                        "text/html": "Total execution time: 00:00:00.008"
                    },
                    "metadata": {}
                },
                {
                    "output_type": "execute_result",
                    "execution_count": 8,
                    "data": {
                        "application/vnd.dataresource+json": {
                            "schema": {
                                "fields": [
                                    {
                                        "name": "(No column name)"
                                    }
                                ]
                            },
                            "data": [
                                {
                                    "(No column name)": "-0.4161468365471424"
                                }
                            ]
                        },
                        "text/html": "<table><tr><th>(No column name)</th></tr><tr><td>-0.4161468365471424</td></tr></table>"
                    },
                    "metadata": {}
                }
            ],
            "execution_count": 8
        },
        {
            "cell_type": "markdown",
            "source": [
                "09/08/2023\n",
                "\n",
                "NUMERICAL FUNCTIONS"
            ],
            "metadata": {
                "language": "sql",
                "azdata_cell_guid": "60316dfb-7a32-4ac9-9277-2cf8789b4d80"
            },
            "attachments": {}
        },
        {
            "cell_type": "code",
            "source": [
                "SELECT ABS(-234.4645) AS ABSOLTE_VALUE;"
            ],
            "metadata": {
                "language": "sql",
                "azdata_cell_guid": "897c826a-35b0-4248-a061-b5a674d8de2d"
            },
            "outputs": [
                {
                    "output_type": "display_data",
                    "data": {
                        "text/html": "(1 row affected)"
                    },
                    "metadata": {}
                },
                {
                    "output_type": "display_data",
                    "data": {
                        "text/html": "Total execution time: 00:00:00.003"
                    },
                    "metadata": {}
                },
                {
                    "output_type": "execute_result",
                    "execution_count": 4,
                    "data": {
                        "application/vnd.dataresource+json": {
                            "schema": {
                                "fields": [
                                    {
                                        "name": "ABSOLTE_VALUE"
                                    }
                                ]
                            },
                            "data": [
                                {
                                    "ABSOLTE_VALUE": "234.4645"
                                }
                            ]
                        },
                        "text/html": "<table><tr><th>ABSOLTE_VALUE</th></tr><tr><td>234.4645</td></tr></table>"
                    },
                    "metadata": {}
                }
            ],
            "execution_count": 4
        },
        {
            "cell_type": "code",
            "source": [
                "SELECT ACOS(0.25) AS COSINE_NO;"
            ],
            "metadata": {
                "language": "sql",
                "azdata_cell_guid": "b34568ce-cfb1-47fc-aca9-eb84e06f350c"
            },
            "outputs": [
                {
                    "output_type": "display_data",
                    "data": {
                        "text/html": "(1 row affected)"
                    },
                    "metadata": {}
                },
                {
                    "output_type": "display_data",
                    "data": {
                        "text/html": "Total execution time: 00:00:00.006"
                    },
                    "metadata": {}
                },
                {
                    "output_type": "execute_result",
                    "execution_count": 82,
                    "data": {
                        "application/vnd.dataresource+json": {
                            "schema": {
                                "fields": [
                                    {
                                        "name": "COSINE_NO"
                                    }
                                ]
                            },
                            "data": [
                                {
                                    "COSINE_NO": "1.318116071652818"
                                }
                            ]
                        },
                        "text/html": "<table><tr><th>COSINE_NO</th></tr><tr><td>1.318116071652818</td></tr></table>"
                    },
                    "metadata": {}
                }
            ],
            "execution_count": 82
        },
        {
            "cell_type": "code",
            "source": [
                "SELECT ASIN(0.745) AS SINE_NO;"
            ],
            "metadata": {
                "language": "sql",
                "azdata_cell_guid": "21c15974-d87c-42cb-a981-89bfb0fd024f"
            },
            "outputs": [
                {
                    "output_type": "display_data",
                    "data": {
                        "text/html": "(1 row affected)"
                    },
                    "metadata": {}
                },
                {
                    "output_type": "display_data",
                    "data": {
                        "text/html": "Total execution time: 00:00:00.005"
                    },
                    "metadata": {}
                },
                {
                    "output_type": "execute_result",
                    "execution_count": 83,
                    "data": {
                        "application/vnd.dataresource+json": {
                            "schema": {
                                "fields": [
                                    {
                                        "name": "SINE_NO"
                                    }
                                ]
                            },
                            "data": [
                                {
                                    "SINE_NO": "0.8405348410979318"
                                }
                            ]
                        },
                        "text/html": "<table><tr><th>SINE_NO</th></tr><tr><td>0.8405348410979318</td></tr></table>"
                    },
                    "metadata": {}
                }
            ],
            "execution_count": 83
        },
        {
            "cell_type": "code",
            "source": [
                "SELECT ATAN(56) AS TAN_NO;"
            ],
            "metadata": {
                "language": "sql",
                "azdata_cell_guid": "a3aa0cd6-0f61-4656-a05f-b417415ba799"
            },
            "outputs": [
                {
                    "output_type": "display_data",
                    "data": {
                        "text/html": "(1 row affected)"
                    },
                    "metadata": {}
                },
                {
                    "output_type": "display_data",
                    "data": {
                        "text/html": "Total execution time: 00:00:00.008"
                    },
                    "metadata": {}
                },
                {
                    "output_type": "execute_result",
                    "execution_count": 13,
                    "data": {
                        "application/vnd.dataresource+json": {
                            "schema": {
                                "fields": [
                                    {
                                        "name": "TAN_NO"
                                    }
                                ]
                            },
                            "data": [
                                {
                                    "TAN_NO": "1.5529410816553442"
                                }
                            ]
                        },
                        "text/html": "<table><tr><th>TAN_NO</th></tr><tr><td>1.5529410816553442</td></tr></table>"
                    },
                    "metadata": {}
                }
            ],
            "execution_count": 13
        },
        {
            "cell_type": "code",
            "source": [
                "SELECT ATN2(24,56) AS TANOF_TWO;"
            ],
            "metadata": {
                "language": "sql",
                "azdata_cell_guid": "d39789f3-81ff-4af2-93bb-ba9369a6337f"
            },
            "outputs": [
                {
                    "output_type": "display_data",
                    "data": {
                        "text/html": "(1 row affected)"
                    },
                    "metadata": {}
                },
                {
                    "output_type": "display_data",
                    "data": {
                        "text/html": "Total execution time: 00:00:00.008"
                    },
                    "metadata": {}
                },
                {
                    "output_type": "execute_result",
                    "execution_count": 14,
                    "data": {
                        "application/vnd.dataresource+json": {
                            "schema": {
                                "fields": [
                                    {
                                        "name": "TANOF_TWO"
                                    }
                                ]
                            },
                            "data": [
                                {
                                    "TANOF_TWO": "0.40489178628508343"
                                }
                            ]
                        },
                        "text/html": "<table><tr><th>TANOF_TWO</th></tr><tr><td>0.40489178628508343</td></tr></table>"
                    },
                    "metadata": {}
                }
            ],
            "execution_count": 14
        },
        {
            "cell_type": "code",
            "source": [
                "SELECT AVG(24.56*10) AS AVG;"
            ],
            "metadata": {
                "language": "sql",
                "azdata_cell_guid": "1cf48a37-26ea-46c9-b49d-f782dec3c035"
            },
            "outputs": [
                {
                    "output_type": "display_data",
                    "data": {
                        "text/html": "(1 row affected)"
                    },
                    "metadata": {}
                },
                {
                    "output_type": "display_data",
                    "data": {
                        "text/html": "Total execution time: 00:00:00.011"
                    },
                    "metadata": {}
                },
                {
                    "output_type": "execute_result",
                    "execution_count": 18,
                    "data": {
                        "application/vnd.dataresource+json": {
                            "schema": {
                                "fields": [
                                    {
                                        "name": "AVG"
                                    }
                                ]
                            },
                            "data": [
                                {
                                    "AVG": "245.600000"
                                }
                            ]
                        },
                        "text/html": "<table><tr><th>AVG</th></tr><tr><td>245.600000</td></tr></table>"
                    },
                    "metadata": {}
                }
            ],
            "execution_count": 18
        },
        {
            "cell_type": "code",
            "source": [
                "SELECT COS(60) AS COS_VAL;"
            ],
            "metadata": {
                "language": "sql",
                "azdata_cell_guid": "b27808d1-4a37-4a78-920a-ea8945653d8f"
            },
            "outputs": [
                {
                    "output_type": "display_data",
                    "data": {
                        "text/html": "(1 row affected)"
                    },
                    "metadata": {}
                },
                {
                    "output_type": "display_data",
                    "data": {
                        "text/html": "Total execution time: 00:00:00.009"
                    },
                    "metadata": {}
                },
                {
                    "output_type": "execute_result",
                    "execution_count": 19,
                    "data": {
                        "application/vnd.dataresource+json": {
                            "schema": {
                                "fields": [
                                    {
                                        "name": "COS_VAL"
                                    }
                                ]
                            },
                            "data": [
                                {
                                    "COS_VAL": "-0.9524129804151563"
                                }
                            ]
                        },
                        "text/html": "<table><tr><th>COS_VAL</th></tr><tr><td>-0.9524129804151563</td></tr></table>"
                    },
                    "metadata": {}
                }
            ],
            "execution_count": 19
        },
        {
            "cell_type": "code",
            "source": [
                "SELECT COT(45) AS COT_VAL;"
            ],
            "metadata": {
                "language": "sql",
                "azdata_cell_guid": "740b7a9b-7d10-4554-9bef-fd5d9f15ddfe"
            },
            "outputs": [
                {
                    "output_type": "display_data",
                    "data": {
                        "text/html": "(1 row affected)"
                    },
                    "metadata": {}
                },
                {
                    "output_type": "display_data",
                    "data": {
                        "text/html": "Total execution time: 00:00:00.006"
                    },
                    "metadata": {}
                },
                {
                    "output_type": "execute_result",
                    "execution_count": 20,
                    "data": {
                        "application/vnd.dataresource+json": {
                            "schema": {
                                "fields": [
                                    {
                                        "name": "COT_VAL"
                                    }
                                ]
                            },
                            "data": [
                                {
                                    "COT_VAL": "0.6173696237835551"
                                }
                            ]
                        },
                        "text/html": "<table><tr><th>COT_VAL</th></tr><tr><td>0.6173696237835551</td></tr></table>"
                    },
                    "metadata": {}
                }
            ],
            "execution_count": 20
        },
        {
            "cell_type": "code",
            "source": [
                "SELECT DEGREES(3) AS DEGREE;"
            ],
            "metadata": {
                "language": "sql",
                "azdata_cell_guid": "243b4e6a-0700-463f-a266-a7bbf5bf6414"
            },
            "outputs": [
                {
                    "output_type": "display_data",
                    "data": {
                        "text/html": "(1 row affected)"
                    },
                    "metadata": {}
                },
                {
                    "output_type": "display_data",
                    "data": {
                        "text/html": "Total execution time: 00:00:00.004"
                    },
                    "metadata": {}
                },
                {
                    "output_type": "execute_result",
                    "execution_count": 22,
                    "data": {
                        "application/vnd.dataresource+json": {
                            "schema": {
                                "fields": [
                                    {
                                        "name": "DEGREE"
                                    }
                                ]
                            },
                            "data": [
                                {
                                    "DEGREE": "171"
                                }
                            ]
                        },
                        "text/html": "<table><tr><th>DEGREE</th></tr><tr><td>171</td></tr></table>"
                    },
                    "metadata": {}
                }
            ],
            "execution_count": 22
        },
        {
            "cell_type": "code",
            "source": [
                "SELECT LOG(10) AS LOG_VAL;"
            ],
            "metadata": {
                "language": "sql",
                "azdata_cell_guid": "051186c0-1407-49c7-a0f9-5e94372e1925"
            },
            "outputs": [
                {
                    "output_type": "display_data",
                    "data": {
                        "text/html": "(1 row affected)"
                    },
                    "metadata": {}
                },
                {
                    "output_type": "display_data",
                    "data": {
                        "text/html": "Total execution time: 00:00:00.008"
                    },
                    "metadata": {}
                },
                {
                    "output_type": "execute_result",
                    "execution_count": 23,
                    "data": {
                        "application/vnd.dataresource+json": {
                            "schema": {
                                "fields": [
                                    {
                                        "name": "LOG_VAL"
                                    }
                                ]
                            },
                            "data": [
                                {
                                    "LOG_VAL": "2.302585092994046"
                                }
                            ]
                        },
                        "text/html": "<table><tr><th>LOG_VAL</th></tr><tr><td>2.302585092994046</td></tr></table>"
                    },
                    "metadata": {}
                }
            ],
            "execution_count": 23
        },
        {
            "cell_type": "code",
            "source": [
                "SELECT LOG10(10);"
            ],
            "metadata": {
                "language": "sql",
                "azdata_cell_guid": "4cf888f6-8699-446b-897a-aca08e34b163"
            },
            "outputs": [
                {
                    "output_type": "display_data",
                    "data": {
                        "text/html": "(1 row affected)"
                    },
                    "metadata": {}
                },
                {
                    "output_type": "display_data",
                    "data": {
                        "text/html": "Total execution time: 00:00:00.002"
                    },
                    "metadata": {}
                },
                {
                    "output_type": "execute_result",
                    "execution_count": 24,
                    "data": {
                        "application/vnd.dataresource+json": {
                            "schema": {
                                "fields": [
                                    {
                                        "name": "(No column name)"
                                    }
                                ]
                            },
                            "data": [
                                {
                                    "(No column name)": "1"
                                }
                            ]
                        },
                        "text/html": "<table><tr><th>(No column name)</th></tr><tr><td>1</td></tr></table>"
                    },
                    "metadata": {}
                }
            ],
            "execution_count": 24
        },
        {
            "cell_type": "code",
            "source": [
                "SELECT POWER(2,10) AS POWER;"
            ],
            "metadata": {
                "language": "sql",
                "azdata_cell_guid": "8e7b4dd9-9bfa-479c-b1d4-f921bd194cd3"
            },
            "outputs": [
                {
                    "output_type": "display_data",
                    "data": {
                        "text/html": "(1 row affected)"
                    },
                    "metadata": {}
                },
                {
                    "output_type": "display_data",
                    "data": {
                        "text/html": "Total execution time: 00:00:00.004"
                    },
                    "metadata": {}
                },
                {
                    "output_type": "execute_result",
                    "execution_count": 27,
                    "data": {
                        "application/vnd.dataresource+json": {
                            "schema": {
                                "fields": [
                                    {
                                        "name": "POWER"
                                    }
                                ]
                            },
                            "data": [
                                {
                                    "POWER": "1024"
                                }
                            ]
                        },
                        "text/html": "<table><tr><th>POWER</th></tr><tr><td>1024</td></tr></table>"
                    },
                    "metadata": {}
                }
            ],
            "execution_count": 27
        },
        {
            "cell_type": "code",
            "source": [
                "SELECT RADIANS(90) AS RADIAN_VAL;"
            ],
            "metadata": {
                "language": "sql",
                "azdata_cell_guid": "a2a14679-e86e-4b79-aa1d-3189a2d9cf12"
            },
            "outputs": [
                {
                    "output_type": "display_data",
                    "data": {
                        "text/html": "(1 row affected)"
                    },
                    "metadata": {}
                },
                {
                    "output_type": "display_data",
                    "data": {
                        "text/html": "Total execution time: 00:00:00.003"
                    },
                    "metadata": {}
                },
                {
                    "output_type": "execute_result",
                    "execution_count": 29,
                    "data": {
                        "application/vnd.dataresource+json": {
                            "schema": {
                                "fields": [
                                    {
                                        "name": "RADIAN_VAL"
                                    }
                                ]
                            },
                            "data": [
                                {
                                    "RADIAN_VAL": "1"
                                }
                            ]
                        },
                        "text/html": "<table><tr><th>RADIAN_VAL</th></tr><tr><td>1</td></tr></table>"
                    },
                    "metadata": {}
                }
            ],
            "execution_count": 29
        },
        {
            "cell_type": "code",
            "source": [
                "SELECT TAN(0) AS TAN_VAL;"
            ],
            "metadata": {
                "language": "sql",
                "azdata_cell_guid": "e4dfb872-156a-485b-868f-84c0485f9ccf"
            },
            "outputs": [
                {
                    "output_type": "display_data",
                    "data": {
                        "text/html": "(1 row affected)"
                    },
                    "metadata": {}
                },
                {
                    "output_type": "display_data",
                    "data": {
                        "text/html": "Total execution time: 00:00:00.003"
                    },
                    "metadata": {}
                },
                {
                    "output_type": "execute_result",
                    "execution_count": 30,
                    "data": {
                        "application/vnd.dataresource+json": {
                            "schema": {
                                "fields": [
                                    {
                                        "name": "TAN_VAL"
                                    }
                                ]
                            },
                            "data": [
                                {
                                    "TAN_VAL": "0"
                                }
                            ]
                        },
                        "text/html": "<table><tr><th>TAN_VAL</th></tr><tr><td>0</td></tr></table>"
                    },
                    "metadata": {}
                }
            ],
            "execution_count": 30
        },
        {
            "cell_type": "markdown",
            "source": [
                "DATE FUNCTIONS;"
            ],
            "metadata": {
                "language": "sql",
                "azdata_cell_guid": "e1ecff5b-250d-42ad-a195-f1e954dfd6b1"
            },
            "attachments": {}
        },
        {
            "cell_type": "markdown",
            "source": [
                "CURRENT TIME STAMP;\n",
                "\n",
                "<span style=\"color: rgb(0, 0, 0); font-family: Verdana, sans-serif; font-size: 15px; background-color: rgb(255, 255, 255);\">The CURRENT_TIMESTAMP function returns the current date and time, in a 'YYYY-MM-DD hh:mm:ss.mmm' format.</span>"
            ],
            "metadata": {
                "language": "sql",
                "azdata_cell_guid": "3d966ec9-d15d-47b1-9684-d83c7842a833"
            },
            "attachments": {}
        },
        {
            "cell_type": "code",
            "source": [
                "SELECT CURRENT_TIMESTAMP AS CURRENT_TIME_STAMP;"
            ],
            "metadata": {
                "language": "sql",
                "azdata_cell_guid": "b6fc1251-7f58-4ce2-91f6-030020a33ffe"
            },
            "outputs": [
                {
                    "output_type": "display_data",
                    "data": {
                        "text/html": "(1 row affected)"
                    },
                    "metadata": {}
                },
                {
                    "output_type": "display_data",
                    "data": {
                        "text/html": "Total execution time: 00:00:00.007"
                    },
                    "metadata": {}
                },
                {
                    "output_type": "execute_result",
                    "execution_count": 33,
                    "data": {
                        "application/vnd.dataresource+json": {
                            "schema": {
                                "fields": [
                                    {
                                        "name": "CURRENT_TIME_STAMP"
                                    }
                                ]
                            },
                            "data": [
                                {
                                    "CURRENT_TIME_STAMP": "2023-08-09 16:31:49.380"
                                }
                            ]
                        },
                        "text/html": "<table><tr><th>CURRENT_TIME_STAMP</th></tr><tr><td>2023-08-09 16:31:49.380</td></tr></table>"
                    },
                    "metadata": {}
                }
            ],
            "execution_count": 33
        },
        {
            "cell_type": "markdown",
            "source": [
                "DATEADD;\n",
                "\n",
                "<span style=\"color: rgb(0, 0, 0); font-family: Verdana, sans-serif; font-size: 15px; background-color: rgb(255, 255, 255);\">The DATEADD() function adds a time/date interval to a date and then returns the date.</span>  \n",
                "\n",
                "<span style=\"color: rgb(0, 0, 0); font-family: Verdana, sans-serif; font-size: 15px; background-color: rgb(255, 255, 255);\">SYNTAX;</span><span style=\"color: rgb(0, 0, 0); font-family: Consolas, Menlo, &quot;courier new&quot;, monospace; font-size: 15px; background-color: rgb(255, 255, 255);\">DATEADD(</span>_interval_<span style=\"color: rgb(0, 0, 0); font-family: Consolas, Menlo, &quot;courier new&quot;, monospace; font-size: 15px; background-color: rgb(255, 255, 255);\">,&nbsp;</span> _number_<span style=\"color: rgb(0, 0, 0); font-family: Consolas, Menlo, &quot;courier new&quot;, monospace; font-size: 15px; background-color: rgb(255, 255, 255);\">,&nbsp;</span> _date_<span style=\"color: rgb(0, 0, 0); font-family: Consolas, Menlo, &quot;courier new&quot;, monospace; font-size: 15px; background-color: rgb(255, 255, 255);\">)</span>"
            ],
            "metadata": {
                "language": "sql",
                "azdata_cell_guid": "bdd12262-1e41-4f56-8510-8aa1edb09455"
            },
            "attachments": {}
        },
        {
            "cell_type": "code",
            "source": [
                "SELECT DATEADD(year, 1, '2023/08/25') AS DateAdd;"
            ],
            "metadata": {
                "language": "sql",
                "azdata_cell_guid": "268382b4-9cc5-4b82-8721-3704f29a82cc"
            },
            "outputs": [
                {
                    "output_type": "display_data",
                    "data": {
                        "text/html": "(1 row affected)"
                    },
                    "metadata": {}
                },
                {
                    "output_type": "display_data",
                    "data": {
                        "text/html": "Total execution time: 00:00:00.006"
                    },
                    "metadata": {}
                },
                {
                    "output_type": "execute_result",
                    "execution_count": 61,
                    "data": {
                        "application/vnd.dataresource+json": {
                            "schema": {
                                "fields": [
                                    {
                                        "name": "DateAdd"
                                    }
                                ]
                            },
                            "data": [
                                {
                                    "DateAdd": "2024-08-25 00:00:00.000"
                                }
                            ]
                        },
                        "text/html": "<table><tr><th>DateAdd</th></tr><tr><td>2024-08-25 00:00:00.000</td></tr></table>"
                    },
                    "metadata": {}
                }
            ],
            "execution_count": 61
        },
        {
            "cell_type": "markdown",
            "source": [
                "DATEDIFF;\n",
                "\n",
                "<span style=\"color: rgb(0, 0, 0); font-family: Verdana, sans-serif; font-size: 15px; background-color: rgb(255, 255, 255);\">The DATEDIFF() function returns the difference between two dates.</span>  \n",
                "\n",
                "<span style=\"color: rgb(0, 0, 0); font-family: Verdana, sans-serif; font-size: 15px; background-color: rgb(255, 255, 255);\">SYNTAX;</span><span style=\"color: rgb(0, 0, 0); font-family: Consolas, Menlo, &quot;courier new&quot;, monospace; font-size: 15px; background-color: rgb(255, 255, 255);\">DATEDIFF(</span>_interval_<span style=\"color: rgb(0, 0, 0); font-family: Consolas, Menlo, &quot;courier new&quot;, monospace; font-size: 15px; background-color: rgb(255, 255, 255);\">,&nbsp;</span> _date1_<span style=\"color: rgb(0, 0, 0); font-family: Consolas, Menlo, &quot;courier new&quot;, monospace; font-size: 15px; background-color: rgb(255, 255, 255);\">,&nbsp;</span> _date2_<span style=\"color: rgb(0, 0, 0); font-family: Consolas, Menlo, &quot;courier new&quot;, monospace; font-size: 15px; background-color: rgb(255, 255, 255);\">)</span>"
            ],
            "metadata": {
                "language": "sql",
                "azdata_cell_guid": "c4411f18-08a0-4d7d-989d-1ffdf541518d"
            },
            "attachments": {}
        },
        {
            "cell_type": "code",
            "source": [
                "SELECT DATEDIFF(DAY,'2023-07-01','2023-08-08') AS DATE_DIFF;"
            ],
            "metadata": {
                "language": "sql",
                "azdata_cell_guid": "57e4e213-af12-4adf-aa64-227e44b85c1f"
            },
            "outputs": [
                {
                    "output_type": "display_data",
                    "data": {
                        "text/html": "(1 row affected)"
                    },
                    "metadata": {}
                },
                {
                    "output_type": "display_data",
                    "data": {
                        "text/html": "Total execution time: 00:00:00.003"
                    },
                    "metadata": {}
                },
                {
                    "output_type": "execute_result",
                    "execution_count": 63,
                    "data": {
                        "application/vnd.dataresource+json": {
                            "schema": {
                                "fields": [
                                    {
                                        "name": "DATE_DIFF"
                                    }
                                ]
                            },
                            "data": [
                                {
                                    "DATE_DIFF": "38"
                                }
                            ]
                        },
                        "text/html": "<table><tr><th>DATE_DIFF</th></tr><tr><td>38</td></tr></table>"
                    },
                    "metadata": {}
                }
            ],
            "execution_count": 63
        },
        {
            "cell_type": "markdown",
            "source": [
                "DATEFROMPARTS;\n",
                "\n",
                "The DATEFROMPARTS() function returns a date from the specified parts (year, month, and day values).\n",
                "\n",
                "## Syntax\n",
                "\n",
                "DATEFROMPARTS(_year_, _month_, _day_)"
            ],
            "metadata": {
                "language": "sql",
                "azdata_cell_guid": "939ce70c-68e9-40b7-a05b-748fcd1b0298"
            },
            "attachments": {}
        },
        {
            "cell_type": "code",
            "source": [
                "SELECT DATEFROMPARTS(2023, 10, 31) AS DATE_FORMPARTS;"
            ],
            "metadata": {
                "language": "sql",
                "azdata_cell_guid": "18555a1e-36b8-4960-8a81-ddf1b7a03a3d"
            },
            "outputs": [
                {
                    "output_type": "display_data",
                    "data": {
                        "text/html": "(1 row affected)"
                    },
                    "metadata": {}
                },
                {
                    "output_type": "display_data",
                    "data": {
                        "text/html": "Total execution time: 00:00:00.007"
                    },
                    "metadata": {}
                },
                {
                    "output_type": "execute_result",
                    "execution_count": 64,
                    "data": {
                        "application/vnd.dataresource+json": {
                            "schema": {
                                "fields": [
                                    {
                                        "name": "DATE_FORMPARTS"
                                    }
                                ]
                            },
                            "data": [
                                {
                                    "DATE_FORMPARTS": "2023-10-31"
                                }
                            ]
                        },
                        "text/html": "<table><tr><th>DATE_FORMPARTS</th></tr><tr><td>2023-10-31</td></tr></table>"
                    },
                    "metadata": {}
                }
            ],
            "execution_count": 64
        },
        {
            "cell_type": "markdown",
            "source": [
                "DATENAME;\n",
                "\n",
                "The DATENAME() function returns a specified part of a date.\n",
                "\n",
                "This function returns the result as a string value.\n",
                "\n",
                "## Syntax\n",
                "\n",
                "DATENAME(_interval_, _date_)"
            ],
            "metadata": {
                "language": "sql",
                "azdata_cell_guid": "ae72a3c4-d0e8-4cf5-b582-6bac5ba77109"
            },
            "attachments": {}
        },
        {
            "cell_type": "code",
            "source": [
                "SELECT DATENAME(DAY, '2023/04/25') AS DATE_NAME;"
            ],
            "metadata": {
                "language": "sql",
                "azdata_cell_guid": "999d5fa0-8a8f-42a2-81f7-2ca0c40f58f4"
            },
            "outputs": [
                {
                    "output_type": "display_data",
                    "data": {
                        "text/html": "(1 row affected)"
                    },
                    "metadata": {}
                },
                {
                    "output_type": "display_data",
                    "data": {
                        "text/html": "Total execution time: 00:00:00.009"
                    },
                    "metadata": {}
                },
                {
                    "output_type": "execute_result",
                    "execution_count": 66,
                    "data": {
                        "application/vnd.dataresource+json": {
                            "schema": {
                                "fields": [
                                    {
                                        "name": "DATE_NAME"
                                    }
                                ]
                            },
                            "data": [
                                {
                                    "DATE_NAME": "25"
                                }
                            ]
                        },
                        "text/html": "<table><tr><th>DATE_NAME</th></tr><tr><td>25</td></tr></table>"
                    },
                    "metadata": {}
                }
            ],
            "execution_count": 66
        },
        {
            "cell_type": "markdown",
            "source": [
                "DAY;\n",
                "\n",
                "The DAY() function returns the day of the month (from 1 to 31) for a specified date.\n",
                "\n",
                "## Syntax\n",
                "\n",
                "DAY(_date_)"
            ],
            "metadata": {
                "language": "sql",
                "azdata_cell_guid": "0288a1c9-b5d6-4bd5-b213-fa7580177610"
            },
            "attachments": {}
        },
        {
            "cell_type": "code",
            "source": [
                "SELECT DAY('2023-09-07') AS DAY;"
            ],
            "metadata": {
                "language": "sql",
                "azdata_cell_guid": "0628e474-d0b7-45c2-a56f-959639f45786"
            },
            "outputs": [
                {
                    "output_type": "display_data",
                    "data": {
                        "text/html": "(1 row affected)"
                    },
                    "metadata": {}
                },
                {
                    "output_type": "display_data",
                    "data": {
                        "text/html": "Total execution time: 00:00:00.002"
                    },
                    "metadata": {}
                },
                {
                    "output_type": "execute_result",
                    "execution_count": 68,
                    "data": {
                        "application/vnd.dataresource+json": {
                            "schema": {
                                "fields": [
                                    {
                                        "name": "DAY"
                                    }
                                ]
                            },
                            "data": [
                                {
                                    "DAY": "7"
                                }
                            ]
                        },
                        "text/html": "<table><tr><th>DAY</th></tr><tr><td>7</td></tr></table>"
                    },
                    "metadata": {}
                }
            ],
            "execution_count": 68
        },
        {
            "cell_type": "markdown",
            "source": [
                "ADVANCED FUNCTIONS;"
            ],
            "metadata": {
                "language": "sql",
                "azdata_cell_guid": "937ce62c-6e17-4d9d-935a-d139ca5bf685"
            },
            "attachments": {}
        },
        {
            "cell_type": "code",
            "source": [
                "SELECT CAST(23.44 AS int);"
            ],
            "metadata": {
                "language": "sql",
                "azdata_cell_guid": "31ad3a10-c71d-4d64-a4d9-371feb0ef557"
            },
            "outputs": [
                {
                    "output_type": "display_data",
                    "data": {
                        "text/html": "(1 row affected)"
                    },
                    "metadata": {}
                },
                {
                    "output_type": "display_data",
                    "data": {
                        "text/html": "Total execution time: 00:00:00.003"
                    },
                    "metadata": {}
                },
                {
                    "output_type": "execute_result",
                    "execution_count": 51,
                    "data": {
                        "application/vnd.dataresource+json": {
                            "schema": {
                                "fields": [
                                    {
                                        "name": "(No column name)"
                                    }
                                ]
                            },
                            "data": [
                                {
                                    "(No column name)": "23"
                                }
                            ]
                        },
                        "text/html": "<table><tr><th>(No column name)</th></tr><tr><td>23</td></tr></table>"
                    },
                    "metadata": {}
                }
            ],
            "execution_count": 51
        },
        {
            "cell_type": "code",
            "source": [
                "SELECT CONVERT(int,25.65) AS CONVERTT;"
            ],
            "metadata": {
                "language": "sql",
                "azdata_cell_guid": "db7590ea-a165-442e-83e2-169166f864c5"
            },
            "outputs": [
                {
                    "output_type": "display_data",
                    "data": {
                        "text/html": "(1 row affected)"
                    },
                    "metadata": {}
                },
                {
                    "output_type": "display_data",
                    "data": {
                        "text/html": "Total execution time: 00:00:00.002"
                    },
                    "metadata": {}
                },
                {
                    "output_type": "execute_result",
                    "execution_count": 54,
                    "data": {
                        "application/vnd.dataresource+json": {
                            "schema": {
                                "fields": [
                                    {
                                        "name": "CONVERTT"
                                    }
                                ]
                            },
                            "data": [
                                {
                                    "CONVERTT": "25"
                                }
                            ]
                        },
                        "text/html": "<table><tr><th>CONVERTT</th></tr><tr><td>25</td></tr></table>"
                    },
                    "metadata": {}
                }
            ],
            "execution_count": 54
        },
        {
            "cell_type": "code",
            "source": [
                "SELECT CURRENT_USER;"
            ],
            "metadata": {
                "language": "sql",
                "azdata_cell_guid": "8577105b-2723-4a7c-a2cf-8d27ffcdc5aa"
            },
            "outputs": [
                {
                    "output_type": "display_data",
                    "data": {
                        "text/html": "(1 row affected)"
                    },
                    "metadata": {}
                },
                {
                    "output_type": "display_data",
                    "data": {
                        "text/html": "Total execution time: 00:00:00.009"
                    },
                    "metadata": {}
                },
                {
                    "output_type": "execute_result",
                    "execution_count": 55,
                    "data": {
                        "application/vnd.dataresource+json": {
                            "schema": {
                                "fields": [
                                    {
                                        "name": "(No column name)"
                                    }
                                ]
                            },
                            "data": [
                                {
                                    "(No column name)": "dbo"
                                }
                            ]
                        },
                        "text/html": "<table><tr><th>(No column name)</th></tr><tr><td>dbo</td></tr></table>"
                    },
                    "metadata": {}
                }
            ],
            "execution_count": 55
        },
        {
            "cell_type": "code",
            "source": [
                "SELECT SESSION_USER;"
            ],
            "metadata": {
                "language": "sql",
                "azdata_cell_guid": "1531d718-4bfe-4ad9-b2fb-95dc575792fe"
            },
            "outputs": [
                {
                    "output_type": "display_data",
                    "data": {
                        "text/html": "(1 row affected)"
                    },
                    "metadata": {}
                },
                {
                    "output_type": "display_data",
                    "data": {
                        "text/html": "Total execution time: 00:00:00.004"
                    },
                    "metadata": {}
                },
                {
                    "output_type": "execute_result",
                    "execution_count": 56,
                    "data": {
                        "application/vnd.dataresource+json": {
                            "schema": {
                                "fields": [
                                    {
                                        "name": "(No column name)"
                                    }
                                ]
                            },
                            "data": [
                                {
                                    "(No column name)": "dbo"
                                }
                            ]
                        },
                        "text/html": "<table><tr><th>(No column name)</th></tr><tr><td>dbo</td></tr></table>"
                    },
                    "metadata": {}
                }
            ],
            "execution_count": 56
        },
        {
            "cell_type": "code",
            "source": [
                "SELECT SYSTEM_USER;"
            ],
            "metadata": {
                "language": "sql",
                "azdata_cell_guid": "49755c03-0e3d-4b9a-a69d-9412bf44e6e6"
            },
            "outputs": [
                {
                    "output_type": "display_data",
                    "data": {
                        "text/html": "(1 row affected)"
                    },
                    "metadata": {}
                },
                {
                    "output_type": "display_data",
                    "data": {
                        "text/html": "Total execution time: 00:00:00.014"
                    },
                    "metadata": {}
                },
                {
                    "output_type": "execute_result",
                    "execution_count": 57,
                    "data": {
                        "application/vnd.dataresource+json": {
                            "schema": {
                                "fields": [
                                    {
                                        "name": "(No column name)"
                                    }
                                ]
                            },
                            "data": [
                                {
                                    "(No column name)": "ARIVARASAN\\aaras"
                                }
                            ]
                        },
                        "text/html": "<table><tr><th>(No column name)</th></tr><tr><td>ARIVARASAN\\aaras</td></tr></table>"
                    },
                    "metadata": {}
                }
            ],
            "execution_count": 57
        },
        {
            "cell_type": "code",
            "source": [
                "SELECT USER_NAME();"
            ],
            "metadata": {
                "language": "sql",
                "azdata_cell_guid": "4fdaa3c7-3fc0-4c88-a140-fb9d03e3ef76"
            },
            "outputs": [
                {
                    "output_type": "display_data",
                    "data": {
                        "text/html": "(1 row affected)"
                    },
                    "metadata": {}
                },
                {
                    "output_type": "display_data",
                    "data": {
                        "text/html": "Total execution time: 00:00:00.004"
                    },
                    "metadata": {}
                },
                {
                    "output_type": "execute_result",
                    "execution_count": 59,
                    "data": {
                        "application/vnd.dataresource+json": {
                            "schema": {
                                "fields": [
                                    {
                                        "name": "(No column name)"
                                    }
                                ]
                            },
                            "data": [
                                {
                                    "(No column name)": "dbo"
                                }
                            ]
                        },
                        "text/html": "<table><tr><th>(No column name)</th></tr><tr><td>dbo</td></tr></table>"
                    },
                    "metadata": {}
                }
            ],
            "execution_count": 59
        },
        {
            "cell_type": "markdown",
            "source": [
                "USER DEFINED FUNCTION;\n",
                "\n",
                "       \\* INLINE TABLE VALUED FUNCTION\n",
                "\n",
                "       \\*SCALAR FUNCTIONS\n",
                "\n",
                "       \\*MULTI-STATEMENT TABLE\\_VALUED FUNCTION"
            ],
            "metadata": {
                "language": "sql",
                "azdata_cell_guid": "fcd78ef9-40b0-4253-897d-c3d2494366a6"
            },
            "attachments": {}
        },
        {
            "cell_type": "markdown",
            "source": [
                "INLINE TABLE VALUED FUNCTION;\n",
                "\n",
                "In SQL Server, an Inline **Table-valued function (ITVF)** is a user-defined function that returns a **table** as its result. Unlike a scalar function that returns a single scalar value, an Inline Table Valued Function returns a result set that can be used in a query just like a table. An Inline Table Valued Function is “inline” because its definition is part of a query, rather than being a standalone object.\n",
                "\n",
                "An ITVF is defined using the CREATE FUNCTION statement with the RETURNS TABLE clause. The function can have one or more input parameters, and it must use a RETURN statement to return a table variable that defines the structure of the result set.\n",
                "\n",
                "### Syntax:\n",
                "\n",
                "#### Creating  Function :\n",
                "\n",
                "> CREATE FUNCTION \\[schema\\_name.\\]function\\_\n",
                "> \n",
                "> name(\\[@parameter\\_name\\] \\[data\\_type\\])\n",
                "> \n",
                "> RETURNS TABLE\n",
                "> \n",
                "> AS\n",
                "> \n",
                "> RETURN\n",
                "> \n",
                "> (\n",
                "> \n",
                ">    SELECT column1, column2, …\n",
                "> \n",
                ">    FROM table\\_name\n",
                "> \n",
                ">    WHERE condition\n",
                "> \n",
                "> )\n",
                "> \n",
                "> #### Update/Alter Function:\n",
                "> \n",
                "> > ALTER FUNCTION \\[schema\\_name.\\]function\n",
                "> > \n",
                "> > \\_name(\\[@parameter\\_name\\] \\[data\\_type\\])\n",
                "> > \n",
                "> > RETURNS TABLE\n",
                "> > \n",
                "> > AS\n",
                "> > \n",
                "> > RETURN\n",
                "> > \n",
                "> > (\n",
                "> > \n",
                "> >    SELECT column1, column2, …\n",
                "> > \n",
                "> >    FROM table\\_name\n",
                "> > \n",
                "> >    WHERE condition\n",
                "> > \n",
                "> > )"
            ],
            "metadata": {
                "language": "sql",
                "azdata_cell_guid": "61b2f408-9771-494b-921c-52cf43dc7031"
            },
            "attachments": {}
        },
        {
            "cell_type": "code",
            "source": [
                "CREATE FUNCTION FN_EMPLOYEESBYJOB (@JOB VARCHAR(15))\r\n",
                "RETURNS TABLE\r\n",
                "AS\r\n",
                "RETURN(SELECT EID,ENAME,SAL \r\n",
                "       FROM EMPLOYE_DETAILS\r\n",
                "       WHERE JOB=@JOB);"
            ],
            "metadata": {
                "language": "sql",
                "azdata_cell_guid": "821adccb-d361-47ff-b150-ae07e52ab629"
            },
            "outputs": [
                {
                    "output_type": "display_data",
                    "data": {
                        "text/html": "Commands completed successfully."
                    },
                    "metadata": {}
                },
                {
                    "output_type": "display_data",
                    "data": {
                        "text/html": "Total execution time: 00:00:00.017"
                    },
                    "metadata": {}
                }
            ],
            "execution_count": 69
        },
        {
            "cell_type": "code",
            "source": [
                "SELECT *\r\n",
                "FROM FN_EMPLOYEESBYJOB ('WEB DEVELOPER');"
            ],
            "metadata": {
                "language": "sql",
                "azdata_cell_guid": "c0c973d0-cdaa-46f0-b4f0-be18b6b5127e"
            },
            "outputs": [
                {
                    "output_type": "display_data",
                    "data": {
                        "text/html": "(5 rows affected)"
                    },
                    "metadata": {}
                },
                {
                    "output_type": "display_data",
                    "data": {
                        "text/html": "Total execution time: 00:00:00.014"
                    },
                    "metadata": {}
                },
                {
                    "output_type": "execute_result",
                    "execution_count": 70,
                    "data": {
                        "application/vnd.dataresource+json": {
                            "schema": {
                                "fields": [
                                    {
                                        "name": "EID"
                                    },
                                    {
                                        "name": "ENAME"
                                    },
                                    {
                                        "name": "SAL"
                                    }
                                ]
                            },
                            "data": [
                                {
                                    "EID": "1245",
                                    "ENAME": "VIJAY",
                                    "SAL": "25000"
                                },
                                {
                                    "EID": "1721",
                                    "ENAME": "ARUN",
                                    "SAL": "35000"
                                },
                                {
                                    "EID": "2121",
                                    "ENAME": "SANTHOSH",
                                    "SAL": "25000"
                                },
                                {
                                    "EID": "3245",
                                    "ENAME": "MUTHU",
                                    "SAL": "25000"
                                },
                                {
                                    "EID": "5245",
                                    "ENAME": "DEEPAK",
                                    "SAL": "25000"
                                }
                            ]
                        },
                        "text/html": "<table><tr><th>EID</th><th>ENAME</th><th>SAL</th></tr><tr><td>1245</td><td>VIJAY</td><td>25000</td></tr><tr><td>1721</td><td>ARUN</td><td>35000</td></tr><tr><td>2121</td><td>SANTHOSH</td><td>25000</td></tr><tr><td>3245</td><td>MUTHU</td><td>25000</td></tr><tr><td>5245</td><td>DEEPAK</td><td>25000</td></tr></table>"
                    },
                    "metadata": {}
                }
            ],
            "execution_count": 70
        },
        {
            "cell_type": "markdown",
            "source": [
                "MULTI-STATEMENT TABLE-VALUED FUNCTION;\n",
                "\n",
                "In SQL Server, a **multi-statement** **table-valued function (TVF)** is a user-defined function that returns a table of rows and columns. Unlike a scalar function, which returns a single value, a TVF can return multiple rows and columns. \n",
                "\n",
                "Multi-statement  function is very much similar to inline functions only difference is that in multi-statement function we need to define the structure of the table  and also having the Begin and End block. \n",
                "\n",
                "#### Syntax:\n",
                "\n",
                "> CREATE FUNCTION function\\_name (@parameter\\_name data\\_type)\n",
                "> \n",
                "> RETURNS @table\\_variable\\_name TABLE (column1 data\\_type, column2 data\\_type, …)\n",
                "> \n",
                "> > AS\n",
                "> > \n",
                "> > BEGIN\n",
                "> > \n",
                "> >    — function body (contains multiple statements)\n",
                "> > \n",
                "> >    RETURN\n",
                "> > \n",
                "> > END\n",
                "> \n",
                "> #### Update/Alter Syntax:\n",
                "> \n",
                "> > ALTER FUNCTION function\\_name (@parameter\\_name data\\_type)\n",
                "> > \n",
                "> > RETURNS @table\\_variable\\_name TABLE (column1 data\\_type, column2 data\\_type, …)\n",
                "> > \n",
                "> > AS\n",
                "> > \n",
                "> > BEGIN\n",
                "> > \n",
                "> >    — function body (contains multiple statements)\n",
                "> > \n",
                "> >    RETURN\n",
                "> > \n",
                "> > END"
            ],
            "metadata": {
                "language": "sql",
                "azdata_cell_guid": "18c9dbf8-69b1-405a-b8ff-4337ebed5d02"
            },
            "attachments": {}
        },
        {
            "cell_type": "code",
            "source": [
                "CREATE FUNCTION FN_MSTV()\r\n",
                "RETURNS @TABLE TABLE(EID NUMERIC(4),ENAME VARCHAR(15),SAL NUMERIC(10))\r\n",
                "AS\r\n",
                "BEGIN\r\n",
                "INSERT INTO @TABLE\r\n",
                "SELECT EID,ENAME,SAL \r\n",
                "FROM EMPLOYE_DETAILS\r\n",
                "RETURN\r\n",
                "END;"
            ],
            "metadata": {
                "language": "sql",
                "azdata_cell_guid": "ef1bf0e7-ddc7-46ea-98f5-844dc52c9549"
            },
            "outputs": [
                {
                    "output_type": "display_data",
                    "data": {
                        "text/html": "Commands completed successfully."
                    },
                    "metadata": {}
                },
                {
                    "output_type": "display_data",
                    "data": {
                        "text/html": "Total execution time: 00:00:00.023"
                    },
                    "metadata": {}
                }
            ],
            "execution_count": 72
        },
        {
            "cell_type": "code",
            "source": [
                "SELECT *\r\n",
                "FROM FN_MSTV();"
            ],
            "metadata": {
                "language": "sql",
                "azdata_cell_guid": "7ef6cb36-b5c6-4ca8-a8c1-9352999cf850"
            },
            "outputs": [
                {
                    "output_type": "display_data",
                    "data": {
                        "text/html": "(14 rows affected)"
                    },
                    "metadata": {}
                },
                {
                    "output_type": "display_data",
                    "data": {
                        "text/html": "Total execution time: 00:00:00.033"
                    },
                    "metadata": {}
                },
                {
                    "output_type": "execute_result",
                    "execution_count": 74,
                    "data": {
                        "application/vnd.dataresource+json": {
                            "schema": {
                                "fields": [
                                    {
                                        "name": "EID"
                                    },
                                    {
                                        "name": "ENAME"
                                    },
                                    {
                                        "name": "SAL"
                                    }
                                ]
                            },
                            "data": [
                                {
                                    "EID": "1212",
                                    "ENAME": "VICKY",
                                    "SAL": "45000"
                                },
                                {
                                    "EID": "1245",
                                    "ENAME": "VIJAY",
                                    "SAL": "25000"
                                },
                                {
                                    "EID": "1721",
                                    "ENAME": "ARUN",
                                    "SAL": "35000"
                                },
                                {
                                    "EID": "1762",
                                    "ENAME": "AJAY",
                                    "SAL": "45000"
                                },
                                {
                                    "EID": "1832",
                                    "ENAME": "SURYA",
                                    "SAL": "25000"
                                },
                                {
                                    "EID": "2121",
                                    "ENAME": "SANTHOSH",
                                    "SAL": "25000"
                                },
                                {
                                    "EID": "2212",
                                    "ENAME": "JEEVA",
                                    "SAL": "30000"
                                },
                                {
                                    "EID": "3245",
                                    "ENAME": "MUTHU",
                                    "SAL": "25000"
                                },
                                {
                                    "EID": "3762",
                                    "ENAME": "TAMIL",
                                    "SAL": "25000"
                                },
                                {
                                    "EID": "3832",
                                    "ENAME": "SANJAY",
                                    "SAL": "12000"
                                },
                                {
                                    "EID": "4212",
                                    "ENAME": "PREM KUMAR",
                                    "SAL": "40000"
                                },
                                {
                                    "EID": "4762",
                                    "ENAME": "CHANDRAN",
                                    "SAL": "45000"
                                },
                                {
                                    "EID": "4832",
                                    "ENAME": "SHANKAR",
                                    "SAL": "20000"
                                },
                                {
                                    "EID": "5245",
                                    "ENAME": "DEEPAK",
                                    "SAL": "25000"
                                }
                            ]
                        },
                        "text/html": "<table><tr><th>EID</th><th>ENAME</th><th>SAL</th></tr><tr><td>1212</td><td>VICKY</td><td>45000</td></tr><tr><td>1245</td><td>VIJAY</td><td>25000</td></tr><tr><td>1721</td><td>ARUN</td><td>35000</td></tr><tr><td>1762</td><td>AJAY</td><td>45000</td></tr><tr><td>1832</td><td>SURYA</td><td>25000</td></tr><tr><td>2121</td><td>SANTHOSH</td><td>25000</td></tr><tr><td>2212</td><td>JEEVA</td><td>30000</td></tr><tr><td>3245</td><td>MUTHU</td><td>25000</td></tr><tr><td>3762</td><td>TAMIL</td><td>25000</td></tr><tr><td>3832</td><td>SANJAY</td><td>12000</td></tr><tr><td>4212</td><td>PREM KUMAR</td><td>40000</td></tr><tr><td>4762</td><td>CHANDRAN</td><td>45000</td></tr><tr><td>4832</td><td>SHANKAR</td><td>20000</td></tr><tr><td>5245</td><td>DEEPAK</td><td>25000</td></tr></table>"
                    },
                    "metadata": {}
                }
            ],
            "execution_count": 74
        },
        {
            "cell_type": "markdown",
            "source": [
                "SCALAR FUNCTION;\n",
                "\n",
                "<span style=\"color: rgb(32, 33, 36); font-family: &quot;Google Sans&quot;, arial, sans-serif; font-size: 20px; background-color: rgb(255, 255, 255);\">An SQL scalar function is&nbsp;</span> <span style=\"background-color: rgba(80, 151, 255, 0.18); color: rgb(4, 12, 40); font-family: &quot;Google Sans&quot;, arial, sans-serif; font-size: 20px;\">a user-defined function written in SQL and it returns a single value each time it is invoked</span><span style=\"color: rgb(32, 33, 36); font-family: &quot;Google Sans&quot;, arial, sans-serif; font-size: 20px; background-color: rgb(255, 255, 255);\">. SQL scalar functions contain the source code for the user-defined function in the user-defined function definition.</span>"
            ],
            "metadata": {
                "language": "sql",
                "azdata_cell_guid": "79c26db5-b044-476b-9250-a949cdb75726"
            },
            "attachments": {}
        },
        {
            "cell_type": "code",
            "source": [
                "CREATE FUNCTION SCALAR_FN1()\r\n",
                "RETURNS  NUMERIC(4)\r\n",
                "AS\r\n",
                "BEGIN\r\n",
                "DECLARE @EID NUMERIC(4)\r\n",
                "SELECT TOP 1 @EID=EID\r\n",
                "FROM EMPLOYE_DETAILS\r\n",
                "RETURN @EID\r\n",
                "END;"
            ],
            "metadata": {
                "language": "sql",
                "azdata_cell_guid": "0cdaf043-4156-4896-9322-791edb61f7ee"
            },
            "outputs": [
                {
                    "output_type": "display_data",
                    "data": {
                        "text/html": "Commands completed successfully."
                    },
                    "metadata": {}
                },
                {
                    "output_type": "display_data",
                    "data": {
                        "text/html": "Total execution time: 00:00:00.003"
                    },
                    "metadata": {}
                }
            ],
            "execution_count": 91
        },
        {
            "cell_type": "code",
            "source": [
                "SELECT DBO.SCALAR_FN1();\r\n",
                "-- NOTE;SQL Server scalar user defined functions must be called with 2 part names. You need to write as username before function.\r\n",
                "-- So if your function name is \"function1\" and is defined in the dbo schema, then instead of\r\n",
                "-- \"select function1()\" you should call it as \"select dbo.function1()\""
            ],
            "metadata": {
                "language": "sql",
                "azdata_cell_guid": "cf880788-b288-48f1-8460-570532111ad4"
            },
            "outputs": [
                {
                    "output_type": "display_data",
                    "data": {
                        "text/html": "(1 row affected)"
                    },
                    "metadata": {}
                },
                {
                    "output_type": "display_data",
                    "data": {
                        "text/html": "Total execution time: 00:00:00.016"
                    },
                    "metadata": {}
                },
                {
                    "output_type": "execute_result",
                    "execution_count": 3,
                    "data": {
                        "application/vnd.dataresource+json": {
                            "schema": {
                                "fields": [
                                    {
                                        "name": "(No column name)"
                                    }
                                ]
                            },
                            "data": [
                                {
                                    "(No column name)": "1212"
                                }
                            ]
                        },
                        "text/html": "<table><tr><th>(No column name)</th></tr><tr><td>1212</td></tr></table>"
                    },
                    "metadata": {}
                }
            ],
            "execution_count": 3
        },
        {
            "cell_type": "markdown",
            "source": [
                "10/08/2023\n",
                "\n",
                "STRING FUNCTIONS;"
            ],
            "metadata": {
                "azdata_cell_guid": "32d8d2e4-0c45-415c-80b3-d29379198dfc"
            },
            "attachments": {}
        },
        {
            "cell_type": "markdown",
            "source": [
                "1.ASCII(); Returns the Ascii value of first Character"
            ],
            "metadata": {
                "azdata_cell_guid": "808bbcf4-6448-44a3-a11d-383dee2d3892"
            },
            "attachments": {}
        },
        {
            "cell_type": "code",
            "source": [
                "SELECT ASCII(ENAME) AS ASCII_VALUE\r\n",
                "FROM EMPLOYE_DETAILS;"
            ],
            "metadata": {
                "azdata_cell_guid": "49172f8d-51f6-4afd-8475-5835c05674e4",
                "language": "sql"
            },
            "outputs": [
                {
                    "output_type": "display_data",
                    "data": {
                        "text/html": "(14 rows affected)"
                    },
                    "metadata": {}
                },
                {
                    "output_type": "display_data",
                    "data": {
                        "text/html": "Total execution time: 00:00:00.059"
                    },
                    "metadata": {}
                },
                {
                    "output_type": "execute_result",
                    "execution_count": 1,
                    "data": {
                        "application/vnd.dataresource+json": {
                            "schema": {
                                "fields": [
                                    {
                                        "name": "ASCII_VALUE"
                                    }
                                ]
                            },
                            "data": [
                                {
                                    "ASCII_VALUE": "86"
                                },
                                {
                                    "ASCII_VALUE": "86"
                                },
                                {
                                    "ASCII_VALUE": "65"
                                },
                                {
                                    "ASCII_VALUE": "65"
                                },
                                {
                                    "ASCII_VALUE": "83"
                                },
                                {
                                    "ASCII_VALUE": "83"
                                },
                                {
                                    "ASCII_VALUE": "74"
                                },
                                {
                                    "ASCII_VALUE": "77"
                                },
                                {
                                    "ASCII_VALUE": "84"
                                },
                                {
                                    "ASCII_VALUE": "83"
                                },
                                {
                                    "ASCII_VALUE": "80"
                                },
                                {
                                    "ASCII_VALUE": "67"
                                },
                                {
                                    "ASCII_VALUE": "83"
                                },
                                {
                                    "ASCII_VALUE": "68"
                                }
                            ]
                        },
                        "text/html": "<table><tr><th>ASCII_VALUE</th></tr><tr><td>86</td></tr><tr><td>86</td></tr><tr><td>65</td></tr><tr><td>65</td></tr><tr><td>83</td></tr><tr><td>83</td></tr><tr><td>74</td></tr><tr><td>77</td></tr><tr><td>84</td></tr><tr><td>83</td></tr><tr><td>80</td></tr><tr><td>67</td></tr><tr><td>83</td></tr><tr><td>68</td></tr></table>"
                    },
                    "metadata": {}
                }
            ],
            "execution_count": 1
        },
        {
            "cell_type": "markdown",
            "source": [
                "2.CHAR( ); IT Returns the character based on the ascii code"
            ],
            "metadata": {
                "language": "sql",
                "azdata_cell_guid": "fc8e4f7f-dafd-4d25-8c58-35b0490c1ec0"
            },
            "attachments": {}
        },
        {
            "cell_type": "code",
            "source": [
                "SELECT CHAR(69) AS CHARACTERR;"
            ],
            "metadata": {
                "language": "sql",
                "azdata_cell_guid": "d74bb278-99b7-4cd3-ac1a-22b963f4fee8"
            },
            "outputs": [
                {
                    "output_type": "display_data",
                    "data": {
                        "text/html": "(1 row affected)"
                    },
                    "metadata": {}
                },
                {
                    "output_type": "display_data",
                    "data": {
                        "text/html": "Total execution time: 00:00:00.005"
                    },
                    "metadata": {}
                },
                {
                    "output_type": "execute_result",
                    "execution_count": 4,
                    "data": {
                        "application/vnd.dataresource+json": {
                            "schema": {
                                "fields": [
                                    {
                                        "name": "CHARACTERR"
                                    }
                                ]
                            },
                            "data": [
                                {
                                    "CHARACTERR": "E"
                                }
                            ]
                        },
                        "text/html": "<table><tr><th>CHARACTERR</th></tr><tr><td>E</td></tr></table>"
                    },
                    "metadata": {}
                }
            ],
            "execution_count": 4
        },
        {
            "cell_type": "markdown",
            "source": [
                "3.CHARINDEX( );\n",
                "\n",
                "      <span style=\"background-color: rgb(255, 255, 255); color: rgb(0, 0, 0); font-family: Verdana, sans-serif; font-size: 15px;\">The CHARINDEX() function searches for a substring in a string, and returns the position.</span>\n",
                "\n",
                "If the substring is not found, this function returns 0.\n",
                "\n",
                "Note: This function performs a case-insensitive search."
            ],
            "metadata": {
                "language": "sql",
                "azdata_cell_guid": "43458922-39b9-49de-90be-846db0c6bbe5"
            },
            "attachments": {}
        },
        {
            "cell_type": "code",
            "source": [
                "SELECT CHARINDEX('D','FRIENDS');"
            ],
            "metadata": {
                "language": "sql",
                "azdata_cell_guid": "35b474c6-3dba-4ad2-a1f4-79e5f1271d96"
            },
            "outputs": [
                {
                    "output_type": "display_data",
                    "data": {
                        "text/html": "(1 row affected)"
                    },
                    "metadata": {}
                },
                {
                    "output_type": "display_data",
                    "data": {
                        "text/html": "Total execution time: 00:00:00.005"
                    },
                    "metadata": {}
                },
                {
                    "output_type": "execute_result",
                    "execution_count": 5,
                    "data": {
                        "application/vnd.dataresource+json": {
                            "schema": {
                                "fields": [
                                    {
                                        "name": "(No column name)"
                                    }
                                ]
                            },
                            "data": [
                                {
                                    "(No column name)": "6"
                                }
                            ]
                        },
                        "text/html": "<table><tr><th>(No column name)</th></tr><tr><td>6</td></tr></table>"
                    },
                    "metadata": {}
                }
            ],
            "execution_count": 5
        },
        {
            "cell_type": "markdown",
            "source": [
                "4.CONCAT( );  <span style=\"color: rgb(0, 0, 0); font-family: Verdana, sans-serif; font-size: 15px; background-color: rgb(255, 255, 255);\">The CONCAT() function adds two or more strings together.</span>"
            ],
            "metadata": {
                "language": "sql",
                "azdata_cell_guid": "b2564dda-746d-4fc8-a988-d9bf69b57f44"
            },
            "attachments": {}
        },
        {
            "cell_type": "code",
            "source": [
                "SELECT CONCAT('SQL',' ','SERVER');"
            ],
            "metadata": {
                "language": "sql",
                "azdata_cell_guid": "184e84b3-3a4b-4a12-90e7-e253a55431a8"
            },
            "outputs": [
                {
                    "output_type": "display_data",
                    "data": {
                        "text/html": "(1 row affected)"
                    },
                    "metadata": {}
                },
                {
                    "output_type": "display_data",
                    "data": {
                        "text/html": "Total execution time: 00:00:00.006"
                    },
                    "metadata": {}
                },
                {
                    "output_type": "execute_result",
                    "execution_count": 8,
                    "data": {
                        "application/vnd.dataresource+json": {
                            "schema": {
                                "fields": [
                                    {
                                        "name": "(No column name)"
                                    }
                                ]
                            },
                            "data": [
                                {
                                    "(No column name)": "SQL SERVER"
                                }
                            ]
                        },
                        "text/html": "<table><tr><th>(No column name)</th></tr><tr><td>SQL SERVER</td></tr></table>"
                    },
                    "metadata": {}
                }
            ],
            "execution_count": 8
        },
        {
            "cell_type": "markdown",
            "source": [
                "5.CONCAT( );\n",
                "\n",
                "<span style=\"color: rgb(0, 0, 0); font-family: Verdana, sans-serif; font-size: 15px; background-color: rgb(255, 255, 255);\">The CONCAT_WS() function adds two or more strings together with a separator.</span>"
            ],
            "metadata": {
                "language": "sql",
                "azdata_cell_guid": "fdd84cc3-71e4-4c5d-9db0-101b223b4d2c"
            },
            "attachments": {}
        },
        {
            "cell_type": "code",
            "source": [
                "SELECT CONCAT_WS(' ','OUTER','JOIN');\r\n",
                "-- FIRST WORD IS SEPARATOR"
            ],
            "metadata": {
                "language": "sql",
                "azdata_cell_guid": "fc00c23f-c664-41c0-a10b-38c33b3e31ee"
            },
            "outputs": [
                {
                    "output_type": "display_data",
                    "data": {
                        "text/html": "(1 row affected)"
                    },
                    "metadata": {}
                },
                {
                    "output_type": "display_data",
                    "data": {
                        "text/html": "Total execution time: 00:00:00.008"
                    },
                    "metadata": {}
                },
                {
                    "output_type": "execute_result",
                    "execution_count": 10,
                    "data": {
                        "application/vnd.dataresource+json": {
                            "schema": {
                                "fields": [
                                    {
                                        "name": "(No column name)"
                                    }
                                ]
                            },
                            "data": [
                                {
                                    "(No column name)": "OUTER JOIN"
                                }
                            ]
                        },
                        "text/html": "<table><tr><th>(No column name)</th></tr><tr><td>OUTER JOIN</td></tr></table>"
                    },
                    "metadata": {}
                }
            ],
            "execution_count": 10
        },
        {
            "cell_type": "markdown",
            "source": [
                "6.LEFT( );\n",
                "\n",
                "<span style=\"color: rgb(0, 0, 0); font-family: Verdana, sans-serif; font-size: 15px; background-color: rgb(255, 255, 255);\">The LEFT() function extracts a number of characters from a string (starting from left).</span>"
            ],
            "metadata": {
                "language": "sql",
                "azdata_cell_guid": "f312e14a-a7dc-4c81-86cb-62dca4c980a7"
            },
            "attachments": {}
        },
        {
            "cell_type": "code",
            "source": [
                "SELECT LEFT('TAMIL NADU',6);"
            ],
            "metadata": {
                "language": "sql",
                "azdata_cell_guid": "6ba625d8-d062-4937-bbe2-fcdd9d1a4f0f"
            },
            "outputs": [
                {
                    "output_type": "display_data",
                    "data": {
                        "text/html": "(1 row affected)"
                    },
                    "metadata": {}
                },
                {
                    "output_type": "display_data",
                    "data": {
                        "text/html": "Total execution time: 00:00:00.040"
                    },
                    "metadata": {}
                },
                {
                    "output_type": "execute_result",
                    "execution_count": 13,
                    "data": {
                        "application/vnd.dataresource+json": {
                            "schema": {
                                "fields": [
                                    {
                                        "name": "(No column name)"
                                    }
                                ]
                            },
                            "data": [
                                {
                                    "(No column name)": "TAMIL "
                                }
                            ]
                        },
                        "text/html": "<table><tr><th>(No column name)</th></tr><tr><td>TAMIL </td></tr></table>"
                    },
                    "metadata": {}
                }
            ],
            "execution_count": 13
        },
        {
            "cell_type": "markdown",
            "source": [
                "7.LEN( );\n",
                "\n",
                " RETURNS THE LENGTH OF THE STRING"
            ],
            "metadata": {
                "language": "sql",
                "azdata_cell_guid": "61012f3f-4b12-42f6-9d86-868d7da0ac16"
            },
            "attachments": {}
        },
        {
            "cell_type": "code",
            "source": [
                "SELECT LEN('GOPINATH');"
            ],
            "metadata": {
                "language": "sql",
                "azdata_cell_guid": "1a32db7e-214b-40d4-b18c-7cdd607ade76"
            },
            "outputs": [
                {
                    "output_type": "display_data",
                    "data": {
                        "text/html": "(1 row affected)"
                    },
                    "metadata": {}
                },
                {
                    "output_type": "display_data",
                    "data": {
                        "text/html": "Total execution time: 00:00:00.003"
                    },
                    "metadata": {}
                },
                {
                    "output_type": "execute_result",
                    "execution_count": 14,
                    "data": {
                        "application/vnd.dataresource+json": {
                            "schema": {
                                "fields": [
                                    {
                                        "name": "(No column name)"
                                    }
                                ]
                            },
                            "data": [
                                {
                                    "(No column name)": "8"
                                }
                            ]
                        },
                        "text/html": "<table><tr><th>(No column name)</th></tr><tr><td>8</td></tr></table>"
                    },
                    "metadata": {}
                }
            ],
            "execution_count": 14
        },
        {
            "cell_type": "markdown",
            "source": [
                "8.LOWER( );\n",
                "\n",
                "    Converts the text to lower case"
            ],
            "metadata": {
                "language": "sql",
                "azdata_cell_guid": "f6ec5176-712e-4ff3-a98f-2eaf2574f569"
            },
            "attachments": {}
        },
        {
            "cell_type": "code",
            "source": [
                "SELECT LOWER(ENAME)\r\n",
                "FROM EMPLOYE_DETAILS;"
            ],
            "metadata": {
                "language": "sql",
                "azdata_cell_guid": "2bc1f30c-5e20-40c4-84f7-0783f639d027"
            },
            "outputs": [
                {
                    "output_type": "display_data",
                    "data": {
                        "text/html": "(14 rows affected)"
                    },
                    "metadata": {}
                },
                {
                    "output_type": "display_data",
                    "data": {
                        "text/html": "Total execution time: 00:00:00.010"
                    },
                    "metadata": {}
                },
                {
                    "output_type": "execute_result",
                    "execution_count": 15,
                    "data": {
                        "application/vnd.dataresource+json": {
                            "schema": {
                                "fields": [
                                    {
                                        "name": "(No column name)"
                                    }
                                ]
                            },
                            "data": [
                                {
                                    "(No column name)": "vicky"
                                },
                                {
                                    "(No column name)": "vijay"
                                },
                                {
                                    "(No column name)": "arun"
                                },
                                {
                                    "(No column name)": "ajay"
                                },
                                {
                                    "(No column name)": "surya"
                                },
                                {
                                    "(No column name)": "santhosh"
                                },
                                {
                                    "(No column name)": "jeeva"
                                },
                                {
                                    "(No column name)": "muthu"
                                },
                                {
                                    "(No column name)": "tamil"
                                },
                                {
                                    "(No column name)": "sanjay"
                                },
                                {
                                    "(No column name)": "prem kumar"
                                },
                                {
                                    "(No column name)": "chandran"
                                },
                                {
                                    "(No column name)": "shankar"
                                },
                                {
                                    "(No column name)": "deepak"
                                }
                            ]
                        },
                        "text/html": "<table><tr><th>(No column name)</th></tr><tr><td>vicky</td></tr><tr><td>vijay</td></tr><tr><td>arun</td></tr><tr><td>ajay</td></tr><tr><td>surya</td></tr><tr><td>santhosh</td></tr><tr><td>jeeva</td></tr><tr><td>muthu</td></tr><tr><td>tamil</td></tr><tr><td>sanjay</td></tr><tr><td>prem kumar</td></tr><tr><td>chandran</td></tr><tr><td>shankar</td></tr><tr><td>deepak</td></tr></table>"
                    },
                    "metadata": {}
                }
            ],
            "execution_count": 15
        },
        {
            "cell_type": "markdown",
            "source": [
                "9.UPPER( );\n",
                "\n",
                "     CONVERTS THE TEXT TO LOWER CASE"
            ],
            "metadata": {
                "language": "sql",
                "azdata_cell_guid": "78e7c8d4-c1a1-4e48-b195-35d79ea7ee95"
            },
            "attachments": {}
        },
        {
            "cell_type": "code",
            "source": [
                "SELECT UPPER(ENAME)\r\n",
                "FROM EMPLOYE_DETAILS;"
            ],
            "metadata": {
                "language": "sql",
                "azdata_cell_guid": "f14e34de-b586-4b8c-95e7-32a7ef212fae"
            },
            "outputs": [
                {
                    "output_type": "display_data",
                    "data": {
                        "text/html": "(14 rows affected)"
                    },
                    "metadata": {}
                },
                {
                    "output_type": "display_data",
                    "data": {
                        "text/html": "Total execution time: 00:00:00.008"
                    },
                    "metadata": {}
                },
                {
                    "output_type": "execute_result",
                    "execution_count": 16,
                    "data": {
                        "application/vnd.dataresource+json": {
                            "schema": {
                                "fields": [
                                    {
                                        "name": "(No column name)"
                                    }
                                ]
                            },
                            "data": [
                                {
                                    "(No column name)": "VICKY"
                                },
                                {
                                    "(No column name)": "VIJAY"
                                },
                                {
                                    "(No column name)": "ARUN"
                                },
                                {
                                    "(No column name)": "AJAY"
                                },
                                {
                                    "(No column name)": "SURYA"
                                },
                                {
                                    "(No column name)": "SANTHOSH"
                                },
                                {
                                    "(No column name)": "JEEVA"
                                },
                                {
                                    "(No column name)": "MUTHU"
                                },
                                {
                                    "(No column name)": "TAMIL"
                                },
                                {
                                    "(No column name)": "SANJAY"
                                },
                                {
                                    "(No column name)": "PREM KUMAR"
                                },
                                {
                                    "(No column name)": "CHANDRAN"
                                },
                                {
                                    "(No column name)": "SHANKAR"
                                },
                                {
                                    "(No column name)": "DEEPAK"
                                }
                            ]
                        },
                        "text/html": "<table><tr><th>(No column name)</th></tr><tr><td>VICKY</td></tr><tr><td>VIJAY</td></tr><tr><td>ARUN</td></tr><tr><td>AJAY</td></tr><tr><td>SURYA</td></tr><tr><td>SANTHOSH</td></tr><tr><td>JEEVA</td></tr><tr><td>MUTHU</td></tr><tr><td>TAMIL</td></tr><tr><td>SANJAY</td></tr><tr><td>PREM KUMAR</td></tr><tr><td>CHANDRAN</td></tr><tr><td>SHANKAR</td></tr><tr><td>DEEPAK</td></tr></table>"
                    },
                    "metadata": {}
                }
            ],
            "execution_count": 16
        },
        {
            "cell_type": "markdown",
            "source": [
                "10.LTRIM( );\n",
                "\n",
                "    REMOVE THE LEADING SPACES FROM THE LEFT SIDE"
            ],
            "metadata": {
                "language": "sql",
                "azdata_cell_guid": "fdcbc4ea-aece-40f4-83d5-8ea11e131fee"
            },
            "attachments": {}
        },
        {
            "cell_type": "code",
            "source": [
                "SELECT LTRIM('      SQL TUTORIAL');"
            ],
            "metadata": {
                "language": "sql",
                "azdata_cell_guid": "e0319950-a3ba-41b9-9f31-f247239ac636"
            },
            "outputs": [
                {
                    "output_type": "display_data",
                    "data": {
                        "text/html": "(1 row affected)"
                    },
                    "metadata": {}
                },
                {
                    "output_type": "display_data",
                    "data": {
                        "text/html": "Total execution time: 00:00:00.006"
                    },
                    "metadata": {}
                },
                {
                    "output_type": "execute_result",
                    "execution_count": 17,
                    "data": {
                        "application/vnd.dataresource+json": {
                            "schema": {
                                "fields": [
                                    {
                                        "name": "(No column name)"
                                    }
                                ]
                            },
                            "data": [
                                {
                                    "(No column name)": "SQL TUTORIAL"
                                }
                            ]
                        },
                        "text/html": "<table><tr><th>(No column name)</th></tr><tr><td>SQL TUTORIAL</td></tr></table>"
                    },
                    "metadata": {}
                }
            ],
            "execution_count": 17
        },
        {
            "cell_type": "markdown",
            "source": [
                "11.RTRIM( );\n",
                "\n",
                "      REMOVE THE SPACES FROM THE RIGHT SIDE"
            ],
            "metadata": {
                "language": "sql",
                "azdata_cell_guid": "f6f2d4c5-5ab0-4fd7-a5d7-3a8e6783fbd0"
            },
            "attachments": {}
        },
        {
            "cell_type": "code",
            "source": [
                "SELECT RTRIM('SQL TUTORIAL      ')"
            ],
            "metadata": {
                "language": "sql",
                "azdata_cell_guid": "4bb70f7d-943d-41d2-835b-e58fbebde67f"
            },
            "outputs": [
                {
                    "output_type": "display_data",
                    "data": {
                        "text/html": "(1 row affected)"
                    },
                    "metadata": {}
                },
                {
                    "output_type": "display_data",
                    "data": {
                        "text/html": "Total execution time: 00:00:00.004"
                    },
                    "metadata": {}
                },
                {
                    "output_type": "execute_result",
                    "execution_count": 18,
                    "data": {
                        "application/vnd.dataresource+json": {
                            "schema": {
                                "fields": [
                                    {
                                        "name": "(No column name)"
                                    }
                                ]
                            },
                            "data": [
                                {
                                    "(No column name)": "SQL TUTORIAL"
                                }
                            ]
                        },
                        "text/html": "<table><tr><th>(No column name)</th></tr><tr><td>SQL TUTORIAL</td></tr></table>"
                    },
                    "metadata": {}
                }
            ],
            "execution_count": 18
        },
        {
            "cell_type": "markdown",
            "source": [
                "12.REPLACE( );\n",
                "\n",
                "        <span style=\"background-color: rgb(255, 255, 255); color: rgb(0, 0, 0); font-family: Verdana, sans-serif; font-size: 15px;\">The REPLACE() function replaces all occurrences of a substring within a string, with a new substring.</span>\n",
                "\n",
                "Note: The search is case-insensitive."
            ],
            "metadata": {
                "language": "sql",
                "azdata_cell_guid": "90e2a470-5d1d-4ee3-a124-ad3abcc3713b"
            },
            "attachments": {}
        },
        {
            "cell_type": "code",
            "source": [
                "SELECT REPLACE('TICKET','I','A');"
            ],
            "metadata": {
                "language": "sql",
                "azdata_cell_guid": "53c9b9fe-62c5-4de4-af1d-32119189275c"
            },
            "outputs": [
                {
                    "output_type": "display_data",
                    "data": {
                        "text/html": "(1 row affected)"
                    },
                    "metadata": {}
                },
                {
                    "output_type": "display_data",
                    "data": {
                        "text/html": "Total execution time: 00:00:00.008"
                    },
                    "metadata": {}
                },
                {
                    "output_type": "execute_result",
                    "execution_count": 19,
                    "data": {
                        "application/vnd.dataresource+json": {
                            "schema": {
                                "fields": [
                                    {
                                        "name": "(No column name)"
                                    }
                                ]
                            },
                            "data": [
                                {
                                    "(No column name)": "TACKET"
                                }
                            ]
                        },
                        "text/html": "<table><tr><th>(No column name)</th></tr><tr><td>TACKET</td></tr></table>"
                    },
                    "metadata": {}
                }
            ],
            "execution_count": 19
        },
        {
            "cell_type": "markdown",
            "source": [
                "13.REPLICATE( );\n",
                "\n",
                "        <span style=\"background-color: rgb(255, 255, 255); color: rgb(0, 0, 0); font-family: Verdana, sans-serif; font-size: 15px;\">The REPLICATE() function repeats a string a specified number of times.</span>"
            ],
            "metadata": {
                "language": "sql",
                "azdata_cell_guid": "23097dd8-5e2a-4e7f-95d5-dd8bcfa9a2e0"
            },
            "attachments": {}
        },
        {
            "cell_type": "code",
            "source": [
                "SELECT REPLICATE('CHENNAI ',4);"
            ],
            "metadata": {
                "language": "sql",
                "azdata_cell_guid": "9d886619-c43e-4fc1-9024-b2baeeace69c"
            },
            "outputs": [
                {
                    "output_type": "display_data",
                    "data": {
                        "text/html": "(1 row affected)"
                    },
                    "metadata": {}
                },
                {
                    "output_type": "display_data",
                    "data": {
                        "text/html": "Total execution time: 00:00:00.007"
                    },
                    "metadata": {}
                },
                {
                    "output_type": "execute_result",
                    "execution_count": 7,
                    "data": {
                        "application/vnd.dataresource+json": {
                            "schema": {
                                "fields": [
                                    {
                                        "name": "(No column name)"
                                    }
                                ]
                            },
                            "data": [
                                {
                                    "(No column name)": "CHENNAI CHENNAI CHENNAI CHENNAI "
                                }
                            ]
                        },
                        "text/html": "<table><tr><th>(No column name)</th></tr><tr><td>CHENNAI CHENNAI CHENNAI CHENNAI </td></tr></table>"
                    },
                    "metadata": {}
                }
            ],
            "execution_count": 7
        },
        {
            "cell_type": "markdown",
            "source": [
                "14.REVERSE;\n",
                "\n",
                "         <span style=\"background-color: rgb(255, 255, 255); color: rgb(0, 0, 0); font-family: Verdana, sans-serif; font-size: 15px;\">The REVERSE() function reverses a string and returns the result.</span>"
            ],
            "metadata": {
                "language": "sql",
                "azdata_cell_guid": "3eb05d7f-cf82-4cee-ac17-375f53da6c17"
            },
            "attachments": {}
        },
        {
            "cell_type": "code",
            "source": [
                "SELECT REVERSE('MANAGER');"
            ],
            "metadata": {
                "language": "sql",
                "azdata_cell_guid": "2ee77c7f-dc9c-43b3-a15d-487abf588905"
            },
            "outputs": [
                {
                    "output_type": "display_data",
                    "data": {
                        "text/html": "(1 row affected)"
                    },
                    "metadata": {}
                },
                {
                    "output_type": "display_data",
                    "data": {
                        "text/html": "Total execution time: 00:00:00.006"
                    },
                    "metadata": {}
                },
                {
                    "output_type": "execute_result",
                    "execution_count": 21,
                    "data": {
                        "application/vnd.dataresource+json": {
                            "schema": {
                                "fields": [
                                    {
                                        "name": "(No column name)"
                                    }
                                ]
                            },
                            "data": [
                                {
                                    "(No column name)": "REGANAM"
                                }
                            ]
                        },
                        "text/html": "<table><tr><th>(No column name)</th></tr><tr><td>REGANAM</td></tr></table>"
                    },
                    "metadata": {}
                }
            ],
            "execution_count": 21
        },
        {
            "cell_type": "markdown",
            "source": [
                "15.RIGHT ( );\n",
                "\n",
                "     <span style=\"background-color: rgb(255, 255, 255); color: rgb(0, 0, 0); font-family: Verdana, sans-serif; font-size: 15px;\">The RIGHT() function extracts a number of characters from a string (starting from right).</span>"
            ],
            "metadata": {
                "language": "sql",
                "azdata_cell_guid": "12efdf90-2b79-4253-9a5a-800f76ad4540"
            },
            "attachments": {}
        },
        {
            "cell_type": "code",
            "source": [
                "SELECT RIGHT('WEB DEVELOPER',6);"
            ],
            "metadata": {
                "language": "sql",
                "azdata_cell_guid": "2e529d06-960b-4790-a2b3-4028da905d2a"
            },
            "outputs": [
                {
                    "output_type": "display_data",
                    "data": {
                        "text/html": "(1 row affected)"
                    },
                    "metadata": {}
                },
                {
                    "output_type": "display_data",
                    "data": {
                        "text/html": "Total execution time: 00:00:00.007"
                    },
                    "metadata": {}
                },
                {
                    "output_type": "execute_result",
                    "execution_count": 23,
                    "data": {
                        "application/vnd.dataresource+json": {
                            "schema": {
                                "fields": [
                                    {
                                        "name": "(No column name)"
                                    }
                                ]
                            },
                            "data": [
                                {
                                    "(No column name)": "ELOPER"
                                }
                            ]
                        },
                        "text/html": "<table><tr><th>(No column name)</th></tr><tr><td>ELOPER</td></tr></table>"
                    },
                    "metadata": {}
                }
            ],
            "execution_count": 23
        },
        {
            "cell_type": "markdown",
            "source": [
                "16.STR( );<span style=\"color: rgb(0, 0, 0); font-family: Verdana, sans-serif; font-size: 15px; background-color: rgb(255, 255, 255);\">The STR() function returns a number as a string.</span>"
            ],
            "metadata": {
                "language": "sql",
                "azdata_cell_guid": "7c61a0ce-1f2e-42c7-8354-5bfd721c8393"
            },
            "attachments": {}
        },
        {
            "cell_type": "code",
            "source": [
                "SELECT STR(156);"
            ],
            "metadata": {
                "language": "sql",
                "azdata_cell_guid": "181bea41-03b2-4b20-aed5-768896531e87"
            },
            "outputs": [
                {
                    "output_type": "display_data",
                    "data": {
                        "text/html": "(1 row affected)"
                    },
                    "metadata": {}
                },
                {
                    "output_type": "display_data",
                    "data": {
                        "text/html": "Total execution time: 00:00:00.010"
                    },
                    "metadata": {}
                },
                {
                    "output_type": "execute_result",
                    "execution_count": 24,
                    "data": {
                        "application/vnd.dataresource+json": {
                            "schema": {
                                "fields": [
                                    {
                                        "name": "(No column name)"
                                    }
                                ]
                            },
                            "data": [
                                {
                                    "(No column name)": "       156"
                                }
                            ]
                        },
                        "text/html": "<table><tr><th>(No column name)</th></tr><tr><td>       156</td></tr></table>"
                    },
                    "metadata": {}
                }
            ],
            "execution_count": 24
        },
        {
            "cell_type": "markdown",
            "source": [
                "17.STUFF( );\n",
                "\n",
                "<span style=\"color: rgb(0, 0, 0); font-family: Verdana, sans-serif; font-size: 15px; background-color: rgb(255, 255, 255);\">The STUFF() function deletes a part of a string and then inserts another part into the string, starting at a specified position</span>\n",
                "\n",
                "<span style=\"color: rgb(0, 0, 0); font-family: Verdana, sans-serif; font-size: 15px; background-color: rgb(255, 255, 255);\">SYNTAX;</span>\n",
                "\n",
                "<span style=\"color: rgb(0, 0, 0); font-family: Consolas, Menlo, &quot;courier new&quot;, monospace; font-size: 15px; background-color: rgb(255, 255, 255);\">STUFF(</span>_string_<span style=\"color: rgb(0, 0, 0); font-family: Consolas, Menlo, &quot;courier new&quot;, monospace; font-size: 15px; background-color: rgb(255, 255, 255);\">,&nbsp;</span> _start_<span style=\"color: rgb(0, 0, 0); font-family: Consolas, Menlo, &quot;courier new&quot;, monospace; font-size: 15px; background-color: rgb(255, 255, 255);\">,&nbsp;</span> _length_<span style=\"color: rgb(0, 0, 0); font-family: Consolas, Menlo, &quot;courier new&quot;, monospace; font-size: 15px; background-color: rgb(255, 255, 255);\">,&nbsp;</span> _new\\_string_<span style=\"color: rgb(0, 0, 0); font-family: Consolas, Menlo, &quot;courier new&quot;, monospace; font-size: 15px; background-color: rgb(255, 255, 255);\">)</span><span style=\"color: rgb(0, 0, 0); font-family: Verdana, sans-serif; font-size: 15px; background-color: rgb(255, 255, 255);\"><br></span>"
            ],
            "metadata": {
                "language": "sql",
                "azdata_cell_guid": "895f7eb0-e4ff-421d-841a-167543540391"
            },
            "attachments": {}
        },
        {
            "cell_type": "code",
            "source": [
                "SELECT STUFF('WEB DEVELOPER',1,3,'JAVA');"
            ],
            "metadata": {
                "language": "sql",
                "azdata_cell_guid": "1bc1ff83-c7b7-46ec-9b03-22c0699cfa0d"
            },
            "outputs": [
                {
                    "output_type": "display_data",
                    "data": {
                        "text/html": "(1 row affected)"
                    },
                    "metadata": {}
                },
                {
                    "output_type": "display_data",
                    "data": {
                        "text/html": "Total execution time: 00:00:00.008"
                    },
                    "metadata": {}
                },
                {
                    "output_type": "execute_result",
                    "execution_count": 25,
                    "data": {
                        "application/vnd.dataresource+json": {
                            "schema": {
                                "fields": [
                                    {
                                        "name": "(No column name)"
                                    }
                                ]
                            },
                            "data": [
                                {
                                    "(No column name)": "JAVA DEVELOPER"
                                }
                            ]
                        },
                        "text/html": "<table><tr><th>(No column name)</th></tr><tr><td>JAVA DEVELOPER</td></tr></table>"
                    },
                    "metadata": {}
                }
            ],
            "execution_count": 25
        },
        {
            "cell_type": "markdown",
            "source": [
                "18.SUBSTRING( );\n",
                "\n",
                "     <span style=\"background-color: rgb(255, 255, 255); color: rgb(0, 0, 0); font-family: Verdana, sans-serif; font-size: 15px;\">The SUBSTRING() function extracts some characters from a string.</span>\n",
                "\n",
                "<span style=\"background-color: rgb(255, 255, 255); color: rgb(0, 0, 0); font-family: Verdana, sans-serif; font-size: 15px;\">SYNTAX;</span>\n",
                "\n",
                "<span style=\"color: rgb(0, 0, 0); font-family: Consolas, Menlo, &quot;courier new&quot;, monospace; font-size: 15px; background-color: rgb(255, 255, 255);\">SUBSTRING(</span>_string_<span style=\"color: rgb(0, 0, 0); font-family: Consolas, Menlo, &quot;courier new&quot;, monospace; font-size: 15px; background-color: rgb(255, 255, 255);\">,&nbsp;</span> _start_<span style=\"color: rgb(0, 0, 0); font-family: Consolas, Menlo, &quot;courier new&quot;, monospace; font-size: 15px; background-color: rgb(255, 255, 255);\">,&nbsp;</span> _length_<span style=\"color: rgb(0, 0, 0); font-family: Consolas, Menlo, &quot;courier new&quot;, monospace; font-size: 15px; background-color: rgb(255, 255, 255);\">)</span><span style=\"background-color: rgb(255, 255, 255); color: rgb(0, 0, 0); font-family: Verdana, sans-serif; font-size: 15px;\"><br></span>\n",
                "\n",
                "<span style=\"background-color: rgb(255, 255, 255); color: rgb(0, 0, 0); font-family: Verdana, sans-serif; font-size: 15px;\"><br></span>"
            ],
            "metadata": {
                "language": "sql",
                "azdata_cell_guid": "598f4519-57d7-4481-bc65-b45ec5b67c84"
            },
            "attachments": {}
        },
        {
            "cell_type": "code",
            "source": [
                "SELECT SUBSTRING('EMPLOYEE',3,1);"
            ],
            "metadata": {
                "language": "sql",
                "azdata_cell_guid": "ee9350e0-5629-4a52-8de8-cb752901442d"
            },
            "outputs": [
                {
                    "output_type": "display_data",
                    "data": {
                        "text/html": "(1 row affected)"
                    },
                    "metadata": {}
                },
                {
                    "output_type": "display_data",
                    "data": {
                        "text/html": "Total execution time: 00:00:00.002"
                    },
                    "metadata": {}
                },
                {
                    "output_type": "execute_result",
                    "execution_count": 26,
                    "data": {
                        "application/vnd.dataresource+json": {
                            "schema": {
                                "fields": [
                                    {
                                        "name": "(No column name)"
                                    }
                                ]
                            },
                            "data": [
                                {
                                    "(No column name)": "P"
                                }
                            ]
                        },
                        "text/html": "<table><tr><th>(No column name)</th></tr><tr><td>P</td></tr></table>"
                    },
                    "metadata": {}
                }
            ],
            "execution_count": 26
        },
        {
            "cell_type": "markdown",
            "source": [
                "TRANSLATE( );\n",
                "\n",
                "The TRANSLATE() function returns the string from the first argument after the characters specified in the second argument are translated into the characters specified in the third argument.\n",
                "\n",
                "Note: The TRANSLATE() function will return an error if _characters_ and _translations_ have different lengths."
            ],
            "metadata": {
                "language": "sql",
                "azdata_cell_guid": "0e4c99fa-f56a-4450-b8ae-9bfd1330c922"
            },
            "attachments": {}
        },
        {
            "cell_type": "code",
            "source": [
                "SELECT TRANSLATE('MONDAY','MONDAY','SUNDAY');"
            ],
            "metadata": {
                "language": "sql",
                "azdata_cell_guid": "cde4c8ba-c5dd-43ba-9390-81d51d67c14a"
            },
            "outputs": [
                {
                    "output_type": "display_data",
                    "data": {
                        "text/html": "(1 row affected)"
                    },
                    "metadata": {}
                },
                {
                    "output_type": "display_data",
                    "data": {
                        "text/html": "Total execution time: 00:00:00.007"
                    },
                    "metadata": {}
                },
                {
                    "output_type": "execute_result",
                    "execution_count": 27,
                    "data": {
                        "application/vnd.dataresource+json": {
                            "schema": {
                                "fields": [
                                    {
                                        "name": "(No column name)"
                                    }
                                ]
                            },
                            "data": [
                                {
                                    "(No column name)": "SUNDAY"
                                }
                            ]
                        },
                        "text/html": "<table><tr><th>(No column name)</th></tr><tr><td>SUNDAY</td></tr></table>"
                    },
                    "metadata": {}
                }
            ],
            "execution_count": 27
        },
        {
            "cell_type": "markdown",
            "source": [
                "UNICODE( );\n",
                "\n",
                "<span style=\"color: rgb(0, 0, 0); font-family: Verdana, sans-serif; font-size: 15px; background-color: rgb(255, 255, 255);\">The UNICODE() function returns an integer value (the Unicode value), for the first character of the input expression</span>"
            ],
            "metadata": {
                "language": "sql",
                "azdata_cell_guid": "840b106c-a339-484c-8abc-971e20fe86be"
            },
            "attachments": {}
        },
        {
            "cell_type": "code",
            "source": [
                "SELECT UNICODE('MATHS');"
            ],
            "metadata": {
                "language": "sql",
                "azdata_cell_guid": "ce667dfd-28c6-42c1-8b99-cf7162fc213a"
            },
            "outputs": [
                {
                    "output_type": "display_data",
                    "data": {
                        "text/html": "(1 row affected)"
                    },
                    "metadata": {}
                },
                {
                    "output_type": "display_data",
                    "data": {
                        "text/html": "Total execution time: 00:00:00.004"
                    },
                    "metadata": {}
                },
                {
                    "output_type": "execute_result",
                    "execution_count": 28,
                    "data": {
                        "application/vnd.dataresource+json": {
                            "schema": {
                                "fields": [
                                    {
                                        "name": "(No column name)"
                                    }
                                ]
                            },
                            "data": [
                                {
                                    "(No column name)": "77"
                                }
                            ]
                        },
                        "text/html": "<table><tr><th>(No column name)</th></tr><tr><td>77</td></tr></table>"
                    },
                    "metadata": {}
                }
            ],
            "execution_count": 28
        }
    ]
}